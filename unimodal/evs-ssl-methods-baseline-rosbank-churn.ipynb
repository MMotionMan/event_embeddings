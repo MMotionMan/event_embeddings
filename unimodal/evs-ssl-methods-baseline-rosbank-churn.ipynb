{
 "cells": [
  {
   "cell_type": "markdown",
   "metadata": {},
   "source": [
    "# Импортируем необходимые библиотеки"
   ]
  },
  {
   "cell_type": "code",
   "execution_count": 1,
   "metadata": {
    "collapsed": true,
    "execution": {
     "iopub.execute_input": "2025-03-08T11:04:29.281788Z",
     "iopub.status.busy": "2025-03-08T11:04:29.281484Z",
     "iopub.status.idle": "2025-03-08T11:04:46.594167Z",
     "shell.execute_reply": "2025-03-08T11:04:46.593335Z",
     "shell.execute_reply.started": "2025-03-08T11:04:29.281761Z"
    },
    "jupyter": {
     "outputs_hidden": true
    },
    "trusted": true
   },
   "outputs": [
    {
     "name": "stdout",
     "output_type": "stream",
     "text": [
      "Collecting pytorch-lifestream\n",
      "  Downloading pytorch-lifestream-0.6.0.tar.gz (163 kB)\n",
      "\u001b[2K     \u001b[90m━━━━━━━━━━━━━━━━━━━━━━━━━━━━━━━━━━━━━━━━\u001b[0m \u001b[32m163.4/163.4 kB\u001b[0m \u001b[31m5.0 MB/s\u001b[0m eta \u001b[36m0:00:00\u001b[0m\n",
      "\u001b[?25h  Installing build dependencies ... \u001b[?25l\u001b[?25hdone\n",
      "  Getting requirements to build wheel ... \u001b[?25l\u001b[?25hdone\n",
      "  Preparing metadata (pyproject.toml) ... \u001b[?25l\u001b[?25hdone\n",
      "Requirement already satisfied: duckdb in /usr/local/lib/python3.10/dist-packages (from pytorch-lifestream) (1.1.3)\n",
      "Collecting hydra-core>=1.1.2 (from pytorch-lifestream)\n",
      "  Downloading hydra_core-1.3.2-py3-none-any.whl.metadata (5.5 kB)\n",
      "Requirement already satisfied: numpy>=1.21.5 in /usr/local/lib/python3.10/dist-packages (from pytorch-lifestream) (1.26.4)\n",
      "Requirement already satisfied: omegaconf in /usr/local/lib/python3.10/dist-packages (from pytorch-lifestream) (2.3.0)\n",
      "Requirement already satisfied: pandas>=1.3.5 in /usr/local/lib/python3.10/dist-packages (from pytorch-lifestream) (2.2.3)\n",
      "Requirement already satisfied: pyarrow>=6.0.1 in /usr/local/lib/python3.10/dist-packages (from pytorch-lifestream) (19.0.0)\n",
      "Requirement already satisfied: pytorch-lightning>=1.6.0 in /usr/local/lib/python3.10/dist-packages (from pytorch-lifestream) (2.5.0.post0)\n",
      "Requirement already satisfied: scikit-learn>=1.0.2 in /usr/local/lib/python3.10/dist-packages (from pytorch-lifestream) (1.2.2)\n",
      "Requirement already satisfied: torch>=1.12.0 in /usr/local/lib/python3.10/dist-packages (from pytorch-lifestream) (2.5.1+cu121)\n",
      "Requirement already satisfied: torchmetrics>=0.9.0 in /usr/local/lib/python3.10/dist-packages (from pytorch-lifestream) (1.6.1)\n",
      "Requirement already satisfied: transformers in /usr/local/lib/python3.10/dist-packages (from pytorch-lifestream) (4.47.0)\n",
      "Requirement already satisfied: antlr4-python3-runtime==4.9.* in /usr/local/lib/python3.10/dist-packages (from hydra-core>=1.1.2->pytorch-lifestream) (4.9.3)\n",
      "Requirement already satisfied: packaging in /usr/local/lib/python3.10/dist-packages (from hydra-core>=1.1.2->pytorch-lifestream) (24.2)\n",
      "Requirement already satisfied: mkl_fft in /usr/local/lib/python3.10/dist-packages (from numpy>=1.21.5->pytorch-lifestream) (1.3.8)\n",
      "Requirement already satisfied: mkl_random in /usr/local/lib/python3.10/dist-packages (from numpy>=1.21.5->pytorch-lifestream) (1.2.4)\n",
      "Requirement already satisfied: mkl_umath in /usr/local/lib/python3.10/dist-packages (from numpy>=1.21.5->pytorch-lifestream) (0.1.1)\n",
      "Requirement already satisfied: mkl in /usr/local/lib/python3.10/dist-packages (from numpy>=1.21.5->pytorch-lifestream) (2025.0.1)\n",
      "Requirement already satisfied: tbb4py in /usr/local/lib/python3.10/dist-packages (from numpy>=1.21.5->pytorch-lifestream) (2022.0.0)\n",
      "Requirement already satisfied: mkl-service in /usr/local/lib/python3.10/dist-packages (from numpy>=1.21.5->pytorch-lifestream) (2.4.1)\n",
      "Requirement already satisfied: PyYAML>=5.1.0 in /usr/local/lib/python3.10/dist-packages (from omegaconf->pytorch-lifestream) (6.0.2)\n",
      "Requirement already satisfied: python-dateutil>=2.8.2 in /usr/local/lib/python3.10/dist-packages (from pandas>=1.3.5->pytorch-lifestream) (2.9.0.post0)\n",
      "Requirement already satisfied: pytz>=2020.1 in /usr/local/lib/python3.10/dist-packages (from pandas>=1.3.5->pytorch-lifestream) (2025.1)\n",
      "Requirement already satisfied: tzdata>=2022.7 in /usr/local/lib/python3.10/dist-packages (from pandas>=1.3.5->pytorch-lifestream) (2025.1)\n",
      "Requirement already satisfied: tqdm>=4.57.0 in /usr/local/lib/python3.10/dist-packages (from pytorch-lightning>=1.6.0->pytorch-lifestream) (4.67.1)\n",
      "Requirement already satisfied: fsspec>=2022.5.0 in /usr/local/lib/python3.10/dist-packages (from fsspec[http]>=2022.5.0->pytorch-lightning>=1.6.0->pytorch-lifestream) (2024.9.0)\n",
      "Requirement already satisfied: typing-extensions>=4.4.0 in /usr/local/lib/python3.10/dist-packages (from pytorch-lightning>=1.6.0->pytorch-lifestream) (4.12.2)\n",
      "Requirement already satisfied: lightning-utilities>=0.10.0 in /usr/local/lib/python3.10/dist-packages (from pytorch-lightning>=1.6.0->pytorch-lifestream) (0.12.0)\n",
      "Requirement already satisfied: scipy>=1.3.2 in /usr/local/lib/python3.10/dist-packages (from scikit-learn>=1.0.2->pytorch-lifestream) (1.13.1)\n",
      "Requirement already satisfied: joblib>=1.1.1 in /usr/local/lib/python3.10/dist-packages (from scikit-learn>=1.0.2->pytorch-lifestream) (1.4.2)\n",
      "Requirement already satisfied: threadpoolctl>=2.0.0 in /usr/local/lib/python3.10/dist-packages (from scikit-learn>=1.0.2->pytorch-lifestream) (3.5.0)\n",
      "Requirement already satisfied: filelock in /usr/local/lib/python3.10/dist-packages (from torch>=1.12.0->pytorch-lifestream) (3.17.0)\n",
      "Requirement already satisfied: networkx in /usr/local/lib/python3.10/dist-packages (from torch>=1.12.0->pytorch-lifestream) (3.4.2)\n",
      "Requirement already satisfied: jinja2 in /usr/local/lib/python3.10/dist-packages (from torch>=1.12.0->pytorch-lifestream) (3.1.4)\n",
      "Requirement already satisfied: sympy==1.13.1 in /usr/local/lib/python3.10/dist-packages (from torch>=1.12.0->pytorch-lifestream) (1.13.1)\n",
      "Requirement already satisfied: mpmath<1.4,>=1.1.0 in /usr/local/lib/python3.10/dist-packages (from sympy==1.13.1->torch>=1.12.0->pytorch-lifestream) (1.3.0)\n",
      "Requirement already satisfied: huggingface-hub<1.0,>=0.24.0 in /usr/local/lib/python3.10/dist-packages (from transformers->pytorch-lifestream) (0.28.1)\n",
      "Requirement already satisfied: regex!=2019.12.17 in /usr/local/lib/python3.10/dist-packages (from transformers->pytorch-lifestream) (2024.11.6)\n",
      "Requirement already satisfied: requests in /usr/local/lib/python3.10/dist-packages (from transformers->pytorch-lifestream) (2.32.3)\n",
      "Requirement already satisfied: tokenizers<0.22,>=0.21 in /usr/local/lib/python3.10/dist-packages (from transformers->pytorch-lifestream) (0.21.0)\n",
      "Requirement already satisfied: safetensors>=0.4.1 in /usr/local/lib/python3.10/dist-packages (from transformers->pytorch-lifestream) (0.4.5)\n",
      "Requirement already satisfied: aiohttp!=4.0.0a0,!=4.0.0a1 in /usr/local/lib/python3.10/dist-packages (from fsspec[http]>=2022.5.0->pytorch-lightning>=1.6.0->pytorch-lifestream) (3.11.11)\n",
      "Requirement already satisfied: setuptools in /usr/local/lib/python3.10/dist-packages (from lightning-utilities>=0.10.0->pytorch-lightning>=1.6.0->pytorch-lifestream) (75.1.0)\n",
      "Requirement already satisfied: six>=1.5 in /usr/local/lib/python3.10/dist-packages (from python-dateutil>=2.8.2->pandas>=1.3.5->pytorch-lifestream) (1.17.0)\n",
      "Requirement already satisfied: MarkupSafe>=2.0 in /usr/local/lib/python3.10/dist-packages (from jinja2->torch>=1.12.0->pytorch-lifestream) (3.0.2)\n",
      "Requirement already satisfied: intel-openmp>=2024 in /usr/local/lib/python3.10/dist-packages (from mkl->numpy>=1.21.5->pytorch-lifestream) (2024.2.0)\n",
      "Requirement already satisfied: tbb==2022.* in /usr/local/lib/python3.10/dist-packages (from mkl->numpy>=1.21.5->pytorch-lifestream) (2022.0.0)\n",
      "Requirement already satisfied: tcmlib==1.* in /usr/local/lib/python3.10/dist-packages (from tbb==2022.*->mkl->numpy>=1.21.5->pytorch-lifestream) (1.2.0)\n",
      "Requirement already satisfied: intel-cmplr-lib-rt in /usr/local/lib/python3.10/dist-packages (from mkl_umath->numpy>=1.21.5->pytorch-lifestream) (2024.2.0)\n",
      "Requirement already satisfied: charset-normalizer<4,>=2 in /usr/local/lib/python3.10/dist-packages (from requests->transformers->pytorch-lifestream) (3.4.1)\n",
      "Requirement already satisfied: idna<4,>=2.5 in /usr/local/lib/python3.10/dist-packages (from requests->transformers->pytorch-lifestream) (3.10)\n",
      "Requirement already satisfied: urllib3<3,>=1.21.1 in /usr/local/lib/python3.10/dist-packages (from requests->transformers->pytorch-lifestream) (2.3.0)\n",
      "Requirement already satisfied: certifi>=2017.4.17 in /usr/local/lib/python3.10/dist-packages (from requests->transformers->pytorch-lifestream) (2025.1.31)\n",
      "Requirement already satisfied: aiohappyeyeballs>=2.3.0 in /usr/local/lib/python3.10/dist-packages (from aiohttp!=4.0.0a0,!=4.0.0a1->fsspec[http]>=2022.5.0->pytorch-lightning>=1.6.0->pytorch-lifestream) (2.4.4)\n",
      "Requirement already satisfied: aiosignal>=1.1.2 in /usr/local/lib/python3.10/dist-packages (from aiohttp!=4.0.0a0,!=4.0.0a1->fsspec[http]>=2022.5.0->pytorch-lightning>=1.6.0->pytorch-lifestream) (1.3.2)\n",
      "Requirement already satisfied: async-timeout<6.0,>=4.0 in /usr/local/lib/python3.10/dist-packages (from aiohttp!=4.0.0a0,!=4.0.0a1->fsspec[http]>=2022.5.0->pytorch-lightning>=1.6.0->pytorch-lifestream) (5.0.1)\n",
      "Requirement already satisfied: attrs>=17.3.0 in /usr/local/lib/python3.10/dist-packages (from aiohttp!=4.0.0a0,!=4.0.0a1->fsspec[http]>=2022.5.0->pytorch-lightning>=1.6.0->pytorch-lifestream) (25.1.0)\n",
      "Requirement already satisfied: frozenlist>=1.1.1 in /usr/local/lib/python3.10/dist-packages (from aiohttp!=4.0.0a0,!=4.0.0a1->fsspec[http]>=2022.5.0->pytorch-lightning>=1.6.0->pytorch-lifestream) (1.5.0)\n",
      "Requirement already satisfied: multidict<7.0,>=4.5 in /usr/local/lib/python3.10/dist-packages (from aiohttp!=4.0.0a0,!=4.0.0a1->fsspec[http]>=2022.5.0->pytorch-lightning>=1.6.0->pytorch-lifestream) (6.1.0)\n",
      "Requirement already satisfied: propcache>=0.2.0 in /usr/local/lib/python3.10/dist-packages (from aiohttp!=4.0.0a0,!=4.0.0a1->fsspec[http]>=2022.5.0->pytorch-lightning>=1.6.0->pytorch-lifestream) (0.2.1)\n",
      "Requirement already satisfied: yarl<2.0,>=1.17.0 in /usr/local/lib/python3.10/dist-packages (from aiohttp!=4.0.0a0,!=4.0.0a1->fsspec[http]>=2022.5.0->pytorch-lightning>=1.6.0->pytorch-lifestream) (1.18.3)\n",
      "Requirement already satisfied: intel-cmplr-lib-ur==2024.2.0 in /usr/local/lib/python3.10/dist-packages (from intel-openmp>=2024->mkl->numpy>=1.21.5->pytorch-lifestream) (2024.2.0)\n",
      "Downloading hydra_core-1.3.2-py3-none-any.whl (154 kB)\n",
      "\u001b[2K   \u001b[90m━━━━━━━━━━━━━━━━━━━━━━━━━━━━━━━━━━━━━━━━\u001b[0m \u001b[32m154.5/154.5 kB\u001b[0m \u001b[31m10.1 MB/s\u001b[0m eta \u001b[36m0:00:00\u001b[0m\n",
      "\u001b[?25hBuilding wheels for collected packages: pytorch-lifestream\n",
      "  Building wheel for pytorch-lifestream (pyproject.toml) ... \u001b[?25l\u001b[?25hdone\n",
      "  Created wheel for pytorch-lifestream: filename=pytorch_lifestream-0.6.0-py3-none-any.whl size=274639 sha256=741edd72cf700a291ccbcfb05baf22c15fd61f7a2b8494eadf981e9ceaa7ca56\n",
      "  Stored in directory: /root/.cache/pip/wheels/90/76/b4/0a944bc7c5a69201e4d757cc54886971117a2a581740e7f11d\n",
      "Successfully built pytorch-lifestream\n",
      "Installing collected packages: hydra-core, pytorch-lifestream\n",
      "Successfully installed hydra-core-1.3.2 pytorch-lifestream-0.6.0\n",
      "Collecting comet_ml\n",
      "  Downloading comet_ml-3.49.4-py3-none-any.whl.metadata (4.1 kB)\n",
      "Collecting dulwich!=0.20.33,>=0.20.6 (from comet_ml)\n",
      "  Downloading dulwich-0.22.8-cp310-cp310-manylinux_2_17_x86_64.manylinux2014_x86_64.whl.metadata (4.9 kB)\n",
      "Collecting everett<3.2.0,>=1.0.1 (from everett[ini]<3.2.0,>=1.0.1->comet_ml)\n",
      "  Downloading everett-3.1.0-py2.py3-none-any.whl.metadata (17 kB)\n",
      "Requirement already satisfied: jsonschema!=3.1.0,>=2.6.0 in /usr/local/lib/python3.10/dist-packages (from comet_ml) (4.23.0)\n",
      "Requirement already satisfied: psutil>=5.6.3 in /usr/local/lib/python3.10/dist-packages (from comet_ml) (5.9.5)\n",
      "Collecting python-box<7.0.0 (from comet_ml)\n",
      "  Downloading python_box-6.1.0-cp310-cp310-manylinux_2_17_x86_64.manylinux2014_x86_64.whl.metadata (7.8 kB)\n",
      "Requirement already satisfied: requests-toolbelt>=0.8.0 in /usr/local/lib/python3.10/dist-packages (from comet_ml) (1.0.0)\n",
      "Requirement already satisfied: requests>=2.18.4 in /usr/local/lib/python3.10/dist-packages (from comet_ml) (2.32.3)\n",
      "Requirement already satisfied: rich>=13.3.2 in /usr/local/lib/python3.10/dist-packages (from comet_ml) (13.9.4)\n",
      "Collecting semantic-version>=2.8.0 (from comet_ml)\n",
      "  Downloading semantic_version-2.10.0-py2.py3-none-any.whl.metadata (9.7 kB)\n",
      "Requirement already satisfied: sentry-sdk>=1.1.0 in /usr/local/lib/python3.10/dist-packages (from comet_ml) (2.19.2)\n",
      "Collecting simplejson (from comet_ml)\n",
      "  Downloading simplejson-3.20.1-cp310-cp310-manylinux_2_5_x86_64.manylinux1_x86_64.manylinux_2_17_x86_64.manylinux2014_x86_64.whl.metadata (3.2 kB)\n",
      "Requirement already satisfied: urllib3>=1.21.1 in /usr/local/lib/python3.10/dist-packages (from comet_ml) (2.3.0)\n",
      "Requirement already satisfied: wrapt>=1.11.2 in /usr/local/lib/python3.10/dist-packages (from comet_ml) (1.17.0)\n",
      "Requirement already satisfied: wurlitzer>=1.0.2 in /usr/local/lib/python3.10/dist-packages (from comet_ml) (3.1.1)\n",
      "Collecting configobj (from everett[ini]<3.2.0,>=1.0.1->comet_ml)\n",
      "  Downloading configobj-5.0.9-py2.py3-none-any.whl.metadata (3.2 kB)\n",
      "Requirement already satisfied: attrs>=22.2.0 in /usr/local/lib/python3.10/dist-packages (from jsonschema!=3.1.0,>=2.6.0->comet_ml) (25.1.0)\n",
      "Requirement already satisfied: jsonschema-specifications>=2023.03.6 in /usr/local/lib/python3.10/dist-packages (from jsonschema!=3.1.0,>=2.6.0->comet_ml) (2024.10.1)\n",
      "Requirement already satisfied: referencing>=0.28.4 in /usr/local/lib/python3.10/dist-packages (from jsonschema!=3.1.0,>=2.6.0->comet_ml) (0.35.1)\n",
      "Requirement already satisfied: rpds-py>=0.7.1 in /usr/local/lib/python3.10/dist-packages (from jsonschema!=3.1.0,>=2.6.0->comet_ml) (0.22.3)\n",
      "Requirement already satisfied: charset-normalizer<4,>=2 in /usr/local/lib/python3.10/dist-packages (from requests>=2.18.4->comet_ml) (3.4.1)\n",
      "Requirement already satisfied: idna<4,>=2.5 in /usr/local/lib/python3.10/dist-packages (from requests>=2.18.4->comet_ml) (3.10)\n",
      "Requirement already satisfied: certifi>=2017.4.17 in /usr/local/lib/python3.10/dist-packages (from requests>=2.18.4->comet_ml) (2025.1.31)\n",
      "Requirement already satisfied: markdown-it-py>=2.2.0 in /usr/local/lib/python3.10/dist-packages (from rich>=13.3.2->comet_ml) (3.0.0)\n",
      "Requirement already satisfied: pygments<3.0.0,>=2.13.0 in /usr/local/lib/python3.10/dist-packages (from rich>=13.3.2->comet_ml) (2.19.1)\n",
      "Requirement already satisfied: typing-extensions<5.0,>=4.0.0 in /usr/local/lib/python3.10/dist-packages (from rich>=13.3.2->comet_ml) (4.12.2)\n",
      "Requirement already satisfied: mdurl~=0.1 in /usr/local/lib/python3.10/dist-packages (from markdown-it-py>=2.2.0->rich>=13.3.2->comet_ml) (0.1.2)\n",
      "Downloading comet_ml-3.49.4-py3-none-any.whl (723 kB)\n",
      "\u001b[2K   \u001b[90m━━━━━━━━━━━━━━━━━━━━━━━━━━━━━━━━━━━━━━━━\u001b[0m \u001b[32m723.1/723.1 kB\u001b[0m \u001b[31m14.1 MB/s\u001b[0m eta \u001b[36m0:00:00\u001b[0m00:01\u001b[0m\n",
      "\u001b[?25hDownloading dulwich-0.22.8-cp310-cp310-manylinux_2_17_x86_64.manylinux2014_x86_64.whl (1.0 MB)\n",
      "\u001b[2K   \u001b[90m━━━━━━━━━━━━━━━━━━━━━━━━━━━━━━━━━━━━━━━━\u001b[0m \u001b[32m1.0/1.0 MB\u001b[0m \u001b[31m14.0 MB/s\u001b[0m eta \u001b[36m0:00:00\u001b[0m00:01\u001b[0m00:01\u001b[0m\n",
      "\u001b[?25hDownloading everett-3.1.0-py2.py3-none-any.whl (35 kB)\n",
      "Downloading python_box-6.1.0-cp310-cp310-manylinux_2_17_x86_64.manylinux2014_x86_64.whl (3.3 MB)\n",
      "\u001b[2K   \u001b[90m━━━━━━━━━━━━━━━━━━━━━━━━━━━━━━━━━━━━━━━━\u001b[0m \u001b[32m3.3/3.3 MB\u001b[0m \u001b[31m44.0 MB/s\u001b[0m eta \u001b[36m0:00:00\u001b[0m00:01\u001b[0m00:01\u001b[0m\n",
      "\u001b[?25hDownloading semantic_version-2.10.0-py2.py3-none-any.whl (15 kB)\n",
      "Downloading simplejson-3.20.1-cp310-cp310-manylinux_2_5_x86_64.manylinux1_x86_64.manylinux_2_17_x86_64.manylinux2014_x86_64.whl (138 kB)\n",
      "\u001b[2K   \u001b[90m━━━━━━━━━━━━━━━━━━━━━━━━━━━━━━━━━━━━━━━━\u001b[0m \u001b[32m138.0/138.0 kB\u001b[0m \u001b[31m8.4 MB/s\u001b[0m eta \u001b[36m0:00:00\u001b[0m\n",
      "\u001b[?25hDownloading configobj-5.0.9-py2.py3-none-any.whl (35 kB)\n",
      "Installing collected packages: everett, simplejson, semantic-version, python-box, dulwich, configobj, comet_ml\n",
      "  Attempting uninstall: python-box\n",
      "    Found existing installation: python-box 7.3.0\n",
      "    Uninstalling python-box-7.3.0:\n",
      "      Successfully uninstalled python-box-7.3.0\n",
      "Successfully installed comet_ml-3.49.4 configobj-5.0.9 dulwich-0.22.8 everett-3.1.0 python-box-6.1.0 semantic-version-2.10.0 simplejson-3.20.1\n"
     ]
    }
   ],
   "source": [
    "!pip install pytorch-lifestream\n",
    "!pip install comet_ml"
   ]
  },
  {
   "cell_type": "code",
   "execution_count": 2,
   "metadata": {
    "execution": {
     "iopub.execute_input": "2025-03-08T11:06:05.539383Z",
     "iopub.status.busy": "2025-03-08T11:06:05.539080Z",
     "iopub.status.idle": "2025-03-08T11:06:29.811032Z",
     "shell.execute_reply": "2025-03-08T11:06:29.810195Z",
     "shell.execute_reply.started": "2025-03-08T11:06:05.539359Z"
    },
    "executionInfo": {
     "elapsed": 233,
     "status": "ok",
     "timestamp": 1732826830664,
     "user": {
      "displayName": "Антон Коротков",
      "userId": "12465883653538096788"
     },
     "user_tz": -180
    },
    "id": "4KxO1qd6hUTG",
    "trusted": true
   },
   "outputs": [],
   "source": [
    "# data preprocessing\n",
    "import os\n",
    "import numpy as np\n",
    "import pandas as pd\n",
    "import pickle\n",
    "\n",
    "# misc\n",
    "from tqdm import tqdm\n",
    "from functools import partial\n",
    "\n",
    "# logging\n",
    "import comet_ml\n",
    "\n",
    "# classical ML\n",
    "from sklearn.model_selection import train_test_split\n",
    "from sklearn.metrics import accuracy_score, roc_auc_score\n",
    "from catboost import CatBoostClassifier\n",
    "\n",
    "# basic deep learning libs\n",
    "import torch\n",
    "import pytorch_lightning as pl\n",
    "import torchmetrics\n",
    "\n",
    "# ptls\n",
    "from ptls.nn import TrxEncoder, RnnSeqEncoder, TransformerEncoder, GptEncoder, Head\n",
    "from ptls.frames import PtlsDataModule\n",
    "from ptls.frames.coles import CoLESModule\n",
    "from ptls.frames.coles import ColesDataset\n",
    "from ptls.frames.coles.split_strategy import SampleSlices\n",
    "from ptls.frames.cpc import CpcModule\n",
    "from ptls.frames.cpc import CpcDataset\n",
    "from ptls.frames.gpt import GptDataset\n",
    "from ptls.frames.supervised import SeqToTargetDataset, SequenceToTarget\n",
    "from ptls.data_load.datasets import MemoryMapDataset\n",
    "from ptls.data_load.datasets import inference_data_loader\n",
    "from ptls.frames.inference_module import InferenceModule\n",
    "from ptls.data_load.iterable_processing import SeqLenFilter\n",
    "from ptls.preprocessing import PandasDataPreprocessor\n",
    "from ptls.data_load.utils import collate_feature_dict\n",
    "from ptls.frames.inference_module import InferenceModule"
   ]
  },
  {
   "cell_type": "markdown",
   "metadata": {},
   "source": [
    "# Supervised-кейс. Бустинг"
   ]
  },
  {
   "cell_type": "markdown",
   "metadata": {},
   "source": [
    "**Препроцессим данные:**"
   ]
  },
  {
   "cell_type": "markdown",
   "metadata": {},
   "source": [
    "**Скачаем данные:**"
   ]
  },
  {
   "cell_type": "code",
   "execution_count": 3,
   "metadata": {
    "execution": {
     "iopub.execute_input": "2025-03-07T07:10:49.198688Z",
     "iopub.status.busy": "2025-03-07T07:10:49.197882Z",
     "iopub.status.idle": "2025-03-07T07:10:50.488725Z",
     "shell.execute_reply": "2025-03-07T07:10:50.487887Z",
     "shell.execute_reply.started": "2025-03-07T07:10:49.198648Z"
    },
    "trusted": true
   },
   "outputs": [
    {
     "data": {
      "text/html": [
       "<div>\n",
       "<style scoped>\n",
       "    .dataframe tbody tr th:only-of-type {\n",
       "        vertical-align: middle;\n",
       "    }\n",
       "\n",
       "    .dataframe tbody tr th {\n",
       "        vertical-align: top;\n",
       "    }\n",
       "\n",
       "    .dataframe thead th {\n",
       "        text-align: right;\n",
       "    }\n",
       "</style>\n",
       "<table border=\"1\" class=\"dataframe\">\n",
       "  <thead>\n",
       "    <tr style=\"text-align: right;\">\n",
       "      <th></th>\n",
       "      <th>PERIOD</th>\n",
       "      <th>cl_id</th>\n",
       "      <th>MCC</th>\n",
       "      <th>channel_type</th>\n",
       "      <th>currency</th>\n",
       "      <th>TRDATETIME</th>\n",
       "      <th>amount</th>\n",
       "      <th>trx_category</th>\n",
       "      <th>target_flag</th>\n",
       "      <th>target_sum</th>\n",
       "    </tr>\n",
       "  </thead>\n",
       "  <tbody>\n",
       "    <tr>\n",
       "      <th>0</th>\n",
       "      <td>01/10/2017</td>\n",
       "      <td>0</td>\n",
       "      <td>5200</td>\n",
       "      <td>NaN</td>\n",
       "      <td>810</td>\n",
       "      <td>21OCT17:00:00:00</td>\n",
       "      <td>5023.00</td>\n",
       "      <td>POS</td>\n",
       "      <td>0</td>\n",
       "      <td>0.0</td>\n",
       "    </tr>\n",
       "    <tr>\n",
       "      <th>1</th>\n",
       "      <td>01/10/2017</td>\n",
       "      <td>0</td>\n",
       "      <td>6011</td>\n",
       "      <td>NaN</td>\n",
       "      <td>810</td>\n",
       "      <td>12OCT17:12:24:07</td>\n",
       "      <td>20000.00</td>\n",
       "      <td>DEPOSIT</td>\n",
       "      <td>0</td>\n",
       "      <td>0.0</td>\n",
       "    </tr>\n",
       "    <tr>\n",
       "      <th>2</th>\n",
       "      <td>01/12/2017</td>\n",
       "      <td>0</td>\n",
       "      <td>5921</td>\n",
       "      <td>NaN</td>\n",
       "      <td>810</td>\n",
       "      <td>05DEC17:00:00:00</td>\n",
       "      <td>767.00</td>\n",
       "      <td>POS</td>\n",
       "      <td>0</td>\n",
       "      <td>0.0</td>\n",
       "    </tr>\n",
       "    <tr>\n",
       "      <th>3</th>\n",
       "      <td>01/10/2017</td>\n",
       "      <td>0</td>\n",
       "      <td>5411</td>\n",
       "      <td>NaN</td>\n",
       "      <td>810</td>\n",
       "      <td>21OCT17:00:00:00</td>\n",
       "      <td>2031.00</td>\n",
       "      <td>POS</td>\n",
       "      <td>0</td>\n",
       "      <td>0.0</td>\n",
       "    </tr>\n",
       "    <tr>\n",
       "      <th>4</th>\n",
       "      <td>01/10/2017</td>\n",
       "      <td>0</td>\n",
       "      <td>6012</td>\n",
       "      <td>NaN</td>\n",
       "      <td>810</td>\n",
       "      <td>24OCT17:13:14:24</td>\n",
       "      <td>36562.00</td>\n",
       "      <td>C2C_OUT</td>\n",
       "      <td>0</td>\n",
       "      <td>0.0</td>\n",
       "    </tr>\n",
       "    <tr>\n",
       "      <th>...</th>\n",
       "      <td>...</td>\n",
       "      <td>...</td>\n",
       "      <td>...</td>\n",
       "      <td>...</td>\n",
       "      <td>...</td>\n",
       "      <td>...</td>\n",
       "      <td>...</td>\n",
       "      <td>...</td>\n",
       "      <td>...</td>\n",
       "      <td>...</td>\n",
       "    </tr>\n",
       "    <tr>\n",
       "      <th>490508</th>\n",
       "      <td>01/04/2017</td>\n",
       "      <td>10176</td>\n",
       "      <td>6011</td>\n",
       "      <td>type1</td>\n",
       "      <td>810</td>\n",
       "      <td>24APR17:14:05:26</td>\n",
       "      <td>600.00</td>\n",
       "      <td>WD_ATM_ROS</td>\n",
       "      <td>1</td>\n",
       "      <td>405.0</td>\n",
       "    </tr>\n",
       "    <tr>\n",
       "      <th>490509</th>\n",
       "      <td>01/06/2017</td>\n",
       "      <td>10171</td>\n",
       "      <td>5411</td>\n",
       "      <td>type1</td>\n",
       "      <td>810</td>\n",
       "      <td>06JUN17:00:00:00</td>\n",
       "      <td>132.00</td>\n",
       "      <td>POS</td>\n",
       "      <td>0</td>\n",
       "      <td>0.0</td>\n",
       "    </tr>\n",
       "    <tr>\n",
       "      <th>490510</th>\n",
       "      <td>01/02/2017</td>\n",
       "      <td>10167</td>\n",
       "      <td>5541</td>\n",
       "      <td>type1</td>\n",
       "      <td>810</td>\n",
       "      <td>03FEB17:00:00:00</td>\n",
       "      <td>1000.00</td>\n",
       "      <td>POS</td>\n",
       "      <td>1</td>\n",
       "      <td>280428.2</td>\n",
       "    </tr>\n",
       "    <tr>\n",
       "      <th>490511</th>\n",
       "      <td>01/06/2017</td>\n",
       "      <td>10163</td>\n",
       "      <td>5941</td>\n",
       "      <td>type1</td>\n",
       "      <td>810</td>\n",
       "      <td>08JUN17:00:00:00</td>\n",
       "      <td>100.00</td>\n",
       "      <td>POS</td>\n",
       "      <td>0</td>\n",
       "      <td>0.0</td>\n",
       "    </tr>\n",
       "    <tr>\n",
       "      <th>490512</th>\n",
       "      <td>01/06/2017</td>\n",
       "      <td>10162</td>\n",
       "      <td>5411</td>\n",
       "      <td>type1</td>\n",
       "      <td>810</td>\n",
       "      <td>15JUN17:00:00:00</td>\n",
       "      <td>441.33</td>\n",
       "      <td>POS</td>\n",
       "      <td>1</td>\n",
       "      <td>253.0</td>\n",
       "    </tr>\n",
       "  </tbody>\n",
       "</table>\n",
       "<p>490513 rows × 10 columns</p>\n",
       "</div>"
      ],
      "text/plain": [
       "            PERIOD  cl_id   MCC channel_type  currency        TRDATETIME  \\\n",
       "0       01/10/2017      0  5200          NaN       810  21OCT17:00:00:00   \n",
       "1       01/10/2017      0  6011          NaN       810  12OCT17:12:24:07   \n",
       "2       01/12/2017      0  5921          NaN       810  05DEC17:00:00:00   \n",
       "3       01/10/2017      0  5411          NaN       810  21OCT17:00:00:00   \n",
       "4       01/10/2017      0  6012          NaN       810  24OCT17:13:14:24   \n",
       "...            ...    ...   ...          ...       ...               ...   \n",
       "490508  01/04/2017  10176  6011        type1       810  24APR17:14:05:26   \n",
       "490509  01/06/2017  10171  5411        type1       810  06JUN17:00:00:00   \n",
       "490510  01/02/2017  10167  5541        type1       810  03FEB17:00:00:00   \n",
       "490511  01/06/2017  10163  5941        type1       810  08JUN17:00:00:00   \n",
       "490512  01/06/2017  10162  5411        type1       810  15JUN17:00:00:00   \n",
       "\n",
       "          amount trx_category  target_flag  target_sum  \n",
       "0        5023.00          POS            0         0.0  \n",
       "1       20000.00      DEPOSIT            0         0.0  \n",
       "2         767.00          POS            0         0.0  \n",
       "3        2031.00          POS            0         0.0  \n",
       "4       36562.00      C2C_OUT            0         0.0  \n",
       "...          ...          ...          ...         ...  \n",
       "490508    600.00   WD_ATM_ROS            1       405.0  \n",
       "490509    132.00          POS            0         0.0  \n",
       "490510   1000.00          POS            1    280428.2  \n",
       "490511    100.00          POS            0         0.0  \n",
       "490512    441.33          POS            1       253.0  \n",
       "\n",
       "[490513 rows x 10 columns]"
      ]
     },
     "execution_count": 3,
     "metadata": {},
     "output_type": "execute_result"
    }
   ],
   "source": [
    "path_data = \"https://huggingface.co/datasets/dllllb/rosbank-churn/resolve/main/train.csv.gz?download=true\"\n",
    "data = pd.read_csv(path_data, compression=\"gzip\")\n",
    "data"
   ]
  },
  {
   "cell_type": "code",
   "execution_count": 4,
   "metadata": {
    "execution": {
     "iopub.execute_input": "2025-03-07T07:10:52.888476Z",
     "iopub.status.busy": "2025-03-07T07:10:52.888077Z",
     "iopub.status.idle": "2025-03-07T07:10:53.035358Z",
     "shell.execute_reply": "2025-03-07T07:10:53.034412Z",
     "shell.execute_reply.started": "2025-03-07T07:10:52.888443Z"
    },
    "trusted": true
   },
   "outputs": [
    {
     "data": {
      "text/html": [
       "<div>\n",
       "<style scoped>\n",
       "    .dataframe tbody tr th:only-of-type {\n",
       "        vertical-align: middle;\n",
       "    }\n",
       "\n",
       "    .dataframe tbody tr th {\n",
       "        vertical-align: top;\n",
       "    }\n",
       "\n",
       "    .dataframe thead th {\n",
       "        text-align: right;\n",
       "    }\n",
       "</style>\n",
       "<table border=\"1\" class=\"dataframe\">\n",
       "  <thead>\n",
       "    <tr style=\"text-align: right;\">\n",
       "      <th></th>\n",
       "      <th>cl_id</th>\n",
       "      <th>target_flag</th>\n",
       "    </tr>\n",
       "  </thead>\n",
       "  <tbody>\n",
       "    <tr>\n",
       "      <th>0</th>\n",
       "      <td>0</td>\n",
       "      <td>0</td>\n",
       "    </tr>\n",
       "    <tr>\n",
       "      <th>1</th>\n",
       "      <td>1</td>\n",
       "      <td>0</td>\n",
       "    </tr>\n",
       "    <tr>\n",
       "      <th>2</th>\n",
       "      <td>5</td>\n",
       "      <td>1</td>\n",
       "    </tr>\n",
       "    <tr>\n",
       "      <th>3</th>\n",
       "      <td>9</td>\n",
       "      <td>0</td>\n",
       "    </tr>\n",
       "    <tr>\n",
       "      <th>4</th>\n",
       "      <td>10</td>\n",
       "      <td>0</td>\n",
       "    </tr>\n",
       "    <tr>\n",
       "      <th>...</th>\n",
       "      <td>...</td>\n",
       "      <td>...</td>\n",
       "    </tr>\n",
       "    <tr>\n",
       "      <th>4995</th>\n",
       "      <td>10210</td>\n",
       "      <td>1</td>\n",
       "    </tr>\n",
       "    <tr>\n",
       "      <th>4996</th>\n",
       "      <td>10212</td>\n",
       "      <td>0</td>\n",
       "    </tr>\n",
       "    <tr>\n",
       "      <th>4997</th>\n",
       "      <td>10213</td>\n",
       "      <td>0</td>\n",
       "    </tr>\n",
       "    <tr>\n",
       "      <th>4998</th>\n",
       "      <td>10214</td>\n",
       "      <td>0</td>\n",
       "    </tr>\n",
       "    <tr>\n",
       "      <th>4999</th>\n",
       "      <td>10215</td>\n",
       "      <td>0</td>\n",
       "    </tr>\n",
       "  </tbody>\n",
       "</table>\n",
       "<p>5000 rows × 2 columns</p>\n",
       "</div>"
      ],
      "text/plain": [
       "      cl_id  target_flag\n",
       "0         0            0\n",
       "1         1            0\n",
       "2         5            1\n",
       "3         9            0\n",
       "4        10            0\n",
       "...     ...          ...\n",
       "4995  10210            1\n",
       "4996  10212            0\n",
       "4997  10213            0\n",
       "4998  10214            0\n",
       "4999  10215            0\n",
       "\n",
       "[5000 rows x 2 columns]"
      ]
     },
     "execution_count": 4,
     "metadata": {},
     "output_type": "execute_result"
    }
   ],
   "source": [
    "target = data.groupby(by=\"cl_id\").first().reset_index()[[\"cl_id\", \"target_flag\"]]\n",
    "target"
   ]
  },
  {
   "cell_type": "code",
   "execution_count": 5,
   "metadata": {
    "execution": {
     "iopub.execute_input": "2025-03-07T07:10:55.550012Z",
     "iopub.status.busy": "2025-03-07T07:10:55.549713Z",
     "iopub.status.idle": "2025-03-07T07:10:55.578938Z",
     "shell.execute_reply": "2025-03-07T07:10:55.578067Z",
     "shell.execute_reply.started": "2025-03-07T07:10:55.549991Z"
    },
    "trusted": true
   },
   "outputs": [],
   "source": [
    "data.drop(columns=[\"PERIOD\", \"target_flag\", \"target_sum\"], inplace=True)"
   ]
  },
  {
   "cell_type": "markdown",
   "metadata": {},
   "source": [
    "**Делим таргет на трейн и на тест:**"
   ]
  },
  {
   "cell_type": "code",
   "execution_count": 6,
   "metadata": {
    "execution": {
     "iopub.execute_input": "2025-03-07T07:10:57.040915Z",
     "iopub.status.busy": "2025-03-07T07:10:57.040624Z",
     "iopub.status.idle": "2025-03-07T07:10:57.054895Z",
     "shell.execute_reply": "2025-03-07T07:10:57.054028Z",
     "shell.execute_reply.started": "2025-03-07T07:10:57.040892Z"
    },
    "trusted": true
   },
   "outputs": [],
   "source": [
    "target_train, target_test = train_test_split(target, test_size=0.1, stratify=target[\"target_flag\"], random_state=42)"
   ]
  },
  {
   "cell_type": "markdown",
   "metadata": {},
   "source": [
    "**Проводим препроцессинг транзакций (деление на трейн и на тест, подготовка данных под нужный формат):**"
   ]
  },
  {
   "cell_type": "code",
   "execution_count": 7,
   "metadata": {
    "execution": {
     "iopub.execute_input": "2025-03-07T07:10:58.875328Z",
     "iopub.status.busy": "2025-03-07T07:10:58.874912Z",
     "iopub.status.idle": "2025-03-07T07:10:58.981039Z",
     "shell.execute_reply": "2025-03-07T07:10:58.980035Z",
     "shell.execute_reply.started": "2025-03-07T07:10:58.875290Z"
    },
    "trusted": true
   },
   "outputs": [],
   "source": [
    "trx_data_train = pd.merge(data, target_train[\"cl_id\"], on=\"cl_id\", how=\"inner\")\n",
    "trx_data_test = pd.merge(data, target_test[\"cl_id\"], on=\"cl_id\", how=\"inner\")"
   ]
  },
  {
   "cell_type": "markdown",
   "metadata": {},
   "source": [
    "**Дополнительно: предобработка числовых признаков: $x \\longrightarrow \\text{sign}(x) \\cdot \\log(1 + |x|)$**"
   ]
  },
  {
   "cell_type": "code",
   "execution_count": 8,
   "metadata": {
    "execution": {
     "iopub.execute_input": "2025-03-07T07:11:08.268959Z",
     "iopub.status.busy": "2025-03-07T07:11:08.268664Z",
     "iopub.status.idle": "2025-03-07T07:11:08.273034Z",
     "shell.execute_reply": "2025-03-07T07:11:08.272203Z",
     "shell.execute_reply.started": "2025-03-07T07:11:08.268937Z"
    },
    "trusted": true
   },
   "outputs": [],
   "source": [
    "def preprocess_num_features(data, features_list):\n",
    "    for feature in features_list:\n",
    "        data[feature] = np.sign(data[feature]) * np.log1p(np.abs(data[feature]))\n",
    "    return data"
   ]
  },
  {
   "cell_type": "code",
   "execution_count": 9,
   "metadata": {
    "execution": {
     "iopub.execute_input": "2025-03-07T07:11:09.879560Z",
     "iopub.status.busy": "2025-03-07T07:11:09.879210Z",
     "iopub.status.idle": "2025-03-07T07:11:09.902967Z",
     "shell.execute_reply": "2025-03-07T07:11:09.902060Z",
     "shell.execute_reply.started": "2025-03-07T07:11:09.879493Z"
    },
    "trusted": true
   },
   "outputs": [],
   "source": [
    "trx_data_train = preprocess_num_features(data=trx_data_train, features_list=[\"amount\"])\n",
    "trx_data_test = preprocess_num_features(data=trx_data_test, features_list=[\"amount\"])"
   ]
  },
  {
   "cell_type": "markdown",
   "metadata": {},
   "source": [
    "**Предобработка NaN-значений в `channel_type`:**"
   ]
  },
  {
   "cell_type": "code",
   "execution_count": 10,
   "metadata": {
    "execution": {
     "iopub.execute_input": "2025-03-07T07:11:11.869917Z",
     "iopub.status.busy": "2025-03-07T07:11:11.869595Z",
     "iopub.status.idle": "2025-03-07T07:11:11.904264Z",
     "shell.execute_reply": "2025-03-07T07:11:11.903461Z",
     "shell.execute_reply.started": "2025-03-07T07:11:11.869891Z"
    },
    "trusted": true
   },
   "outputs": [],
   "source": [
    "trx_data_train[\"channel_type\"] = trx_data_train[\"channel_type\"].fillna(\"none\")\n",
    "trx_data_test[\"channel_type\"] = trx_data_test[\"channel_type\"].fillna(\"none\")"
   ]
  },
  {
   "cell_type": "markdown",
   "metadata": {},
   "source": [
    "**Обработка даты:**"
   ]
  },
  {
   "cell_type": "code",
   "execution_count": 11,
   "metadata": {
    "execution": {
     "iopub.execute_input": "2025-03-07T07:11:16.478045Z",
     "iopub.status.busy": "2025-03-07T07:11:16.477744Z",
     "iopub.status.idle": "2025-03-07T07:11:16.815010Z",
     "shell.execute_reply": "2025-03-07T07:11:16.814348Z",
     "shell.execute_reply.started": "2025-03-07T07:11:16.478022Z"
    },
    "trusted": true
   },
   "outputs": [],
   "source": [
    "month2num = {\"JAN\": \"/01/\", \"FEB\": \"/02/\", \"MAR\": \"/03/\", \"APR\": \"/04/\", \"MAY\": \"/05/\", \"JUN\": \"/06/\",\n",
    "             \"JUL\": \"/07/\", \"AUG\": \"/08/\", \"SEP\": \"/09/\", \"OCT\": \"/10/\", \"NOV\": \"/11/\", \"DEC\": \"/12/\"}\n",
    "\n",
    "trx_data_train[\"TRDATETIME\"] = trx_data_train[\"TRDATETIME\"].map(lambda x: x[0:2] + month2num[x[2:5]] + x[5:7] + \" \" + x[8:])\n",
    "trx_data_test[\"TRDATETIME\"] = trx_data_test[\"TRDATETIME\"].map(lambda x: x[0:2] + month2num[x[2:5]] + x[5:7] + \" \" + x[8:])"
   ]
  },
  {
   "cell_type": "code",
   "execution_count": 12,
   "metadata": {
    "execution": {
     "iopub.execute_input": "2025-03-07T07:11:18.630529Z",
     "iopub.status.busy": "2025-03-07T07:11:18.630249Z",
     "iopub.status.idle": "2025-03-07T07:11:18.894240Z",
     "shell.execute_reply": "2025-03-07T07:11:18.893516Z",
     "shell.execute_reply.started": "2025-03-07T07:11:18.630506Z"
    },
    "trusted": true
   },
   "outputs": [],
   "source": [
    "trx_data_train[\"TRDATETIME\"] = pd.to_datetime(trx_data_train[\"TRDATETIME\"],format='%d/%m/%y %H:%M:%S')\n",
    "trx_data_test[\"TRDATETIME\"] = pd.to_datetime(trx_data_test[\"TRDATETIME\"],format='%d/%m/%y %H:%M:%S')"
   ]
  },
  {
   "cell_type": "markdown",
   "metadata": {},
   "source": [
    "**Конвертация значений `channel_type` и `trx_category` из str в int:**"
   ]
  },
  {
   "cell_type": "code",
   "execution_count": 13,
   "metadata": {
    "execution": {
     "iopub.execute_input": "2025-03-07T07:11:20.044273Z",
     "iopub.status.busy": "2025-03-07T07:11:20.043989Z",
     "iopub.status.idle": "2025-03-07T07:11:20.224353Z",
     "shell.execute_reply": "2025-03-07T07:11:20.223516Z",
     "shell.execute_reply.started": "2025-03-07T07:11:20.044249Z"
    },
    "trusted": true
   },
   "outputs": [],
   "source": [
    "chtype2num = {\"none\": 0, \"type1\": 1, \"type2\": 2, \"type3\": 3, \"type4\": 4, \"type5\": 5}\n",
    "\n",
    "trx_data_train[\"channel_type\"] = trx_data_train[\"channel_type\"].map(lambda x: chtype2num[x])\n",
    "trx_data_test[\"channel_type\"] = trx_data_test[\"channel_type\"].map(lambda x: chtype2num[x])"
   ]
  },
  {
   "cell_type": "code",
   "execution_count": 14,
   "metadata": {
    "execution": {
     "iopub.execute_input": "2025-03-07T07:11:21.931277Z",
     "iopub.status.busy": "2025-03-07T07:11:21.931001Z",
     "iopub.status.idle": "2025-03-07T07:11:22.093825Z",
     "shell.execute_reply": "2025-03-07T07:11:22.093121Z",
     "shell.execute_reply.started": "2025-03-07T07:11:21.931254Z"
    },
    "trusted": true
   },
   "outputs": [],
   "source": [
    "trxcat2num = {\"POS\": 0, \"DEPOSIT\": 1, \"WD_ATM_ROS\": 2, \"WD_ATM_PARTNER\": 3, \n",
    "              \"C2C_IN\": 4, \"WD_ATM_OTHER\": 5, \"C2C_OUT\": 6, \"BACK_TRX\": 7,\n",
    "              \"CAT\": 8, \"CASH_ADV\": 9}\n",
    "\n",
    "trx_data_train[\"trx_category\"] = trx_data_train[\"trx_category\"].map(lambda x: trxcat2num[x])\n",
    "trx_data_test[\"trx_category\"] = trx_data_test[\"trx_category\"].map(lambda x: trxcat2num[x])"
   ]
  },
  {
   "cell_type": "code",
   "execution_count": 15,
   "metadata": {
    "execution": {
     "iopub.execute_input": "2025-03-07T07:11:24.056780Z",
     "iopub.status.busy": "2025-03-07T07:11:24.056446Z",
     "iopub.status.idle": "2025-03-07T07:11:24.060832Z",
     "shell.execute_reply": "2025-03-07T07:11:24.059866Z",
     "shell.execute_reply.started": "2025-03-07T07:11:24.056752Z"
    },
    "trusted": true
   },
   "outputs": [],
   "source": [
    "preprocessor = PandasDataPreprocessor(\n",
    "    col_id=\"cl_id\",\n",
    "    col_event_time=\"TRDATETIME\",\n",
    "    event_time_transformation=\"dt_to_timestamp\",\n",
    "    cols_category=[\"MCC\", \"channel_type\", \"currency\", \"trx_category\"],\n",
    "    cols_numerical=[\"amount\"],\n",
    "    return_records=False,\n",
    ")"
   ]
  },
  {
   "cell_type": "code",
   "execution_count": 16,
   "metadata": {
    "execution": {
     "iopub.execute_input": "2025-03-07T07:11:25.810744Z",
     "iopub.status.busy": "2025-03-07T07:11:25.810402Z",
     "iopub.status.idle": "2025-03-07T07:11:29.951682Z",
     "shell.execute_reply": "2025-03-07T07:11:29.950996Z",
     "shell.execute_reply.started": "2025-03-07T07:11:25.810714Z"
    },
    "trusted": true
   },
   "outputs": [],
   "source": [
    "trx_data_train = preprocessor.fit_transform(trx_data_train)\n",
    "trx_data_test = preprocessor.transform(trx_data_test)"
   ]
  },
  {
   "cell_type": "markdown",
   "metadata": {},
   "source": [
    "**Конвертируем время из секунд в дни, вычитаем из каждого дня минимальный/самый ранний день:**"
   ]
  },
  {
   "cell_type": "code",
   "execution_count": 17,
   "metadata": {
    "execution": {
     "iopub.execute_input": "2025-03-07T07:11:41.064232Z",
     "iopub.status.busy": "2025-03-07T07:11:41.063925Z",
     "iopub.status.idle": "2025-03-07T07:11:41.111959Z",
     "shell.execute_reply": "2025-03-07T07:11:41.111074Z",
     "shell.execute_reply.started": "2025-03-07T07:11:41.064207Z"
    },
    "trusted": true
   },
   "outputs": [],
   "source": [
    "trx_data_train[\"event_time\"] //= 86400\n",
    "trx_data_test[\"event_time\"] //= 86400"
   ]
  },
  {
   "cell_type": "code",
   "execution_count": 18,
   "metadata": {
    "execution": {
     "iopub.execute_input": "2025-03-07T07:11:43.621886Z",
     "iopub.status.busy": "2025-03-07T07:11:43.621562Z",
     "iopub.status.idle": "2025-03-07T07:11:43.899481Z",
     "shell.execute_reply": "2025-03-07T07:11:43.898738Z",
     "shell.execute_reply.started": "2025-03-07T07:11:43.621857Z"
    },
    "trusted": true
   },
   "outputs": [
    {
     "data": {
      "text/plain": [
       "(17081, 17623)"
      ]
     },
     "execution_count": 18,
     "metadata": {},
     "output_type": "execute_result"
    }
   ],
   "source": [
    "min_day_train = np.inf\n",
    "max_day_train = -np.inf\n",
    "\n",
    "for idx, row in trx_data_train.iterrows():\n",
    "    min_day_train = min(min_day_train, row[\"event_time\"].min().item())\n",
    "    max_day_train = max(max_day_train, row[\"event_time\"].max().item())\n",
    "\n",
    "min_day_train, max_day_train"
   ]
  },
  {
   "cell_type": "code",
   "execution_count": 19,
   "metadata": {
    "execution": {
     "iopub.execute_input": "2025-03-07T07:11:48.721631Z",
     "iopub.status.busy": "2025-03-07T07:11:48.721311Z",
     "iopub.status.idle": "2025-03-07T07:11:48.955655Z",
     "shell.execute_reply": "2025-03-07T07:11:48.954723Z",
     "shell.execute_reply.started": "2025-03-07T07:11:48.721605Z"
    },
    "trusted": true
   },
   "outputs": [],
   "source": [
    "trx_data_train[\"event_time\"] -= min_day_train\n",
    "\n",
    "trx_data_test[\"event_time\"] -= min_day_train\n",
    "\n",
    "for idx in range(len(trx_data_test)):\n",
    "    seq_times = torch.clip(trx_data_test.iloc[idx][\"event_time\"], min=0., max=(max_day_train - min_day_train)).long().unsqueeze(dim=1)\n",
    "    trx_data_test.loc[idx, \"event_time\"] = seq_times"
   ]
  },
  {
   "cell_type": "code",
   "execution_count": 20,
   "metadata": {
    "execution": {
     "iopub.execute_input": "2025-03-07T07:11:54.990358Z",
     "iopub.status.busy": "2025-03-07T07:11:54.990049Z",
     "iopub.status.idle": "2025-03-07T07:11:54.995684Z",
     "shell.execute_reply": "2025-03-07T07:11:54.994732Z",
     "shell.execute_reply.started": "2025-03-07T07:11:54.990330Z"
    },
    "trusted": true
   },
   "outputs": [],
   "source": [
    "target_train.sort_values(by=\"cl_id\", inplace=True)\n",
    "target_test.sort_values(by=\"cl_id\", inplace=True)"
   ]
  },
  {
   "cell_type": "code",
   "execution_count": 21,
   "metadata": {
    "execution": {
     "iopub.execute_input": "2025-03-07T07:11:57.622041Z",
     "iopub.status.busy": "2025-03-07T07:11:57.621738Z",
     "iopub.status.idle": "2025-03-07T07:11:57.630151Z",
     "shell.execute_reply": "2025-03-07T07:11:57.629478Z",
     "shell.execute_reply.started": "2025-03-07T07:11:57.622017Z"
    },
    "trusted": true
   },
   "outputs": [],
   "source": [
    "trx_data_train.drop(columns=[\"cl_id\"], inplace=True)\n",
    "trx_data_test.drop(columns=[\"cl_id\"], inplace=True)\n",
    "target_train.drop(columns=[\"cl_id\"], inplace=True)\n",
    "target_test.drop(columns=[\"cl_id\"], inplace=True)"
   ]
  },
  {
   "cell_type": "code",
   "execution_count": 22,
   "metadata": {
    "execution": {
     "iopub.execute_input": "2025-03-07T07:11:59.295486Z",
     "iopub.status.busy": "2025-03-07T07:11:59.295212Z",
     "iopub.status.idle": "2025-03-07T07:11:59.299608Z",
     "shell.execute_reply": "2025-03-07T07:11:59.298634Z",
     "shell.execute_reply.started": "2025-03-07T07:11:59.295463Z"
    },
    "trusted": true
   },
   "outputs": [],
   "source": [
    "trx_data_train.reset_index(inplace=True, drop=True)\n",
    "trx_data_test.reset_index(inplace=True, drop=True)\n",
    "target_train.reset_index(inplace=True, drop=True)\n",
    "target_test.reset_index(inplace=True, drop=True)"
   ]
  },
  {
   "cell_type": "code",
   "execution_count": 23,
   "metadata": {
    "execution": {
     "iopub.execute_input": "2025-03-07T07:12:00.793367Z",
     "iopub.status.busy": "2025-03-07T07:12:00.793085Z",
     "iopub.status.idle": "2025-03-07T07:12:01.004198Z",
     "shell.execute_reply": "2025-03-07T07:12:01.003375Z",
     "shell.execute_reply.started": "2025-03-07T07:12:00.793343Z"
    },
    "trusted": true
   },
   "outputs": [
    {
     "name": "stdout",
     "output_type": "stream",
     "text": [
      "Max Sequence Length: 784\n"
     ]
    }
   ],
   "source": [
    "max_seq_length = 0 \n",
    "\n",
    "for idx, row in trx_data_train.iterrows():\n",
    "    max_seq_length = max(max_seq_length, row[\"event_time\"].shape[0])\n",
    "\n",
    "for idx, row in trx_data_test.iterrows():\n",
    "    max_seq_length = max(max_seq_length, row[\"event_time\"].shape[0])\n",
    "\n",
    "print(\"Max Sequence Length:\", max_seq_length)"
   ]
  },
  {
   "cell_type": "code",
   "execution_count": 24,
   "metadata": {
    "execution": {
     "iopub.execute_input": "2025-03-07T07:12:09.607840Z",
     "iopub.status.busy": "2025-03-07T07:12:09.607491Z",
     "iopub.status.idle": "2025-03-07T07:12:09.613535Z",
     "shell.execute_reply": "2025-03-07T07:12:09.612864Z",
     "shell.execute_reply.started": "2025-03-07T07:12:09.607812Z"
    },
    "trusted": true
   },
   "outputs": [],
   "source": [
    "columns = [\"event_time\", \"MCC\", \"channel_type\", \"currency\", \"trx_category\", \"amount\"]\n",
    "\n",
    "new_tables_columns = []\n",
    "\n",
    "for i in range(1, max_seq_length + 1):\n",
    "    for col in columns:\n",
    "        new_tables_columns.append(col + \"_\" + str(i))"
   ]
  },
  {
   "cell_type": "code",
   "execution_count": 25,
   "metadata": {
    "execution": {
     "iopub.execute_input": "2025-03-07T07:12:13.344196Z",
     "iopub.status.busy": "2025-03-07T07:12:13.343923Z",
     "iopub.status.idle": "2025-03-07T07:12:27.715707Z",
     "shell.execute_reply": "2025-03-07T07:12:27.714786Z",
     "shell.execute_reply.started": "2025-03-07T07:12:13.344174Z"
    },
    "trusted": true
   },
   "outputs": [
    {
     "name": "stderr",
     "output_type": "stream",
     "text": [
      "4500it [00:09, 456.79it/s]\n"
     ]
    }
   ],
   "source": [
    "new_train_table_contents = []\n",
    "\n",
    "for idx, row in tqdm(trx_data_train.iterrows()):\n",
    "    new_row = []\n",
    "    event_time = row[\"event_time\"]\n",
    "    mcc = row[\"MCC\"]\n",
    "    ch_type = row[\"channel_type\"]\n",
    "    currency = row[\"currency\"]\n",
    "    trx_cat = row[\"trx_category\"]\n",
    "    amount = row[\"amount\"]\n",
    "    for j in range(max_seq_length):\n",
    "        if j < event_time.shape[0]:\n",
    "            new_row.append(event_time[j].item())\n",
    "            new_row.append(mcc[j].item())\n",
    "            new_row.append(ch_type[j].item())\n",
    "            new_row.append(currency[j].item())\n",
    "            new_row.append(trx_cat[j].item())\n",
    "            new_row.append(amount[j].item())\n",
    "        else:\n",
    "            for k in range(5):\n",
    "                new_row.append(-1)\n",
    "            new_row.append(0.)\n",
    "    new_train_table_contents.append(new_row)\n",
    "\n",
    "trx_data_train = pd.DataFrame(data=new_train_table_contents, columns=new_tables_columns)\n",
    "new_train_table_contents = []"
   ]
  },
  {
   "cell_type": "code",
   "execution_count": 26,
   "metadata": {
    "execution": {
     "iopub.execute_input": "2025-03-07T07:12:45.691725Z",
     "iopub.status.busy": "2025-03-07T07:12:45.691399Z",
     "iopub.status.idle": "2025-03-07T07:12:47.291265Z",
     "shell.execute_reply": "2025-03-07T07:12:47.290621Z",
     "shell.execute_reply.started": "2025-03-07T07:12:45.691697Z"
    },
    "trusted": true
   },
   "outputs": [
    {
     "name": "stderr",
     "output_type": "stream",
     "text": [
      "500it [00:01, 439.37it/s]\n"
     ]
    }
   ],
   "source": [
    "new_test_table_contents = []\n",
    "\n",
    "for idx, row in tqdm(trx_data_test.iterrows()):\n",
    "    new_row = []\n",
    "    event_time = row[\"event_time\"]\n",
    "    mcc = row[\"MCC\"]\n",
    "    ch_type = row[\"channel_type\"]\n",
    "    currency = row[\"currency\"]\n",
    "    trx_cat = row[\"trx_category\"]\n",
    "    amount = row[\"amount\"]\n",
    "    for j in range(max_seq_length):\n",
    "        if j < event_time.shape[0]:\n",
    "            new_row.append(event_time[j].item())\n",
    "            new_row.append(int(mcc[j].item()))\n",
    "            new_row.append(ch_type[j].item())\n",
    "            new_row.append(currency[j].item())\n",
    "            new_row.append(trx_cat[j].item())\n",
    "            new_row.append(amount[j].item())\n",
    "        else:\n",
    "            for k in range(5):\n",
    "                new_row.append(-1)\n",
    "            new_row.append(0.)\n",
    "    new_test_table_contents.append(new_row)\n",
    "\n",
    "trx_data_test = pd.DataFrame(data=new_test_table_contents, columns=new_tables_columns)\n",
    "new_test_table_contents = []"
   ]
  },
  {
   "cell_type": "code",
   "execution_count": 27,
   "metadata": {
    "execution": {
     "iopub.execute_input": "2025-03-07T07:12:49.604605Z",
     "iopub.status.busy": "2025-03-07T07:12:49.604268Z",
     "iopub.status.idle": "2025-03-07T07:12:49.609969Z",
     "shell.execute_reply": "2025-03-07T07:12:49.608979Z",
     "shell.execute_reply.started": "2025-03-07T07:12:49.604530Z"
    },
    "trusted": true
   },
   "outputs": [],
   "source": [
    "cat_features = []\n",
    "\n",
    "for idx, feature in enumerate(new_tables_columns):\n",
    "    if idx % 6 != 5:\n",
    "        cat_features.append(feature)"
   ]
  },
  {
   "cell_type": "markdown",
   "metadata": {},
   "source": [
    "**Наконец, обучаем бустинг!**"
   ]
  },
  {
   "cell_type": "code",
   "execution_count": 46,
   "metadata": {
    "collapsed": true,
    "execution": {
     "iopub.execute_input": "2025-03-07T07:22:23.742871Z",
     "iopub.status.busy": "2025-03-07T07:22:23.742515Z",
     "iopub.status.idle": "2025-03-07T07:23:16.870478Z",
     "shell.execute_reply": "2025-03-07T07:23:16.869638Z",
     "shell.execute_reply.started": "2025-03-07T07:22:23.742844Z"
    },
    "jupyter": {
     "outputs_hidden": true
    },
    "trusted": true
   },
   "outputs": [
    {
     "name": "stdout",
     "output_type": "stream",
     "text": [
      "Learning rate set to 0.088214\n",
      "0:\tlearn: 0.6753076\ttotal: 49.3ms\tremaining: 49.2s\n",
      "1:\tlearn: 0.6608020\ttotal: 93.5ms\tremaining: 46.6s\n",
      "2:\tlearn: 0.6482471\ttotal: 139ms\tremaining: 46.3s\n",
      "3:\tlearn: 0.6368725\ttotal: 192ms\tremaining: 47.8s\n",
      "4:\tlearn: 0.6263995\ttotal: 237ms\tremaining: 47.2s\n",
      "5:\tlearn: 0.6175677\ttotal: 281ms\tremaining: 46.6s\n",
      "6:\tlearn: 0.6094716\ttotal: 327ms\tremaining: 46.4s\n",
      "7:\tlearn: 0.6032371\ttotal: 372ms\tremaining: 46.1s\n",
      "8:\tlearn: 0.5971491\ttotal: 417ms\tremaining: 45.9s\n",
      "9:\tlearn: 0.5910566\ttotal: 462ms\tremaining: 45.7s\n",
      "10:\tlearn: 0.5859313\ttotal: 507ms\tremaining: 45.6s\n",
      "11:\tlearn: 0.5812125\ttotal: 548ms\tremaining: 45.2s\n",
      "12:\tlearn: 0.5767888\ttotal: 593ms\tremaining: 45s\n",
      "13:\tlearn: 0.5730605\ttotal: 637ms\tremaining: 44.8s\n",
      "14:\tlearn: 0.5696245\ttotal: 682ms\tremaining: 44.8s\n",
      "15:\tlearn: 0.5663755\ttotal: 726ms\tremaining: 44.6s\n",
      "16:\tlearn: 0.5630521\ttotal: 770ms\tremaining: 44.5s\n",
      "17:\tlearn: 0.5606035\ttotal: 812ms\tremaining: 44.3s\n",
      "18:\tlearn: 0.5581669\ttotal: 854ms\tremaining: 44.1s\n",
      "19:\tlearn: 0.5561772\ttotal: 900ms\tremaining: 44.1s\n",
      "20:\tlearn: 0.5542466\ttotal: 944ms\tremaining: 44s\n",
      "21:\tlearn: 0.5522629\ttotal: 987ms\tremaining: 43.9s\n",
      "22:\tlearn: 0.5504058\ttotal: 1.03s\tremaining: 43.8s\n",
      "23:\tlearn: 0.5489478\ttotal: 1.07s\tremaining: 43.7s\n",
      "24:\tlearn: 0.5467106\ttotal: 1.12s\tremaining: 43.6s\n",
      "25:\tlearn: 0.5448012\ttotal: 1.16s\tremaining: 43.6s\n",
      "26:\tlearn: 0.5430719\ttotal: 1.21s\tremaining: 43.5s\n",
      "27:\tlearn: 0.5413862\ttotal: 1.25s\tremaining: 43.5s\n",
      "28:\tlearn: 0.5401595\ttotal: 1.29s\tremaining: 43.3s\n",
      "29:\tlearn: 0.5387495\ttotal: 1.34s\tremaining: 43.2s\n",
      "30:\tlearn: 0.5378843\ttotal: 1.38s\tremaining: 43.2s\n",
      "31:\tlearn: 0.5363974\ttotal: 1.43s\tremaining: 43.1s\n",
      "32:\tlearn: 0.5354204\ttotal: 1.47s\tremaining: 43s\n",
      "33:\tlearn: 0.5339975\ttotal: 1.51s\tremaining: 43s\n",
      "34:\tlearn: 0.5329440\ttotal: 1.55s\tremaining: 42.9s\n",
      "35:\tlearn: 0.5317996\ttotal: 1.6s\tremaining: 42.8s\n",
      "36:\tlearn: 0.5305988\ttotal: 1.65s\tremaining: 42.9s\n",
      "37:\tlearn: 0.5295892\ttotal: 1.69s\tremaining: 42.8s\n",
      "38:\tlearn: 0.5287982\ttotal: 1.73s\tremaining: 42.7s\n",
      "39:\tlearn: 0.5276781\ttotal: 1.78s\tremaining: 42.7s\n",
      "40:\tlearn: 0.5263172\ttotal: 1.82s\tremaining: 42.6s\n",
      "41:\tlearn: 0.5249845\ttotal: 1.87s\tremaining: 42.6s\n",
      "42:\tlearn: 0.5240290\ttotal: 1.91s\tremaining: 42.5s\n",
      "43:\tlearn: 0.5229940\ttotal: 1.95s\tremaining: 42.5s\n",
      "44:\tlearn: 0.5222260\ttotal: 1.99s\tremaining: 42.3s\n",
      "45:\tlearn: 0.5216934\ttotal: 2.03s\tremaining: 42.2s\n",
      "46:\tlearn: 0.5209518\ttotal: 2.08s\tremaining: 42.1s\n",
      "47:\tlearn: 0.5199055\ttotal: 2.12s\tremaining: 42s\n",
      "48:\tlearn: 0.5193750\ttotal: 2.16s\tremaining: 41.8s\n",
      "49:\tlearn: 0.5186390\ttotal: 2.19s\tremaining: 41.7s\n",
      "50:\tlearn: 0.5177274\ttotal: 2.24s\tremaining: 41.6s\n",
      "51:\tlearn: 0.5166788\ttotal: 2.28s\tremaining: 41.6s\n",
      "52:\tlearn: 0.5158135\ttotal: 2.32s\tremaining: 41.5s\n",
      "53:\tlearn: 0.5149459\ttotal: 2.36s\tremaining: 41.4s\n",
      "54:\tlearn: 0.5142871\ttotal: 2.4s\tremaining: 41.2s\n",
      "55:\tlearn: 0.5137585\ttotal: 2.44s\tremaining: 41.1s\n",
      "56:\tlearn: 0.5126826\ttotal: 2.48s\tremaining: 41.1s\n",
      "57:\tlearn: 0.5118309\ttotal: 2.52s\tremaining: 41s\n",
      "58:\tlearn: 0.5110538\ttotal: 2.56s\tremaining: 40.9s\n",
      "59:\tlearn: 0.5103895\ttotal: 2.6s\tremaining: 40.8s\n",
      "60:\tlearn: 0.5093003\ttotal: 2.65s\tremaining: 40.8s\n",
      "61:\tlearn: 0.5081116\ttotal: 2.69s\tremaining: 40.7s\n",
      "62:\tlearn: 0.5074857\ttotal: 2.73s\tremaining: 40.6s\n",
      "63:\tlearn: 0.5066953\ttotal: 2.77s\tremaining: 40.6s\n",
      "64:\tlearn: 0.5060187\ttotal: 2.81s\tremaining: 40.5s\n",
      "65:\tlearn: 0.5050897\ttotal: 2.85s\tremaining: 40.4s\n",
      "66:\tlearn: 0.5044364\ttotal: 2.89s\tremaining: 40.3s\n",
      "67:\tlearn: 0.5036124\ttotal: 2.94s\tremaining: 40.3s\n",
      "68:\tlearn: 0.5029310\ttotal: 2.98s\tremaining: 40.2s\n",
      "69:\tlearn: 0.5020753\ttotal: 3.02s\tremaining: 40.1s\n",
      "70:\tlearn: 0.5016782\ttotal: 3.06s\tremaining: 40s\n",
      "71:\tlearn: 0.5008790\ttotal: 3.1s\tremaining: 39.9s\n",
      "72:\tlearn: 0.4998020\ttotal: 3.14s\tremaining: 39.9s\n",
      "73:\tlearn: 0.4992409\ttotal: 3.18s\tremaining: 39.8s\n",
      "74:\tlearn: 0.4988580\ttotal: 3.22s\tremaining: 39.7s\n",
      "75:\tlearn: 0.4982626\ttotal: 3.26s\tremaining: 39.7s\n",
      "76:\tlearn: 0.4974289\ttotal: 3.3s\tremaining: 39.6s\n",
      "77:\tlearn: 0.4969318\ttotal: 3.35s\tremaining: 39.5s\n",
      "78:\tlearn: 0.4960667\ttotal: 3.39s\tremaining: 39.5s\n",
      "79:\tlearn: 0.4949903\ttotal: 3.43s\tremaining: 39.4s\n",
      "80:\tlearn: 0.4942843\ttotal: 3.47s\tremaining: 39.3s\n",
      "81:\tlearn: 0.4939811\ttotal: 3.5s\tremaining: 39.2s\n",
      "82:\tlearn: 0.4934642\ttotal: 3.55s\tremaining: 39.2s\n",
      "83:\tlearn: 0.4925324\ttotal: 3.59s\tremaining: 39.2s\n",
      "84:\tlearn: 0.4919299\ttotal: 3.63s\tremaining: 39.1s\n",
      "85:\tlearn: 0.4913480\ttotal: 3.67s\tremaining: 39.1s\n",
      "86:\tlearn: 0.4903439\ttotal: 3.71s\tremaining: 39s\n",
      "87:\tlearn: 0.4895519\ttotal: 3.75s\tremaining: 38.9s\n",
      "88:\tlearn: 0.4888351\ttotal: 3.8s\tremaining: 38.9s\n",
      "89:\tlearn: 0.4884742\ttotal: 3.84s\tremaining: 38.8s\n",
      "90:\tlearn: 0.4880439\ttotal: 3.88s\tremaining: 38.7s\n",
      "91:\tlearn: 0.4873909\ttotal: 3.92s\tremaining: 38.7s\n",
      "92:\tlearn: 0.4870757\ttotal: 3.96s\tremaining: 38.7s\n",
      "93:\tlearn: 0.4862110\ttotal: 4s\tremaining: 38.6s\n",
      "94:\tlearn: 0.4851893\ttotal: 4.05s\tremaining: 38.6s\n",
      "95:\tlearn: 0.4846348\ttotal: 4.08s\tremaining: 38.5s\n",
      "96:\tlearn: 0.4843683\ttotal: 4.12s\tremaining: 38.4s\n",
      "97:\tlearn: 0.4836241\ttotal: 4.17s\tremaining: 38.4s\n",
      "98:\tlearn: 0.4831376\ttotal: 4.21s\tremaining: 38.3s\n",
      "99:\tlearn: 0.4818606\ttotal: 4.25s\tremaining: 38.2s\n",
      "100:\tlearn: 0.4813804\ttotal: 4.29s\tremaining: 38.2s\n",
      "101:\tlearn: 0.4801016\ttotal: 4.33s\tremaining: 38.2s\n",
      "102:\tlearn: 0.4795583\ttotal: 4.37s\tremaining: 38.1s\n",
      "103:\tlearn: 0.4792056\ttotal: 4.42s\tremaining: 38s\n",
      "104:\tlearn: 0.4788898\ttotal: 4.45s\tremaining: 38s\n",
      "105:\tlearn: 0.4782690\ttotal: 4.49s\tremaining: 37.9s\n",
      "106:\tlearn: 0.4773451\ttotal: 4.54s\tremaining: 37.9s\n",
      "107:\tlearn: 0.4766497\ttotal: 4.58s\tremaining: 37.8s\n",
      "108:\tlearn: 0.4761900\ttotal: 4.62s\tremaining: 37.8s\n",
      "109:\tlearn: 0.4758902\ttotal: 4.66s\tremaining: 37.7s\n",
      "110:\tlearn: 0.4754622\ttotal: 4.7s\tremaining: 37.7s\n",
      "111:\tlearn: 0.4751406\ttotal: 4.74s\tremaining: 37.6s\n",
      "112:\tlearn: 0.4745021\ttotal: 4.78s\tremaining: 37.6s\n",
      "113:\tlearn: 0.4741903\ttotal: 4.83s\tremaining: 37.5s\n",
      "114:\tlearn: 0.4732824\ttotal: 4.87s\tremaining: 37.5s\n",
      "115:\tlearn: 0.4726993\ttotal: 4.91s\tremaining: 37.4s\n",
      "116:\tlearn: 0.4723313\ttotal: 4.95s\tremaining: 37.3s\n",
      "117:\tlearn: 0.4716903\ttotal: 4.99s\tremaining: 37.3s\n",
      "118:\tlearn: 0.4712216\ttotal: 5.03s\tremaining: 37.2s\n",
      "119:\tlearn: 0.4703690\ttotal: 5.07s\tremaining: 37.2s\n",
      "120:\tlearn: 0.4699793\ttotal: 5.11s\tremaining: 37.1s\n",
      "121:\tlearn: 0.4691909\ttotal: 5.15s\tremaining: 37.1s\n",
      "122:\tlearn: 0.4687792\ttotal: 5.19s\tremaining: 37s\n",
      "123:\tlearn: 0.4681925\ttotal: 5.23s\tremaining: 37s\n",
      "124:\tlearn: 0.4679229\ttotal: 5.27s\tremaining: 36.9s\n",
      "125:\tlearn: 0.4671886\ttotal: 5.31s\tremaining: 36.8s\n",
      "126:\tlearn: 0.4666294\ttotal: 5.35s\tremaining: 36.8s\n",
      "127:\tlearn: 0.4664051\ttotal: 5.39s\tremaining: 36.7s\n",
      "128:\tlearn: 0.4658619\ttotal: 5.43s\tremaining: 36.7s\n",
      "129:\tlearn: 0.4655665\ttotal: 5.46s\tremaining: 36.6s\n",
      "130:\tlearn: 0.4654059\ttotal: 5.5s\tremaining: 36.5s\n",
      "131:\tlearn: 0.4649460\ttotal: 5.54s\tremaining: 36.4s\n",
      "132:\tlearn: 0.4646542\ttotal: 5.58s\tremaining: 36.4s\n",
      "133:\tlearn: 0.4641607\ttotal: 5.62s\tremaining: 36.3s\n",
      "134:\tlearn: 0.4637908\ttotal: 5.66s\tremaining: 36.3s\n",
      "135:\tlearn: 0.4633149\ttotal: 5.7s\tremaining: 36.2s\n",
      "136:\tlearn: 0.4627734\ttotal: 5.73s\tremaining: 36.1s\n",
      "137:\tlearn: 0.4617289\ttotal: 5.78s\tremaining: 36.1s\n",
      "138:\tlearn: 0.4613758\ttotal: 5.82s\tremaining: 36s\n",
      "139:\tlearn: 0.4604823\ttotal: 5.86s\tremaining: 36s\n",
      "140:\tlearn: 0.4594838\ttotal: 5.9s\tremaining: 36s\n",
      "141:\tlearn: 0.4591472\ttotal: 5.95s\tremaining: 35.9s\n",
      "142:\tlearn: 0.4584582\ttotal: 5.98s\tremaining: 35.9s\n",
      "143:\tlearn: 0.4577216\ttotal: 6.02s\tremaining: 35.8s\n",
      "144:\tlearn: 0.4572368\ttotal: 6.06s\tremaining: 35.7s\n",
      "145:\tlearn: 0.4565260\ttotal: 6.1s\tremaining: 35.7s\n",
      "146:\tlearn: 0.4559471\ttotal: 6.14s\tremaining: 35.6s\n",
      "147:\tlearn: 0.4555895\ttotal: 6.18s\tremaining: 35.6s\n",
      "148:\tlearn: 0.4547439\ttotal: 6.22s\tremaining: 35.5s\n",
      "149:\tlearn: 0.4541358\ttotal: 6.26s\tremaining: 35.5s\n",
      "150:\tlearn: 0.4532017\ttotal: 6.3s\tremaining: 35.4s\n",
      "151:\tlearn: 0.4526112\ttotal: 6.34s\tremaining: 35.4s\n",
      "152:\tlearn: 0.4522763\ttotal: 6.38s\tremaining: 35.3s\n",
      "153:\tlearn: 0.4515410\ttotal: 6.42s\tremaining: 35.3s\n",
      "154:\tlearn: 0.4511097\ttotal: 6.46s\tremaining: 35.2s\n",
      "155:\tlearn: 0.4508522\ttotal: 6.5s\tremaining: 35.2s\n",
      "156:\tlearn: 0.4503915\ttotal: 6.54s\tremaining: 35.1s\n",
      "157:\tlearn: 0.4495981\ttotal: 6.58s\tremaining: 35.1s\n",
      "158:\tlearn: 0.4491034\ttotal: 6.62s\tremaining: 35s\n",
      "159:\tlearn: 0.4485374\ttotal: 6.66s\tremaining: 35s\n",
      "160:\tlearn: 0.4478507\ttotal: 6.71s\tremaining: 35s\n",
      "161:\tlearn: 0.4474057\ttotal: 6.75s\tremaining: 34.9s\n",
      "162:\tlearn: 0.4469109\ttotal: 6.79s\tremaining: 34.9s\n",
      "163:\tlearn: 0.4460959\ttotal: 6.83s\tremaining: 34.8s\n",
      "164:\tlearn: 0.4459181\ttotal: 6.87s\tremaining: 34.8s\n",
      "165:\tlearn: 0.4454756\ttotal: 6.91s\tremaining: 34.7s\n",
      "166:\tlearn: 0.4450709\ttotal: 6.94s\tremaining: 34.6s\n",
      "167:\tlearn: 0.4448750\ttotal: 6.98s\tremaining: 34.6s\n",
      "168:\tlearn: 0.4444717\ttotal: 7.02s\tremaining: 34.5s\n",
      "169:\tlearn: 0.4435747\ttotal: 7.07s\tremaining: 34.5s\n",
      "170:\tlearn: 0.4432114\ttotal: 7.1s\tremaining: 34.4s\n",
      "171:\tlearn: 0.4426054\ttotal: 7.15s\tremaining: 34.4s\n",
      "172:\tlearn: 0.4422116\ttotal: 7.2s\tremaining: 34.4s\n",
      "173:\tlearn: 0.4412329\ttotal: 7.24s\tremaining: 34.4s\n",
      "174:\tlearn: 0.4407521\ttotal: 7.28s\tremaining: 34.3s\n",
      "175:\tlearn: 0.4403730\ttotal: 7.32s\tremaining: 34.3s\n",
      "176:\tlearn: 0.4398331\ttotal: 7.37s\tremaining: 34.3s\n",
      "177:\tlearn: 0.4394325\ttotal: 7.41s\tremaining: 34.2s\n",
      "178:\tlearn: 0.4389726\ttotal: 7.45s\tremaining: 34.2s\n",
      "179:\tlearn: 0.4383536\ttotal: 7.48s\tremaining: 34.1s\n",
      "180:\tlearn: 0.4379481\ttotal: 7.52s\tremaining: 34s\n",
      "181:\tlearn: 0.4376246\ttotal: 7.56s\tremaining: 34s\n",
      "182:\tlearn: 0.4368912\ttotal: 7.6s\tremaining: 33.9s\n",
      "183:\tlearn: 0.4364707\ttotal: 7.64s\tremaining: 33.9s\n",
      "184:\tlearn: 0.4360684\ttotal: 7.69s\tremaining: 33.9s\n",
      "185:\tlearn: 0.4355594\ttotal: 7.73s\tremaining: 33.8s\n",
      "186:\tlearn: 0.4354682\ttotal: 7.76s\tremaining: 33.8s\n",
      "187:\tlearn: 0.4348750\ttotal: 7.8s\tremaining: 33.7s\n",
      "188:\tlearn: 0.4344005\ttotal: 7.84s\tremaining: 33.7s\n",
      "189:\tlearn: 0.4338243\ttotal: 7.89s\tremaining: 33.6s\n",
      "190:\tlearn: 0.4330568\ttotal: 7.93s\tremaining: 33.6s\n",
      "191:\tlearn: 0.4325513\ttotal: 7.97s\tremaining: 33.5s\n",
      "192:\tlearn: 0.4320339\ttotal: 8.01s\tremaining: 33.5s\n",
      "193:\tlearn: 0.4318169\ttotal: 8.05s\tremaining: 33.4s\n",
      "194:\tlearn: 0.4314495\ttotal: 8.09s\tremaining: 33.4s\n",
      "195:\tlearn: 0.4310549\ttotal: 8.13s\tremaining: 33.3s\n",
      "196:\tlearn: 0.4307980\ttotal: 8.17s\tremaining: 33.3s\n",
      "197:\tlearn: 0.4304827\ttotal: 8.21s\tremaining: 33.3s\n",
      "198:\tlearn: 0.4300999\ttotal: 8.25s\tremaining: 33.2s\n",
      "199:\tlearn: 0.4298321\ttotal: 8.29s\tremaining: 33.2s\n",
      "200:\tlearn: 0.4293580\ttotal: 8.33s\tremaining: 33.1s\n",
      "201:\tlearn: 0.4289371\ttotal: 8.37s\tremaining: 33.1s\n",
      "202:\tlearn: 0.4284932\ttotal: 8.42s\tremaining: 33s\n",
      "203:\tlearn: 0.4280251\ttotal: 8.46s\tremaining: 33s\n",
      "204:\tlearn: 0.4277835\ttotal: 8.49s\tremaining: 32.9s\n",
      "205:\tlearn: 0.4274595\ttotal: 8.54s\tremaining: 32.9s\n",
      "206:\tlearn: 0.4270915\ttotal: 8.58s\tremaining: 32.9s\n",
      "207:\tlearn: 0.4263796\ttotal: 8.62s\tremaining: 32.8s\n",
      "208:\tlearn: 0.4258430\ttotal: 8.65s\tremaining: 32.8s\n",
      "209:\tlearn: 0.4255618\ttotal: 8.69s\tremaining: 32.7s\n",
      "210:\tlearn: 0.4252719\ttotal: 8.73s\tremaining: 32.7s\n",
      "211:\tlearn: 0.4247366\ttotal: 8.78s\tremaining: 32.6s\n",
      "212:\tlearn: 0.4245649\ttotal: 8.81s\tremaining: 32.6s\n",
      "213:\tlearn: 0.4240593\ttotal: 8.85s\tremaining: 32.5s\n",
      "214:\tlearn: 0.4236666\ttotal: 8.89s\tremaining: 32.5s\n",
      "215:\tlearn: 0.4230156\ttotal: 8.93s\tremaining: 32.4s\n",
      "216:\tlearn: 0.4225282\ttotal: 8.97s\tremaining: 32.4s\n",
      "217:\tlearn: 0.4221165\ttotal: 9.01s\tremaining: 32.3s\n",
      "218:\tlearn: 0.4218533\ttotal: 9.05s\tremaining: 32.3s\n",
      "219:\tlearn: 0.4215862\ttotal: 9.09s\tremaining: 32.2s\n",
      "220:\tlearn: 0.4211592\ttotal: 9.13s\tremaining: 32.2s\n",
      "221:\tlearn: 0.4206968\ttotal: 9.17s\tremaining: 32.1s\n",
      "222:\tlearn: 0.4204378\ttotal: 9.21s\tremaining: 32.1s\n",
      "223:\tlearn: 0.4199717\ttotal: 9.25s\tremaining: 32s\n",
      "224:\tlearn: 0.4197601\ttotal: 9.29s\tremaining: 32s\n",
      "225:\tlearn: 0.4193019\ttotal: 9.32s\tremaining: 31.9s\n",
      "226:\tlearn: 0.4183806\ttotal: 9.37s\tremaining: 31.9s\n",
      "227:\tlearn: 0.4174965\ttotal: 9.41s\tremaining: 31.9s\n",
      "228:\tlearn: 0.4169429\ttotal: 9.46s\tremaining: 31.8s\n",
      "229:\tlearn: 0.4165741\ttotal: 9.49s\tremaining: 31.8s\n",
      "230:\tlearn: 0.4162071\ttotal: 9.53s\tremaining: 31.7s\n",
      "231:\tlearn: 0.4159472\ttotal: 9.57s\tremaining: 31.7s\n",
      "232:\tlearn: 0.4154295\ttotal: 9.61s\tremaining: 31.6s\n",
      "233:\tlearn: 0.4151841\ttotal: 9.65s\tremaining: 31.6s\n",
      "234:\tlearn: 0.4149390\ttotal: 9.69s\tremaining: 31.5s\n",
      "235:\tlearn: 0.4141840\ttotal: 9.73s\tremaining: 31.5s\n",
      "236:\tlearn: 0.4138075\ttotal: 9.77s\tremaining: 31.5s\n",
      "237:\tlearn: 0.4135713\ttotal: 9.81s\tremaining: 31.4s\n",
      "238:\tlearn: 0.4132006\ttotal: 9.86s\tremaining: 31.4s\n",
      "239:\tlearn: 0.4130399\ttotal: 9.89s\tremaining: 31.3s\n",
      "240:\tlearn: 0.4124478\ttotal: 9.93s\tremaining: 31.3s\n",
      "241:\tlearn: 0.4122114\ttotal: 9.97s\tremaining: 31.2s\n",
      "242:\tlearn: 0.4111957\ttotal: 10s\tremaining: 31.2s\n",
      "243:\tlearn: 0.4106059\ttotal: 10.1s\tremaining: 31.2s\n",
      "244:\tlearn: 0.4103555\ttotal: 10.1s\tremaining: 31.1s\n",
      "245:\tlearn: 0.4098467\ttotal: 10.1s\tremaining: 31.1s\n",
      "246:\tlearn: 0.4094448\ttotal: 10.2s\tremaining: 31s\n",
      "247:\tlearn: 0.4092733\ttotal: 10.2s\tremaining: 31s\n",
      "248:\tlearn: 0.4086953\ttotal: 10.3s\tremaining: 30.9s\n",
      "249:\tlearn: 0.4085662\ttotal: 10.3s\tremaining: 30.9s\n",
      "250:\tlearn: 0.4083411\ttotal: 10.3s\tremaining: 30.8s\n",
      "251:\tlearn: 0.4081220\ttotal: 10.4s\tremaining: 30.8s\n",
      "252:\tlearn: 0.4075592\ttotal: 10.4s\tremaining: 30.7s\n",
      "253:\tlearn: 0.4073235\ttotal: 10.5s\tremaining: 30.7s\n",
      "254:\tlearn: 0.4069131\ttotal: 10.5s\tremaining: 30.7s\n",
      "255:\tlearn: 0.4063212\ttotal: 10.5s\tremaining: 30.6s\n",
      "256:\tlearn: 0.4058236\ttotal: 10.6s\tremaining: 30.6s\n",
      "257:\tlearn: 0.4055947\ttotal: 10.6s\tremaining: 30.5s\n",
      "258:\tlearn: 0.4054310\ttotal: 10.7s\tremaining: 30.5s\n",
      "259:\tlearn: 0.4049723\ttotal: 10.7s\tremaining: 30.4s\n",
      "260:\tlearn: 0.4041218\ttotal: 10.7s\tremaining: 30.4s\n",
      "261:\tlearn: 0.4034329\ttotal: 10.8s\tremaining: 30.4s\n",
      "262:\tlearn: 0.4031963\ttotal: 10.8s\tremaining: 30.3s\n",
      "263:\tlearn: 0.4028023\ttotal: 10.9s\tremaining: 30.3s\n",
      "264:\tlearn: 0.4025668\ttotal: 10.9s\tremaining: 30.2s\n",
      "265:\tlearn: 0.4023139\ttotal: 10.9s\tremaining: 30.2s\n",
      "266:\tlearn: 0.4017014\ttotal: 11s\tremaining: 30.1s\n",
      "267:\tlearn: 0.4015443\ttotal: 11s\tremaining: 30.1s\n",
      "268:\tlearn: 0.4010215\ttotal: 11.1s\tremaining: 30s\n",
      "269:\tlearn: 0.4002138\ttotal: 11.1s\tremaining: 30s\n",
      "270:\tlearn: 0.3998183\ttotal: 11.1s\tremaining: 30s\n",
      "271:\tlearn: 0.3996283\ttotal: 11.2s\tremaining: 29.9s\n",
      "272:\tlearn: 0.3991740\ttotal: 11.2s\tremaining: 29.9s\n",
      "273:\tlearn: 0.3989299\ttotal: 11.3s\tremaining: 29.8s\n",
      "274:\tlearn: 0.3987863\ttotal: 11.3s\tremaining: 29.8s\n",
      "275:\tlearn: 0.3985291\ttotal: 11.3s\tremaining: 29.7s\n",
      "276:\tlearn: 0.3984160\ttotal: 11.4s\tremaining: 29.7s\n",
      "277:\tlearn: 0.3979922\ttotal: 11.4s\tremaining: 29.6s\n",
      "278:\tlearn: 0.3974373\ttotal: 11.5s\tremaining: 29.6s\n",
      "279:\tlearn: 0.3971937\ttotal: 11.5s\tremaining: 29.6s\n",
      "280:\tlearn: 0.3969923\ttotal: 11.5s\tremaining: 29.5s\n",
      "281:\tlearn: 0.3967703\ttotal: 11.6s\tremaining: 29.5s\n",
      "282:\tlearn: 0.3964734\ttotal: 11.6s\tremaining: 29.4s\n",
      "283:\tlearn: 0.3960008\ttotal: 11.7s\tremaining: 29.4s\n",
      "284:\tlearn: 0.3958231\ttotal: 11.7s\tremaining: 29.4s\n",
      "285:\tlearn: 0.3950193\ttotal: 11.7s\tremaining: 29.3s\n",
      "286:\tlearn: 0.3943675\ttotal: 11.8s\tremaining: 29.3s\n",
      "287:\tlearn: 0.3941752\ttotal: 11.8s\tremaining: 29.2s\n",
      "288:\tlearn: 0.3938574\ttotal: 11.9s\tremaining: 29.2s\n",
      "289:\tlearn: 0.3934132\ttotal: 11.9s\tremaining: 29.2s\n",
      "290:\tlearn: 0.3932805\ttotal: 11.9s\tremaining: 29.1s\n",
      "291:\tlearn: 0.3930131\ttotal: 12s\tremaining: 29.1s\n",
      "292:\tlearn: 0.3924860\ttotal: 12s\tremaining: 29s\n",
      "293:\tlearn: 0.3919930\ttotal: 12.1s\tremaining: 29s\n",
      "294:\tlearn: 0.3919047\ttotal: 12.1s\tremaining: 28.9s\n",
      "295:\tlearn: 0.3913734\ttotal: 12.2s\tremaining: 28.9s\n",
      "296:\tlearn: 0.3911305\ttotal: 12.2s\tremaining: 28.9s\n",
      "297:\tlearn: 0.3909484\ttotal: 12.2s\tremaining: 28.8s\n",
      "298:\tlearn: 0.3906187\ttotal: 12.3s\tremaining: 28.8s\n",
      "299:\tlearn: 0.3901615\ttotal: 12.3s\tremaining: 28.7s\n",
      "300:\tlearn: 0.3897186\ttotal: 12.4s\tremaining: 28.7s\n",
      "301:\tlearn: 0.3893442\ttotal: 12.4s\tremaining: 28.6s\n",
      "302:\tlearn: 0.3892061\ttotal: 12.4s\tremaining: 28.6s\n",
      "303:\tlearn: 0.3886824\ttotal: 12.5s\tremaining: 28.6s\n",
      "304:\tlearn: 0.3885230\ttotal: 12.5s\tremaining: 28.5s\n",
      "305:\tlearn: 0.3879604\ttotal: 12.6s\tremaining: 28.5s\n",
      "306:\tlearn: 0.3875424\ttotal: 12.6s\tremaining: 28.4s\n",
      "307:\tlearn: 0.3869318\ttotal: 12.6s\tremaining: 28.4s\n",
      "308:\tlearn: 0.3859778\ttotal: 12.7s\tremaining: 28.4s\n",
      "309:\tlearn: 0.3855018\ttotal: 12.7s\tremaining: 28.3s\n",
      "310:\tlearn: 0.3851380\ttotal: 12.8s\tremaining: 28.3s\n",
      "311:\tlearn: 0.3848433\ttotal: 12.8s\tremaining: 28.2s\n",
      "312:\tlearn: 0.3844048\ttotal: 12.8s\tremaining: 28.2s\n",
      "313:\tlearn: 0.3837877\ttotal: 12.9s\tremaining: 28.1s\n",
      "314:\tlearn: 0.3831981\ttotal: 12.9s\tremaining: 28.1s\n",
      "315:\tlearn: 0.3827444\ttotal: 13s\tremaining: 28.1s\n",
      "316:\tlearn: 0.3824108\ttotal: 13s\tremaining: 28s\n",
      "317:\tlearn: 0.3819558\ttotal: 13s\tremaining: 28s\n",
      "318:\tlearn: 0.3817113\ttotal: 13.1s\tremaining: 27.9s\n",
      "319:\tlearn: 0.3814577\ttotal: 13.1s\tremaining: 27.9s\n",
      "320:\tlearn: 0.3812535\ttotal: 13.2s\tremaining: 27.8s\n",
      "321:\tlearn: 0.3807644\ttotal: 13.2s\tremaining: 27.8s\n",
      "322:\tlearn: 0.3802771\ttotal: 13.2s\tremaining: 27.8s\n",
      "323:\tlearn: 0.3802144\ttotal: 13.3s\tremaining: 27.7s\n",
      "324:\tlearn: 0.3796527\ttotal: 13.3s\tremaining: 27.7s\n",
      "325:\tlearn: 0.3794413\ttotal: 13.4s\tremaining: 27.6s\n",
      "326:\tlearn: 0.3792264\ttotal: 13.4s\tremaining: 27.6s\n",
      "327:\tlearn: 0.3790081\ttotal: 13.4s\tremaining: 27.5s\n",
      "328:\tlearn: 0.3785847\ttotal: 13.5s\tremaining: 27.5s\n",
      "329:\tlearn: 0.3783607\ttotal: 13.5s\tremaining: 27.4s\n",
      "330:\tlearn: 0.3778550\ttotal: 13.6s\tremaining: 27.4s\n",
      "331:\tlearn: 0.3773328\ttotal: 13.6s\tremaining: 27.4s\n",
      "332:\tlearn: 0.3770654\ttotal: 13.6s\tremaining: 27.3s\n",
      "333:\tlearn: 0.3767097\ttotal: 13.7s\tremaining: 27.3s\n",
      "334:\tlearn: 0.3763570\ttotal: 13.7s\tremaining: 27.2s\n",
      "335:\tlearn: 0.3762442\ttotal: 13.8s\tremaining: 27.2s\n",
      "336:\tlearn: 0.3759762\ttotal: 13.8s\tremaining: 27.1s\n",
      "337:\tlearn: 0.3756612\ttotal: 13.8s\tremaining: 27.1s\n",
      "338:\tlearn: 0.3754362\ttotal: 13.9s\tremaining: 27.1s\n",
      "339:\tlearn: 0.3749800\ttotal: 13.9s\tremaining: 27s\n",
      "340:\tlearn: 0.3743827\ttotal: 14s\tremaining: 27s\n",
      "341:\tlearn: 0.3739884\ttotal: 14s\tremaining: 26.9s\n",
      "342:\tlearn: 0.3735085\ttotal: 14s\tremaining: 26.9s\n",
      "343:\tlearn: 0.3732554\ttotal: 14.1s\tremaining: 26.9s\n",
      "344:\tlearn: 0.3729640\ttotal: 14.1s\tremaining: 26.8s\n",
      "345:\tlearn: 0.3728153\ttotal: 14.2s\tremaining: 26.8s\n",
      "346:\tlearn: 0.3727327\ttotal: 14.2s\tremaining: 26.7s\n",
      "347:\tlearn: 0.3724102\ttotal: 14.2s\tremaining: 26.7s\n",
      "348:\tlearn: 0.3719098\ttotal: 14.3s\tremaining: 26.6s\n",
      "349:\tlearn: 0.3717862\ttotal: 14.3s\tremaining: 26.6s\n",
      "350:\tlearn: 0.3711127\ttotal: 14.4s\tremaining: 26.6s\n",
      "351:\tlearn: 0.3706372\ttotal: 14.4s\tremaining: 26.5s\n",
      "352:\tlearn: 0.3703916\ttotal: 14.4s\tremaining: 26.5s\n",
      "353:\tlearn: 0.3703062\ttotal: 14.5s\tremaining: 26.4s\n",
      "354:\tlearn: 0.3698628\ttotal: 14.5s\tremaining: 26.4s\n",
      "355:\tlearn: 0.3695483\ttotal: 14.6s\tremaining: 26.3s\n",
      "356:\tlearn: 0.3692826\ttotal: 14.6s\tremaining: 26.3s\n",
      "357:\tlearn: 0.3692402\ttotal: 14.6s\tremaining: 26.2s\n",
      "358:\tlearn: 0.3690726\ttotal: 14.7s\tremaining: 26.2s\n",
      "359:\tlearn: 0.3685346\ttotal: 14.7s\tremaining: 26.2s\n",
      "360:\tlearn: 0.3683295\ttotal: 14.8s\tremaining: 26.1s\n",
      "361:\tlearn: 0.3681968\ttotal: 14.8s\tremaining: 26.1s\n",
      "362:\tlearn: 0.3678964\ttotal: 14.9s\tremaining: 26.1s\n",
      "363:\tlearn: 0.3673289\ttotal: 14.9s\tremaining: 26s\n",
      "364:\tlearn: 0.3671668\ttotal: 14.9s\tremaining: 26s\n",
      "365:\tlearn: 0.3667827\ttotal: 15s\tremaining: 26s\n",
      "366:\tlearn: 0.3665266\ttotal: 15s\tremaining: 25.9s\n",
      "367:\tlearn: 0.3661344\ttotal: 15.1s\tremaining: 25.9s\n",
      "368:\tlearn: 0.3658148\ttotal: 15.1s\tremaining: 25.8s\n",
      "369:\tlearn: 0.3653982\ttotal: 15.2s\tremaining: 25.8s\n",
      "370:\tlearn: 0.3651081\ttotal: 15.2s\tremaining: 25.8s\n",
      "371:\tlearn: 0.3649338\ttotal: 15.2s\tremaining: 25.7s\n",
      "372:\tlearn: 0.3646022\ttotal: 15.3s\tremaining: 25.7s\n",
      "373:\tlearn: 0.3642993\ttotal: 15.3s\tremaining: 25.6s\n",
      "374:\tlearn: 0.3640560\ttotal: 15.3s\tremaining: 25.6s\n",
      "375:\tlearn: 0.3637098\ttotal: 15.4s\tremaining: 25.5s\n",
      "376:\tlearn: 0.3633264\ttotal: 15.4s\tremaining: 25.5s\n",
      "377:\tlearn: 0.3628678\ttotal: 15.5s\tremaining: 25.5s\n",
      "378:\tlearn: 0.3623288\ttotal: 15.5s\tremaining: 25.4s\n",
      "379:\tlearn: 0.3621067\ttotal: 15.6s\tremaining: 25.4s\n",
      "380:\tlearn: 0.3619693\ttotal: 15.6s\tremaining: 25.3s\n",
      "381:\tlearn: 0.3615660\ttotal: 15.6s\tremaining: 25.3s\n",
      "382:\tlearn: 0.3611688\ttotal: 15.7s\tremaining: 25.2s\n",
      "383:\tlearn: 0.3610822\ttotal: 15.7s\tremaining: 25.2s\n",
      "384:\tlearn: 0.3607164\ttotal: 15.7s\tremaining: 25.2s\n",
      "385:\tlearn: 0.3603886\ttotal: 15.8s\tremaining: 25.1s\n",
      "386:\tlearn: 0.3600330\ttotal: 15.8s\tremaining: 25.1s\n",
      "387:\tlearn: 0.3594326\ttotal: 15.9s\tremaining: 25s\n",
      "388:\tlearn: 0.3591320\ttotal: 15.9s\tremaining: 25s\n",
      "389:\tlearn: 0.3587054\ttotal: 15.9s\tremaining: 24.9s\n",
      "390:\tlearn: 0.3585638\ttotal: 16s\tremaining: 24.9s\n",
      "391:\tlearn: 0.3582848\ttotal: 16s\tremaining: 24.9s\n",
      "392:\tlearn: 0.3578859\ttotal: 16.1s\tremaining: 24.9s\n",
      "393:\tlearn: 0.3575383\ttotal: 16.1s\tremaining: 24.8s\n",
      "394:\tlearn: 0.3574216\ttotal: 16.2s\tremaining: 24.8s\n",
      "395:\tlearn: 0.3571713\ttotal: 16.2s\tremaining: 24.8s\n",
      "396:\tlearn: 0.3568510\ttotal: 16.3s\tremaining: 24.7s\n",
      "397:\tlearn: 0.3565846\ttotal: 16.3s\tremaining: 24.7s\n",
      "398:\tlearn: 0.3563216\ttotal: 16.4s\tremaining: 24.6s\n",
      "399:\tlearn: 0.3558661\ttotal: 16.4s\tremaining: 24.6s\n",
      "400:\tlearn: 0.3557453\ttotal: 16.4s\tremaining: 24.6s\n",
      "401:\tlearn: 0.3554628\ttotal: 16.5s\tremaining: 24.5s\n",
      "402:\tlearn: 0.3549946\ttotal: 16.5s\tremaining: 24.5s\n",
      "403:\tlearn: 0.3548550\ttotal: 16.6s\tremaining: 24.5s\n",
      "404:\tlearn: 0.3546937\ttotal: 16.6s\tremaining: 24.4s\n",
      "405:\tlearn: 0.3540901\ttotal: 16.7s\tremaining: 24.4s\n",
      "406:\tlearn: 0.3536560\ttotal: 16.7s\tremaining: 24.4s\n",
      "407:\tlearn: 0.3534447\ttotal: 16.8s\tremaining: 24.3s\n",
      "408:\tlearn: 0.3530002\ttotal: 16.8s\tremaining: 24.3s\n",
      "409:\tlearn: 0.3527404\ttotal: 16.9s\tremaining: 24.3s\n",
      "410:\tlearn: 0.3525247\ttotal: 16.9s\tremaining: 24.2s\n",
      "411:\tlearn: 0.3521852\ttotal: 17s\tremaining: 24.2s\n",
      "412:\tlearn: 0.3520576\ttotal: 17s\tremaining: 24.2s\n",
      "413:\tlearn: 0.3514536\ttotal: 17.1s\tremaining: 24.1s\n",
      "414:\tlearn: 0.3514141\ttotal: 17.1s\tremaining: 24.1s\n",
      "415:\tlearn: 0.3509448\ttotal: 17.1s\tremaining: 24.1s\n",
      "416:\tlearn: 0.3505751\ttotal: 17.2s\tremaining: 24s\n",
      "417:\tlearn: 0.3499609\ttotal: 17.2s\tremaining: 24s\n",
      "418:\tlearn: 0.3497058\ttotal: 17.3s\tremaining: 24s\n",
      "419:\tlearn: 0.3494388\ttotal: 17.3s\tremaining: 23.9s\n",
      "420:\tlearn: 0.3489609\ttotal: 17.4s\tremaining: 23.9s\n",
      "421:\tlearn: 0.3487067\ttotal: 17.4s\tremaining: 23.9s\n",
      "422:\tlearn: 0.3482663\ttotal: 17.5s\tremaining: 23.8s\n",
      "423:\tlearn: 0.3481422\ttotal: 17.5s\tremaining: 23.8s\n",
      "424:\tlearn: 0.3478820\ttotal: 17.5s\tremaining: 23.7s\n",
      "425:\tlearn: 0.3477004\ttotal: 17.6s\tremaining: 23.7s\n",
      "426:\tlearn: 0.3474008\ttotal: 17.6s\tremaining: 23.7s\n",
      "427:\tlearn: 0.3469084\ttotal: 17.7s\tremaining: 23.6s\n",
      "428:\tlearn: 0.3465594\ttotal: 17.7s\tremaining: 23.6s\n",
      "429:\tlearn: 0.3462810\ttotal: 17.7s\tremaining: 23.5s\n",
      "430:\tlearn: 0.3461074\ttotal: 17.8s\tremaining: 23.5s\n",
      "431:\tlearn: 0.3457942\ttotal: 17.8s\tremaining: 23.4s\n",
      "432:\tlearn: 0.3454627\ttotal: 17.9s\tremaining: 23.4s\n",
      "433:\tlearn: 0.3452394\ttotal: 17.9s\tremaining: 23.3s\n",
      "434:\tlearn: 0.3448885\ttotal: 17.9s\tremaining: 23.3s\n",
      "435:\tlearn: 0.3446108\ttotal: 18s\tremaining: 23.3s\n",
      "436:\tlearn: 0.3443500\ttotal: 18s\tremaining: 23.2s\n",
      "437:\tlearn: 0.3441935\ttotal: 18.1s\tremaining: 23.2s\n",
      "438:\tlearn: 0.3437342\ttotal: 18.1s\tremaining: 23.1s\n",
      "439:\tlearn: 0.3434434\ttotal: 18.1s\tremaining: 23.1s\n",
      "440:\tlearn: 0.3432747\ttotal: 18.2s\tremaining: 23s\n",
      "441:\tlearn: 0.3431122\ttotal: 18.2s\tremaining: 23s\n",
      "442:\tlearn: 0.3429388\ttotal: 18.3s\tremaining: 22.9s\n",
      "443:\tlearn: 0.3428223\ttotal: 18.3s\tremaining: 22.9s\n",
      "444:\tlearn: 0.3424478\ttotal: 18.3s\tremaining: 22.9s\n",
      "445:\tlearn: 0.3420591\ttotal: 18.4s\tremaining: 22.8s\n",
      "446:\tlearn: 0.3418820\ttotal: 18.4s\tremaining: 22.8s\n",
      "447:\tlearn: 0.3417497\ttotal: 18.4s\tremaining: 22.7s\n",
      "448:\tlearn: 0.3414062\ttotal: 18.5s\tremaining: 22.7s\n",
      "449:\tlearn: 0.3412622\ttotal: 18.5s\tremaining: 22.6s\n",
      "450:\tlearn: 0.3411117\ttotal: 18.6s\tremaining: 22.6s\n",
      "451:\tlearn: 0.3407574\ttotal: 18.6s\tremaining: 22.6s\n",
      "452:\tlearn: 0.3405268\ttotal: 18.6s\tremaining: 22.5s\n",
      "453:\tlearn: 0.3403343\ttotal: 18.7s\tremaining: 22.5s\n",
      "454:\tlearn: 0.3399414\ttotal: 18.7s\tremaining: 22.4s\n",
      "455:\tlearn: 0.3397396\ttotal: 18.8s\tremaining: 22.4s\n",
      "456:\tlearn: 0.3391501\ttotal: 18.8s\tremaining: 22.4s\n",
      "457:\tlearn: 0.3390898\ttotal: 18.9s\tremaining: 22.3s\n",
      "458:\tlearn: 0.3389640\ttotal: 18.9s\tremaining: 22.3s\n",
      "459:\tlearn: 0.3387845\ttotal: 18.9s\tremaining: 22.2s\n",
      "460:\tlearn: 0.3384947\ttotal: 19s\tremaining: 22.2s\n",
      "461:\tlearn: 0.3383032\ttotal: 19s\tremaining: 22.1s\n",
      "462:\tlearn: 0.3378993\ttotal: 19.1s\tremaining: 22.1s\n",
      "463:\tlearn: 0.3376587\ttotal: 19.1s\tremaining: 22.1s\n",
      "464:\tlearn: 0.3373156\ttotal: 19.1s\tremaining: 22s\n",
      "465:\tlearn: 0.3371935\ttotal: 19.2s\tremaining: 22s\n",
      "466:\tlearn: 0.3367778\ttotal: 19.2s\tremaining: 21.9s\n",
      "467:\tlearn: 0.3363877\ttotal: 19.3s\tremaining: 21.9s\n",
      "468:\tlearn: 0.3360938\ttotal: 19.3s\tremaining: 21.9s\n",
      "469:\tlearn: 0.3357418\ttotal: 19.3s\tremaining: 21.8s\n",
      "470:\tlearn: 0.3356297\ttotal: 19.4s\tremaining: 21.8s\n",
      "471:\tlearn: 0.3353493\ttotal: 19.4s\tremaining: 21.7s\n",
      "472:\tlearn: 0.3351343\ttotal: 19.5s\tremaining: 21.7s\n",
      "473:\tlearn: 0.3348782\ttotal: 19.5s\tremaining: 21.6s\n",
      "474:\tlearn: 0.3346592\ttotal: 19.5s\tremaining: 21.6s\n",
      "475:\tlearn: 0.3344976\ttotal: 19.6s\tremaining: 21.6s\n",
      "476:\tlearn: 0.3344363\ttotal: 19.6s\tremaining: 21.5s\n",
      "477:\tlearn: 0.3339881\ttotal: 19.7s\tremaining: 21.5s\n",
      "478:\tlearn: 0.3337159\ttotal: 19.7s\tremaining: 21.4s\n",
      "479:\tlearn: 0.3332499\ttotal: 19.7s\tremaining: 21.4s\n",
      "480:\tlearn: 0.3331204\ttotal: 19.8s\tremaining: 21.3s\n",
      "481:\tlearn: 0.3327809\ttotal: 19.8s\tremaining: 21.3s\n",
      "482:\tlearn: 0.3323645\ttotal: 19.9s\tremaining: 21.3s\n",
      "483:\tlearn: 0.3316255\ttotal: 19.9s\tremaining: 21.2s\n",
      "484:\tlearn: 0.3312361\ttotal: 20s\tremaining: 21.2s\n",
      "485:\tlearn: 0.3311347\ttotal: 20s\tremaining: 21.1s\n",
      "486:\tlearn: 0.3306289\ttotal: 20s\tremaining: 21.1s\n",
      "487:\tlearn: 0.3304553\ttotal: 20.1s\tremaining: 21.1s\n",
      "488:\tlearn: 0.3303218\ttotal: 20.1s\tremaining: 21s\n",
      "489:\tlearn: 0.3302544\ttotal: 20.2s\tremaining: 21s\n",
      "490:\tlearn: 0.3298927\ttotal: 20.2s\tremaining: 20.9s\n",
      "491:\tlearn: 0.3297588\ttotal: 20.2s\tremaining: 20.9s\n",
      "492:\tlearn: 0.3296152\ttotal: 20.3s\tremaining: 20.9s\n",
      "493:\tlearn: 0.3294941\ttotal: 20.3s\tremaining: 20.8s\n",
      "494:\tlearn: 0.3290432\ttotal: 20.4s\tremaining: 20.8s\n",
      "495:\tlearn: 0.3289414\ttotal: 20.4s\tremaining: 20.7s\n",
      "496:\tlearn: 0.3286290\ttotal: 20.4s\tremaining: 20.7s\n",
      "497:\tlearn: 0.3282533\ttotal: 20.5s\tremaining: 20.6s\n",
      "498:\tlearn: 0.3280110\ttotal: 20.5s\tremaining: 20.6s\n",
      "499:\tlearn: 0.3279169\ttotal: 20.6s\tremaining: 20.6s\n",
      "500:\tlearn: 0.3274892\ttotal: 20.6s\tremaining: 20.5s\n",
      "501:\tlearn: 0.3272783\ttotal: 20.6s\tremaining: 20.5s\n",
      "502:\tlearn: 0.3270967\ttotal: 20.7s\tremaining: 20.4s\n",
      "503:\tlearn: 0.3269359\ttotal: 20.7s\tremaining: 20.4s\n",
      "504:\tlearn: 0.3267260\ttotal: 20.8s\tremaining: 20.4s\n",
      "505:\tlearn: 0.3265241\ttotal: 20.8s\tremaining: 20.3s\n",
      "506:\tlearn: 0.3262789\ttotal: 20.8s\tremaining: 20.3s\n",
      "507:\tlearn: 0.3260921\ttotal: 20.9s\tremaining: 20.2s\n",
      "508:\tlearn: 0.3257718\ttotal: 20.9s\tremaining: 20.2s\n",
      "509:\tlearn: 0.3254740\ttotal: 21s\tremaining: 20.1s\n",
      "510:\tlearn: 0.3250705\ttotal: 21s\tremaining: 20.1s\n",
      "511:\tlearn: 0.3247485\ttotal: 21s\tremaining: 20.1s\n",
      "512:\tlearn: 0.3246264\ttotal: 21.1s\tremaining: 20s\n",
      "513:\tlearn: 0.3241976\ttotal: 21.1s\tremaining: 20s\n",
      "514:\tlearn: 0.3240745\ttotal: 21.2s\tremaining: 19.9s\n",
      "515:\tlearn: 0.3238035\ttotal: 21.2s\tremaining: 19.9s\n",
      "516:\tlearn: 0.3236108\ttotal: 21.2s\tremaining: 19.8s\n",
      "517:\tlearn: 0.3234487\ttotal: 21.3s\tremaining: 19.8s\n",
      "518:\tlearn: 0.3231464\ttotal: 21.3s\tremaining: 19.8s\n",
      "519:\tlearn: 0.3231111\ttotal: 21.4s\tremaining: 19.7s\n",
      "520:\tlearn: 0.3227374\ttotal: 21.4s\tremaining: 19.7s\n",
      "521:\tlearn: 0.3225850\ttotal: 21.4s\tremaining: 19.6s\n",
      "522:\tlearn: 0.3221825\ttotal: 21.5s\tremaining: 19.6s\n",
      "523:\tlearn: 0.3218783\ttotal: 21.5s\tremaining: 19.5s\n",
      "524:\tlearn: 0.3216816\ttotal: 21.6s\tremaining: 19.5s\n",
      "525:\tlearn: 0.3216102\ttotal: 21.6s\tremaining: 19.5s\n",
      "526:\tlearn: 0.3213949\ttotal: 21.6s\tremaining: 19.4s\n",
      "527:\tlearn: 0.3210878\ttotal: 21.7s\tremaining: 19.4s\n",
      "528:\tlearn: 0.3208238\ttotal: 21.7s\tremaining: 19.3s\n",
      "529:\tlearn: 0.3207217\ttotal: 21.7s\tremaining: 19.3s\n",
      "530:\tlearn: 0.3201042\ttotal: 21.8s\tremaining: 19.2s\n",
      "531:\tlearn: 0.3200434\ttotal: 21.8s\tremaining: 19.2s\n",
      "532:\tlearn: 0.3199234\ttotal: 21.9s\tremaining: 19.2s\n",
      "533:\tlearn: 0.3197522\ttotal: 21.9s\tremaining: 19.1s\n",
      "534:\tlearn: 0.3195209\ttotal: 21.9s\tremaining: 19.1s\n",
      "535:\tlearn: 0.3191231\ttotal: 22s\tremaining: 19s\n",
      "536:\tlearn: 0.3190091\ttotal: 22s\tremaining: 19s\n",
      "537:\tlearn: 0.3185385\ttotal: 22.1s\tremaining: 18.9s\n",
      "538:\tlearn: 0.3183936\ttotal: 22.1s\tremaining: 18.9s\n",
      "539:\tlearn: 0.3182690\ttotal: 22.1s\tremaining: 18.9s\n",
      "540:\tlearn: 0.3181174\ttotal: 22.2s\tremaining: 18.8s\n",
      "541:\tlearn: 0.3179473\ttotal: 22.2s\tremaining: 18.8s\n",
      "542:\tlearn: 0.3175192\ttotal: 22.3s\tremaining: 18.7s\n",
      "543:\tlearn: 0.3174260\ttotal: 22.3s\tremaining: 18.7s\n",
      "544:\tlearn: 0.3171081\ttotal: 22.3s\tremaining: 18.6s\n",
      "545:\tlearn: 0.3167293\ttotal: 22.4s\tremaining: 18.6s\n",
      "546:\tlearn: 0.3164588\ttotal: 22.4s\tremaining: 18.6s\n",
      "547:\tlearn: 0.3163734\ttotal: 22.5s\tremaining: 18.5s\n",
      "548:\tlearn: 0.3159334\ttotal: 22.5s\tremaining: 18.5s\n",
      "549:\tlearn: 0.3153783\ttotal: 22.5s\tremaining: 18.4s\n",
      "550:\tlearn: 0.3152795\ttotal: 22.6s\tremaining: 18.4s\n",
      "551:\tlearn: 0.3150868\ttotal: 22.6s\tremaining: 18.4s\n",
      "552:\tlearn: 0.3147695\ttotal: 22.7s\tremaining: 18.3s\n",
      "553:\tlearn: 0.3145369\ttotal: 22.7s\tremaining: 18.3s\n",
      "554:\tlearn: 0.3142703\ttotal: 22.7s\tremaining: 18.2s\n",
      "555:\tlearn: 0.3142103\ttotal: 22.8s\tremaining: 18.2s\n",
      "556:\tlearn: 0.3140342\ttotal: 22.8s\tremaining: 18.1s\n",
      "557:\tlearn: 0.3137839\ttotal: 22.9s\tremaining: 18.1s\n",
      "558:\tlearn: 0.3135946\ttotal: 22.9s\tremaining: 18.1s\n",
      "559:\tlearn: 0.3133707\ttotal: 22.9s\tremaining: 18s\n",
      "560:\tlearn: 0.3130554\ttotal: 23s\tremaining: 18s\n",
      "561:\tlearn: 0.3128524\ttotal: 23s\tremaining: 17.9s\n",
      "562:\tlearn: 0.3125241\ttotal: 23.1s\tremaining: 17.9s\n",
      "563:\tlearn: 0.3123237\ttotal: 23.1s\tremaining: 17.9s\n",
      "564:\tlearn: 0.3117906\ttotal: 23.1s\tremaining: 17.8s\n",
      "565:\tlearn: 0.3113973\ttotal: 23.2s\tremaining: 17.8s\n",
      "566:\tlearn: 0.3110535\ttotal: 23.2s\tremaining: 17.7s\n",
      "567:\tlearn: 0.3109156\ttotal: 23.3s\tremaining: 17.7s\n",
      "568:\tlearn: 0.3107615\ttotal: 23.3s\tremaining: 17.6s\n",
      "569:\tlearn: 0.3104706\ttotal: 23.3s\tremaining: 17.6s\n",
      "570:\tlearn: 0.3103583\ttotal: 23.4s\tremaining: 17.6s\n",
      "571:\tlearn: 0.3098608\ttotal: 23.4s\tremaining: 17.5s\n",
      "572:\tlearn: 0.3096063\ttotal: 23.5s\tremaining: 17.5s\n",
      "573:\tlearn: 0.3093278\ttotal: 23.5s\tremaining: 17.4s\n",
      "574:\tlearn: 0.3089363\ttotal: 23.5s\tremaining: 17.4s\n",
      "575:\tlearn: 0.3087264\ttotal: 23.6s\tremaining: 17.4s\n",
      "576:\tlearn: 0.3086274\ttotal: 23.6s\tremaining: 17.3s\n",
      "577:\tlearn: 0.3083217\ttotal: 23.7s\tremaining: 17.3s\n",
      "578:\tlearn: 0.3078873\ttotal: 23.7s\tremaining: 17.2s\n",
      "579:\tlearn: 0.3077383\ttotal: 23.7s\tremaining: 17.2s\n",
      "580:\tlearn: 0.3074335\ttotal: 23.8s\tremaining: 17.1s\n",
      "581:\tlearn: 0.3071043\ttotal: 23.8s\tremaining: 17.1s\n",
      "582:\tlearn: 0.3069600\ttotal: 23.9s\tremaining: 17.1s\n",
      "583:\tlearn: 0.3067079\ttotal: 23.9s\tremaining: 17s\n",
      "584:\tlearn: 0.3061489\ttotal: 23.9s\tremaining: 17s\n",
      "585:\tlearn: 0.3057418\ttotal: 24s\tremaining: 16.9s\n",
      "586:\tlearn: 0.3055973\ttotal: 24s\tremaining: 16.9s\n",
      "587:\tlearn: 0.3053732\ttotal: 24.1s\tremaining: 16.9s\n",
      "588:\tlearn: 0.3052558\ttotal: 24.1s\tremaining: 16.8s\n",
      "589:\tlearn: 0.3047121\ttotal: 24.2s\tremaining: 16.8s\n",
      "590:\tlearn: 0.3045992\ttotal: 24.2s\tremaining: 16.7s\n",
      "591:\tlearn: 0.3043785\ttotal: 24.2s\tremaining: 16.7s\n",
      "592:\tlearn: 0.3042599\ttotal: 24.3s\tremaining: 16.7s\n",
      "593:\tlearn: 0.3040669\ttotal: 24.3s\tremaining: 16.6s\n",
      "594:\tlearn: 0.3039547\ttotal: 24.4s\tremaining: 16.6s\n",
      "595:\tlearn: 0.3038401\ttotal: 24.4s\tremaining: 16.5s\n",
      "596:\tlearn: 0.3036007\ttotal: 24.4s\tremaining: 16.5s\n",
      "597:\tlearn: 0.3031879\ttotal: 24.5s\tremaining: 16.5s\n",
      "598:\tlearn: 0.3029655\ttotal: 24.5s\tremaining: 16.4s\n",
      "599:\tlearn: 0.3027374\ttotal: 24.6s\tremaining: 16.4s\n",
      "600:\tlearn: 0.3026409\ttotal: 24.6s\tremaining: 16.3s\n",
      "601:\tlearn: 0.3025157\ttotal: 24.6s\tremaining: 16.3s\n",
      "602:\tlearn: 0.3022461\ttotal: 24.7s\tremaining: 16.2s\n",
      "603:\tlearn: 0.3019295\ttotal: 24.7s\tremaining: 16.2s\n",
      "604:\tlearn: 0.3016723\ttotal: 24.8s\tremaining: 16.2s\n",
      "605:\tlearn: 0.3015814\ttotal: 24.8s\tremaining: 16.1s\n",
      "606:\tlearn: 0.3014309\ttotal: 24.8s\tremaining: 16.1s\n",
      "607:\tlearn: 0.3011755\ttotal: 24.9s\tremaining: 16s\n",
      "608:\tlearn: 0.3008000\ttotal: 24.9s\tremaining: 16s\n",
      "609:\tlearn: 0.3003466\ttotal: 25s\tremaining: 16s\n",
      "610:\tlearn: 0.3001750\ttotal: 25s\tremaining: 15.9s\n",
      "611:\tlearn: 0.2999554\ttotal: 25s\tremaining: 15.9s\n",
      "612:\tlearn: 0.2997165\ttotal: 25.1s\tremaining: 15.8s\n",
      "613:\tlearn: 0.2993967\ttotal: 25.1s\tremaining: 15.8s\n",
      "614:\tlearn: 0.2991899\ttotal: 25.2s\tremaining: 15.8s\n",
      "615:\tlearn: 0.2989292\ttotal: 25.2s\tremaining: 15.7s\n",
      "616:\tlearn: 0.2987622\ttotal: 25.2s\tremaining: 15.7s\n",
      "617:\tlearn: 0.2986172\ttotal: 25.3s\tremaining: 15.6s\n",
      "618:\tlearn: 0.2984675\ttotal: 25.3s\tremaining: 15.6s\n",
      "619:\tlearn: 0.2982596\ttotal: 25.4s\tremaining: 15.5s\n",
      "620:\tlearn: 0.2979931\ttotal: 25.4s\tremaining: 15.5s\n",
      "621:\tlearn: 0.2977247\ttotal: 25.4s\tremaining: 15.5s\n",
      "622:\tlearn: 0.2976194\ttotal: 25.5s\tremaining: 15.4s\n",
      "623:\tlearn: 0.2972206\ttotal: 25.5s\tremaining: 15.4s\n",
      "624:\tlearn: 0.2970078\ttotal: 25.6s\tremaining: 15.3s\n",
      "625:\tlearn: 0.2968656\ttotal: 25.6s\tremaining: 15.3s\n",
      "626:\tlearn: 0.2966987\ttotal: 25.6s\tremaining: 15.2s\n",
      "627:\tlearn: 0.2965141\ttotal: 25.7s\tremaining: 15.2s\n",
      "628:\tlearn: 0.2963122\ttotal: 25.7s\tremaining: 15.2s\n",
      "629:\tlearn: 0.2959552\ttotal: 25.8s\tremaining: 15.1s\n",
      "630:\tlearn: 0.2955280\ttotal: 25.8s\tremaining: 15.1s\n",
      "631:\tlearn: 0.2953878\ttotal: 25.8s\tremaining: 15s\n",
      "632:\tlearn: 0.2950030\ttotal: 25.9s\tremaining: 15s\n",
      "633:\tlearn: 0.2948205\ttotal: 25.9s\tremaining: 15s\n",
      "634:\tlearn: 0.2947000\ttotal: 25.9s\tremaining: 14.9s\n",
      "635:\tlearn: 0.2946702\ttotal: 26s\tremaining: 14.9s\n",
      "636:\tlearn: 0.2943110\ttotal: 26s\tremaining: 14.8s\n",
      "637:\tlearn: 0.2941088\ttotal: 26.1s\tremaining: 14.8s\n",
      "638:\tlearn: 0.2939102\ttotal: 26.1s\tremaining: 14.8s\n",
      "639:\tlearn: 0.2936310\ttotal: 26.2s\tremaining: 14.7s\n",
      "640:\tlearn: 0.2932340\ttotal: 26.2s\tremaining: 14.7s\n",
      "641:\tlearn: 0.2930717\ttotal: 26.2s\tremaining: 14.6s\n",
      "642:\tlearn: 0.2929297\ttotal: 26.3s\tremaining: 14.6s\n",
      "643:\tlearn: 0.2928535\ttotal: 26.3s\tremaining: 14.5s\n",
      "644:\tlearn: 0.2927609\ttotal: 26.4s\tremaining: 14.5s\n",
      "645:\tlearn: 0.2926083\ttotal: 26.4s\tremaining: 14.5s\n",
      "646:\tlearn: 0.2924392\ttotal: 26.4s\tremaining: 14.4s\n",
      "647:\tlearn: 0.2922459\ttotal: 26.5s\tremaining: 14.4s\n",
      "648:\tlearn: 0.2916425\ttotal: 26.5s\tremaining: 14.3s\n",
      "649:\tlearn: 0.2913803\ttotal: 26.6s\tremaining: 14.3s\n",
      "650:\tlearn: 0.2912032\ttotal: 26.6s\tremaining: 14.3s\n",
      "651:\tlearn: 0.2908207\ttotal: 26.6s\tremaining: 14.2s\n",
      "652:\tlearn: 0.2907265\ttotal: 26.7s\tremaining: 14.2s\n",
      "653:\tlearn: 0.2905514\ttotal: 26.7s\tremaining: 14.1s\n",
      "654:\tlearn: 0.2904909\ttotal: 26.8s\tremaining: 14.1s\n",
      "655:\tlearn: 0.2900852\ttotal: 26.8s\tremaining: 14.1s\n",
      "656:\tlearn: 0.2897856\ttotal: 26.8s\tremaining: 14s\n",
      "657:\tlearn: 0.2895535\ttotal: 26.9s\tremaining: 14s\n",
      "658:\tlearn: 0.2894404\ttotal: 26.9s\tremaining: 13.9s\n",
      "659:\tlearn: 0.2893381\ttotal: 27s\tremaining: 13.9s\n",
      "660:\tlearn: 0.2892582\ttotal: 27s\tremaining: 13.8s\n",
      "661:\tlearn: 0.2889650\ttotal: 27s\tremaining: 13.8s\n",
      "662:\tlearn: 0.2888758\ttotal: 27.1s\tremaining: 13.8s\n",
      "663:\tlearn: 0.2885346\ttotal: 27.1s\tremaining: 13.7s\n",
      "664:\tlearn: 0.2884361\ttotal: 27.2s\tremaining: 13.7s\n",
      "665:\tlearn: 0.2882016\ttotal: 27.2s\tremaining: 13.6s\n",
      "666:\tlearn: 0.2878714\ttotal: 27.3s\tremaining: 13.6s\n",
      "667:\tlearn: 0.2875504\ttotal: 27.3s\tremaining: 13.6s\n",
      "668:\tlearn: 0.2873120\ttotal: 27.3s\tremaining: 13.5s\n",
      "669:\tlearn: 0.2872012\ttotal: 27.4s\tremaining: 13.5s\n",
      "670:\tlearn: 0.2870875\ttotal: 27.4s\tremaining: 13.4s\n",
      "671:\tlearn: 0.2869535\ttotal: 27.4s\tremaining: 13.4s\n",
      "672:\tlearn: 0.2867074\ttotal: 27.5s\tremaining: 13.4s\n",
      "673:\tlearn: 0.2864595\ttotal: 27.5s\tremaining: 13.3s\n",
      "674:\tlearn: 0.2862832\ttotal: 27.6s\tremaining: 13.3s\n",
      "675:\tlearn: 0.2862227\ttotal: 27.6s\tremaining: 13.2s\n",
      "676:\tlearn: 0.2861204\ttotal: 27.6s\tremaining: 13.2s\n",
      "677:\tlearn: 0.2860072\ttotal: 27.7s\tremaining: 13.1s\n",
      "678:\tlearn: 0.2857786\ttotal: 27.7s\tremaining: 13.1s\n",
      "679:\tlearn: 0.2855970\ttotal: 27.8s\tremaining: 13.1s\n",
      "680:\tlearn: 0.2854034\ttotal: 27.8s\tremaining: 13s\n",
      "681:\tlearn: 0.2853238\ttotal: 27.8s\tremaining: 13s\n",
      "682:\tlearn: 0.2852123\ttotal: 27.9s\tremaining: 12.9s\n",
      "683:\tlearn: 0.2851264\ttotal: 27.9s\tremaining: 12.9s\n",
      "684:\tlearn: 0.2847867\ttotal: 27.9s\tremaining: 12.9s\n",
      "685:\tlearn: 0.2841574\ttotal: 28s\tremaining: 12.8s\n",
      "686:\tlearn: 0.2840238\ttotal: 28s\tremaining: 12.8s\n",
      "687:\tlearn: 0.2838392\ttotal: 28.1s\tremaining: 12.7s\n",
      "688:\tlearn: 0.2833370\ttotal: 28.1s\tremaining: 12.7s\n",
      "689:\tlearn: 0.2831683\ttotal: 28.2s\tremaining: 12.7s\n",
      "690:\tlearn: 0.2829578\ttotal: 28.2s\tremaining: 12.6s\n",
      "691:\tlearn: 0.2827051\ttotal: 28.2s\tremaining: 12.6s\n",
      "692:\tlearn: 0.2824820\ttotal: 28.3s\tremaining: 12.5s\n",
      "693:\tlearn: 0.2822758\ttotal: 28.3s\tremaining: 12.5s\n",
      "694:\tlearn: 0.2820081\ttotal: 28.4s\tremaining: 12.4s\n",
      "695:\tlearn: 0.2817990\ttotal: 28.4s\tremaining: 12.4s\n",
      "696:\tlearn: 0.2816730\ttotal: 28.4s\tremaining: 12.4s\n",
      "697:\tlearn: 0.2815963\ttotal: 28.5s\tremaining: 12.3s\n",
      "698:\tlearn: 0.2813950\ttotal: 28.5s\tremaining: 12.3s\n",
      "699:\tlearn: 0.2810062\ttotal: 28.6s\tremaining: 12.2s\n",
      "700:\tlearn: 0.2807210\ttotal: 28.6s\tremaining: 12.2s\n",
      "701:\tlearn: 0.2805762\ttotal: 28.6s\tremaining: 12.2s\n",
      "702:\tlearn: 0.2803972\ttotal: 28.7s\tremaining: 12.1s\n",
      "703:\tlearn: 0.2802570\ttotal: 28.7s\tremaining: 12.1s\n",
      "704:\tlearn: 0.2801622\ttotal: 28.8s\tremaining: 12s\n",
      "705:\tlearn: 0.2797883\ttotal: 28.8s\tremaining: 12s\n",
      "706:\tlearn: 0.2795444\ttotal: 28.8s\tremaining: 11.9s\n",
      "707:\tlearn: 0.2790961\ttotal: 28.9s\tremaining: 11.9s\n",
      "708:\tlearn: 0.2789055\ttotal: 28.9s\tremaining: 11.9s\n",
      "709:\tlearn: 0.2786144\ttotal: 29s\tremaining: 11.8s\n",
      "710:\tlearn: 0.2783244\ttotal: 29s\tremaining: 11.8s\n",
      "711:\tlearn: 0.2782636\ttotal: 29s\tremaining: 11.7s\n",
      "712:\tlearn: 0.2780888\ttotal: 29.1s\tremaining: 11.7s\n",
      "713:\tlearn: 0.2775478\ttotal: 29.1s\tremaining: 11.7s\n",
      "714:\tlearn: 0.2774003\ttotal: 29.2s\tremaining: 11.6s\n",
      "715:\tlearn: 0.2773018\ttotal: 29.2s\tremaining: 11.6s\n",
      "716:\tlearn: 0.2770428\ttotal: 29.2s\tremaining: 11.5s\n",
      "717:\tlearn: 0.2769163\ttotal: 29.3s\tremaining: 11.5s\n",
      "718:\tlearn: 0.2764307\ttotal: 29.3s\tremaining: 11.5s\n",
      "719:\tlearn: 0.2761536\ttotal: 29.4s\tremaining: 11.4s\n",
      "720:\tlearn: 0.2758699\ttotal: 29.4s\tremaining: 11.4s\n",
      "721:\tlearn: 0.2755505\ttotal: 29.4s\tremaining: 11.3s\n",
      "722:\tlearn: 0.2754338\ttotal: 29.5s\tremaining: 11.3s\n",
      "723:\tlearn: 0.2752949\ttotal: 29.5s\tremaining: 11.3s\n",
      "724:\tlearn: 0.2749527\ttotal: 29.6s\tremaining: 11.2s\n",
      "725:\tlearn: 0.2746953\ttotal: 29.6s\tremaining: 11.2s\n",
      "726:\tlearn: 0.2746349\ttotal: 29.6s\tremaining: 11.1s\n",
      "727:\tlearn: 0.2744979\ttotal: 29.7s\tremaining: 11.1s\n",
      "728:\tlearn: 0.2743414\ttotal: 29.7s\tremaining: 11s\n",
      "729:\tlearn: 0.2742425\ttotal: 29.8s\tremaining: 11s\n",
      "730:\tlearn: 0.2740069\ttotal: 29.8s\tremaining: 11s\n",
      "731:\tlearn: 0.2738054\ttotal: 29.8s\tremaining: 10.9s\n",
      "732:\tlearn: 0.2737174\ttotal: 29.9s\tremaining: 10.9s\n",
      "733:\tlearn: 0.2736069\ttotal: 29.9s\tremaining: 10.8s\n",
      "734:\tlearn: 0.2734104\ttotal: 30s\tremaining: 10.8s\n",
      "735:\tlearn: 0.2728816\ttotal: 30s\tremaining: 10.8s\n",
      "736:\tlearn: 0.2727246\ttotal: 30s\tremaining: 10.7s\n",
      "737:\tlearn: 0.2726237\ttotal: 30.1s\tremaining: 10.7s\n",
      "738:\tlearn: 0.2725702\ttotal: 30.1s\tremaining: 10.6s\n",
      "739:\tlearn: 0.2723789\ttotal: 30.2s\tremaining: 10.6s\n",
      "740:\tlearn: 0.2723348\ttotal: 30.2s\tremaining: 10.6s\n",
      "741:\tlearn: 0.2722110\ttotal: 30.2s\tremaining: 10.5s\n",
      "742:\tlearn: 0.2720440\ttotal: 30.3s\tremaining: 10.5s\n",
      "743:\tlearn: 0.2718745\ttotal: 30.3s\tremaining: 10.4s\n",
      "744:\tlearn: 0.2716727\ttotal: 30.4s\tremaining: 10.4s\n",
      "745:\tlearn: 0.2715789\ttotal: 30.4s\tremaining: 10.3s\n",
      "746:\tlearn: 0.2712670\ttotal: 30.4s\tremaining: 10.3s\n",
      "747:\tlearn: 0.2711829\ttotal: 30.5s\tremaining: 10.3s\n",
      "748:\tlearn: 0.2709559\ttotal: 30.5s\tremaining: 10.2s\n",
      "749:\tlearn: 0.2708068\ttotal: 30.5s\tremaining: 10.2s\n",
      "750:\tlearn: 0.2706204\ttotal: 30.6s\tremaining: 10.1s\n",
      "751:\tlearn: 0.2703476\ttotal: 30.6s\tremaining: 10.1s\n",
      "752:\tlearn: 0.2700580\ttotal: 30.7s\tremaining: 10.1s\n",
      "753:\tlearn: 0.2699790\ttotal: 30.7s\tremaining: 10s\n",
      "754:\tlearn: 0.2698273\ttotal: 30.7s\tremaining: 9.98s\n",
      "755:\tlearn: 0.2696573\ttotal: 30.8s\tremaining: 9.94s\n",
      "756:\tlearn: 0.2695202\ttotal: 30.8s\tremaining: 9.89s\n",
      "757:\tlearn: 0.2693113\ttotal: 30.9s\tremaining: 9.85s\n",
      "758:\tlearn: 0.2692137\ttotal: 30.9s\tremaining: 9.81s\n",
      "759:\tlearn: 0.2690910\ttotal: 30.9s\tremaining: 9.77s\n",
      "760:\tlearn: 0.2688908\ttotal: 31s\tremaining: 9.73s\n",
      "761:\tlearn: 0.2686581\ttotal: 31s\tremaining: 9.69s\n",
      "762:\tlearn: 0.2685728\ttotal: 31.1s\tremaining: 9.64s\n",
      "763:\tlearn: 0.2682064\ttotal: 31.1s\tremaining: 9.61s\n",
      "764:\tlearn: 0.2676719\ttotal: 31.1s\tremaining: 9.57s\n",
      "765:\tlearn: 0.2675426\ttotal: 31.2s\tremaining: 9.53s\n",
      "766:\tlearn: 0.2671800\ttotal: 31.2s\tremaining: 9.48s\n",
      "767:\tlearn: 0.2668968\ttotal: 31.3s\tremaining: 9.44s\n",
      "768:\tlearn: 0.2667863\ttotal: 31.3s\tremaining: 9.4s\n",
      "769:\tlearn: 0.2665286\ttotal: 31.3s\tremaining: 9.36s\n",
      "770:\tlearn: 0.2663567\ttotal: 31.4s\tremaining: 9.32s\n",
      "771:\tlearn: 0.2661473\ttotal: 31.4s\tremaining: 9.28s\n",
      "772:\tlearn: 0.2661054\ttotal: 31.5s\tremaining: 9.24s\n",
      "773:\tlearn: 0.2660651\ttotal: 31.5s\tremaining: 9.2s\n",
      "774:\tlearn: 0.2658711\ttotal: 31.5s\tremaining: 9.16s\n",
      "775:\tlearn: 0.2658349\ttotal: 31.6s\tremaining: 9.12s\n",
      "776:\tlearn: 0.2657373\ttotal: 31.6s\tremaining: 9.07s\n",
      "777:\tlearn: 0.2656544\ttotal: 31.7s\tremaining: 9.03s\n",
      "778:\tlearn: 0.2654048\ttotal: 31.7s\tremaining: 8.99s\n",
      "779:\tlearn: 0.2653446\ttotal: 31.7s\tremaining: 8.95s\n",
      "780:\tlearn: 0.2650228\ttotal: 31.8s\tremaining: 8.91s\n",
      "781:\tlearn: 0.2646498\ttotal: 31.8s\tremaining: 8.87s\n",
      "782:\tlearn: 0.2645461\ttotal: 31.9s\tremaining: 8.83s\n",
      "783:\tlearn: 0.2644720\ttotal: 31.9s\tremaining: 8.79s\n",
      "784:\tlearn: 0.2643384\ttotal: 31.9s\tremaining: 8.75s\n",
      "785:\tlearn: 0.2641995\ttotal: 32s\tremaining: 8.71s\n",
      "786:\tlearn: 0.2639145\ttotal: 32s\tremaining: 8.66s\n",
      "787:\tlearn: 0.2638695\ttotal: 32.1s\tremaining: 8.62s\n",
      "788:\tlearn: 0.2635996\ttotal: 32.1s\tremaining: 8.58s\n",
      "789:\tlearn: 0.2634520\ttotal: 32.1s\tremaining: 8.54s\n",
      "790:\tlearn: 0.2633282\ttotal: 32.2s\tremaining: 8.5s\n",
      "791:\tlearn: 0.2631956\ttotal: 32.2s\tremaining: 8.46s\n",
      "792:\tlearn: 0.2629385\ttotal: 32.3s\tremaining: 8.42s\n",
      "793:\tlearn: 0.2626234\ttotal: 32.3s\tremaining: 8.38s\n",
      "794:\tlearn: 0.2623735\ttotal: 32.3s\tremaining: 8.34s\n",
      "795:\tlearn: 0.2621813\ttotal: 32.4s\tremaining: 8.3s\n",
      "796:\tlearn: 0.2619391\ttotal: 32.4s\tremaining: 8.26s\n",
      "797:\tlearn: 0.2618350\ttotal: 32.5s\tremaining: 8.22s\n",
      "798:\tlearn: 0.2615869\ttotal: 32.5s\tremaining: 8.18s\n",
      "799:\tlearn: 0.2614826\ttotal: 32.5s\tremaining: 8.13s\n",
      "800:\tlearn: 0.2614219\ttotal: 32.6s\tremaining: 8.09s\n",
      "801:\tlearn: 0.2611070\ttotal: 32.6s\tremaining: 8.05s\n",
      "802:\tlearn: 0.2609712\ttotal: 32.7s\tremaining: 8.01s\n",
      "803:\tlearn: 0.2608611\ttotal: 32.7s\tremaining: 7.97s\n",
      "804:\tlearn: 0.2605806\ttotal: 32.7s\tremaining: 7.93s\n",
      "805:\tlearn: 0.2602728\ttotal: 32.8s\tremaining: 7.89s\n",
      "806:\tlearn: 0.2600646\ttotal: 32.8s\tremaining: 7.85s\n",
      "807:\tlearn: 0.2599243\ttotal: 32.9s\tremaining: 7.81s\n",
      "808:\tlearn: 0.2598503\ttotal: 32.9s\tremaining: 7.77s\n",
      "809:\tlearn: 0.2597259\ttotal: 32.9s\tremaining: 7.72s\n",
      "810:\tlearn: 0.2595762\ttotal: 33s\tremaining: 7.68s\n",
      "811:\tlearn: 0.2593157\ttotal: 33s\tremaining: 7.64s\n",
      "812:\tlearn: 0.2592691\ttotal: 33.1s\tremaining: 7.6s\n",
      "813:\tlearn: 0.2590046\ttotal: 33.1s\tremaining: 7.56s\n",
      "814:\tlearn: 0.2587361\ttotal: 33.1s\tremaining: 7.52s\n",
      "815:\tlearn: 0.2584752\ttotal: 33.2s\tremaining: 7.48s\n",
      "816:\tlearn: 0.2584171\ttotal: 33.2s\tremaining: 7.44s\n",
      "817:\tlearn: 0.2580925\ttotal: 33.3s\tremaining: 7.4s\n",
      "818:\tlearn: 0.2577477\ttotal: 33.3s\tremaining: 7.36s\n",
      "819:\tlearn: 0.2576033\ttotal: 33.3s\tremaining: 7.32s\n",
      "820:\tlearn: 0.2573178\ttotal: 33.4s\tremaining: 7.28s\n",
      "821:\tlearn: 0.2570828\ttotal: 33.4s\tremaining: 7.24s\n",
      "822:\tlearn: 0.2569688\ttotal: 33.5s\tremaining: 7.2s\n",
      "823:\tlearn: 0.2569041\ttotal: 33.5s\tremaining: 7.15s\n",
      "824:\tlearn: 0.2565906\ttotal: 33.5s\tremaining: 7.11s\n",
      "825:\tlearn: 0.2564791\ttotal: 33.6s\tremaining: 7.07s\n",
      "826:\tlearn: 0.2563193\ttotal: 33.6s\tremaining: 7.03s\n",
      "827:\tlearn: 0.2562758\ttotal: 33.7s\tremaining: 6.99s\n",
      "828:\tlearn: 0.2560836\ttotal: 33.7s\tremaining: 6.95s\n",
      "829:\tlearn: 0.2558817\ttotal: 33.7s\tremaining: 6.91s\n",
      "830:\tlearn: 0.2557702\ttotal: 33.8s\tremaining: 6.87s\n",
      "831:\tlearn: 0.2555907\ttotal: 33.8s\tremaining: 6.83s\n",
      "832:\tlearn: 0.2554288\ttotal: 33.9s\tremaining: 6.79s\n",
      "833:\tlearn: 0.2551338\ttotal: 33.9s\tremaining: 6.75s\n",
      "834:\tlearn: 0.2550532\ttotal: 33.9s\tremaining: 6.71s\n",
      "835:\tlearn: 0.2549344\ttotal: 34s\tremaining: 6.66s\n",
      "836:\tlearn: 0.2548157\ttotal: 34s\tremaining: 6.62s\n",
      "837:\tlearn: 0.2547599\ttotal: 34s\tremaining: 6.58s\n",
      "838:\tlearn: 0.2546975\ttotal: 34.1s\tremaining: 6.54s\n",
      "839:\tlearn: 0.2545251\ttotal: 34.1s\tremaining: 6.5s\n",
      "840:\tlearn: 0.2543778\ttotal: 34.2s\tremaining: 6.46s\n",
      "841:\tlearn: 0.2540556\ttotal: 34.2s\tremaining: 6.42s\n",
      "842:\tlearn: 0.2538868\ttotal: 34.2s\tremaining: 6.38s\n",
      "843:\tlearn: 0.2536709\ttotal: 34.3s\tremaining: 6.34s\n",
      "844:\tlearn: 0.2535790\ttotal: 34.3s\tremaining: 6.3s\n",
      "845:\tlearn: 0.2534191\ttotal: 34.4s\tremaining: 6.26s\n",
      "846:\tlearn: 0.2531165\ttotal: 34.4s\tremaining: 6.22s\n",
      "847:\tlearn: 0.2530539\ttotal: 34.4s\tremaining: 6.17s\n",
      "848:\tlearn: 0.2528636\ttotal: 34.5s\tremaining: 6.13s\n",
      "849:\tlearn: 0.2526723\ttotal: 34.5s\tremaining: 6.09s\n",
      "850:\tlearn: 0.2525184\ttotal: 34.6s\tremaining: 6.05s\n",
      "851:\tlearn: 0.2522988\ttotal: 34.6s\tremaining: 6.01s\n",
      "852:\tlearn: 0.2520327\ttotal: 34.6s\tremaining: 5.97s\n",
      "853:\tlearn: 0.2518619\ttotal: 34.7s\tremaining: 5.93s\n",
      "854:\tlearn: 0.2516396\ttotal: 34.7s\tremaining: 5.89s\n",
      "855:\tlearn: 0.2515909\ttotal: 34.8s\tremaining: 5.85s\n",
      "856:\tlearn: 0.2514808\ttotal: 34.8s\tremaining: 5.81s\n",
      "857:\tlearn: 0.2512484\ttotal: 34.9s\tremaining: 5.77s\n",
      "858:\tlearn: 0.2510501\ttotal: 34.9s\tremaining: 5.73s\n",
      "859:\tlearn: 0.2509432\ttotal: 34.9s\tremaining: 5.69s\n",
      "860:\tlearn: 0.2507766\ttotal: 35s\tremaining: 5.65s\n",
      "861:\tlearn: 0.2506759\ttotal: 35s\tremaining: 5.61s\n",
      "862:\tlearn: 0.2504936\ttotal: 35.1s\tremaining: 5.56s\n",
      "863:\tlearn: 0.2503206\ttotal: 35.1s\tremaining: 5.52s\n",
      "864:\tlearn: 0.2502187\ttotal: 35.1s\tremaining: 5.48s\n",
      "865:\tlearn: 0.2501510\ttotal: 35.2s\tremaining: 5.44s\n",
      "866:\tlearn: 0.2499852\ttotal: 35.2s\tremaining: 5.4s\n",
      "867:\tlearn: 0.2496145\ttotal: 35.2s\tremaining: 5.36s\n",
      "868:\tlearn: 0.2495153\ttotal: 35.3s\tremaining: 5.32s\n",
      "869:\tlearn: 0.2494194\ttotal: 35.3s\tremaining: 5.28s\n",
      "870:\tlearn: 0.2493118\ttotal: 35.4s\tremaining: 5.24s\n",
      "871:\tlearn: 0.2490916\ttotal: 35.4s\tremaining: 5.2s\n",
      "872:\tlearn: 0.2489340\ttotal: 35.4s\tremaining: 5.16s\n",
      "873:\tlearn: 0.2488982\ttotal: 35.5s\tremaining: 5.11s\n",
      "874:\tlearn: 0.2486905\ttotal: 35.5s\tremaining: 5.07s\n",
      "875:\tlearn: 0.2485639\ttotal: 35.5s\tremaining: 5.03s\n",
      "876:\tlearn: 0.2484946\ttotal: 35.6s\tremaining: 4.99s\n",
      "877:\tlearn: 0.2483406\ttotal: 35.6s\tremaining: 4.95s\n",
      "878:\tlearn: 0.2482364\ttotal: 35.7s\tremaining: 4.91s\n",
      "879:\tlearn: 0.2479985\ttotal: 35.7s\tremaining: 4.87s\n",
      "880:\tlearn: 0.2478163\ttotal: 35.7s\tremaining: 4.83s\n",
      "881:\tlearn: 0.2477426\ttotal: 35.8s\tremaining: 4.79s\n",
      "882:\tlearn: 0.2476060\ttotal: 35.8s\tremaining: 4.75s\n",
      "883:\tlearn: 0.2474477\ttotal: 35.9s\tremaining: 4.71s\n",
      "884:\tlearn: 0.2473138\ttotal: 35.9s\tremaining: 4.66s\n",
      "885:\tlearn: 0.2471315\ttotal: 35.9s\tremaining: 4.62s\n",
      "886:\tlearn: 0.2469158\ttotal: 36s\tremaining: 4.58s\n",
      "887:\tlearn: 0.2467593\ttotal: 36s\tremaining: 4.54s\n",
      "888:\tlearn: 0.2465541\ttotal: 36.1s\tremaining: 4.5s\n",
      "889:\tlearn: 0.2465020\ttotal: 36.1s\tremaining: 4.46s\n",
      "890:\tlearn: 0.2464303\ttotal: 36.1s\tremaining: 4.42s\n",
      "891:\tlearn: 0.2461669\ttotal: 36.2s\tremaining: 4.38s\n",
      "892:\tlearn: 0.2459741\ttotal: 36.2s\tremaining: 4.34s\n",
      "893:\tlearn: 0.2458408\ttotal: 36.3s\tremaining: 4.3s\n",
      "894:\tlearn: 0.2457794\ttotal: 36.3s\tremaining: 4.26s\n",
      "895:\tlearn: 0.2455793\ttotal: 36.3s\tremaining: 4.22s\n",
      "896:\tlearn: 0.2453564\ttotal: 36.4s\tremaining: 4.18s\n",
      "897:\tlearn: 0.2452748\ttotal: 36.4s\tremaining: 4.14s\n",
      "898:\tlearn: 0.2451755\ttotal: 36.5s\tremaining: 4.09s\n",
      "899:\tlearn: 0.2450330\ttotal: 36.5s\tremaining: 4.05s\n",
      "900:\tlearn: 0.2449805\ttotal: 36.5s\tremaining: 4.01s\n",
      "901:\tlearn: 0.2447080\ttotal: 36.6s\tremaining: 3.97s\n",
      "902:\tlearn: 0.2444542\ttotal: 36.6s\tremaining: 3.93s\n",
      "903:\tlearn: 0.2442868\ttotal: 36.7s\tremaining: 3.89s\n",
      "904:\tlearn: 0.2442257\ttotal: 36.7s\tremaining: 3.85s\n",
      "905:\tlearn: 0.2440762\ttotal: 36.7s\tremaining: 3.81s\n",
      "906:\tlearn: 0.2439923\ttotal: 36.8s\tremaining: 3.77s\n",
      "907:\tlearn: 0.2437828\ttotal: 36.8s\tremaining: 3.73s\n",
      "908:\tlearn: 0.2436116\ttotal: 36.8s\tremaining: 3.69s\n",
      "909:\tlearn: 0.2434639\ttotal: 36.9s\tremaining: 3.65s\n",
      "910:\tlearn: 0.2432522\ttotal: 36.9s\tremaining: 3.61s\n",
      "911:\tlearn: 0.2431493\ttotal: 37s\tremaining: 3.57s\n",
      "912:\tlearn: 0.2428502\ttotal: 37s\tremaining: 3.52s\n",
      "913:\tlearn: 0.2427916\ttotal: 37s\tremaining: 3.48s\n",
      "914:\tlearn: 0.2425676\ttotal: 37.1s\tremaining: 3.44s\n",
      "915:\tlearn: 0.2423965\ttotal: 37.1s\tremaining: 3.4s\n",
      "916:\tlearn: 0.2422392\ttotal: 37.2s\tremaining: 3.36s\n",
      "917:\tlearn: 0.2418329\ttotal: 37.2s\tremaining: 3.32s\n",
      "918:\tlearn: 0.2416313\ttotal: 37.3s\tremaining: 3.28s\n",
      "919:\tlearn: 0.2415581\ttotal: 37.3s\tremaining: 3.24s\n",
      "920:\tlearn: 0.2414851\ttotal: 37.3s\tremaining: 3.2s\n",
      "921:\tlearn: 0.2413657\ttotal: 37.4s\tremaining: 3.16s\n",
      "922:\tlearn: 0.2413333\ttotal: 37.4s\tremaining: 3.12s\n",
      "923:\tlearn: 0.2412500\ttotal: 37.5s\tremaining: 3.08s\n",
      "924:\tlearn: 0.2409526\ttotal: 37.5s\tremaining: 3.04s\n",
      "925:\tlearn: 0.2406894\ttotal: 37.5s\tremaining: 3s\n",
      "926:\tlearn: 0.2405834\ttotal: 37.6s\tremaining: 2.96s\n",
      "927:\tlearn: 0.2403064\ttotal: 37.6s\tremaining: 2.92s\n",
      "928:\tlearn: 0.2399883\ttotal: 37.7s\tremaining: 2.88s\n",
      "929:\tlearn: 0.2397521\ttotal: 37.7s\tremaining: 2.84s\n",
      "930:\tlearn: 0.2394866\ttotal: 37.7s\tremaining: 2.8s\n",
      "931:\tlearn: 0.2393240\ttotal: 37.8s\tremaining: 2.76s\n",
      "932:\tlearn: 0.2391945\ttotal: 37.8s\tremaining: 2.72s\n",
      "933:\tlearn: 0.2390922\ttotal: 37.9s\tremaining: 2.67s\n",
      "934:\tlearn: 0.2388990\ttotal: 37.9s\tremaining: 2.63s\n",
      "935:\tlearn: 0.2386889\ttotal: 37.9s\tremaining: 2.59s\n",
      "936:\tlearn: 0.2385231\ttotal: 38s\tremaining: 2.55s\n",
      "937:\tlearn: 0.2383316\ttotal: 38s\tremaining: 2.51s\n",
      "938:\tlearn: 0.2382487\ttotal: 38.1s\tremaining: 2.47s\n",
      "939:\tlearn: 0.2379616\ttotal: 38.1s\tremaining: 2.43s\n",
      "940:\tlearn: 0.2378548\ttotal: 38.1s\tremaining: 2.39s\n",
      "941:\tlearn: 0.2377764\ttotal: 38.2s\tremaining: 2.35s\n",
      "942:\tlearn: 0.2375446\ttotal: 38.2s\tremaining: 2.31s\n",
      "943:\tlearn: 0.2374339\ttotal: 38.3s\tremaining: 2.27s\n",
      "944:\tlearn: 0.2373554\ttotal: 38.3s\tremaining: 2.23s\n",
      "945:\tlearn: 0.2371200\ttotal: 38.3s\tremaining: 2.19s\n",
      "946:\tlearn: 0.2367914\ttotal: 38.4s\tremaining: 2.15s\n",
      "947:\tlearn: 0.2364879\ttotal: 38.4s\tremaining: 2.11s\n",
      "948:\tlearn: 0.2363967\ttotal: 38.5s\tremaining: 2.07s\n",
      "949:\tlearn: 0.2362442\ttotal: 38.5s\tremaining: 2.03s\n",
      "950:\tlearn: 0.2360795\ttotal: 38.6s\tremaining: 1.99s\n",
      "951:\tlearn: 0.2358799\ttotal: 38.6s\tremaining: 1.95s\n",
      "952:\tlearn: 0.2357977\ttotal: 38.6s\tremaining: 1.91s\n",
      "953:\tlearn: 0.2356439\ttotal: 38.7s\tremaining: 1.86s\n",
      "954:\tlearn: 0.2354999\ttotal: 38.7s\tremaining: 1.82s\n",
      "955:\tlearn: 0.2352659\ttotal: 38.7s\tremaining: 1.78s\n",
      "956:\tlearn: 0.2350031\ttotal: 38.8s\tremaining: 1.74s\n",
      "957:\tlearn: 0.2349006\ttotal: 38.8s\tremaining: 1.7s\n",
      "958:\tlearn: 0.2348142\ttotal: 38.9s\tremaining: 1.66s\n",
      "959:\tlearn: 0.2346604\ttotal: 38.9s\tremaining: 1.62s\n",
      "960:\tlearn: 0.2345153\ttotal: 38.9s\tremaining: 1.58s\n",
      "961:\tlearn: 0.2343500\ttotal: 39s\tremaining: 1.54s\n",
      "962:\tlearn: 0.2340489\ttotal: 39s\tremaining: 1.5s\n",
      "963:\tlearn: 0.2339859\ttotal: 39.1s\tremaining: 1.46s\n",
      "964:\tlearn: 0.2339097\ttotal: 39.1s\tremaining: 1.42s\n",
      "965:\tlearn: 0.2337575\ttotal: 39.1s\tremaining: 1.38s\n",
      "966:\tlearn: 0.2336481\ttotal: 39.2s\tremaining: 1.34s\n",
      "967:\tlearn: 0.2334737\ttotal: 39.2s\tremaining: 1.3s\n",
      "968:\tlearn: 0.2331746\ttotal: 39.3s\tremaining: 1.26s\n",
      "969:\tlearn: 0.2328686\ttotal: 39.3s\tremaining: 1.22s\n",
      "970:\tlearn: 0.2326299\ttotal: 39.3s\tremaining: 1.18s\n",
      "971:\tlearn: 0.2323778\ttotal: 39.4s\tremaining: 1.13s\n",
      "972:\tlearn: 0.2321215\ttotal: 39.4s\tremaining: 1.09s\n",
      "973:\tlearn: 0.2318926\ttotal: 39.5s\tremaining: 1.05s\n",
      "974:\tlearn: 0.2316542\ttotal: 39.5s\tremaining: 1.01s\n",
      "975:\tlearn: 0.2313642\ttotal: 39.6s\tremaining: 973ms\n",
      "976:\tlearn: 0.2312117\ttotal: 39.6s\tremaining: 932ms\n",
      "977:\tlearn: 0.2311742\ttotal: 39.6s\tremaining: 891ms\n",
      "978:\tlearn: 0.2309831\ttotal: 39.7s\tremaining: 851ms\n",
      "979:\tlearn: 0.2307281\ttotal: 39.7s\tremaining: 810ms\n",
      "980:\tlearn: 0.2305991\ttotal: 39.7s\tremaining: 770ms\n",
      "981:\tlearn: 0.2302579\ttotal: 39.8s\tremaining: 729ms\n",
      "982:\tlearn: 0.2300634\ttotal: 39.8s\tremaining: 689ms\n",
      "983:\tlearn: 0.2299136\ttotal: 39.9s\tremaining: 648ms\n",
      "984:\tlearn: 0.2296643\ttotal: 39.9s\tremaining: 608ms\n",
      "985:\tlearn: 0.2294667\ttotal: 39.9s\tremaining: 567ms\n",
      "986:\tlearn: 0.2293060\ttotal: 40s\tremaining: 527ms\n",
      "987:\tlearn: 0.2292248\ttotal: 40s\tremaining: 486ms\n",
      "988:\tlearn: 0.2291169\ttotal: 40.1s\tremaining: 446ms\n",
      "989:\tlearn: 0.2287822\ttotal: 40.1s\tremaining: 405ms\n",
      "990:\tlearn: 0.2287164\ttotal: 40.1s\tremaining: 365ms\n",
      "991:\tlearn: 0.2285842\ttotal: 40.2s\tremaining: 324ms\n",
      "992:\tlearn: 0.2284629\ttotal: 40.2s\tremaining: 284ms\n",
      "993:\tlearn: 0.2283039\ttotal: 40.3s\tremaining: 243ms\n",
      "994:\tlearn: 0.2280103\ttotal: 40.3s\tremaining: 203ms\n",
      "995:\tlearn: 0.2278494\ttotal: 40.3s\tremaining: 162ms\n",
      "996:\tlearn: 0.2277357\ttotal: 40.4s\tremaining: 122ms\n",
      "997:\tlearn: 0.2275422\ttotal: 40.4s\tremaining: 81ms\n",
      "998:\tlearn: 0.2275001\ttotal: 40.5s\tremaining: 40.5ms\n",
      "999:\tlearn: 0.2273465\ttotal: 40.5s\tremaining: 0us\n"
     ]
    },
    {
     "data": {
      "text/plain": [
       "<catboost.core.CatBoostClassifier at 0x7d21cf7bd3c0>"
      ]
     },
     "execution_count": 46,
     "metadata": {},
     "output_type": "execute_result"
    }
   ],
   "source": [
    "clf = CatBoostClassifier(loss_function='MultiClass', cat_features=cat_features, task_type=\"GPU\", devices='0', random_seed=30)\n",
    "\n",
    "clf.fit(trx_data_train, target_train, plot_file=\"catboost_log.html\")"
   ]
  },
  {
   "cell_type": "code",
   "execution_count": 47,
   "metadata": {
    "execution": {
     "iopub.execute_input": "2025-03-07T07:24:05.594489Z",
     "iopub.status.busy": "2025-03-07T07:24:05.594160Z",
     "iopub.status.idle": "2025-03-07T07:24:06.336908Z",
     "shell.execute_reply": "2025-03-07T07:24:06.336189Z",
     "shell.execute_reply.started": "2025-03-07T07:24:05.594460Z"
    },
    "trusted": true
   },
   "outputs": [],
   "source": [
    "test_pred = clf.predict(trx_data_test)\n",
    "test_proba = clf.predict_proba(trx_data_test)[:, 1]"
   ]
  },
  {
   "cell_type": "markdown",
   "metadata": {},
   "source": [
    "**Посчитаем метрики:**"
   ]
  },
  {
   "cell_type": "code",
   "execution_count": 38,
   "metadata": {
    "execution": {
     "iopub.execute_input": "2025-03-07T07:17:05.164475Z",
     "iopub.status.busy": "2025-03-07T07:17:05.164157Z",
     "iopub.status.idle": "2025-03-07T07:17:05.168415Z",
     "shell.execute_reply": "2025-03-07T07:17:05.167497Z",
     "shell.execute_reply.started": "2025-03-07T07:17:05.164445Z"
    },
    "trusted": true
   },
   "outputs": [],
   "source": [
    "from sklearn.metrics import accuracy_score, roc_auc_score"
   ]
  },
  {
   "cell_type": "code",
   "execution_count": 48,
   "metadata": {
    "execution": {
     "iopub.execute_input": "2025-03-07T07:24:08.007930Z",
     "iopub.status.busy": "2025-03-07T07:24:08.007593Z",
     "iopub.status.idle": "2025-03-07T07:24:08.016412Z",
     "shell.execute_reply": "2025-03-07T07:24:08.015766Z",
     "shell.execute_reply.started": "2025-03-07T07:24:08.007903Z"
    },
    "trusted": true
   },
   "outputs": [
    {
     "name": "stdout",
     "output_type": "stream",
     "text": [
      "CatBoost Accuracy: 0.668\n",
      "CatBoost ROC-AUC: 0.7547554677761409\n"
     ]
    }
   ],
   "source": [
    "print(\"CatBoost Accuracy:\", accuracy_score(target_test[\"target_flag\"], test_pred))\n",
    "print(\"CatBoost ROC-AUC:\", roc_auc_score(target_test[\"target_flag\"], test_proba))"
   ]
  },
  {
   "cell_type": "markdown",
   "metadata": {},
   "source": [
    "- **\"Flattened\" Sequences + CatBoost (Time Features in days):**\n",
    "    - `Accuracy: 0.6704 +- 0.0046`\n",
    "    - `ROC-AUC: 0.7536 +- 0.003`"
   ]
  },
  {
   "cell_type": "markdown",
   "metadata": {},
   "source": [
    "---"
   ]
  },
  {
   "cell_type": "markdown",
   "metadata": {},
   "source": [
    "# Supervised-кейс. GRU."
   ]
  },
  {
   "cell_type": "markdown",
   "metadata": {},
   "source": [
    "**Препроцессим данные:**"
   ]
  },
  {
   "cell_type": "markdown",
   "metadata": {},
   "source": [
    "**Скачаем данные:**"
   ]
  },
  {
   "cell_type": "code",
   "execution_count": 51,
   "metadata": {
    "execution": {
     "iopub.execute_input": "2025-03-07T07:28:58.847188Z",
     "iopub.status.busy": "2025-03-07T07:28:58.846850Z",
     "iopub.status.idle": "2025-03-07T07:28:59.621504Z",
     "shell.execute_reply": "2025-03-07T07:28:59.620733Z",
     "shell.execute_reply.started": "2025-03-07T07:28:58.847159Z"
    },
    "trusted": true
   },
   "outputs": [
    {
     "data": {
      "text/html": [
       "<div>\n",
       "<style scoped>\n",
       "    .dataframe tbody tr th:only-of-type {\n",
       "        vertical-align: middle;\n",
       "    }\n",
       "\n",
       "    .dataframe tbody tr th {\n",
       "        vertical-align: top;\n",
       "    }\n",
       "\n",
       "    .dataframe thead th {\n",
       "        text-align: right;\n",
       "    }\n",
       "</style>\n",
       "<table border=\"1\" class=\"dataframe\">\n",
       "  <thead>\n",
       "    <tr style=\"text-align: right;\">\n",
       "      <th></th>\n",
       "      <th>PERIOD</th>\n",
       "      <th>cl_id</th>\n",
       "      <th>MCC</th>\n",
       "      <th>channel_type</th>\n",
       "      <th>currency</th>\n",
       "      <th>TRDATETIME</th>\n",
       "      <th>amount</th>\n",
       "      <th>trx_category</th>\n",
       "      <th>target_flag</th>\n",
       "      <th>target_sum</th>\n",
       "    </tr>\n",
       "  </thead>\n",
       "  <tbody>\n",
       "    <tr>\n",
       "      <th>0</th>\n",
       "      <td>01/10/2017</td>\n",
       "      <td>0</td>\n",
       "      <td>5200</td>\n",
       "      <td>NaN</td>\n",
       "      <td>810</td>\n",
       "      <td>21OCT17:00:00:00</td>\n",
       "      <td>5023.00</td>\n",
       "      <td>POS</td>\n",
       "      <td>0</td>\n",
       "      <td>0.0</td>\n",
       "    </tr>\n",
       "    <tr>\n",
       "      <th>1</th>\n",
       "      <td>01/10/2017</td>\n",
       "      <td>0</td>\n",
       "      <td>6011</td>\n",
       "      <td>NaN</td>\n",
       "      <td>810</td>\n",
       "      <td>12OCT17:12:24:07</td>\n",
       "      <td>20000.00</td>\n",
       "      <td>DEPOSIT</td>\n",
       "      <td>0</td>\n",
       "      <td>0.0</td>\n",
       "    </tr>\n",
       "    <tr>\n",
       "      <th>2</th>\n",
       "      <td>01/12/2017</td>\n",
       "      <td>0</td>\n",
       "      <td>5921</td>\n",
       "      <td>NaN</td>\n",
       "      <td>810</td>\n",
       "      <td>05DEC17:00:00:00</td>\n",
       "      <td>767.00</td>\n",
       "      <td>POS</td>\n",
       "      <td>0</td>\n",
       "      <td>0.0</td>\n",
       "    </tr>\n",
       "    <tr>\n",
       "      <th>3</th>\n",
       "      <td>01/10/2017</td>\n",
       "      <td>0</td>\n",
       "      <td>5411</td>\n",
       "      <td>NaN</td>\n",
       "      <td>810</td>\n",
       "      <td>21OCT17:00:00:00</td>\n",
       "      <td>2031.00</td>\n",
       "      <td>POS</td>\n",
       "      <td>0</td>\n",
       "      <td>0.0</td>\n",
       "    </tr>\n",
       "    <tr>\n",
       "      <th>4</th>\n",
       "      <td>01/10/2017</td>\n",
       "      <td>0</td>\n",
       "      <td>6012</td>\n",
       "      <td>NaN</td>\n",
       "      <td>810</td>\n",
       "      <td>24OCT17:13:14:24</td>\n",
       "      <td>36562.00</td>\n",
       "      <td>C2C_OUT</td>\n",
       "      <td>0</td>\n",
       "      <td>0.0</td>\n",
       "    </tr>\n",
       "    <tr>\n",
       "      <th>...</th>\n",
       "      <td>...</td>\n",
       "      <td>...</td>\n",
       "      <td>...</td>\n",
       "      <td>...</td>\n",
       "      <td>...</td>\n",
       "      <td>...</td>\n",
       "      <td>...</td>\n",
       "      <td>...</td>\n",
       "      <td>...</td>\n",
       "      <td>...</td>\n",
       "    </tr>\n",
       "    <tr>\n",
       "      <th>490508</th>\n",
       "      <td>01/04/2017</td>\n",
       "      <td>10176</td>\n",
       "      <td>6011</td>\n",
       "      <td>type1</td>\n",
       "      <td>810</td>\n",
       "      <td>24APR17:14:05:26</td>\n",
       "      <td>600.00</td>\n",
       "      <td>WD_ATM_ROS</td>\n",
       "      <td>1</td>\n",
       "      <td>405.0</td>\n",
       "    </tr>\n",
       "    <tr>\n",
       "      <th>490509</th>\n",
       "      <td>01/06/2017</td>\n",
       "      <td>10171</td>\n",
       "      <td>5411</td>\n",
       "      <td>type1</td>\n",
       "      <td>810</td>\n",
       "      <td>06JUN17:00:00:00</td>\n",
       "      <td>132.00</td>\n",
       "      <td>POS</td>\n",
       "      <td>0</td>\n",
       "      <td>0.0</td>\n",
       "    </tr>\n",
       "    <tr>\n",
       "      <th>490510</th>\n",
       "      <td>01/02/2017</td>\n",
       "      <td>10167</td>\n",
       "      <td>5541</td>\n",
       "      <td>type1</td>\n",
       "      <td>810</td>\n",
       "      <td>03FEB17:00:00:00</td>\n",
       "      <td>1000.00</td>\n",
       "      <td>POS</td>\n",
       "      <td>1</td>\n",
       "      <td>280428.2</td>\n",
       "    </tr>\n",
       "    <tr>\n",
       "      <th>490511</th>\n",
       "      <td>01/06/2017</td>\n",
       "      <td>10163</td>\n",
       "      <td>5941</td>\n",
       "      <td>type1</td>\n",
       "      <td>810</td>\n",
       "      <td>08JUN17:00:00:00</td>\n",
       "      <td>100.00</td>\n",
       "      <td>POS</td>\n",
       "      <td>0</td>\n",
       "      <td>0.0</td>\n",
       "    </tr>\n",
       "    <tr>\n",
       "      <th>490512</th>\n",
       "      <td>01/06/2017</td>\n",
       "      <td>10162</td>\n",
       "      <td>5411</td>\n",
       "      <td>type1</td>\n",
       "      <td>810</td>\n",
       "      <td>15JUN17:00:00:00</td>\n",
       "      <td>441.33</td>\n",
       "      <td>POS</td>\n",
       "      <td>1</td>\n",
       "      <td>253.0</td>\n",
       "    </tr>\n",
       "  </tbody>\n",
       "</table>\n",
       "<p>490513 rows × 10 columns</p>\n",
       "</div>"
      ],
      "text/plain": [
       "            PERIOD  cl_id   MCC channel_type  currency        TRDATETIME  \\\n",
       "0       01/10/2017      0  5200          NaN       810  21OCT17:00:00:00   \n",
       "1       01/10/2017      0  6011          NaN       810  12OCT17:12:24:07   \n",
       "2       01/12/2017      0  5921          NaN       810  05DEC17:00:00:00   \n",
       "3       01/10/2017      0  5411          NaN       810  21OCT17:00:00:00   \n",
       "4       01/10/2017      0  6012          NaN       810  24OCT17:13:14:24   \n",
       "...            ...    ...   ...          ...       ...               ...   \n",
       "490508  01/04/2017  10176  6011        type1       810  24APR17:14:05:26   \n",
       "490509  01/06/2017  10171  5411        type1       810  06JUN17:00:00:00   \n",
       "490510  01/02/2017  10167  5541        type1       810  03FEB17:00:00:00   \n",
       "490511  01/06/2017  10163  5941        type1       810  08JUN17:00:00:00   \n",
       "490512  01/06/2017  10162  5411        type1       810  15JUN17:00:00:00   \n",
       "\n",
       "          amount trx_category  target_flag  target_sum  \n",
       "0        5023.00          POS            0         0.0  \n",
       "1       20000.00      DEPOSIT            0         0.0  \n",
       "2         767.00          POS            0         0.0  \n",
       "3        2031.00          POS            0         0.0  \n",
       "4       36562.00      C2C_OUT            0         0.0  \n",
       "...          ...          ...          ...         ...  \n",
       "490508    600.00   WD_ATM_ROS            1       405.0  \n",
       "490509    132.00          POS            0         0.0  \n",
       "490510   1000.00          POS            1    280428.2  \n",
       "490511    100.00          POS            0         0.0  \n",
       "490512    441.33          POS            1       253.0  \n",
       "\n",
       "[490513 rows x 10 columns]"
      ]
     },
     "execution_count": 51,
     "metadata": {},
     "output_type": "execute_result"
    }
   ],
   "source": [
    "path_data = \"https://huggingface.co/datasets/dllllb/rosbank-churn/resolve/main/train.csv.gz?download=true\"\n",
    "data = pd.read_csv(path_data, compression=\"gzip\")\n",
    "data"
   ]
  },
  {
   "cell_type": "code",
   "execution_count": 52,
   "metadata": {
    "execution": {
     "iopub.execute_input": "2025-03-07T07:29:01.875568Z",
     "iopub.status.busy": "2025-03-07T07:29:01.875268Z",
     "iopub.status.idle": "2025-03-07T07:29:02.004656Z",
     "shell.execute_reply": "2025-03-07T07:29:02.003973Z",
     "shell.execute_reply.started": "2025-03-07T07:29:01.875522Z"
    },
    "trusted": true
   },
   "outputs": [
    {
     "data": {
      "text/html": [
       "<div>\n",
       "<style scoped>\n",
       "    .dataframe tbody tr th:only-of-type {\n",
       "        vertical-align: middle;\n",
       "    }\n",
       "\n",
       "    .dataframe tbody tr th {\n",
       "        vertical-align: top;\n",
       "    }\n",
       "\n",
       "    .dataframe thead th {\n",
       "        text-align: right;\n",
       "    }\n",
       "</style>\n",
       "<table border=\"1\" class=\"dataframe\">\n",
       "  <thead>\n",
       "    <tr style=\"text-align: right;\">\n",
       "      <th></th>\n",
       "      <th>cl_id</th>\n",
       "      <th>target_flag</th>\n",
       "    </tr>\n",
       "  </thead>\n",
       "  <tbody>\n",
       "    <tr>\n",
       "      <th>0</th>\n",
       "      <td>0</td>\n",
       "      <td>0</td>\n",
       "    </tr>\n",
       "    <tr>\n",
       "      <th>1</th>\n",
       "      <td>1</td>\n",
       "      <td>0</td>\n",
       "    </tr>\n",
       "    <tr>\n",
       "      <th>2</th>\n",
       "      <td>5</td>\n",
       "      <td>1</td>\n",
       "    </tr>\n",
       "    <tr>\n",
       "      <th>3</th>\n",
       "      <td>9</td>\n",
       "      <td>0</td>\n",
       "    </tr>\n",
       "    <tr>\n",
       "      <th>4</th>\n",
       "      <td>10</td>\n",
       "      <td>0</td>\n",
       "    </tr>\n",
       "    <tr>\n",
       "      <th>...</th>\n",
       "      <td>...</td>\n",
       "      <td>...</td>\n",
       "    </tr>\n",
       "    <tr>\n",
       "      <th>4995</th>\n",
       "      <td>10210</td>\n",
       "      <td>1</td>\n",
       "    </tr>\n",
       "    <tr>\n",
       "      <th>4996</th>\n",
       "      <td>10212</td>\n",
       "      <td>0</td>\n",
       "    </tr>\n",
       "    <tr>\n",
       "      <th>4997</th>\n",
       "      <td>10213</td>\n",
       "      <td>0</td>\n",
       "    </tr>\n",
       "    <tr>\n",
       "      <th>4998</th>\n",
       "      <td>10214</td>\n",
       "      <td>0</td>\n",
       "    </tr>\n",
       "    <tr>\n",
       "      <th>4999</th>\n",
       "      <td>10215</td>\n",
       "      <td>0</td>\n",
       "    </tr>\n",
       "  </tbody>\n",
       "</table>\n",
       "<p>5000 rows × 2 columns</p>\n",
       "</div>"
      ],
      "text/plain": [
       "      cl_id  target_flag\n",
       "0         0            0\n",
       "1         1            0\n",
       "2         5            1\n",
       "3         9            0\n",
       "4        10            0\n",
       "...     ...          ...\n",
       "4995  10210            1\n",
       "4996  10212            0\n",
       "4997  10213            0\n",
       "4998  10214            0\n",
       "4999  10215            0\n",
       "\n",
       "[5000 rows x 2 columns]"
      ]
     },
     "execution_count": 52,
     "metadata": {},
     "output_type": "execute_result"
    }
   ],
   "source": [
    "target = data.groupby(by=\"cl_id\").first().reset_index()[[\"cl_id\", \"target_flag\"]]\n",
    "target"
   ]
  },
  {
   "cell_type": "code",
   "execution_count": 53,
   "metadata": {
    "execution": {
     "iopub.execute_input": "2025-03-07T07:29:04.463937Z",
     "iopub.status.busy": "2025-03-07T07:29:04.463646Z",
     "iopub.status.idle": "2025-03-07T07:29:04.482179Z",
     "shell.execute_reply": "2025-03-07T07:29:04.481523Z",
     "shell.execute_reply.started": "2025-03-07T07:29:04.463915Z"
    },
    "trusted": true
   },
   "outputs": [],
   "source": [
    "data.drop(columns=[\"PERIOD\", \"target_flag\", \"target_sum\"], inplace=True)"
   ]
  },
  {
   "cell_type": "markdown",
   "metadata": {},
   "source": [
    "**Делим таргет на трейн и на тест:**"
   ]
  },
  {
   "cell_type": "code",
   "execution_count": 54,
   "metadata": {
    "execution": {
     "iopub.execute_input": "2025-03-07T07:29:06.767065Z",
     "iopub.status.busy": "2025-03-07T07:29:06.766778Z",
     "iopub.status.idle": "2025-03-07T07:29:06.774497Z",
     "shell.execute_reply": "2025-03-07T07:29:06.773849Z",
     "shell.execute_reply.started": "2025-03-07T07:29:06.767043Z"
    },
    "trusted": true
   },
   "outputs": [],
   "source": [
    "target_train, target_test = train_test_split(target, test_size=0.1, stratify=target[\"target_flag\"], random_state=42)"
   ]
  },
  {
   "cell_type": "code",
   "execution_count": 55,
   "metadata": {
    "execution": {
     "iopub.execute_input": "2025-03-07T07:29:08.943003Z",
     "iopub.status.busy": "2025-03-07T07:29:08.942716Z",
     "iopub.status.idle": "2025-03-07T07:29:09.048526Z",
     "shell.execute_reply": "2025-03-07T07:29:09.047725Z",
     "shell.execute_reply.started": "2025-03-07T07:29:08.942979Z"
    },
    "trusted": true
   },
   "outputs": [],
   "source": [
    "trx_data_train = pd.merge(data, target_train[\"cl_id\"], on=\"cl_id\", how=\"inner\")\n",
    "trx_data_test = pd.merge(data, target_test[\"cl_id\"], on=\"cl_id\", how=\"inner\")"
   ]
  },
  {
   "cell_type": "markdown",
   "metadata": {},
   "source": [
    "**Препроцессинг:**"
   ]
  },
  {
   "cell_type": "code",
   "execution_count": 56,
   "metadata": {
    "execution": {
     "iopub.execute_input": "2025-03-07T07:29:10.777793Z",
     "iopub.status.busy": "2025-03-07T07:29:10.777435Z",
     "iopub.status.idle": "2025-03-07T07:29:10.811026Z",
     "shell.execute_reply": "2025-03-07T07:29:10.810077Z",
     "shell.execute_reply.started": "2025-03-07T07:29:10.777764Z"
    },
    "trusted": true
   },
   "outputs": [],
   "source": [
    "trx_data_train[\"channel_type\"] = trx_data_train[\"channel_type\"].fillna(\"none\")\n",
    "trx_data_test[\"channel_type\"] = trx_data_test[\"channel_type\"].fillna(\"none\")"
   ]
  },
  {
   "cell_type": "code",
   "execution_count": 57,
   "metadata": {
    "execution": {
     "iopub.execute_input": "2025-03-07T07:29:12.892018Z",
     "iopub.status.busy": "2025-03-07T07:29:12.891699Z",
     "iopub.status.idle": "2025-03-07T07:29:13.493127Z",
     "shell.execute_reply": "2025-03-07T07:29:13.492449Z",
     "shell.execute_reply.started": "2025-03-07T07:29:12.891994Z"
    },
    "trusted": true
   },
   "outputs": [],
   "source": [
    "month2num = {\"JAN\": \"/01/\", \"FEB\": \"/02/\", \"MAR\": \"/03/\", \"APR\": \"/04/\", \"MAY\": \"/05/\", \"JUN\": \"/06/\",\n",
    "             \"JUL\": \"/07/\", \"AUG\": \"/08/\", \"SEP\": \"/09/\", \"OCT\": \"/10/\", \"NOV\": \"/11/\", \"DEC\": \"/12/\"}\n",
    "\n",
    "trx_data_train[\"TRDATETIME\"] = trx_data_train[\"TRDATETIME\"].map(lambda x: x[0:2] + month2num[x[2:5]] + x[5:7] + \" \" + x[8:])\n",
    "trx_data_test[\"TRDATETIME\"] = trx_data_test[\"TRDATETIME\"].map(lambda x: x[0:2] + month2num[x[2:5]] + x[5:7] + \" \" + x[8:])\n",
    "\n",
    "trx_data_train[\"TRDATETIME\"] = pd.to_datetime(trx_data_train[\"TRDATETIME\"],format='%d/%m/%y %H:%M:%S')\n",
    "trx_data_test[\"TRDATETIME\"] = pd.to_datetime(trx_data_test[\"TRDATETIME\"],format='%d/%m/%y %H:%M:%S')"
   ]
  },
  {
   "cell_type": "code",
   "execution_count": 58,
   "metadata": {
    "execution": {
     "iopub.execute_input": "2025-03-07T07:29:15.952345Z",
     "iopub.status.busy": "2025-03-07T07:29:15.952018Z",
     "iopub.status.idle": "2025-03-07T07:29:16.107854Z",
     "shell.execute_reply": "2025-03-07T07:29:16.106939Z",
     "shell.execute_reply.started": "2025-03-07T07:29:15.952313Z"
    },
    "trusted": true
   },
   "outputs": [],
   "source": [
    "chtype2num = {\"none\": 0, \"type1\": 1, \"type2\": 2, \"type3\": 3, \"type4\": 4, \"type5\": 5}\n",
    "\n",
    "trx_data_train[\"channel_type\"] = trx_data_train[\"channel_type\"].map(lambda x: chtype2num[x])\n",
    "trx_data_test[\"channel_type\"] = trx_data_test[\"channel_type\"].map(lambda x: chtype2num[x])"
   ]
  },
  {
   "cell_type": "code",
   "execution_count": 59,
   "metadata": {
    "execution": {
     "iopub.execute_input": "2025-03-07T07:29:18.104781Z",
     "iopub.status.busy": "2025-03-07T07:29:18.104417Z",
     "iopub.status.idle": "2025-03-07T07:29:18.265669Z",
     "shell.execute_reply": "2025-03-07T07:29:18.264956Z",
     "shell.execute_reply.started": "2025-03-07T07:29:18.104742Z"
    },
    "trusted": true
   },
   "outputs": [],
   "source": [
    "trxcat2num = {\"POS\": 0, \"DEPOSIT\": 1, \"WD_ATM_ROS\": 2, \"WD_ATM_PARTNER\": 3, \n",
    "              \"C2C_IN\": 4, \"WD_ATM_OTHER\": 5, \"C2C_OUT\": 6, \"BACK_TRX\": 7,\n",
    "              \"CAT\": 8, \"CASH_ADV\": 9}\n",
    "\n",
    "trx_data_train[\"trx_category\"] = trx_data_train[\"trx_category\"].map(lambda x: trxcat2num[x])\n",
    "trx_data_test[\"trx_category\"] = trx_data_test[\"trx_category\"].map(lambda x: trxcat2num[x])"
   ]
  },
  {
   "cell_type": "code",
   "execution_count": 60,
   "metadata": {
    "execution": {
     "iopub.execute_input": "2025-03-07T07:29:20.082026Z",
     "iopub.status.busy": "2025-03-07T07:29:20.081704Z",
     "iopub.status.idle": "2025-03-07T07:29:20.086479Z",
     "shell.execute_reply": "2025-03-07T07:29:20.085648Z",
     "shell.execute_reply.started": "2025-03-07T07:29:20.081996Z"
    },
    "trusted": true
   },
   "outputs": [],
   "source": [
    "preprocessor = PandasDataPreprocessor(\n",
    "    col_id=\"cl_id\",\n",
    "    col_event_time=\"TRDATETIME\",\n",
    "    event_time_transformation=\"dt_to_timestamp\",\n",
    "    cols_category=[\"MCC\", \"channel_type\", \"currency\", \"trx_category\"],\n",
    "    cols_numerical=[\"amount\"],\n",
    "    return_records=False,\n",
    ")"
   ]
  },
  {
   "cell_type": "code",
   "execution_count": 61,
   "metadata": {
    "execution": {
     "iopub.execute_input": "2025-03-07T07:29:22.180299Z",
     "iopub.status.busy": "2025-03-07T07:29:22.180012Z",
     "iopub.status.idle": "2025-03-07T07:29:26.323343Z",
     "shell.execute_reply": "2025-03-07T07:29:26.322710Z",
     "shell.execute_reply.started": "2025-03-07T07:29:22.180275Z"
    },
    "trusted": true
   },
   "outputs": [],
   "source": [
    "data_train = preprocessor.fit_transform(trx_data_train)\n",
    "data_test = preprocessor.transform(trx_data_test)"
   ]
  },
  {
   "cell_type": "code",
   "execution_count": 14,
   "metadata": {
    "execution": {
     "iopub.execute_input": "2025-02-13T23:11:59.385403Z",
     "iopub.status.busy": "2025-02-13T23:11:59.385078Z",
     "iopub.status.idle": "2025-02-13T23:11:59.428093Z",
     "shell.execute_reply": "2025-02-13T23:11:59.426930Z",
     "shell.execute_reply.started": "2025-02-13T23:11:59.385374Z"
    },
    "trusted": true
   },
   "outputs": [],
   "source": [
    "# data_train[\"event_time\"] //= 86400\n",
    "# data_test[\"event_time\"] //= 86400"
   ]
  },
  {
   "cell_type": "code",
   "execution_count": 14,
   "metadata": {
    "execution": {
     "iopub.execute_input": "2025-02-14T00:22:43.545878Z",
     "iopub.status.busy": "2025-02-14T00:22:43.545572Z",
     "iopub.status.idle": "2025-02-14T00:22:43.830082Z",
     "shell.execute_reply": "2025-02-14T00:22:43.829147Z",
     "shell.execute_reply.started": "2025-02-14T00:22:43.545854Z"
    },
    "trusted": true
   },
   "outputs": [
    {
     "data": {
      "text/plain": [
       "(1475798400, 1522711235)"
      ]
     },
     "execution_count": 14,
     "metadata": {},
     "output_type": "execute_result"
    }
   ],
   "source": [
    "# min_day_train = np.inf\n",
    "# max_day_train = -np.inf\n",
    "\n",
    "# for idx, row in data_train.iterrows():\n",
    "#     min_day_train = min(min_day_train, row[\"event_time\"].min().item())\n",
    "#     max_day_train = max(max_day_train, row[\"event_time\"].max().item())\n",
    "\n",
    "# min_day_train, max_day_train"
   ]
  },
  {
   "cell_type": "code",
   "execution_count": 16,
   "metadata": {
    "execution": {
     "iopub.execute_input": "2025-02-13T22:51:25.716042Z",
     "iopub.status.busy": "2025-02-13T22:51:25.715692Z",
     "iopub.status.idle": "2025-02-13T22:51:25.936844Z",
     "shell.execute_reply": "2025-02-13T22:51:25.935873Z",
     "shell.execute_reply.started": "2025-02-13T22:51:25.716014Z"
    },
    "trusted": true
   },
   "outputs": [],
   "source": [
    "# data_train[\"event_time\"] -= min_day_train\n",
    "\n",
    "# data_test[\"event_time\"] -= min_day_train\n",
    "\n",
    "# for idx in range(len(data_test)):\n",
    "#     seq_times = torch.clip(data_test.iloc[idx][\"event_time\"], min=0., max=(max_day_train - min_day_train)).long().unsqueeze(dim=1)\n",
    "#     data_test.loc[idx, \"event_time\"] = seq_times"
   ]
  },
  {
   "cell_type": "code",
   "execution_count": 62,
   "metadata": {
    "execution": {
     "iopub.execute_input": "2025-03-07T07:29:32.158410Z",
     "iopub.status.busy": "2025-03-07T07:29:32.158117Z",
     "iopub.status.idle": "2025-03-07T07:29:32.168648Z",
     "shell.execute_reply": "2025-03-07T07:29:32.167870Z",
     "shell.execute_reply.started": "2025-03-07T07:29:32.158387Z"
    },
    "trusted": true
   },
   "outputs": [],
   "source": [
    "data_train = pd.merge(data_train, target_train, on=\"cl_id\")\n",
    "data_test = pd.merge(data_test, target_test, on=\"cl_id\")"
   ]
  },
  {
   "cell_type": "code",
   "execution_count": 63,
   "metadata": {
    "execution": {
     "iopub.execute_input": "2025-03-07T07:29:34.281102Z",
     "iopub.status.busy": "2025-03-07T07:29:34.280790Z",
     "iopub.status.idle": "2025-03-07T07:29:34.285574Z",
     "shell.execute_reply": "2025-03-07T07:29:34.284632Z",
     "shell.execute_reply.started": "2025-03-07T07:29:34.281074Z"
    },
    "trusted": true
   },
   "outputs": [],
   "source": [
    "data_train.rename(columns={\"target_flag\": \"target\"}, inplace=True)\n",
    "data_test.rename(columns={\"target_flag\": \"target\"}, inplace=True)"
   ]
  },
  {
   "cell_type": "code",
   "execution_count": 64,
   "metadata": {
    "execution": {
     "iopub.execute_input": "2025-03-07T07:29:36.317433Z",
     "iopub.status.busy": "2025-03-07T07:29:36.317154Z",
     "iopub.status.idle": "2025-03-07T07:29:36.350244Z",
     "shell.execute_reply": "2025-03-07T07:29:36.349309Z",
     "shell.execute_reply.started": "2025-03-07T07:29:36.317408Z"
    },
    "trusted": true
   },
   "outputs": [],
   "source": [
    "data_train = data_train.to_dict(orient=\"records\")\n",
    "data_test = data_test.to_dict(orient=\"records\")"
   ]
  },
  {
   "cell_type": "code",
   "execution_count": 65,
   "metadata": {
    "execution": {
     "iopub.execute_input": "2025-03-07T07:29:38.255508Z",
     "iopub.status.busy": "2025-03-07T07:29:38.255187Z",
     "iopub.status.idle": "2025-03-07T07:29:38.260031Z",
     "shell.execute_reply": "2025-03-07T07:29:38.259025Z",
     "shell.execute_reply.started": "2025-03-07T07:29:38.255467Z"
    },
    "trusted": true
   },
   "outputs": [],
   "source": [
    "data_train = MemoryMapDataset(data_train)\n",
    "data_test = MemoryMapDataset(data_test)"
   ]
  },
  {
   "cell_type": "markdown",
   "metadata": {},
   "source": [
    "**Создаём DataLoader:**"
   ]
  },
  {
   "cell_type": "code",
   "execution_count": 3,
   "metadata": {
    "execution": {
     "iopub.execute_input": "2025-03-08T11:06:52.357364Z",
     "iopub.status.busy": "2025-03-08T11:06:52.356731Z",
     "iopub.status.idle": "2025-03-08T11:06:52.361465Z",
     "shell.execute_reply": "2025-03-08T11:06:52.360565Z",
     "shell.execute_reply.started": "2025-03-08T11:06:52.357334Z"
    },
    "trusted": true
   },
   "outputs": [],
   "source": [
    "def seed_everything(seed):\n",
    "    np.random.seed(seed)\n",
    "    torch.manual_seed(seed)\n",
    "    torch.cuda.manual_seed_all(seed)\n",
    "    torch.backends.cudnn.deterministic = True\n",
    "    torch.backends.cudnn.benchmark = False"
   ]
  },
  {
   "cell_type": "code",
   "execution_count": 146,
   "metadata": {
    "execution": {
     "iopub.execute_input": "2025-03-07T07:50:19.955290Z",
     "iopub.status.busy": "2025-03-07T07:50:19.954987Z",
     "iopub.status.idle": "2025-03-07T07:50:19.960683Z",
     "shell.execute_reply": "2025-03-07T07:50:19.959910Z",
     "shell.execute_reply.started": "2025-03-07T07:50:19.955267Z"
    },
    "trusted": true
   },
   "outputs": [],
   "source": [
    "seed_everything(30)"
   ]
  },
  {
   "cell_type": "code",
   "execution_count": 147,
   "metadata": {
    "execution": {
     "iopub.execute_input": "2025-03-07T07:50:21.600296Z",
     "iopub.status.busy": "2025-03-07T07:50:21.600012Z",
     "iopub.status.idle": "2025-03-07T07:50:21.604891Z",
     "shell.execute_reply": "2025-03-07T07:50:21.603898Z",
     "shell.execute_reply.started": "2025-03-07T07:50:21.600272Z"
    },
    "trusted": true
   },
   "outputs": [],
   "source": [
    "data = PtlsDataModule(\n",
    "    train_data=SeqToTargetDataset(data_train, target_col_name=\"target\", target_dtype=torch.long),\n",
    "    valid_data=SeqToTargetDataset(data_test, target_col_name=\"target\", target_dtype=torch.long),\n",
    "    train_batch_size=128,\n",
    "    valid_batch_size=128,\n",
    "    train_num_workers=4\n",
    ")"
   ]
  },
  {
   "cell_type": "markdown",
   "metadata": {},
   "source": [
    "**Модель (GRU):**"
   ]
  },
  {
   "cell_type": "code",
   "execution_count": 148,
   "metadata": {
    "execution": {
     "iopub.execute_input": "2025-03-07T07:50:23.915130Z",
     "iopub.status.busy": "2025-03-07T07:50:23.914846Z",
     "iopub.status.idle": "2025-03-07T07:50:23.918768Z",
     "shell.execute_reply": "2025-03-07T07:50:23.917937Z",
     "shell.execute_reply.started": "2025-03-07T07:50:23.915108Z"
    },
    "trusted": true
   },
   "outputs": [],
   "source": [
    "N_EPOCHS = 30"
   ]
  },
  {
   "cell_type": "code",
   "execution_count": 61,
   "metadata": {
    "execution": {
     "iopub.execute_input": "2025-02-13T22:32:04.159228Z",
     "iopub.status.busy": "2025-02-13T22:32:04.158909Z",
     "iopub.status.idle": "2025-02-13T22:32:04.206814Z",
     "shell.execute_reply": "2025-02-13T22:32:04.205854Z",
     "shell.execute_reply.started": "2025-02-13T22:32:04.159206Z"
    },
    "trusted": true
   },
   "outputs": [
    {
     "data": {
      "text/plain": [
       "543"
      ]
     },
     "execution_count": 61,
     "metadata": {},
     "output_type": "execute_result"
    }
   ],
   "source": [
    "# timestamps = set()\n",
    "\n",
    "# for i in data_train:\n",
    "#     timestamps = timestamps.union(set(i[\"event_time\"].tolist()))\n",
    "\n",
    "# for i in data_test:\n",
    "#     timestamps = timestamps.union(set(i[\"event_time\"].tolist()))\n",
    "\n",
    "# len(timestamps)"
   ]
  },
  {
   "cell_type": "code",
   "execution_count": 4,
   "metadata": {
    "execution": {
     "iopub.execute_input": "2025-03-08T11:06:56.874915Z",
     "iopub.status.busy": "2025-03-08T11:06:56.874592Z",
     "iopub.status.idle": "2025-03-08T11:06:56.891174Z",
     "shell.execute_reply": "2025-03-08T11:06:56.890431Z",
     "shell.execute_reply.started": "2025-03-08T11:06:56.874885Z"
    },
    "trusted": true
   },
   "outputs": [],
   "source": [
    "import torch\n",
    "from ptls.data_load.padded_batch import PaddedBatch\n",
    "from ptls.nn.trx_encoder.batch_norm import RBatchNorm, RBatchNormWithLens\n",
    "from ptls.nn.trx_encoder.noisy_embedding import NoisyEmbedding\n",
    "from ptls.nn.trx_encoder.trx_encoder_base import TrxEncoderBase\n",
    "import torch.nn as nn\n",
    "\n",
    "\n",
    "class Time2Vec(nn.Module):\n",
    "    def __init__(self, k, interval=86400):\n",
    "        super(Time2Vec, self).__init__()\n",
    "        self.k = k\n",
    "        self.w = nn.Parameter(torch.randn(k))\n",
    "        self.b = nn.Parameter(torch.randn(k))\n",
    "        self.w0 = nn.Parameter(torch.randn(1))\n",
    "        self.b0 = nn.Parameter(torch.randn(1))\n",
    "        self.interval = interval\n",
    "        \n",
    "    def forward(self, event_time, t0):\n",
    "        t0_ = torch.zeros_like(event_time)\n",
    "        time_diff=None\n",
    "        if type(t0)!=int:\n",
    "            first_column = t0[:, 0].unsqueeze(1)\n",
    "            t0_ = first_column.expand(-1, t0.size(1))\n",
    "        time_diff = (event_time - t0_)/self.interval\n",
    "        v1 = self.w0 * time_diff.unsqueeze(-1) + self.b0\n",
    "        v2 = torch.cos(self.w * time_diff.unsqueeze(-1) + self.b)\n",
    "        \n",
    "        return torch.cat([v1, v2], -1)\n",
    "\n",
    "        \n",
    "class TrxEncoderT2V(TrxEncoderBase):\n",
    "    def __init__(self,\n",
    "                 embeddings=None,\n",
    "                 numeric_values=None,\n",
    "                 custom_embeddings=None,\n",
    "                 time_values=None,\n",
    "                 embeddings_noise: float = 0,\n",
    "                 norm_embeddings=None,\n",
    "                 use_batch_norm=True,\n",
    "                 use_batch_norm_with_lens=False,\n",
    "                 clip_replace_value=None,\n",
    "                 positions=None,\n",
    "                 emb_dropout=0,\n",
    "                 spatial_dropout=False,\n",
    "                 orthogonal_init=False,\n",
    "                 linear_projection_size=0,\n",
    "                 out_of_index: str = 'clip',\n",
    "                 k=2,\n",
    "                 time_col='event_time'\n",
    "                 ):\n",
    "        if clip_replace_value is not None:\n",
    "            warnings.warn('`clip_replace_value` attribute is deprecated. Always \"clip to max\" used. '\n",
    "                          'Use `out_of_index=\"assert\"` to avoid categorical values clip', DeprecationWarning)\n",
    "\n",
    "        if positions is not None:\n",
    "            warnings.warn('`positions` is deprecated. positions is not used', UserWarning)\n",
    "\n",
    "        if embeddings is None:\n",
    "            embeddings = {}\n",
    "        if custom_embeddings is None:\n",
    "            custom_embeddings = {}\n",
    "        if time_values is None:\n",
    "            time_values = {}\n",
    "\n",
    "        noisy_embeddings = {}\n",
    "        for emb_name, emb_props in embeddings.items():\n",
    "            if emb_props.get('disabled', False):\n",
    "                continue\n",
    "            if emb_props['in'] == 0 or emb_props['out'] == 0:\n",
    "                continue\n",
    "            noisy_embeddings[emb_name] = NoisyEmbedding(\n",
    "                num_embeddings=emb_props['in'],\n",
    "                embedding_dim=emb_props['out'],\n",
    "                padding_idx=0,\n",
    "                max_norm=1 if norm_embeddings else None,\n",
    "                noise_scale=embeddings_noise,\n",
    "                dropout=emb_dropout,\n",
    "                spatial_dropout=spatial_dropout,\n",
    "            )\n",
    "\n",
    "        super().__init__(\n",
    "            embeddings=noisy_embeddings,\n",
    "            numeric_values=numeric_values,\n",
    "            custom_embeddings=custom_embeddings,\n",
    "            out_of_index=out_of_index,\n",
    "        )\n",
    "\n",
    "        custom_embedding_size = self.custom_embedding_size\n",
    "        if use_batch_norm and custom_embedding_size > 0:\n",
    "            # :TODO: Should we use Batch norm with not-numerical custom embeddings?\n",
    "            if use_batch_norm_with_lens:\n",
    "                self.custom_embedding_batch_norm = RBatchNormWithLens(custom_embedding_size)\n",
    "            else:\n",
    "                self.custom_embedding_batch_norm = RBatchNorm(custom_embedding_size)\n",
    "        else:\n",
    "            self.custom_embedding_batch_norm = None\n",
    "        \n",
    "        self.k = k\n",
    "        self.time2vec_days = Time2Vec(k=self.k)\n",
    "        self.time_col = time_col\n",
    "        \n",
    "        if linear_projection_size > 0:\n",
    "            self.linear_projection_head = torch.nn.Linear(super().output_size+k+1, linear_projection_size)\n",
    "        else:\n",
    "            self.linear_projection_head = None\n",
    "            \n",
    "\n",
    "        if orthogonal_init:\n",
    "            for n, p in self.named_parameters():\n",
    "                if n.startswith('embeddings.') and n.endswith('.weight'):\n",
    "                    torch.nn.init.orthogonal_(p.data[1:])\n",
    "                if n == 'linear_projection_head.weight':\n",
    "                    torch.nn.init.orthogonal_(p.data)\n",
    "\n",
    "    def forward(self, x: PaddedBatch):\n",
    "        processed_embeddings = []\n",
    "        processed_custom_embeddings = []\n",
    "\n",
    "        for field_name in self.embeddings.keys():\n",
    "            processed_embeddings.append(self.get_category_embeddings(x, field_name))\n",
    "        \n",
    "        for field_name in self.custom_embeddings.keys():\n",
    "            processed_custom_embeddings.append(self.get_custom_embeddings(x, field_name))\n",
    "\n",
    "        if len(processed_custom_embeddings):\n",
    "            processed_custom_embeddings = torch.cat(processed_custom_embeddings, dim=2)\n",
    "            if self.custom_embedding_batch_norm is not None:\n",
    "                processed_custom_embeddings = PaddedBatch(processed_custom_embeddings, x.seq_lens)\n",
    "                processed_custom_embeddings = self.custom_embedding_batch_norm(processed_custom_embeddings)\n",
    "                processed_custom_embeddings = processed_custom_embeddings.payload\n",
    "            processed_embeddings.append(processed_custom_embeddings)\n",
    "\n",
    "        out = torch.cat(processed_embeddings, dim=2)\n",
    "\n",
    "        time_encoded_days = self.time2vec_days(x.payload[self.time_col], x.payload[self.time_col])\n",
    "        out = torch.cat((out, time_encoded_days), dim=2)\n",
    "\n",
    "        if self.linear_projection_head is not None:\n",
    "            out = self.linear_projection_head(out)\n",
    "        return PaddedBatch(out, x.seq_lens)\n",
    "\n",
    "    @property\n",
    "    def output_size(self):\n",
    "        \"\"\"Returns hidden size of output representation\n",
    "        \"\"\"\n",
    "        if self.linear_projection_head is not None:\n",
    "            return self.linear_projection_head.out_features\n",
    "        return super().output_size + self.k + 1"
   ]
  },
  {
   "cell_type": "code",
   "execution_count": 150,
   "metadata": {
    "execution": {
     "iopub.execute_input": "2025-03-07T07:50:36.733063Z",
     "iopub.status.busy": "2025-03-07T07:50:36.732772Z",
     "iopub.status.idle": "2025-03-07T07:50:36.746521Z",
     "shell.execute_reply": "2025-03-07T07:50:36.745871Z",
     "shell.execute_reply.started": "2025-03-07T07:50:36.733041Z"
    },
    "trusted": true
   },
   "outputs": [],
   "source": [
    "seq_encoder = RnnSeqEncoder(\n",
    "    trx_encoder=TrxEncoderT2V(\n",
    "        embeddings={\n",
    "            \"MCC\": {\"in\": 342, \"out\": 8},\n",
    "            \"channel_type\": {\"in\": 7, \"out\": 8},\n",
    "            \"currency\": {\"in\": 60, \"out\": 8},\n",
    "            \"trx_category\": {\"in\": 11, \"out\": 8}            \n",
    "        },\n",
    "        numeric_values={\n",
    "            \"amount\": \"log\",\n",
    "        },\n",
    "        embeddings_noise=0.003,\n",
    "        k=7,\n",
    "        time_col=\"event_time\"\n",
    "    ),\n",
    "    hidden_size=512,\n",
    "    is_reduce_sequence=True\n",
    ")"
   ]
  },
  {
   "cell_type": "code",
   "execution_count": 151,
   "metadata": {
    "execution": {
     "iopub.execute_input": "2025-03-07T07:50:38.940458Z",
     "iopub.status.busy": "2025-03-07T07:50:38.940177Z",
     "iopub.status.idle": "2025-03-07T07:50:38.952914Z",
     "shell.execute_reply": "2025-03-07T07:50:38.952144Z",
     "shell.execute_reply.started": "2025-03-07T07:50:38.940436Z"
    },
    "trusted": true
   },
   "outputs": [],
   "source": [
    "gru = SequenceToTarget(\n",
    "    seq_encoder=seq_encoder,\n",
    "    head=Head(input_size=seq_encoder.embedding_size, objective=\"classification\", num_classes=2, hidden_layers_sizes=[1024]),\n",
    "    loss=torch.nn.NLLLoss(),\n",
    "    metric_list=torchmetrics.Accuracy(task=\"multiclass\", num_classes=2),\n",
    "    optimizer_partial=partial(torch.optim.Adam, lr=1e-4, weight_decay=0),\n",
    "    lr_scheduler_partial=partial(torch.optim.lr_scheduler.CosineAnnealingLR, T_max=N_EPOCHS, eta_min=1e-6)\n",
    ")"
   ]
  },
  {
   "cell_type": "markdown",
   "metadata": {},
   "source": [
    "**Обучение:**"
   ]
  },
  {
   "cell_type": "code",
   "execution_count": 6,
   "metadata": {
    "execution": {
     "iopub.execute_input": "2025-03-08T11:07:13.522393Z",
     "iopub.status.busy": "2025-03-08T11:07:13.522116Z",
     "iopub.status.idle": "2025-03-08T11:07:13.806249Z",
     "shell.execute_reply": "2025-03-08T11:07:13.805524Z",
     "shell.execute_reply.started": "2025-03-08T11:07:13.522371Z"
    },
    "trusted": true
   },
   "outputs": [],
   "source": [
    "comet_ml.login()"
   ]
  },
  {
   "cell_type": "code",
   "execution_count": 7,
   "metadata": {
    "execution": {
     "iopub.execute_input": "2025-03-08T11:07:31.754842Z",
     "iopub.status.busy": "2025-03-08T11:07:31.754549Z",
     "iopub.status.idle": "2025-03-08T11:07:31.758583Z",
     "shell.execute_reply": "2025-03-08T11:07:31.757780Z",
     "shell.execute_reply.started": "2025-03-08T11:07:31.754816Z"
    },
    "trusted": true
   },
   "outputs": [],
   "source": [
    "from pytorch_lightning.loggers import CometLogger"
   ]
  },
  {
   "cell_type": "code",
   "execution_count": 152,
   "metadata": {
    "execution": {
     "iopub.execute_input": "2025-03-07T07:50:43.832428Z",
     "iopub.status.busy": "2025-03-07T07:50:43.832140Z",
     "iopub.status.idle": "2025-03-07T07:50:43.874974Z",
     "shell.execute_reply": "2025-03-07T07:50:43.874116Z",
     "shell.execute_reply.started": "2025-03-07T07:50:43.832405Z"
    },
    "trusted": true
   },
   "outputs": [],
   "source": [
    "logger = CometLogger(project_name=\"evs-ssl-rb\", experiment_name=\"supervised_baseline_GRU\")\n",
    "\n",
    "trainer = pl.Trainer(\n",
    "    logger=logger,\n",
    "    max_epochs=N_EPOCHS,\n",
    "    accelerator=\"gpu\",\n",
    "    devices=1,\n",
    "    enable_progress_bar=True\n",
    ")"
   ]
  },
  {
   "cell_type": "code",
   "execution_count": 153,
   "metadata": {
    "execution": {
     "iopub.execute_input": "2025-03-07T07:50:45.511231Z",
     "iopub.status.busy": "2025-03-07T07:50:45.510922Z",
     "iopub.status.idle": "2025-03-07T07:52:53.837947Z",
     "shell.execute_reply": "2025-03-07T07:52:53.836978Z",
     "shell.execute_reply.started": "2025-03-07T07:50:45.511203Z"
    },
    "trusted": true
   },
   "outputs": [
    {
     "name": "stderr",
     "output_type": "stream",
     "text": [
      "\u001b[1;38;5;214mCOMET WARNING:\u001b[0m As you are running in a Jupyter environment, you will need to call `experiment.end()` when finished to ensure all metrics and code are logged before exiting.\n",
      "\u001b[1;38;5;39mCOMET INFO:\u001b[0m Experiment is live on comet.com https://www.comet.com/askoro/evs-ssl-rb/d9e53caa70824e6090a3fc48b67ebfd1\n",
      "\n",
      "\u001b[1;38;5;39mCOMET INFO:\u001b[0m Couldn't find a Git repository in '/kaggle/working' nor in any parent directory. Set `COMET_GIT_DIRECTORY` if your Git Repository is elsewhere.\n"
     ]
    },
    {
     "data": {
      "application/vnd.jupyter.widget-view+json": {
       "model_id": "",
       "version_major": 2,
       "version_minor": 0
      },
      "text/plain": [
       "Sanity Checking: |          | 0/? [00:00<?, ?it/s]"
      ]
     },
     "metadata": {},
     "output_type": "display_data"
    },
    {
     "name": "stderr",
     "output_type": "stream",
     "text": [
      "/usr/local/lib/python3.10/dist-packages/pytorch_lightning/loops/fit_loop.py:310: PossibleUserWarning:\n",
      "\n",
      "The number of training batches (36) is smaller than the logging interval Trainer(log_every_n_steps=50). Set a lower value for log_every_n_steps if you want to see logs for the training epoch.\n",
      "\n"
     ]
    },
    {
     "data": {
      "application/vnd.jupyter.widget-view+json": {
       "model_id": "c068ab0bd126400bafc6d5160aa9f55f",
       "version_major": 2,
       "version_minor": 0
      },
      "text/plain": [
       "Training: |          | 0/? [00:00<?, ?it/s]"
      ]
     },
     "metadata": {},
     "output_type": "display_data"
    },
    {
     "data": {
      "application/vnd.jupyter.widget-view+json": {
       "model_id": "",
       "version_major": 2,
       "version_minor": 0
      },
      "text/plain": [
       "Validation: |          | 0/? [00:00<?, ?it/s]"
      ]
     },
     "metadata": {},
     "output_type": "display_data"
    },
    {
     "data": {
      "application/vnd.jupyter.widget-view+json": {
       "model_id": "",
       "version_major": 2,
       "version_minor": 0
      },
      "text/plain": [
       "Validation: |          | 0/? [00:00<?, ?it/s]"
      ]
     },
     "metadata": {},
     "output_type": "display_data"
    },
    {
     "data": {
      "application/vnd.jupyter.widget-view+json": {
       "model_id": "",
       "version_major": 2,
       "version_minor": 0
      },
      "text/plain": [
       "Validation: |          | 0/? [00:00<?, ?it/s]"
      ]
     },
     "metadata": {},
     "output_type": "display_data"
    },
    {
     "data": {
      "application/vnd.jupyter.widget-view+json": {
       "model_id": "",
       "version_major": 2,
       "version_minor": 0
      },
      "text/plain": [
       "Validation: |          | 0/? [00:00<?, ?it/s]"
      ]
     },
     "metadata": {},
     "output_type": "display_data"
    },
    {
     "data": {
      "application/vnd.jupyter.widget-view+json": {
       "model_id": "",
       "version_major": 2,
       "version_minor": 0
      },
      "text/plain": [
       "Validation: |          | 0/? [00:00<?, ?it/s]"
      ]
     },
     "metadata": {},
     "output_type": "display_data"
    },
    {
     "data": {
      "application/vnd.jupyter.widget-view+json": {
       "model_id": "",
       "version_major": 2,
       "version_minor": 0
      },
      "text/plain": [
       "Validation: |          | 0/? [00:00<?, ?it/s]"
      ]
     },
     "metadata": {},
     "output_type": "display_data"
    },
    {
     "data": {
      "application/vnd.jupyter.widget-view+json": {
       "model_id": "",
       "version_major": 2,
       "version_minor": 0
      },
      "text/plain": [
       "Validation: |          | 0/? [00:00<?, ?it/s]"
      ]
     },
     "metadata": {},
     "output_type": "display_data"
    },
    {
     "data": {
      "application/vnd.jupyter.widget-view+json": {
       "model_id": "",
       "version_major": 2,
       "version_minor": 0
      },
      "text/plain": [
       "Validation: |          | 0/? [00:00<?, ?it/s]"
      ]
     },
     "metadata": {},
     "output_type": "display_data"
    },
    {
     "data": {
      "application/vnd.jupyter.widget-view+json": {
       "model_id": "",
       "version_major": 2,
       "version_minor": 0
      },
      "text/plain": [
       "Validation: |          | 0/? [00:00<?, ?it/s]"
      ]
     },
     "metadata": {},
     "output_type": "display_data"
    },
    {
     "data": {
      "application/vnd.jupyter.widget-view+json": {
       "model_id": "",
       "version_major": 2,
       "version_minor": 0
      },
      "text/plain": [
       "Validation: |          | 0/? [00:00<?, ?it/s]"
      ]
     },
     "metadata": {},
     "output_type": "display_data"
    },
    {
     "data": {
      "application/vnd.jupyter.widget-view+json": {
       "model_id": "",
       "version_major": 2,
       "version_minor": 0
      },
      "text/plain": [
       "Validation: |          | 0/? [00:00<?, ?it/s]"
      ]
     },
     "metadata": {},
     "output_type": "display_data"
    },
    {
     "data": {
      "application/vnd.jupyter.widget-view+json": {
       "model_id": "",
       "version_major": 2,
       "version_minor": 0
      },
      "text/plain": [
       "Validation: |          | 0/? [00:00<?, ?it/s]"
      ]
     },
     "metadata": {},
     "output_type": "display_data"
    },
    {
     "data": {
      "application/vnd.jupyter.widget-view+json": {
       "model_id": "",
       "version_major": 2,
       "version_minor": 0
      },
      "text/plain": [
       "Validation: |          | 0/? [00:00<?, ?it/s]"
      ]
     },
     "metadata": {},
     "output_type": "display_data"
    },
    {
     "data": {
      "application/vnd.jupyter.widget-view+json": {
       "model_id": "",
       "version_major": 2,
       "version_minor": 0
      },
      "text/plain": [
       "Validation: |          | 0/? [00:00<?, ?it/s]"
      ]
     },
     "metadata": {},
     "output_type": "display_data"
    },
    {
     "data": {
      "application/vnd.jupyter.widget-view+json": {
       "model_id": "",
       "version_major": 2,
       "version_minor": 0
      },
      "text/plain": [
       "Validation: |          | 0/? [00:00<?, ?it/s]"
      ]
     },
     "metadata": {},
     "output_type": "display_data"
    },
    {
     "data": {
      "application/vnd.jupyter.widget-view+json": {
       "model_id": "",
       "version_major": 2,
       "version_minor": 0
      },
      "text/plain": [
       "Validation: |          | 0/? [00:00<?, ?it/s]"
      ]
     },
     "metadata": {},
     "output_type": "display_data"
    },
    {
     "data": {
      "application/vnd.jupyter.widget-view+json": {
       "model_id": "",
       "version_major": 2,
       "version_minor": 0
      },
      "text/plain": [
       "Validation: |          | 0/? [00:00<?, ?it/s]"
      ]
     },
     "metadata": {},
     "output_type": "display_data"
    },
    {
     "data": {
      "application/vnd.jupyter.widget-view+json": {
       "model_id": "",
       "version_major": 2,
       "version_minor": 0
      },
      "text/plain": [
       "Validation: |          | 0/? [00:00<?, ?it/s]"
      ]
     },
     "metadata": {},
     "output_type": "display_data"
    },
    {
     "data": {
      "application/vnd.jupyter.widget-view+json": {
       "model_id": "",
       "version_major": 2,
       "version_minor": 0
      },
      "text/plain": [
       "Validation: |          | 0/? [00:00<?, ?it/s]"
      ]
     },
     "metadata": {},
     "output_type": "display_data"
    },
    {
     "data": {
      "application/vnd.jupyter.widget-view+json": {
       "model_id": "",
       "version_major": 2,
       "version_minor": 0
      },
      "text/plain": [
       "Validation: |          | 0/? [00:00<?, ?it/s]"
      ]
     },
     "metadata": {},
     "output_type": "display_data"
    },
    {
     "data": {
      "application/vnd.jupyter.widget-view+json": {
       "model_id": "",
       "version_major": 2,
       "version_minor": 0
      },
      "text/plain": [
       "Validation: |          | 0/? [00:00<?, ?it/s]"
      ]
     },
     "metadata": {},
     "output_type": "display_data"
    },
    {
     "data": {
      "application/vnd.jupyter.widget-view+json": {
       "model_id": "",
       "version_major": 2,
       "version_minor": 0
      },
      "text/plain": [
       "Validation: |          | 0/? [00:00<?, ?it/s]"
      ]
     },
     "metadata": {},
     "output_type": "display_data"
    },
    {
     "data": {
      "application/vnd.jupyter.widget-view+json": {
       "model_id": "",
       "version_major": 2,
       "version_minor": 0
      },
      "text/plain": [
       "Validation: |          | 0/? [00:00<?, ?it/s]"
      ]
     },
     "metadata": {},
     "output_type": "display_data"
    },
    {
     "data": {
      "application/vnd.jupyter.widget-view+json": {
       "model_id": "",
       "version_major": 2,
       "version_minor": 0
      },
      "text/plain": [
       "Validation: |          | 0/? [00:00<?, ?it/s]"
      ]
     },
     "metadata": {},
     "output_type": "display_data"
    },
    {
     "data": {
      "application/vnd.jupyter.widget-view+json": {
       "model_id": "",
       "version_major": 2,
       "version_minor": 0
      },
      "text/plain": [
       "Validation: |          | 0/? [00:00<?, ?it/s]"
      ]
     },
     "metadata": {},
     "output_type": "display_data"
    },
    {
     "data": {
      "application/vnd.jupyter.widget-view+json": {
       "model_id": "",
       "version_major": 2,
       "version_minor": 0
      },
      "text/plain": [
       "Validation: |          | 0/? [00:00<?, ?it/s]"
      ]
     },
     "metadata": {},
     "output_type": "display_data"
    },
    {
     "data": {
      "application/vnd.jupyter.widget-view+json": {
       "model_id": "",
       "version_major": 2,
       "version_minor": 0
      },
      "text/plain": [
       "Validation: |          | 0/? [00:00<?, ?it/s]"
      ]
     },
     "metadata": {},
     "output_type": "display_data"
    },
    {
     "data": {
      "application/vnd.jupyter.widget-view+json": {
       "model_id": "",
       "version_major": 2,
       "version_minor": 0
      },
      "text/plain": [
       "Validation: |          | 0/? [00:00<?, ?it/s]"
      ]
     },
     "metadata": {},
     "output_type": "display_data"
    },
    {
     "data": {
      "application/vnd.jupyter.widget-view+json": {
       "model_id": "",
       "version_major": 2,
       "version_minor": 0
      },
      "text/plain": [
       "Validation: |          | 0/? [00:00<?, ?it/s]"
      ]
     },
     "metadata": {},
     "output_type": "display_data"
    },
    {
     "data": {
      "application/vnd.jupyter.widget-view+json": {
       "model_id": "",
       "version_major": 2,
       "version_minor": 0
      },
      "text/plain": [
       "Validation: |          | 0/? [00:00<?, ?it/s]"
      ]
     },
     "metadata": {},
     "output_type": "display_data"
    },
    {
     "name": "stderr",
     "output_type": "stream",
     "text": [
      "\u001b[1;38;5;39mCOMET INFO:\u001b[0m ---------------------------------------------------------------------------------------\n",
      "\u001b[1;38;5;39mCOMET INFO:\u001b[0m Comet.ml Experiment Summary\n",
      "\u001b[1;38;5;39mCOMET INFO:\u001b[0m ---------------------------------------------------------------------------------------\n",
      "\u001b[1;38;5;39mCOMET INFO:\u001b[0m   Data:\n",
      "\u001b[1;38;5;39mCOMET INFO:\u001b[0m     display_summary_level : 1\n",
      "\u001b[1;38;5;39mCOMET INFO:\u001b[0m     name                  : supervised_baseline_GRU\n",
      "\u001b[1;38;5;39mCOMET INFO:\u001b[0m     url                   : https://www.comet.com/askoro/evs-ssl-rb/d9e53caa70824e6090a3fc48b67ebfd1\n",
      "\u001b[1;38;5;39mCOMET INFO:\u001b[0m   Metrics [count] (min, max):\n",
      "\u001b[1;38;5;39mCOMET INFO:\u001b[0m     loss [129]                    : (0.3875987231731415, 0.6915847063064575)\n",
      "\u001b[1;38;5;39mCOMET INFO:\u001b[0m     seq_len [21]                  : (85.953125, 137.65000915527344)\n",
      "\u001b[1;38;5;39mCOMET INFO:\u001b[0m     val_loss [30]                 : (0.5201566219329834, 0.6169891953468323)\n",
      "\u001b[1;38;5;39mCOMET INFO:\u001b[0m     valid/MulticlassAccuracy [30] : (0.699999988079071, 0.7559999823570251)\n",
      "\u001b[1;38;5;39mCOMET INFO:\u001b[0m     y [21]                        : (0.4765625, 0.6500000357627869)\n",
      "\u001b[1;38;5;39mCOMET INFO:\u001b[0m   Others:\n",
      "\u001b[1;38;5;39mCOMET INFO:\u001b[0m     Name : supervised_baseline_GRU\n",
      "\u001b[1;38;5;39mCOMET INFO:\u001b[0m   Parameters:\n",
      "\u001b[1;38;5;39mCOMET INFO:\u001b[0m     pretrained_lr        : None\n",
      "\u001b[1;38;5;39mCOMET INFO:\u001b[0m     test_batch_size      : None\n",
      "\u001b[1;38;5;39mCOMET INFO:\u001b[0m     test_drop_last       : False\n",
      "\u001b[1;38;5;39mCOMET INFO:\u001b[0m     test_num_workers     : None\n",
      "\u001b[1;38;5;39mCOMET INFO:\u001b[0m     train_batch_size     : 128\n",
      "\u001b[1;38;5;39mCOMET INFO:\u001b[0m     train_drop_last      : False\n",
      "\u001b[1;38;5;39mCOMET INFO:\u001b[0m     train_num_workers    : 4\n",
      "\u001b[1;38;5;39mCOMET INFO:\u001b[0m     train_update_n_steps : None\n",
      "\u001b[1;38;5;39mCOMET INFO:\u001b[0m     valid_batch_size     : 128\n",
      "\u001b[1;38;5;39mCOMET INFO:\u001b[0m     valid_drop_last      : False\n",
      "\u001b[1;38;5;39mCOMET INFO:\u001b[0m     valid_num_workers    : None\n",
      "\u001b[1;38;5;39mCOMET INFO:\u001b[0m   Uploads:\n",
      "\u001b[1;38;5;39mCOMET INFO:\u001b[0m     environment details : 1\n",
      "\u001b[1;38;5;39mCOMET INFO:\u001b[0m     filename            : 1\n",
      "\u001b[1;38;5;39mCOMET INFO:\u001b[0m     installed packages  : 1\n",
      "\u001b[1;38;5;39mCOMET INFO:\u001b[0m     model graph         : 1\n",
      "\u001b[1;38;5;39mCOMET INFO:\u001b[0m     notebook            : 1\n",
      "\u001b[1;38;5;39mCOMET INFO:\u001b[0m     os packages         : 1\n",
      "\u001b[1;38;5;39mCOMET INFO:\u001b[0m     source_code         : 1\n",
      "\u001b[1;38;5;39mCOMET INFO:\u001b[0m \n"
     ]
    }
   ],
   "source": [
    "trainer.fit(gru, data)"
   ]
  },
  {
   "cell_type": "code",
   "execution_count": 107,
   "metadata": {
    "execution": {
     "iopub.execute_input": "2025-02-26T00:42:01.880808Z",
     "iopub.status.busy": "2025-02-26T00:42:01.880458Z",
     "iopub.status.idle": "2025-02-26T00:42:01.899632Z",
     "shell.execute_reply": "2025-02-26T00:42:01.898622Z",
     "shell.execute_reply.started": "2025-02-26T00:42:01.880779Z"
    },
    "trusted": true
   },
   "outputs": [],
   "source": [
    "torch.save(gru.state_dict(), \"supervised_gru_with_2layered_MLP_rosbank.pt\")"
   ]
  },
  {
   "cell_type": "code",
   "execution_count": 154,
   "metadata": {
    "execution": {
     "iopub.execute_input": "2025-03-07T07:55:17.129627Z",
     "iopub.status.busy": "2025-03-07T07:55:17.129259Z",
     "iopub.status.idle": "2025-03-07T07:55:17.136980Z",
     "shell.execute_reply": "2025-03-07T07:55:17.136211Z",
     "shell.execute_reply.started": "2025-03-07T07:55:17.129599Z"
    },
    "trusted": true
   },
   "outputs": [
    {
     "name": "stdout",
     "output_type": "stream",
     "text": [
      "{'loss': tensor(0.3125), 'seq_len': tensor(98.9500), 'y': tensor(0.7500), 'val_loss': tensor(0.5210), 'valid/MulticlassAccuracy': tensor(0.7540)}\n"
     ]
    }
   ],
   "source": [
    "print(trainer.logged_metrics)"
   ]
  },
  {
   "cell_type": "markdown",
   "metadata": {},
   "source": [
    "**Измерим качество на тесте:**"
   ]
  },
  {
   "cell_type": "markdown",
   "metadata": {},
   "source": [
    "**Используем энкодер + MLP:**"
   ]
  },
  {
   "cell_type": "code",
   "execution_count": 155,
   "metadata": {
    "execution": {
     "iopub.execute_input": "2025-03-07T07:55:20.750327Z",
     "iopub.status.busy": "2025-03-07T07:55:20.750045Z",
     "iopub.status.idle": "2025-03-07T07:55:20.754436Z",
     "shell.execute_reply": "2025-03-07T07:55:20.753530Z",
     "shell.execute_reply.started": "2025-03-07T07:55:20.750304Z"
    },
    "trusted": true
   },
   "outputs": [],
   "source": [
    "test_loader = torch.utils.data.DataLoader(\n",
    "    dataset=data_test,\n",
    "    collate_fn=collate_feature_dict,\n",
    "    shuffle=False,\n",
    "    batch_size=128,\n",
    "    num_workers=0,\n",
    ")"
   ]
  },
  {
   "cell_type": "code",
   "execution_count": 156,
   "metadata": {
    "execution": {
     "iopub.execute_input": "2025-03-07T07:55:23.331935Z",
     "iopub.status.busy": "2025-03-07T07:55:23.331611Z",
     "iopub.status.idle": "2025-03-07T07:55:23.338487Z",
     "shell.execute_reply": "2025-03-07T07:55:23.337700Z",
     "shell.execute_reply.started": "2025-03-07T07:55:23.331907Z"
    },
    "trusted": true
   },
   "outputs": [
    {
     "data": {
      "text/plain": [
       "InferenceModule(\n",
       "  (model): Sequential(\n",
       "    (0): SequenceToTarget(\n",
       "      (seq_encoder): RnnSeqEncoder(\n",
       "        (trx_encoder): TrxEncoderT2V(\n",
       "          (embeddings): ModuleDict(\n",
       "            (MCC): NoisyEmbedding(\n",
       "              342, 8, padding_idx=0\n",
       "              (dropout): Dropout(p=0, inplace=False)\n",
       "            )\n",
       "            (channel_type): NoisyEmbedding(\n",
       "              7, 8, padding_idx=0\n",
       "              (dropout): Dropout(p=0, inplace=False)\n",
       "            )\n",
       "            (currency): NoisyEmbedding(\n",
       "              60, 8, padding_idx=0\n",
       "              (dropout): Dropout(p=0, inplace=False)\n",
       "            )\n",
       "            (trx_category): NoisyEmbedding(\n",
       "              11, 8, padding_idx=0\n",
       "              (dropout): Dropout(p=0, inplace=False)\n",
       "            )\n",
       "          )\n",
       "          (custom_embeddings): ModuleDict(\n",
       "            (amount): LogScaler()\n",
       "          )\n",
       "          (custom_embedding_batch_norm): RBatchNorm(\n",
       "            (bn): BatchNorm1d(1, eps=1e-05, momentum=0.1, affine=True, track_running_stats=True)\n",
       "          )\n",
       "          (time2vec_days): Time2Vec()\n",
       "        )\n",
       "        (seq_encoder): RnnEncoder(\n",
       "          (rnn): GRU(41, 512, batch_first=True)\n",
       "          (reducer): LastStepEncoder()\n",
       "        )\n",
       "      )\n",
       "      (head): Head(\n",
       "        (model): Sequential(\n",
       "          (0): Linear(in_features=512, out_features=1024, bias=True)\n",
       "          (1): ReLU()\n",
       "          (2): Sequential(\n",
       "            (0): Linear(in_features=1024, out_features=2, bias=True)\n",
       "            (1): LogSoftmax(dim=1)\n",
       "          )\n",
       "        )\n",
       "      )\n",
       "      (loss): NLLLoss()\n",
       "      (train_metrics): ModuleDict(\n",
       "        (MulticlassAccuracy): MulticlassAccuracy()\n",
       "      )\n",
       "      (valid_metrics): ModuleDict(\n",
       "        (MulticlassAccuracy): MulticlassAccuracy()\n",
       "      )\n",
       "      (test_metrics): ModuleDict(\n",
       "        (MulticlassAccuracy): MulticlassAccuracy()\n",
       "      )\n",
       "    )\n",
       "    (1): Softmax(dim=1)\n",
       "  )\n",
       ")"
      ]
     },
     "execution_count": 156,
     "metadata": {},
     "output_type": "execute_result"
    }
   ],
   "source": [
    "model = InferenceModule(\n",
    "    torch.nn.Sequential(\n",
    "        gru,\n",
    "        torch.nn.Softmax(dim=1),\n",
    "    ),\n",
    "    model_out_name=\"prob\",\n",
    ")\n",
    "\n",
    "model.eval()"
   ]
  },
  {
   "cell_type": "code",
   "execution_count": 157,
   "metadata": {
    "execution": {
     "iopub.execute_input": "2025-03-07T07:55:43.994214Z",
     "iopub.status.busy": "2025-03-07T07:55:43.993928Z",
     "iopub.status.idle": "2025-03-07T07:55:46.098999Z",
     "shell.execute_reply": "2025-03-07T07:55:46.098273Z",
     "shell.execute_reply.started": "2025-03-07T07:55:43.994193Z"
    },
    "trusted": true
   },
   "outputs": [
    {
     "name": "stderr",
     "output_type": "stream",
     "text": [
      "\u001b[1;38;5;214mCOMET WARNING:\u001b[0m As you are running in a Jupyter environment, you will need to call `experiment.end()` when finished to ensure all metrics and code are logged before exiting.\n",
      "\u001b[1;38;5;39mCOMET INFO:\u001b[0m Experiment is live on comet.com https://www.comet.com/askoro/evs-ssl-rb/d9e53caa70824e6090a3fc48b67ebfd1\n",
      "\n",
      "/usr/local/lib/python3.10/dist-packages/pytorch_lightning/trainer/connectors/data_connector.py:425: PossibleUserWarning:\n",
      "\n",
      "The 'predict_dataloader' does not have many workers which may be a bottleneck. Consider increasing the value of the `num_workers` argument` to `num_workers=3` in the `DataLoader` to improve performance.\n",
      "\n"
     ]
    },
    {
     "data": {
      "application/vnd.jupyter.widget-view+json": {
       "model_id": "3d6275072a6449899425531c529c237a",
       "version_major": 2,
       "version_minor": 0
      },
      "text/plain": [
       "Predicting: |          | 0/? [00:00<?, ?it/s]"
      ]
     },
     "metadata": {},
     "output_type": "display_data"
    },
    {
     "name": "stderr",
     "output_type": "stream",
     "text": [
      "\u001b[1;38;5;39mCOMET INFO:\u001b[0m ---------------------------------------------------------------------------------------\n",
      "\u001b[1;38;5;39mCOMET INFO:\u001b[0m Comet.ml ExistingExperiment Summary\n",
      "\u001b[1;38;5;39mCOMET INFO:\u001b[0m ---------------------------------------------------------------------------------------\n",
      "\u001b[1;38;5;39mCOMET INFO:\u001b[0m   Data:\n",
      "\u001b[1;38;5;39mCOMET INFO:\u001b[0m     display_summary_level : 1\n",
      "\u001b[1;38;5;39mCOMET INFO:\u001b[0m     name                  : supervised_baseline_GRU\n",
      "\u001b[1;38;5;39mCOMET INFO:\u001b[0m     url                   : https://www.comet.com/askoro/evs-ssl-rb/d9e53caa70824e6090a3fc48b67ebfd1\n",
      "\u001b[1;38;5;39mCOMET INFO:\u001b[0m   Others:\n",
      "\u001b[1;38;5;39mCOMET INFO:\u001b[0m     Created from : pytorch-lightning\n",
      "\u001b[1;38;5;39mCOMET INFO:\u001b[0m     Name         : supervised_baseline_GRU\n",
      "\u001b[1;38;5;39mCOMET INFO:\u001b[0m   Parameters:\n",
      "\u001b[1;38;5;39mCOMET INFO:\u001b[0m     test_batch_size   : None\n",
      "\u001b[1;38;5;39mCOMET INFO:\u001b[0m     test_drop_last    : False\n",
      "\u001b[1;38;5;39mCOMET INFO:\u001b[0m     test_num_workers  : None\n",
      "\u001b[1;38;5;39mCOMET INFO:\u001b[0m     train_batch_size  : 128\n",
      "\u001b[1;38;5;39mCOMET INFO:\u001b[0m     train_drop_last   : False\n",
      "\u001b[1;38;5;39mCOMET INFO:\u001b[0m     train_num_workers : 4\n",
      "\u001b[1;38;5;39mCOMET INFO:\u001b[0m     valid_batch_size  : 128\n",
      "\u001b[1;38;5;39mCOMET INFO:\u001b[0m     valid_drop_last   : False\n",
      "\u001b[1;38;5;39mCOMET INFO:\u001b[0m     valid_num_workers : None\n",
      "\u001b[1;38;5;39mCOMET INFO:\u001b[0m   Uploads:\n",
      "\u001b[1;38;5;39mCOMET INFO:\u001b[0m     model graph : 1\n",
      "\u001b[1;38;5;39mCOMET INFO:\u001b[0m \n"
     ]
    }
   ],
   "source": [
    "pred = trainer.predict(model, test_loader)"
   ]
  },
  {
   "cell_type": "code",
   "execution_count": 158,
   "metadata": {
    "execution": {
     "iopub.execute_input": "2025-03-07T07:55:49.270697Z",
     "iopub.status.busy": "2025-03-07T07:55:49.270388Z",
     "iopub.status.idle": "2025-03-07T07:55:49.275334Z",
     "shell.execute_reply": "2025-03-07T07:55:49.274565Z",
     "shell.execute_reply.started": "2025-03-07T07:55:49.270672Z"
    },
    "trusted": true
   },
   "outputs": [],
   "source": [
    "pred = pd.concat(pred, axis=0)"
   ]
  },
  {
   "cell_type": "code",
   "execution_count": 159,
   "metadata": {
    "execution": {
     "iopub.execute_input": "2025-03-07T07:55:50.996432Z",
     "iopub.status.busy": "2025-03-07T07:55:50.996116Z",
     "iopub.status.idle": "2025-03-07T07:55:51.006646Z",
     "shell.execute_reply": "2025-03-07T07:55:51.005901Z",
     "shell.execute_reply.started": "2025-03-07T07:55:50.996410Z"
    },
    "trusted": true
   },
   "outputs": [
    {
     "data": {
      "text/html": [
       "<div>\n",
       "<style scoped>\n",
       "    .dataframe tbody tr th:only-of-type {\n",
       "        vertical-align: middle;\n",
       "    }\n",
       "\n",
       "    .dataframe tbody tr th {\n",
       "        vertical-align: top;\n",
       "    }\n",
       "\n",
       "    .dataframe thead th {\n",
       "        text-align: right;\n",
       "    }\n",
       "</style>\n",
       "<table border=\"1\" class=\"dataframe\">\n",
       "  <thead>\n",
       "    <tr style=\"text-align: right;\">\n",
       "      <th></th>\n",
       "      <th>cl_id</th>\n",
       "      <th>target</th>\n",
       "      <th>prob_0000</th>\n",
       "      <th>prob_0001</th>\n",
       "    </tr>\n",
       "  </thead>\n",
       "  <tbody>\n",
       "    <tr>\n",
       "      <th>0</th>\n",
       "      <td>1</td>\n",
       "      <td>0</td>\n",
       "      <td>0.123336</td>\n",
       "      <td>0.876664</td>\n",
       "    </tr>\n",
       "    <tr>\n",
       "      <th>1</th>\n",
       "      <td>38</td>\n",
       "      <td>0</td>\n",
       "      <td>0.623679</td>\n",
       "      <td>0.376321</td>\n",
       "    </tr>\n",
       "    <tr>\n",
       "      <th>2</th>\n",
       "      <td>48</td>\n",
       "      <td>1</td>\n",
       "      <td>0.185761</td>\n",
       "      <td>0.814239</td>\n",
       "    </tr>\n",
       "    <tr>\n",
       "      <th>3</th>\n",
       "      <td>70</td>\n",
       "      <td>1</td>\n",
       "      <td>0.164920</td>\n",
       "      <td>0.835080</td>\n",
       "    </tr>\n",
       "    <tr>\n",
       "      <th>4</th>\n",
       "      <td>79</td>\n",
       "      <td>0</td>\n",
       "      <td>0.263725</td>\n",
       "      <td>0.736275</td>\n",
       "    </tr>\n",
       "    <tr>\n",
       "      <th>...</th>\n",
       "      <td>...</td>\n",
       "      <td>...</td>\n",
       "      <td>...</td>\n",
       "      <td>...</td>\n",
       "    </tr>\n",
       "    <tr>\n",
       "      <th>111</th>\n",
       "      <td>10150</td>\n",
       "      <td>1</td>\n",
       "      <td>0.103653</td>\n",
       "      <td>0.896347</td>\n",
       "    </tr>\n",
       "    <tr>\n",
       "      <th>112</th>\n",
       "      <td>10151</td>\n",
       "      <td>1</td>\n",
       "      <td>0.277649</td>\n",
       "      <td>0.722351</td>\n",
       "    </tr>\n",
       "    <tr>\n",
       "      <th>113</th>\n",
       "      <td>10176</td>\n",
       "      <td>1</td>\n",
       "      <td>0.479607</td>\n",
       "      <td>0.520393</td>\n",
       "    </tr>\n",
       "    <tr>\n",
       "      <th>114</th>\n",
       "      <td>10185</td>\n",
       "      <td>1</td>\n",
       "      <td>0.558209</td>\n",
       "      <td>0.441791</td>\n",
       "    </tr>\n",
       "    <tr>\n",
       "      <th>115</th>\n",
       "      <td>10207</td>\n",
       "      <td>1</td>\n",
       "      <td>0.161738</td>\n",
       "      <td>0.838262</td>\n",
       "    </tr>\n",
       "  </tbody>\n",
       "</table>\n",
       "<p>500 rows × 4 columns</p>\n",
       "</div>"
      ],
      "text/plain": [
       "     cl_id  target  prob_0000  prob_0001\n",
       "0        1       0   0.123336   0.876664\n",
       "1       38       0   0.623679   0.376321\n",
       "2       48       1   0.185761   0.814239\n",
       "3       70       1   0.164920   0.835080\n",
       "4       79       0   0.263725   0.736275\n",
       "..     ...     ...        ...        ...\n",
       "111  10150       1   0.103653   0.896347\n",
       "112  10151       1   0.277649   0.722351\n",
       "113  10176       1   0.479607   0.520393\n",
       "114  10185       1   0.558209   0.441791\n",
       "115  10207       1   0.161738   0.838262\n",
       "\n",
       "[500 rows x 4 columns]"
      ]
     },
     "execution_count": 159,
     "metadata": {},
     "output_type": "execute_result"
    }
   ],
   "source": [
    "pred"
   ]
  },
  {
   "cell_type": "code",
   "execution_count": 160,
   "metadata": {
    "execution": {
     "iopub.execute_input": "2025-03-07T07:55:54.025075Z",
     "iopub.status.busy": "2025-03-07T07:55:54.024801Z",
     "iopub.status.idle": "2025-03-07T07:55:54.032758Z",
     "shell.execute_reply": "2025-03-07T07:55:54.032032Z",
     "shell.execute_reply.started": "2025-03-07T07:55:54.025054Z"
    },
    "trusted": true
   },
   "outputs": [
    {
     "data": {
      "text/plain": [
       "array([1, 0, 1, 1, 1, 1, 1, 0, 1, 1, 1, 1, 1, 1, 1, 1, 1, 1, 1, 1, 1, 1,\n",
       "       1, 1, 1, 1, 1, 1, 0, 0, 1, 1, 1, 1, 1, 1, 1, 1, 1, 1, 1, 1, 1, 1,\n",
       "       1, 1, 1, 0, 1, 1, 1, 1, 1, 1, 0, 0, 1, 1, 1, 1, 1, 1, 1, 1, 1, 0,\n",
       "       1, 1, 1, 1, 1, 0, 1, 1, 1, 1, 1, 1, 1, 1, 1, 1, 1, 0, 1, 1, 1, 1,\n",
       "       1, 1, 0, 1, 1, 1, 0, 1, 1, 1, 1, 1, 1, 0, 1, 1, 1, 1, 0, 1, 1, 1,\n",
       "       1, 1, 1, 1, 1, 1, 1, 1, 0, 1, 1, 1, 1, 1, 1, 1, 0, 1, 1, 0, 1, 0,\n",
       "       1, 0, 1, 1, 1, 1, 1, 1, 1, 1, 1, 1, 1, 1, 1, 1, 1, 1, 0, 1, 1, 0,\n",
       "       1, 0, 0, 1, 1, 1, 0, 0, 1, 1, 0, 1, 1, 0, 0, 0, 0, 1, 0, 1, 1, 0,\n",
       "       1, 0, 1, 1, 1, 0, 1, 1, 0, 1, 1, 0, 1, 0, 1, 1, 1, 0, 0, 0, 1, 1,\n",
       "       0, 0, 1, 1, 1, 1, 1, 1, 1, 0, 0, 1, 1, 1, 1, 0, 0, 0, 1, 1, 1, 1,\n",
       "       0, 0, 1, 1, 1, 0, 1, 0, 0, 0, 1, 0, 1, 1, 0, 0, 1, 0, 0, 0, 1, 0,\n",
       "       1, 0, 0, 1, 1, 1, 0, 0, 1, 1, 1, 1, 1, 1, 0, 1, 0, 0, 0, 0, 0, 0,\n",
       "       0, 0, 1, 0, 1, 1, 0, 0, 0, 0, 0, 0, 1, 0, 0, 1, 0, 0, 1, 0, 0, 0,\n",
       "       0, 0, 0, 1, 0, 0, 0, 0, 0, 1, 0, 1, 0, 0, 0, 0, 1, 0, 1, 0, 1, 0,\n",
       "       1, 0, 0, 0, 0, 0, 0, 0, 0, 0, 0, 0, 0, 0, 0, 1, 1, 0, 0, 0, 0, 0,\n",
       "       0, 1, 0, 1, 1, 0, 0, 0, 0, 1, 1, 0, 1, 1, 0, 1, 1, 0, 0, 0, 0, 0,\n",
       "       0, 1, 0, 0, 0, 0, 0, 1, 1, 1, 0, 0, 0, 1, 1, 1, 0, 0, 0, 1, 1, 0,\n",
       "       0, 1, 1, 0, 0, 0, 1, 0, 1, 1, 1, 0, 0, 1, 0, 0, 0, 0, 0, 0, 0, 1,\n",
       "       0, 0, 0, 0, 1, 1, 0, 0, 0, 1, 1, 0, 0, 1, 0, 0, 0, 0, 0, 0, 1, 0,\n",
       "       1, 0, 0, 0, 1, 1, 0, 1, 0, 1, 1, 0, 1, 0, 1, 0, 0, 0, 0, 0, 0, 1,\n",
       "       1, 0, 0, 0, 0, 0, 0, 0, 0, 0, 0, 1, 1, 1, 1, 0, 0, 0, 0, 0, 1, 1,\n",
       "       1, 0, 0, 1, 1, 0, 0, 0, 1, 0, 0, 1, 1, 0, 1, 0, 0, 0, 1, 0, 1, 1,\n",
       "       0, 1, 0, 0, 0, 1, 0, 1, 0, 0, 1, 1, 1, 1, 0, 1])"
      ]
     },
     "execution_count": 160,
     "metadata": {},
     "output_type": "execute_result"
    }
   ],
   "source": [
    "y_pred = pred[[f\"prob_{i:04d}\" for i in range(2)]].values.argmax(axis=1)\n",
    "y_pred"
   ]
  },
  {
   "cell_type": "code",
   "execution_count": 161,
   "metadata": {
    "execution": {
     "iopub.execute_input": "2025-03-07T07:55:55.975326Z",
     "iopub.status.busy": "2025-03-07T07:55:55.975043Z",
     "iopub.status.idle": "2025-03-07T07:55:55.981395Z",
     "shell.execute_reply": "2025-03-07T07:55:55.980569Z",
     "shell.execute_reply.started": "2025-03-07T07:55:55.975304Z"
    },
    "trusted": true
   },
   "outputs": [
    {
     "data": {
      "text/plain": [
       "array([0, 0, 1, 1, 0, 1, 1, 0, 1, 1, 1, 1, 1, 1, 1, 1, 1, 0, 1, 1, 1, 1,\n",
       "       1, 1, 1, 1, 1, 1, 0, 1, 1, 1, 1, 1, 1, 1, 1, 1, 1, 1, 1, 0, 1, 1,\n",
       "       1, 1, 1, 1, 1, 1, 1, 1, 1, 1, 1, 1, 1, 1, 1, 1, 1, 1, 1, 1, 1, 0,\n",
       "       1, 1, 1, 1, 1, 0, 1, 1, 1, 1, 1, 1, 1, 1, 1, 1, 0, 1, 1, 1, 1, 1,\n",
       "       1, 1, 0, 1, 1, 0, 1, 0, 1, 1, 1, 1, 1, 0, 1, 1, 1, 1, 1, 1, 1, 1,\n",
       "       1, 1, 1, 1, 1, 1, 1, 1, 0, 1, 0, 1, 1, 1, 0, 1, 1, 1, 1, 0, 1, 0,\n",
       "       0, 0, 1, 0, 1, 1, 1, 1, 1, 1, 0, 1, 0, 0, 1, 1, 0, 1, 0, 1, 1, 0,\n",
       "       1, 0, 0, 1, 1, 1, 0, 0, 1, 1, 1, 1, 0, 0, 1, 0, 0, 0, 1, 1, 1, 0,\n",
       "       1, 1, 1, 1, 1, 1, 0, 0, 1, 0, 1, 1, 1, 0, 1, 1, 1, 1, 0, 0, 0, 1,\n",
       "       0, 1, 1, 1, 1, 1, 1, 1, 1, 1, 0, 1, 1, 1, 1, 0, 0, 1, 1, 1, 1, 1,\n",
       "       1, 0, 1, 0, 1, 0, 1, 1, 1, 0, 0, 0, 0, 1, 1, 0, 1, 0, 0, 0, 1, 0,\n",
       "       1, 1, 0, 1, 1, 1, 0, 0, 1, 1, 1, 1, 1, 1, 1, 0, 0, 0, 0, 0, 0, 1,\n",
       "       0, 0, 0, 0, 1, 0, 0, 1, 0, 0, 0, 0, 0, 0, 1, 1, 0, 0, 1, 0, 0, 0,\n",
       "       0, 0, 1, 0, 0, 0, 1, 1, 0, 1, 0, 0, 0, 1, 0, 0, 0, 1, 0, 0, 0, 0,\n",
       "       1, 0, 0, 0, 0, 0, 1, 0, 1, 0, 0, 0, 0, 1, 0, 1, 0, 0, 1, 0, 0, 0,\n",
       "       0, 0, 0, 1, 0, 0, 1, 0, 1, 1, 0, 0, 0, 0, 0, 1, 1, 0, 0, 1, 1, 0,\n",
       "       0, 0, 1, 0, 0, 0, 0, 0, 1, 1, 0, 0, 0, 1, 0, 1, 0, 0, 1, 0, 0, 0,\n",
       "       1, 1, 0, 0, 0, 0, 0, 1, 0, 1, 1, 1, 0, 0, 0, 0, 0, 0, 0, 1, 1, 0,\n",
       "       0, 0, 0, 1, 1, 1, 0, 0, 0, 1, 1, 0, 0, 1, 1, 0, 0, 0, 0, 0, 1, 0,\n",
       "       1, 0, 1, 0, 1, 0, 0, 0, 1, 0, 1, 0, 1, 0, 1, 1, 1, 0, 1, 1, 0, 0,\n",
       "       0, 0, 0, 1, 0, 0, 1, 0, 0, 0, 0, 1, 1, 0, 1, 0, 0, 0, 0, 0, 0, 1,\n",
       "       0, 0, 0, 1, 1, 1, 0, 0, 1, 1, 0, 1, 0, 0, 1, 0, 0, 1, 0, 0, 1, 1,\n",
       "       0, 0, 0, 0, 0, 1, 0, 1, 0, 1, 1, 1, 1, 1, 1, 1])"
      ]
     },
     "execution_count": 161,
     "metadata": {},
     "output_type": "execute_result"
    }
   ],
   "source": [
    "y_true = pred[\"target\"].values\n",
    "y_true"
   ]
  },
  {
   "cell_type": "code",
   "execution_count": 162,
   "metadata": {
    "collapsed": true,
    "execution": {
     "iopub.execute_input": "2025-03-07T07:56:03.079291Z",
     "iopub.status.busy": "2025-03-07T07:56:03.079010Z",
     "iopub.status.idle": "2025-03-07T07:56:03.088722Z",
     "shell.execute_reply": "2025-03-07T07:56:03.087836Z",
     "shell.execute_reply.started": "2025-03-07T07:56:03.079270Z"
    },
    "jupyter": {
     "outputs_hidden": true
    },
    "trusted": true
   },
   "outputs": [
    {
     "data": {
      "text/plain": [
       "array([0.87666357, 0.37632108, 0.81423855, 0.8350798 , 0.7362752 ,\n",
       "       0.85706204, 0.91454834, 0.33148304, 0.98075175, 0.92039543,\n",
       "       0.969634  , 0.63904226, 0.93815386, 0.94132847, 0.5742793 ,\n",
       "       0.9464432 , 0.93325955, 0.7261069 , 0.88078666, 0.92777526,\n",
       "       0.7486656 , 0.8549313 , 0.7474287 , 0.5521448 , 0.8017496 ,\n",
       "       0.8974453 , 0.96346474, 0.97140753, 0.39853555, 0.2850942 ,\n",
       "       0.90724766, 0.9238023 , 0.94578105, 0.8618969 , 0.8980207 ,\n",
       "       0.934898  , 0.9506875 , 0.9726218 , 0.920695  , 0.9556519 ,\n",
       "       0.60906017, 0.95372146, 0.6444998 , 0.95642114, 0.801741  ,\n",
       "       0.9642968 , 0.92708254, 0.4472002 , 0.9084691 , 0.94992024,\n",
       "       0.9565234 , 0.92141235, 0.8839638 , 0.98324454, 0.40326855,\n",
       "       0.38753822, 0.96534234, 0.9667409 , 0.6632826 , 0.7475132 ,\n",
       "       0.91314983, 0.9459914 , 0.8223837 , 0.89530915, 0.9601716 ,\n",
       "       0.49209255, 0.7449037 , 0.9603018 , 0.9721539 , 0.92916155,\n",
       "       0.95537597, 0.34886312, 0.91930467, 0.9487953 , 0.89012986,\n",
       "       0.81734395, 0.77209455, 0.96717   , 0.9347705 , 0.9662058 ,\n",
       "       0.96875226, 0.9161849 , 0.9699738 , 0.48606655, 0.87312883,\n",
       "       0.94997406, 0.9644693 , 0.93964213, 0.91211593, 0.9262683 ,\n",
       "       0.4154038 , 0.55817664, 0.9388454 , 0.5502258 , 0.32902014,\n",
       "       0.9048941 , 0.86880875, 0.92918277, 0.92505115, 0.9329055 ,\n",
       "       0.74952877, 0.31890467, 0.97367346, 0.95720863, 0.5880882 ,\n",
       "       0.9362265 , 0.4623059 , 0.9457978 , 0.80845547, 0.9625972 ,\n",
       "       0.89703995, 0.9261734 , 0.91163456, 0.5408435 , 0.94358027,\n",
       "       0.95832974, 0.96013594, 0.8468953 , 0.30286592, 0.9756178 ,\n",
       "       0.51014376, 0.9018583 , 0.585156  , 0.95610565, 0.95556295,\n",
       "       0.91306037, 0.42035267, 0.9100739 , 0.96720773, 0.34001765,\n",
       "       0.940195  , 0.3788616 , 0.8642681 , 0.25644365, 0.9592303 ,\n",
       "       0.91073066, 0.8403099 , 0.9347707 , 0.9202631 , 0.8960154 ,\n",
       "       0.9741746 , 0.9318939 , 0.9076014 , 0.8949831 , 0.77930266,\n",
       "       0.94884557, 0.94257605, 0.9617507 , 0.94252646, 0.94930774,\n",
       "       0.06529264, 0.8679739 , 0.7485666 , 0.10921036, 0.6847476 ,\n",
       "       0.16137151, 0.3796688 , 0.7842815 , 0.6109229 , 0.72914696,\n",
       "       0.13664481, 0.4028252 , 0.92731977, 0.80560136, 0.14062041,\n",
       "       0.8450812 , 0.75710005, 0.232526  , 0.0833738 , 0.23375581,\n",
       "       0.27369457, 0.6333268 , 0.40688336, 0.7520287 , 0.8220354 ,\n",
       "       0.24862464, 0.9606095 , 0.11274668, 0.81312674, 0.820213  ,\n",
       "       0.57347447, 0.11748653, 0.6499623 , 0.7069244 , 0.27884525,\n",
       "       0.62299883, 0.68644595, 0.37030503, 0.75877315, 0.32654014,\n",
       "       0.9323963 , 0.5993392 , 0.5762516 , 0.22435437, 0.15745468,\n",
       "       0.3479007 , 0.7317265 , 0.510107  , 0.37212098, 0.2755449 ,\n",
       "       0.76773393, 0.5391823 , 0.85577416, 0.75824326, 0.7609749 ,\n",
       "       0.7675922 , 0.79484034, 0.2089156 , 0.35601687, 0.7407798 ,\n",
       "       0.89935607, 0.7286358 , 0.7934115 , 0.05990785, 0.22008291,\n",
       "       0.37723738, 0.8771775 , 0.87319756, 0.6142667 , 0.773024  ,\n",
       "       0.18490267, 0.18705672, 0.7282408 , 0.5107777 , 0.71291775,\n",
       "       0.17369583, 0.83518106, 0.18994276, 0.16248274, 0.21464394,\n",
       "       0.586635  , 0.39300394, 0.8015923 , 0.6885723 , 0.16740866,\n",
       "       0.13702433, 0.85966575, 0.0473194 , 0.02094849, 0.3390228 ,\n",
       "       0.87324315, 0.0731227 , 0.6970841 , 0.09190165, 0.22496642,\n",
       "       0.58571434, 0.53063184, 0.8391285 , 0.21320981, 0.06103795,\n",
       "       0.75363684, 0.93458784, 0.77607614, 0.69316506, 0.770154  ,\n",
       "       0.7609626 , 0.3348097 , 0.63156664, 0.24909487, 0.4900285 ,\n",
       "       0.18505965, 0.17996794, 0.30887905, 0.31114054, 0.3173829 ,\n",
       "       0.11303071, 0.6202904 , 0.34155843, 0.55415857, 0.75070775,\n",
       "       0.14133623, 0.33893466, 0.41953218, 0.20662688, 0.13174967,\n",
       "       0.27699843, 0.85888773, 0.34577715, 0.41487715, 0.51586676,\n",
       "       0.27089962, 0.14868301, 0.56149405, 0.20601943, 0.16475251,\n",
       "       0.11081579, 0.09765971, 0.36404204, 0.17736794, 0.75080574,\n",
       "       0.3912733 , 0.45502657, 0.33395386, 0.49158347, 0.08392081,\n",
       "       0.7937069 , 0.2830453 , 0.6565931 , 0.2453022 , 0.30545476,\n",
       "       0.18110736, 0.29317015, 0.63805634, 0.27012163, 0.8128862 ,\n",
       "       0.26292554, 0.80393183, 0.20084068, 0.6537245 , 0.37267873,\n",
       "       0.13484097, 0.22653809, 0.16884735, 0.19262141, 0.15987149,\n",
       "       0.16335075, 0.31843448, 0.37470308, 0.28587458, 0.29395327,\n",
       "       0.14250775, 0.11945753, 0.15600699, 0.7421152 , 0.6652467 ,\n",
       "       0.12009193, 0.1327962 , 0.11176107, 0.48423412, 0.35423064,\n",
       "       0.47255275, 0.7099891 , 0.14674473, 0.59450144, 0.53711426,\n",
       "       0.26769406, 0.39537403, 0.27872956, 0.17776105, 0.7170297 ,\n",
       "       0.57362574, 0.07820329, 0.71336216, 0.5788355 , 0.24007164,\n",
       "       0.78537226, 0.56086737, 0.16901658, 0.10316604, 0.4182118 ,\n",
       "       0.32463977, 0.25020152, 0.17435434, 0.6836016 , 0.45056495,\n",
       "       0.4992901 , 0.29687485, 0.2578198 , 0.08858232, 0.6839515 ,\n",
       "       0.54989725, 0.8260319 , 0.29784143, 0.06541674, 0.2528403 ,\n",
       "       0.8931596 , 0.7901437 , 0.7167472 , 0.12949355, 0.22061814,\n",
       "       0.16994713, 0.56405926, 0.7623083 , 0.1262925 , 0.3529413 ,\n",
       "       0.69967544, 0.66769004, 0.4500591 , 0.27821892, 0.3710142 ,\n",
       "       0.7780784 , 0.44307956, 0.5887021 , 0.5407347 , 0.92108685,\n",
       "       0.20135386, 0.21172336, 0.70838624, 0.15184401, 0.2092638 ,\n",
       "       0.11718098, 0.34228662, 0.12753838, 0.16655387, 0.29671812,\n",
       "       0.54267573, 0.4265171 , 0.33754537, 0.18937281, 0.16153428,\n",
       "       0.8321229 , 0.5312873 , 0.40300116, 0.28860041, 0.29610485,\n",
       "       0.83375573, 0.82816374, 0.14902218, 0.47878048, 0.5794054 ,\n",
       "       0.25480604, 0.06623335, 0.23204148, 0.33913058, 0.14053775,\n",
       "       0.26872072, 0.6497167 , 0.3346864 , 0.8453796 , 0.09294038,\n",
       "       0.3865771 , 0.2533408 , 0.76070714, 0.50637007, 0.03735179,\n",
       "       0.7343371 , 0.35453984, 0.76622134, 0.810138  , 0.2468109 ,\n",
       "       0.760874  , 0.23261954, 0.6695028 , 0.3677286 , 0.20259331,\n",
       "       0.25472146, 0.2120157 , 0.48582137, 0.37593606, 0.76446086,\n",
       "       0.7284168 , 0.2732957 , 0.33588746, 0.41578603, 0.1140568 ,\n",
       "       0.44648498, 0.325668  , 0.31513053, 0.2507781 , 0.1687175 ,\n",
       "       0.13299505, 0.828886  , 0.85734195, 0.81499064, 0.8552897 ,\n",
       "       0.23051323, 0.22243261, 0.20051236, 0.19766784, 0.21611337,\n",
       "       0.5539983 , 0.5914436 , 0.6527866 , 0.39805833, 0.08765799,\n",
       "       0.5477895 , 0.90142083, 0.45068288, 0.13047472, 0.39255592,\n",
       "       0.5345021 , 0.4919222 , 0.1581003 , 0.8554338 , 0.7284538 ,\n",
       "       0.19029658, 0.92484057, 0.1560173 , 0.3062984 , 0.3343757 ,\n",
       "       0.54678875, 0.23214982, 0.75839305, 0.84502405, 0.4767335 ,\n",
       "       0.6684691 , 0.23173279, 0.41617844, 0.15266985, 0.7384237 ,\n",
       "       0.14646345, 0.8944408 , 0.27981135, 0.25713798, 0.7396861 ,\n",
       "       0.8963466 , 0.7223513 , 0.5203929 , 0.4417913 , 0.8382617 ],\n",
       "      dtype=float32)"
      ]
     },
     "execution_count": 162,
     "metadata": {},
     "output_type": "execute_result"
    }
   ],
   "source": [
    "y_proba = pred[[f\"prob_{i:04d}\" for i in range(2)]].values[:, 1]\n",
    "y_proba"
   ]
  },
  {
   "cell_type": "code",
   "execution_count": 8,
   "metadata": {
    "execution": {
     "iopub.execute_input": "2025-03-07T22:07:36.086585Z",
     "iopub.status.busy": "2025-03-07T22:07:36.086230Z",
     "iopub.status.idle": "2025-03-07T22:07:36.090384Z",
     "shell.execute_reply": "2025-03-07T22:07:36.089453Z",
     "shell.execute_reply.started": "2025-03-07T22:07:36.086558Z"
    },
    "trusted": true
   },
   "outputs": [],
   "source": [
    "from sklearn.metrics import accuracy_score, roc_auc_score"
   ]
  },
  {
   "cell_type": "code",
   "execution_count": 164,
   "metadata": {
    "execution": {
     "iopub.execute_input": "2025-03-07T07:56:08.559286Z",
     "iopub.status.busy": "2025-03-07T07:56:08.558984Z",
     "iopub.status.idle": "2025-03-07T07:56:08.568117Z",
     "shell.execute_reply": "2025-03-07T07:56:08.567392Z",
     "shell.execute_reply.started": "2025-03-07T07:56:08.559260Z"
    },
    "trusted": true
   },
   "outputs": [
    {
     "name": "stdout",
     "output_type": "stream",
     "text": [
      "Accuracy: 0.754\n",
      "ROC-AUC: 0.8186527658610027\n"
     ]
    }
   ],
   "source": [
    "print(\"Accuracy:\", accuracy_score(y_true, y_pred))\n",
    "print(\"ROC-AUC:\", roc_auc_score(y_true, y_proba))"
   ]
  },
  {
   "cell_type": "markdown",
   "metadata": {},
   "source": [
    "- GRU + 2layer MLP Head + Time2Vec (k = 7):\n",
    "  - `Accuracy: 0.746 +- 0.0076`\n",
    "  - `ROC-AUC: 0.8148 +- 0.0037`\n",
    "\n",
    "Без Time2Vec получаются крайне нестабильные/некорректные результаты..."
   ]
  },
  {
   "cell_type": "markdown",
   "metadata": {},
   "source": [
    "# Self-Supervised Case. COLES, CPC, GPT."
   ]
  },
  {
   "cell_type": "markdown",
   "metadata": {},
   "source": [
    "**Данные:**"
   ]
  },
  {
   "cell_type": "code",
   "execution_count": 30,
   "metadata": {
    "execution": {
     "iopub.execute_input": "2025-03-08T11:27:47.457981Z",
     "iopub.status.busy": "2025-03-08T11:27:47.457543Z",
     "iopub.status.idle": "2025-03-08T11:27:48.411495Z",
     "shell.execute_reply": "2025-03-08T11:27:48.410687Z",
     "shell.execute_reply.started": "2025-03-08T11:27:47.457917Z"
    },
    "trusted": true
   },
   "outputs": [
    {
     "data": {
      "text/html": [
       "<div>\n",
       "<style scoped>\n",
       "    .dataframe tbody tr th:only-of-type {\n",
       "        vertical-align: middle;\n",
       "    }\n",
       "\n",
       "    .dataframe tbody tr th {\n",
       "        vertical-align: top;\n",
       "    }\n",
       "\n",
       "    .dataframe thead th {\n",
       "        text-align: right;\n",
       "    }\n",
       "</style>\n",
       "<table border=\"1\" class=\"dataframe\">\n",
       "  <thead>\n",
       "    <tr style=\"text-align: right;\">\n",
       "      <th></th>\n",
       "      <th>PERIOD</th>\n",
       "      <th>cl_id</th>\n",
       "      <th>MCC</th>\n",
       "      <th>channel_type</th>\n",
       "      <th>currency</th>\n",
       "      <th>TRDATETIME</th>\n",
       "      <th>amount</th>\n",
       "      <th>trx_category</th>\n",
       "      <th>target_flag</th>\n",
       "      <th>target_sum</th>\n",
       "    </tr>\n",
       "  </thead>\n",
       "  <tbody>\n",
       "    <tr>\n",
       "      <th>0</th>\n",
       "      <td>01/10/2017</td>\n",
       "      <td>0</td>\n",
       "      <td>5200</td>\n",
       "      <td>NaN</td>\n",
       "      <td>810</td>\n",
       "      <td>21OCT17:00:00:00</td>\n",
       "      <td>5023.00</td>\n",
       "      <td>POS</td>\n",
       "      <td>0</td>\n",
       "      <td>0.0</td>\n",
       "    </tr>\n",
       "    <tr>\n",
       "      <th>1</th>\n",
       "      <td>01/10/2017</td>\n",
       "      <td>0</td>\n",
       "      <td>6011</td>\n",
       "      <td>NaN</td>\n",
       "      <td>810</td>\n",
       "      <td>12OCT17:12:24:07</td>\n",
       "      <td>20000.00</td>\n",
       "      <td>DEPOSIT</td>\n",
       "      <td>0</td>\n",
       "      <td>0.0</td>\n",
       "    </tr>\n",
       "    <tr>\n",
       "      <th>2</th>\n",
       "      <td>01/12/2017</td>\n",
       "      <td>0</td>\n",
       "      <td>5921</td>\n",
       "      <td>NaN</td>\n",
       "      <td>810</td>\n",
       "      <td>05DEC17:00:00:00</td>\n",
       "      <td>767.00</td>\n",
       "      <td>POS</td>\n",
       "      <td>0</td>\n",
       "      <td>0.0</td>\n",
       "    </tr>\n",
       "    <tr>\n",
       "      <th>3</th>\n",
       "      <td>01/10/2017</td>\n",
       "      <td>0</td>\n",
       "      <td>5411</td>\n",
       "      <td>NaN</td>\n",
       "      <td>810</td>\n",
       "      <td>21OCT17:00:00:00</td>\n",
       "      <td>2031.00</td>\n",
       "      <td>POS</td>\n",
       "      <td>0</td>\n",
       "      <td>0.0</td>\n",
       "    </tr>\n",
       "    <tr>\n",
       "      <th>4</th>\n",
       "      <td>01/10/2017</td>\n",
       "      <td>0</td>\n",
       "      <td>6012</td>\n",
       "      <td>NaN</td>\n",
       "      <td>810</td>\n",
       "      <td>24OCT17:13:14:24</td>\n",
       "      <td>36562.00</td>\n",
       "      <td>C2C_OUT</td>\n",
       "      <td>0</td>\n",
       "      <td>0.0</td>\n",
       "    </tr>\n",
       "    <tr>\n",
       "      <th>...</th>\n",
       "      <td>...</td>\n",
       "      <td>...</td>\n",
       "      <td>...</td>\n",
       "      <td>...</td>\n",
       "      <td>...</td>\n",
       "      <td>...</td>\n",
       "      <td>...</td>\n",
       "      <td>...</td>\n",
       "      <td>...</td>\n",
       "      <td>...</td>\n",
       "    </tr>\n",
       "    <tr>\n",
       "      <th>490508</th>\n",
       "      <td>01/04/2017</td>\n",
       "      <td>10176</td>\n",
       "      <td>6011</td>\n",
       "      <td>type1</td>\n",
       "      <td>810</td>\n",
       "      <td>24APR17:14:05:26</td>\n",
       "      <td>600.00</td>\n",
       "      <td>WD_ATM_ROS</td>\n",
       "      <td>1</td>\n",
       "      <td>405.0</td>\n",
       "    </tr>\n",
       "    <tr>\n",
       "      <th>490509</th>\n",
       "      <td>01/06/2017</td>\n",
       "      <td>10171</td>\n",
       "      <td>5411</td>\n",
       "      <td>type1</td>\n",
       "      <td>810</td>\n",
       "      <td>06JUN17:00:00:00</td>\n",
       "      <td>132.00</td>\n",
       "      <td>POS</td>\n",
       "      <td>0</td>\n",
       "      <td>0.0</td>\n",
       "    </tr>\n",
       "    <tr>\n",
       "      <th>490510</th>\n",
       "      <td>01/02/2017</td>\n",
       "      <td>10167</td>\n",
       "      <td>5541</td>\n",
       "      <td>type1</td>\n",
       "      <td>810</td>\n",
       "      <td>03FEB17:00:00:00</td>\n",
       "      <td>1000.00</td>\n",
       "      <td>POS</td>\n",
       "      <td>1</td>\n",
       "      <td>280428.2</td>\n",
       "    </tr>\n",
       "    <tr>\n",
       "      <th>490511</th>\n",
       "      <td>01/06/2017</td>\n",
       "      <td>10163</td>\n",
       "      <td>5941</td>\n",
       "      <td>type1</td>\n",
       "      <td>810</td>\n",
       "      <td>08JUN17:00:00:00</td>\n",
       "      <td>100.00</td>\n",
       "      <td>POS</td>\n",
       "      <td>0</td>\n",
       "      <td>0.0</td>\n",
       "    </tr>\n",
       "    <tr>\n",
       "      <th>490512</th>\n",
       "      <td>01/06/2017</td>\n",
       "      <td>10162</td>\n",
       "      <td>5411</td>\n",
       "      <td>type1</td>\n",
       "      <td>810</td>\n",
       "      <td>15JUN17:00:00:00</td>\n",
       "      <td>441.33</td>\n",
       "      <td>POS</td>\n",
       "      <td>1</td>\n",
       "      <td>253.0</td>\n",
       "    </tr>\n",
       "  </tbody>\n",
       "</table>\n",
       "<p>490513 rows × 10 columns</p>\n",
       "</div>"
      ],
      "text/plain": [
       "            PERIOD  cl_id   MCC channel_type  currency        TRDATETIME  \\\n",
       "0       01/10/2017      0  5200          NaN       810  21OCT17:00:00:00   \n",
       "1       01/10/2017      0  6011          NaN       810  12OCT17:12:24:07   \n",
       "2       01/12/2017      0  5921          NaN       810  05DEC17:00:00:00   \n",
       "3       01/10/2017      0  5411          NaN       810  21OCT17:00:00:00   \n",
       "4       01/10/2017      0  6012          NaN       810  24OCT17:13:14:24   \n",
       "...            ...    ...   ...          ...       ...               ...   \n",
       "490508  01/04/2017  10176  6011        type1       810  24APR17:14:05:26   \n",
       "490509  01/06/2017  10171  5411        type1       810  06JUN17:00:00:00   \n",
       "490510  01/02/2017  10167  5541        type1       810  03FEB17:00:00:00   \n",
       "490511  01/06/2017  10163  5941        type1       810  08JUN17:00:00:00   \n",
       "490512  01/06/2017  10162  5411        type1       810  15JUN17:00:00:00   \n",
       "\n",
       "          amount trx_category  target_flag  target_sum  \n",
       "0        5023.00          POS            0         0.0  \n",
       "1       20000.00      DEPOSIT            0         0.0  \n",
       "2         767.00          POS            0         0.0  \n",
       "3        2031.00          POS            0         0.0  \n",
       "4       36562.00      C2C_OUT            0         0.0  \n",
       "...          ...          ...          ...         ...  \n",
       "490508    600.00   WD_ATM_ROS            1       405.0  \n",
       "490509    132.00          POS            0         0.0  \n",
       "490510   1000.00          POS            1    280428.2  \n",
       "490511    100.00          POS            0         0.0  \n",
       "490512    441.33          POS            1       253.0  \n",
       "\n",
       "[490513 rows x 10 columns]"
      ]
     },
     "execution_count": 30,
     "metadata": {},
     "output_type": "execute_result"
    }
   ],
   "source": [
    "path_data = \"https://huggingface.co/datasets/dllllb/rosbank-churn/resolve/main/train.csv.gz?download=true\"\n",
    "data = pd.read_csv(path_data, compression=\"gzip\")\n",
    "data"
   ]
  },
  {
   "cell_type": "code",
   "execution_count": 31,
   "metadata": {
    "execution": {
     "iopub.execute_input": "2025-03-08T11:27:50.664210Z",
     "iopub.status.busy": "2025-03-08T11:27:50.663898Z",
     "iopub.status.idle": "2025-03-08T11:27:50.796504Z",
     "shell.execute_reply": "2025-03-08T11:27:50.795819Z",
     "shell.execute_reply.started": "2025-03-08T11:27:50.664186Z"
    },
    "trusted": true
   },
   "outputs": [
    {
     "data": {
      "text/html": [
       "<div>\n",
       "<style scoped>\n",
       "    .dataframe tbody tr th:only-of-type {\n",
       "        vertical-align: middle;\n",
       "    }\n",
       "\n",
       "    .dataframe tbody tr th {\n",
       "        vertical-align: top;\n",
       "    }\n",
       "\n",
       "    .dataframe thead th {\n",
       "        text-align: right;\n",
       "    }\n",
       "</style>\n",
       "<table border=\"1\" class=\"dataframe\">\n",
       "  <thead>\n",
       "    <tr style=\"text-align: right;\">\n",
       "      <th></th>\n",
       "      <th>cl_id</th>\n",
       "      <th>target_flag</th>\n",
       "    </tr>\n",
       "  </thead>\n",
       "  <tbody>\n",
       "    <tr>\n",
       "      <th>0</th>\n",
       "      <td>0</td>\n",
       "      <td>0</td>\n",
       "    </tr>\n",
       "    <tr>\n",
       "      <th>1</th>\n",
       "      <td>1</td>\n",
       "      <td>0</td>\n",
       "    </tr>\n",
       "    <tr>\n",
       "      <th>2</th>\n",
       "      <td>5</td>\n",
       "      <td>1</td>\n",
       "    </tr>\n",
       "    <tr>\n",
       "      <th>3</th>\n",
       "      <td>9</td>\n",
       "      <td>0</td>\n",
       "    </tr>\n",
       "    <tr>\n",
       "      <th>4</th>\n",
       "      <td>10</td>\n",
       "      <td>0</td>\n",
       "    </tr>\n",
       "    <tr>\n",
       "      <th>...</th>\n",
       "      <td>...</td>\n",
       "      <td>...</td>\n",
       "    </tr>\n",
       "    <tr>\n",
       "      <th>4995</th>\n",
       "      <td>10210</td>\n",
       "      <td>1</td>\n",
       "    </tr>\n",
       "    <tr>\n",
       "      <th>4996</th>\n",
       "      <td>10212</td>\n",
       "      <td>0</td>\n",
       "    </tr>\n",
       "    <tr>\n",
       "      <th>4997</th>\n",
       "      <td>10213</td>\n",
       "      <td>0</td>\n",
       "    </tr>\n",
       "    <tr>\n",
       "      <th>4998</th>\n",
       "      <td>10214</td>\n",
       "      <td>0</td>\n",
       "    </tr>\n",
       "    <tr>\n",
       "      <th>4999</th>\n",
       "      <td>10215</td>\n",
       "      <td>0</td>\n",
       "    </tr>\n",
       "  </tbody>\n",
       "</table>\n",
       "<p>5000 rows × 2 columns</p>\n",
       "</div>"
      ],
      "text/plain": [
       "      cl_id  target_flag\n",
       "0         0            0\n",
       "1         1            0\n",
       "2         5            1\n",
       "3         9            0\n",
       "4        10            0\n",
       "...     ...          ...\n",
       "4995  10210            1\n",
       "4996  10212            0\n",
       "4997  10213            0\n",
       "4998  10214            0\n",
       "4999  10215            0\n",
       "\n",
       "[5000 rows x 2 columns]"
      ]
     },
     "execution_count": 31,
     "metadata": {},
     "output_type": "execute_result"
    }
   ],
   "source": [
    "target = data.groupby(by=\"cl_id\").first().reset_index()[[\"cl_id\", \"target_flag\"]]\n",
    "target"
   ]
  },
  {
   "cell_type": "code",
   "execution_count": 32,
   "metadata": {
    "execution": {
     "iopub.execute_input": "2025-03-08T11:27:52.677458Z",
     "iopub.status.busy": "2025-03-08T11:27:52.677154Z",
     "iopub.status.idle": "2025-03-08T11:27:52.696986Z",
     "shell.execute_reply": "2025-03-08T11:27:52.696059Z",
     "shell.execute_reply.started": "2025-03-08T11:27:52.677432Z"
    },
    "trusted": true
   },
   "outputs": [],
   "source": [
    "data.drop(columns=[\"PERIOD\", \"target_flag\", \"target_sum\"], inplace=True)"
   ]
  },
  {
   "cell_type": "code",
   "execution_count": 33,
   "metadata": {
    "execution": {
     "iopub.execute_input": "2025-03-08T11:27:57.195312Z",
     "iopub.status.busy": "2025-03-08T11:27:57.195032Z",
     "iopub.status.idle": "2025-03-08T11:27:57.202793Z",
     "shell.execute_reply": "2025-03-08T11:27:57.201872Z",
     "shell.execute_reply.started": "2025-03-08T11:27:57.195291Z"
    },
    "trusted": true
   },
   "outputs": [],
   "source": [
    "target_train, target_test = train_test_split(target, test_size=0.1, stratify=target[\"target_flag\"], random_state=42)"
   ]
  },
  {
   "cell_type": "code",
   "execution_count": 34,
   "metadata": {
    "execution": {
     "iopub.execute_input": "2025-03-08T11:27:59.742201Z",
     "iopub.status.busy": "2025-03-08T11:27:59.741849Z",
     "iopub.status.idle": "2025-03-08T11:27:59.802926Z",
     "shell.execute_reply": "2025-03-08T11:27:59.801981Z",
     "shell.execute_reply.started": "2025-03-08T11:27:59.742176Z"
    },
    "trusted": true
   },
   "outputs": [],
   "source": [
    "trx_data_train = pd.merge(data, target_train[\"cl_id\"], on=\"cl_id\", how=\"inner\")\n",
    "trx_data_test = pd.merge(data, target_test[\"cl_id\"], on=\"cl_id\", how=\"inner\")"
   ]
  },
  {
   "cell_type": "code",
   "execution_count": 35,
   "metadata": {
    "execution": {
     "iopub.execute_input": "2025-03-08T11:28:02.581420Z",
     "iopub.status.busy": "2025-03-08T11:28:02.581118Z",
     "iopub.status.idle": "2025-03-08T11:28:02.615806Z",
     "shell.execute_reply": "2025-03-08T11:28:02.615139Z",
     "shell.execute_reply.started": "2025-03-08T11:28:02.581395Z"
    },
    "trusted": true
   },
   "outputs": [],
   "source": [
    "trx_data_train[\"channel_type\"] = trx_data_train[\"channel_type\"].fillna(\"none\")\n",
    "trx_data_test[\"channel_type\"] = trx_data_test[\"channel_type\"].fillna(\"none\")"
   ]
  },
  {
   "cell_type": "code",
   "execution_count": 36,
   "metadata": {
    "execution": {
     "iopub.execute_input": "2025-03-08T11:28:04.987814Z",
     "iopub.status.busy": "2025-03-08T11:28:04.987495Z",
     "iopub.status.idle": "2025-03-08T11:28:05.556682Z",
     "shell.execute_reply": "2025-03-08T11:28:05.555819Z",
     "shell.execute_reply.started": "2025-03-08T11:28:04.987787Z"
    },
    "trusted": true
   },
   "outputs": [],
   "source": [
    "month2num = {\"JAN\": \"/01/\", \"FEB\": \"/02/\", \"MAR\": \"/03/\", \"APR\": \"/04/\", \"MAY\": \"/05/\", \"JUN\": \"/06/\",\n",
    "             \"JUL\": \"/07/\", \"AUG\": \"/08/\", \"SEP\": \"/09/\", \"OCT\": \"/10/\", \"NOV\": \"/11/\", \"DEC\": \"/12/\"}\n",
    "\n",
    "trx_data_train[\"TRDATETIME\"] = trx_data_train[\"TRDATETIME\"].map(lambda x: x[0:2] + month2num[x[2:5]] + x[5:7] + \" \" + x[8:])\n",
    "trx_data_test[\"TRDATETIME\"] = trx_data_test[\"TRDATETIME\"].map(lambda x: x[0:2] + month2num[x[2:5]] + x[5:7] + \" \" + x[8:])\n",
    "\n",
    "trx_data_train[\"TRDATETIME\"] = pd.to_datetime(trx_data_train[\"TRDATETIME\"],format='%d/%m/%y %H:%M:%S')\n",
    "trx_data_test[\"TRDATETIME\"] = pd.to_datetime(trx_data_test[\"TRDATETIME\"],format='%d/%m/%y %H:%M:%S')"
   ]
  },
  {
   "cell_type": "code",
   "execution_count": 37,
   "metadata": {
    "execution": {
     "iopub.execute_input": "2025-03-08T11:28:07.783301Z",
     "iopub.status.busy": "2025-03-08T11:28:07.783014Z",
     "iopub.status.idle": "2025-03-08T11:28:07.938622Z",
     "shell.execute_reply": "2025-03-08T11:28:07.937967Z",
     "shell.execute_reply.started": "2025-03-08T11:28:07.783278Z"
    },
    "trusted": true
   },
   "outputs": [],
   "source": [
    "chtype2num = {\"none\": 0, \"type1\": 1, \"type2\": 2, \"type3\": 3, \"type4\": 4, \"type5\": 5}\n",
    "\n",
    "trx_data_train[\"channel_type\"] = trx_data_train[\"channel_type\"].map(lambda x: chtype2num[x])\n",
    "trx_data_test[\"channel_type\"] = trx_data_test[\"channel_type\"].map(lambda x: chtype2num[x])"
   ]
  },
  {
   "cell_type": "code",
   "execution_count": 38,
   "metadata": {
    "execution": {
     "iopub.execute_input": "2025-03-08T11:28:10.055178Z",
     "iopub.status.busy": "2025-03-08T11:28:10.054872Z",
     "iopub.status.idle": "2025-03-08T11:28:10.215672Z",
     "shell.execute_reply": "2025-03-08T11:28:10.215029Z",
     "shell.execute_reply.started": "2025-03-08T11:28:10.055153Z"
    },
    "trusted": true
   },
   "outputs": [],
   "source": [
    "trxcat2num = {\"POS\": 0, \"DEPOSIT\": 1, \"WD_ATM_ROS\": 2, \"WD_ATM_PARTNER\": 3, \n",
    "              \"C2C_IN\": 4, \"WD_ATM_OTHER\": 5, \"C2C_OUT\": 6, \"BACK_TRX\": 7,\n",
    "              \"CAT\": 8, \"CASH_ADV\": 9}\n",
    "\n",
    "trx_data_train[\"trx_category\"] = trx_data_train[\"trx_category\"].map(lambda x: trxcat2num[x])\n",
    "trx_data_test[\"trx_category\"] = trx_data_test[\"trx_category\"].map(lambda x: trxcat2num[x])"
   ]
  },
  {
   "cell_type": "markdown",
   "metadata": {},
   "source": [
    "---"
   ]
  },
  {
   "cell_type": "markdown",
   "metadata": {},
   "source": [
    "**Квантизация непрерывных признаков (опциональный шаг, нужен только для GPT):**"
   ]
  },
  {
   "cell_type": "code",
   "execution_count": 39,
   "metadata": {
    "execution": {
     "iopub.execute_input": "2025-03-08T11:28:12.639465Z",
     "iopub.status.busy": "2025-03-08T11:28:12.639189Z",
     "iopub.status.idle": "2025-03-08T11:28:12.644257Z",
     "shell.execute_reply": "2025-03-08T11:28:12.643442Z",
     "shell.execute_reply.started": "2025-03-08T11:28:12.639445Z"
    },
    "trusted": true
   },
   "outputs": [],
   "source": [
    "def digitize(input_array: np.array, q_count: int = 1, bins: np.array = None):\n",
    "    \"\"\"Quantile-based discretization function.\n",
    "\n",
    "    Parameters:\n",
    "    -------\n",
    "    input_array (np.array): Input array.\n",
    "    q_count (int): Amount of quantiles. Used only if input parameter `bins` is None.\n",
    "    bins (np.array):\n",
    "        If None, then calculate bins as quantiles of input array,\n",
    "        otherwise only apply bins to input_array. Default: None\n",
    "\n",
    "    Returns\n",
    "    -------\n",
    "    out_array (np.array of ints): discretized input_array\n",
    "    bins (np.array of floats):\n",
    "        Returned only if input parameter `bins` is None.\n",
    "    \"\"\"\n",
    "\n",
    "    if bins is None:\n",
    "        return_bins = True\n",
    "        bins = np.quantile(input_array, q=[i / q_count for i in range(1, q_count)], axis=0)\n",
    "    else:\n",
    "        return_bins = False\n",
    "\n",
    "    out_array = np.digitize(input_array, bins)\n",
    "\n",
    "    if return_bins:\n",
    "        return out_array, bins\n",
    "    else:\n",
    "        return out_array"
   ]
  },
  {
   "cell_type": "code",
   "execution_count": 40,
   "metadata": {
    "execution": {
     "iopub.execute_input": "2025-03-08T11:28:14.902365Z",
     "iopub.status.busy": "2025-03-08T11:28:14.902083Z",
     "iopub.status.idle": "2025-03-08T11:28:14.905883Z",
     "shell.execute_reply": "2025-03-08T11:28:14.905043Z",
     "shell.execute_reply.started": "2025-03-08T11:28:14.902345Z"
    },
    "trusted": true
   },
   "outputs": [],
   "source": [
    "BINS_NUM = 128"
   ]
  },
  {
   "cell_type": "code",
   "execution_count": 41,
   "metadata": {
    "execution": {
     "iopub.execute_input": "2025-03-08T11:28:16.251301Z",
     "iopub.status.busy": "2025-03-08T11:28:16.251009Z",
     "iopub.status.idle": "2025-03-08T11:28:16.303580Z",
     "shell.execute_reply": "2025-03-08T11:28:16.302908Z",
     "shell.execute_reply.started": "2025-03-08T11:28:16.251280Z"
    },
    "trusted": true
   },
   "outputs": [],
   "source": [
    "numeric_features = [\"amount\"]\n",
    "\n",
    "for feat in numeric_features:\n",
    "    trx_data_train[feat], bins = digitize(trx_data_train[feat], q_count=BINS_NUM)\n",
    "    trx_data_test[feat] = digitize(trx_data_test[feat], bins=bins)"
   ]
  },
  {
   "cell_type": "code",
   "execution_count": 42,
   "metadata": {
    "execution": {
     "iopub.execute_input": "2025-03-08T11:28:19.558548Z",
     "iopub.status.busy": "2025-03-08T11:28:19.558260Z",
     "iopub.status.idle": "2025-03-08T11:28:19.934580Z",
     "shell.execute_reply": "2025-03-08T11:28:19.933612Z",
     "shell.execute_reply.started": "2025-03-08T11:28:19.558525Z"
    },
    "trusted": true
   },
   "outputs": [
    {
     "data": {
      "text/plain": [
       "96"
      ]
     },
     "execution_count": 42,
     "metadata": {},
     "output_type": "execute_result"
    }
   ],
   "source": [
    "import gc\n",
    "\n",
    "gc.collect()"
   ]
  },
  {
   "cell_type": "markdown",
   "metadata": {},
   "source": [
    "---"
   ]
  },
  {
   "cell_type": "code",
   "execution_count": 43,
   "metadata": {
    "execution": {
     "iopub.execute_input": "2025-03-08T11:28:30.247589Z",
     "iopub.status.busy": "2025-03-08T11:28:30.247280Z",
     "iopub.status.idle": "2025-03-08T11:28:30.252638Z",
     "shell.execute_reply": "2025-03-08T11:28:30.251813Z",
     "shell.execute_reply.started": "2025-03-08T11:28:30.247564Z"
    },
    "trusted": true
   },
   "outputs": [],
   "source": [
    "preprocessor = PandasDataPreprocessor(\n",
    "    col_id=\"cl_id\",\n",
    "    col_event_time=\"TRDATETIME\",\n",
    "    event_time_transformation=\"dt_to_timestamp\",\n",
    "    cols_category=[\"MCC\", \"channel_type\", \"currency\", \"trx_category\"],\n",
    "    cols_numerical=[\"amount\"],\n",
    "    return_records=False,\n",
    ")"
   ]
  },
  {
   "cell_type": "code",
   "execution_count": 44,
   "metadata": {
    "execution": {
     "iopub.execute_input": "2025-03-08T11:28:32.174120Z",
     "iopub.status.busy": "2025-03-08T11:28:32.173784Z",
     "iopub.status.idle": "2025-03-08T11:28:35.986755Z",
     "shell.execute_reply": "2025-03-08T11:28:35.986098Z",
     "shell.execute_reply.started": "2025-03-08T11:28:32.174091Z"
    },
    "trusted": true
   },
   "outputs": [],
   "source": [
    "data_train = preprocessor.fit_transform(trx_data_train)\n",
    "data_test = preprocessor.transform(trx_data_test)"
   ]
  },
  {
   "cell_type": "code",
   "execution_count": 45,
   "metadata": {
    "execution": {
     "iopub.execute_input": "2025-03-08T11:28:37.596874Z",
     "iopub.status.busy": "2025-03-08T11:28:37.596538Z",
     "iopub.status.idle": "2025-03-08T11:28:37.604333Z",
     "shell.execute_reply": "2025-03-08T11:28:37.603416Z",
     "shell.execute_reply.started": "2025-03-08T11:28:37.596844Z"
    },
    "trusted": true
   },
   "outputs": [],
   "source": [
    "target_train.rename(columns={\"target_flag\": \"target\"}, inplace=True)\n",
    "target_test.rename(columns={\"target_flag\": \"target\"}, inplace=True)\n",
    "target_train.sort_values(by=\"cl_id\", inplace=True)\n",
    "target_test.sort_values(by=\"cl_id\", inplace=True)\n",
    "target_train = target_train[\"target\"]\n",
    "target_test = target_test[\"target\"]\n",
    "target_train.reset_index(drop=True, inplace=True)\n",
    "target_test.reset_index(drop=True, inplace=True)"
   ]
  },
  {
   "cell_type": "code",
   "execution_count": 46,
   "metadata": {
    "execution": {
     "iopub.execute_input": "2025-03-08T11:28:39.837374Z",
     "iopub.status.busy": "2025-03-08T11:28:39.837088Z",
     "iopub.status.idle": "2025-03-08T11:28:39.872069Z",
     "shell.execute_reply": "2025-03-08T11:28:39.871202Z",
     "shell.execute_reply.started": "2025-03-08T11:28:39.837351Z"
    },
    "trusted": true
   },
   "outputs": [],
   "source": [
    "data_train = data_train.to_dict(orient=\"records\")\n",
    "data_test = data_test.to_dict(orient=\"records\")"
   ]
  },
  {
   "cell_type": "markdown",
   "metadata": {},
   "source": [
    "---"
   ]
  },
  {
   "cell_type": "markdown",
   "metadata": {},
   "source": [
    "- **COLES:**"
   ]
  },
  {
   "cell_type": "code",
   "execution_count": 237,
   "metadata": {
    "execution": {
     "iopub.execute_input": "2025-03-07T08:27:11.144432Z",
     "iopub.status.busy": "2025-03-07T08:27:11.144149Z",
     "iopub.status.idle": "2025-03-07T08:27:11.149292Z",
     "shell.execute_reply": "2025-03-07T08:27:11.148432Z",
     "shell.execute_reply.started": "2025-03-07T08:27:11.144409Z"
    },
    "trusted": true
   },
   "outputs": [],
   "source": [
    "seed_everything(30)"
   ]
  },
  {
   "cell_type": "markdown",
   "metadata": {},
   "source": [
    "**DataLoaders:**"
   ]
  },
  {
   "cell_type": "code",
   "execution_count": 238,
   "metadata": {
    "execution": {
     "iopub.execute_input": "2025-03-07T08:27:13.499022Z",
     "iopub.status.busy": "2025-03-07T08:27:13.498706Z",
     "iopub.status.idle": "2025-03-07T08:27:13.513344Z",
     "shell.execute_reply": "2025-03-07T08:27:13.512428Z",
     "shell.execute_reply.started": "2025-03-07T08:27:13.498994Z"
    },
    "trusted": true
   },
   "outputs": [],
   "source": [
    "data = PtlsDataModule(\n",
    "    train_data=ColesDataset(\n",
    "        MemoryMapDataset(\n",
    "            data=data_train,\n",
    "            i_filters=[SeqLenFilter(min_seq_len=10)],\n",
    "        ),\n",
    "        splitter=SampleSlices(\n",
    "            split_count=5,\n",
    "            cnt_min=15,\n",
    "            cnt_max=150,\n",
    "        ),\n",
    "    ),\n",
    "    train_num_workers=4,\n",
    "    train_batch_size=128,\n",
    "    valid_data=ColesDataset(\n",
    "        MemoryMapDataset(\n",
    "            data=data_test,\n",
    "            i_filters=[SeqLenFilter(min_seq_len=10)],\n",
    "        ),\n",
    "        splitter=SampleSlices(\n",
    "            split_count=5,\n",
    "            cnt_min=15,\n",
    "            cnt_max=150,\n",
    "        ),\n",
    "    ),\n",
    "    valid_num_workers=4,\n",
    "    valid_batch_size=128\n",
    ")"
   ]
  },
  {
   "cell_type": "markdown",
   "metadata": {},
   "source": [
    "**Модель:**"
   ]
  },
  {
   "cell_type": "code",
   "execution_count": 239,
   "metadata": {
    "execution": {
     "iopub.execute_input": "2025-03-07T08:27:15.501451Z",
     "iopub.status.busy": "2025-03-07T08:27:15.501131Z",
     "iopub.status.idle": "2025-03-07T08:27:15.505062Z",
     "shell.execute_reply": "2025-03-07T08:27:15.504299Z",
     "shell.execute_reply.started": "2025-03-07T08:27:15.501421Z"
    },
    "trusted": true
   },
   "outputs": [],
   "source": [
    "N_EPOCHS = 20"
   ]
  },
  {
   "cell_type": "code",
   "execution_count": 240,
   "metadata": {
    "execution": {
     "iopub.execute_input": "2025-03-07T08:27:17.495256Z",
     "iopub.status.busy": "2025-03-07T08:27:17.494943Z",
     "iopub.status.idle": "2025-03-07T08:27:17.510421Z",
     "shell.execute_reply": "2025-03-07T08:27:17.509732Z",
     "shell.execute_reply.started": "2025-03-07T08:27:17.495226Z"
    },
    "trusted": true
   },
   "outputs": [],
   "source": [
    "trx_encoder_params = dict(\n",
    "    embeddings={\n",
    "        \"MCC\": {\"in\": 342, \"out\": 8},\n",
    "        \"channel_type\": {\"in\": 7, \"out\": 8},\n",
    "        \"currency\": {\"in\": 60, \"out\": 8},\n",
    "        \"trx_category\": {\"in\": 11, \"out\": 8}            \n",
    "    },\n",
    "    numeric_values={\"amount\": \"log\"},\n",
    "    embeddings_noise=0.003,\n",
    "    k=7,\n",
    "    time_col=\"event_time\"\n",
    ")\n",
    "\n",
    "seq_encoder = RnnSeqEncoder(\n",
    "    trx_encoder=TrxEncoderT2V(**trx_encoder_params),\n",
    "    hidden_size=512,\n",
    "    type=\"gru\"\n",
    ")\n",
    "\n",
    "coles = CoLESModule(\n",
    "    seq_encoder=seq_encoder,\n",
    "    optimizer_partial=partial(torch.optim.Adam, lr=1e-3, weight_decay=0),\n",
    "    lr_scheduler_partial=partial(torch.optim.lr_scheduler.CosineAnnealingLR, T_max=N_EPOCHS, eta_min=5e-6)\n",
    ")"
   ]
  },
  {
   "cell_type": "markdown",
   "metadata": {},
   "source": [
    "**Обучение:**"
   ]
  },
  {
   "cell_type": "code",
   "execution_count": 241,
   "metadata": {
    "execution": {
     "iopub.execute_input": "2025-03-07T08:27:20.295506Z",
     "iopub.status.busy": "2025-03-07T08:27:20.295230Z",
     "iopub.status.idle": "2025-03-07T08:27:20.340004Z",
     "shell.execute_reply": "2025-03-07T08:27:20.339355Z",
     "shell.execute_reply.started": "2025-03-07T08:27:20.295482Z"
    },
    "trusted": true
   },
   "outputs": [],
   "source": [
    "logger = CometLogger(project_name=\"evs-ssl-rb\", experiment_name=\"CoLES_Baseline\")\n",
    "\n",
    "trainer = pl.Trainer(\n",
    "    logger=logger,\n",
    "    max_epochs=N_EPOCHS,\n",
    "    accelerator=\"gpu\",\n",
    "    devices=1,\n",
    "    enable_progress_bar=True\n",
    ")"
   ]
  },
  {
   "cell_type": "code",
   "execution_count": 242,
   "metadata": {
    "execution": {
     "iopub.execute_input": "2025-03-07T08:27:22.902918Z",
     "iopub.status.busy": "2025-03-07T08:27:22.902626Z",
     "iopub.status.idle": "2025-03-07T08:29:18.236482Z",
     "shell.execute_reply": "2025-03-07T08:29:18.235560Z",
     "shell.execute_reply.started": "2025-03-07T08:27:22.902895Z"
    },
    "trusted": true
   },
   "outputs": [
    {
     "name": "stderr",
     "output_type": "stream",
     "text": [
      "\u001b[1;38;5;214mCOMET WARNING:\u001b[0m As you are running in a Jupyter environment, you will need to call `experiment.end()` when finished to ensure all metrics and code are logged before exiting.\n",
      "\u001b[1;38;5;39mCOMET INFO:\u001b[0m Experiment is live on comet.com https://www.comet.com/askoro/evs-ssl-rb/a85b89a61fbb403eb98028ce79fcf512\n",
      "\n",
      "\u001b[1;38;5;39mCOMET INFO:\u001b[0m Couldn't find a Git repository in '/kaggle/working' nor in any parent directory. Set `COMET_GIT_DIRECTORY` if your Git Repository is elsewhere.\n"
     ]
    },
    {
     "data": {
      "application/vnd.jupyter.widget-view+json": {
       "model_id": "",
       "version_major": 2,
       "version_minor": 0
      },
      "text/plain": [
       "Sanity Checking: |          | 0/? [00:00<?, ?it/s]"
      ]
     },
     "metadata": {},
     "output_type": "display_data"
    },
    {
     "name": "stderr",
     "output_type": "stream",
     "text": [
      "/usr/local/lib/python3.10/dist-packages/pytorch_lightning/loops/fit_loop.py:310: PossibleUserWarning:\n",
      "\n",
      "The number of training batches (33) is smaller than the logging interval Trainer(log_every_n_steps=50). Set a lower value for log_every_n_steps if you want to see logs for the training epoch.\n",
      "\n"
     ]
    },
    {
     "data": {
      "application/vnd.jupyter.widget-view+json": {
       "model_id": "cde95289cb554d6e8be2c6749cddc310",
       "version_major": 2,
       "version_minor": 0
      },
      "text/plain": [
       "Training: |          | 0/? [00:00<?, ?it/s]"
      ]
     },
     "metadata": {},
     "output_type": "display_data"
    },
    {
     "data": {
      "application/vnd.jupyter.widget-view+json": {
       "model_id": "",
       "version_major": 2,
       "version_minor": 0
      },
      "text/plain": [
       "Validation: |          | 0/? [00:00<?, ?it/s]"
      ]
     },
     "metadata": {},
     "output_type": "display_data"
    },
    {
     "data": {
      "application/vnd.jupyter.widget-view+json": {
       "model_id": "",
       "version_major": 2,
       "version_minor": 0
      },
      "text/plain": [
       "Validation: |          | 0/? [00:00<?, ?it/s]"
      ]
     },
     "metadata": {},
     "output_type": "display_data"
    },
    {
     "data": {
      "application/vnd.jupyter.widget-view+json": {
       "model_id": "",
       "version_major": 2,
       "version_minor": 0
      },
      "text/plain": [
       "Validation: |          | 0/? [00:00<?, ?it/s]"
      ]
     },
     "metadata": {},
     "output_type": "display_data"
    },
    {
     "data": {
      "application/vnd.jupyter.widget-view+json": {
       "model_id": "",
       "version_major": 2,
       "version_minor": 0
      },
      "text/plain": [
       "Validation: |          | 0/? [00:00<?, ?it/s]"
      ]
     },
     "metadata": {},
     "output_type": "display_data"
    },
    {
     "data": {
      "application/vnd.jupyter.widget-view+json": {
       "model_id": "",
       "version_major": 2,
       "version_minor": 0
      },
      "text/plain": [
       "Validation: |          | 0/? [00:00<?, ?it/s]"
      ]
     },
     "metadata": {},
     "output_type": "display_data"
    },
    {
     "data": {
      "application/vnd.jupyter.widget-view+json": {
       "model_id": "",
       "version_major": 2,
       "version_minor": 0
      },
      "text/plain": [
       "Validation: |          | 0/? [00:00<?, ?it/s]"
      ]
     },
     "metadata": {},
     "output_type": "display_data"
    },
    {
     "data": {
      "application/vnd.jupyter.widget-view+json": {
       "model_id": "",
       "version_major": 2,
       "version_minor": 0
      },
      "text/plain": [
       "Validation: |          | 0/? [00:00<?, ?it/s]"
      ]
     },
     "metadata": {},
     "output_type": "display_data"
    },
    {
     "data": {
      "application/vnd.jupyter.widget-view+json": {
       "model_id": "",
       "version_major": 2,
       "version_minor": 0
      },
      "text/plain": [
       "Validation: |          | 0/? [00:00<?, ?it/s]"
      ]
     },
     "metadata": {},
     "output_type": "display_data"
    },
    {
     "data": {
      "application/vnd.jupyter.widget-view+json": {
       "model_id": "",
       "version_major": 2,
       "version_minor": 0
      },
      "text/plain": [
       "Validation: |          | 0/? [00:00<?, ?it/s]"
      ]
     },
     "metadata": {},
     "output_type": "display_data"
    },
    {
     "data": {
      "application/vnd.jupyter.widget-view+json": {
       "model_id": "",
       "version_major": 2,
       "version_minor": 0
      },
      "text/plain": [
       "Validation: |          | 0/? [00:00<?, ?it/s]"
      ]
     },
     "metadata": {},
     "output_type": "display_data"
    },
    {
     "data": {
      "application/vnd.jupyter.widget-view+json": {
       "model_id": "",
       "version_major": 2,
       "version_minor": 0
      },
      "text/plain": [
       "Validation: |          | 0/? [00:00<?, ?it/s]"
      ]
     },
     "metadata": {},
     "output_type": "display_data"
    },
    {
     "data": {
      "application/vnd.jupyter.widget-view+json": {
       "model_id": "",
       "version_major": 2,
       "version_minor": 0
      },
      "text/plain": [
       "Validation: |          | 0/? [00:00<?, ?it/s]"
      ]
     },
     "metadata": {},
     "output_type": "display_data"
    },
    {
     "data": {
      "application/vnd.jupyter.widget-view+json": {
       "model_id": "",
       "version_major": 2,
       "version_minor": 0
      },
      "text/plain": [
       "Validation: |          | 0/? [00:00<?, ?it/s]"
      ]
     },
     "metadata": {},
     "output_type": "display_data"
    },
    {
     "data": {
      "application/vnd.jupyter.widget-view+json": {
       "model_id": "",
       "version_major": 2,
       "version_minor": 0
      },
      "text/plain": [
       "Validation: |          | 0/? [00:00<?, ?it/s]"
      ]
     },
     "metadata": {},
     "output_type": "display_data"
    },
    {
     "data": {
      "application/vnd.jupyter.widget-view+json": {
       "model_id": "",
       "version_major": 2,
       "version_minor": 0
      },
      "text/plain": [
       "Validation: |          | 0/? [00:00<?, ?it/s]"
      ]
     },
     "metadata": {},
     "output_type": "display_data"
    },
    {
     "data": {
      "application/vnd.jupyter.widget-view+json": {
       "model_id": "",
       "version_major": 2,
       "version_minor": 0
      },
      "text/plain": [
       "Validation: |          | 0/? [00:00<?, ?it/s]"
      ]
     },
     "metadata": {},
     "output_type": "display_data"
    },
    {
     "data": {
      "application/vnd.jupyter.widget-view+json": {
       "model_id": "",
       "version_major": 2,
       "version_minor": 0
      },
      "text/plain": [
       "Validation: |          | 0/? [00:00<?, ?it/s]"
      ]
     },
     "metadata": {},
     "output_type": "display_data"
    },
    {
     "data": {
      "application/vnd.jupyter.widget-view+json": {
       "model_id": "",
       "version_major": 2,
       "version_minor": 0
      },
      "text/plain": [
       "Validation: |          | 0/? [00:00<?, ?it/s]"
      ]
     },
     "metadata": {},
     "output_type": "display_data"
    },
    {
     "data": {
      "application/vnd.jupyter.widget-view+json": {
       "model_id": "",
       "version_major": 2,
       "version_minor": 0
      },
      "text/plain": [
       "Validation: |          | 0/? [00:00<?, ?it/s]"
      ]
     },
     "metadata": {},
     "output_type": "display_data"
    },
    {
     "data": {
      "application/vnd.jupyter.widget-view+json": {
       "model_id": "",
       "version_major": 2,
       "version_minor": 0
      },
      "text/plain": [
       "Validation: |          | 0/? [00:00<?, ?it/s]"
      ]
     },
     "metadata": {},
     "output_type": "display_data"
    },
    {
     "name": "stderr",
     "output_type": "stream",
     "text": [
      "\u001b[1;38;5;39mCOMET INFO:\u001b[0m ---------------------------------------------------------------------------------------\n",
      "\u001b[1;38;5;39mCOMET INFO:\u001b[0m Comet.ml Experiment Summary\n",
      "\u001b[1;38;5;39mCOMET INFO:\u001b[0m ---------------------------------------------------------------------------------------\n",
      "\u001b[1;38;5;39mCOMET INFO:\u001b[0m   Data:\n",
      "\u001b[1;38;5;39mCOMET INFO:\u001b[0m     display_summary_level : 1\n",
      "\u001b[1;38;5;39mCOMET INFO:\u001b[0m     name                  : CoLES_Baseline\n",
      "\u001b[1;38;5;39mCOMET INFO:\u001b[0m     url                   : https://www.comet.com/askoro/evs-ssl-rb/a85b89a61fbb403eb98028ce79fcf512\n",
      "\u001b[1;38;5;39mCOMET INFO:\u001b[0m   Metrics [count] (min, max):\n",
      "\u001b[1;38;5;39mCOMET INFO:\u001b[0m     loss [79]               : (51.9121208190918, 641.5636596679688)\n",
      "\u001b[1;38;5;39mCOMET INFO:\u001b[0m     seq_len [13]            : (48.70624923706055, 56.78750228881836)\n",
      "\u001b[1;38;5;39mCOMET INFO:\u001b[0m     valid/recall_top_k [20] : (0.4932411313056946, 0.8614515066146851)\n",
      "\u001b[1;38;5;39mCOMET INFO:\u001b[0m   Others:\n",
      "\u001b[1;38;5;39mCOMET INFO:\u001b[0m     Name : CoLES_Baseline\n",
      "\u001b[1;38;5;39mCOMET INFO:\u001b[0m   Parameters:\n",
      "\u001b[1;38;5;39mCOMET INFO:\u001b[0m     test_batch_size   : None\n",
      "\u001b[1;38;5;39mCOMET INFO:\u001b[0m     test_drop_last    : False\n",
      "\u001b[1;38;5;39mCOMET INFO:\u001b[0m     test_num_workers  : None\n",
      "\u001b[1;38;5;39mCOMET INFO:\u001b[0m     train_batch_size  : 128\n",
      "\u001b[1;38;5;39mCOMET INFO:\u001b[0m     train_drop_last   : False\n",
      "\u001b[1;38;5;39mCOMET INFO:\u001b[0m     train_num_workers : 4\n",
      "\u001b[1;38;5;39mCOMET INFO:\u001b[0m     valid_batch_size  : 128\n",
      "\u001b[1;38;5;39mCOMET INFO:\u001b[0m     valid_drop_last   : False\n",
      "\u001b[1;38;5;39mCOMET INFO:\u001b[0m     valid_num_workers : 4\n",
      "\u001b[1;38;5;39mCOMET INFO:\u001b[0m   Uploads:\n",
      "\u001b[1;38;5;39mCOMET INFO:\u001b[0m     environment details : 1\n",
      "\u001b[1;38;5;39mCOMET INFO:\u001b[0m     filename            : 1\n",
      "\u001b[1;38;5;39mCOMET INFO:\u001b[0m     installed packages  : 1\n",
      "\u001b[1;38;5;39mCOMET INFO:\u001b[0m     model graph         : 1\n",
      "\u001b[1;38;5;39mCOMET INFO:\u001b[0m     notebook            : 1\n",
      "\u001b[1;38;5;39mCOMET INFO:\u001b[0m     os packages         : 1\n",
      "\u001b[1;38;5;39mCOMET INFO:\u001b[0m     source_code         : 1\n",
      "\u001b[1;38;5;39mCOMET INFO:\u001b[0m \n"
     ]
    }
   ],
   "source": [
    "trainer.fit(coles, data)"
   ]
  },
  {
   "cell_type": "code",
   "execution_count": 243,
   "metadata": {
    "execution": {
     "iopub.execute_input": "2025-03-07T08:29:40.791495Z",
     "iopub.status.busy": "2025-03-07T08:29:40.791194Z",
     "iopub.status.idle": "2025-03-07T08:29:40.798739Z",
     "shell.execute_reply": "2025-03-07T08:29:40.797889Z",
     "shell.execute_reply.started": "2025-03-07T08:29:40.791471Z"
    },
    "trusted": true
   },
   "outputs": [
    {
     "data": {
      "text/plain": [
       "{'loss': tensor(54.4320),\n",
       " 'seq_len': tensor(55.1967),\n",
       " 'valid/recall_top_k': tensor(0.8472)}"
      ]
     },
     "execution_count": 243,
     "metadata": {},
     "output_type": "execute_result"
    }
   ],
   "source": [
    "trainer.logged_metrics"
   ]
  },
  {
   "cell_type": "code",
   "execution_count": 28,
   "metadata": {
    "execution": {
     "iopub.execute_input": "2025-02-26T01:34:02.719608Z",
     "iopub.status.busy": "2025-02-26T01:34:02.719311Z",
     "iopub.status.idle": "2025-02-26T01:34:02.729366Z",
     "shell.execute_reply": "2025-02-26T01:34:02.728654Z",
     "shell.execute_reply.started": "2025-02-26T01:34:02.719586Z"
    },
    "trusted": true
   },
   "outputs": [],
   "source": [
    "torch.save(seq_encoder.state_dict(), \"coles_enc_baseline_rosbank.pt\")"
   ]
  },
  {
   "cell_type": "markdown",
   "metadata": {},
   "source": [
    "**Измерим качество на тесте (catboost поверх эмбеддингов):**"
   ]
  },
  {
   "cell_type": "code",
   "execution_count": null,
   "metadata": {
    "trusted": true
   },
   "outputs": [],
   "source": [
    "# !wget \"https://drive.google.com/uc?export=download&id=1Mn8o9IPT4Zzg3946orbw1MVZwpkrBoNb\" -O \"coles_enc_baseline.pt\""
   ]
  },
  {
   "cell_type": "code",
   "execution_count": 244,
   "metadata": {
    "execution": {
     "iopub.execute_input": "2025-03-07T08:29:45.044143Z",
     "iopub.status.busy": "2025-03-07T08:29:45.043759Z",
     "iopub.status.idle": "2025-03-07T08:29:45.052312Z",
     "shell.execute_reply": "2025-03-07T08:29:45.051623Z",
     "shell.execute_reply.started": "2025-03-07T08:29:45.044115Z"
    },
    "trusted": true
   },
   "outputs": [
    {
     "data": {
      "text/plain": [
       "RnnSeqEncoder(\n",
       "  (trx_encoder): TrxEncoderT2V(\n",
       "    (embeddings): ModuleDict(\n",
       "      (MCC): NoisyEmbedding(\n",
       "        342, 8, padding_idx=0\n",
       "        (dropout): Dropout(p=0, inplace=False)\n",
       "      )\n",
       "      (channel_type): NoisyEmbedding(\n",
       "        7, 8, padding_idx=0\n",
       "        (dropout): Dropout(p=0, inplace=False)\n",
       "      )\n",
       "      (currency): NoisyEmbedding(\n",
       "        60, 8, padding_idx=0\n",
       "        (dropout): Dropout(p=0, inplace=False)\n",
       "      )\n",
       "      (trx_category): NoisyEmbedding(\n",
       "        11, 8, padding_idx=0\n",
       "        (dropout): Dropout(p=0, inplace=False)\n",
       "      )\n",
       "    )\n",
       "    (custom_embeddings): ModuleDict(\n",
       "      (amount): LogScaler()\n",
       "    )\n",
       "    (custom_embedding_batch_norm): RBatchNorm(\n",
       "      (bn): BatchNorm1d(1, eps=1e-05, momentum=0.1, affine=True, track_running_stats=True)\n",
       "    )\n",
       "    (time2vec_days): Time2Vec()\n",
       "  )\n",
       "  (seq_encoder): RnnEncoder(\n",
       "    (rnn): GRU(41, 512, batch_first=True)\n",
       "    (reducer): LastStepEncoder()\n",
       "  )\n",
       ")"
      ]
     },
     "execution_count": 244,
     "metadata": {},
     "output_type": "execute_result"
    }
   ],
   "source": [
    "encoder = coles.seq_encoder\n",
    "\n",
    "# state_dict = torch.load(\"./coles_enc_baseline.pt\")\n",
    "# encoder.load_state_dict(state_dict)\n",
    "\n",
    "device = \"cuda:0\"\n",
    "\n",
    "encoder.to(device)"
   ]
  },
  {
   "cell_type": "code",
   "execution_count": 245,
   "metadata": {
    "execution": {
     "iopub.execute_input": "2025-03-07T08:29:47.597517Z",
     "iopub.status.busy": "2025-03-07T08:29:47.597140Z",
     "iopub.status.idle": "2025-03-07T08:29:47.603035Z",
     "shell.execute_reply": "2025-03-07T08:29:47.602330Z",
     "shell.execute_reply.started": "2025-03-07T08:29:47.597484Z"
    },
    "trusted": true
   },
   "outputs": [],
   "source": [
    "from tqdm import tqdm\n",
    "\n",
    "seed_everything(30)"
   ]
  },
  {
   "cell_type": "code",
   "execution_count": 246,
   "metadata": {
    "execution": {
     "iopub.execute_input": "2025-03-07T08:29:49.209648Z",
     "iopub.status.busy": "2025-03-07T08:29:49.209280Z",
     "iopub.status.idle": "2025-03-07T08:29:50.808987Z",
     "shell.execute_reply": "2025-03-07T08:29:50.808334Z",
     "shell.execute_reply.started": "2025-03-07T08:29:49.209615Z"
    },
    "trusted": true
   },
   "outputs": [
    {
     "name": "stderr",
     "output_type": "stream",
     "text": [
      "36it [00:01, 22.67it/s]\n"
     ]
    },
    {
     "data": {
      "text/plain": [
       "array([[-0.5872396 , -0.39084154,  0.11891389, ...,  0.6059513 ,\n",
       "         0.12908368,  0.0357998 ],\n",
       "       [-0.9508273 , -0.16250183,  0.7539672 , ...,  0.9203619 ,\n",
       "         0.42006952, -0.107231  ],\n",
       "       [-0.8788359 , -0.23457053,  0.42926893, ...,  0.8083197 ,\n",
       "         0.21755676,  0.39896894],\n",
       "       ...,\n",
       "       [-0.92515856, -0.38494828,  0.4463349 , ...,  0.83184195,\n",
       "         0.14884058, -0.36724275],\n",
       "       [-0.9424827 , -0.03360297, -0.5485953 , ...,  0.85067356,\n",
       "         0.22364013, -0.75807095],\n",
       "       [-0.7171386 , -0.29056314, -0.2742846 , ...,  0.546718  ,\n",
       "         0.09493509,  0.21211511]], dtype=float32)"
      ]
     },
     "execution_count": 246,
     "metadata": {},
     "output_type": "execute_result"
    }
   ],
   "source": [
    "train_loader = inference_data_loader(data_train, num_workers=0, batch_size=128)\n",
    "encoder.eval()\n",
    "train_embeds = None\n",
    "\n",
    "for i, batch in tqdm(enumerate(train_loader)):\n",
    "    train_embeds_batch = encoder(batch.to(device))\n",
    "    if i == 0:\n",
    "        train_embeds = train_embeds_batch.detach().cpu().numpy()\n",
    "    else:\n",
    "        train_embeds = np.concatenate([train_embeds, train_embeds_batch.detach().cpu().numpy()], axis=0)\n",
    "    \n",
    "train_embeds"
   ]
  },
  {
   "cell_type": "code",
   "execution_count": 247,
   "metadata": {
    "execution": {
     "iopub.execute_input": "2025-03-07T08:29:52.937589Z",
     "iopub.status.busy": "2025-03-07T08:29:52.937274Z",
     "iopub.status.idle": "2025-03-07T08:29:53.130461Z",
     "shell.execute_reply": "2025-03-07T08:29:53.129785Z",
     "shell.execute_reply.started": "2025-03-07T08:29:52.937561Z"
    },
    "trusted": true
   },
   "outputs": [
    {
     "name": "stderr",
     "output_type": "stream",
     "text": [
      "4it [00:00, 21.91it/s]\n"
     ]
    },
    {
     "data": {
      "text/plain": [
       "array([[-0.939315  , -0.01200165,  0.67269194, ...,  0.9069034 ,\n",
       "         0.3379755 , -0.31258112],\n",
       "       [-0.7678652 , -0.4311096 ,  0.04336767, ...,  0.6401845 ,\n",
       "         0.1619981 ,  0.07382047],\n",
       "       [-0.9379685 , -0.3510451 ,  0.8869753 , ...,  0.8984202 ,\n",
       "         0.43017837, -0.23246177],\n",
       "       ...,\n",
       "       [-0.7961454 , -0.02146922, -0.77230954, ...,  0.6120291 ,\n",
       "         0.04130362, -0.08948928],\n",
       "       [-0.9207898 , -0.1879494 , -0.5942831 , ...,  0.71228915,\n",
       "         0.10027774, -0.03141725],\n",
       "       [-0.9567799 , -0.5340204 ,  0.02336365, ...,  0.9226599 ,\n",
       "         0.30793422,  0.21418901]], dtype=float32)"
      ]
     },
     "execution_count": 247,
     "metadata": {},
     "output_type": "execute_result"
    }
   ],
   "source": [
    "test_loader = inference_data_loader(data_test, num_workers=0, batch_size=128)\n",
    "encoder.eval()\n",
    "test_embeds = None\n",
    "\n",
    "for i, batch in tqdm(enumerate(test_loader)):\n",
    "    test_embeds_batch = encoder(batch.to(device))\n",
    "    if i == 0:\n",
    "        test_embeds = test_embeds_batch.detach().cpu().numpy()\n",
    "    else:\n",
    "        test_embeds = np.concatenate([test_embeds, test_embeds_batch.detach().cpu().numpy()], axis=0)\n",
    "    \n",
    "test_embeds"
   ]
  },
  {
   "cell_type": "code",
   "execution_count": 248,
   "metadata": {
    "collapsed": true,
    "execution": {
     "iopub.execute_input": "2025-03-07T08:29:55.825263Z",
     "iopub.status.busy": "2025-03-07T08:29:55.824983Z",
     "iopub.status.idle": "2025-03-07T08:30:02.454057Z",
     "shell.execute_reply": "2025-03-07T08:30:02.453200Z",
     "shell.execute_reply.started": "2025-03-07T08:29:55.825240Z"
    },
    "jupyter": {
     "outputs_hidden": true
    },
    "trusted": true
   },
   "outputs": [
    {
     "name": "stdout",
     "output_type": "stream",
     "text": [
      "Learning rate set to 0.088214\n",
      "0:\tlearn: 0.6653722\ttotal: 10.9ms\tremaining: 10.9s\n",
      "1:\tlearn: 0.6412632\ttotal: 17.7ms\tremaining: 8.81s\n",
      "2:\tlearn: 0.6214946\ttotal: 24.3ms\tremaining: 8.08s\n",
      "3:\tlearn: 0.6030732\ttotal: 30.9ms\tremaining: 7.69s\n",
      "4:\tlearn: 0.5872129\ttotal: 37.3ms\tremaining: 7.42s\n",
      "5:\tlearn: 0.5731445\ttotal: 43.8ms\tremaining: 7.25s\n",
      "6:\tlearn: 0.5606026\ttotal: 50.2ms\tremaining: 7.12s\n",
      "7:\tlearn: 0.5495630\ttotal: 56.8ms\tremaining: 7.04s\n",
      "8:\tlearn: 0.5398590\ttotal: 64.3ms\tremaining: 7.08s\n",
      "9:\tlearn: 0.5309856\ttotal: 71.7ms\tremaining: 7.1s\n",
      "10:\tlearn: 0.5233783\ttotal: 79.8ms\tremaining: 7.17s\n",
      "11:\tlearn: 0.5161197\ttotal: 86.4ms\tremaining: 7.11s\n",
      "12:\tlearn: 0.5098213\ttotal: 93.6ms\tremaining: 7.11s\n",
      "13:\tlearn: 0.5044825\ttotal: 100ms\tremaining: 7.04s\n",
      "14:\tlearn: 0.4994322\ttotal: 107ms\tremaining: 7.02s\n",
      "15:\tlearn: 0.4944124\ttotal: 113ms\tremaining: 6.98s\n",
      "16:\tlearn: 0.4900607\ttotal: 120ms\tremaining: 6.93s\n",
      "17:\tlearn: 0.4855380\ttotal: 127ms\tremaining: 6.93s\n",
      "18:\tlearn: 0.4820387\ttotal: 134ms\tremaining: 6.92s\n",
      "19:\tlearn: 0.4787579\ttotal: 141ms\tremaining: 6.91s\n",
      "20:\tlearn: 0.4759334\ttotal: 148ms\tremaining: 6.88s\n",
      "21:\tlearn: 0.4731232\ttotal: 154ms\tremaining: 6.85s\n",
      "22:\tlearn: 0.4703102\ttotal: 160ms\tremaining: 6.81s\n",
      "23:\tlearn: 0.4680016\ttotal: 166ms\tremaining: 6.77s\n",
      "24:\tlearn: 0.4648272\ttotal: 173ms\tremaining: 6.74s\n",
      "25:\tlearn: 0.4627989\ttotal: 179ms\tremaining: 6.71s\n",
      "26:\tlearn: 0.4601432\ttotal: 186ms\tremaining: 6.69s\n",
      "27:\tlearn: 0.4577942\ttotal: 192ms\tremaining: 6.67s\n",
      "28:\tlearn: 0.4554730\ttotal: 199ms\tremaining: 6.65s\n",
      "29:\tlearn: 0.4536998\ttotal: 205ms\tremaining: 6.62s\n",
      "30:\tlearn: 0.4513731\ttotal: 211ms\tremaining: 6.6s\n",
      "31:\tlearn: 0.4494153\ttotal: 218ms\tremaining: 6.58s\n",
      "32:\tlearn: 0.4476010\ttotal: 224ms\tremaining: 6.55s\n",
      "33:\tlearn: 0.4459740\ttotal: 230ms\tremaining: 6.53s\n",
      "34:\tlearn: 0.4446148\ttotal: 236ms\tremaining: 6.5s\n",
      "35:\tlearn: 0.4425616\ttotal: 243ms\tremaining: 6.5s\n",
      "36:\tlearn: 0.4409197\ttotal: 249ms\tremaining: 6.48s\n",
      "37:\tlearn: 0.4394964\ttotal: 255ms\tremaining: 6.47s\n",
      "38:\tlearn: 0.4380788\ttotal: 262ms\tremaining: 6.45s\n",
      "39:\tlearn: 0.4367550\ttotal: 268ms\tremaining: 6.44s\n",
      "40:\tlearn: 0.4355654\ttotal: 274ms\tremaining: 6.42s\n",
      "41:\tlearn: 0.4339896\ttotal: 280ms\tremaining: 6.4s\n",
      "42:\tlearn: 0.4322574\ttotal: 287ms\tremaining: 6.38s\n",
      "43:\tlearn: 0.4308803\ttotal: 293ms\tremaining: 6.37s\n",
      "44:\tlearn: 0.4297173\ttotal: 299ms\tremaining: 6.35s\n",
      "45:\tlearn: 0.4283689\ttotal: 306ms\tremaining: 6.34s\n",
      "46:\tlearn: 0.4269476\ttotal: 312ms\tremaining: 6.32s\n",
      "47:\tlearn: 0.4256536\ttotal: 318ms\tremaining: 6.3s\n",
      "48:\tlearn: 0.4242573\ttotal: 324ms\tremaining: 6.29s\n",
      "49:\tlearn: 0.4231890\ttotal: 330ms\tremaining: 6.28s\n",
      "50:\tlearn: 0.4217741\ttotal: 337ms\tremaining: 6.26s\n",
      "51:\tlearn: 0.4205399\ttotal: 343ms\tremaining: 6.25s\n",
      "52:\tlearn: 0.4193627\ttotal: 350ms\tremaining: 6.25s\n",
      "53:\tlearn: 0.4180643\ttotal: 356ms\tremaining: 6.24s\n",
      "54:\tlearn: 0.4167926\ttotal: 363ms\tremaining: 6.24s\n",
      "55:\tlearn: 0.4157302\ttotal: 370ms\tremaining: 6.23s\n",
      "56:\tlearn: 0.4146960\ttotal: 376ms\tremaining: 6.21s\n",
      "57:\tlearn: 0.4137552\ttotal: 381ms\tremaining: 6.2s\n",
      "58:\tlearn: 0.4126918\ttotal: 387ms\tremaining: 6.18s\n",
      "59:\tlearn: 0.4115314\ttotal: 393ms\tremaining: 6.16s\n",
      "60:\tlearn: 0.4104694\ttotal: 399ms\tremaining: 6.15s\n",
      "61:\tlearn: 0.4093706\ttotal: 405ms\tremaining: 6.13s\n",
      "62:\tlearn: 0.4085538\ttotal: 411ms\tremaining: 6.11s\n",
      "63:\tlearn: 0.4074544\ttotal: 417ms\tremaining: 6.1s\n",
      "64:\tlearn: 0.4068448\ttotal: 423ms\tremaining: 6.08s\n",
      "65:\tlearn: 0.4061244\ttotal: 431ms\tremaining: 6.09s\n",
      "66:\tlearn: 0.4053982\ttotal: 442ms\tremaining: 6.15s\n",
      "67:\tlearn: 0.4042891\ttotal: 449ms\tremaining: 6.16s\n",
      "68:\tlearn: 0.4035645\ttotal: 455ms\tremaining: 6.14s\n",
      "69:\tlearn: 0.4023470\ttotal: 462ms\tremaining: 6.14s\n",
      "70:\tlearn: 0.4015701\ttotal: 469ms\tremaining: 6.13s\n",
      "71:\tlearn: 0.4007986\ttotal: 475ms\tremaining: 6.12s\n",
      "72:\tlearn: 0.3999430\ttotal: 481ms\tremaining: 6.1s\n",
      "73:\tlearn: 0.3990994\ttotal: 487ms\tremaining: 6.09s\n",
      "74:\tlearn: 0.3979756\ttotal: 493ms\tremaining: 6.08s\n",
      "75:\tlearn: 0.3969402\ttotal: 499ms\tremaining: 6.06s\n",
      "76:\tlearn: 0.3961248\ttotal: 505ms\tremaining: 6.05s\n",
      "77:\tlearn: 0.3952541\ttotal: 511ms\tremaining: 6.04s\n",
      "78:\tlearn: 0.3945641\ttotal: 518ms\tremaining: 6.03s\n",
      "79:\tlearn: 0.3936062\ttotal: 524ms\tremaining: 6.03s\n",
      "80:\tlearn: 0.3926477\ttotal: 530ms\tremaining: 6.02s\n",
      "81:\tlearn: 0.3917260\ttotal: 537ms\tremaining: 6.01s\n",
      "82:\tlearn: 0.3909979\ttotal: 543ms\tremaining: 6s\n",
      "83:\tlearn: 0.3900188\ttotal: 550ms\tremaining: 5.99s\n",
      "84:\tlearn: 0.3890571\ttotal: 556ms\tremaining: 5.98s\n",
      "85:\tlearn: 0.3882338\ttotal: 563ms\tremaining: 5.98s\n",
      "86:\tlearn: 0.3872990\ttotal: 569ms\tremaining: 5.97s\n",
      "87:\tlearn: 0.3866699\ttotal: 575ms\tremaining: 5.96s\n",
      "88:\tlearn: 0.3858460\ttotal: 581ms\tremaining: 5.95s\n",
      "89:\tlearn: 0.3849346\ttotal: 588ms\tremaining: 5.94s\n",
      "90:\tlearn: 0.3842323\ttotal: 594ms\tremaining: 5.93s\n",
      "91:\tlearn: 0.3835184\ttotal: 600ms\tremaining: 5.92s\n",
      "92:\tlearn: 0.3821825\ttotal: 606ms\tremaining: 5.91s\n",
      "93:\tlearn: 0.3814489\ttotal: 612ms\tremaining: 5.9s\n",
      "94:\tlearn: 0.3803987\ttotal: 619ms\tremaining: 5.89s\n",
      "95:\tlearn: 0.3798426\ttotal: 625ms\tremaining: 5.88s\n",
      "96:\tlearn: 0.3786297\ttotal: 631ms\tremaining: 5.88s\n",
      "97:\tlearn: 0.3782963\ttotal: 637ms\tremaining: 5.86s\n",
      "98:\tlearn: 0.3773062\ttotal: 643ms\tremaining: 5.86s\n",
      "99:\tlearn: 0.3761434\ttotal: 650ms\tremaining: 5.85s\n",
      "100:\tlearn: 0.3752933\ttotal: 656ms\tremaining: 5.84s\n",
      "101:\tlearn: 0.3745147\ttotal: 662ms\tremaining: 5.83s\n",
      "102:\tlearn: 0.3736024\ttotal: 668ms\tremaining: 5.82s\n",
      "103:\tlearn: 0.3728230\ttotal: 674ms\tremaining: 5.81s\n",
      "104:\tlearn: 0.3720270\ttotal: 680ms\tremaining: 5.8s\n",
      "105:\tlearn: 0.3712049\ttotal: 686ms\tremaining: 5.79s\n",
      "106:\tlearn: 0.3707040\ttotal: 692ms\tremaining: 5.78s\n",
      "107:\tlearn: 0.3697439\ttotal: 698ms\tremaining: 5.77s\n",
      "108:\tlearn: 0.3690498\ttotal: 704ms\tremaining: 5.76s\n",
      "109:\tlearn: 0.3683267\ttotal: 711ms\tremaining: 5.75s\n",
      "110:\tlearn: 0.3675650\ttotal: 724ms\tremaining: 5.8s\n",
      "111:\tlearn: 0.3669843\ttotal: 731ms\tremaining: 5.79s\n",
      "112:\tlearn: 0.3661708\ttotal: 737ms\tremaining: 5.79s\n",
      "113:\tlearn: 0.3652724\ttotal: 744ms\tremaining: 5.78s\n",
      "114:\tlearn: 0.3644722\ttotal: 751ms\tremaining: 5.78s\n",
      "115:\tlearn: 0.3636694\ttotal: 758ms\tremaining: 5.77s\n",
      "116:\tlearn: 0.3627227\ttotal: 765ms\tremaining: 5.77s\n",
      "117:\tlearn: 0.3622182\ttotal: 771ms\tremaining: 5.76s\n",
      "118:\tlearn: 0.3613553\ttotal: 778ms\tremaining: 5.76s\n",
      "119:\tlearn: 0.3606056\ttotal: 784ms\tremaining: 5.75s\n",
      "120:\tlearn: 0.3600327\ttotal: 791ms\tremaining: 5.74s\n",
      "121:\tlearn: 0.3591834\ttotal: 797ms\tremaining: 5.73s\n",
      "122:\tlearn: 0.3581367\ttotal: 804ms\tremaining: 5.73s\n",
      "123:\tlearn: 0.3573996\ttotal: 810ms\tremaining: 5.72s\n",
      "124:\tlearn: 0.3567324\ttotal: 817ms\tremaining: 5.72s\n",
      "125:\tlearn: 0.3559442\ttotal: 823ms\tremaining: 5.71s\n",
      "126:\tlearn: 0.3553182\ttotal: 830ms\tremaining: 5.7s\n",
      "127:\tlearn: 0.3547144\ttotal: 836ms\tremaining: 5.7s\n",
      "128:\tlearn: 0.3543368\ttotal: 842ms\tremaining: 5.69s\n",
      "129:\tlearn: 0.3536705\ttotal: 849ms\tremaining: 5.68s\n",
      "130:\tlearn: 0.3532349\ttotal: 855ms\tremaining: 5.67s\n",
      "131:\tlearn: 0.3524912\ttotal: 861ms\tremaining: 5.66s\n",
      "132:\tlearn: 0.3515568\ttotal: 868ms\tremaining: 5.66s\n",
      "133:\tlearn: 0.3509973\ttotal: 874ms\tremaining: 5.65s\n",
      "134:\tlearn: 0.3503441\ttotal: 880ms\tremaining: 5.64s\n",
      "135:\tlearn: 0.3497223\ttotal: 887ms\tremaining: 5.63s\n",
      "136:\tlearn: 0.3491971\ttotal: 893ms\tremaining: 5.63s\n",
      "137:\tlearn: 0.3484325\ttotal: 900ms\tremaining: 5.62s\n",
      "138:\tlearn: 0.3479455\ttotal: 906ms\tremaining: 5.61s\n",
      "139:\tlearn: 0.3472928\ttotal: 912ms\tremaining: 5.6s\n",
      "140:\tlearn: 0.3466281\ttotal: 918ms\tremaining: 5.59s\n",
      "141:\tlearn: 0.3462323\ttotal: 923ms\tremaining: 5.58s\n",
      "142:\tlearn: 0.3457238\ttotal: 929ms\tremaining: 5.57s\n",
      "143:\tlearn: 0.3451230\ttotal: 935ms\tremaining: 5.56s\n",
      "144:\tlearn: 0.3442181\ttotal: 941ms\tremaining: 5.55s\n",
      "145:\tlearn: 0.3435313\ttotal: 947ms\tremaining: 5.54s\n",
      "146:\tlearn: 0.3428432\ttotal: 953ms\tremaining: 5.53s\n",
      "147:\tlearn: 0.3422767\ttotal: 959ms\tremaining: 5.52s\n",
      "148:\tlearn: 0.3414290\ttotal: 965ms\tremaining: 5.51s\n",
      "149:\tlearn: 0.3409215\ttotal: 971ms\tremaining: 5.5s\n",
      "150:\tlearn: 0.3403465\ttotal: 978ms\tremaining: 5.5s\n",
      "151:\tlearn: 0.3394956\ttotal: 984ms\tremaining: 5.49s\n",
      "152:\tlearn: 0.3388389\ttotal: 991ms\tremaining: 5.48s\n",
      "153:\tlearn: 0.3381738\ttotal: 998ms\tremaining: 5.48s\n",
      "154:\tlearn: 0.3375841\ttotal: 1s\tremaining: 5.48s\n",
      "155:\tlearn: 0.3370204\ttotal: 1.01s\tremaining: 5.47s\n",
      "156:\tlearn: 0.3365456\ttotal: 1.02s\tremaining: 5.46s\n",
      "157:\tlearn: 0.3359710\ttotal: 1.02s\tremaining: 5.46s\n",
      "158:\tlearn: 0.3352964\ttotal: 1.03s\tremaining: 5.45s\n",
      "159:\tlearn: 0.3347065\ttotal: 1.04s\tremaining: 5.44s\n",
      "160:\tlearn: 0.3337086\ttotal: 1.04s\tremaining: 5.44s\n",
      "161:\tlearn: 0.3333091\ttotal: 1.05s\tremaining: 5.43s\n",
      "162:\tlearn: 0.3327773\ttotal: 1.06s\tremaining: 5.43s\n",
      "163:\tlearn: 0.3323472\ttotal: 1.06s\tremaining: 5.42s\n",
      "164:\tlearn: 0.3316730\ttotal: 1.07s\tremaining: 5.41s\n",
      "165:\tlearn: 0.3313803\ttotal: 1.08s\tremaining: 5.41s\n",
      "166:\tlearn: 0.3309637\ttotal: 1.08s\tremaining: 5.4s\n",
      "167:\tlearn: 0.3305444\ttotal: 1.09s\tremaining: 5.39s\n",
      "168:\tlearn: 0.3298851\ttotal: 1.09s\tremaining: 5.39s\n",
      "169:\tlearn: 0.3289650\ttotal: 1.1s\tremaining: 5.38s\n",
      "170:\tlearn: 0.3285440\ttotal: 1.11s\tremaining: 5.37s\n",
      "171:\tlearn: 0.3279980\ttotal: 1.11s\tremaining: 5.37s\n",
      "172:\tlearn: 0.3274184\ttotal: 1.12s\tremaining: 5.36s\n",
      "173:\tlearn: 0.3270417\ttotal: 1.13s\tremaining: 5.35s\n",
      "174:\tlearn: 0.3264082\ttotal: 1.13s\tremaining: 5.35s\n",
      "175:\tlearn: 0.3259663\ttotal: 1.14s\tremaining: 5.34s\n",
      "176:\tlearn: 0.3255450\ttotal: 1.15s\tremaining: 5.33s\n",
      "177:\tlearn: 0.3248910\ttotal: 1.15s\tremaining: 5.33s\n",
      "178:\tlearn: 0.3243816\ttotal: 1.16s\tremaining: 5.32s\n",
      "179:\tlearn: 0.3234833\ttotal: 1.17s\tremaining: 5.31s\n",
      "180:\tlearn: 0.3226552\ttotal: 1.17s\tremaining: 5.31s\n",
      "181:\tlearn: 0.3217018\ttotal: 1.18s\tremaining: 5.31s\n",
      "182:\tlearn: 0.3212198\ttotal: 1.19s\tremaining: 5.3s\n",
      "183:\tlearn: 0.3204790\ttotal: 1.19s\tremaining: 5.3s\n",
      "184:\tlearn: 0.3199069\ttotal: 1.2s\tremaining: 5.29s\n",
      "185:\tlearn: 0.3194832\ttotal: 1.21s\tremaining: 5.28s\n",
      "186:\tlearn: 0.3188461\ttotal: 1.21s\tremaining: 5.27s\n",
      "187:\tlearn: 0.3182200\ttotal: 1.22s\tremaining: 5.26s\n",
      "188:\tlearn: 0.3176079\ttotal: 1.22s\tremaining: 5.25s\n",
      "189:\tlearn: 0.3168646\ttotal: 1.23s\tremaining: 5.24s\n",
      "190:\tlearn: 0.3161402\ttotal: 1.24s\tremaining: 5.24s\n",
      "191:\tlearn: 0.3156887\ttotal: 1.24s\tremaining: 5.22s\n",
      "192:\tlearn: 0.3150649\ttotal: 1.25s\tremaining: 5.22s\n",
      "193:\tlearn: 0.3142611\ttotal: 1.25s\tremaining: 5.21s\n",
      "194:\tlearn: 0.3135490\ttotal: 1.26s\tremaining: 5.2s\n",
      "195:\tlearn: 0.3129699\ttotal: 1.27s\tremaining: 5.19s\n",
      "196:\tlearn: 0.3118809\ttotal: 1.27s\tremaining: 5.18s\n",
      "197:\tlearn: 0.3112632\ttotal: 1.28s\tremaining: 5.18s\n",
      "198:\tlearn: 0.3105222\ttotal: 1.28s\tremaining: 5.17s\n",
      "199:\tlearn: 0.3099207\ttotal: 1.29s\tremaining: 5.16s\n",
      "200:\tlearn: 0.3093077\ttotal: 1.3s\tremaining: 5.15s\n",
      "201:\tlearn: 0.3088063\ttotal: 1.3s\tremaining: 5.14s\n",
      "202:\tlearn: 0.3079819\ttotal: 1.31s\tremaining: 5.13s\n",
      "203:\tlearn: 0.3073052\ttotal: 1.31s\tremaining: 5.13s\n",
      "204:\tlearn: 0.3067298\ttotal: 1.32s\tremaining: 5.12s\n",
      "205:\tlearn: 0.3062229\ttotal: 1.32s\tremaining: 5.11s\n",
      "206:\tlearn: 0.3058194\ttotal: 1.33s\tremaining: 5.1s\n",
      "207:\tlearn: 0.3051807\ttotal: 1.34s\tremaining: 5.09s\n",
      "208:\tlearn: 0.3044692\ttotal: 1.34s\tremaining: 5.09s\n",
      "209:\tlearn: 0.3037950\ttotal: 1.35s\tremaining: 5.08s\n",
      "210:\tlearn: 0.3033068\ttotal: 1.35s\tremaining: 5.07s\n",
      "211:\tlearn: 0.3024629\ttotal: 1.36s\tremaining: 5.06s\n",
      "212:\tlearn: 0.3020760\ttotal: 1.37s\tremaining: 5.05s\n",
      "213:\tlearn: 0.3016058\ttotal: 1.37s\tremaining: 5.05s\n",
      "214:\tlearn: 0.3009498\ttotal: 1.38s\tremaining: 5.04s\n",
      "215:\tlearn: 0.3005018\ttotal: 1.39s\tremaining: 5.03s\n",
      "216:\tlearn: 0.2997098\ttotal: 1.39s\tremaining: 5.03s\n",
      "217:\tlearn: 0.2992871\ttotal: 1.4s\tremaining: 5.02s\n",
      "218:\tlearn: 0.2988063\ttotal: 1.41s\tremaining: 5.01s\n",
      "219:\tlearn: 0.2983274\ttotal: 1.41s\tremaining: 5.01s\n",
      "220:\tlearn: 0.2978347\ttotal: 1.42s\tremaining: 5s\n",
      "221:\tlearn: 0.2975531\ttotal: 1.42s\tremaining: 4.99s\n",
      "222:\tlearn: 0.2967562\ttotal: 1.43s\tremaining: 4.98s\n",
      "223:\tlearn: 0.2960663\ttotal: 1.44s\tremaining: 4.98s\n",
      "224:\tlearn: 0.2952713\ttotal: 1.44s\tremaining: 4.97s\n",
      "225:\tlearn: 0.2950153\ttotal: 1.45s\tremaining: 4.96s\n",
      "226:\tlearn: 0.2945356\ttotal: 1.46s\tremaining: 4.96s\n",
      "227:\tlearn: 0.2940924\ttotal: 1.46s\tremaining: 4.95s\n",
      "228:\tlearn: 0.2936741\ttotal: 1.47s\tremaining: 4.94s\n",
      "229:\tlearn: 0.2930802\ttotal: 1.47s\tremaining: 4.94s\n",
      "230:\tlearn: 0.2925501\ttotal: 1.48s\tremaining: 4.93s\n",
      "231:\tlearn: 0.2920929\ttotal: 1.49s\tremaining: 4.92s\n",
      "232:\tlearn: 0.2916701\ttotal: 1.49s\tremaining: 4.92s\n",
      "233:\tlearn: 0.2911021\ttotal: 1.5s\tremaining: 4.91s\n",
      "234:\tlearn: 0.2907690\ttotal: 1.51s\tremaining: 4.91s\n",
      "235:\tlearn: 0.2902828\ttotal: 1.51s\tremaining: 4.9s\n",
      "236:\tlearn: 0.2895015\ttotal: 1.52s\tremaining: 4.89s\n",
      "237:\tlearn: 0.2891090\ttotal: 1.53s\tremaining: 4.89s\n",
      "238:\tlearn: 0.2884100\ttotal: 1.53s\tremaining: 4.88s\n",
      "239:\tlearn: 0.2877603\ttotal: 1.54s\tremaining: 4.88s\n",
      "240:\tlearn: 0.2874468\ttotal: 1.55s\tremaining: 4.87s\n",
      "241:\tlearn: 0.2865184\ttotal: 1.55s\tremaining: 4.86s\n",
      "242:\tlearn: 0.2860525\ttotal: 1.56s\tremaining: 4.86s\n",
      "243:\tlearn: 0.2857453\ttotal: 1.56s\tremaining: 4.85s\n",
      "244:\tlearn: 0.2851019\ttotal: 1.57s\tremaining: 4.84s\n",
      "245:\tlearn: 0.2845684\ttotal: 1.58s\tremaining: 4.84s\n",
      "246:\tlearn: 0.2839355\ttotal: 1.58s\tremaining: 4.83s\n",
      "247:\tlearn: 0.2835193\ttotal: 1.59s\tremaining: 4.82s\n",
      "248:\tlearn: 0.2828020\ttotal: 1.6s\tremaining: 4.82s\n",
      "249:\tlearn: 0.2823268\ttotal: 1.6s\tremaining: 4.81s\n",
      "250:\tlearn: 0.2817858\ttotal: 1.61s\tremaining: 4.8s\n",
      "251:\tlearn: 0.2812815\ttotal: 1.61s\tremaining: 4.8s\n",
      "252:\tlearn: 0.2807798\ttotal: 1.62s\tremaining: 4.79s\n",
      "253:\tlearn: 0.2803907\ttotal: 1.63s\tremaining: 4.78s\n",
      "254:\tlearn: 0.2797881\ttotal: 1.63s\tremaining: 4.78s\n",
      "255:\tlearn: 0.2792423\ttotal: 1.64s\tremaining: 4.77s\n",
      "256:\tlearn: 0.2787153\ttotal: 1.65s\tremaining: 4.76s\n",
      "257:\tlearn: 0.2780445\ttotal: 1.65s\tremaining: 4.76s\n",
      "258:\tlearn: 0.2776799\ttotal: 1.66s\tremaining: 4.75s\n",
      "259:\tlearn: 0.2769644\ttotal: 1.67s\tremaining: 4.75s\n",
      "260:\tlearn: 0.2763807\ttotal: 1.67s\tremaining: 4.74s\n",
      "261:\tlearn: 0.2758677\ttotal: 1.68s\tremaining: 4.73s\n",
      "262:\tlearn: 0.2753526\ttotal: 1.69s\tremaining: 4.73s\n",
      "263:\tlearn: 0.2749788\ttotal: 1.69s\tremaining: 4.72s\n",
      "264:\tlearn: 0.2746099\ttotal: 1.7s\tremaining: 4.71s\n",
      "265:\tlearn: 0.2741653\ttotal: 1.71s\tremaining: 4.71s\n",
      "266:\tlearn: 0.2735704\ttotal: 1.71s\tremaining: 4.7s\n",
      "267:\tlearn: 0.2733681\ttotal: 1.72s\tremaining: 4.7s\n",
      "268:\tlearn: 0.2731285\ttotal: 1.73s\tremaining: 4.69s\n",
      "269:\tlearn: 0.2726616\ttotal: 1.73s\tremaining: 4.68s\n",
      "270:\tlearn: 0.2722477\ttotal: 1.74s\tremaining: 4.67s\n",
      "271:\tlearn: 0.2718098\ttotal: 1.74s\tremaining: 4.67s\n",
      "272:\tlearn: 0.2711859\ttotal: 1.75s\tremaining: 4.66s\n",
      "273:\tlearn: 0.2708532\ttotal: 1.76s\tremaining: 4.66s\n",
      "274:\tlearn: 0.2701302\ttotal: 1.76s\tremaining: 4.65s\n",
      "275:\tlearn: 0.2696003\ttotal: 1.77s\tremaining: 4.64s\n",
      "276:\tlearn: 0.2690179\ttotal: 1.78s\tremaining: 4.64s\n",
      "277:\tlearn: 0.2684470\ttotal: 1.78s\tremaining: 4.63s\n",
      "278:\tlearn: 0.2678804\ttotal: 1.79s\tremaining: 4.62s\n",
      "279:\tlearn: 0.2674929\ttotal: 1.79s\tremaining: 4.61s\n",
      "280:\tlearn: 0.2669937\ttotal: 1.8s\tremaining: 4.61s\n",
      "281:\tlearn: 0.2665793\ttotal: 1.81s\tremaining: 4.6s\n",
      "282:\tlearn: 0.2661207\ttotal: 1.81s\tremaining: 4.59s\n",
      "283:\tlearn: 0.2657224\ttotal: 1.82s\tremaining: 4.58s\n",
      "284:\tlearn: 0.2651209\ttotal: 1.82s\tremaining: 4.58s\n",
      "285:\tlearn: 0.2647983\ttotal: 1.83s\tremaining: 4.57s\n",
      "286:\tlearn: 0.2644440\ttotal: 1.84s\tremaining: 4.56s\n",
      "287:\tlearn: 0.2641099\ttotal: 1.84s\tremaining: 4.56s\n",
      "288:\tlearn: 0.2637007\ttotal: 1.85s\tremaining: 4.55s\n",
      "289:\tlearn: 0.2631587\ttotal: 1.86s\tremaining: 4.54s\n",
      "290:\tlearn: 0.2626664\ttotal: 1.86s\tremaining: 4.54s\n",
      "291:\tlearn: 0.2620573\ttotal: 1.87s\tremaining: 4.53s\n",
      "292:\tlearn: 0.2616719\ttotal: 1.88s\tremaining: 4.53s\n",
      "293:\tlearn: 0.2613177\ttotal: 1.88s\tremaining: 4.52s\n",
      "294:\tlearn: 0.2608525\ttotal: 1.89s\tremaining: 4.51s\n",
      "295:\tlearn: 0.2604302\ttotal: 1.9s\tremaining: 4.51s\n",
      "296:\tlearn: 0.2597199\ttotal: 1.9s\tremaining: 4.5s\n",
      "297:\tlearn: 0.2593875\ttotal: 1.91s\tremaining: 4.49s\n",
      "298:\tlearn: 0.2589516\ttotal: 1.91s\tremaining: 4.49s\n",
      "299:\tlearn: 0.2583423\ttotal: 1.92s\tremaining: 4.48s\n",
      "300:\tlearn: 0.2580626\ttotal: 1.93s\tremaining: 4.47s\n",
      "301:\tlearn: 0.2576964\ttotal: 1.93s\tremaining: 4.47s\n",
      "302:\tlearn: 0.2571557\ttotal: 1.94s\tremaining: 4.46s\n",
      "303:\tlearn: 0.2567917\ttotal: 1.95s\tremaining: 4.46s\n",
      "304:\tlearn: 0.2563114\ttotal: 1.95s\tremaining: 4.45s\n",
      "305:\tlearn: 0.2558843\ttotal: 1.96s\tremaining: 4.44s\n",
      "306:\tlearn: 0.2554038\ttotal: 1.97s\tremaining: 4.44s\n",
      "307:\tlearn: 0.2546989\ttotal: 1.97s\tremaining: 4.43s\n",
      "308:\tlearn: 0.2543201\ttotal: 1.98s\tremaining: 4.42s\n",
      "309:\tlearn: 0.2538873\ttotal: 1.98s\tremaining: 4.42s\n",
      "310:\tlearn: 0.2536790\ttotal: 1.99s\tremaining: 4.41s\n",
      "311:\tlearn: 0.2534410\ttotal: 2s\tremaining: 4.4s\n",
      "312:\tlearn: 0.2530240\ttotal: 2s\tremaining: 4.4s\n",
      "313:\tlearn: 0.2527645\ttotal: 2.01s\tremaining: 4.39s\n",
      "314:\tlearn: 0.2524325\ttotal: 2.02s\tremaining: 4.38s\n",
      "315:\tlearn: 0.2521912\ttotal: 2.02s\tremaining: 4.38s\n",
      "316:\tlearn: 0.2517174\ttotal: 2.03s\tremaining: 4.37s\n",
      "317:\tlearn: 0.2512890\ttotal: 2.04s\tremaining: 4.37s\n",
      "318:\tlearn: 0.2508579\ttotal: 2.04s\tremaining: 4.36s\n",
      "319:\tlearn: 0.2502156\ttotal: 2.05s\tremaining: 4.35s\n",
      "320:\tlearn: 0.2497055\ttotal: 2.06s\tremaining: 4.35s\n",
      "321:\tlearn: 0.2494055\ttotal: 2.06s\tremaining: 4.34s\n",
      "322:\tlearn: 0.2489100\ttotal: 2.07s\tremaining: 4.33s\n",
      "323:\tlearn: 0.2484667\ttotal: 2.07s\tremaining: 4.33s\n",
      "324:\tlearn: 0.2480598\ttotal: 2.08s\tremaining: 4.32s\n",
      "325:\tlearn: 0.2476385\ttotal: 2.08s\tremaining: 4.31s\n",
      "326:\tlearn: 0.2474224\ttotal: 2.09s\tremaining: 4.3s\n",
      "327:\tlearn: 0.2470605\ttotal: 2.1s\tremaining: 4.29s\n",
      "328:\tlearn: 0.2465546\ttotal: 2.1s\tremaining: 4.29s\n",
      "329:\tlearn: 0.2461667\ttotal: 2.11s\tremaining: 4.28s\n",
      "330:\tlearn: 0.2458384\ttotal: 2.11s\tremaining: 4.27s\n",
      "331:\tlearn: 0.2455254\ttotal: 2.12s\tremaining: 4.26s\n",
      "332:\tlearn: 0.2449406\ttotal: 2.12s\tremaining: 4.26s\n",
      "333:\tlearn: 0.2443804\ttotal: 2.13s\tremaining: 4.25s\n",
      "334:\tlearn: 0.2439715\ttotal: 2.14s\tremaining: 4.24s\n",
      "335:\tlearn: 0.2436168\ttotal: 2.14s\tremaining: 4.23s\n",
      "336:\tlearn: 0.2430892\ttotal: 2.15s\tremaining: 4.23s\n",
      "337:\tlearn: 0.2426135\ttotal: 2.15s\tremaining: 4.22s\n",
      "338:\tlearn: 0.2423325\ttotal: 2.16s\tremaining: 4.21s\n",
      "339:\tlearn: 0.2419684\ttotal: 2.17s\tremaining: 4.2s\n",
      "340:\tlearn: 0.2415324\ttotal: 2.17s\tremaining: 4.2s\n",
      "341:\tlearn: 0.2412067\ttotal: 2.18s\tremaining: 4.19s\n",
      "342:\tlearn: 0.2408159\ttotal: 2.18s\tremaining: 4.18s\n",
      "343:\tlearn: 0.2404763\ttotal: 2.19s\tremaining: 4.17s\n",
      "344:\tlearn: 0.2402302\ttotal: 2.19s\tremaining: 4.17s\n",
      "345:\tlearn: 0.2398185\ttotal: 2.2s\tremaining: 4.16s\n",
      "346:\tlearn: 0.2395021\ttotal: 2.21s\tremaining: 4.15s\n",
      "347:\tlearn: 0.2391166\ttotal: 2.21s\tremaining: 4.14s\n",
      "348:\tlearn: 0.2386529\ttotal: 2.22s\tremaining: 4.14s\n",
      "349:\tlearn: 0.2380530\ttotal: 2.22s\tremaining: 4.13s\n",
      "350:\tlearn: 0.2375415\ttotal: 2.23s\tremaining: 4.12s\n",
      "351:\tlearn: 0.2369562\ttotal: 2.23s\tremaining: 4.12s\n",
      "352:\tlearn: 0.2365341\ttotal: 2.24s\tremaining: 4.11s\n",
      "353:\tlearn: 0.2359249\ttotal: 2.25s\tremaining: 4.1s\n",
      "354:\tlearn: 0.2355882\ttotal: 2.25s\tremaining: 4.09s\n",
      "355:\tlearn: 0.2350562\ttotal: 2.26s\tremaining: 4.09s\n",
      "356:\tlearn: 0.2347348\ttotal: 2.26s\tremaining: 4.08s\n",
      "357:\tlearn: 0.2342084\ttotal: 2.27s\tremaining: 4.07s\n",
      "358:\tlearn: 0.2338675\ttotal: 2.28s\tremaining: 4.06s\n",
      "359:\tlearn: 0.2336095\ttotal: 2.28s\tremaining: 4.06s\n",
      "360:\tlearn: 0.2333253\ttotal: 2.29s\tremaining: 4.05s\n",
      "361:\tlearn: 0.2329644\ttotal: 2.29s\tremaining: 4.04s\n",
      "362:\tlearn: 0.2326017\ttotal: 2.3s\tremaining: 4.04s\n",
      "363:\tlearn: 0.2323301\ttotal: 2.31s\tremaining: 4.03s\n",
      "364:\tlearn: 0.2321618\ttotal: 2.31s\tremaining: 4.02s\n",
      "365:\tlearn: 0.2316784\ttotal: 2.32s\tremaining: 4.01s\n",
      "366:\tlearn: 0.2313496\ttotal: 2.32s\tremaining: 4.01s\n",
      "367:\tlearn: 0.2308591\ttotal: 2.33s\tremaining: 4s\n",
      "368:\tlearn: 0.2306064\ttotal: 2.33s\tremaining: 3.99s\n",
      "369:\tlearn: 0.2302884\ttotal: 2.34s\tremaining: 3.99s\n",
      "370:\tlearn: 0.2297519\ttotal: 2.35s\tremaining: 3.98s\n",
      "371:\tlearn: 0.2291737\ttotal: 2.35s\tremaining: 3.97s\n",
      "372:\tlearn: 0.2288333\ttotal: 2.36s\tremaining: 3.96s\n",
      "373:\tlearn: 0.2285728\ttotal: 2.36s\tremaining: 3.96s\n",
      "374:\tlearn: 0.2283074\ttotal: 2.37s\tremaining: 3.95s\n",
      "375:\tlearn: 0.2278140\ttotal: 2.38s\tremaining: 3.94s\n",
      "376:\tlearn: 0.2275912\ttotal: 2.38s\tremaining: 3.94s\n",
      "377:\tlearn: 0.2272920\ttotal: 2.39s\tremaining: 3.93s\n",
      "378:\tlearn: 0.2270574\ttotal: 2.39s\tremaining: 3.92s\n",
      "379:\tlearn: 0.2267530\ttotal: 2.4s\tremaining: 3.92s\n",
      "380:\tlearn: 0.2262358\ttotal: 2.4s\tremaining: 3.91s\n",
      "381:\tlearn: 0.2258121\ttotal: 2.41s\tremaining: 3.9s\n",
      "382:\tlearn: 0.2254785\ttotal: 2.42s\tremaining: 3.89s\n",
      "383:\tlearn: 0.2251499\ttotal: 2.42s\tremaining: 3.89s\n",
      "384:\tlearn: 0.2248803\ttotal: 2.43s\tremaining: 3.88s\n",
      "385:\tlearn: 0.2245365\ttotal: 2.43s\tremaining: 3.87s\n",
      "386:\tlearn: 0.2242207\ttotal: 2.44s\tremaining: 3.87s\n",
      "387:\tlearn: 0.2238480\ttotal: 2.45s\tremaining: 3.86s\n",
      "388:\tlearn: 0.2235174\ttotal: 2.45s\tremaining: 3.85s\n",
      "389:\tlearn: 0.2230190\ttotal: 2.46s\tremaining: 3.85s\n",
      "390:\tlearn: 0.2228073\ttotal: 2.46s\tremaining: 3.84s\n",
      "391:\tlearn: 0.2224379\ttotal: 2.47s\tremaining: 3.83s\n",
      "392:\tlearn: 0.2220973\ttotal: 2.48s\tremaining: 3.82s\n",
      "393:\tlearn: 0.2217634\ttotal: 2.48s\tremaining: 3.82s\n",
      "394:\tlearn: 0.2215024\ttotal: 2.49s\tremaining: 3.81s\n",
      "395:\tlearn: 0.2212062\ttotal: 2.49s\tremaining: 3.8s\n",
      "396:\tlearn: 0.2207561\ttotal: 2.5s\tremaining: 3.79s\n",
      "397:\tlearn: 0.2205343\ttotal: 2.5s\tremaining: 3.79s\n",
      "398:\tlearn: 0.2202991\ttotal: 2.51s\tremaining: 3.78s\n",
      "399:\tlearn: 0.2198174\ttotal: 2.52s\tremaining: 3.77s\n",
      "400:\tlearn: 0.2195392\ttotal: 2.52s\tremaining: 3.77s\n",
      "401:\tlearn: 0.2191146\ttotal: 2.53s\tremaining: 3.76s\n",
      "402:\tlearn: 0.2187142\ttotal: 2.53s\tremaining: 3.75s\n",
      "403:\tlearn: 0.2184512\ttotal: 2.54s\tremaining: 3.75s\n",
      "404:\tlearn: 0.2182223\ttotal: 2.54s\tremaining: 3.74s\n",
      "405:\tlearn: 0.2179923\ttotal: 2.55s\tremaining: 3.73s\n",
      "406:\tlearn: 0.2177342\ttotal: 2.56s\tremaining: 3.72s\n",
      "407:\tlearn: 0.2172810\ttotal: 2.56s\tremaining: 3.72s\n",
      "408:\tlearn: 0.2169556\ttotal: 2.57s\tremaining: 3.71s\n",
      "409:\tlearn: 0.2167109\ttotal: 2.57s\tremaining: 3.7s\n",
      "410:\tlearn: 0.2163226\ttotal: 2.58s\tremaining: 3.7s\n",
      "411:\tlearn: 0.2159690\ttotal: 2.59s\tremaining: 3.69s\n",
      "412:\tlearn: 0.2156695\ttotal: 2.59s\tremaining: 3.69s\n",
      "413:\tlearn: 0.2153313\ttotal: 2.6s\tremaining: 3.68s\n",
      "414:\tlearn: 0.2150357\ttotal: 2.6s\tremaining: 3.67s\n",
      "415:\tlearn: 0.2146407\ttotal: 2.61s\tremaining: 3.66s\n",
      "416:\tlearn: 0.2143981\ttotal: 2.62s\tremaining: 3.66s\n",
      "417:\tlearn: 0.2141327\ttotal: 2.62s\tremaining: 3.65s\n",
      "418:\tlearn: 0.2136475\ttotal: 2.63s\tremaining: 3.64s\n",
      "419:\tlearn: 0.2132909\ttotal: 2.63s\tremaining: 3.64s\n",
      "420:\tlearn: 0.2128091\ttotal: 2.64s\tremaining: 3.63s\n",
      "421:\tlearn: 0.2123706\ttotal: 2.65s\tremaining: 3.63s\n",
      "422:\tlearn: 0.2121672\ttotal: 2.65s\tremaining: 3.62s\n",
      "423:\tlearn: 0.2116563\ttotal: 2.66s\tremaining: 3.61s\n",
      "424:\tlearn: 0.2113011\ttotal: 2.67s\tremaining: 3.61s\n",
      "425:\tlearn: 0.2110666\ttotal: 2.67s\tremaining: 3.6s\n",
      "426:\tlearn: 0.2105147\ttotal: 2.68s\tremaining: 3.6s\n",
      "427:\tlearn: 0.2104080\ttotal: 2.68s\tremaining: 3.59s\n",
      "428:\tlearn: 0.2101660\ttotal: 2.69s\tremaining: 3.58s\n",
      "429:\tlearn: 0.2099360\ttotal: 2.7s\tremaining: 3.57s\n",
      "430:\tlearn: 0.2095905\ttotal: 2.7s\tremaining: 3.57s\n",
      "431:\tlearn: 0.2091505\ttotal: 2.71s\tremaining: 3.56s\n",
      "432:\tlearn: 0.2088569\ttotal: 2.71s\tremaining: 3.55s\n",
      "433:\tlearn: 0.2083422\ttotal: 2.72s\tremaining: 3.55s\n",
      "434:\tlearn: 0.2080002\ttotal: 2.73s\tremaining: 3.54s\n",
      "435:\tlearn: 0.2076250\ttotal: 2.73s\tremaining: 3.53s\n",
      "436:\tlearn: 0.2073730\ttotal: 2.74s\tremaining: 3.53s\n",
      "437:\tlearn: 0.2070025\ttotal: 2.74s\tremaining: 3.52s\n",
      "438:\tlearn: 0.2066214\ttotal: 2.75s\tremaining: 3.51s\n",
      "439:\tlearn: 0.2063954\ttotal: 2.75s\tremaining: 3.5s\n",
      "440:\tlearn: 0.2061288\ttotal: 2.76s\tremaining: 3.5s\n",
      "441:\tlearn: 0.2056949\ttotal: 2.77s\tremaining: 3.49s\n",
      "442:\tlearn: 0.2053237\ttotal: 2.77s\tremaining: 3.49s\n",
      "443:\tlearn: 0.2048737\ttotal: 2.78s\tremaining: 3.48s\n",
      "444:\tlearn: 0.2045245\ttotal: 2.79s\tremaining: 3.47s\n",
      "445:\tlearn: 0.2042228\ttotal: 2.79s\tremaining: 3.47s\n",
      "446:\tlearn: 0.2038831\ttotal: 2.8s\tremaining: 3.46s\n",
      "447:\tlearn: 0.2034466\ttotal: 2.8s\tremaining: 3.46s\n",
      "448:\tlearn: 0.2030212\ttotal: 2.81s\tremaining: 3.45s\n",
      "449:\tlearn: 0.2028670\ttotal: 2.82s\tremaining: 3.44s\n",
      "450:\tlearn: 0.2025169\ttotal: 2.82s\tremaining: 3.44s\n",
      "451:\tlearn: 0.2022799\ttotal: 2.83s\tremaining: 3.43s\n",
      "452:\tlearn: 0.2020970\ttotal: 2.83s\tremaining: 3.42s\n",
      "453:\tlearn: 0.2018375\ttotal: 2.84s\tremaining: 3.41s\n",
      "454:\tlearn: 0.2016068\ttotal: 2.84s\tremaining: 3.41s\n",
      "455:\tlearn: 0.2010516\ttotal: 2.85s\tremaining: 3.4s\n",
      "456:\tlearn: 0.2007814\ttotal: 2.86s\tremaining: 3.39s\n",
      "457:\tlearn: 0.2004848\ttotal: 2.86s\tremaining: 3.39s\n",
      "458:\tlearn: 0.2001407\ttotal: 2.87s\tremaining: 3.38s\n",
      "459:\tlearn: 0.1998545\ttotal: 2.87s\tremaining: 3.37s\n",
      "460:\tlearn: 0.1995602\ttotal: 2.88s\tremaining: 3.37s\n",
      "461:\tlearn: 0.1992455\ttotal: 2.88s\tremaining: 3.36s\n",
      "462:\tlearn: 0.1989277\ttotal: 2.89s\tremaining: 3.35s\n",
      "463:\tlearn: 0.1986153\ttotal: 2.9s\tremaining: 3.35s\n",
      "464:\tlearn: 0.1980672\ttotal: 2.9s\tremaining: 3.34s\n",
      "465:\tlearn: 0.1978529\ttotal: 2.91s\tremaining: 3.33s\n",
      "466:\tlearn: 0.1975060\ttotal: 2.91s\tremaining: 3.33s\n",
      "467:\tlearn: 0.1972940\ttotal: 2.92s\tremaining: 3.32s\n",
      "468:\tlearn: 0.1970884\ttotal: 2.93s\tremaining: 3.31s\n",
      "469:\tlearn: 0.1966123\ttotal: 2.93s\tremaining: 3.31s\n",
      "470:\tlearn: 0.1961832\ttotal: 2.94s\tremaining: 3.3s\n",
      "471:\tlearn: 0.1959549\ttotal: 2.94s\tremaining: 3.29s\n",
      "472:\tlearn: 0.1957183\ttotal: 2.95s\tremaining: 3.29s\n",
      "473:\tlearn: 0.1953816\ttotal: 2.96s\tremaining: 3.28s\n",
      "474:\tlearn: 0.1950730\ttotal: 2.96s\tremaining: 3.27s\n",
      "475:\tlearn: 0.1949443\ttotal: 2.97s\tremaining: 3.27s\n",
      "476:\tlearn: 0.1945997\ttotal: 2.97s\tremaining: 3.26s\n",
      "477:\tlearn: 0.1942155\ttotal: 2.98s\tremaining: 3.25s\n",
      "478:\tlearn: 0.1939043\ttotal: 2.99s\tremaining: 3.25s\n",
      "479:\tlearn: 0.1936460\ttotal: 2.99s\tremaining: 3.24s\n",
      "480:\tlearn: 0.1934592\ttotal: 3s\tremaining: 3.24s\n",
      "481:\tlearn: 0.1932592\ttotal: 3s\tremaining: 3.23s\n",
      "482:\tlearn: 0.1929139\ttotal: 3.01s\tremaining: 3.22s\n",
      "483:\tlearn: 0.1926213\ttotal: 3.02s\tremaining: 3.22s\n",
      "484:\tlearn: 0.1924127\ttotal: 3.02s\tremaining: 3.21s\n",
      "485:\tlearn: 0.1922715\ttotal: 3.03s\tremaining: 3.21s\n",
      "486:\tlearn: 0.1920585\ttotal: 3.04s\tremaining: 3.2s\n",
      "487:\tlearn: 0.1916457\ttotal: 3.04s\tremaining: 3.19s\n",
      "488:\tlearn: 0.1914518\ttotal: 3.05s\tremaining: 3.19s\n",
      "489:\tlearn: 0.1912380\ttotal: 3.05s\tremaining: 3.18s\n",
      "490:\tlearn: 0.1909034\ttotal: 3.06s\tremaining: 3.17s\n",
      "491:\tlearn: 0.1905479\ttotal: 3.07s\tremaining: 3.17s\n",
      "492:\tlearn: 0.1902664\ttotal: 3.07s\tremaining: 3.16s\n",
      "493:\tlearn: 0.1899126\ttotal: 3.08s\tremaining: 3.15s\n",
      "494:\tlearn: 0.1896632\ttotal: 3.09s\tremaining: 3.15s\n",
      "495:\tlearn: 0.1893716\ttotal: 3.09s\tremaining: 3.14s\n",
      "496:\tlearn: 0.1890412\ttotal: 3.1s\tremaining: 3.14s\n",
      "497:\tlearn: 0.1887259\ttotal: 3.1s\tremaining: 3.13s\n",
      "498:\tlearn: 0.1885603\ttotal: 3.11s\tremaining: 3.12s\n",
      "499:\tlearn: 0.1881641\ttotal: 3.12s\tremaining: 3.12s\n",
      "500:\tlearn: 0.1878049\ttotal: 3.12s\tremaining: 3.11s\n",
      "501:\tlearn: 0.1876024\ttotal: 3.13s\tremaining: 3.1s\n",
      "502:\tlearn: 0.1872817\ttotal: 3.13s\tremaining: 3.1s\n",
      "503:\tlearn: 0.1869758\ttotal: 3.14s\tremaining: 3.09s\n",
      "504:\tlearn: 0.1866753\ttotal: 3.15s\tremaining: 3.08s\n",
      "505:\tlearn: 0.1865023\ttotal: 3.15s\tremaining: 3.08s\n",
      "506:\tlearn: 0.1862321\ttotal: 3.16s\tremaining: 3.07s\n",
      "507:\tlearn: 0.1859104\ttotal: 3.16s\tremaining: 3.06s\n",
      "508:\tlearn: 0.1854234\ttotal: 3.17s\tremaining: 3.06s\n",
      "509:\tlearn: 0.1852192\ttotal: 3.17s\tremaining: 3.05s\n",
      "510:\tlearn: 0.1848498\ttotal: 3.18s\tremaining: 3.04s\n",
      "511:\tlearn: 0.1846963\ttotal: 3.19s\tremaining: 3.04s\n",
      "512:\tlearn: 0.1842559\ttotal: 3.19s\tremaining: 3.03s\n",
      "513:\tlearn: 0.1840441\ttotal: 3.2s\tremaining: 3.03s\n",
      "514:\tlearn: 0.1837629\ttotal: 3.21s\tremaining: 3.02s\n",
      "515:\tlearn: 0.1836113\ttotal: 3.21s\tremaining: 3.01s\n",
      "516:\tlearn: 0.1833628\ttotal: 3.22s\tremaining: 3.01s\n",
      "517:\tlearn: 0.1830708\ttotal: 3.22s\tremaining: 3s\n",
      "518:\tlearn: 0.1827524\ttotal: 3.23s\tremaining: 2.99s\n",
      "519:\tlearn: 0.1824289\ttotal: 3.24s\tremaining: 2.99s\n",
      "520:\tlearn: 0.1822150\ttotal: 3.24s\tremaining: 2.98s\n",
      "521:\tlearn: 0.1821026\ttotal: 3.25s\tremaining: 2.97s\n",
      "522:\tlearn: 0.1818296\ttotal: 3.25s\tremaining: 2.97s\n",
      "523:\tlearn: 0.1814791\ttotal: 3.26s\tremaining: 2.96s\n",
      "524:\tlearn: 0.1811387\ttotal: 3.27s\tremaining: 2.95s\n",
      "525:\tlearn: 0.1807875\ttotal: 3.27s\tremaining: 2.95s\n",
      "526:\tlearn: 0.1804165\ttotal: 3.28s\tremaining: 2.94s\n",
      "527:\tlearn: 0.1802508\ttotal: 3.28s\tremaining: 2.93s\n",
      "528:\tlearn: 0.1800093\ttotal: 3.29s\tremaining: 2.93s\n",
      "529:\tlearn: 0.1796726\ttotal: 3.29s\tremaining: 2.92s\n",
      "530:\tlearn: 0.1794897\ttotal: 3.3s\tremaining: 2.92s\n",
      "531:\tlearn: 0.1792915\ttotal: 3.31s\tremaining: 2.91s\n",
      "532:\tlearn: 0.1788742\ttotal: 3.31s\tremaining: 2.9s\n",
      "533:\tlearn: 0.1785409\ttotal: 3.32s\tremaining: 2.9s\n",
      "534:\tlearn: 0.1783649\ttotal: 3.33s\tremaining: 2.89s\n",
      "535:\tlearn: 0.1782385\ttotal: 3.33s\tremaining: 2.88s\n",
      "536:\tlearn: 0.1779997\ttotal: 3.34s\tremaining: 2.88s\n",
      "537:\tlearn: 0.1775812\ttotal: 3.34s\tremaining: 2.87s\n",
      "538:\tlearn: 0.1772302\ttotal: 3.35s\tremaining: 2.87s\n",
      "539:\tlearn: 0.1769923\ttotal: 3.36s\tremaining: 2.86s\n",
      "540:\tlearn: 0.1767609\ttotal: 3.36s\tremaining: 2.85s\n",
      "541:\tlearn: 0.1765361\ttotal: 3.37s\tremaining: 2.85s\n",
      "542:\tlearn: 0.1762913\ttotal: 3.38s\tremaining: 2.84s\n",
      "543:\tlearn: 0.1761465\ttotal: 3.38s\tremaining: 2.83s\n",
      "544:\tlearn: 0.1759137\ttotal: 3.39s\tremaining: 2.83s\n",
      "545:\tlearn: 0.1754720\ttotal: 3.39s\tremaining: 2.82s\n",
      "546:\tlearn: 0.1750784\ttotal: 3.4s\tremaining: 2.81s\n",
      "547:\tlearn: 0.1749530\ttotal: 3.4s\tremaining: 2.81s\n",
      "548:\tlearn: 0.1746930\ttotal: 3.41s\tremaining: 2.8s\n",
      "549:\tlearn: 0.1742492\ttotal: 3.42s\tremaining: 2.79s\n",
      "550:\tlearn: 0.1739729\ttotal: 3.42s\tremaining: 2.79s\n",
      "551:\tlearn: 0.1734974\ttotal: 3.43s\tremaining: 2.78s\n",
      "552:\tlearn: 0.1731610\ttotal: 3.43s\tremaining: 2.77s\n",
      "553:\tlearn: 0.1729774\ttotal: 3.44s\tremaining: 2.77s\n",
      "554:\tlearn: 0.1726419\ttotal: 3.44s\tremaining: 2.76s\n",
      "555:\tlearn: 0.1723991\ttotal: 3.45s\tremaining: 2.75s\n",
      "556:\tlearn: 0.1721947\ttotal: 3.46s\tremaining: 2.75s\n",
      "557:\tlearn: 0.1719888\ttotal: 3.46s\tremaining: 2.74s\n",
      "558:\tlearn: 0.1717950\ttotal: 3.47s\tremaining: 2.73s\n",
      "559:\tlearn: 0.1715628\ttotal: 3.47s\tremaining: 2.73s\n",
      "560:\tlearn: 0.1711944\ttotal: 3.48s\tremaining: 2.72s\n",
      "561:\tlearn: 0.1710300\ttotal: 3.48s\tremaining: 2.71s\n",
      "562:\tlearn: 0.1707708\ttotal: 3.49s\tremaining: 2.71s\n",
      "563:\tlearn: 0.1705429\ttotal: 3.49s\tremaining: 2.7s\n",
      "564:\tlearn: 0.1703934\ttotal: 3.5s\tremaining: 2.69s\n",
      "565:\tlearn: 0.1701155\ttotal: 3.5s\tremaining: 2.69s\n",
      "566:\tlearn: 0.1698906\ttotal: 3.51s\tremaining: 2.68s\n",
      "567:\tlearn: 0.1696059\ttotal: 3.52s\tremaining: 2.67s\n",
      "568:\tlearn: 0.1694420\ttotal: 3.52s\tremaining: 2.67s\n",
      "569:\tlearn: 0.1690535\ttotal: 3.53s\tremaining: 2.66s\n",
      "570:\tlearn: 0.1688749\ttotal: 3.53s\tremaining: 2.65s\n",
      "571:\tlearn: 0.1684510\ttotal: 3.54s\tremaining: 2.65s\n",
      "572:\tlearn: 0.1682594\ttotal: 3.54s\tremaining: 2.64s\n",
      "573:\tlearn: 0.1681429\ttotal: 3.55s\tremaining: 2.63s\n",
      "574:\tlearn: 0.1679222\ttotal: 3.56s\tremaining: 2.63s\n",
      "575:\tlearn: 0.1676694\ttotal: 3.56s\tremaining: 2.62s\n",
      "576:\tlearn: 0.1674471\ttotal: 3.57s\tremaining: 2.62s\n",
      "577:\tlearn: 0.1671283\ttotal: 3.57s\tremaining: 2.61s\n",
      "578:\tlearn: 0.1669262\ttotal: 3.58s\tremaining: 2.6s\n",
      "579:\tlearn: 0.1665835\ttotal: 3.59s\tremaining: 2.6s\n",
      "580:\tlearn: 0.1661915\ttotal: 3.59s\tremaining: 2.59s\n",
      "581:\tlearn: 0.1659531\ttotal: 3.6s\tremaining: 2.58s\n",
      "582:\tlearn: 0.1657813\ttotal: 3.6s\tremaining: 2.58s\n",
      "583:\tlearn: 0.1656269\ttotal: 3.61s\tremaining: 2.57s\n",
      "584:\tlearn: 0.1654272\ttotal: 3.62s\tremaining: 2.56s\n",
      "585:\tlearn: 0.1651092\ttotal: 3.62s\tremaining: 2.56s\n",
      "586:\tlearn: 0.1647145\ttotal: 3.63s\tremaining: 2.55s\n",
      "587:\tlearn: 0.1644764\ttotal: 3.63s\tremaining: 2.54s\n",
      "588:\tlearn: 0.1642110\ttotal: 3.64s\tremaining: 2.54s\n",
      "589:\tlearn: 0.1640467\ttotal: 3.65s\tremaining: 2.53s\n",
      "590:\tlearn: 0.1637910\ttotal: 3.65s\tremaining: 2.53s\n",
      "591:\tlearn: 0.1635847\ttotal: 3.66s\tremaining: 2.52s\n",
      "592:\tlearn: 0.1632097\ttotal: 3.66s\tremaining: 2.51s\n",
      "593:\tlearn: 0.1629855\ttotal: 3.67s\tremaining: 2.51s\n",
      "594:\tlearn: 0.1627928\ttotal: 3.67s\tremaining: 2.5s\n",
      "595:\tlearn: 0.1625351\ttotal: 3.68s\tremaining: 2.49s\n",
      "596:\tlearn: 0.1623229\ttotal: 3.69s\tremaining: 2.49s\n",
      "597:\tlearn: 0.1622394\ttotal: 3.69s\tremaining: 2.48s\n",
      "598:\tlearn: 0.1620264\ttotal: 3.7s\tremaining: 2.48s\n",
      "599:\tlearn: 0.1618397\ttotal: 3.7s\tremaining: 2.47s\n",
      "600:\tlearn: 0.1613372\ttotal: 3.71s\tremaining: 2.46s\n",
      "601:\tlearn: 0.1612267\ttotal: 3.71s\tremaining: 2.46s\n",
      "602:\tlearn: 0.1611073\ttotal: 3.72s\tremaining: 2.45s\n",
      "603:\tlearn: 0.1609438\ttotal: 3.73s\tremaining: 2.44s\n",
      "604:\tlearn: 0.1607257\ttotal: 3.73s\tremaining: 2.44s\n",
      "605:\tlearn: 0.1604549\ttotal: 3.74s\tremaining: 2.43s\n",
      "606:\tlearn: 0.1601829\ttotal: 3.74s\tremaining: 2.42s\n",
      "607:\tlearn: 0.1598614\ttotal: 3.75s\tremaining: 2.42s\n",
      "608:\tlearn: 0.1596753\ttotal: 3.76s\tremaining: 2.41s\n",
      "609:\tlearn: 0.1593819\ttotal: 3.76s\tremaining: 2.4s\n",
      "610:\tlearn: 0.1591592\ttotal: 3.77s\tremaining: 2.4s\n",
      "611:\tlearn: 0.1589556\ttotal: 3.77s\tremaining: 2.39s\n",
      "612:\tlearn: 0.1588164\ttotal: 3.78s\tremaining: 2.39s\n",
      "613:\tlearn: 0.1584874\ttotal: 3.79s\tremaining: 2.38s\n",
      "614:\tlearn: 0.1582238\ttotal: 3.79s\tremaining: 2.38s\n",
      "615:\tlearn: 0.1579562\ttotal: 3.8s\tremaining: 2.37s\n",
      "616:\tlearn: 0.1577237\ttotal: 3.81s\tremaining: 2.36s\n",
      "617:\tlearn: 0.1575008\ttotal: 3.81s\tremaining: 2.36s\n",
      "618:\tlearn: 0.1573169\ttotal: 3.82s\tremaining: 2.35s\n",
      "619:\tlearn: 0.1570599\ttotal: 3.83s\tremaining: 2.35s\n",
      "620:\tlearn: 0.1567230\ttotal: 3.83s\tremaining: 2.34s\n",
      "621:\tlearn: 0.1565865\ttotal: 3.84s\tremaining: 2.33s\n",
      "622:\tlearn: 0.1564458\ttotal: 3.85s\tremaining: 2.33s\n",
      "623:\tlearn: 0.1562251\ttotal: 3.85s\tremaining: 2.32s\n",
      "624:\tlearn: 0.1560263\ttotal: 3.86s\tremaining: 2.31s\n",
      "625:\tlearn: 0.1557556\ttotal: 3.86s\tremaining: 2.31s\n",
      "626:\tlearn: 0.1555039\ttotal: 3.87s\tremaining: 2.3s\n",
      "627:\tlearn: 0.1551811\ttotal: 3.88s\tremaining: 2.3s\n",
      "628:\tlearn: 0.1550627\ttotal: 3.88s\tremaining: 2.29s\n",
      "629:\tlearn: 0.1548427\ttotal: 3.89s\tremaining: 2.28s\n",
      "630:\tlearn: 0.1546199\ttotal: 3.9s\tremaining: 2.28s\n",
      "631:\tlearn: 0.1542969\ttotal: 3.9s\tremaining: 2.27s\n",
      "632:\tlearn: 0.1540613\ttotal: 3.91s\tremaining: 2.27s\n",
      "633:\tlearn: 0.1538187\ttotal: 3.91s\tremaining: 2.26s\n",
      "634:\tlearn: 0.1536257\ttotal: 3.92s\tremaining: 2.25s\n",
      "635:\tlearn: 0.1533849\ttotal: 3.93s\tremaining: 2.25s\n",
      "636:\tlearn: 0.1530307\ttotal: 3.93s\tremaining: 2.24s\n",
      "637:\tlearn: 0.1527225\ttotal: 3.94s\tremaining: 2.23s\n",
      "638:\tlearn: 0.1525273\ttotal: 3.95s\tremaining: 2.23s\n",
      "639:\tlearn: 0.1522042\ttotal: 3.95s\tremaining: 2.22s\n",
      "640:\tlearn: 0.1519456\ttotal: 3.96s\tremaining: 2.22s\n",
      "641:\tlearn: 0.1516482\ttotal: 3.96s\tremaining: 2.21s\n",
      "642:\tlearn: 0.1515005\ttotal: 3.97s\tremaining: 2.2s\n",
      "643:\tlearn: 0.1512250\ttotal: 3.98s\tremaining: 2.2s\n",
      "644:\tlearn: 0.1510377\ttotal: 3.98s\tremaining: 2.19s\n",
      "645:\tlearn: 0.1508662\ttotal: 3.99s\tremaining: 2.19s\n",
      "646:\tlearn: 0.1505695\ttotal: 3.99s\tremaining: 2.18s\n",
      "647:\tlearn: 0.1503435\ttotal: 4s\tremaining: 2.17s\n",
      "648:\tlearn: 0.1501697\ttotal: 4.01s\tremaining: 2.17s\n",
      "649:\tlearn: 0.1499910\ttotal: 4.01s\tremaining: 2.16s\n",
      "650:\tlearn: 0.1497666\ttotal: 4.02s\tremaining: 2.15s\n",
      "651:\tlearn: 0.1494808\ttotal: 4.03s\tremaining: 2.15s\n",
      "652:\tlearn: 0.1493430\ttotal: 4.03s\tremaining: 2.14s\n",
      "653:\tlearn: 0.1491046\ttotal: 4.04s\tremaining: 2.14s\n",
      "654:\tlearn: 0.1489846\ttotal: 4.04s\tremaining: 2.13s\n",
      "655:\tlearn: 0.1486919\ttotal: 4.05s\tremaining: 2.12s\n",
      "656:\tlearn: 0.1484550\ttotal: 4.06s\tremaining: 2.12s\n",
      "657:\tlearn: 0.1482591\ttotal: 4.06s\tremaining: 2.11s\n",
      "658:\tlearn: 0.1480331\ttotal: 4.07s\tremaining: 2.1s\n",
      "659:\tlearn: 0.1478826\ttotal: 4.07s\tremaining: 2.1s\n",
      "660:\tlearn: 0.1477073\ttotal: 4.08s\tremaining: 2.09s\n",
      "661:\tlearn: 0.1474281\ttotal: 4.09s\tremaining: 2.09s\n",
      "662:\tlearn: 0.1472447\ttotal: 4.09s\tremaining: 2.08s\n",
      "663:\tlearn: 0.1469613\ttotal: 4.1s\tremaining: 2.07s\n",
      "664:\tlearn: 0.1468402\ttotal: 4.1s\tremaining: 2.07s\n",
      "665:\tlearn: 0.1466496\ttotal: 4.11s\tremaining: 2.06s\n",
      "666:\tlearn: 0.1464026\ttotal: 4.12s\tremaining: 2.06s\n",
      "667:\tlearn: 0.1462447\ttotal: 4.12s\tremaining: 2.05s\n",
      "668:\tlearn: 0.1460012\ttotal: 4.13s\tremaining: 2.04s\n",
      "669:\tlearn: 0.1457595\ttotal: 4.14s\tremaining: 2.04s\n",
      "670:\tlearn: 0.1456690\ttotal: 4.14s\tremaining: 2.03s\n",
      "671:\tlearn: 0.1454224\ttotal: 4.15s\tremaining: 2.02s\n",
      "672:\tlearn: 0.1451018\ttotal: 4.16s\tremaining: 2.02s\n",
      "673:\tlearn: 0.1449337\ttotal: 4.16s\tremaining: 2.01s\n",
      "674:\tlearn: 0.1447069\ttotal: 4.17s\tremaining: 2.01s\n",
      "675:\tlearn: 0.1444428\ttotal: 4.17s\tremaining: 2s\n",
      "676:\tlearn: 0.1442745\ttotal: 4.18s\tremaining: 1.99s\n",
      "677:\tlearn: 0.1441086\ttotal: 4.19s\tremaining: 1.99s\n",
      "678:\tlearn: 0.1437668\ttotal: 4.19s\tremaining: 1.98s\n",
      "679:\tlearn: 0.1435767\ttotal: 4.2s\tremaining: 1.98s\n",
      "680:\tlearn: 0.1432759\ttotal: 4.2s\tremaining: 1.97s\n",
      "681:\tlearn: 0.1430634\ttotal: 4.21s\tremaining: 1.96s\n",
      "682:\tlearn: 0.1428499\ttotal: 4.21s\tremaining: 1.96s\n",
      "683:\tlearn: 0.1425904\ttotal: 4.22s\tremaining: 1.95s\n",
      "684:\tlearn: 0.1424498\ttotal: 4.23s\tremaining: 1.94s\n",
      "685:\tlearn: 0.1422542\ttotal: 4.23s\tremaining: 1.94s\n",
      "686:\tlearn: 0.1420986\ttotal: 4.24s\tremaining: 1.93s\n",
      "687:\tlearn: 0.1418432\ttotal: 4.24s\tremaining: 1.92s\n",
      "688:\tlearn: 0.1415899\ttotal: 4.25s\tremaining: 1.92s\n",
      "689:\tlearn: 0.1413432\ttotal: 4.26s\tremaining: 1.91s\n",
      "690:\tlearn: 0.1411414\ttotal: 4.26s\tremaining: 1.91s\n",
      "691:\tlearn: 0.1408318\ttotal: 4.27s\tremaining: 1.9s\n",
      "692:\tlearn: 0.1406172\ttotal: 4.27s\tremaining: 1.89s\n",
      "693:\tlearn: 0.1404819\ttotal: 4.28s\tremaining: 1.89s\n",
      "694:\tlearn: 0.1403077\ttotal: 4.28s\tremaining: 1.88s\n",
      "695:\tlearn: 0.1399670\ttotal: 4.29s\tremaining: 1.87s\n",
      "696:\tlearn: 0.1396930\ttotal: 4.3s\tremaining: 1.87s\n",
      "697:\tlearn: 0.1395570\ttotal: 4.3s\tremaining: 1.86s\n",
      "698:\tlearn: 0.1393872\ttotal: 4.31s\tremaining: 1.85s\n",
      "699:\tlearn: 0.1391678\ttotal: 4.31s\tremaining: 1.85s\n",
      "700:\tlearn: 0.1390018\ttotal: 4.32s\tremaining: 1.84s\n",
      "701:\tlearn: 0.1386579\ttotal: 4.33s\tremaining: 1.84s\n",
      "702:\tlearn: 0.1385122\ttotal: 4.33s\tremaining: 1.83s\n",
      "703:\tlearn: 0.1383674\ttotal: 4.34s\tremaining: 1.82s\n",
      "704:\tlearn: 0.1382936\ttotal: 4.34s\tremaining: 1.82s\n",
      "705:\tlearn: 0.1381381\ttotal: 4.35s\tremaining: 1.81s\n",
      "706:\tlearn: 0.1380045\ttotal: 4.35s\tremaining: 1.8s\n",
      "707:\tlearn: 0.1377173\ttotal: 4.36s\tremaining: 1.8s\n",
      "708:\tlearn: 0.1374009\ttotal: 4.37s\tremaining: 1.79s\n",
      "709:\tlearn: 0.1372778\ttotal: 4.37s\tremaining: 1.78s\n",
      "710:\tlearn: 0.1370513\ttotal: 4.38s\tremaining: 1.78s\n",
      "711:\tlearn: 0.1368496\ttotal: 4.38s\tremaining: 1.77s\n",
      "712:\tlearn: 0.1367367\ttotal: 4.39s\tremaining: 1.77s\n",
      "713:\tlearn: 0.1365989\ttotal: 4.4s\tremaining: 1.76s\n",
      "714:\tlearn: 0.1364132\ttotal: 4.4s\tremaining: 1.75s\n",
      "715:\tlearn: 0.1362445\ttotal: 4.41s\tremaining: 1.75s\n",
      "716:\tlearn: 0.1360086\ttotal: 4.42s\tremaining: 1.74s\n",
      "717:\tlearn: 0.1358060\ttotal: 4.42s\tremaining: 1.74s\n",
      "718:\tlearn: 0.1357066\ttotal: 4.43s\tremaining: 1.73s\n",
      "719:\tlearn: 0.1354745\ttotal: 4.44s\tremaining: 1.73s\n",
      "720:\tlearn: 0.1352002\ttotal: 4.44s\tremaining: 1.72s\n",
      "721:\tlearn: 0.1350246\ttotal: 4.45s\tremaining: 1.71s\n",
      "722:\tlearn: 0.1348334\ttotal: 4.46s\tremaining: 1.71s\n",
      "723:\tlearn: 0.1346616\ttotal: 4.46s\tremaining: 1.7s\n",
      "724:\tlearn: 0.1345602\ttotal: 4.47s\tremaining: 1.69s\n",
      "725:\tlearn: 0.1343555\ttotal: 4.47s\tremaining: 1.69s\n",
      "726:\tlearn: 0.1341879\ttotal: 4.48s\tremaining: 1.68s\n",
      "727:\tlearn: 0.1339129\ttotal: 4.49s\tremaining: 1.68s\n",
      "728:\tlearn: 0.1337361\ttotal: 4.49s\tremaining: 1.67s\n",
      "729:\tlearn: 0.1334449\ttotal: 4.5s\tremaining: 1.66s\n",
      "730:\tlearn: 0.1332318\ttotal: 4.5s\tremaining: 1.66s\n",
      "731:\tlearn: 0.1330074\ttotal: 4.51s\tremaining: 1.65s\n",
      "732:\tlearn: 0.1328338\ttotal: 4.52s\tremaining: 1.65s\n",
      "733:\tlearn: 0.1326697\ttotal: 4.52s\tremaining: 1.64s\n",
      "734:\tlearn: 0.1325185\ttotal: 4.53s\tremaining: 1.63s\n",
      "735:\tlearn: 0.1324185\ttotal: 4.53s\tremaining: 1.63s\n",
      "736:\tlearn: 0.1322837\ttotal: 4.54s\tremaining: 1.62s\n",
      "737:\tlearn: 0.1321159\ttotal: 4.54s\tremaining: 1.61s\n",
      "738:\tlearn: 0.1319631\ttotal: 4.55s\tremaining: 1.61s\n",
      "739:\tlearn: 0.1317641\ttotal: 4.56s\tremaining: 1.6s\n",
      "740:\tlearn: 0.1315033\ttotal: 4.56s\tremaining: 1.59s\n",
      "741:\tlearn: 0.1313418\ttotal: 4.57s\tremaining: 1.59s\n",
      "742:\tlearn: 0.1312059\ttotal: 4.58s\tremaining: 1.58s\n",
      "743:\tlearn: 0.1309130\ttotal: 4.58s\tremaining: 1.58s\n",
      "744:\tlearn: 0.1306064\ttotal: 4.59s\tremaining: 1.57s\n",
      "745:\tlearn: 0.1303810\ttotal: 4.59s\tremaining: 1.56s\n",
      "746:\tlearn: 0.1302615\ttotal: 4.6s\tremaining: 1.56s\n",
      "747:\tlearn: 0.1301123\ttotal: 4.61s\tremaining: 1.55s\n",
      "748:\tlearn: 0.1298973\ttotal: 4.61s\tremaining: 1.55s\n",
      "749:\tlearn: 0.1296911\ttotal: 4.62s\tremaining: 1.54s\n",
      "750:\tlearn: 0.1295745\ttotal: 4.63s\tremaining: 1.53s\n",
      "751:\tlearn: 0.1294565\ttotal: 4.63s\tremaining: 1.53s\n",
      "752:\tlearn: 0.1292460\ttotal: 4.64s\tremaining: 1.52s\n",
      "753:\tlearn: 0.1290657\ttotal: 4.65s\tremaining: 1.52s\n",
      "754:\tlearn: 0.1287917\ttotal: 4.65s\tremaining: 1.51s\n",
      "755:\tlearn: 0.1285155\ttotal: 4.66s\tremaining: 1.5s\n",
      "756:\tlearn: 0.1283624\ttotal: 4.67s\tremaining: 1.5s\n",
      "757:\tlearn: 0.1281655\ttotal: 4.67s\tremaining: 1.49s\n",
      "758:\tlearn: 0.1279731\ttotal: 4.68s\tremaining: 1.49s\n",
      "759:\tlearn: 0.1277750\ttotal: 4.69s\tremaining: 1.48s\n",
      "760:\tlearn: 0.1276530\ttotal: 4.69s\tremaining: 1.47s\n",
      "761:\tlearn: 0.1273796\ttotal: 4.7s\tremaining: 1.47s\n",
      "762:\tlearn: 0.1271428\ttotal: 4.71s\tremaining: 1.46s\n",
      "763:\tlearn: 0.1270080\ttotal: 4.71s\tremaining: 1.46s\n",
      "764:\tlearn: 0.1268046\ttotal: 4.72s\tremaining: 1.45s\n",
      "765:\tlearn: 0.1265995\ttotal: 4.72s\tremaining: 1.44s\n",
      "766:\tlearn: 0.1264490\ttotal: 4.73s\tremaining: 1.44s\n",
      "767:\tlearn: 0.1262829\ttotal: 4.73s\tremaining: 1.43s\n",
      "768:\tlearn: 0.1261483\ttotal: 4.74s\tremaining: 1.42s\n",
      "769:\tlearn: 0.1260237\ttotal: 4.75s\tremaining: 1.42s\n",
      "770:\tlearn: 0.1258932\ttotal: 4.75s\tremaining: 1.41s\n",
      "771:\tlearn: 0.1257241\ttotal: 4.76s\tremaining: 1.41s\n",
      "772:\tlearn: 0.1255785\ttotal: 4.76s\tremaining: 1.4s\n",
      "773:\tlearn: 0.1254411\ttotal: 4.77s\tremaining: 1.39s\n",
      "774:\tlearn: 0.1252120\ttotal: 4.78s\tremaining: 1.39s\n",
      "775:\tlearn: 0.1251023\ttotal: 4.78s\tremaining: 1.38s\n",
      "776:\tlearn: 0.1248668\ttotal: 4.79s\tremaining: 1.37s\n",
      "777:\tlearn: 0.1246413\ttotal: 4.79s\tremaining: 1.37s\n",
      "778:\tlearn: 0.1245158\ttotal: 4.8s\tremaining: 1.36s\n",
      "779:\tlearn: 0.1242876\ttotal: 4.8s\tremaining: 1.35s\n",
      "780:\tlearn: 0.1241333\ttotal: 4.81s\tremaining: 1.35s\n",
      "781:\tlearn: 0.1239798\ttotal: 4.82s\tremaining: 1.34s\n",
      "782:\tlearn: 0.1237542\ttotal: 4.82s\tremaining: 1.34s\n",
      "783:\tlearn: 0.1235055\ttotal: 4.83s\tremaining: 1.33s\n",
      "784:\tlearn: 0.1232456\ttotal: 4.83s\tremaining: 1.32s\n",
      "785:\tlearn: 0.1230950\ttotal: 4.84s\tremaining: 1.32s\n",
      "786:\tlearn: 0.1229409\ttotal: 4.85s\tremaining: 1.31s\n",
      "787:\tlearn: 0.1228330\ttotal: 4.85s\tremaining: 1.3s\n",
      "788:\tlearn: 0.1225783\ttotal: 4.86s\tremaining: 1.3s\n",
      "789:\tlearn: 0.1224333\ttotal: 4.87s\tremaining: 1.29s\n",
      "790:\tlearn: 0.1222807\ttotal: 4.87s\tremaining: 1.29s\n",
      "791:\tlearn: 0.1221419\ttotal: 4.88s\tremaining: 1.28s\n",
      "792:\tlearn: 0.1219379\ttotal: 4.88s\tremaining: 1.27s\n",
      "793:\tlearn: 0.1217863\ttotal: 4.89s\tremaining: 1.27s\n",
      "794:\tlearn: 0.1216153\ttotal: 4.9s\tremaining: 1.26s\n",
      "795:\tlearn: 0.1215000\ttotal: 4.9s\tremaining: 1.26s\n",
      "796:\tlearn: 0.1213102\ttotal: 4.91s\tremaining: 1.25s\n",
      "797:\tlearn: 0.1211617\ttotal: 4.92s\tremaining: 1.24s\n",
      "798:\tlearn: 0.1210332\ttotal: 4.92s\tremaining: 1.24s\n",
      "799:\tlearn: 0.1209422\ttotal: 4.93s\tremaining: 1.23s\n",
      "800:\tlearn: 0.1208007\ttotal: 4.93s\tremaining: 1.23s\n",
      "801:\tlearn: 0.1205988\ttotal: 4.94s\tremaining: 1.22s\n",
      "802:\tlearn: 0.1203834\ttotal: 4.95s\tremaining: 1.21s\n",
      "803:\tlearn: 0.1201932\ttotal: 4.95s\tremaining: 1.21s\n",
      "804:\tlearn: 0.1200146\ttotal: 4.96s\tremaining: 1.2s\n",
      "805:\tlearn: 0.1198245\ttotal: 4.96s\tremaining: 1.2s\n",
      "806:\tlearn: 0.1196565\ttotal: 4.97s\tremaining: 1.19s\n",
      "807:\tlearn: 0.1195759\ttotal: 4.98s\tremaining: 1.18s\n",
      "808:\tlearn: 0.1193489\ttotal: 4.98s\tremaining: 1.18s\n",
      "809:\tlearn: 0.1191614\ttotal: 4.99s\tremaining: 1.17s\n",
      "810:\tlearn: 0.1190816\ttotal: 4.99s\tremaining: 1.16s\n",
      "811:\tlearn: 0.1188799\ttotal: 5s\tremaining: 1.16s\n",
      "812:\tlearn: 0.1186873\ttotal: 5.01s\tremaining: 1.15s\n",
      "813:\tlearn: 0.1184488\ttotal: 5.01s\tremaining: 1.15s\n",
      "814:\tlearn: 0.1182209\ttotal: 5.02s\tremaining: 1.14s\n",
      "815:\tlearn: 0.1180593\ttotal: 5.02s\tremaining: 1.13s\n",
      "816:\tlearn: 0.1179421\ttotal: 5.03s\tremaining: 1.13s\n",
      "817:\tlearn: 0.1177525\ttotal: 5.04s\tremaining: 1.12s\n",
      "818:\tlearn: 0.1176468\ttotal: 5.04s\tremaining: 1.11s\n",
      "819:\tlearn: 0.1174354\ttotal: 5.05s\tremaining: 1.11s\n",
      "820:\tlearn: 0.1173493\ttotal: 5.05s\tremaining: 1.1s\n",
      "821:\tlearn: 0.1171991\ttotal: 5.06s\tremaining: 1.09s\n",
      "822:\tlearn: 0.1170520\ttotal: 5.06s\tremaining: 1.09s\n",
      "823:\tlearn: 0.1168139\ttotal: 5.07s\tremaining: 1.08s\n",
      "824:\tlearn: 0.1166747\ttotal: 5.08s\tremaining: 1.08s\n",
      "825:\tlearn: 0.1164872\ttotal: 5.08s\tremaining: 1.07s\n",
      "826:\tlearn: 0.1163603\ttotal: 5.09s\tremaining: 1.06s\n",
      "827:\tlearn: 0.1161248\ttotal: 5.09s\tremaining: 1.06s\n",
      "828:\tlearn: 0.1159715\ttotal: 5.1s\tremaining: 1.05s\n",
      "829:\tlearn: 0.1158215\ttotal: 5.11s\tremaining: 1.04s\n",
      "830:\tlearn: 0.1156786\ttotal: 5.11s\tremaining: 1.04s\n",
      "831:\tlearn: 0.1155369\ttotal: 5.12s\tremaining: 1.03s\n",
      "832:\tlearn: 0.1153618\ttotal: 5.12s\tremaining: 1.03s\n",
      "833:\tlearn: 0.1152270\ttotal: 5.13s\tremaining: 1.02s\n",
      "834:\tlearn: 0.1150488\ttotal: 5.13s\tremaining: 1.01s\n",
      "835:\tlearn: 0.1149487\ttotal: 5.14s\tremaining: 1.01s\n",
      "836:\tlearn: 0.1147548\ttotal: 5.14s\tremaining: 1s\n",
      "837:\tlearn: 0.1146474\ttotal: 5.15s\tremaining: 996ms\n",
      "838:\tlearn: 0.1145233\ttotal: 5.16s\tremaining: 990ms\n",
      "839:\tlearn: 0.1143714\ttotal: 5.16s\tremaining: 983ms\n",
      "840:\tlearn: 0.1142228\ttotal: 5.17s\tremaining: 977ms\n",
      "841:\tlearn: 0.1139680\ttotal: 5.17s\tremaining: 971ms\n",
      "842:\tlearn: 0.1136949\ttotal: 5.18s\tremaining: 965ms\n",
      "843:\tlearn: 0.1135887\ttotal: 5.19s\tremaining: 959ms\n",
      "844:\tlearn: 0.1134606\ttotal: 5.19s\tremaining: 952ms\n",
      "845:\tlearn: 0.1133300\ttotal: 5.2s\tremaining: 946ms\n",
      "846:\tlearn: 0.1131496\ttotal: 5.2s\tremaining: 940ms\n",
      "847:\tlearn: 0.1129963\ttotal: 5.21s\tremaining: 934ms\n",
      "848:\tlearn: 0.1128394\ttotal: 5.21s\tremaining: 928ms\n",
      "849:\tlearn: 0.1126802\ttotal: 5.22s\tremaining: 921ms\n",
      "850:\tlearn: 0.1124296\ttotal: 5.23s\tremaining: 915ms\n",
      "851:\tlearn: 0.1122868\ttotal: 5.23s\tremaining: 909ms\n",
      "852:\tlearn: 0.1121005\ttotal: 5.24s\tremaining: 903ms\n",
      "853:\tlearn: 0.1119097\ttotal: 5.24s\tremaining: 897ms\n",
      "854:\tlearn: 0.1117850\ttotal: 5.25s\tremaining: 890ms\n",
      "855:\tlearn: 0.1116110\ttotal: 5.26s\tremaining: 884ms\n",
      "856:\tlearn: 0.1115554\ttotal: 5.26s\tremaining: 878ms\n",
      "857:\tlearn: 0.1115056\ttotal: 5.27s\tremaining: 872ms\n",
      "858:\tlearn: 0.1113525\ttotal: 5.27s\tremaining: 866ms\n",
      "859:\tlearn: 0.1111121\ttotal: 5.28s\tremaining: 859ms\n",
      "860:\tlearn: 0.1109444\ttotal: 5.29s\tremaining: 853ms\n",
      "861:\tlearn: 0.1106722\ttotal: 5.29s\tremaining: 847ms\n",
      "862:\tlearn: 0.1105524\ttotal: 5.3s\tremaining: 841ms\n",
      "863:\tlearn: 0.1104168\ttotal: 5.3s\tremaining: 835ms\n",
      "864:\tlearn: 0.1101863\ttotal: 5.31s\tremaining: 829ms\n",
      "865:\tlearn: 0.1100628\ttotal: 5.32s\tremaining: 823ms\n",
      "866:\tlearn: 0.1099686\ttotal: 5.32s\tremaining: 817ms\n",
      "867:\tlearn: 0.1098523\ttotal: 5.33s\tremaining: 811ms\n",
      "868:\tlearn: 0.1096862\ttotal: 5.34s\tremaining: 805ms\n",
      "869:\tlearn: 0.1095419\ttotal: 5.34s\tremaining: 798ms\n",
      "870:\tlearn: 0.1093327\ttotal: 5.35s\tremaining: 792ms\n",
      "871:\tlearn: 0.1092203\ttotal: 5.36s\tremaining: 786ms\n",
      "872:\tlearn: 0.1090776\ttotal: 5.36s\tremaining: 780ms\n",
      "873:\tlearn: 0.1089564\ttotal: 5.37s\tremaining: 774ms\n",
      "874:\tlearn: 0.1088144\ttotal: 5.37s\tremaining: 768ms\n",
      "875:\tlearn: 0.1086344\ttotal: 5.38s\tremaining: 762ms\n",
      "876:\tlearn: 0.1085444\ttotal: 5.39s\tremaining: 755ms\n",
      "877:\tlearn: 0.1083035\ttotal: 5.39s\tremaining: 749ms\n",
      "878:\tlearn: 0.1082337\ttotal: 5.4s\tremaining: 743ms\n",
      "879:\tlearn: 0.1081391\ttotal: 5.4s\tremaining: 737ms\n",
      "880:\tlearn: 0.1080505\ttotal: 5.41s\tremaining: 731ms\n",
      "881:\tlearn: 0.1079722\ttotal: 5.41s\tremaining: 724ms\n",
      "882:\tlearn: 0.1078491\ttotal: 5.42s\tremaining: 718ms\n",
      "883:\tlearn: 0.1076330\ttotal: 5.43s\tremaining: 712ms\n",
      "884:\tlearn: 0.1075119\ttotal: 5.43s\tremaining: 706ms\n",
      "885:\tlearn: 0.1073736\ttotal: 5.44s\tremaining: 700ms\n",
      "886:\tlearn: 0.1072999\ttotal: 5.44s\tremaining: 693ms\n",
      "887:\tlearn: 0.1072167\ttotal: 5.45s\tremaining: 687ms\n",
      "888:\tlearn: 0.1071257\ttotal: 5.45s\tremaining: 681ms\n",
      "889:\tlearn: 0.1070030\ttotal: 5.46s\tremaining: 675ms\n",
      "890:\tlearn: 0.1069490\ttotal: 5.46s\tremaining: 669ms\n",
      "891:\tlearn: 0.1068129\ttotal: 5.47s\tremaining: 662ms\n",
      "892:\tlearn: 0.1067131\ttotal: 5.48s\tremaining: 656ms\n",
      "893:\tlearn: 0.1065401\ttotal: 5.48s\tremaining: 650ms\n",
      "894:\tlearn: 0.1064593\ttotal: 5.49s\tremaining: 644ms\n",
      "895:\tlearn: 0.1063639\ttotal: 5.49s\tremaining: 638ms\n",
      "896:\tlearn: 0.1061855\ttotal: 5.5s\tremaining: 631ms\n",
      "897:\tlearn: 0.1060463\ttotal: 5.5s\tremaining: 625ms\n",
      "898:\tlearn: 0.1059324\ttotal: 5.51s\tremaining: 619ms\n",
      "899:\tlearn: 0.1057774\ttotal: 5.52s\tremaining: 613ms\n",
      "900:\tlearn: 0.1055862\ttotal: 5.52s\tremaining: 607ms\n",
      "901:\tlearn: 0.1053330\ttotal: 5.53s\tremaining: 601ms\n",
      "902:\tlearn: 0.1052076\ttotal: 5.53s\tremaining: 594ms\n",
      "903:\tlearn: 0.1050745\ttotal: 5.54s\tremaining: 588ms\n",
      "904:\tlearn: 0.1049916\ttotal: 5.54s\tremaining: 582ms\n",
      "905:\tlearn: 0.1048871\ttotal: 5.55s\tremaining: 576ms\n",
      "906:\tlearn: 0.1048043\ttotal: 5.56s\tremaining: 570ms\n",
      "907:\tlearn: 0.1047157\ttotal: 5.56s\tremaining: 564ms\n",
      "908:\tlearn: 0.1045510\ttotal: 5.57s\tremaining: 557ms\n",
      "909:\tlearn: 0.1043648\ttotal: 5.57s\tremaining: 551ms\n",
      "910:\tlearn: 0.1041683\ttotal: 5.58s\tremaining: 545ms\n",
      "911:\tlearn: 0.1039341\ttotal: 5.59s\tremaining: 539ms\n",
      "912:\tlearn: 0.1038382\ttotal: 5.59s\tremaining: 533ms\n",
      "913:\tlearn: 0.1037104\ttotal: 5.6s\tremaining: 527ms\n",
      "914:\tlearn: 0.1036045\ttotal: 5.61s\tremaining: 521ms\n",
      "915:\tlearn: 0.1035026\ttotal: 5.61s\tremaining: 515ms\n",
      "916:\tlearn: 0.1033481\ttotal: 5.62s\tremaining: 509ms\n",
      "917:\tlearn: 0.1031497\ttotal: 5.63s\tremaining: 503ms\n",
      "918:\tlearn: 0.1030381\ttotal: 5.63s\tremaining: 496ms\n",
      "919:\tlearn: 0.1028831\ttotal: 5.64s\tremaining: 490ms\n",
      "920:\tlearn: 0.1026643\ttotal: 5.64s\tremaining: 484ms\n",
      "921:\tlearn: 0.1025311\ttotal: 5.65s\tremaining: 478ms\n",
      "922:\tlearn: 0.1023662\ttotal: 5.66s\tremaining: 472ms\n",
      "923:\tlearn: 0.1022129\ttotal: 5.66s\tremaining: 466ms\n",
      "924:\tlearn: 0.1020685\ttotal: 5.67s\tremaining: 460ms\n",
      "925:\tlearn: 0.1018995\ttotal: 5.68s\tremaining: 454ms\n",
      "926:\tlearn: 0.1016869\ttotal: 5.68s\tremaining: 448ms\n",
      "927:\tlearn: 0.1015939\ttotal: 5.69s\tremaining: 441ms\n",
      "928:\tlearn: 0.1015091\ttotal: 5.7s\tremaining: 435ms\n",
      "929:\tlearn: 0.1013357\ttotal: 5.7s\tremaining: 429ms\n",
      "930:\tlearn: 0.1012472\ttotal: 5.71s\tremaining: 423ms\n",
      "931:\tlearn: 0.1011139\ttotal: 5.72s\tremaining: 417ms\n",
      "932:\tlearn: 0.1010369\ttotal: 5.72s\tremaining: 411ms\n",
      "933:\tlearn: 0.1008921\ttotal: 5.73s\tremaining: 405ms\n",
      "934:\tlearn: 0.1007216\ttotal: 5.73s\tremaining: 399ms\n",
      "935:\tlearn: 0.1005746\ttotal: 5.74s\tremaining: 392ms\n",
      "936:\tlearn: 0.1004299\ttotal: 5.75s\tremaining: 386ms\n",
      "937:\tlearn: 0.1003232\ttotal: 5.75s\tremaining: 380ms\n",
      "938:\tlearn: 0.1001784\ttotal: 5.76s\tremaining: 374ms\n",
      "939:\tlearn: 0.1000783\ttotal: 5.76s\tremaining: 368ms\n",
      "940:\tlearn: 0.0998286\ttotal: 5.77s\tremaining: 362ms\n",
      "941:\tlearn: 0.0997729\ttotal: 5.77s\tremaining: 356ms\n",
      "942:\tlearn: 0.0996139\ttotal: 5.78s\tremaining: 349ms\n",
      "943:\tlearn: 0.0994364\ttotal: 5.79s\tremaining: 343ms\n",
      "944:\tlearn: 0.0993033\ttotal: 5.79s\tremaining: 337ms\n",
      "945:\tlearn: 0.0992242\ttotal: 5.8s\tremaining: 331ms\n",
      "946:\tlearn: 0.0989986\ttotal: 5.8s\tremaining: 325ms\n",
      "947:\tlearn: 0.0988665\ttotal: 5.81s\tremaining: 319ms\n",
      "948:\tlearn: 0.0986716\ttotal: 5.82s\tremaining: 313ms\n",
      "949:\tlearn: 0.0985738\ttotal: 5.82s\tremaining: 306ms\n",
      "950:\tlearn: 0.0984550\ttotal: 5.83s\tremaining: 300ms\n",
      "951:\tlearn: 0.0983230\ttotal: 5.83s\tremaining: 294ms\n",
      "952:\tlearn: 0.0981399\ttotal: 5.84s\tremaining: 288ms\n",
      "953:\tlearn: 0.0979738\ttotal: 5.84s\tremaining: 282ms\n",
      "954:\tlearn: 0.0978472\ttotal: 5.85s\tremaining: 276ms\n",
      "955:\tlearn: 0.0977881\ttotal: 5.86s\tremaining: 270ms\n",
      "956:\tlearn: 0.0976178\ttotal: 5.86s\tremaining: 263ms\n",
      "957:\tlearn: 0.0974119\ttotal: 5.87s\tremaining: 257ms\n",
      "958:\tlearn: 0.0973038\ttotal: 5.88s\tremaining: 251ms\n",
      "959:\tlearn: 0.0971584\ttotal: 5.88s\tremaining: 245ms\n",
      "960:\tlearn: 0.0970896\ttotal: 5.89s\tremaining: 239ms\n",
      "961:\tlearn: 0.0970084\ttotal: 5.9s\tremaining: 233ms\n",
      "962:\tlearn: 0.0968901\ttotal: 5.9s\tremaining: 227ms\n",
      "963:\tlearn: 0.0968078\ttotal: 5.91s\tremaining: 221ms\n",
      "964:\tlearn: 0.0967124\ttotal: 5.92s\tremaining: 215ms\n",
      "965:\tlearn: 0.0966362\ttotal: 5.92s\tremaining: 208ms\n",
      "966:\tlearn: 0.0965580\ttotal: 5.93s\tremaining: 202ms\n",
      "967:\tlearn: 0.0963953\ttotal: 5.93s\tremaining: 196ms\n",
      "968:\tlearn: 0.0962915\ttotal: 5.94s\tremaining: 190ms\n",
      "969:\tlearn: 0.0961455\ttotal: 5.95s\tremaining: 184ms\n",
      "970:\tlearn: 0.0960449\ttotal: 5.96s\tremaining: 178ms\n",
      "971:\tlearn: 0.0958991\ttotal: 5.96s\tremaining: 172ms\n",
      "972:\tlearn: 0.0957491\ttotal: 5.97s\tremaining: 166ms\n",
      "973:\tlearn: 0.0956556\ttotal: 5.97s\tremaining: 159ms\n",
      "974:\tlearn: 0.0955523\ttotal: 5.98s\tremaining: 153ms\n",
      "975:\tlearn: 0.0954807\ttotal: 5.99s\tremaining: 147ms\n",
      "976:\tlearn: 0.0953470\ttotal: 6s\tremaining: 141ms\n",
      "977:\tlearn: 0.0952443\ttotal: 6s\tremaining: 135ms\n",
      "978:\tlearn: 0.0950807\ttotal: 6.01s\tremaining: 129ms\n",
      "979:\tlearn: 0.0949457\ttotal: 6.01s\tremaining: 123ms\n",
      "980:\tlearn: 0.0948119\ttotal: 6.02s\tremaining: 117ms\n",
      "981:\tlearn: 0.0945929\ttotal: 6.03s\tremaining: 110ms\n",
      "982:\tlearn: 0.0945161\ttotal: 6.03s\tremaining: 104ms\n",
      "983:\tlearn: 0.0943913\ttotal: 6.04s\tremaining: 98.2ms\n",
      "984:\tlearn: 0.0943559\ttotal: 6.05s\tremaining: 92.1ms\n",
      "985:\tlearn: 0.0942838\ttotal: 6.05s\tremaining: 86ms\n",
      "986:\tlearn: 0.0940960\ttotal: 6.06s\tremaining: 79.8ms\n",
      "987:\tlearn: 0.0939903\ttotal: 6.07s\tremaining: 73.7ms\n",
      "988:\tlearn: 0.0939007\ttotal: 6.07s\tremaining: 67.6ms\n",
      "989:\tlearn: 0.0938559\ttotal: 6.08s\tremaining: 61.4ms\n",
      "990:\tlearn: 0.0937667\ttotal: 6.09s\tremaining: 55.3ms\n",
      "991:\tlearn: 0.0936631\ttotal: 6.09s\tremaining: 49.1ms\n",
      "992:\tlearn: 0.0935671\ttotal: 6.1s\tremaining: 43ms\n",
      "993:\tlearn: 0.0934932\ttotal: 6.11s\tremaining: 36.9ms\n",
      "994:\tlearn: 0.0933567\ttotal: 6.11s\tremaining: 30.7ms\n",
      "995:\tlearn: 0.0932552\ttotal: 6.12s\tremaining: 24.6ms\n",
      "996:\tlearn: 0.0931452\ttotal: 6.13s\tremaining: 18.4ms\n",
      "997:\tlearn: 0.0930620\ttotal: 6.13s\tremaining: 12.3ms\n",
      "998:\tlearn: 0.0929578\ttotal: 6.14s\tremaining: 6.14ms\n",
      "999:\tlearn: 0.0928292\ttotal: 6.14s\tremaining: 0us\n"
     ]
    },
    {
     "data": {
      "text/plain": [
       "<catboost.core.CatBoostClassifier at 0x7d21d4b87eb0>"
      ]
     },
     "execution_count": 248,
     "metadata": {},
     "output_type": "execute_result"
    }
   ],
   "source": [
    "clf = CatBoostClassifier(loss_function='MultiClass', task_type=\"GPU\", devices='0', random_state=30)\n",
    "\n",
    "clf.fit(train_embeds, target_train, plot_file=\"catboost_log.html\")"
   ]
  },
  {
   "cell_type": "code",
   "execution_count": 249,
   "metadata": {
    "execution": {
     "iopub.execute_input": "2025-03-07T08:30:04.973533Z",
     "iopub.status.busy": "2025-03-07T08:30:04.973230Z",
     "iopub.status.idle": "2025-03-07T08:30:04.988432Z",
     "shell.execute_reply": "2025-03-07T08:30:04.987494Z",
     "shell.execute_reply.started": "2025-03-07T08:30:04.973492Z"
    },
    "trusted": true
   },
   "outputs": [],
   "source": [
    "test_pred = clf.predict(test_embeds)\n",
    "test_proba = clf.predict_proba(test_embeds)[:, 1]"
   ]
  },
  {
   "cell_type": "code",
   "execution_count": 250,
   "metadata": {
    "execution": {
     "iopub.execute_input": "2025-03-07T08:30:06.095856Z",
     "iopub.status.busy": "2025-03-07T08:30:06.095453Z",
     "iopub.status.idle": "2025-03-07T08:30:06.105171Z",
     "shell.execute_reply": "2025-03-07T08:30:06.104264Z",
     "shell.execute_reply.started": "2025-03-07T08:30:06.095828Z"
    },
    "trusted": true
   },
   "outputs": [
    {
     "name": "stdout",
     "output_type": "stream",
     "text": [
      "Accuracy: 0.752\n",
      "ROC-AUC: 0.8115296822133364\n"
     ]
    }
   ],
   "source": [
    "print(\"Accuracy:\", accuracy_score(target_test, test_pred))\n",
    "print(\"ROC-AUC:\", roc_auc_score(target_test, test_proba))"
   ]
  },
  {
   "cell_type": "markdown",
   "metadata": {},
   "source": [
    "- COLES embeds + Catboost:\n",
    "  - `Accuracy: 0.7328 +- 0.0194`\n",
    "  -  `ROC-AUC: 0.8057 +- 0.0088`"
   ]
  },
  {
   "cell_type": "markdown",
   "metadata": {},
   "source": [
    "---"
   ]
  },
  {
   "cell_type": "markdown",
   "metadata": {},
   "source": [
    "- **CPC modeling:**"
   ]
  },
  {
   "cell_type": "code",
   "execution_count": 240,
   "metadata": {
    "execution": {
     "iopub.execute_input": "2025-03-07T23:14:10.516669Z",
     "iopub.status.busy": "2025-03-07T23:14:10.516313Z",
     "iopub.status.idle": "2025-03-07T23:14:10.521350Z",
     "shell.execute_reply": "2025-03-07T23:14:10.520704Z",
     "shell.execute_reply.started": "2025-03-07T23:14:10.516644Z"
    },
    "trusted": true
   },
   "outputs": [],
   "source": [
    "seed_everything(0)"
   ]
  },
  {
   "cell_type": "markdown",
   "metadata": {},
   "source": [
    "**DataLoaders:**"
   ]
  },
  {
   "cell_type": "code",
   "execution_count": 241,
   "metadata": {
    "execution": {
     "iopub.execute_input": "2025-03-07T23:14:12.325941Z",
     "iopub.status.busy": "2025-03-07T23:14:12.325617Z",
     "iopub.status.idle": "2025-03-07T23:14:12.330748Z",
     "shell.execute_reply": "2025-03-07T23:14:12.329910Z",
     "shell.execute_reply.started": "2025-03-07T23:14:12.325913Z"
    },
    "trusted": true
   },
   "outputs": [],
   "source": [
    "data = PtlsDataModule(\n",
    "    train_data=CpcDataset(\n",
    "        MemoryMapDataset(data=data_train),\n",
    "        min_len=85,             #min_len=10 / 85; 1000\n",
    "        max_len=105             #max_len=105; 1200\n",
    "    ),\n",
    "    train_num_workers=4,\n",
    "    train_batch_size=128,\n",
    "    valid_data=CpcDataset(\n",
    "        MemoryMapDataset(data=data_test),\n",
    "        min_len=85,\n",
    "        max_len=105\n",
    "    ),\n",
    "    valid_num_workers=4,\n",
    "    valid_batch_size=128\n",
    ")"
   ]
  },
  {
   "cell_type": "markdown",
   "metadata": {},
   "source": [
    "**Модель:**"
   ]
  },
  {
   "cell_type": "code",
   "execution_count": 242,
   "metadata": {
    "execution": {
     "iopub.execute_input": "2025-03-07T23:14:14.558171Z",
     "iopub.status.busy": "2025-03-07T23:14:14.557857Z",
     "iopub.status.idle": "2025-03-07T23:14:14.561683Z",
     "shell.execute_reply": "2025-03-07T23:14:14.560773Z",
     "shell.execute_reply.started": "2025-03-07T23:14:14.558144Z"
    },
    "trusted": true
   },
   "outputs": [],
   "source": [
    "N_EPOCHS = 20"
   ]
  },
  {
   "cell_type": "code",
   "execution_count": 243,
   "metadata": {
    "execution": {
     "iopub.execute_input": "2025-03-07T23:14:15.844860Z",
     "iopub.status.busy": "2025-03-07T23:14:15.844576Z",
     "iopub.status.idle": "2025-03-07T23:14:15.866009Z",
     "shell.execute_reply": "2025-03-07T23:14:15.865154Z",
     "shell.execute_reply.started": "2025-03-07T23:14:15.844838Z"
    },
    "trusted": true
   },
   "outputs": [],
   "source": [
    "trx_encoder_params = dict(\n",
    "    embeddings={\n",
    "        \"MCC\": {\"in\": 342, \"out\": 32}, # 8 / 16\n",
    "        \"channel_type\": {\"in\": 7, \"out\": 32},\n",
    "        \"currency\": {\"in\": 60, \"out\": 32},\n",
    "        \"trx_category\": {\"in\": 11, \"out\": 32}            \n",
    "    },\n",
    "    numeric_values={\"amount\": \"log\"},\n",
    "    embeddings_noise=0.003,\n",
    "    k=31,\n",
    "    time_col=\"event_time\"\n",
    ")\n",
    "\n",
    "seq_encoder = RnnSeqEncoder(\n",
    "    trx_encoder=TrxEncoderT2V(**trx_encoder_params),\n",
    "    hidden_size=512,\n",
    "    type=\"gru\"\n",
    ")\n",
    "\n",
    "cpc = CpcModule(\n",
    "    seq_encoder=seq_encoder,\n",
    "    n_forward_steps=6,\n",
    "    n_negatives=40,\n",
    "    optimizer_partial=partial(torch.optim.Adam, lr=5e-4),\n",
    "    lr_scheduler_partial=partial(torch.optim.lr_scheduler.StepLR, step_size=5, gamma=0.5)\n",
    ")"
   ]
  },
  {
   "cell_type": "markdown",
   "metadata": {},
   "source": [
    "**Обучение:**"
   ]
  },
  {
   "cell_type": "code",
   "execution_count": 244,
   "metadata": {
    "execution": {
     "iopub.execute_input": "2025-03-07T23:14:18.051304Z",
     "iopub.status.busy": "2025-03-07T23:14:18.051005Z",
     "iopub.status.idle": "2025-03-07T23:14:18.098448Z",
     "shell.execute_reply": "2025-03-07T23:14:18.097608Z",
     "shell.execute_reply.started": "2025-03-07T23:14:18.051282Z"
    },
    "trusted": true
   },
   "outputs": [],
   "source": [
    "logger = CometLogger(project_name=\"evs-ssl-rb\", experiment_name=\"CPC_modeling_baseline\")\n",
    "\n",
    "trainer = pl.Trainer(\n",
    "    logger=logger,\n",
    "    max_epochs=N_EPOCHS,\n",
    "    accelerator=\"gpu\",\n",
    "    devices=1,\n",
    "    enable_progress_bar=True\n",
    ")"
   ]
  },
  {
   "cell_type": "code",
   "execution_count": 245,
   "metadata": {
    "execution": {
     "iopub.execute_input": "2025-03-07T23:14:19.907922Z",
     "iopub.status.busy": "2025-03-07T23:14:19.907454Z",
     "iopub.status.idle": "2025-03-07T23:15:27.289773Z",
     "shell.execute_reply": "2025-03-07T23:15:27.288695Z",
     "shell.execute_reply.started": "2025-03-07T23:14:19.907882Z"
    },
    "trusted": true
   },
   "outputs": [
    {
     "name": "stderr",
     "output_type": "stream",
     "text": [
      "\u001b[1;38;5;214mCOMET WARNING:\u001b[0m As you are running in a Jupyter environment, you will need to call `experiment.end()` when finished to ensure all metrics and code are logged before exiting.\n",
      "\u001b[1;38;5;39mCOMET INFO:\u001b[0m Experiment is live on comet.com https://www.comet.com/askoro/evs-ssl-rb/d5e0cd29d807486b97f69cad137f4b53\n",
      "\n",
      "\u001b[1;38;5;39mCOMET INFO:\u001b[0m Couldn't find a Git repository in '/kaggle/working' nor in any parent directory. Set `COMET_GIT_DIRECTORY` if your Git Repository is elsewhere.\n"
     ]
    },
    {
     "data": {
      "application/vnd.jupyter.widget-view+json": {
       "model_id": "",
       "version_major": 2,
       "version_minor": 0
      },
      "text/plain": [
       "Sanity Checking: |          | 0/? [00:00<?, ?it/s]"
      ]
     },
     "metadata": {},
     "output_type": "display_data"
    },
    {
     "name": "stderr",
     "output_type": "stream",
     "text": [
      "/usr/local/lib/python3.10/dist-packages/pytorch_lightning/loops/fit_loop.py:310: PossibleUserWarning:\n",
      "\n",
      "The number of training batches (36) is smaller than the logging interval Trainer(log_every_n_steps=50). Set a lower value for log_every_n_steps if you want to see logs for the training epoch.\n",
      "\n"
     ]
    },
    {
     "data": {
      "application/vnd.jupyter.widget-view+json": {
       "model_id": "a8de132caa4b426a92d5a9e788977560",
       "version_major": 2,
       "version_minor": 0
      },
      "text/plain": [
       "Training: |          | 0/? [00:00<?, ?it/s]"
      ]
     },
     "metadata": {},
     "output_type": "display_data"
    },
    {
     "data": {
      "application/vnd.jupyter.widget-view+json": {
       "model_id": "",
       "version_major": 2,
       "version_minor": 0
      },
      "text/plain": [
       "Validation: |          | 0/? [00:00<?, ?it/s]"
      ]
     },
     "metadata": {},
     "output_type": "display_data"
    },
    {
     "data": {
      "application/vnd.jupyter.widget-view+json": {
       "model_id": "",
       "version_major": 2,
       "version_minor": 0
      },
      "text/plain": [
       "Validation: |          | 0/? [00:00<?, ?it/s]"
      ]
     },
     "metadata": {},
     "output_type": "display_data"
    },
    {
     "data": {
      "application/vnd.jupyter.widget-view+json": {
       "model_id": "",
       "version_major": 2,
       "version_minor": 0
      },
      "text/plain": [
       "Validation: |          | 0/? [00:00<?, ?it/s]"
      ]
     },
     "metadata": {},
     "output_type": "display_data"
    },
    {
     "data": {
      "application/vnd.jupyter.widget-view+json": {
       "model_id": "",
       "version_major": 2,
       "version_minor": 0
      },
      "text/plain": [
       "Validation: |          | 0/? [00:00<?, ?it/s]"
      ]
     },
     "metadata": {},
     "output_type": "display_data"
    },
    {
     "data": {
      "application/vnd.jupyter.widget-view+json": {
       "model_id": "",
       "version_major": 2,
       "version_minor": 0
      },
      "text/plain": [
       "Validation: |          | 0/? [00:00<?, ?it/s]"
      ]
     },
     "metadata": {},
     "output_type": "display_data"
    },
    {
     "data": {
      "application/vnd.jupyter.widget-view+json": {
       "model_id": "",
       "version_major": 2,
       "version_minor": 0
      },
      "text/plain": [
       "Validation: |          | 0/? [00:00<?, ?it/s]"
      ]
     },
     "metadata": {},
     "output_type": "display_data"
    },
    {
     "data": {
      "application/vnd.jupyter.widget-view+json": {
       "model_id": "",
       "version_major": 2,
       "version_minor": 0
      },
      "text/plain": [
       "Validation: |          | 0/? [00:00<?, ?it/s]"
      ]
     },
     "metadata": {},
     "output_type": "display_data"
    },
    {
     "data": {
      "application/vnd.jupyter.widget-view+json": {
       "model_id": "",
       "version_major": 2,
       "version_minor": 0
      },
      "text/plain": [
       "Validation: |          | 0/? [00:00<?, ?it/s]"
      ]
     },
     "metadata": {},
     "output_type": "display_data"
    },
    {
     "data": {
      "application/vnd.jupyter.widget-view+json": {
       "model_id": "",
       "version_major": 2,
       "version_minor": 0
      },
      "text/plain": [
       "Validation: |          | 0/? [00:00<?, ?it/s]"
      ]
     },
     "metadata": {},
     "output_type": "display_data"
    },
    {
     "data": {
      "application/vnd.jupyter.widget-view+json": {
       "model_id": "",
       "version_major": 2,
       "version_minor": 0
      },
      "text/plain": [
       "Validation: |          | 0/? [00:00<?, ?it/s]"
      ]
     },
     "metadata": {},
     "output_type": "display_data"
    },
    {
     "data": {
      "application/vnd.jupyter.widget-view+json": {
       "model_id": "",
       "version_major": 2,
       "version_minor": 0
      },
      "text/plain": [
       "Validation: |          | 0/? [00:00<?, ?it/s]"
      ]
     },
     "metadata": {},
     "output_type": "display_data"
    },
    {
     "data": {
      "application/vnd.jupyter.widget-view+json": {
       "model_id": "",
       "version_major": 2,
       "version_minor": 0
      },
      "text/plain": [
       "Validation: |          | 0/? [00:00<?, ?it/s]"
      ]
     },
     "metadata": {},
     "output_type": "display_data"
    },
    {
     "data": {
      "application/vnd.jupyter.widget-view+json": {
       "model_id": "",
       "version_major": 2,
       "version_minor": 0
      },
      "text/plain": [
       "Validation: |          | 0/? [00:00<?, ?it/s]"
      ]
     },
     "metadata": {},
     "output_type": "display_data"
    },
    {
     "data": {
      "application/vnd.jupyter.widget-view+json": {
       "model_id": "",
       "version_major": 2,
       "version_minor": 0
      },
      "text/plain": [
       "Validation: |          | 0/? [00:00<?, ?it/s]"
      ]
     },
     "metadata": {},
     "output_type": "display_data"
    },
    {
     "data": {
      "application/vnd.jupyter.widget-view+json": {
       "model_id": "",
       "version_major": 2,
       "version_minor": 0
      },
      "text/plain": [
       "Validation: |          | 0/? [00:00<?, ?it/s]"
      ]
     },
     "metadata": {},
     "output_type": "display_data"
    },
    {
     "data": {
      "application/vnd.jupyter.widget-view+json": {
       "model_id": "",
       "version_major": 2,
       "version_minor": 0
      },
      "text/plain": [
       "Validation: |          | 0/? [00:00<?, ?it/s]"
      ]
     },
     "metadata": {},
     "output_type": "display_data"
    },
    {
     "data": {
      "application/vnd.jupyter.widget-view+json": {
       "model_id": "",
       "version_major": 2,
       "version_minor": 0
      },
      "text/plain": [
       "Validation: |          | 0/? [00:00<?, ?it/s]"
      ]
     },
     "metadata": {},
     "output_type": "display_data"
    },
    {
     "data": {
      "application/vnd.jupyter.widget-view+json": {
       "model_id": "",
       "version_major": 2,
       "version_minor": 0
      },
      "text/plain": [
       "Validation: |          | 0/? [00:00<?, ?it/s]"
      ]
     },
     "metadata": {},
     "output_type": "display_data"
    },
    {
     "data": {
      "application/vnd.jupyter.widget-view+json": {
       "model_id": "",
       "version_major": 2,
       "version_minor": 0
      },
      "text/plain": [
       "Validation: |          | 0/? [00:00<?, ?it/s]"
      ]
     },
     "metadata": {},
     "output_type": "display_data"
    },
    {
     "data": {
      "application/vnd.jupyter.widget-view+json": {
       "model_id": "",
       "version_major": 2,
       "version_minor": 0
      },
      "text/plain": [
       "Validation: |          | 0/? [00:00<?, ?it/s]"
      ]
     },
     "metadata": {},
     "output_type": "display_data"
    },
    {
     "name": "stderr",
     "output_type": "stream",
     "text": [
      "\u001b[1;38;5;39mCOMET INFO:\u001b[0m ---------------------------------------------------------------------------------------\n",
      "\u001b[1;38;5;39mCOMET INFO:\u001b[0m Comet.ml Experiment Summary\n",
      "\u001b[1;38;5;39mCOMET INFO:\u001b[0m ---------------------------------------------------------------------------------------\n",
      "\u001b[1;38;5;39mCOMET INFO:\u001b[0m   Data:\n",
      "\u001b[1;38;5;39mCOMET INFO:\u001b[0m     display_summary_level : 1\n",
      "\u001b[1;38;5;39mCOMET INFO:\u001b[0m     name                  : CPC_modeling_baseline\n",
      "\u001b[1;38;5;39mCOMET INFO:\u001b[0m     url                   : https://www.comet.com/askoro/evs-ssl-rb/d5e0cd29d807486b97f69cad137f4b53\n",
      "\u001b[1;38;5;39mCOMET INFO:\u001b[0m   Metrics [count] (min, max):\n",
      "\u001b[1;38;5;39mCOMET INFO:\u001b[0m     loss [86]               : (1.7255330085754395, 25.472782135009766)\n",
      "\u001b[1;38;5;39mCOMET INFO:\u001b[0m     seq_len [14]            : (58.375, 70.4921875)\n",
      "\u001b[1;38;5;39mCOMET INFO:\u001b[0m     valid/cpc_accuracy [20] : (0.24430523812770844, 0.5497528314590454)\n",
      "\u001b[1;38;5;39mCOMET INFO:\u001b[0m   Others:\n",
      "\u001b[1;38;5;39mCOMET INFO:\u001b[0m     Name : CPC_modeling_baseline\n",
      "\u001b[1;38;5;39mCOMET INFO:\u001b[0m   Parameters:\n",
      "\u001b[1;38;5;39mCOMET INFO:\u001b[0m     test_batch_size   : None\n",
      "\u001b[1;38;5;39mCOMET INFO:\u001b[0m     test_drop_last    : False\n",
      "\u001b[1;38;5;39mCOMET INFO:\u001b[0m     test_num_workers  : None\n",
      "\u001b[1;38;5;39mCOMET INFO:\u001b[0m     train_batch_size  : 128\n",
      "\u001b[1;38;5;39mCOMET INFO:\u001b[0m     train_drop_last   : False\n",
      "\u001b[1;38;5;39mCOMET INFO:\u001b[0m     train_num_workers : 4\n",
      "\u001b[1;38;5;39mCOMET INFO:\u001b[0m     valid_batch_size  : 128\n",
      "\u001b[1;38;5;39mCOMET INFO:\u001b[0m     valid_drop_last   : False\n",
      "\u001b[1;38;5;39mCOMET INFO:\u001b[0m     valid_num_workers : 4\n",
      "\u001b[1;38;5;39mCOMET INFO:\u001b[0m   Uploads:\n",
      "\u001b[1;38;5;39mCOMET INFO:\u001b[0m     environment details : 1\n",
      "\u001b[1;38;5;39mCOMET INFO:\u001b[0m     filename            : 1\n",
      "\u001b[1;38;5;39mCOMET INFO:\u001b[0m     installed packages  : 1\n",
      "\u001b[1;38;5;39mCOMET INFO:\u001b[0m     model graph         : 1\n",
      "\u001b[1;38;5;39mCOMET INFO:\u001b[0m     notebook            : 1\n",
      "\u001b[1;38;5;39mCOMET INFO:\u001b[0m     os packages         : 1\n",
      "\u001b[1;38;5;39mCOMET INFO:\u001b[0m     source_code         : 1\n",
      "\u001b[1;38;5;39mCOMET INFO:\u001b[0m \n"
     ]
    }
   ],
   "source": [
    "trainer.fit(cpc, data)"
   ]
  },
  {
   "cell_type": "code",
   "execution_count": 246,
   "metadata": {
    "execution": {
     "iopub.execute_input": "2025-03-07T23:17:48.903487Z",
     "iopub.status.busy": "2025-03-07T23:17:48.903127Z",
     "iopub.status.idle": "2025-03-07T23:17:48.911179Z",
     "shell.execute_reply": "2025-03-07T23:17:48.910308Z",
     "shell.execute_reply.started": "2025-03-07T23:17:48.903459Z"
    },
    "trusted": true
   },
   "outputs": [
    {
     "data": {
      "text/plain": [
       "{'loss': tensor(1.5236),\n",
       " 'seq_len': tensor(80.8000),\n",
       " 'valid/cpc_accuracy': tensor(0.5498)}"
      ]
     },
     "execution_count": 246,
     "metadata": {},
     "output_type": "execute_result"
    }
   ],
   "source": [
    "trainer.logged_metrics"
   ]
  },
  {
   "cell_type": "code",
   "execution_count": 82,
   "metadata": {
    "execution": {
     "iopub.execute_input": "2025-02-26T01:55:55.069371Z",
     "iopub.status.busy": "2025-02-26T01:55:55.069008Z",
     "iopub.status.idle": "2025-02-26T01:55:55.082795Z",
     "shell.execute_reply": "2025-02-26T01:55:55.081884Z",
     "shell.execute_reply.started": "2025-02-26T01:55:55.069345Z"
    },
    "trusted": true
   },
   "outputs": [],
   "source": [
    "torch.save(seq_encoder.state_dict(), \"cpc_enc_baseline_rosbank.pt\")"
   ]
  },
  {
   "cell_type": "markdown",
   "metadata": {},
   "source": [
    "**Измерим качество на тесте (catboost поверх эмбеддингов):**"
   ]
  },
  {
   "cell_type": "code",
   "execution_count": null,
   "metadata": {
    "trusted": true
   },
   "outputs": [],
   "source": [
    "# !wget \"https://drive.google.com/uc?export=download&id=11j6QgNsdOSTK-GRaAJLKObDW7ehS_aqK\" -O \"cpc_enc_baseline_higher_trx_dim.pt\""
   ]
  },
  {
   "cell_type": "code",
   "execution_count": 247,
   "metadata": {
    "execution": {
     "iopub.execute_input": "2025-03-07T23:17:52.600991Z",
     "iopub.status.busy": "2025-03-07T23:17:52.600703Z",
     "iopub.status.idle": "2025-03-07T23:17:52.610041Z",
     "shell.execute_reply": "2025-03-07T23:17:52.609169Z",
     "shell.execute_reply.started": "2025-03-07T23:17:52.600969Z"
    },
    "trusted": true
   },
   "outputs": [
    {
     "data": {
      "text/plain": [
       "RnnSeqEncoder(\n",
       "  (trx_encoder): TrxEncoderT2V(\n",
       "    (embeddings): ModuleDict(\n",
       "      (MCC): NoisyEmbedding(\n",
       "        342, 32, padding_idx=0\n",
       "        (dropout): Dropout(p=0, inplace=False)\n",
       "      )\n",
       "      (channel_type): NoisyEmbedding(\n",
       "        7, 32, padding_idx=0\n",
       "        (dropout): Dropout(p=0, inplace=False)\n",
       "      )\n",
       "      (currency): NoisyEmbedding(\n",
       "        60, 32, padding_idx=0\n",
       "        (dropout): Dropout(p=0, inplace=False)\n",
       "      )\n",
       "      (trx_category): NoisyEmbedding(\n",
       "        11, 32, padding_idx=0\n",
       "        (dropout): Dropout(p=0, inplace=False)\n",
       "      )\n",
       "    )\n",
       "    (custom_embeddings): ModuleDict(\n",
       "      (amount): LogScaler()\n",
       "    )\n",
       "    (custom_embedding_batch_norm): RBatchNorm(\n",
       "      (bn): BatchNorm1d(1, eps=1e-05, momentum=0.1, affine=True, track_running_stats=True)\n",
       "    )\n",
       "    (time2vec_days): Time2Vec()\n",
       "  )\n",
       "  (seq_encoder): RnnEncoder(\n",
       "    (rnn): GRU(161, 512, batch_first=True)\n",
       "    (reducer): LastStepEncoder()\n",
       "  )\n",
       ")"
      ]
     },
     "execution_count": 247,
     "metadata": {},
     "output_type": "execute_result"
    }
   ],
   "source": [
    "encoder = cpc.seq_encoder\n",
    "\n",
    "# state_dict = torch.load(\"./cpc_enc_baseline_higher_trx_dim.pt\")\n",
    "# encoder.load_state_dict(state_dict)\n",
    "\n",
    "device = \"cuda:0\"\n",
    "\n",
    "encoder.to(device)"
   ]
  },
  {
   "cell_type": "code",
   "execution_count": 248,
   "metadata": {
    "execution": {
     "iopub.execute_input": "2025-03-07T23:17:55.331381Z",
     "iopub.status.busy": "2025-03-07T23:17:55.331071Z",
     "iopub.status.idle": "2025-03-07T23:17:55.335289Z",
     "shell.execute_reply": "2025-03-07T23:17:55.334374Z",
     "shell.execute_reply.started": "2025-03-07T23:17:55.331353Z"
    },
    "trusted": true
   },
   "outputs": [],
   "source": [
    "encoder.seq_encoder.is_reduce_sequence = True"
   ]
  },
  {
   "cell_type": "code",
   "execution_count": 249,
   "metadata": {
    "execution": {
     "iopub.execute_input": "2025-03-07T23:17:57.236191Z",
     "iopub.status.busy": "2025-03-07T23:17:57.235911Z",
     "iopub.status.idle": "2025-03-07T23:17:57.242065Z",
     "shell.execute_reply": "2025-03-07T23:17:57.241177Z",
     "shell.execute_reply.started": "2025-03-07T23:17:57.236168Z"
    },
    "trusted": true
   },
   "outputs": [],
   "source": [
    "from tqdm import tqdm\n",
    "\n",
    "seed_everything(0)"
   ]
  },
  {
   "cell_type": "code",
   "execution_count": 250,
   "metadata": {
    "execution": {
     "iopub.execute_input": "2025-03-07T23:17:59.030453Z",
     "iopub.status.busy": "2025-03-07T23:17:59.030115Z",
     "iopub.status.idle": "2025-03-07T23:18:00.718196Z",
     "shell.execute_reply": "2025-03-07T23:18:00.717414Z",
     "shell.execute_reply.started": "2025-03-07T23:17:59.030421Z"
    },
    "trusted": true
   },
   "outputs": [
    {
     "name": "stderr",
     "output_type": "stream",
     "text": [
      "36it [00:01, 21.47it/s]\n"
     ]
    },
    {
     "data": {
      "text/plain": [
       "array([[-0.19209889,  0.15701051,  0.21384467, ..., -0.1645761 ,\n",
       "         0.13416895,  0.13677727],\n",
       "       [-0.62357974, -0.25639307,  0.7148075 , ..., -0.80968666,\n",
       "         0.5653447 , -0.71061534],\n",
       "       [-0.6059645 , -0.539159  ,  0.6836383 , ..., -0.7998759 ,\n",
       "         0.6146016 , -0.7275492 ],\n",
       "       ...,\n",
       "       [-0.82181925, -0.49199453,  0.62970805, ..., -0.63831025,\n",
       "         0.50188076, -0.64945555],\n",
       "       [-0.83849734, -0.4220637 ,  0.47005558, ..., -0.8026331 ,\n",
       "         0.46405196, -0.8612809 ],\n",
       "       [-0.512371  , -0.13991897, -0.4856592 , ...,  0.12618224,\n",
       "         0.05067025,  0.2307141 ]], dtype=float32)"
      ]
     },
     "execution_count": 250,
     "metadata": {},
     "output_type": "execute_result"
    }
   ],
   "source": [
    "train_loader = inference_data_loader(data_train, num_workers=0, batch_size=128)\n",
    "encoder.eval()\n",
    "train_embeds = None\n",
    "\n",
    "for i, batch in tqdm(enumerate(train_loader)):\n",
    "    train_embeds_batch = encoder(batch.to(device))\n",
    "    if i == 0:\n",
    "        train_embeds = train_embeds_batch.detach().cpu().numpy()\n",
    "    else:\n",
    "        train_embeds = np.concatenate([train_embeds, train_embeds_batch.detach().cpu().numpy()], axis=0)\n",
    "    \n",
    "train_embeds"
   ]
  },
  {
   "cell_type": "code",
   "execution_count": 251,
   "metadata": {
    "execution": {
     "iopub.execute_input": "2025-03-07T23:18:03.088296Z",
     "iopub.status.busy": "2025-03-07T23:18:03.087979Z",
     "iopub.status.idle": "2025-03-07T23:18:03.289860Z",
     "shell.execute_reply": "2025-03-07T23:18:03.289092Z",
     "shell.execute_reply.started": "2025-03-07T23:18:03.088270Z"
    },
    "trusted": true
   },
   "outputs": [
    {
     "name": "stderr",
     "output_type": "stream",
     "text": [
      "4it [00:00, 20.96it/s]\n"
     ]
    },
    {
     "data": {
      "text/plain": [
       "array([[-0.6161818 , -0.2736779 ,  0.6748481 , ..., -0.8022516 ,\n",
       "         0.6119286 , -0.67115366],\n",
       "       [-0.643846  , -0.3731083 ,  0.5580652 , ..., -0.46282333,\n",
       "         0.40052614, -0.5215277 ],\n",
       "       [-0.6264979 , -0.4865318 ,  0.625218  , ..., -0.89806944,\n",
       "         0.637347  , -0.7476031 ],\n",
       "       ...,\n",
       "       [-0.8480329 , -0.6125593 ,  0.6763762 , ..., -0.65062916,\n",
       "         0.17983465, -0.5996037 ],\n",
       "       [-0.7331846 , -0.15567298,  0.7646365 , ..., -0.6553723 ,\n",
       "         0.57282156, -0.6534018 ],\n",
       "       [-0.8339077 , -0.32614043,  0.72814524, ..., -0.7769479 ,\n",
       "         0.35392228, -0.81995493]], dtype=float32)"
      ]
     },
     "execution_count": 251,
     "metadata": {},
     "output_type": "execute_result"
    }
   ],
   "source": [
    "test_loader = inference_data_loader(data_test, num_workers=0, batch_size=128)\n",
    "encoder.eval()\n",
    "test_embeds = None\n",
    "\n",
    "for i, batch in tqdm(enumerate(test_loader)):\n",
    "    test_embeds_batch = encoder(batch.to(device))\n",
    "    if i == 0:\n",
    "        test_embeds = test_embeds_batch.detach().cpu().numpy()\n",
    "    else:\n",
    "        test_embeds = np.concatenate([test_embeds, test_embeds_batch.detach().cpu().numpy()], axis=0)\n",
    "    \n",
    "test_embeds"
   ]
  },
  {
   "cell_type": "code",
   "execution_count": 252,
   "metadata": {
    "collapsed": true,
    "execution": {
     "iopub.execute_input": "2025-03-07T23:18:05.863107Z",
     "iopub.status.busy": "2025-03-07T23:18:05.862792Z",
     "iopub.status.idle": "2025-03-07T23:18:12.404546Z",
     "shell.execute_reply": "2025-03-07T23:18:12.403726Z",
     "shell.execute_reply.started": "2025-03-07T23:18:05.863085Z"
    },
    "jupyter": {
     "outputs_hidden": true
    },
    "trusted": true
   },
   "outputs": [
    {
     "name": "stdout",
     "output_type": "stream",
     "text": [
      "Learning rate set to 0.088214\n",
      "0:\tlearn: 0.6669049\ttotal: 11.1ms\tremaining: 11.1s\n",
      "1:\tlearn: 0.6433847\ttotal: 18ms\tremaining: 8.99s\n",
      "2:\tlearn: 0.6223505\ttotal: 25.1ms\tremaining: 8.33s\n",
      "3:\tlearn: 0.6046860\ttotal: 31.7ms\tremaining: 7.91s\n",
      "4:\tlearn: 0.5891472\ttotal: 38.4ms\tremaining: 7.65s\n",
      "5:\tlearn: 0.5748068\ttotal: 45.6ms\tremaining: 7.55s\n",
      "6:\tlearn: 0.5628350\ttotal: 52.3ms\tremaining: 7.42s\n",
      "7:\tlearn: 0.5521847\ttotal: 59ms\tremaining: 7.31s\n",
      "8:\tlearn: 0.5428893\ttotal: 65.7ms\tremaining: 7.23s\n",
      "9:\tlearn: 0.5342197\ttotal: 72.5ms\tremaining: 7.17s\n",
      "10:\tlearn: 0.5266791\ttotal: 78.8ms\tremaining: 7.08s\n",
      "11:\tlearn: 0.5197991\ttotal: 85.1ms\tremaining: 7s\n",
      "12:\tlearn: 0.5140753\ttotal: 91.2ms\tremaining: 6.93s\n",
      "13:\tlearn: 0.5080617\ttotal: 97.1ms\tremaining: 6.84s\n",
      "14:\tlearn: 0.5035418\ttotal: 103ms\tremaining: 6.78s\n",
      "15:\tlearn: 0.4987949\ttotal: 110ms\tremaining: 6.73s\n",
      "16:\tlearn: 0.4945686\ttotal: 116ms\tremaining: 6.69s\n",
      "17:\tlearn: 0.4903260\ttotal: 122ms\tremaining: 6.66s\n",
      "18:\tlearn: 0.4868383\ttotal: 129ms\tremaining: 6.64s\n",
      "19:\tlearn: 0.4840424\ttotal: 135ms\tremaining: 6.59s\n",
      "20:\tlearn: 0.4812810\ttotal: 141ms\tremaining: 6.56s\n",
      "21:\tlearn: 0.4783049\ttotal: 147ms\tremaining: 6.53s\n",
      "22:\tlearn: 0.4757524\ttotal: 153ms\tremaining: 6.5s\n",
      "23:\tlearn: 0.4734429\ttotal: 160ms\tremaining: 6.49s\n",
      "24:\tlearn: 0.4710407\ttotal: 166ms\tremaining: 6.48s\n",
      "25:\tlearn: 0.4685919\ttotal: 173ms\tremaining: 6.46s\n",
      "26:\tlearn: 0.4661338\ttotal: 179ms\tremaining: 6.46s\n",
      "27:\tlearn: 0.4641123\ttotal: 185ms\tremaining: 6.42s\n",
      "28:\tlearn: 0.4620011\ttotal: 191ms\tremaining: 6.4s\n",
      "29:\tlearn: 0.4601628\ttotal: 197ms\tremaining: 6.37s\n",
      "30:\tlearn: 0.4585216\ttotal: 203ms\tremaining: 6.34s\n",
      "31:\tlearn: 0.4566335\ttotal: 209ms\tremaining: 6.32s\n",
      "32:\tlearn: 0.4549127\ttotal: 215ms\tremaining: 6.3s\n",
      "33:\tlearn: 0.4529728\ttotal: 221ms\tremaining: 6.28s\n",
      "34:\tlearn: 0.4509473\ttotal: 227ms\tremaining: 6.26s\n",
      "35:\tlearn: 0.4493426\ttotal: 233ms\tremaining: 6.24s\n",
      "36:\tlearn: 0.4480049\ttotal: 239ms\tremaining: 6.22s\n",
      "37:\tlearn: 0.4466047\ttotal: 245ms\tremaining: 6.21s\n",
      "38:\tlearn: 0.4452173\ttotal: 252ms\tremaining: 6.21s\n",
      "39:\tlearn: 0.4438966\ttotal: 259ms\tremaining: 6.22s\n",
      "40:\tlearn: 0.4421648\ttotal: 265ms\tremaining: 6.21s\n",
      "41:\tlearn: 0.4411262\ttotal: 272ms\tremaining: 6.2s\n",
      "42:\tlearn: 0.4395686\ttotal: 278ms\tremaining: 6.19s\n",
      "43:\tlearn: 0.4384992\ttotal: 284ms\tremaining: 6.18s\n",
      "44:\tlearn: 0.4371214\ttotal: 291ms\tremaining: 6.17s\n",
      "45:\tlearn: 0.4358424\ttotal: 297ms\tremaining: 6.16s\n",
      "46:\tlearn: 0.4346044\ttotal: 303ms\tremaining: 6.15s\n",
      "47:\tlearn: 0.4335218\ttotal: 310ms\tremaining: 6.14s\n",
      "48:\tlearn: 0.4324616\ttotal: 316ms\tremaining: 6.13s\n",
      "49:\tlearn: 0.4309694\ttotal: 322ms\tremaining: 6.13s\n",
      "50:\tlearn: 0.4294200\ttotal: 329ms\tremaining: 6.12s\n",
      "51:\tlearn: 0.4277678\ttotal: 335ms\tremaining: 6.11s\n",
      "52:\tlearn: 0.4266948\ttotal: 342ms\tremaining: 6.11s\n",
      "53:\tlearn: 0.4254359\ttotal: 348ms\tremaining: 6.1s\n",
      "54:\tlearn: 0.4248551\ttotal: 354ms\tremaining: 6.09s\n",
      "55:\tlearn: 0.4241277\ttotal: 361ms\tremaining: 6.08s\n",
      "56:\tlearn: 0.4232447\ttotal: 367ms\tremaining: 6.08s\n",
      "57:\tlearn: 0.4225168\ttotal: 374ms\tremaining: 6.07s\n",
      "58:\tlearn: 0.4214998\ttotal: 380ms\tremaining: 6.06s\n",
      "59:\tlearn: 0.4206192\ttotal: 386ms\tremaining: 6.05s\n",
      "60:\tlearn: 0.4195651\ttotal: 393ms\tremaining: 6.05s\n",
      "61:\tlearn: 0.4186079\ttotal: 399ms\tremaining: 6.04s\n",
      "62:\tlearn: 0.4177266\ttotal: 405ms\tremaining: 6.03s\n",
      "63:\tlearn: 0.4169243\ttotal: 412ms\tremaining: 6.02s\n",
      "64:\tlearn: 0.4160626\ttotal: 418ms\tremaining: 6.01s\n",
      "65:\tlearn: 0.4151526\ttotal: 424ms\tremaining: 6s\n",
      "66:\tlearn: 0.4144131\ttotal: 430ms\tremaining: 5.99s\n",
      "67:\tlearn: 0.4136320\ttotal: 436ms\tremaining: 5.98s\n",
      "68:\tlearn: 0.4127752\ttotal: 443ms\tremaining: 5.97s\n",
      "69:\tlearn: 0.4112433\ttotal: 449ms\tremaining: 5.96s\n",
      "70:\tlearn: 0.4102573\ttotal: 454ms\tremaining: 5.95s\n",
      "71:\tlearn: 0.4091124\ttotal: 460ms\tremaining: 5.93s\n",
      "72:\tlearn: 0.4082004\ttotal: 465ms\tremaining: 5.91s\n",
      "73:\tlearn: 0.4073339\ttotal: 471ms\tremaining: 5.9s\n",
      "74:\tlearn: 0.4067422\ttotal: 478ms\tremaining: 5.89s\n",
      "75:\tlearn: 0.4056525\ttotal: 484ms\tremaining: 5.88s\n",
      "76:\tlearn: 0.4049089\ttotal: 489ms\tremaining: 5.87s\n",
      "77:\tlearn: 0.4038860\ttotal: 495ms\tremaining: 5.85s\n",
      "78:\tlearn: 0.4033196\ttotal: 501ms\tremaining: 5.83s\n",
      "79:\tlearn: 0.4027093\ttotal: 506ms\tremaining: 5.82s\n",
      "80:\tlearn: 0.4009960\ttotal: 512ms\tremaining: 5.81s\n",
      "81:\tlearn: 0.4000841\ttotal: 518ms\tremaining: 5.79s\n",
      "82:\tlearn: 0.3993803\ttotal: 523ms\tremaining: 5.78s\n",
      "83:\tlearn: 0.3987124\ttotal: 529ms\tremaining: 5.77s\n",
      "84:\tlearn: 0.3978379\ttotal: 534ms\tremaining: 5.75s\n",
      "85:\tlearn: 0.3968468\ttotal: 540ms\tremaining: 5.74s\n",
      "86:\tlearn: 0.3961660\ttotal: 546ms\tremaining: 5.73s\n",
      "87:\tlearn: 0.3953969\ttotal: 552ms\tremaining: 5.72s\n",
      "88:\tlearn: 0.3946589\ttotal: 557ms\tremaining: 5.71s\n",
      "89:\tlearn: 0.3937756\ttotal: 564ms\tremaining: 5.7s\n",
      "90:\tlearn: 0.3930468\ttotal: 570ms\tremaining: 5.69s\n",
      "91:\tlearn: 0.3923003\ttotal: 575ms\tremaining: 5.68s\n",
      "92:\tlearn: 0.3913643\ttotal: 582ms\tremaining: 5.67s\n",
      "93:\tlearn: 0.3909134\ttotal: 588ms\tremaining: 5.66s\n",
      "94:\tlearn: 0.3901576\ttotal: 594ms\tremaining: 5.66s\n",
      "95:\tlearn: 0.3893015\ttotal: 600ms\tremaining: 5.65s\n",
      "96:\tlearn: 0.3884979\ttotal: 606ms\tremaining: 5.64s\n",
      "97:\tlearn: 0.3873145\ttotal: 613ms\tremaining: 5.64s\n",
      "98:\tlearn: 0.3866032\ttotal: 619ms\tremaining: 5.63s\n",
      "99:\tlearn: 0.3856832\ttotal: 625ms\tremaining: 5.63s\n",
      "100:\tlearn: 0.3844921\ttotal: 632ms\tremaining: 5.62s\n",
      "101:\tlearn: 0.3838763\ttotal: 638ms\tremaining: 5.62s\n",
      "102:\tlearn: 0.3829284\ttotal: 644ms\tremaining: 5.61s\n",
      "103:\tlearn: 0.3816543\ttotal: 650ms\tremaining: 5.6s\n",
      "104:\tlearn: 0.3809306\ttotal: 656ms\tremaining: 5.59s\n",
      "105:\tlearn: 0.3801768\ttotal: 663ms\tremaining: 5.59s\n",
      "106:\tlearn: 0.3792651\ttotal: 669ms\tremaining: 5.59s\n",
      "107:\tlearn: 0.3785550\ttotal: 675ms\tremaining: 5.58s\n",
      "108:\tlearn: 0.3779869\ttotal: 682ms\tremaining: 5.57s\n",
      "109:\tlearn: 0.3774637\ttotal: 688ms\tremaining: 5.57s\n",
      "110:\tlearn: 0.3768267\ttotal: 694ms\tremaining: 5.56s\n",
      "111:\tlearn: 0.3761623\ttotal: 701ms\tremaining: 5.55s\n",
      "112:\tlearn: 0.3751986\ttotal: 707ms\tremaining: 5.55s\n",
      "113:\tlearn: 0.3745983\ttotal: 713ms\tremaining: 5.54s\n",
      "114:\tlearn: 0.3740474\ttotal: 719ms\tremaining: 5.53s\n",
      "115:\tlearn: 0.3731769\ttotal: 725ms\tremaining: 5.52s\n",
      "116:\tlearn: 0.3724321\ttotal: 731ms\tremaining: 5.51s\n",
      "117:\tlearn: 0.3716034\ttotal: 737ms\tremaining: 5.51s\n",
      "118:\tlearn: 0.3711282\ttotal: 742ms\tremaining: 5.5s\n",
      "119:\tlearn: 0.3704558\ttotal: 748ms\tremaining: 5.49s\n",
      "120:\tlearn: 0.3698686\ttotal: 754ms\tremaining: 5.48s\n",
      "121:\tlearn: 0.3692507\ttotal: 760ms\tremaining: 5.47s\n",
      "122:\tlearn: 0.3682334\ttotal: 766ms\tremaining: 5.46s\n",
      "123:\tlearn: 0.3673398\ttotal: 772ms\tremaining: 5.46s\n",
      "124:\tlearn: 0.3667031\ttotal: 778ms\tremaining: 5.45s\n",
      "125:\tlearn: 0.3657631\ttotal: 784ms\tremaining: 5.44s\n",
      "126:\tlearn: 0.3648761\ttotal: 790ms\tremaining: 5.43s\n",
      "127:\tlearn: 0.3638966\ttotal: 796ms\tremaining: 5.42s\n",
      "128:\tlearn: 0.3631617\ttotal: 802ms\tremaining: 5.41s\n",
      "129:\tlearn: 0.3626998\ttotal: 807ms\tremaining: 5.4s\n",
      "130:\tlearn: 0.3620002\ttotal: 813ms\tremaining: 5.39s\n",
      "131:\tlearn: 0.3614183\ttotal: 819ms\tremaining: 5.39s\n",
      "132:\tlearn: 0.3608372\ttotal: 825ms\tremaining: 5.38s\n",
      "133:\tlearn: 0.3604127\ttotal: 831ms\tremaining: 5.37s\n",
      "134:\tlearn: 0.3594572\ttotal: 837ms\tremaining: 5.36s\n",
      "135:\tlearn: 0.3588233\ttotal: 843ms\tremaining: 5.35s\n",
      "136:\tlearn: 0.3579956\ttotal: 849ms\tremaining: 5.35s\n",
      "137:\tlearn: 0.3576189\ttotal: 855ms\tremaining: 5.34s\n",
      "138:\tlearn: 0.3568095\ttotal: 861ms\tremaining: 5.33s\n",
      "139:\tlearn: 0.3563442\ttotal: 866ms\tremaining: 5.32s\n",
      "140:\tlearn: 0.3557957\ttotal: 872ms\tremaining: 5.31s\n",
      "141:\tlearn: 0.3550983\ttotal: 878ms\tremaining: 5.3s\n",
      "142:\tlearn: 0.3540424\ttotal: 884ms\tremaining: 5.3s\n",
      "143:\tlearn: 0.3532942\ttotal: 890ms\tremaining: 5.29s\n",
      "144:\tlearn: 0.3526604\ttotal: 896ms\tremaining: 5.28s\n",
      "145:\tlearn: 0.3519068\ttotal: 902ms\tremaining: 5.27s\n",
      "146:\tlearn: 0.3509125\ttotal: 908ms\tremaining: 5.27s\n",
      "147:\tlearn: 0.3499607\ttotal: 914ms\tremaining: 5.26s\n",
      "148:\tlearn: 0.3495322\ttotal: 919ms\tremaining: 5.25s\n",
      "149:\tlearn: 0.3486874\ttotal: 925ms\tremaining: 5.24s\n",
      "150:\tlearn: 0.3478148\ttotal: 931ms\tremaining: 5.24s\n",
      "151:\tlearn: 0.3469267\ttotal: 938ms\tremaining: 5.23s\n",
      "152:\tlearn: 0.3458756\ttotal: 943ms\tremaining: 5.22s\n",
      "153:\tlearn: 0.3452886\ttotal: 949ms\tremaining: 5.21s\n",
      "154:\tlearn: 0.3446861\ttotal: 954ms\tremaining: 5.2s\n",
      "155:\tlearn: 0.3439768\ttotal: 960ms\tremaining: 5.19s\n",
      "156:\tlearn: 0.3434119\ttotal: 966ms\tremaining: 5.18s\n",
      "157:\tlearn: 0.3422834\ttotal: 972ms\tremaining: 5.18s\n",
      "158:\tlearn: 0.3413666\ttotal: 978ms\tremaining: 5.17s\n",
      "159:\tlearn: 0.3408371\ttotal: 983ms\tremaining: 5.16s\n",
      "160:\tlearn: 0.3401255\ttotal: 989ms\tremaining: 5.15s\n",
      "161:\tlearn: 0.3396324\ttotal: 994ms\tremaining: 5.14s\n",
      "162:\tlearn: 0.3389714\ttotal: 1s\tremaining: 5.13s\n",
      "163:\tlearn: 0.3382529\ttotal: 1s\tremaining: 5.13s\n",
      "164:\tlearn: 0.3376702\ttotal: 1.01s\tremaining: 5.12s\n",
      "165:\tlearn: 0.3368234\ttotal: 1.02s\tremaining: 5.11s\n",
      "166:\tlearn: 0.3363657\ttotal: 1.02s\tremaining: 5.1s\n",
      "167:\tlearn: 0.3354436\ttotal: 1.03s\tremaining: 5.09s\n",
      "168:\tlearn: 0.3349713\ttotal: 1.03s\tremaining: 5.08s\n",
      "169:\tlearn: 0.3344780\ttotal: 1.04s\tremaining: 5.08s\n",
      "170:\tlearn: 0.3339789\ttotal: 1.04s\tremaining: 5.07s\n",
      "171:\tlearn: 0.3329921\ttotal: 1.05s\tremaining: 5.06s\n",
      "172:\tlearn: 0.3324400\ttotal: 1.06s\tremaining: 5.05s\n",
      "173:\tlearn: 0.3316374\ttotal: 1.06s\tremaining: 5.04s\n",
      "174:\tlearn: 0.3307538\ttotal: 1.07s\tremaining: 5.04s\n",
      "175:\tlearn: 0.3301470\ttotal: 1.07s\tremaining: 5.03s\n",
      "176:\tlearn: 0.3297596\ttotal: 1.08s\tremaining: 5.02s\n",
      "177:\tlearn: 0.3291413\ttotal: 1.08s\tremaining: 5.01s\n",
      "178:\tlearn: 0.3283381\ttotal: 1.09s\tremaining: 5s\n",
      "179:\tlearn: 0.3276603\ttotal: 1.1s\tremaining: 4.99s\n",
      "180:\tlearn: 0.3269450\ttotal: 1.1s\tremaining: 4.98s\n",
      "181:\tlearn: 0.3263838\ttotal: 1.11s\tremaining: 4.98s\n",
      "182:\tlearn: 0.3256928\ttotal: 1.11s\tremaining: 4.97s\n",
      "183:\tlearn: 0.3251741\ttotal: 1.12s\tremaining: 4.96s\n",
      "184:\tlearn: 0.3240397\ttotal: 1.12s\tremaining: 4.95s\n",
      "185:\tlearn: 0.3237142\ttotal: 1.13s\tremaining: 4.95s\n",
      "186:\tlearn: 0.3231696\ttotal: 1.14s\tremaining: 4.94s\n",
      "187:\tlearn: 0.3223407\ttotal: 1.14s\tremaining: 4.93s\n",
      "188:\tlearn: 0.3216641\ttotal: 1.15s\tremaining: 4.92s\n",
      "189:\tlearn: 0.3211278\ttotal: 1.15s\tremaining: 4.92s\n",
      "190:\tlearn: 0.3206710\ttotal: 1.16s\tremaining: 4.91s\n",
      "191:\tlearn: 0.3202293\ttotal: 1.17s\tremaining: 4.9s\n",
      "192:\tlearn: 0.3195545\ttotal: 1.17s\tremaining: 4.9s\n",
      "193:\tlearn: 0.3185275\ttotal: 1.18s\tremaining: 4.89s\n",
      "194:\tlearn: 0.3182080\ttotal: 1.18s\tremaining: 4.88s\n",
      "195:\tlearn: 0.3174065\ttotal: 1.19s\tremaining: 4.88s\n",
      "196:\tlearn: 0.3167099\ttotal: 1.19s\tremaining: 4.87s\n",
      "197:\tlearn: 0.3161894\ttotal: 1.2s\tremaining: 4.86s\n",
      "198:\tlearn: 0.3155953\ttotal: 1.21s\tremaining: 4.85s\n",
      "199:\tlearn: 0.3148985\ttotal: 1.21s\tremaining: 4.84s\n",
      "200:\tlearn: 0.3143184\ttotal: 1.22s\tremaining: 4.84s\n",
      "201:\tlearn: 0.3140152\ttotal: 1.22s\tremaining: 4.83s\n",
      "202:\tlearn: 0.3135572\ttotal: 1.23s\tremaining: 4.82s\n",
      "203:\tlearn: 0.3129072\ttotal: 1.23s\tremaining: 4.82s\n",
      "204:\tlearn: 0.3125021\ttotal: 1.24s\tremaining: 4.81s\n",
      "205:\tlearn: 0.3118395\ttotal: 1.25s\tremaining: 4.8s\n",
      "206:\tlearn: 0.3112530\ttotal: 1.25s\tremaining: 4.8s\n",
      "207:\tlearn: 0.3104150\ttotal: 1.26s\tremaining: 4.79s\n",
      "208:\tlearn: 0.3097953\ttotal: 1.26s\tremaining: 4.78s\n",
      "209:\tlearn: 0.3091842\ttotal: 1.27s\tremaining: 4.78s\n",
      "210:\tlearn: 0.3086476\ttotal: 1.27s\tremaining: 4.77s\n",
      "211:\tlearn: 0.3080067\ttotal: 1.28s\tremaining: 4.76s\n",
      "212:\tlearn: 0.3072193\ttotal: 1.29s\tremaining: 4.76s\n",
      "213:\tlearn: 0.3067174\ttotal: 1.29s\tremaining: 4.75s\n",
      "214:\tlearn: 0.3059397\ttotal: 1.3s\tremaining: 4.74s\n",
      "215:\tlearn: 0.3054528\ttotal: 1.3s\tremaining: 4.74s\n",
      "216:\tlearn: 0.3049146\ttotal: 1.31s\tremaining: 4.73s\n",
      "217:\tlearn: 0.3043892\ttotal: 1.32s\tremaining: 4.72s\n",
      "218:\tlearn: 0.3038382\ttotal: 1.32s\tremaining: 4.72s\n",
      "219:\tlearn: 0.3035341\ttotal: 1.33s\tremaining: 4.71s\n",
      "220:\tlearn: 0.3026847\ttotal: 1.33s\tremaining: 4.7s\n",
      "221:\tlearn: 0.3019540\ttotal: 1.34s\tremaining: 4.7s\n",
      "222:\tlearn: 0.3015972\ttotal: 1.34s\tremaining: 4.69s\n",
      "223:\tlearn: 0.3009609\ttotal: 1.35s\tremaining: 4.68s\n",
      "224:\tlearn: 0.3006416\ttotal: 1.36s\tremaining: 4.67s\n",
      "225:\tlearn: 0.3001395\ttotal: 1.36s\tremaining: 4.67s\n",
      "226:\tlearn: 0.2996093\ttotal: 1.37s\tremaining: 4.66s\n",
      "227:\tlearn: 0.2989643\ttotal: 1.38s\tremaining: 4.66s\n",
      "228:\tlearn: 0.2985291\ttotal: 1.38s\tremaining: 4.65s\n",
      "229:\tlearn: 0.2978756\ttotal: 1.39s\tremaining: 4.64s\n",
      "230:\tlearn: 0.2971067\ttotal: 1.39s\tremaining: 4.64s\n",
      "231:\tlearn: 0.2965873\ttotal: 1.4s\tremaining: 4.63s\n",
      "232:\tlearn: 0.2960458\ttotal: 1.41s\tremaining: 4.63s\n",
      "233:\tlearn: 0.2957260\ttotal: 1.41s\tremaining: 4.62s\n",
      "234:\tlearn: 0.2951258\ttotal: 1.42s\tremaining: 4.61s\n",
      "235:\tlearn: 0.2946328\ttotal: 1.42s\tremaining: 4.6s\n",
      "236:\tlearn: 0.2940894\ttotal: 1.43s\tremaining: 4.6s\n",
      "237:\tlearn: 0.2937281\ttotal: 1.43s\tremaining: 4.59s\n",
      "238:\tlearn: 0.2931522\ttotal: 1.44s\tremaining: 4.58s\n",
      "239:\tlearn: 0.2928362\ttotal: 1.44s\tremaining: 4.58s\n",
      "240:\tlearn: 0.2923339\ttotal: 1.45s\tremaining: 4.57s\n",
      "241:\tlearn: 0.2917867\ttotal: 1.46s\tremaining: 4.56s\n",
      "242:\tlearn: 0.2913012\ttotal: 1.46s\tremaining: 4.55s\n",
      "243:\tlearn: 0.2905258\ttotal: 1.47s\tremaining: 4.55s\n",
      "244:\tlearn: 0.2901957\ttotal: 1.47s\tremaining: 4.54s\n",
      "245:\tlearn: 0.2895525\ttotal: 1.48s\tremaining: 4.54s\n",
      "246:\tlearn: 0.2889483\ttotal: 1.49s\tremaining: 4.53s\n",
      "247:\tlearn: 0.2884482\ttotal: 1.49s\tremaining: 4.53s\n",
      "248:\tlearn: 0.2878957\ttotal: 1.5s\tremaining: 4.52s\n",
      "249:\tlearn: 0.2873758\ttotal: 1.5s\tremaining: 4.52s\n",
      "250:\tlearn: 0.2870334\ttotal: 1.51s\tremaining: 4.51s\n",
      "251:\tlearn: 0.2863679\ttotal: 1.52s\tremaining: 4.5s\n",
      "252:\tlearn: 0.2860835\ttotal: 1.52s\tremaining: 4.5s\n",
      "253:\tlearn: 0.2855120\ttotal: 1.53s\tremaining: 4.49s\n",
      "254:\tlearn: 0.2849886\ttotal: 1.54s\tremaining: 4.49s\n",
      "255:\tlearn: 0.2844639\ttotal: 1.54s\tremaining: 4.48s\n",
      "256:\tlearn: 0.2837870\ttotal: 1.55s\tremaining: 4.48s\n",
      "257:\tlearn: 0.2833078\ttotal: 1.55s\tremaining: 4.47s\n",
      "258:\tlearn: 0.2827814\ttotal: 1.56s\tremaining: 4.47s\n",
      "259:\tlearn: 0.2824762\ttotal: 1.57s\tremaining: 4.46s\n",
      "260:\tlearn: 0.2819689\ttotal: 1.57s\tremaining: 4.46s\n",
      "261:\tlearn: 0.2813529\ttotal: 1.58s\tremaining: 4.45s\n",
      "262:\tlearn: 0.2810495\ttotal: 1.59s\tremaining: 4.45s\n",
      "263:\tlearn: 0.2806094\ttotal: 1.59s\tremaining: 4.44s\n",
      "264:\tlearn: 0.2797724\ttotal: 1.6s\tremaining: 4.44s\n",
      "265:\tlearn: 0.2795728\ttotal: 1.6s\tremaining: 4.43s\n",
      "266:\tlearn: 0.2790105\ttotal: 1.61s\tremaining: 4.43s\n",
      "267:\tlearn: 0.2785270\ttotal: 1.62s\tremaining: 4.42s\n",
      "268:\tlearn: 0.2780090\ttotal: 1.63s\tremaining: 4.42s\n",
      "269:\tlearn: 0.2772842\ttotal: 1.63s\tremaining: 4.41s\n",
      "270:\tlearn: 0.2766446\ttotal: 1.64s\tremaining: 4.4s\n",
      "271:\tlearn: 0.2761644\ttotal: 1.64s\tremaining: 4.39s\n",
      "272:\tlearn: 0.2758748\ttotal: 1.65s\tremaining: 4.39s\n",
      "273:\tlearn: 0.2754500\ttotal: 1.65s\tremaining: 4.38s\n",
      "274:\tlearn: 0.2751313\ttotal: 1.66s\tremaining: 4.37s\n",
      "275:\tlearn: 0.2745405\ttotal: 1.67s\tremaining: 4.37s\n",
      "276:\tlearn: 0.2741001\ttotal: 1.67s\tremaining: 4.36s\n",
      "277:\tlearn: 0.2736779\ttotal: 1.68s\tremaining: 4.35s\n",
      "278:\tlearn: 0.2732023\ttotal: 1.68s\tremaining: 4.35s\n",
      "279:\tlearn: 0.2726830\ttotal: 1.69s\tremaining: 4.34s\n",
      "280:\tlearn: 0.2721583\ttotal: 1.69s\tremaining: 4.33s\n",
      "281:\tlearn: 0.2718720\ttotal: 1.7s\tremaining: 4.33s\n",
      "282:\tlearn: 0.2715921\ttotal: 1.71s\tremaining: 4.32s\n",
      "283:\tlearn: 0.2711140\ttotal: 1.71s\tremaining: 4.32s\n",
      "284:\tlearn: 0.2706666\ttotal: 1.72s\tremaining: 4.31s\n",
      "285:\tlearn: 0.2699264\ttotal: 1.72s\tremaining: 4.3s\n",
      "286:\tlearn: 0.2694935\ttotal: 1.73s\tremaining: 4.29s\n",
      "287:\tlearn: 0.2690392\ttotal: 1.73s\tremaining: 4.29s\n",
      "288:\tlearn: 0.2684189\ttotal: 1.74s\tremaining: 4.28s\n",
      "289:\tlearn: 0.2679159\ttotal: 1.75s\tremaining: 4.28s\n",
      "290:\tlearn: 0.2674978\ttotal: 1.75s\tremaining: 4.27s\n",
      "291:\tlearn: 0.2669938\ttotal: 1.76s\tremaining: 4.26s\n",
      "292:\tlearn: 0.2666782\ttotal: 1.76s\tremaining: 4.25s\n",
      "293:\tlearn: 0.2662064\ttotal: 1.77s\tremaining: 4.25s\n",
      "294:\tlearn: 0.2659211\ttotal: 1.77s\tremaining: 4.24s\n",
      "295:\tlearn: 0.2656195\ttotal: 1.78s\tremaining: 4.23s\n",
      "296:\tlearn: 0.2652058\ttotal: 1.79s\tremaining: 4.23s\n",
      "297:\tlearn: 0.2648068\ttotal: 1.79s\tremaining: 4.22s\n",
      "298:\tlearn: 0.2643296\ttotal: 1.8s\tremaining: 4.21s\n",
      "299:\tlearn: 0.2638051\ttotal: 1.8s\tremaining: 4.21s\n",
      "300:\tlearn: 0.2634571\ttotal: 1.81s\tremaining: 4.2s\n",
      "301:\tlearn: 0.2627720\ttotal: 1.82s\tremaining: 4.2s\n",
      "302:\tlearn: 0.2624753\ttotal: 1.82s\tremaining: 4.19s\n",
      "303:\tlearn: 0.2622163\ttotal: 1.83s\tremaining: 4.18s\n",
      "304:\tlearn: 0.2616109\ttotal: 1.83s\tremaining: 4.18s\n",
      "305:\tlearn: 0.2610473\ttotal: 1.84s\tremaining: 4.17s\n",
      "306:\tlearn: 0.2605169\ttotal: 1.84s\tremaining: 4.16s\n",
      "307:\tlearn: 0.2600517\ttotal: 1.85s\tremaining: 4.16s\n",
      "308:\tlearn: 0.2596033\ttotal: 1.85s\tremaining: 4.15s\n",
      "309:\tlearn: 0.2591963\ttotal: 1.86s\tremaining: 4.14s\n",
      "310:\tlearn: 0.2587370\ttotal: 1.87s\tremaining: 4.14s\n",
      "311:\tlearn: 0.2581556\ttotal: 1.87s\tremaining: 4.13s\n",
      "312:\tlearn: 0.2578079\ttotal: 1.88s\tremaining: 4.13s\n",
      "313:\tlearn: 0.2574409\ttotal: 1.89s\tremaining: 4.12s\n",
      "314:\tlearn: 0.2571213\ttotal: 1.89s\tremaining: 4.12s\n",
      "315:\tlearn: 0.2568561\ttotal: 1.9s\tremaining: 4.11s\n",
      "316:\tlearn: 0.2563844\ttotal: 1.91s\tremaining: 4.11s\n",
      "317:\tlearn: 0.2561022\ttotal: 1.91s\tremaining: 4.1s\n",
      "318:\tlearn: 0.2556899\ttotal: 1.92s\tremaining: 4.09s\n",
      "319:\tlearn: 0.2554168\ttotal: 1.92s\tremaining: 4.09s\n",
      "320:\tlearn: 0.2548312\ttotal: 1.93s\tremaining: 4.08s\n",
      "321:\tlearn: 0.2545439\ttotal: 1.94s\tremaining: 4.08s\n",
      "322:\tlearn: 0.2538989\ttotal: 1.94s\tremaining: 4.07s\n",
      "323:\tlearn: 0.2532013\ttotal: 1.95s\tremaining: 4.07s\n",
      "324:\tlearn: 0.2527454\ttotal: 1.96s\tremaining: 4.06s\n",
      "325:\tlearn: 0.2524583\ttotal: 1.96s\tremaining: 4.06s\n",
      "326:\tlearn: 0.2516940\ttotal: 1.97s\tremaining: 4.05s\n",
      "327:\tlearn: 0.2512060\ttotal: 1.98s\tremaining: 4.05s\n",
      "328:\tlearn: 0.2509390\ttotal: 1.98s\tremaining: 4.04s\n",
      "329:\tlearn: 0.2507258\ttotal: 1.99s\tremaining: 4.04s\n",
      "330:\tlearn: 0.2505023\ttotal: 1.99s\tremaining: 4.03s\n",
      "331:\tlearn: 0.2500514\ttotal: 2s\tremaining: 4.03s\n",
      "332:\tlearn: 0.2496488\ttotal: 2.01s\tremaining: 4.02s\n",
      "333:\tlearn: 0.2491103\ttotal: 2.01s\tremaining: 4.01s\n",
      "334:\tlearn: 0.2486577\ttotal: 2.02s\tremaining: 4.01s\n",
      "335:\tlearn: 0.2478024\ttotal: 2.03s\tremaining: 4s\n",
      "336:\tlearn: 0.2475906\ttotal: 2.03s\tremaining: 4s\n",
      "337:\tlearn: 0.2472746\ttotal: 2.04s\tremaining: 3.99s\n",
      "338:\tlearn: 0.2468915\ttotal: 2.04s\tremaining: 3.99s\n",
      "339:\tlearn: 0.2465612\ttotal: 2.05s\tremaining: 3.98s\n",
      "340:\tlearn: 0.2461793\ttotal: 2.06s\tremaining: 3.97s\n",
      "341:\tlearn: 0.2458110\ttotal: 2.06s\tremaining: 3.97s\n",
      "342:\tlearn: 0.2451276\ttotal: 2.07s\tremaining: 3.96s\n",
      "343:\tlearn: 0.2446240\ttotal: 2.07s\tremaining: 3.95s\n",
      "344:\tlearn: 0.2441910\ttotal: 2.08s\tremaining: 3.95s\n",
      "345:\tlearn: 0.2439665\ttotal: 2.08s\tremaining: 3.94s\n",
      "346:\tlearn: 0.2436986\ttotal: 2.09s\tremaining: 3.93s\n",
      "347:\tlearn: 0.2431415\ttotal: 2.1s\tremaining: 3.93s\n",
      "348:\tlearn: 0.2426429\ttotal: 2.1s\tremaining: 3.92s\n",
      "349:\tlearn: 0.2423178\ttotal: 2.11s\tremaining: 3.92s\n",
      "350:\tlearn: 0.2418283\ttotal: 2.11s\tremaining: 3.91s\n",
      "351:\tlearn: 0.2412837\ttotal: 2.12s\tremaining: 3.9s\n",
      "352:\tlearn: 0.2408043\ttotal: 2.13s\tremaining: 3.9s\n",
      "353:\tlearn: 0.2403743\ttotal: 2.13s\tremaining: 3.89s\n",
      "354:\tlearn: 0.2399397\ttotal: 2.14s\tremaining: 3.88s\n",
      "355:\tlearn: 0.2396522\ttotal: 2.14s\tremaining: 3.88s\n",
      "356:\tlearn: 0.2390115\ttotal: 2.15s\tremaining: 3.87s\n",
      "357:\tlearn: 0.2388110\ttotal: 2.15s\tremaining: 3.87s\n",
      "358:\tlearn: 0.2384350\ttotal: 2.16s\tremaining: 3.86s\n",
      "359:\tlearn: 0.2381258\ttotal: 2.17s\tremaining: 3.85s\n",
      "360:\tlearn: 0.2378183\ttotal: 2.17s\tremaining: 3.85s\n",
      "361:\tlearn: 0.2375948\ttotal: 2.18s\tremaining: 3.84s\n",
      "362:\tlearn: 0.2372416\ttotal: 2.19s\tremaining: 3.83s\n",
      "363:\tlearn: 0.2368120\ttotal: 2.19s\tremaining: 3.83s\n",
      "364:\tlearn: 0.2364011\ttotal: 2.2s\tremaining: 3.82s\n",
      "365:\tlearn: 0.2359948\ttotal: 2.2s\tremaining: 3.82s\n",
      "366:\tlearn: 0.2357036\ttotal: 2.21s\tremaining: 3.81s\n",
      "367:\tlearn: 0.2352578\ttotal: 2.21s\tremaining: 3.8s\n",
      "368:\tlearn: 0.2349472\ttotal: 2.22s\tremaining: 3.8s\n",
      "369:\tlearn: 0.2344470\ttotal: 2.23s\tremaining: 3.79s\n",
      "370:\tlearn: 0.2341409\ttotal: 2.23s\tremaining: 3.78s\n",
      "371:\tlearn: 0.2339139\ttotal: 2.24s\tremaining: 3.78s\n",
      "372:\tlearn: 0.2335626\ttotal: 2.24s\tremaining: 3.77s\n",
      "373:\tlearn: 0.2332502\ttotal: 2.25s\tremaining: 3.76s\n",
      "374:\tlearn: 0.2327497\ttotal: 2.25s\tremaining: 3.76s\n",
      "375:\tlearn: 0.2325571\ttotal: 2.26s\tremaining: 3.75s\n",
      "376:\tlearn: 0.2322324\ttotal: 2.27s\tremaining: 3.75s\n",
      "377:\tlearn: 0.2320411\ttotal: 2.27s\tremaining: 3.74s\n",
      "378:\tlearn: 0.2316289\ttotal: 2.28s\tremaining: 3.73s\n",
      "379:\tlearn: 0.2308879\ttotal: 2.28s\tremaining: 3.73s\n",
      "380:\tlearn: 0.2305739\ttotal: 2.29s\tremaining: 3.72s\n",
      "381:\tlearn: 0.2301835\ttotal: 2.29s\tremaining: 3.71s\n",
      "382:\tlearn: 0.2296317\ttotal: 2.3s\tremaining: 3.71s\n",
      "383:\tlearn: 0.2292609\ttotal: 2.31s\tremaining: 3.7s\n",
      "384:\tlearn: 0.2288524\ttotal: 2.31s\tremaining: 3.69s\n",
      "385:\tlearn: 0.2284982\ttotal: 2.32s\tremaining: 3.69s\n",
      "386:\tlearn: 0.2277992\ttotal: 2.32s\tremaining: 3.68s\n",
      "387:\tlearn: 0.2275520\ttotal: 2.33s\tremaining: 3.67s\n",
      "388:\tlearn: 0.2272022\ttotal: 2.34s\tremaining: 3.67s\n",
      "389:\tlearn: 0.2266213\ttotal: 2.34s\tremaining: 3.66s\n",
      "390:\tlearn: 0.2262344\ttotal: 2.35s\tremaining: 3.66s\n",
      "391:\tlearn: 0.2259510\ttotal: 2.35s\tremaining: 3.65s\n",
      "392:\tlearn: 0.2253175\ttotal: 2.36s\tremaining: 3.65s\n",
      "393:\tlearn: 0.2250574\ttotal: 2.37s\tremaining: 3.64s\n",
      "394:\tlearn: 0.2247823\ttotal: 2.37s\tremaining: 3.63s\n",
      "395:\tlearn: 0.2245336\ttotal: 2.38s\tremaining: 3.63s\n",
      "396:\tlearn: 0.2240874\ttotal: 2.39s\tremaining: 3.62s\n",
      "397:\tlearn: 0.2235894\ttotal: 2.39s\tremaining: 3.62s\n",
      "398:\tlearn: 0.2233013\ttotal: 2.4s\tremaining: 3.61s\n",
      "399:\tlearn: 0.2227556\ttotal: 2.4s\tremaining: 3.61s\n",
      "400:\tlearn: 0.2225767\ttotal: 2.41s\tremaining: 3.6s\n",
      "401:\tlearn: 0.2221079\ttotal: 2.42s\tremaining: 3.6s\n",
      "402:\tlearn: 0.2219276\ttotal: 2.42s\tremaining: 3.59s\n",
      "403:\tlearn: 0.2215173\ttotal: 2.43s\tremaining: 3.59s\n",
      "404:\tlearn: 0.2213017\ttotal: 2.44s\tremaining: 3.58s\n",
      "405:\tlearn: 0.2210576\ttotal: 2.44s\tremaining: 3.57s\n",
      "406:\tlearn: 0.2208555\ttotal: 2.45s\tremaining: 3.57s\n",
      "407:\tlearn: 0.2205664\ttotal: 2.46s\tremaining: 3.56s\n",
      "408:\tlearn: 0.2203045\ttotal: 2.46s\tremaining: 3.56s\n",
      "409:\tlearn: 0.2201157\ttotal: 2.47s\tremaining: 3.55s\n",
      "410:\tlearn: 0.2198353\ttotal: 2.47s\tremaining: 3.54s\n",
      "411:\tlearn: 0.2192609\ttotal: 2.48s\tremaining: 3.54s\n",
      "412:\tlearn: 0.2190006\ttotal: 2.48s\tremaining: 3.53s\n",
      "413:\tlearn: 0.2186719\ttotal: 2.49s\tremaining: 3.53s\n",
      "414:\tlearn: 0.2183476\ttotal: 2.5s\tremaining: 3.52s\n",
      "415:\tlearn: 0.2181256\ttotal: 2.5s\tremaining: 3.52s\n",
      "416:\tlearn: 0.2177069\ttotal: 2.51s\tremaining: 3.51s\n",
      "417:\tlearn: 0.2174151\ttotal: 2.52s\tremaining: 3.5s\n",
      "418:\tlearn: 0.2171276\ttotal: 2.52s\tremaining: 3.5s\n",
      "419:\tlearn: 0.2169567\ttotal: 2.53s\tremaining: 3.49s\n",
      "420:\tlearn: 0.2165412\ttotal: 2.54s\tremaining: 3.49s\n",
      "421:\tlearn: 0.2161790\ttotal: 2.54s\tremaining: 3.48s\n",
      "422:\tlearn: 0.2159104\ttotal: 2.55s\tremaining: 3.48s\n",
      "423:\tlearn: 0.2155259\ttotal: 2.55s\tremaining: 3.47s\n",
      "424:\tlearn: 0.2152379\ttotal: 2.56s\tremaining: 3.46s\n",
      "425:\tlearn: 0.2146193\ttotal: 2.57s\tremaining: 3.46s\n",
      "426:\tlearn: 0.2140959\ttotal: 2.57s\tremaining: 3.45s\n",
      "427:\tlearn: 0.2137532\ttotal: 2.58s\tremaining: 3.45s\n",
      "428:\tlearn: 0.2133917\ttotal: 2.58s\tremaining: 3.44s\n",
      "429:\tlearn: 0.2129205\ttotal: 2.59s\tremaining: 3.44s\n",
      "430:\tlearn: 0.2126592\ttotal: 2.6s\tremaining: 3.43s\n",
      "431:\tlearn: 0.2124185\ttotal: 2.6s\tremaining: 3.42s\n",
      "432:\tlearn: 0.2120774\ttotal: 2.61s\tremaining: 3.42s\n",
      "433:\tlearn: 0.2118068\ttotal: 2.62s\tremaining: 3.41s\n",
      "434:\tlearn: 0.2115430\ttotal: 2.62s\tremaining: 3.4s\n",
      "435:\tlearn: 0.2112383\ttotal: 2.63s\tremaining: 3.4s\n",
      "436:\tlearn: 0.2108294\ttotal: 2.63s\tremaining: 3.39s\n",
      "437:\tlearn: 0.2104581\ttotal: 2.64s\tremaining: 3.39s\n",
      "438:\tlearn: 0.2101577\ttotal: 2.65s\tremaining: 3.38s\n",
      "439:\tlearn: 0.2099039\ttotal: 2.65s\tremaining: 3.38s\n",
      "440:\tlearn: 0.2096168\ttotal: 2.66s\tremaining: 3.37s\n",
      "441:\tlearn: 0.2092689\ttotal: 2.67s\tremaining: 3.37s\n",
      "442:\tlearn: 0.2089938\ttotal: 2.67s\tremaining: 3.36s\n",
      "443:\tlearn: 0.2084908\ttotal: 2.68s\tremaining: 3.35s\n",
      "444:\tlearn: 0.2081973\ttotal: 2.68s\tremaining: 3.35s\n",
      "445:\tlearn: 0.2079087\ttotal: 2.69s\tremaining: 3.34s\n",
      "446:\tlearn: 0.2077356\ttotal: 2.7s\tremaining: 3.33s\n",
      "447:\tlearn: 0.2074575\ttotal: 2.7s\tremaining: 3.33s\n",
      "448:\tlearn: 0.2071482\ttotal: 2.71s\tremaining: 3.32s\n",
      "449:\tlearn: 0.2068421\ttotal: 2.71s\tremaining: 3.32s\n",
      "450:\tlearn: 0.2065782\ttotal: 2.72s\tremaining: 3.31s\n",
      "451:\tlearn: 0.2063870\ttotal: 2.73s\tremaining: 3.3s\n",
      "452:\tlearn: 0.2059874\ttotal: 2.73s\tremaining: 3.3s\n",
      "453:\tlearn: 0.2057689\ttotal: 2.74s\tremaining: 3.29s\n",
      "454:\tlearn: 0.2054954\ttotal: 2.74s\tremaining: 3.29s\n",
      "455:\tlearn: 0.2051351\ttotal: 2.75s\tremaining: 3.28s\n",
      "456:\tlearn: 0.2048034\ttotal: 2.76s\tremaining: 3.27s\n",
      "457:\tlearn: 0.2043694\ttotal: 2.76s\tremaining: 3.27s\n",
      "458:\tlearn: 0.2041311\ttotal: 2.77s\tremaining: 3.26s\n",
      "459:\tlearn: 0.2039733\ttotal: 2.77s\tremaining: 3.26s\n",
      "460:\tlearn: 0.2034784\ttotal: 2.78s\tremaining: 3.25s\n",
      "461:\tlearn: 0.2031196\ttotal: 2.79s\tremaining: 3.24s\n",
      "462:\tlearn: 0.2027358\ttotal: 2.79s\tremaining: 3.24s\n",
      "463:\tlearn: 0.2023827\ttotal: 2.8s\tremaining: 3.23s\n",
      "464:\tlearn: 0.2021489\ttotal: 2.8s\tremaining: 3.23s\n",
      "465:\tlearn: 0.2019512\ttotal: 2.81s\tremaining: 3.22s\n",
      "466:\tlearn: 0.2014392\ttotal: 2.81s\tremaining: 3.21s\n",
      "467:\tlearn: 0.2011251\ttotal: 2.82s\tremaining: 3.21s\n",
      "468:\tlearn: 0.2007676\ttotal: 2.83s\tremaining: 3.2s\n",
      "469:\tlearn: 0.2005565\ttotal: 2.83s\tremaining: 3.19s\n",
      "470:\tlearn: 0.2001687\ttotal: 2.84s\tremaining: 3.19s\n",
      "471:\tlearn: 0.1998645\ttotal: 2.84s\tremaining: 3.18s\n",
      "472:\tlearn: 0.1996336\ttotal: 2.85s\tremaining: 3.17s\n",
      "473:\tlearn: 0.1992670\ttotal: 2.86s\tremaining: 3.17s\n",
      "474:\tlearn: 0.1989696\ttotal: 2.86s\tremaining: 3.16s\n",
      "475:\tlearn: 0.1987666\ttotal: 2.87s\tremaining: 3.16s\n",
      "476:\tlearn: 0.1986118\ttotal: 2.87s\tremaining: 3.15s\n",
      "477:\tlearn: 0.1981989\ttotal: 2.88s\tremaining: 3.14s\n",
      "478:\tlearn: 0.1980036\ttotal: 2.88s\tremaining: 3.14s\n",
      "479:\tlearn: 0.1977667\ttotal: 2.89s\tremaining: 3.13s\n",
      "480:\tlearn: 0.1973185\ttotal: 2.9s\tremaining: 3.13s\n",
      "481:\tlearn: 0.1970986\ttotal: 2.9s\tremaining: 3.12s\n",
      "482:\tlearn: 0.1967115\ttotal: 2.91s\tremaining: 3.11s\n",
      "483:\tlearn: 0.1963815\ttotal: 2.92s\tremaining: 3.11s\n",
      "484:\tlearn: 0.1960332\ttotal: 2.92s\tremaining: 3.1s\n",
      "485:\tlearn: 0.1956696\ttotal: 2.93s\tremaining: 3.1s\n",
      "486:\tlearn: 0.1951119\ttotal: 2.93s\tremaining: 3.09s\n",
      "487:\tlearn: 0.1949041\ttotal: 2.94s\tremaining: 3.08s\n",
      "488:\tlearn: 0.1945931\ttotal: 2.94s\tremaining: 3.08s\n",
      "489:\tlearn: 0.1943231\ttotal: 2.95s\tremaining: 3.07s\n",
      "490:\tlearn: 0.1940798\ttotal: 2.96s\tremaining: 3.06s\n",
      "491:\tlearn: 0.1937931\ttotal: 2.96s\tremaining: 3.06s\n",
      "492:\tlearn: 0.1934828\ttotal: 2.97s\tremaining: 3.05s\n",
      "493:\tlearn: 0.1932469\ttotal: 2.97s\tremaining: 3.05s\n",
      "494:\tlearn: 0.1931323\ttotal: 2.98s\tremaining: 3.04s\n",
      "495:\tlearn: 0.1929327\ttotal: 2.99s\tremaining: 3.03s\n",
      "496:\tlearn: 0.1927745\ttotal: 2.99s\tremaining: 3.03s\n",
      "497:\tlearn: 0.1925322\ttotal: 3s\tremaining: 3.02s\n",
      "498:\tlearn: 0.1922166\ttotal: 3s\tremaining: 3.02s\n",
      "499:\tlearn: 0.1920289\ttotal: 3.01s\tremaining: 3.01s\n",
      "500:\tlearn: 0.1917701\ttotal: 3.02s\tremaining: 3s\n",
      "501:\tlearn: 0.1916242\ttotal: 3.02s\tremaining: 3s\n",
      "502:\tlearn: 0.1913204\ttotal: 3.03s\tremaining: 2.99s\n",
      "503:\tlearn: 0.1910866\ttotal: 3.03s\tremaining: 2.98s\n",
      "504:\tlearn: 0.1906744\ttotal: 3.04s\tremaining: 2.98s\n",
      "505:\tlearn: 0.1904733\ttotal: 3.04s\tremaining: 2.97s\n",
      "506:\tlearn: 0.1903129\ttotal: 3.05s\tremaining: 2.97s\n",
      "507:\tlearn: 0.1900426\ttotal: 3.06s\tremaining: 2.96s\n",
      "508:\tlearn: 0.1896584\ttotal: 3.06s\tremaining: 2.96s\n",
      "509:\tlearn: 0.1893979\ttotal: 3.07s\tremaining: 2.95s\n",
      "510:\tlearn: 0.1889824\ttotal: 3.08s\tremaining: 2.94s\n",
      "511:\tlearn: 0.1887012\ttotal: 3.08s\tremaining: 2.94s\n",
      "512:\tlearn: 0.1885726\ttotal: 3.09s\tremaining: 2.93s\n",
      "513:\tlearn: 0.1883379\ttotal: 3.09s\tremaining: 2.92s\n",
      "514:\tlearn: 0.1879319\ttotal: 3.1s\tremaining: 2.92s\n",
      "515:\tlearn: 0.1876630\ttotal: 3.1s\tremaining: 2.91s\n",
      "516:\tlearn: 0.1872550\ttotal: 3.11s\tremaining: 2.91s\n",
      "517:\tlearn: 0.1869079\ttotal: 3.12s\tremaining: 2.9s\n",
      "518:\tlearn: 0.1865686\ttotal: 3.12s\tremaining: 2.89s\n",
      "519:\tlearn: 0.1861899\ttotal: 3.13s\tremaining: 2.89s\n",
      "520:\tlearn: 0.1859554\ttotal: 3.13s\tremaining: 2.88s\n",
      "521:\tlearn: 0.1857370\ttotal: 3.14s\tremaining: 2.88s\n",
      "522:\tlearn: 0.1854372\ttotal: 3.15s\tremaining: 2.87s\n",
      "523:\tlearn: 0.1852271\ttotal: 3.15s\tremaining: 2.86s\n",
      "524:\tlearn: 0.1849605\ttotal: 3.16s\tremaining: 2.86s\n",
      "525:\tlearn: 0.1846254\ttotal: 3.16s\tremaining: 2.85s\n",
      "526:\tlearn: 0.1844172\ttotal: 3.17s\tremaining: 2.85s\n",
      "527:\tlearn: 0.1842551\ttotal: 3.18s\tremaining: 2.84s\n",
      "528:\tlearn: 0.1838809\ttotal: 3.18s\tremaining: 2.83s\n",
      "529:\tlearn: 0.1836406\ttotal: 3.19s\tremaining: 2.83s\n",
      "530:\tlearn: 0.1832747\ttotal: 3.19s\tremaining: 2.82s\n",
      "531:\tlearn: 0.1830308\ttotal: 3.2s\tremaining: 2.81s\n",
      "532:\tlearn: 0.1827130\ttotal: 3.21s\tremaining: 2.81s\n",
      "533:\tlearn: 0.1825288\ttotal: 3.21s\tremaining: 2.8s\n",
      "534:\tlearn: 0.1821259\ttotal: 3.22s\tremaining: 2.8s\n",
      "535:\tlearn: 0.1819552\ttotal: 3.22s\tremaining: 2.79s\n",
      "536:\tlearn: 0.1816420\ttotal: 3.23s\tremaining: 2.79s\n",
      "537:\tlearn: 0.1814579\ttotal: 3.24s\tremaining: 2.78s\n",
      "538:\tlearn: 0.1811811\ttotal: 3.24s\tremaining: 2.77s\n",
      "539:\tlearn: 0.1809013\ttotal: 3.25s\tremaining: 2.77s\n",
      "540:\tlearn: 0.1804438\ttotal: 3.25s\tremaining: 2.76s\n",
      "541:\tlearn: 0.1802501\ttotal: 3.26s\tremaining: 2.75s\n",
      "542:\tlearn: 0.1798622\ttotal: 3.27s\tremaining: 2.75s\n",
      "543:\tlearn: 0.1795107\ttotal: 3.27s\tremaining: 2.74s\n",
      "544:\tlearn: 0.1791662\ttotal: 3.28s\tremaining: 2.74s\n",
      "545:\tlearn: 0.1790062\ttotal: 3.28s\tremaining: 2.73s\n",
      "546:\tlearn: 0.1786611\ttotal: 3.29s\tremaining: 2.72s\n",
      "547:\tlearn: 0.1784210\ttotal: 3.29s\tremaining: 2.72s\n",
      "548:\tlearn: 0.1779534\ttotal: 3.3s\tremaining: 2.71s\n",
      "549:\tlearn: 0.1777830\ttotal: 3.31s\tremaining: 2.71s\n",
      "550:\tlearn: 0.1774536\ttotal: 3.31s\tremaining: 2.7s\n",
      "551:\tlearn: 0.1771791\ttotal: 3.32s\tremaining: 2.69s\n",
      "552:\tlearn: 0.1769468\ttotal: 3.33s\tremaining: 2.69s\n",
      "553:\tlearn: 0.1768565\ttotal: 3.33s\tremaining: 2.68s\n",
      "554:\tlearn: 0.1766248\ttotal: 3.34s\tremaining: 2.67s\n",
      "555:\tlearn: 0.1763614\ttotal: 3.34s\tremaining: 2.67s\n",
      "556:\tlearn: 0.1760940\ttotal: 3.35s\tremaining: 2.66s\n",
      "557:\tlearn: 0.1758272\ttotal: 3.35s\tremaining: 2.66s\n",
      "558:\tlearn: 0.1756795\ttotal: 3.36s\tremaining: 2.65s\n",
      "559:\tlearn: 0.1754838\ttotal: 3.37s\tremaining: 2.64s\n",
      "560:\tlearn: 0.1752651\ttotal: 3.37s\tremaining: 2.64s\n",
      "561:\tlearn: 0.1750787\ttotal: 3.38s\tremaining: 2.63s\n",
      "562:\tlearn: 0.1749272\ttotal: 3.38s\tremaining: 2.63s\n",
      "563:\tlearn: 0.1746472\ttotal: 3.39s\tremaining: 2.62s\n",
      "564:\tlearn: 0.1744130\ttotal: 3.39s\tremaining: 2.61s\n",
      "565:\tlearn: 0.1742231\ttotal: 3.4s\tremaining: 2.61s\n",
      "566:\tlearn: 0.1738145\ttotal: 3.41s\tremaining: 2.6s\n",
      "567:\tlearn: 0.1734559\ttotal: 3.41s\tremaining: 2.6s\n",
      "568:\tlearn: 0.1732344\ttotal: 3.42s\tremaining: 2.59s\n",
      "569:\tlearn: 0.1730672\ttotal: 3.42s\tremaining: 2.58s\n",
      "570:\tlearn: 0.1728849\ttotal: 3.43s\tremaining: 2.58s\n",
      "571:\tlearn: 0.1725107\ttotal: 3.44s\tremaining: 2.57s\n",
      "572:\tlearn: 0.1722411\ttotal: 3.44s\tremaining: 2.56s\n",
      "573:\tlearn: 0.1719980\ttotal: 3.45s\tremaining: 2.56s\n",
      "574:\tlearn: 0.1718598\ttotal: 3.46s\tremaining: 2.55s\n",
      "575:\tlearn: 0.1716547\ttotal: 3.46s\tremaining: 2.55s\n",
      "576:\tlearn: 0.1712901\ttotal: 3.47s\tremaining: 2.54s\n",
      "577:\tlearn: 0.1711321\ttotal: 3.47s\tremaining: 2.54s\n",
      "578:\tlearn: 0.1707780\ttotal: 3.48s\tremaining: 2.53s\n",
      "579:\tlearn: 0.1705410\ttotal: 3.48s\tremaining: 2.52s\n",
      "580:\tlearn: 0.1703574\ttotal: 3.49s\tremaining: 2.52s\n",
      "581:\tlearn: 0.1699990\ttotal: 3.5s\tremaining: 2.51s\n",
      "582:\tlearn: 0.1697545\ttotal: 3.5s\tremaining: 2.5s\n",
      "583:\tlearn: 0.1695902\ttotal: 3.51s\tremaining: 2.5s\n",
      "584:\tlearn: 0.1693830\ttotal: 3.51s\tremaining: 2.49s\n",
      "585:\tlearn: 0.1690485\ttotal: 3.52s\tremaining: 2.49s\n",
      "586:\tlearn: 0.1688497\ttotal: 3.53s\tremaining: 2.48s\n",
      "587:\tlearn: 0.1687219\ttotal: 3.53s\tremaining: 2.48s\n",
      "588:\tlearn: 0.1684044\ttotal: 3.54s\tremaining: 2.47s\n",
      "589:\tlearn: 0.1682228\ttotal: 3.54s\tremaining: 2.46s\n",
      "590:\tlearn: 0.1680447\ttotal: 3.55s\tremaining: 2.46s\n",
      "591:\tlearn: 0.1678966\ttotal: 3.56s\tremaining: 2.45s\n",
      "592:\tlearn: 0.1676154\ttotal: 3.56s\tremaining: 2.44s\n",
      "593:\tlearn: 0.1674546\ttotal: 3.57s\tremaining: 2.44s\n",
      "594:\tlearn: 0.1671339\ttotal: 3.57s\tremaining: 2.43s\n",
      "595:\tlearn: 0.1667896\ttotal: 3.58s\tremaining: 2.42s\n",
      "596:\tlearn: 0.1663842\ttotal: 3.58s\tremaining: 2.42s\n",
      "597:\tlearn: 0.1660253\ttotal: 3.59s\tremaining: 2.41s\n",
      "598:\tlearn: 0.1658836\ttotal: 3.6s\tremaining: 2.41s\n",
      "599:\tlearn: 0.1656825\ttotal: 3.6s\tremaining: 2.4s\n",
      "600:\tlearn: 0.1655519\ttotal: 3.61s\tremaining: 2.4s\n",
      "601:\tlearn: 0.1653383\ttotal: 3.61s\tremaining: 2.39s\n",
      "602:\tlearn: 0.1651890\ttotal: 3.62s\tremaining: 2.38s\n",
      "603:\tlearn: 0.1650020\ttotal: 3.63s\tremaining: 2.38s\n",
      "604:\tlearn: 0.1646160\ttotal: 3.63s\tremaining: 2.37s\n",
      "605:\tlearn: 0.1644073\ttotal: 3.64s\tremaining: 2.37s\n",
      "606:\tlearn: 0.1641486\ttotal: 3.64s\tremaining: 2.36s\n",
      "607:\tlearn: 0.1640314\ttotal: 3.65s\tremaining: 2.35s\n",
      "608:\tlearn: 0.1636855\ttotal: 3.66s\tremaining: 2.35s\n",
      "609:\tlearn: 0.1635836\ttotal: 3.66s\tremaining: 2.34s\n",
      "610:\tlearn: 0.1632673\ttotal: 3.67s\tremaining: 2.34s\n",
      "611:\tlearn: 0.1629890\ttotal: 3.68s\tremaining: 2.33s\n",
      "612:\tlearn: 0.1629273\ttotal: 3.68s\tremaining: 2.32s\n",
      "613:\tlearn: 0.1627210\ttotal: 3.69s\tremaining: 2.32s\n",
      "614:\tlearn: 0.1625119\ttotal: 3.69s\tremaining: 2.31s\n",
      "615:\tlearn: 0.1622494\ttotal: 3.7s\tremaining: 2.31s\n",
      "616:\tlearn: 0.1620774\ttotal: 3.71s\tremaining: 2.3s\n",
      "617:\tlearn: 0.1618440\ttotal: 3.71s\tremaining: 2.29s\n",
      "618:\tlearn: 0.1615689\ttotal: 3.72s\tremaining: 2.29s\n",
      "619:\tlearn: 0.1613343\ttotal: 3.72s\tremaining: 2.28s\n",
      "620:\tlearn: 0.1611233\ttotal: 3.73s\tremaining: 2.28s\n",
      "621:\tlearn: 0.1609610\ttotal: 3.73s\tremaining: 2.27s\n",
      "622:\tlearn: 0.1608648\ttotal: 3.74s\tremaining: 2.26s\n",
      "623:\tlearn: 0.1607621\ttotal: 3.75s\tremaining: 2.26s\n",
      "624:\tlearn: 0.1605681\ttotal: 3.75s\tremaining: 2.25s\n",
      "625:\tlearn: 0.1603437\ttotal: 3.76s\tremaining: 2.25s\n",
      "626:\tlearn: 0.1601159\ttotal: 3.77s\tremaining: 2.24s\n",
      "627:\tlearn: 0.1599666\ttotal: 3.77s\tremaining: 2.23s\n",
      "628:\tlearn: 0.1598378\ttotal: 3.78s\tremaining: 2.23s\n",
      "629:\tlearn: 0.1595846\ttotal: 3.78s\tremaining: 2.22s\n",
      "630:\tlearn: 0.1593430\ttotal: 3.79s\tremaining: 2.22s\n",
      "631:\tlearn: 0.1590115\ttotal: 3.8s\tremaining: 2.21s\n",
      "632:\tlearn: 0.1587788\ttotal: 3.8s\tremaining: 2.21s\n",
      "633:\tlearn: 0.1584953\ttotal: 3.81s\tremaining: 2.2s\n",
      "634:\tlearn: 0.1583497\ttotal: 3.81s\tremaining: 2.19s\n",
      "635:\tlearn: 0.1581221\ttotal: 3.82s\tremaining: 2.19s\n",
      "636:\tlearn: 0.1578410\ttotal: 3.83s\tremaining: 2.18s\n",
      "637:\tlearn: 0.1575880\ttotal: 3.83s\tremaining: 2.18s\n",
      "638:\tlearn: 0.1574210\ttotal: 3.84s\tremaining: 2.17s\n",
      "639:\tlearn: 0.1572933\ttotal: 3.85s\tremaining: 2.16s\n",
      "640:\tlearn: 0.1570452\ttotal: 3.85s\tremaining: 2.16s\n",
      "641:\tlearn: 0.1568298\ttotal: 3.86s\tremaining: 2.15s\n",
      "642:\tlearn: 0.1565786\ttotal: 3.87s\tremaining: 2.15s\n",
      "643:\tlearn: 0.1563916\ttotal: 3.87s\tremaining: 2.14s\n",
      "644:\tlearn: 0.1560752\ttotal: 3.88s\tremaining: 2.13s\n",
      "645:\tlearn: 0.1558818\ttotal: 3.88s\tremaining: 2.13s\n",
      "646:\tlearn: 0.1555486\ttotal: 3.89s\tremaining: 2.12s\n",
      "647:\tlearn: 0.1554338\ttotal: 3.9s\tremaining: 2.12s\n",
      "648:\tlearn: 0.1552277\ttotal: 3.9s\tremaining: 2.11s\n",
      "649:\tlearn: 0.1548986\ttotal: 3.91s\tremaining: 2.1s\n",
      "650:\tlearn: 0.1546492\ttotal: 3.91s\tremaining: 2.1s\n",
      "651:\tlearn: 0.1544874\ttotal: 3.92s\tremaining: 2.09s\n",
      "652:\tlearn: 0.1543089\ttotal: 3.93s\tremaining: 2.09s\n",
      "653:\tlearn: 0.1539869\ttotal: 3.94s\tremaining: 2.08s\n",
      "654:\tlearn: 0.1537740\ttotal: 3.94s\tremaining: 2.08s\n",
      "655:\tlearn: 0.1535679\ttotal: 3.95s\tremaining: 2.07s\n",
      "656:\tlearn: 0.1533749\ttotal: 3.96s\tremaining: 2.06s\n",
      "657:\tlearn: 0.1532379\ttotal: 3.97s\tremaining: 2.06s\n",
      "658:\tlearn: 0.1529985\ttotal: 3.97s\tremaining: 2.06s\n",
      "659:\tlearn: 0.1528133\ttotal: 3.98s\tremaining: 2.05s\n",
      "660:\tlearn: 0.1526190\ttotal: 3.99s\tremaining: 2.04s\n",
      "661:\tlearn: 0.1524910\ttotal: 4s\tremaining: 2.04s\n",
      "662:\tlearn: 0.1522721\ttotal: 4s\tremaining: 2.04s\n",
      "663:\tlearn: 0.1520932\ttotal: 4.01s\tremaining: 2.03s\n",
      "664:\tlearn: 0.1518921\ttotal: 4.02s\tremaining: 2.02s\n",
      "665:\tlearn: 0.1517188\ttotal: 4.02s\tremaining: 2.02s\n",
      "666:\tlearn: 0.1514802\ttotal: 4.03s\tremaining: 2.01s\n",
      "667:\tlearn: 0.1512596\ttotal: 4.04s\tremaining: 2s\n",
      "668:\tlearn: 0.1510867\ttotal: 4.04s\tremaining: 2s\n",
      "669:\tlearn: 0.1509375\ttotal: 4.05s\tremaining: 1.99s\n",
      "670:\tlearn: 0.1506654\ttotal: 4.05s\tremaining: 1.99s\n",
      "671:\tlearn: 0.1505117\ttotal: 4.06s\tremaining: 1.98s\n",
      "672:\tlearn: 0.1502708\ttotal: 4.07s\tremaining: 1.98s\n",
      "673:\tlearn: 0.1499885\ttotal: 4.07s\tremaining: 1.97s\n",
      "674:\tlearn: 0.1498078\ttotal: 4.08s\tremaining: 1.96s\n",
      "675:\tlearn: 0.1496158\ttotal: 4.08s\tremaining: 1.96s\n",
      "676:\tlearn: 0.1494492\ttotal: 4.09s\tremaining: 1.95s\n",
      "677:\tlearn: 0.1492278\ttotal: 4.1s\tremaining: 1.95s\n",
      "678:\tlearn: 0.1489560\ttotal: 4.11s\tremaining: 1.94s\n",
      "679:\tlearn: 0.1488284\ttotal: 4.11s\tremaining: 1.94s\n",
      "680:\tlearn: 0.1486978\ttotal: 4.12s\tremaining: 1.93s\n",
      "681:\tlearn: 0.1485770\ttotal: 4.13s\tremaining: 1.92s\n",
      "682:\tlearn: 0.1483897\ttotal: 4.13s\tremaining: 1.92s\n",
      "683:\tlearn: 0.1482158\ttotal: 4.14s\tremaining: 1.91s\n",
      "684:\tlearn: 0.1478355\ttotal: 4.15s\tremaining: 1.91s\n",
      "685:\tlearn: 0.1476976\ttotal: 4.16s\tremaining: 1.9s\n",
      "686:\tlearn: 0.1474750\ttotal: 4.16s\tremaining: 1.9s\n",
      "687:\tlearn: 0.1473637\ttotal: 4.17s\tremaining: 1.89s\n",
      "688:\tlearn: 0.1470572\ttotal: 4.17s\tremaining: 1.88s\n",
      "689:\tlearn: 0.1469169\ttotal: 4.18s\tremaining: 1.88s\n",
      "690:\tlearn: 0.1468308\ttotal: 4.19s\tremaining: 1.87s\n",
      "691:\tlearn: 0.1465512\ttotal: 4.2s\tremaining: 1.87s\n",
      "692:\tlearn: 0.1463673\ttotal: 4.2s\tremaining: 1.86s\n",
      "693:\tlearn: 0.1462009\ttotal: 4.21s\tremaining: 1.86s\n",
      "694:\tlearn: 0.1458798\ttotal: 4.22s\tremaining: 1.85s\n",
      "695:\tlearn: 0.1455397\ttotal: 4.22s\tremaining: 1.84s\n",
      "696:\tlearn: 0.1451539\ttotal: 4.23s\tremaining: 1.84s\n",
      "697:\tlearn: 0.1449541\ttotal: 4.24s\tremaining: 1.83s\n",
      "698:\tlearn: 0.1448184\ttotal: 4.24s\tremaining: 1.83s\n",
      "699:\tlearn: 0.1446218\ttotal: 4.25s\tremaining: 1.82s\n",
      "700:\tlearn: 0.1445267\ttotal: 4.26s\tremaining: 1.81s\n",
      "701:\tlearn: 0.1443618\ttotal: 4.26s\tremaining: 1.81s\n",
      "702:\tlearn: 0.1440995\ttotal: 4.27s\tremaining: 1.8s\n",
      "703:\tlearn: 0.1439619\ttotal: 4.27s\tremaining: 1.8s\n",
      "704:\tlearn: 0.1436986\ttotal: 4.28s\tremaining: 1.79s\n",
      "705:\tlearn: 0.1434906\ttotal: 4.29s\tremaining: 1.78s\n",
      "706:\tlearn: 0.1433888\ttotal: 4.29s\tremaining: 1.78s\n",
      "707:\tlearn: 0.1432971\ttotal: 4.3s\tremaining: 1.77s\n",
      "708:\tlearn: 0.1431496\ttotal: 4.3s\tremaining: 1.77s\n",
      "709:\tlearn: 0.1429638\ttotal: 4.31s\tremaining: 1.76s\n",
      "710:\tlearn: 0.1428599\ttotal: 4.32s\tremaining: 1.75s\n",
      "711:\tlearn: 0.1426822\ttotal: 4.32s\tremaining: 1.75s\n",
      "712:\tlearn: 0.1425222\ttotal: 4.33s\tremaining: 1.74s\n",
      "713:\tlearn: 0.1423834\ttotal: 4.33s\tremaining: 1.74s\n",
      "714:\tlearn: 0.1422150\ttotal: 4.34s\tremaining: 1.73s\n",
      "715:\tlearn: 0.1419557\ttotal: 4.35s\tremaining: 1.72s\n",
      "716:\tlearn: 0.1417830\ttotal: 4.35s\tremaining: 1.72s\n",
      "717:\tlearn: 0.1415482\ttotal: 4.36s\tremaining: 1.71s\n",
      "718:\tlearn: 0.1412433\ttotal: 4.37s\tremaining: 1.71s\n",
      "719:\tlearn: 0.1410688\ttotal: 4.37s\tremaining: 1.7s\n",
      "720:\tlearn: 0.1408653\ttotal: 4.38s\tremaining: 1.69s\n",
      "721:\tlearn: 0.1406866\ttotal: 4.38s\tremaining: 1.69s\n",
      "722:\tlearn: 0.1405213\ttotal: 4.39s\tremaining: 1.68s\n",
      "723:\tlearn: 0.1403333\ttotal: 4.4s\tremaining: 1.68s\n",
      "724:\tlearn: 0.1402182\ttotal: 4.4s\tremaining: 1.67s\n",
      "725:\tlearn: 0.1400573\ttotal: 4.41s\tremaining: 1.66s\n",
      "726:\tlearn: 0.1399081\ttotal: 4.42s\tremaining: 1.66s\n",
      "727:\tlearn: 0.1396970\ttotal: 4.42s\tremaining: 1.65s\n",
      "728:\tlearn: 0.1396000\ttotal: 4.43s\tremaining: 1.65s\n",
      "729:\tlearn: 0.1394161\ttotal: 4.43s\tremaining: 1.64s\n",
      "730:\tlearn: 0.1392116\ttotal: 4.44s\tremaining: 1.63s\n",
      "731:\tlearn: 0.1390782\ttotal: 4.45s\tremaining: 1.63s\n",
      "732:\tlearn: 0.1390230\ttotal: 4.45s\tremaining: 1.62s\n",
      "733:\tlearn: 0.1388254\ttotal: 4.46s\tremaining: 1.61s\n",
      "734:\tlearn: 0.1386649\ttotal: 4.46s\tremaining: 1.61s\n",
      "735:\tlearn: 0.1384534\ttotal: 4.47s\tremaining: 1.6s\n",
      "736:\tlearn: 0.1382518\ttotal: 4.47s\tremaining: 1.6s\n",
      "737:\tlearn: 0.1381107\ttotal: 4.48s\tremaining: 1.59s\n",
      "738:\tlearn: 0.1379977\ttotal: 4.49s\tremaining: 1.58s\n",
      "739:\tlearn: 0.1377478\ttotal: 4.49s\tremaining: 1.58s\n",
      "740:\tlearn: 0.1375737\ttotal: 4.5s\tremaining: 1.57s\n",
      "741:\tlearn: 0.1374512\ttotal: 4.5s\tremaining: 1.57s\n",
      "742:\tlearn: 0.1371281\ttotal: 4.51s\tremaining: 1.56s\n",
      "743:\tlearn: 0.1369530\ttotal: 4.52s\tremaining: 1.55s\n",
      "744:\tlearn: 0.1368419\ttotal: 4.52s\tremaining: 1.55s\n",
      "745:\tlearn: 0.1366717\ttotal: 4.53s\tremaining: 1.54s\n",
      "746:\tlearn: 0.1365388\ttotal: 4.53s\tremaining: 1.53s\n",
      "747:\tlearn: 0.1362146\ttotal: 4.54s\tremaining: 1.53s\n",
      "748:\tlearn: 0.1360320\ttotal: 4.55s\tremaining: 1.52s\n",
      "749:\tlearn: 0.1357900\ttotal: 4.55s\tremaining: 1.52s\n",
      "750:\tlearn: 0.1355256\ttotal: 4.56s\tremaining: 1.51s\n",
      "751:\tlearn: 0.1353875\ttotal: 4.57s\tremaining: 1.51s\n",
      "752:\tlearn: 0.1351753\ttotal: 4.57s\tremaining: 1.5s\n",
      "753:\tlearn: 0.1350560\ttotal: 4.58s\tremaining: 1.49s\n",
      "754:\tlearn: 0.1348949\ttotal: 4.59s\tremaining: 1.49s\n",
      "755:\tlearn: 0.1347165\ttotal: 4.59s\tremaining: 1.48s\n",
      "756:\tlearn: 0.1345887\ttotal: 4.6s\tremaining: 1.48s\n",
      "757:\tlearn: 0.1344176\ttotal: 4.61s\tremaining: 1.47s\n",
      "758:\tlearn: 0.1341351\ttotal: 4.61s\tremaining: 1.46s\n",
      "759:\tlearn: 0.1340218\ttotal: 4.62s\tremaining: 1.46s\n",
      "760:\tlearn: 0.1338074\ttotal: 4.63s\tremaining: 1.45s\n",
      "761:\tlearn: 0.1336831\ttotal: 4.63s\tremaining: 1.45s\n",
      "762:\tlearn: 0.1334469\ttotal: 4.64s\tremaining: 1.44s\n",
      "763:\tlearn: 0.1333163\ttotal: 4.65s\tremaining: 1.44s\n",
      "764:\tlearn: 0.1330721\ttotal: 4.65s\tremaining: 1.43s\n",
      "765:\tlearn: 0.1328898\ttotal: 4.66s\tremaining: 1.42s\n",
      "766:\tlearn: 0.1326628\ttotal: 4.67s\tremaining: 1.42s\n",
      "767:\tlearn: 0.1324710\ttotal: 4.67s\tremaining: 1.41s\n",
      "768:\tlearn: 0.1323289\ttotal: 4.68s\tremaining: 1.41s\n",
      "769:\tlearn: 0.1320994\ttotal: 4.68s\tremaining: 1.4s\n",
      "770:\tlearn: 0.1319598\ttotal: 4.69s\tremaining: 1.39s\n",
      "771:\tlearn: 0.1318621\ttotal: 4.7s\tremaining: 1.39s\n",
      "772:\tlearn: 0.1317594\ttotal: 4.7s\tremaining: 1.38s\n",
      "773:\tlearn: 0.1314763\ttotal: 4.71s\tremaining: 1.38s\n",
      "774:\tlearn: 0.1313727\ttotal: 4.71s\tremaining: 1.37s\n",
      "775:\tlearn: 0.1312847\ttotal: 4.72s\tremaining: 1.36s\n",
      "776:\tlearn: 0.1310378\ttotal: 4.73s\tremaining: 1.36s\n",
      "777:\tlearn: 0.1309083\ttotal: 4.73s\tremaining: 1.35s\n",
      "778:\tlearn: 0.1306502\ttotal: 4.74s\tremaining: 1.34s\n",
      "779:\tlearn: 0.1304524\ttotal: 4.75s\tremaining: 1.34s\n",
      "780:\tlearn: 0.1303280\ttotal: 4.75s\tremaining: 1.33s\n",
      "781:\tlearn: 0.1300032\ttotal: 4.76s\tremaining: 1.33s\n",
      "782:\tlearn: 0.1298445\ttotal: 4.76s\tremaining: 1.32s\n",
      "783:\tlearn: 0.1296686\ttotal: 4.77s\tremaining: 1.31s\n",
      "784:\tlearn: 0.1294670\ttotal: 4.78s\tremaining: 1.31s\n",
      "785:\tlearn: 0.1293420\ttotal: 4.78s\tremaining: 1.3s\n",
      "786:\tlearn: 0.1292680\ttotal: 4.79s\tremaining: 1.29s\n",
      "787:\tlearn: 0.1290618\ttotal: 4.79s\tremaining: 1.29s\n",
      "788:\tlearn: 0.1288059\ttotal: 4.8s\tremaining: 1.28s\n",
      "789:\tlearn: 0.1286163\ttotal: 4.8s\tremaining: 1.28s\n",
      "790:\tlearn: 0.1285416\ttotal: 4.81s\tremaining: 1.27s\n",
      "791:\tlearn: 0.1284825\ttotal: 4.82s\tremaining: 1.26s\n",
      "792:\tlearn: 0.1282879\ttotal: 4.82s\tremaining: 1.26s\n",
      "793:\tlearn: 0.1281616\ttotal: 4.83s\tremaining: 1.25s\n",
      "794:\tlearn: 0.1279890\ttotal: 4.83s\tremaining: 1.25s\n",
      "795:\tlearn: 0.1277728\ttotal: 4.84s\tremaining: 1.24s\n",
      "796:\tlearn: 0.1275205\ttotal: 4.84s\tremaining: 1.23s\n",
      "797:\tlearn: 0.1273442\ttotal: 4.85s\tremaining: 1.23s\n",
      "798:\tlearn: 0.1272021\ttotal: 4.86s\tremaining: 1.22s\n",
      "799:\tlearn: 0.1270328\ttotal: 4.86s\tremaining: 1.22s\n",
      "800:\tlearn: 0.1269327\ttotal: 4.87s\tremaining: 1.21s\n",
      "801:\tlearn: 0.1267641\ttotal: 4.87s\tremaining: 1.2s\n",
      "802:\tlearn: 0.1265945\ttotal: 4.88s\tremaining: 1.2s\n",
      "803:\tlearn: 0.1263705\ttotal: 4.89s\tremaining: 1.19s\n",
      "804:\tlearn: 0.1261512\ttotal: 4.89s\tremaining: 1.19s\n",
      "805:\tlearn: 0.1259924\ttotal: 4.9s\tremaining: 1.18s\n",
      "806:\tlearn: 0.1258423\ttotal: 4.91s\tremaining: 1.17s\n",
      "807:\tlearn: 0.1257275\ttotal: 4.91s\tremaining: 1.17s\n",
      "808:\tlearn: 0.1255373\ttotal: 4.92s\tremaining: 1.16s\n",
      "809:\tlearn: 0.1253398\ttotal: 4.92s\tremaining: 1.15s\n",
      "810:\tlearn: 0.1252555\ttotal: 4.93s\tremaining: 1.15s\n",
      "811:\tlearn: 0.1251312\ttotal: 4.93s\tremaining: 1.14s\n",
      "812:\tlearn: 0.1249752\ttotal: 4.94s\tremaining: 1.14s\n",
      "813:\tlearn: 0.1248903\ttotal: 4.95s\tremaining: 1.13s\n",
      "814:\tlearn: 0.1247705\ttotal: 4.95s\tremaining: 1.12s\n",
      "815:\tlearn: 0.1245748\ttotal: 4.96s\tremaining: 1.12s\n",
      "816:\tlearn: 0.1244217\ttotal: 4.96s\tremaining: 1.11s\n",
      "817:\tlearn: 0.1242451\ttotal: 4.97s\tremaining: 1.1s\n",
      "818:\tlearn: 0.1241476\ttotal: 4.97s\tremaining: 1.1s\n",
      "819:\tlearn: 0.1240189\ttotal: 4.98s\tremaining: 1.09s\n",
      "820:\tlearn: 0.1239186\ttotal: 4.99s\tremaining: 1.09s\n",
      "821:\tlearn: 0.1237843\ttotal: 4.99s\tremaining: 1.08s\n",
      "822:\tlearn: 0.1236782\ttotal: 5s\tremaining: 1.07s\n",
      "823:\tlearn: 0.1235078\ttotal: 5.01s\tremaining: 1.07s\n",
      "824:\tlearn: 0.1233357\ttotal: 5.01s\tremaining: 1.06s\n",
      "825:\tlearn: 0.1232407\ttotal: 5.02s\tremaining: 1.06s\n",
      "826:\tlearn: 0.1230442\ttotal: 5.02s\tremaining: 1.05s\n",
      "827:\tlearn: 0.1228851\ttotal: 5.03s\tremaining: 1.04s\n",
      "828:\tlearn: 0.1227086\ttotal: 5.04s\tremaining: 1.04s\n",
      "829:\tlearn: 0.1225807\ttotal: 5.04s\tremaining: 1.03s\n",
      "830:\tlearn: 0.1224296\ttotal: 5.05s\tremaining: 1.03s\n",
      "831:\tlearn: 0.1222572\ttotal: 5.05s\tremaining: 1.02s\n",
      "832:\tlearn: 0.1220955\ttotal: 5.06s\tremaining: 1.01s\n",
      "833:\tlearn: 0.1220330\ttotal: 5.07s\tremaining: 1.01s\n",
      "834:\tlearn: 0.1218782\ttotal: 5.07s\tremaining: 1s\n",
      "835:\tlearn: 0.1217843\ttotal: 5.08s\tremaining: 997ms\n",
      "836:\tlearn: 0.1216231\ttotal: 5.09s\tremaining: 991ms\n",
      "837:\tlearn: 0.1214766\ttotal: 5.09s\tremaining: 984ms\n",
      "838:\tlearn: 0.1213276\ttotal: 5.1s\tremaining: 978ms\n",
      "839:\tlearn: 0.1211818\ttotal: 5.1s\tremaining: 972ms\n",
      "840:\tlearn: 0.1210576\ttotal: 5.11s\tremaining: 966ms\n",
      "841:\tlearn: 0.1208461\ttotal: 5.12s\tremaining: 960ms\n",
      "842:\tlearn: 0.1206437\ttotal: 5.12s\tremaining: 954ms\n",
      "843:\tlearn: 0.1205159\ttotal: 5.13s\tremaining: 948ms\n",
      "844:\tlearn: 0.1202388\ttotal: 5.13s\tremaining: 942ms\n",
      "845:\tlearn: 0.1200969\ttotal: 5.14s\tremaining: 936ms\n",
      "846:\tlearn: 0.1200039\ttotal: 5.14s\tremaining: 929ms\n",
      "847:\tlearn: 0.1198920\ttotal: 5.15s\tremaining: 923ms\n",
      "848:\tlearn: 0.1197018\ttotal: 5.16s\tremaining: 917ms\n",
      "849:\tlearn: 0.1195929\ttotal: 5.16s\tremaining: 911ms\n",
      "850:\tlearn: 0.1194824\ttotal: 5.17s\tremaining: 905ms\n",
      "851:\tlearn: 0.1192690\ttotal: 5.17s\tremaining: 899ms\n",
      "852:\tlearn: 0.1190767\ttotal: 5.18s\tremaining: 893ms\n",
      "853:\tlearn: 0.1189667\ttotal: 5.19s\tremaining: 887ms\n",
      "854:\tlearn: 0.1188826\ttotal: 5.19s\tremaining: 881ms\n",
      "855:\tlearn: 0.1187410\ttotal: 5.2s\tremaining: 875ms\n",
      "856:\tlearn: 0.1185669\ttotal: 5.2s\tremaining: 868ms\n",
      "857:\tlearn: 0.1184366\ttotal: 5.21s\tremaining: 862ms\n",
      "858:\tlearn: 0.1183571\ttotal: 5.22s\tremaining: 856ms\n",
      "859:\tlearn: 0.1181506\ttotal: 5.22s\tremaining: 850ms\n",
      "860:\tlearn: 0.1180414\ttotal: 5.23s\tremaining: 844ms\n",
      "861:\tlearn: 0.1178665\ttotal: 5.23s\tremaining: 838ms\n",
      "862:\tlearn: 0.1177405\ttotal: 5.24s\tremaining: 832ms\n",
      "863:\tlearn: 0.1175610\ttotal: 5.25s\tremaining: 826ms\n",
      "864:\tlearn: 0.1174008\ttotal: 5.25s\tremaining: 820ms\n",
      "865:\tlearn: 0.1172287\ttotal: 5.26s\tremaining: 814ms\n",
      "866:\tlearn: 0.1169914\ttotal: 5.26s\tremaining: 808ms\n",
      "867:\tlearn: 0.1168998\ttotal: 5.27s\tremaining: 802ms\n",
      "868:\tlearn: 0.1166406\ttotal: 5.28s\tremaining: 796ms\n",
      "869:\tlearn: 0.1165353\ttotal: 5.28s\tremaining: 790ms\n",
      "870:\tlearn: 0.1163049\ttotal: 5.29s\tremaining: 784ms\n",
      "871:\tlearn: 0.1162206\ttotal: 5.3s\tremaining: 777ms\n",
      "872:\tlearn: 0.1160926\ttotal: 5.3s\tremaining: 771ms\n",
      "873:\tlearn: 0.1159622\ttotal: 5.31s\tremaining: 765ms\n",
      "874:\tlearn: 0.1158668\ttotal: 5.31s\tremaining: 759ms\n",
      "875:\tlearn: 0.1157516\ttotal: 5.32s\tremaining: 753ms\n",
      "876:\tlearn: 0.1156298\ttotal: 5.33s\tremaining: 747ms\n",
      "877:\tlearn: 0.1154229\ttotal: 5.33s\tremaining: 741ms\n",
      "878:\tlearn: 0.1152665\ttotal: 5.34s\tremaining: 735ms\n",
      "879:\tlearn: 0.1151036\ttotal: 5.35s\tremaining: 729ms\n",
      "880:\tlearn: 0.1149379\ttotal: 5.35s\tremaining: 723ms\n",
      "881:\tlearn: 0.1148802\ttotal: 5.36s\tremaining: 717ms\n",
      "882:\tlearn: 0.1147761\ttotal: 5.36s\tremaining: 711ms\n",
      "883:\tlearn: 0.1145087\ttotal: 5.37s\tremaining: 705ms\n",
      "884:\tlearn: 0.1143571\ttotal: 5.38s\tremaining: 699ms\n",
      "885:\tlearn: 0.1142383\ttotal: 5.38s\tremaining: 693ms\n",
      "886:\tlearn: 0.1140576\ttotal: 5.39s\tremaining: 687ms\n",
      "887:\tlearn: 0.1139610\ttotal: 5.39s\tremaining: 681ms\n",
      "888:\tlearn: 0.1138448\ttotal: 5.4s\tremaining: 674ms\n",
      "889:\tlearn: 0.1137080\ttotal: 5.41s\tremaining: 668ms\n",
      "890:\tlearn: 0.1136601\ttotal: 5.41s\tremaining: 662ms\n",
      "891:\tlearn: 0.1135513\ttotal: 5.42s\tremaining: 656ms\n",
      "892:\tlearn: 0.1134342\ttotal: 5.42s\tremaining: 650ms\n",
      "893:\tlearn: 0.1133460\ttotal: 5.43s\tremaining: 644ms\n",
      "894:\tlearn: 0.1131852\ttotal: 5.44s\tremaining: 638ms\n",
      "895:\tlearn: 0.1130115\ttotal: 5.44s\tremaining: 632ms\n",
      "896:\tlearn: 0.1128783\ttotal: 5.45s\tremaining: 626ms\n",
      "897:\tlearn: 0.1126854\ttotal: 5.46s\tremaining: 620ms\n",
      "898:\tlearn: 0.1125091\ttotal: 5.46s\tremaining: 614ms\n",
      "899:\tlearn: 0.1124158\ttotal: 5.47s\tremaining: 607ms\n",
      "900:\tlearn: 0.1123333\ttotal: 5.47s\tremaining: 601ms\n",
      "901:\tlearn: 0.1121898\ttotal: 5.48s\tremaining: 595ms\n",
      "902:\tlearn: 0.1120225\ttotal: 5.48s\tremaining: 589ms\n",
      "903:\tlearn: 0.1118784\ttotal: 5.49s\tremaining: 583ms\n",
      "904:\tlearn: 0.1117356\ttotal: 5.5s\tremaining: 577ms\n",
      "905:\tlearn: 0.1115923\ttotal: 5.5s\tremaining: 571ms\n",
      "906:\tlearn: 0.1114663\ttotal: 5.51s\tremaining: 565ms\n",
      "907:\tlearn: 0.1113870\ttotal: 5.51s\tremaining: 559ms\n",
      "908:\tlearn: 0.1112862\ttotal: 5.52s\tremaining: 553ms\n",
      "909:\tlearn: 0.1111592\ttotal: 5.53s\tremaining: 547ms\n",
      "910:\tlearn: 0.1110492\ttotal: 5.53s\tremaining: 540ms\n",
      "911:\tlearn: 0.1109358\ttotal: 5.54s\tremaining: 534ms\n",
      "912:\tlearn: 0.1107286\ttotal: 5.54s\tremaining: 528ms\n",
      "913:\tlearn: 0.1105233\ttotal: 5.55s\tremaining: 522ms\n",
      "914:\tlearn: 0.1104235\ttotal: 5.56s\tremaining: 516ms\n",
      "915:\tlearn: 0.1101924\ttotal: 5.56s\tremaining: 510ms\n",
      "916:\tlearn: 0.1100298\ttotal: 5.57s\tremaining: 504ms\n",
      "917:\tlearn: 0.1098791\ttotal: 5.58s\tremaining: 498ms\n",
      "918:\tlearn: 0.1098366\ttotal: 5.58s\tremaining: 492ms\n",
      "919:\tlearn: 0.1096420\ttotal: 5.59s\tremaining: 486ms\n",
      "920:\tlearn: 0.1093675\ttotal: 5.59s\tremaining: 480ms\n",
      "921:\tlearn: 0.1093129\ttotal: 5.6s\tremaining: 474ms\n",
      "922:\tlearn: 0.1090788\ttotal: 5.61s\tremaining: 468ms\n",
      "923:\tlearn: 0.1088976\ttotal: 5.61s\tremaining: 462ms\n",
      "924:\tlearn: 0.1087555\ttotal: 5.62s\tremaining: 456ms\n",
      "925:\tlearn: 0.1086737\ttotal: 5.63s\tremaining: 450ms\n",
      "926:\tlearn: 0.1085929\ttotal: 5.63s\tremaining: 443ms\n",
      "927:\tlearn: 0.1084600\ttotal: 5.64s\tremaining: 437ms\n",
      "928:\tlearn: 0.1083460\ttotal: 5.64s\tremaining: 431ms\n",
      "929:\tlearn: 0.1082619\ttotal: 5.65s\tremaining: 425ms\n",
      "930:\tlearn: 0.1081528\ttotal: 5.65s\tremaining: 419ms\n",
      "931:\tlearn: 0.1080455\ttotal: 5.66s\tremaining: 413ms\n",
      "932:\tlearn: 0.1080124\ttotal: 5.67s\tremaining: 407ms\n",
      "933:\tlearn: 0.1079030\ttotal: 5.67s\tremaining: 401ms\n",
      "934:\tlearn: 0.1076547\ttotal: 5.68s\tremaining: 395ms\n",
      "935:\tlearn: 0.1075163\ttotal: 5.68s\tremaining: 389ms\n",
      "936:\tlearn: 0.1074118\ttotal: 5.69s\tremaining: 383ms\n",
      "937:\tlearn: 0.1072618\ttotal: 5.7s\tremaining: 377ms\n",
      "938:\tlearn: 0.1071051\ttotal: 5.7s\tremaining: 370ms\n",
      "939:\tlearn: 0.1069697\ttotal: 5.71s\tremaining: 364ms\n",
      "940:\tlearn: 0.1069066\ttotal: 5.71s\tremaining: 358ms\n",
      "941:\tlearn: 0.1068183\ttotal: 5.72s\tremaining: 352ms\n",
      "942:\tlearn: 0.1067177\ttotal: 5.73s\tremaining: 346ms\n",
      "943:\tlearn: 0.1066136\ttotal: 5.73s\tremaining: 340ms\n",
      "944:\tlearn: 0.1065166\ttotal: 5.74s\tremaining: 334ms\n",
      "945:\tlearn: 0.1064067\ttotal: 5.75s\tremaining: 328ms\n",
      "946:\tlearn: 0.1062956\ttotal: 5.75s\tremaining: 322ms\n",
      "947:\tlearn: 0.1061449\ttotal: 5.76s\tremaining: 316ms\n",
      "948:\tlearn: 0.1059556\ttotal: 5.76s\tremaining: 310ms\n",
      "949:\tlearn: 0.1058514\ttotal: 5.77s\tremaining: 304ms\n",
      "950:\tlearn: 0.1056330\ttotal: 5.78s\tremaining: 298ms\n",
      "951:\tlearn: 0.1054291\ttotal: 5.78s\tremaining: 292ms\n",
      "952:\tlearn: 0.1052091\ttotal: 5.79s\tremaining: 285ms\n",
      "953:\tlearn: 0.1050662\ttotal: 5.79s\tremaining: 279ms\n",
      "954:\tlearn: 0.1049652\ttotal: 5.8s\tremaining: 273ms\n",
      "955:\tlearn: 0.1048260\ttotal: 5.81s\tremaining: 267ms\n",
      "956:\tlearn: 0.1046611\ttotal: 5.81s\tremaining: 261ms\n",
      "957:\tlearn: 0.1044680\ttotal: 5.82s\tremaining: 255ms\n",
      "958:\tlearn: 0.1043108\ttotal: 5.83s\tremaining: 249ms\n",
      "959:\tlearn: 0.1041109\ttotal: 5.83s\tremaining: 243ms\n",
      "960:\tlearn: 0.1040046\ttotal: 5.84s\tremaining: 237ms\n",
      "961:\tlearn: 0.1038049\ttotal: 5.84s\tremaining: 231ms\n",
      "962:\tlearn: 0.1036727\ttotal: 5.85s\tremaining: 225ms\n",
      "963:\tlearn: 0.1036014\ttotal: 5.86s\tremaining: 219ms\n",
      "964:\tlearn: 0.1035674\ttotal: 5.86s\tremaining: 213ms\n",
      "965:\tlearn: 0.1035179\ttotal: 5.87s\tremaining: 207ms\n",
      "966:\tlearn: 0.1034686\ttotal: 5.87s\tremaining: 200ms\n",
      "967:\tlearn: 0.1033082\ttotal: 5.88s\tremaining: 194ms\n",
      "968:\tlearn: 0.1031471\ttotal: 5.89s\tremaining: 188ms\n",
      "969:\tlearn: 0.1030050\ttotal: 5.89s\tremaining: 182ms\n",
      "970:\tlearn: 0.1029358\ttotal: 5.9s\tremaining: 176ms\n",
      "971:\tlearn: 0.1028170\ttotal: 5.9s\tremaining: 170ms\n",
      "972:\tlearn: 0.1026885\ttotal: 5.91s\tremaining: 164ms\n",
      "973:\tlearn: 0.1025159\ttotal: 5.92s\tremaining: 158ms\n",
      "974:\tlearn: 0.1024419\ttotal: 5.92s\tremaining: 152ms\n",
      "975:\tlearn: 0.1023094\ttotal: 5.93s\tremaining: 146ms\n",
      "976:\tlearn: 0.1021985\ttotal: 5.93s\tremaining: 140ms\n",
      "977:\tlearn: 0.1019955\ttotal: 5.94s\tremaining: 134ms\n",
      "978:\tlearn: 0.1018954\ttotal: 5.95s\tremaining: 128ms\n",
      "979:\tlearn: 0.1017468\ttotal: 5.95s\tremaining: 121ms\n",
      "980:\tlearn: 0.1016167\ttotal: 5.96s\tremaining: 115ms\n",
      "981:\tlearn: 0.1014324\ttotal: 5.96s\tremaining: 109ms\n",
      "982:\tlearn: 0.1013870\ttotal: 5.97s\tremaining: 103ms\n",
      "983:\tlearn: 0.1013133\ttotal: 5.97s\tremaining: 97.1ms\n",
      "984:\tlearn: 0.1012015\ttotal: 5.98s\tremaining: 91.1ms\n",
      "985:\tlearn: 0.1010869\ttotal: 5.99s\tremaining: 85ms\n",
      "986:\tlearn: 0.1009940\ttotal: 5.99s\tremaining: 78.9ms\n",
      "987:\tlearn: 0.1008746\ttotal: 6s\tremaining: 72.9ms\n",
      "988:\tlearn: 0.1007472\ttotal: 6.01s\tremaining: 66.8ms\n",
      "989:\tlearn: 0.1006631\ttotal: 6.01s\tremaining: 60.7ms\n",
      "990:\tlearn: 0.1005801\ttotal: 6.02s\tremaining: 54.7ms\n",
      "991:\tlearn: 0.1003390\ttotal: 6.03s\tremaining: 48.6ms\n",
      "992:\tlearn: 0.1002362\ttotal: 6.03s\tremaining: 42.5ms\n",
      "993:\tlearn: 0.1001731\ttotal: 6.04s\tremaining: 36.4ms\n",
      "994:\tlearn: 0.1000239\ttotal: 6.04s\tremaining: 30.4ms\n",
      "995:\tlearn: 0.0999175\ttotal: 6.05s\tremaining: 24.3ms\n",
      "996:\tlearn: 0.0997958\ttotal: 6.06s\tremaining: 18.2ms\n",
      "997:\tlearn: 0.0997077\ttotal: 6.06s\tremaining: 12.2ms\n",
      "998:\tlearn: 0.0995515\ttotal: 6.07s\tremaining: 6.08ms\n",
      "999:\tlearn: 0.0994770\ttotal: 6.08s\tremaining: 0us\n"
     ]
    },
    {
     "data": {
      "text/plain": [
       "<catboost.core.CatBoostClassifier at 0x7b6a5f4af340>"
      ]
     },
     "execution_count": 252,
     "metadata": {},
     "output_type": "execute_result"
    }
   ],
   "source": [
    "clf = CatBoostClassifier(loss_function='MultiClass', task_type=\"GPU\", devices='0', random_state=0)\n",
    "\n",
    "clf.fit(train_embeds, target_train, plot_file=\"catboost_log.html\")"
   ]
  },
  {
   "cell_type": "code",
   "execution_count": 253,
   "metadata": {
    "execution": {
     "iopub.execute_input": "2025-03-07T23:18:15.748433Z",
     "iopub.status.busy": "2025-03-07T23:18:15.748067Z",
     "iopub.status.idle": "2025-03-07T23:18:15.763729Z",
     "shell.execute_reply": "2025-03-07T23:18:15.762849Z",
     "shell.execute_reply.started": "2025-03-07T23:18:15.748394Z"
    },
    "trusted": true
   },
   "outputs": [],
   "source": [
    "test_pred = clf.predict(test_embeds)\n",
    "test_proba = clf.predict_proba(test_embeds)[:, 1]"
   ]
  },
  {
   "cell_type": "code",
   "execution_count": 254,
   "metadata": {
    "execution": {
     "iopub.execute_input": "2025-03-07T23:18:17.344541Z",
     "iopub.status.busy": "2025-03-07T23:18:17.344187Z",
     "iopub.status.idle": "2025-03-07T23:18:17.354751Z",
     "shell.execute_reply": "2025-03-07T23:18:17.353942Z",
     "shell.execute_reply.started": "2025-03-07T23:18:17.344509Z"
    },
    "trusted": true
   },
   "outputs": [
    {
     "name": "stdout",
     "output_type": "stream",
     "text": [
      "Accuracy: 0.75\n",
      "ROC-AUC: 0.8040342555568147\n"
     ]
    }
   ],
   "source": [
    "print(\"Accuracy:\", accuracy_score(target_test, test_pred))\n",
    "print(\"ROC-AUC:\", roc_auc_score(target_test, test_proba))"
   ]
  },
  {
   "cell_type": "markdown",
   "metadata": {},
   "source": [
    "- CPC context embeds + Catboost (low dim of trx embeds: each embed is of dim 8):\n",
    "  - `Accuracy: 0.7336 +- 0.0119`,\n",
    "  - `ROC-AUC: 0.8078 +- 0.004`\n",
    "  \n",
    "\\\n",
    "\n",
    "- CPC context embeds + Catboost (higher dim of trx embeds: each embed is of dim 16):\n",
    "  - `Accuracy: 0.7464 +- 0.0099`\n",
    "  - `ROC-AUC: 0.805 +- 0.00598`\n",
    "\n",
    "\\\n",
    "\n",
    "- CPC context embeds + Catboost (even higher dim of trx embeds: each embed is of dim 32):\n",
    "  - `Accuracy: 0.7372 +- 0.0144`\n",
    "  - `ROC-AUC: 0.8099 +- 0.0069`\n",
    "\n",
    "- CPC context embeds w/ Aug + Catboost (dim of trx embeds: 8):\n",
    "  - `Accuracy: 0.7432 +- 0.0078`\n",
    "  - `ROC-AUC: 0.8134 +- 0.0049`\n",
    "\n",
    "\\\n",
    "\n",
    "- CPC context embeds w/ Aug + Catboost (dim of trx embeds: 16):\n",
    "  - `Accuracy: 0.7376 +- 0.0145`\n",
    "  - `ROC-AUC: 0.8055 +- 0.0072`\n",
    "\n",
    "\\\n",
    "\n",
    "- CPC context embeds w/ Aug + Catboost (dim of trx embeds: 32):\n",
    "  - `Accuracy: 0.748 +- 0.0033`\n",
    "  - `ROC-AUC: 0.81 +- 0.0048`\n",
    "\n",
    "**При обучении с аугментациями получаем лучшее качество => будем их использовать. Лучшие результаты - у конфигураций CPC context embeds w/ Aug + Catboost (dim of trx embeds: 8) и CPC context embeds w/ Aug + Catboost (dim of trx embeds: 32), полученные результаты в целом сравнимы, но у второй accuracy значительно выше, чем у другой => берём её.**"
   ]
  },
  {
   "cell_type": "markdown",
   "metadata": {},
   "source": [
    "---"
   ]
  },
  {
   "cell_type": "markdown",
   "metadata": {},
   "source": [
    "- **GPT:**"
   ]
  },
  {
   "cell_type": "code",
   "execution_count": 668,
   "metadata": {
    "execution": {
     "iopub.execute_input": "2025-03-08T16:07:02.450724Z",
     "iopub.status.busy": "2025-03-08T16:07:02.450375Z",
     "iopub.status.idle": "2025-03-08T16:07:02.456195Z",
     "shell.execute_reply": "2025-03-08T16:07:02.455508Z",
     "shell.execute_reply.started": "2025-03-08T16:07:02.450695Z"
    },
    "trusted": true
   },
   "outputs": [],
   "source": [
    "seed_everything(30)"
   ]
  },
  {
   "cell_type": "markdown",
   "metadata": {},
   "source": [
    "**DataLoaders:**"
   ]
  },
  {
   "cell_type": "code",
   "execution_count": 669,
   "metadata": {
    "execution": {
     "iopub.execute_input": "2025-03-08T16:07:04.258267Z",
     "iopub.status.busy": "2025-03-08T16:07:04.257985Z",
     "iopub.status.idle": "2025-03-08T16:07:04.263705Z",
     "shell.execute_reply": "2025-03-08T16:07:04.262901Z",
     "shell.execute_reply.started": "2025-03-08T16:07:04.258245Z"
    },
    "trusted": true
   },
   "outputs": [],
   "source": [
    "data = PtlsDataModule(\n",
    "    train_data=GptDataset(\n",
    "        MemoryMapDataset(data=data_train),\n",
    "        min_len=1000, # 85\n",
    "        max_len=1200 # 105\n",
    "    ),\n",
    "    train_num_workers=4,\n",
    "    train_batch_size=64,\n",
    "    valid_data=GptDataset(\n",
    "        MemoryMapDataset(data=data_test),\n",
    "        min_len=85,\n",
    "        max_len=105\n",
    "    ),\n",
    "    valid_num_workers=4,\n",
    "    valid_batch_size=64\n",
    ")"
   ]
  },
  {
   "cell_type": "markdown",
   "metadata": {},
   "source": [
    "**Модель:**"
   ]
  },
  {
   "cell_type": "code",
   "execution_count": 670,
   "metadata": {
    "execution": {
     "iopub.execute_input": "2025-03-08T16:07:06.340720Z",
     "iopub.status.busy": "2025-03-08T16:07:06.340424Z",
     "iopub.status.idle": "2025-03-08T16:07:06.360654Z",
     "shell.execute_reply": "2025-03-08T16:07:06.359871Z",
     "shell.execute_reply.started": "2025-03-08T16:07:06.340696Z"
    },
    "trusted": true
   },
   "outputs": [],
   "source": [
    "from torchmetrics import MeanMetric\n",
    "from typing import Tuple, Dict, List, Union\n",
    "from torch import nn\n",
    "from ptls.nn.seq_encoder.abs_seq_encoder import AbsSeqEncoder\n",
    "from ptls.nn import PBL2Norm\n",
    "from ptls.data_load.padded_batch import PaddedBatch\n",
    "\n",
    "\n",
    "class MeanPooling(torch.nn.Module):\n",
    "    def __init__(self):\n",
    "        super().__init__()\n",
    "\n",
    "    def forward(self, pb: PaddedBatch):\n",
    "        payload = pb.payload # (B, T, H)\n",
    "        mask = pb.seq_len_mask.bool()\n",
    "        pb_mean = payload.sum(dim=1) / mask.float().sum(dim=1, keepdim=True)\n",
    "        return pb_mean\n",
    "\n",
    "\n",
    "class StatPooling(torch.nn.Module):\n",
    "    def __init__(self):\n",
    "        super().__init__()\n",
    "\n",
    "    def forward(self, pb: PaddedBatch):\n",
    "        payload = pb.payload # (B, T, H)\n",
    "        mask = pb.seq_len_mask.bool()\n",
    "        inf_mask = torch.zeros_like(mask, device=mask.device).float()\n",
    "        inf_mask[~mask] = -torch.inf\n",
    "        \n",
    "        pb_mean = payload.sum(dim=1) / mask.float().sum(dim=1, keepdim=True)\n",
    "        pb_max = torch.max(payload + inf_mask.unsqueeze(-1), dim=1)[0]\n",
    "        pb_stat = torch.cat((pb_mean, pb_max), dim=1)\n",
    "        return pb_stat\n",
    "\n",
    "\n",
    "class GPTHead(torch.nn.Module):   \n",
    "    def __init__(self, input_size, n_classes, hidden_size=64, drop_p=0.1):\n",
    "        super().__init__()\n",
    "        self.head = nn.Sequential(\n",
    "            nn.Linear(input_size, hidden_size, bias=True),\n",
    "            nn.GELU(),\n",
    "            nn.Dropout(drop_p),\n",
    "            nn.Linear(hidden_size, n_classes)\n",
    "        )\n",
    "    def forward(self, x):\n",
    "        x = self.head(x)\n",
    "        return x\n",
    "\n",
    "\n",
    "class GptPretrainModule(pl.LightningModule):\n",
    "    \"\"\"GPT2 Language model\n",
    "\n",
    "    Sequence transactions are encoded by `trx_encoder`.\n",
    "    Then `seq_encoder` encodes the given sequence \n",
    "    (we actually use NN to modify sequence transactions representations,\n",
    "    then (during inference) we calculate the mean of these encoded transactions to get the representation of the whole sequence).\n",
    "    After this we use heads to predict the classes of features of the future transaction.\n",
    "\n",
    "    Parameters\n",
    "    ----------\n",
    "    trx_encoder:\n",
    "        Module for transform dict with feature sequences to sequence of transaction representations\n",
    "    seq_encoder:\n",
    "        Module for sequence processing. Generally this is transformer based encoder. Rnn is also possible\n",
    "        Should work without sequence reduction\n",
    "    head_hidden_size:\n",
    "        Hidden size of heads for feature prediction\n",
    "    seed_seq_len:\n",
    "         Size of starting sequence without loss \n",
    "    total_steps:\n",
    "        total_steps expected in OneCycle lr scheduler\n",
    "    max_lr:\n",
    "        max_lr of OneCycle lr scheduler\n",
    "    weight_decay:\n",
    "        weight_decay of Adam optimizer\n",
    "    pct_start:\n",
    "        % of total_steps when lr increase\n",
    "    norm_predict:\n",
    "        use l2 norm for transformer output or not\n",
    "    \"\"\"\n",
    "\n",
    "    def __init__(self,\n",
    "                 trx_encoder: torch.nn.Module,\n",
    "                 seq_encoder: AbsSeqEncoder,\n",
    "                 head_hidden_size: int = 64,\n",
    "                 total_steps: int = 64000,\n",
    "                 seed_seq_len: int = 16,\n",
    "                 max_lr: float = 0.00005,\n",
    "                 weight_decay: float = 0.0,\n",
    "                 pct_start: float = 0.1,\n",
    "                 norm_predict: bool = False\n",
    "                 ):\n",
    "\n",
    "        super().__init__()\n",
    "        self.save_hyperparameters(ignore=['trx_encoder', 'seq_encoder'])\n",
    "\n",
    "        self.trx_encoder = trx_encoder\n",
    "        self._seq_encoder = seq_encoder\n",
    "        self._seq_encoder.is_reduce_sequence = False\n",
    "\n",
    "        self.head = nn.ModuleDict()\n",
    "        for col_name, noisy_emb in self.trx_encoder.embeddings.items():\n",
    "            self.head[col_name] = GPTHead(input_size=self._seq_encoder.embedding_size, hidden_size=head_hidden_size, n_classes=noisy_emb.num_embeddings)\n",
    "\n",
    "        if self.hparams.norm_predict:\n",
    "            self.fn_norm_predict = PBL2Norm()\n",
    "\n",
    "        self.loss = nn.CrossEntropyLoss(ignore_index=0)\n",
    "\n",
    "        self.train_gpt_loss = MeanMetric()\n",
    "        self.valid_gpt_loss = MeanMetric()\n",
    "\n",
    "    def forward(self, batch: PaddedBatch):\n",
    "        z_trx = self.trx_encoder(batch) \n",
    "        out = self._seq_encoder(z_trx)\n",
    "        if self.hparams.norm_predict:\n",
    "            out = self.fn_norm_predict(out)\n",
    "        return out\n",
    "\n",
    "    def loss_gpt(self, logits, labels):\n",
    "        loss = 0\n",
    "        for col_name, head in self.head.items():\n",
    "            y_pred = head(logits[:, self.hparams.seed_seq_len:-1, :])\n",
    "            y_pred = y_pred.view(-1, y_pred.size(-1))\n",
    "\n",
    "            y_true = labels[col_name][:, self.hparams.seed_seq_len+1:]\n",
    "            y_true = torch.flatten(y_true.long())\n",
    "            \n",
    "            loss += self.loss(y_pred, y_true)\n",
    "            \n",
    "        return loss\n",
    "\n",
    "    def training_step(self, batch, batch_idx):\n",
    "        out = self.forward(batch)  # PB: B, T, H\n",
    "        out = out.payload if isinstance(out, PaddedBatch) else out\n",
    "        labels = batch.payload\n",
    "        \n",
    "        loss_gpt = self.loss_gpt(out, labels)\n",
    "        self.train_gpt_loss(loss_gpt)\n",
    "        self.log(f'loss', loss_gpt, sync_dist=True)\n",
    "        return loss_gpt\n",
    "\n",
    "    def validation_step(self, batch, batch_idx):\n",
    "        out = self.forward(batch)  # PB: B, T, H\n",
    "        out = out.payload if isinstance(out, PaddedBatch) else out\n",
    "        labels = batch.payload\n",
    "        \n",
    "        loss_gpt = self.loss_gpt(out, labels)\n",
    "        self.valid_gpt_loss(loss_gpt)\n",
    "\n",
    "    def on_training_epoch_end(self):\n",
    "        self.log('train loss (by epochs)', self.train_gpt_loss, prog_bar=True, logger=True, sync_dist=True, rank_zero_only=True)\n",
    "\n",
    "    def on_validation_epoch_end(self):\n",
    "        self.log('val loss (by epochs)', self.valid_gpt_loss, prog_bar=True, logger=True, sync_dist=True, rank_zero_only=True)\n",
    "\n",
    "    def configure_optimizers(self):\n",
    "        optim = torch.optim.NAdam(self.parameters(),\n",
    "                                  lr=self.hparams.max_lr,\n",
    "                                  weight_decay=self.hparams.weight_decay\n",
    "                                 )\n",
    "        \n",
    "        scheduler = torch.optim.lr_scheduler.OneCycleLR(\n",
    "            optimizer=optim,\n",
    "            max_lr=self.hparams.max_lr,\n",
    "            total_steps=self.hparams.total_steps,\n",
    "            pct_start=self.hparams.pct_start,\n",
    "            anneal_strategy='cos',\n",
    "            cycle_momentum=False,\n",
    "            div_factor=25.0,\n",
    "            final_div_factor=10000.0,\n",
    "            three_phase=False\n",
    "        )\n",
    "        \n",
    "        scheduler = {'scheduler': scheduler, 'interval': 'step'}\n",
    "        return [optim], [scheduler]\n",
    "    \n",
    "    @property\n",
    "    def seq_encoder(self):\n",
    "        return GPTInferenceModule(pretrained_model=self)\n",
    "\n",
    "\n",
    "class GPTInferenceModule(torch.nn.Module):\n",
    "    def __init__(self, pretrained_model):\n",
    "        super().__init__()\n",
    "        self.model = pretrained_model\n",
    "        self.model.is_reduce_sequence = False\n",
    "        self.mean_pooling = MeanPooling()\n",
    "        self.stat_pooling = StatPooling()\n",
    "\n",
    "    def forward(self, batch, eval_strategy=\"mean\"):\n",
    "        z_trx = self.model.trx_encoder(batch)\n",
    "        out = self.model._seq_encoder(z_trx)\n",
    "        out = out if isinstance(out, PaddedBatch) else PaddedBatch(out, batch.seq_lens)\n",
    "\n",
    "        if eval_strategy == \"mean\":\n",
    "            out = self.mean_pooling(out)\n",
    "        elif eval_strategy == \"stat\":\n",
    "            out = self.stat_pooling(out)\n",
    "\n",
    "        if self.model.hparams.norm_predict:\n",
    "            out = out / (out.pow(2).sum(dim=-1, keepdim=True) + 1e-9).pow(0.5)\n",
    "        return out"
   ]
  },
  {
   "cell_type": "code",
   "execution_count": 671,
   "metadata": {
    "execution": {
     "iopub.execute_input": "2025-03-08T16:07:14.204603Z",
     "iopub.status.busy": "2025-03-08T16:07:14.204273Z",
     "iopub.status.idle": "2025-03-08T16:07:14.208157Z",
     "shell.execute_reply": "2025-03-08T16:07:14.207403Z",
     "shell.execute_reply.started": "2025-03-08T16:07:14.204573Z"
    },
    "trusted": true
   },
   "outputs": [],
   "source": [
    "N_EPOCHS = 20"
   ]
  },
  {
   "cell_type": "code",
   "execution_count": 672,
   "metadata": {
    "execution": {
     "iopub.execute_input": "2025-03-08T16:07:16.497661Z",
     "iopub.status.busy": "2025-03-08T16:07:16.497353Z",
     "iopub.status.idle": "2025-03-08T16:07:16.569571Z",
     "shell.execute_reply": "2025-03-08T16:07:16.568882Z",
     "shell.execute_reply.started": "2025-03-08T16:07:16.497632Z"
    },
    "trusted": true
   },
   "outputs": [],
   "source": [
    "trx_encoder = TrxEncoderT2V(\n",
    "    embeddings={\n",
    "        \"MCC\": {\"in\": 342, \"out\": 16},\n",
    "        \"channel_type\": {\"in\": 7, \"out\": 16},\n",
    "        \"currency\": {\"in\": 60, \"out\": 16},\n",
    "        \"trx_category\": {\"in\": 11, \"out\": 16},\n",
    "        \"amount\": {\"in\": BINS_NUM, \"out\": 16}\n",
    "    },\n",
    "    embeddings_noise=0.003,\n",
    "    k=15,\n",
    "    time_col=\"event_time\"\n",
    ")\n",
    "\n",
    "\n",
    "seq_encoder = GptEncoder(\n",
    "    n_embd=trx_encoder.output_size,\n",
    "    n_layer=6,\n",
    "    n_head=6,\n",
    "    n_inner=512,\n",
    "    activation_function=\"gelu_new\",\n",
    "    resid_pdrop=0.1,\n",
    "    embd_pdrop=0.1,\n",
    "    attn_pdrop=0.1,\n",
    "    n_positions=2048,\n",
    "    use_positional_encoding=True, # try switching it off\n",
    "    use_start_random_shift=True,\n",
    "    is_reduce_sequence=False\n",
    ")\n",
    "\n",
    "gpt = GptPretrainModule(\n",
    "    trx_encoder=trx_encoder,\n",
    "    seq_encoder=seq_encoder,\n",
    "    head_hidden_size=512,\n",
    "    total_steps=(N_EPOCHS * 282), # num_epochs * num_steps_per_epoch\n",
    "    seed_seq_len=16,\n",
    "    max_lr=3e-3,\n",
    "    weight_decay=3e-4, # try adding weight_decay > 0\n",
    "    pct_start=0.1,\n",
    "    norm_predict=False # never use it again\n",
    ")"
   ]
  },
  {
   "cell_type": "markdown",
   "metadata": {},
   "source": [
    "**Обучение:**"
   ]
  },
  {
   "cell_type": "code",
   "execution_count": 30,
   "metadata": {
    "execution": {
     "iopub.execute_input": "2025-02-25T23:20:53.114708Z",
     "iopub.status.busy": "2025-02-25T23:20:53.114372Z",
     "iopub.status.idle": "2025-02-25T23:20:53.263757Z",
     "shell.execute_reply": "2025-02-25T23:20:53.262530Z",
     "shell.execute_reply.started": "2025-02-25T23:20:53.114681Z"
    },
    "trusted": true
   },
   "outputs": [],
   "source": [
    "# !export HYDRA_FULL_ERROR=1"
   ]
  },
  {
   "cell_type": "code",
   "execution_count": 673,
   "metadata": {
    "execution": {
     "iopub.execute_input": "2025-03-08T16:07:19.729103Z",
     "iopub.status.busy": "2025-03-08T16:07:19.728752Z",
     "iopub.status.idle": "2025-03-08T16:07:19.772156Z",
     "shell.execute_reply": "2025-03-08T16:07:19.771491Z",
     "shell.execute_reply.started": "2025-03-08T16:07:19.729075Z"
    },
    "trusted": true
   },
   "outputs": [],
   "source": [
    "logger = CometLogger(project_name=\"evs-ssl-rb\", experiment_name=\"GPT_modeling_baseline\")\n",
    "\n",
    "trainer = pl.Trainer(\n",
    "    logger=logger,\n",
    "    max_epochs=N_EPOCHS,\n",
    "    accelerator=\"gpu\",\n",
    "    devices=1,\n",
    "    enable_progress_bar=True\n",
    ")"
   ]
  },
  {
   "cell_type": "code",
   "execution_count": 674,
   "metadata": {
    "execution": {
     "iopub.execute_input": "2025-03-08T16:07:21.925555Z",
     "iopub.status.busy": "2025-03-08T16:07:21.925257Z",
     "iopub.status.idle": "2025-03-08T16:08:54.684816Z",
     "shell.execute_reply": "2025-03-08T16:08:54.683818Z",
     "shell.execute_reply.started": "2025-03-08T16:07:21.925532Z"
    },
    "trusted": true
   },
   "outputs": [
    {
     "name": "stderr",
     "output_type": "stream",
     "text": [
      "\u001b[1;38;5;214mCOMET WARNING:\u001b[0m As you are running in a Jupyter environment, you will need to call `experiment.end()` when finished to ensure all metrics and code are logged before exiting.\n",
      "\u001b[1;38;5;39mCOMET INFO:\u001b[0m Couldn't find a Git repository in '/kaggle/working' nor in any parent directory. Set `COMET_GIT_DIRECTORY` if your Git Repository is elsewhere.\n",
      "\u001b[1;38;5;39mCOMET INFO:\u001b[0m Experiment is live on comet.com https://www.comet.com/askoro/evs-ssl-rb/535a22624e1343b8a256ee6dad3ca114\n",
      "\n"
     ]
    },
    {
     "data": {
      "application/vnd.jupyter.widget-view+json": {
       "model_id": "",
       "version_major": 2,
       "version_minor": 0
      },
      "text/plain": [
       "Sanity Checking: |          | 0/? [00:00<?, ?it/s]"
      ]
     },
     "metadata": {},
     "output_type": "display_data"
    },
    {
     "data": {
      "application/vnd.jupyter.widget-view+json": {
       "model_id": "b7c2b25f9edf4167883332dcce8e2601",
       "version_major": 2,
       "version_minor": 0
      },
      "text/plain": [
       "Training: |          | 0/? [00:00<?, ?it/s]"
      ]
     },
     "metadata": {},
     "output_type": "display_data"
    },
    {
     "data": {
      "application/vnd.jupyter.widget-view+json": {
       "model_id": "",
       "version_major": 2,
       "version_minor": 0
      },
      "text/plain": [
       "Validation: |          | 0/? [00:00<?, ?it/s]"
      ]
     },
     "metadata": {},
     "output_type": "display_data"
    },
    {
     "data": {
      "application/vnd.jupyter.widget-view+json": {
       "model_id": "",
       "version_major": 2,
       "version_minor": 0
      },
      "text/plain": [
       "Validation: |          | 0/? [00:00<?, ?it/s]"
      ]
     },
     "metadata": {},
     "output_type": "display_data"
    },
    {
     "data": {
      "application/vnd.jupyter.widget-view+json": {
       "model_id": "",
       "version_major": 2,
       "version_minor": 0
      },
      "text/plain": [
       "Validation: |          | 0/? [00:00<?, ?it/s]"
      ]
     },
     "metadata": {},
     "output_type": "display_data"
    },
    {
     "data": {
      "application/vnd.jupyter.widget-view+json": {
       "model_id": "",
       "version_major": 2,
       "version_minor": 0
      },
      "text/plain": [
       "Validation: |          | 0/? [00:00<?, ?it/s]"
      ]
     },
     "metadata": {},
     "output_type": "display_data"
    },
    {
     "data": {
      "application/vnd.jupyter.widget-view+json": {
       "model_id": "",
       "version_major": 2,
       "version_minor": 0
      },
      "text/plain": [
       "Validation: |          | 0/? [00:00<?, ?it/s]"
      ]
     },
     "metadata": {},
     "output_type": "display_data"
    },
    {
     "data": {
      "application/vnd.jupyter.widget-view+json": {
       "model_id": "",
       "version_major": 2,
       "version_minor": 0
      },
      "text/plain": [
       "Validation: |          | 0/? [00:00<?, ?it/s]"
      ]
     },
     "metadata": {},
     "output_type": "display_data"
    },
    {
     "data": {
      "application/vnd.jupyter.widget-view+json": {
       "model_id": "",
       "version_major": 2,
       "version_minor": 0
      },
      "text/plain": [
       "Validation: |          | 0/? [00:00<?, ?it/s]"
      ]
     },
     "metadata": {},
     "output_type": "display_data"
    },
    {
     "data": {
      "application/vnd.jupyter.widget-view+json": {
       "model_id": "",
       "version_major": 2,
       "version_minor": 0
      },
      "text/plain": [
       "Validation: |          | 0/? [00:00<?, ?it/s]"
      ]
     },
     "metadata": {},
     "output_type": "display_data"
    },
    {
     "data": {
      "application/vnd.jupyter.widget-view+json": {
       "model_id": "",
       "version_major": 2,
       "version_minor": 0
      },
      "text/plain": [
       "Validation: |          | 0/? [00:00<?, ?it/s]"
      ]
     },
     "metadata": {},
     "output_type": "display_data"
    },
    {
     "data": {
      "application/vnd.jupyter.widget-view+json": {
       "model_id": "",
       "version_major": 2,
       "version_minor": 0
      },
      "text/plain": [
       "Validation: |          | 0/? [00:00<?, ?it/s]"
      ]
     },
     "metadata": {},
     "output_type": "display_data"
    },
    {
     "data": {
      "application/vnd.jupyter.widget-view+json": {
       "model_id": "",
       "version_major": 2,
       "version_minor": 0
      },
      "text/plain": [
       "Validation: |          | 0/? [00:00<?, ?it/s]"
      ]
     },
     "metadata": {},
     "output_type": "display_data"
    },
    {
     "data": {
      "application/vnd.jupyter.widget-view+json": {
       "model_id": "",
       "version_major": 2,
       "version_minor": 0
      },
      "text/plain": [
       "Validation: |          | 0/? [00:00<?, ?it/s]"
      ]
     },
     "metadata": {},
     "output_type": "display_data"
    },
    {
     "data": {
      "application/vnd.jupyter.widget-view+json": {
       "model_id": "",
       "version_major": 2,
       "version_minor": 0
      },
      "text/plain": [
       "Validation: |          | 0/? [00:00<?, ?it/s]"
      ]
     },
     "metadata": {},
     "output_type": "display_data"
    },
    {
     "data": {
      "application/vnd.jupyter.widget-view+json": {
       "model_id": "",
       "version_major": 2,
       "version_minor": 0
      },
      "text/plain": [
       "Validation: |          | 0/? [00:00<?, ?it/s]"
      ]
     },
     "metadata": {},
     "output_type": "display_data"
    },
    {
     "data": {
      "application/vnd.jupyter.widget-view+json": {
       "model_id": "",
       "version_major": 2,
       "version_minor": 0
      },
      "text/plain": [
       "Validation: |          | 0/? [00:00<?, ?it/s]"
      ]
     },
     "metadata": {},
     "output_type": "display_data"
    },
    {
     "data": {
      "application/vnd.jupyter.widget-view+json": {
       "model_id": "",
       "version_major": 2,
       "version_minor": 0
      },
      "text/plain": [
       "Validation: |          | 0/? [00:00<?, ?it/s]"
      ]
     },
     "metadata": {},
     "output_type": "display_data"
    },
    {
     "data": {
      "application/vnd.jupyter.widget-view+json": {
       "model_id": "",
       "version_major": 2,
       "version_minor": 0
      },
      "text/plain": [
       "Validation: |          | 0/? [00:00<?, ?it/s]"
      ]
     },
     "metadata": {},
     "output_type": "display_data"
    },
    {
     "data": {
      "application/vnd.jupyter.widget-view+json": {
       "model_id": "",
       "version_major": 2,
       "version_minor": 0
      },
      "text/plain": [
       "Validation: |          | 0/? [00:00<?, ?it/s]"
      ]
     },
     "metadata": {},
     "output_type": "display_data"
    },
    {
     "data": {
      "application/vnd.jupyter.widget-view+json": {
       "model_id": "",
       "version_major": 2,
       "version_minor": 0
      },
      "text/plain": [
       "Validation: |          | 0/? [00:00<?, ?it/s]"
      ]
     },
     "metadata": {},
     "output_type": "display_data"
    },
    {
     "data": {
      "application/vnd.jupyter.widget-view+json": {
       "model_id": "",
       "version_major": 2,
       "version_minor": 0
      },
      "text/plain": [
       "Validation: |          | 0/? [00:00<?, ?it/s]"
      ]
     },
     "metadata": {},
     "output_type": "display_data"
    },
    {
     "name": "stderr",
     "output_type": "stream",
     "text": [
      "\u001b[1;38;5;39mCOMET INFO:\u001b[0m ---------------------------------------------------------------------------------------\n",
      "\u001b[1;38;5;39mCOMET INFO:\u001b[0m Comet.ml Experiment Summary\n",
      "\u001b[1;38;5;39mCOMET INFO:\u001b[0m ---------------------------------------------------------------------------------------\n",
      "\u001b[1;38;5;39mCOMET INFO:\u001b[0m   Data:\n",
      "\u001b[1;38;5;39mCOMET INFO:\u001b[0m     display_summary_level : 1\n",
      "\u001b[1;38;5;39mCOMET INFO:\u001b[0m     name                  : GPT_modeling_baseline\n",
      "\u001b[1;38;5;39mCOMET INFO:\u001b[0m     url                   : https://www.comet.com/askoro/evs-ssl-rb/535a22624e1343b8a256ee6dad3ca114\n",
      "\u001b[1;38;5;39mCOMET INFO:\u001b[0m   Metrics [count] (min, max):\n",
      "\u001b[1;38;5;39mCOMET INFO:\u001b[0m     loss [170]                : (8.229889869689941, 19.123592376708984)\n",
      "\u001b[1;38;5;39mCOMET INFO:\u001b[0m     val loss (by epochs) [20] : (8.519289016723633, 9.842005729675293)\n",
      "\u001b[1;38;5;39mCOMET INFO:\u001b[0m   Others:\n",
      "\u001b[1;38;5;39mCOMET INFO:\u001b[0m     Name : GPT_modeling_baseline\n",
      "\u001b[1;38;5;39mCOMET INFO:\u001b[0m   Parameters:\n",
      "\u001b[1;38;5;39mCOMET INFO:\u001b[0m     head_hidden_size  : 512\n",
      "\u001b[1;38;5;39mCOMET INFO:\u001b[0m     max_lr            : 0.003\n",
      "\u001b[1;38;5;39mCOMET INFO:\u001b[0m     norm_predict      : False\n",
      "\u001b[1;38;5;39mCOMET INFO:\u001b[0m     pct_start         : 0.1\n",
      "\u001b[1;38;5;39mCOMET INFO:\u001b[0m     seed_seq_len      : 16\n",
      "\u001b[1;38;5;39mCOMET INFO:\u001b[0m     test_batch_size   : None\n",
      "\u001b[1;38;5;39mCOMET INFO:\u001b[0m     test_drop_last    : False\n",
      "\u001b[1;38;5;39mCOMET INFO:\u001b[0m     test_num_workers  : None\n",
      "\u001b[1;38;5;39mCOMET INFO:\u001b[0m     total_steps       : 5640\n",
      "\u001b[1;38;5;39mCOMET INFO:\u001b[0m     train_batch_size  : 64\n",
      "\u001b[1;38;5;39mCOMET INFO:\u001b[0m     train_drop_last   : False\n",
      "\u001b[1;38;5;39mCOMET INFO:\u001b[0m     train_num_workers : 4\n",
      "\u001b[1;38;5;39mCOMET INFO:\u001b[0m     valid_batch_size  : 64\n",
      "\u001b[1;38;5;39mCOMET INFO:\u001b[0m     valid_drop_last   : False\n",
      "\u001b[1;38;5;39mCOMET INFO:\u001b[0m     valid_num_workers : 4\n",
      "\u001b[1;38;5;39mCOMET INFO:\u001b[0m     weight_decay      : 0.0003\n",
      "\u001b[1;38;5;39mCOMET INFO:\u001b[0m   Uploads:\n",
      "\u001b[1;38;5;39mCOMET INFO:\u001b[0m     environment details : 1\n",
      "\u001b[1;38;5;39mCOMET INFO:\u001b[0m     filename            : 1\n",
      "\u001b[1;38;5;39mCOMET INFO:\u001b[0m     installed packages  : 1\n",
      "\u001b[1;38;5;39mCOMET INFO:\u001b[0m     model graph         : 1\n",
      "\u001b[1;38;5;39mCOMET INFO:\u001b[0m     notebook            : 1\n",
      "\u001b[1;38;5;39mCOMET INFO:\u001b[0m     os packages         : 1\n",
      "\u001b[1;38;5;39mCOMET INFO:\u001b[0m     source_code         : 1\n",
      "\u001b[1;38;5;39mCOMET INFO:\u001b[0m \n"
     ]
    }
   ],
   "source": [
    "trainer.fit(gpt, data)"
   ]
  },
  {
   "cell_type": "code",
   "execution_count": 675,
   "metadata": {
    "execution": {
     "iopub.execute_input": "2025-03-08T16:09:11.943986Z",
     "iopub.status.busy": "2025-03-08T16:09:11.943632Z",
     "iopub.status.idle": "2025-03-08T16:09:11.950885Z",
     "shell.execute_reply": "2025-03-08T16:09:11.950198Z",
     "shell.execute_reply.started": "2025-03-08T16:09:11.943956Z"
    },
    "trusted": true
   },
   "outputs": [
    {
     "data": {
      "text/plain": [
       "{'loss': tensor(8.2774), 'val loss (by epochs)': tensor(8.6232)}"
      ]
     },
     "execution_count": 675,
     "metadata": {},
     "output_type": "execute_result"
    }
   ],
   "source": [
    "trainer.logged_metrics"
   ]
  },
  {
   "cell_type": "code",
   "execution_count": 676,
   "metadata": {
    "execution": {
     "iopub.execute_input": "2025-03-08T16:09:14.827594Z",
     "iopub.status.busy": "2025-03-08T16:09:14.827300Z",
     "iopub.status.idle": "2025-03-08T16:09:14.831521Z",
     "shell.execute_reply": "2025-03-08T16:09:14.830660Z",
     "shell.execute_reply.started": "2025-03-08T16:09:14.827568Z"
    },
    "trusted": true
   },
   "outputs": [],
   "source": [
    "encoder = gpt.seq_encoder"
   ]
  },
  {
   "cell_type": "code",
   "execution_count": 135,
   "metadata": {
    "execution": {
     "iopub.execute_input": "2025-02-26T03:15:02.722349Z",
     "iopub.status.busy": "2025-02-26T03:15:02.722020Z",
     "iopub.status.idle": "2025-02-26T03:15:02.740738Z",
     "shell.execute_reply": "2025-02-26T03:15:02.739826Z",
     "shell.execute_reply.started": "2025-02-26T03:15:02.722321Z"
    },
    "trusted": true
   },
   "outputs": [],
   "source": [
    "torch.save(encoder.state_dict(), \"gpt_baseline_rosbank.pt\")"
   ]
  },
  {
   "cell_type": "markdown",
   "metadata": {},
   "source": [
    "**Измерим качество на тесте (catboost поверх эмбеддингов):**"
   ]
  },
  {
   "cell_type": "code",
   "execution_count": 86,
   "metadata": {
    "collapsed": true,
    "execution": {
     "iopub.execute_input": "2025-01-18T22:24:02.608034Z",
     "iopub.status.busy": "2025-01-18T22:24:02.607102Z",
     "iopub.status.idle": "2025-01-18T22:24:10.229376Z",
     "shell.execute_reply": "2025-01-18T22:24:10.228414Z",
     "shell.execute_reply.started": "2025-01-18T22:24:02.607990Z"
    },
    "jupyter": {
     "outputs_hidden": true
    },
    "trusted": true
   },
   "outputs": [
    {
     "name": "stdout",
     "output_type": "stream",
     "text": [
      "Collecting gdown\n",
      "  Downloading gdown-5.2.0-py3-none-any.whl.metadata (5.8 kB)\n",
      "Requirement already satisfied: beautifulsoup4 in /opt/conda/lib/python3.10/site-packages (from gdown) (4.12.2)\n",
      "Requirement already satisfied: filelock in /opt/conda/lib/python3.10/site-packages (from gdown) (3.12.0)\n",
      "Requirement already satisfied: requests[socks] in /opt/conda/lib/python3.10/site-packages (from gdown) (2.30.0)\n",
      "Requirement already satisfied: tqdm in /opt/conda/lib/python3.10/site-packages (from gdown) (4.65.0)\n",
      "Requirement already satisfied: soupsieve>1.2 in /opt/conda/lib/python3.10/site-packages (from beautifulsoup4->gdown) (2.4.1)\n",
      "Requirement already satisfied: charset-normalizer<4,>=2 in /opt/conda/lib/python3.10/site-packages (from requests[socks]->gdown) (3.1.0)\n",
      "Requirement already satisfied: idna<4,>=2.5 in /opt/conda/lib/python3.10/site-packages (from requests[socks]->gdown) (3.4)\n",
      "Requirement already satisfied: urllib3<3,>=1.21.1 in /opt/conda/lib/python3.10/site-packages (from requests[socks]->gdown) (1.26.15)\n",
      "Requirement already satisfied: certifi>=2017.4.17 in /opt/conda/lib/python3.10/site-packages (from requests[socks]->gdown) (2023.5.7)\n",
      "Requirement already satisfied: PySocks!=1.5.7,>=1.5.6 in /opt/conda/lib/python3.10/site-packages (from requests[socks]->gdown) (1.7.1)\n",
      "Downloading gdown-5.2.0-py3-none-any.whl (18 kB)\n",
      "\u001b[33mWARNING: Error parsing requirements for jupyter-client: [Errno 2] No such file or directory: '/opt/conda/lib/python3.10/site-packages/jupyter_client-7.4.9.dist-info/METADATA'\u001b[0m\u001b[33m\n",
      "\u001b[0m\u001b[33mWARNING: Error parsing requirements for wcwidth: [Errno 2] No such file or directory: '/opt/conda/lib/python3.10/site-packages/wcwidth-0.2.13.dist-info/METADATA'\u001b[0m\u001b[33m\n",
      "\u001b[0mInstalling collected packages: gdown\n",
      "Successfully installed gdown-5.2.0\n"
     ]
    }
   ],
   "source": [
    "# !pip install gdown"
   ]
  },
  {
   "cell_type": "code",
   "execution_count": 102,
   "metadata": {
    "execution": {
     "iopub.execute_input": "2025-01-18T22:42:54.251579Z",
     "iopub.status.busy": "2025-01-18T22:42:54.251111Z",
     "iopub.status.idle": "2025-01-18T22:42:58.474834Z",
     "shell.execute_reply": "2025-01-18T22:42:58.473922Z",
     "shell.execute_reply.started": "2025-01-18T22:42:54.251541Z"
    },
    "trusted": true
   },
   "outputs": [
    {
     "name": "stderr",
     "output_type": "stream",
     "text": [
      "Downloading...\n",
      "From (original): https://drive.google.com/uc?export=download&id=1YBstN7hpEIREo7zORmPoEZ_0NyBgfjm6\n",
      "From (redirected): https://drive.google.com/uc?export=download&id=1YBstN7hpEIREo7zORmPoEZ_0NyBgfjm6&confirm=t&uuid=b0f44bc3-b84b-425c-968f-016e419987af\n",
      "To: /kaggle/working/gpt_baseline_NAdam.pt\n",
      "100%|██████████| 34.7M/34.7M [00:00<00:00, 83.5MB/s]\n"
     ]
    },
    {
     "data": {
      "text/plain": [
       "'gpt_baseline_NAdam.pt'"
      ]
     },
     "execution_count": 102,
     "metadata": {},
     "output_type": "execute_result"
    }
   ],
   "source": [
    "# import gdown\n",
    "\n",
    "# gdown.download(\"https://drive.google.com/uc?export=download&id=1YBstN7hpEIREo7zORmPoEZ_0NyBgfjm6\", \"gpt_baseline_NAdam.pt\")"
   ]
  },
  {
   "cell_type": "code",
   "execution_count": 677,
   "metadata": {
    "execution": {
     "iopub.execute_input": "2025-03-08T16:09:18.407911Z",
     "iopub.status.busy": "2025-03-08T16:09:18.407625Z",
     "iopub.status.idle": "2025-03-08T16:09:18.428855Z",
     "shell.execute_reply": "2025-03-08T16:09:18.427973Z",
     "shell.execute_reply.started": "2025-03-08T16:09:18.407888Z"
    },
    "trusted": true
   },
   "outputs": [
    {
     "data": {
      "text/plain": [
       "GPTInferenceModule(\n",
       "  (model): GptPretrainModule(\n",
       "    (trx_encoder): TrxEncoderT2V(\n",
       "      (embeddings): ModuleDict(\n",
       "        (MCC): NoisyEmbedding(\n",
       "          342, 16, padding_idx=0\n",
       "          (dropout): Dropout(p=0, inplace=False)\n",
       "        )\n",
       "        (channel_type): NoisyEmbedding(\n",
       "          7, 16, padding_idx=0\n",
       "          (dropout): Dropout(p=0, inplace=False)\n",
       "        )\n",
       "        (currency): NoisyEmbedding(\n",
       "          60, 16, padding_idx=0\n",
       "          (dropout): Dropout(p=0, inplace=False)\n",
       "        )\n",
       "        (trx_category): NoisyEmbedding(\n",
       "          11, 16, padding_idx=0\n",
       "          (dropout): Dropout(p=0, inplace=False)\n",
       "        )\n",
       "        (amount): NoisyEmbedding(\n",
       "          128, 16, padding_idx=0\n",
       "          (dropout): Dropout(p=0, inplace=False)\n",
       "        )\n",
       "      )\n",
       "      (custom_embeddings): ModuleDict()\n",
       "      (time2vec_days): Time2Vec()\n",
       "    )\n",
       "    (_seq_encoder): GptEncoder(\n",
       "      (transf): GPT2Model(\n",
       "        (wte): Embedding(4, 96)\n",
       "        (wpe): Embedding(2048, 96)\n",
       "        (drop): Dropout(p=0.1, inplace=False)\n",
       "        (h): ModuleList(\n",
       "          (0-5): 6 x GPT2Block(\n",
       "            (ln_1): LayerNorm((96,), eps=1e-05, elementwise_affine=True)\n",
       "            (attn): GPT2SdpaAttention(\n",
       "              (c_attn): Conv1D(nf=288, nx=96)\n",
       "              (c_proj): Conv1D(nf=96, nx=96)\n",
       "              (attn_dropout): Dropout(p=0.1, inplace=False)\n",
       "              (resid_dropout): Dropout(p=0.1, inplace=False)\n",
       "            )\n",
       "            (ln_2): LayerNorm((96,), eps=1e-05, elementwise_affine=True)\n",
       "            (mlp): GPT2MLP(\n",
       "              (c_fc): Conv1D(nf=512, nx=96)\n",
       "              (c_proj): Conv1D(nf=96, nx=512)\n",
       "              (act): NewGELUActivation()\n",
       "              (dropout): Dropout(p=0.1, inplace=False)\n",
       "            )\n",
       "          )\n",
       "        )\n",
       "        (ln_f): LayerNorm((96,), eps=1e-05, elementwise_affine=True)\n",
       "      )\n",
       "    )\n",
       "    (head): ModuleDict(\n",
       "      (MCC): GPTHead(\n",
       "        (head): Sequential(\n",
       "          (0): Linear(in_features=96, out_features=512, bias=True)\n",
       "          (1): GELU(approximate='none')\n",
       "          (2): Dropout(p=0.1, inplace=False)\n",
       "          (3): Linear(in_features=512, out_features=342, bias=True)\n",
       "        )\n",
       "      )\n",
       "      (channel_type): GPTHead(\n",
       "        (head): Sequential(\n",
       "          (0): Linear(in_features=96, out_features=512, bias=True)\n",
       "          (1): GELU(approximate='none')\n",
       "          (2): Dropout(p=0.1, inplace=False)\n",
       "          (3): Linear(in_features=512, out_features=7, bias=True)\n",
       "        )\n",
       "      )\n",
       "      (currency): GPTHead(\n",
       "        (head): Sequential(\n",
       "          (0): Linear(in_features=96, out_features=512, bias=True)\n",
       "          (1): GELU(approximate='none')\n",
       "          (2): Dropout(p=0.1, inplace=False)\n",
       "          (3): Linear(in_features=512, out_features=60, bias=True)\n",
       "        )\n",
       "      )\n",
       "      (trx_category): GPTHead(\n",
       "        (head): Sequential(\n",
       "          (0): Linear(in_features=96, out_features=512, bias=True)\n",
       "          (1): GELU(approximate='none')\n",
       "          (2): Dropout(p=0.1, inplace=False)\n",
       "          (3): Linear(in_features=512, out_features=11, bias=True)\n",
       "        )\n",
       "      )\n",
       "      (amount): GPTHead(\n",
       "        (head): Sequential(\n",
       "          (0): Linear(in_features=96, out_features=512, bias=True)\n",
       "          (1): GELU(approximate='none')\n",
       "          (2): Dropout(p=0.1, inplace=False)\n",
       "          (3): Linear(in_features=512, out_features=128, bias=True)\n",
       "        )\n",
       "      )\n",
       "    )\n",
       "    (loss): CrossEntropyLoss()\n",
       "    (train_gpt_loss): MeanMetric()\n",
       "    (valid_gpt_loss): MeanMetric()\n",
       "  )\n",
       "  (mean_pooling): MeanPooling()\n",
       "  (stat_pooling): StatPooling()\n",
       ")"
      ]
     },
     "execution_count": 677,
     "metadata": {},
     "output_type": "execute_result"
    }
   ],
   "source": [
    "# state_dict = torch.load(\"./gpt_baseline_NAdam.pt\")\n",
    "# encoder.load_state_dict(state_dict)\n",
    "\n",
    "device = \"cuda:0\"\n",
    "\n",
    "encoder.to(device)"
   ]
  },
  {
   "cell_type": "code",
   "execution_count": 678,
   "metadata": {
    "execution": {
     "iopub.execute_input": "2025-03-08T16:09:29.403348Z",
     "iopub.status.busy": "2025-03-08T16:09:29.403003Z",
     "iopub.status.idle": "2025-03-08T16:09:29.409570Z",
     "shell.execute_reply": "2025-03-08T16:09:29.408960Z",
     "shell.execute_reply.started": "2025-03-08T16:09:29.403318Z"
    },
    "trusted": true
   },
   "outputs": [],
   "source": [
    "from tqdm import tqdm\n",
    "\n",
    "seed_everything(30)"
   ]
  },
  {
   "cell_type": "code",
   "execution_count": 679,
   "metadata": {
    "execution": {
     "iopub.execute_input": "2025-03-08T16:09:31.100465Z",
     "iopub.status.busy": "2025-03-08T16:09:31.100154Z",
     "iopub.status.idle": "2025-03-08T16:09:35.543250Z",
     "shell.execute_reply": "2025-03-08T16:09:35.542409Z",
     "shell.execute_reply.started": "2025-03-08T16:09:31.100424Z"
    },
    "trusted": true
   },
   "outputs": [
    {
     "name": "stderr",
     "output_type": "stream",
     "text": [
      "563it [00:04, 127.07it/s]\n"
     ]
    },
    {
     "data": {
      "text/plain": [
       "array([[ -5.273528  ,  -7.8131323 , -11.62134   , ...,  -0.1666674 ,\n",
       "          0.56957763,   0.8396692 ],\n",
       "       [  0.16802467,  -0.45239204,  -0.1157253 , ...,   0.38325766,\n",
       "          0.8526115 ,   1.1263626 ],\n",
       "       [  0.33640438,  -1.1159902 ,  -1.2578104 , ...,  -0.05770402,\n",
       "          0.7695208 ,   1.1871806 ],\n",
       "       ...,\n",
       "       [ -0.20027328,  -0.13722456,   0.21473451, ...,   0.3816202 ,\n",
       "          0.8880486 ,   1.0197345 ],\n",
       "       [ -0.5653915 ,   0.17153484,   0.05484006, ...,   0.59078014,\n",
       "          0.7575279 ,   0.9714437 ],\n",
       "       [ -0.8637452 ,   0.04938944,  -0.97433704, ...,   0.59010166,\n",
       "          1.0388405 ,   0.6743946 ]], dtype=float32)"
      ]
     },
     "execution_count": 679,
     "metadata": {},
     "output_type": "execute_result"
    }
   ],
   "source": [
    "train_loader = inference_data_loader(data_train, num_workers=0, batch_size=8)\n",
    "encoder.eval()\n",
    "train_embeds = None\n",
    "\n",
    "for i, batch in tqdm(enumerate(train_loader)):\n",
    "    train_embeds_batch = encoder(batch.to(device), eval_strategy=\"stat\")\n",
    "    if i == 0:\n",
    "        train_embeds = train_embeds_batch.detach().cpu().numpy()\n",
    "    else:\n",
    "        train_embeds = np.concatenate([train_embeds, train_embeds_batch.detach().cpu().numpy()], axis=0)\n",
    "    \n",
    "train_embeds"
   ]
  },
  {
   "cell_type": "code",
   "execution_count": 680,
   "metadata": {
    "execution": {
     "iopub.execute_input": "2025-03-08T16:09:38.382976Z",
     "iopub.status.busy": "2025-03-08T16:09:38.382614Z",
     "iopub.status.idle": "2025-03-08T16:09:38.874629Z",
     "shell.execute_reply": "2025-03-08T16:09:38.873888Z",
     "shell.execute_reply.started": "2025-03-08T16:09:38.382929Z"
    },
    "trusted": true
   },
   "outputs": [
    {
     "name": "stderr",
     "output_type": "stream",
     "text": [
      "63it [00:00, 131.09it/s]\n"
     ]
    },
    {
     "data": {
      "text/plain": [
       "array([[ 6.07364357e-01,  8.43049347e-01, -1.25151563e+00, ...,\n",
       "         6.29660606e-01,  8.92379642e-01,  1.12806275e-01],\n",
       "       [-4.84384924e-01, -9.97332871e-01, -1.38819563e+00, ...,\n",
       "         1.36822909e-01,  7.92777002e-01,  7.56889939e-01],\n",
       "       [-4.16990789e-03, -2.42832098e-02, -1.35354072e-01, ...,\n",
       "         4.03480351e-01,  8.87539685e-01,  1.27248597e+00],\n",
       "       ...,\n",
       "       [-7.76723862e-01, -1.28507102e+00, -3.31476212e+00, ...,\n",
       "        -4.06769931e-01,  7.73302078e-01,  9.47347879e-01],\n",
       "       [-6.27444267e-01, -4.39142466e-01, -6.12760365e-01, ...,\n",
       "         3.71480435e-01,  8.01610589e-01,  9.59540188e-01],\n",
       "       [ 1.22853718e-03,  4.05979455e-01, -2.99209714e-01, ...,\n",
       "         2.04931721e-01,  1.06507194e+00,  1.19544768e+00]], dtype=float32)"
      ]
     },
     "execution_count": 680,
     "metadata": {},
     "output_type": "execute_result"
    }
   ],
   "source": [
    "test_loader = inference_data_loader(data_test, num_workers=0, batch_size=8)\n",
    "encoder.eval()\n",
    "test_embeds = None\n",
    "\n",
    "for i, batch in tqdm(enumerate(test_loader)):\n",
    "    test_embeds_batch = encoder(batch.to(device), eval_strategy=\"stat\")\n",
    "    if i == 0:\n",
    "        test_embeds = test_embeds_batch.detach().cpu().numpy()\n",
    "    else:\n",
    "        test_embeds = np.concatenate([test_embeds, test_embeds_batch.detach().cpu().numpy()], axis=0)\n",
    "    \n",
    "test_embeds"
   ]
  },
  {
   "cell_type": "code",
   "execution_count": null,
   "metadata": {
    "trusted": true
   },
   "outputs": [],
   "source": [
    "clf = CatBoostClassifier(loss_function='MultiClass', task_type=\"GPU\", devices='0', random_state=30)\n",
    "\n",
    "clf.fit(train_embeds, target_train, plot_file=\"catboost_log.html\")"
   ]
  },
  {
   "cell_type": "code",
   "execution_count": 682,
   "metadata": {
    "execution": {
     "iopub.execute_input": "2025-03-08T16:09:57.464621Z",
     "iopub.status.busy": "2025-03-08T16:09:57.464290Z",
     "iopub.status.idle": "2025-03-08T16:09:57.476259Z",
     "shell.execute_reply": "2025-03-08T16:09:57.475356Z",
     "shell.execute_reply.started": "2025-03-08T16:09:57.464594Z"
    },
    "trusted": true
   },
   "outputs": [],
   "source": [
    "test_pred = clf.predict(test_embeds)\n",
    "test_proba = clf.predict_proba(test_embeds)[:, 1]"
   ]
  },
  {
   "cell_type": "code",
   "execution_count": 683,
   "metadata": {
    "execution": {
     "iopub.execute_input": "2025-03-08T16:09:58.913311Z",
     "iopub.status.busy": "2025-03-08T16:09:58.912991Z",
     "iopub.status.idle": "2025-03-08T16:09:58.923881Z",
     "shell.execute_reply": "2025-03-08T16:09:58.922857Z",
     "shell.execute_reply.started": "2025-03-08T16:09:58.913284Z"
    },
    "trusted": true
   },
   "outputs": [
    {
     "name": "stdout",
     "output_type": "stream",
     "text": [
      "Accuracy: 0.736\n",
      "ROC-AUC: 0.8062197471305306\n"
     ]
    }
   ],
   "source": [
    "print(\"Accuracy:\", accuracy_score(target_test, test_pred))\n",
    "print(\"ROC-AUC:\", roc_auc_score(target_test, test_proba))"
   ]
  },
  {
   "cell_type": "markdown",
   "metadata": {},
   "source": [
    "- GPT embeds + Catboost (trx dim: 8):\n",
    "  - `Accuracy: 0.6948 +- 0.0201`\n",
    "  - `ROC-AUC: 0.7651 +- 0.0117`\n",
    "\n",
    "\\\n",
    "\n",
    "- GPT embeds (w/ stat pooling) + Catboost (trx dim: 8):\n",
    "  - `Accuracy: 0.7004 +- 0.018`\n",
    "  - `ROC-AUC: 0.7747 +- 0.0104`\n",
    "\n",
    "\\\n",
    "\n",
    "Плохо, с trx эмбеддингами большей размерности результаты выходит лучше => отказываемся от текущего конфига \n",
    "\n",
    "---\n",
    "- GPT embeds + Catboost (optimal trx dim: 16):\n",
    "  - `Accuracy: 0.7072 +- 0.0084`\n",
    "  - `ROC-AUC: 0.7743 +- 0.0119`\n",
    "\n",
    "\\\n",
    "\n",
    "- GPT embeds (w/ stat pooling) + Catboost (optimal trx dim: 16):\n",
    "  - `Accuracy: 0.722 +- 0.0139`\n",
    "  - `ROC-AUC: 0.7887 +- 0.0048`\n",
    "\n",
    "---\n",
    "\n",
    "- GPT embeds + Catboost // higher feedforward dim (512):\n",
    "  - `Accuracy: 0.7188 +- 0.0109` \n",
    "  - `ROC-AUC: 0.78 +- 0.0085`\n",
    "\n",
    "\\\n",
    "\n",
    "- GPT embeds (w/ stat pooling) + Catboost + higher feedforward dim (512):\n",
    "  - `Accuracy: 0.7276 +- 0.0174`\n",
    "  - `ROC-AUC: 0.7954 +- 0.0158`\n",
    "\n",
    "Это лучшие результаты. Также теперь будем использовать только stat pooling, так как он стабильно лучше, чем mean pooling. \n",
    "\n",
    "---\n",
    "\n",
    "- GPT embeds (w/ stat pooling) + Catboost + higher feedforward dim (512), adjusted hyperparams:\n",
    "  - `Accuracy: 0.7304 +- 0.0101`\n",
    "  - `ROC-AUC: 0.7957 +- 0.0091`\n",
    "\n",
    "---\n",
    "\n",
    "- GPT embeds (w/ stat pooling, w/ Aug) + Catboost + higher feedforward dim (512), adjusted hyperparams:\n",
    "  - `Accuracy: 0.724 +- 0.009`\n",
    "  - `ROC-AUC: 0.7935 +- 0.0082`\n",
    "\n",
    "---\n",
    "\n",
    "**Итог:** Лучше всего оказался конфиг: GPT embeds (w/ stat pooling) + Catboost + higher feedforward dim (512), adjusted hyperparams"
   ]
  },
  {
   "cell_type": "markdown",
   "metadata": {},
   "source": [
    "# Итоги."
   ]
  },
  {
   "cell_type": "markdown",
   "metadata": {},
   "source": [
    "| Method                  |    Accuracy           | ROC-AUC         |\n",
    "|-------------------------|-----------------------|-----------------|\n",
    "| **Flattened Sequences** | 0.67 ± 0.0046         | 0.7536 ± 0.003  |\n",
    "| **GRU (+ MLP)**         | 0.746 ± 0.0076        | 0.8148 ± 0.0037 |\n",
    "| **CoLES**               | 0.733 ± 0.019         | 0.8057 ± 0.0088 |\n",
    "| **CPC Modeling**        | 0.748 ± 0.003         | 0.81 ± 0.0048   |\n",
    "| **GPT2**                | 0.73 ± 0.01           | 0.7957 ± 0.0091 |"
   ]
  }
 ],
 "metadata": {
  "colab": {
   "authorship_tag": "ABX9TyNf/d19uVxFxPMfFmtk3j7z",
   "provenance": []
  },
  "kaggle": {
   "accelerator": "none",
   "dataSources": [],
   "dockerImageVersionId": 30887,
   "isGpuEnabled": false,
   "isInternetEnabled": true,
   "language": "python",
   "sourceType": "notebook"
  },
  "kernelspec": {
   "display_name": "Python 3",
   "language": "python",
   "name": "python3"
  },
  "language_info": {
   "codemirror_mode": {
    "name": "ipython",
    "version": 3
   },
   "file_extension": ".py",
   "mimetype": "text/x-python",
   "name": "python",
   "nbconvert_exporter": "python",
   "pygments_lexer": "ipython3",
   "version": "3.10.12"
  }
 },
 "nbformat": 4,
 "nbformat_minor": 4
}
