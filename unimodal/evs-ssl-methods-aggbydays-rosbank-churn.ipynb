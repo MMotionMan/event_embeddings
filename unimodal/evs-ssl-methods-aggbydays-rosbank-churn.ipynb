{
 "cells": [
  {
   "cell_type": "markdown",
   "metadata": {},
   "source": [
    "# Импортируем необходимые библиотеки"
   ]
  },
  {
   "cell_type": "code",
   "execution_count": 1,
   "metadata": {
    "collapsed": true,
    "execution": {
     "iopub.execute_input": "2025-04-17T09:41:21.044708Z",
     "iopub.status.busy": "2025-04-17T09:41:21.044404Z",
     "iopub.status.idle": "2025-04-17T09:54:51.630402Z",
     "shell.execute_reply": "2025-04-17T09:54:51.629292Z",
     "shell.execute_reply.started": "2025-04-17T09:41:21.044677Z"
    },
    "jupyter": {
     "outputs_hidden": true
    },
    "trusted": true
   },
   "outputs": [
    {
     "name": "stdout",
     "output_type": "stream",
     "text": [
      "Collecting pytorch-lifestream\n",
      "  Downloading pytorch-lifestream-0.6.0.tar.gz (163 kB)\n",
      "\u001b[2K     \u001b[90m━━━━━━━━━━━━━━━━━━━━━━━━━━━━━━━━━━━━━━━━\u001b[0m \u001b[32m163.4/163.4 kB\u001b[0m \u001b[31m5.0 MB/s\u001b[0m eta \u001b[36m0:00:00\u001b[0m\n",
      "\u001b[?25h  Installing build dependencies ... \u001b[?25l\u001b[?25hdone\n",
      "  Getting requirements to build wheel ... \u001b[?25l\u001b[?25hdone\n",
      "  Preparing metadata (pyproject.toml) ... \u001b[?25l\u001b[?25hdone\n",
      "Requirement already satisfied: duckdb in /usr/local/lib/python3.10/dist-packages (from pytorch-lifestream) (1.1.3)\n",
      "Collecting hydra-core>=1.1.2 (from pytorch-lifestream)\n",
      "  Downloading hydra_core-1.3.2-py3-none-any.whl.metadata (5.5 kB)\n",
      "Requirement already satisfied: numpy>=1.21.5 in /usr/local/lib/python3.10/dist-packages (from pytorch-lifestream) (1.26.4)\n",
      "Requirement already satisfied: omegaconf in /usr/local/lib/python3.10/dist-packages (from pytorch-lifestream) (2.3.0)\n",
      "Requirement already satisfied: pandas>=1.3.5 in /usr/local/lib/python3.10/dist-packages (from pytorch-lifestream) (2.2.3)\n",
      "Requirement already satisfied: pyarrow>=6.0.1 in /usr/local/lib/python3.10/dist-packages (from pytorch-lifestream) (19.0.1)\n",
      "Requirement already satisfied: pytorch-lightning>=1.6.0 in /usr/local/lib/python3.10/dist-packages (from pytorch-lifestream) (2.5.0.post0)\n",
      "Requirement already satisfied: scikit-learn>=1.0.2 in /usr/local/lib/python3.10/dist-packages (from pytorch-lifestream) (1.2.2)\n",
      "Requirement already satisfied: torch>=1.12.0 in /usr/local/lib/python3.10/dist-packages (from pytorch-lifestream) (2.5.1+cu121)\n",
      "Requirement already satisfied: torchmetrics>=0.9.0 in /usr/local/lib/python3.10/dist-packages (from pytorch-lifestream) (1.6.1)\n",
      "Requirement already satisfied: transformers in /usr/local/lib/python3.10/dist-packages (from pytorch-lifestream) (4.47.0)\n",
      "Requirement already satisfied: antlr4-python3-runtime==4.9.* in /usr/local/lib/python3.10/dist-packages (from hydra-core>=1.1.2->pytorch-lifestream) (4.9.3)\n",
      "Requirement already satisfied: packaging in /usr/local/lib/python3.10/dist-packages (from hydra-core>=1.1.2->pytorch-lifestream) (24.2)\n",
      "Requirement already satisfied: mkl_fft in /usr/local/lib/python3.10/dist-packages (from numpy>=1.21.5->pytorch-lifestream) (1.3.8)\n",
      "Requirement already satisfied: mkl_random in /usr/local/lib/python3.10/dist-packages (from numpy>=1.21.5->pytorch-lifestream) (1.2.4)\n",
      "Requirement already satisfied: mkl_umath in /usr/local/lib/python3.10/dist-packages (from numpy>=1.21.5->pytorch-lifestream) (0.1.1)\n",
      "Requirement already satisfied: mkl in /usr/local/lib/python3.10/dist-packages (from numpy>=1.21.5->pytorch-lifestream) (2025.0.1)\n",
      "Requirement already satisfied: tbb4py in /usr/local/lib/python3.10/dist-packages (from numpy>=1.21.5->pytorch-lifestream) (2022.0.0)\n",
      "Requirement already satisfied: mkl-service in /usr/local/lib/python3.10/dist-packages (from numpy>=1.21.5->pytorch-lifestream) (2.4.1)\n",
      "Requirement already satisfied: PyYAML>=5.1.0 in /usr/local/lib/python3.10/dist-packages (from omegaconf->pytorch-lifestream) (6.0.2)\n",
      "Requirement already satisfied: python-dateutil>=2.8.2 in /usr/local/lib/python3.10/dist-packages (from pandas>=1.3.5->pytorch-lifestream) (2.9.0.post0)\n",
      "Requirement already satisfied: pytz>=2020.1 in /usr/local/lib/python3.10/dist-packages (from pandas>=1.3.5->pytorch-lifestream) (2025.1)\n",
      "Requirement already satisfied: tzdata>=2022.7 in /usr/local/lib/python3.10/dist-packages (from pandas>=1.3.5->pytorch-lifestream) (2025.1)\n",
      "Requirement already satisfied: tqdm>=4.57.0 in /usr/local/lib/python3.10/dist-packages (from pytorch-lightning>=1.6.0->pytorch-lifestream) (4.67.1)\n",
      "Requirement already satisfied: fsspec>=2022.5.0 in /usr/local/lib/python3.10/dist-packages (from fsspec[http]>=2022.5.0->pytorch-lightning>=1.6.0->pytorch-lifestream) (2024.12.0)\n",
      "Requirement already satisfied: typing-extensions>=4.4.0 in /usr/local/lib/python3.10/dist-packages (from pytorch-lightning>=1.6.0->pytorch-lifestream) (4.12.2)\n",
      "Requirement already satisfied: lightning-utilities>=0.10.0 in /usr/local/lib/python3.10/dist-packages (from pytorch-lightning>=1.6.0->pytorch-lifestream) (0.12.0)\n",
      "Requirement already satisfied: scipy>=1.3.2 in /usr/local/lib/python3.10/dist-packages (from scikit-learn>=1.0.2->pytorch-lifestream) (1.13.1)\n",
      "Requirement already satisfied: joblib>=1.1.1 in /usr/local/lib/python3.10/dist-packages (from scikit-learn>=1.0.2->pytorch-lifestream) (1.4.2)\n",
      "Requirement already satisfied: threadpoolctl>=2.0.0 in /usr/local/lib/python3.10/dist-packages (from scikit-learn>=1.0.2->pytorch-lifestream) (3.5.0)\n",
      "Requirement already satisfied: filelock in /usr/local/lib/python3.10/dist-packages (from torch>=1.12.0->pytorch-lifestream) (3.17.0)\n",
      "Requirement already satisfied: networkx in /usr/local/lib/python3.10/dist-packages (from torch>=1.12.0->pytorch-lifestream) (3.4.2)\n",
      "Requirement already satisfied: jinja2 in /usr/local/lib/python3.10/dist-packages (from torch>=1.12.0->pytorch-lifestream) (3.1.4)\n",
      "Requirement already satisfied: sympy==1.13.1 in /usr/local/lib/python3.10/dist-packages (from torch>=1.12.0->pytorch-lifestream) (1.13.1)\n",
      "Requirement already satisfied: mpmath<1.4,>=1.1.0 in /usr/local/lib/python3.10/dist-packages (from sympy==1.13.1->torch>=1.12.0->pytorch-lifestream) (1.3.0)\n",
      "Requirement already satisfied: huggingface-hub<1.0,>=0.24.0 in /usr/local/lib/python3.10/dist-packages (from transformers->pytorch-lifestream) (0.29.0)\n",
      "Requirement already satisfied: regex!=2019.12.17 in /usr/local/lib/python3.10/dist-packages (from transformers->pytorch-lifestream) (2024.11.6)\n",
      "Requirement already satisfied: requests in /usr/local/lib/python3.10/dist-packages (from transformers->pytorch-lifestream) (2.32.3)\n",
      "Requirement already satisfied: tokenizers<0.22,>=0.21 in /usr/local/lib/python3.10/dist-packages (from transformers->pytorch-lifestream) (0.21.0)\n",
      "Requirement already satisfied: safetensors>=0.4.1 in /usr/local/lib/python3.10/dist-packages (from transformers->pytorch-lifestream) (0.4.5)\n",
      "Requirement already satisfied: aiohttp!=4.0.0a0,!=4.0.0a1 in /usr/local/lib/python3.10/dist-packages (from fsspec[http]>=2022.5.0->pytorch-lightning>=1.6.0->pytorch-lifestream) (3.11.12)\n",
      "Requirement already satisfied: setuptools in /usr/local/lib/python3.10/dist-packages (from lightning-utilities>=0.10.0->pytorch-lightning>=1.6.0->pytorch-lifestream) (75.1.0)\n",
      "Requirement already satisfied: six>=1.5 in /usr/local/lib/python3.10/dist-packages (from python-dateutil>=2.8.2->pandas>=1.3.5->pytorch-lifestream) (1.17.0)\n",
      "Requirement already satisfied: MarkupSafe>=2.0 in /usr/local/lib/python3.10/dist-packages (from jinja2->torch>=1.12.0->pytorch-lifestream) (3.0.2)\n",
      "Requirement already satisfied: intel-openmp>=2024 in /usr/local/lib/python3.10/dist-packages (from mkl->numpy>=1.21.5->pytorch-lifestream) (2024.2.0)\n",
      "Requirement already satisfied: tbb==2022.* in /usr/local/lib/python3.10/dist-packages (from mkl->numpy>=1.21.5->pytorch-lifestream) (2022.0.0)\n",
      "Requirement already satisfied: tcmlib==1.* in /usr/local/lib/python3.10/dist-packages (from tbb==2022.*->mkl->numpy>=1.21.5->pytorch-lifestream) (1.2.0)\n",
      "Requirement already satisfied: intel-cmplr-lib-rt in /usr/local/lib/python3.10/dist-packages (from mkl_umath->numpy>=1.21.5->pytorch-lifestream) (2024.2.0)\n",
      "Requirement already satisfied: charset-normalizer<4,>=2 in /usr/local/lib/python3.10/dist-packages (from requests->transformers->pytorch-lifestream) (3.4.1)\n",
      "Requirement already satisfied: idna<4,>=2.5 in /usr/local/lib/python3.10/dist-packages (from requests->transformers->pytorch-lifestream) (3.10)\n",
      "Requirement already satisfied: urllib3<3,>=1.21.1 in /usr/local/lib/python3.10/dist-packages (from requests->transformers->pytorch-lifestream) (2.3.0)\n",
      "Requirement already satisfied: certifi>=2017.4.17 in /usr/local/lib/python3.10/dist-packages (from requests->transformers->pytorch-lifestream) (2025.1.31)\n",
      "Requirement already satisfied: aiohappyeyeballs>=2.3.0 in /usr/local/lib/python3.10/dist-packages (from aiohttp!=4.0.0a0,!=4.0.0a1->fsspec[http]>=2022.5.0->pytorch-lightning>=1.6.0->pytorch-lifestream) (2.4.6)\n",
      "Requirement already satisfied: aiosignal>=1.1.2 in /usr/local/lib/python3.10/dist-packages (from aiohttp!=4.0.0a0,!=4.0.0a1->fsspec[http]>=2022.5.0->pytorch-lightning>=1.6.0->pytorch-lifestream) (1.3.2)\n",
      "Requirement already satisfied: async-timeout<6.0,>=4.0 in /usr/local/lib/python3.10/dist-packages (from aiohttp!=4.0.0a0,!=4.0.0a1->fsspec[http]>=2022.5.0->pytorch-lightning>=1.6.0->pytorch-lifestream) (5.0.1)\n",
      "Requirement already satisfied: attrs>=17.3.0 in /usr/local/lib/python3.10/dist-packages (from aiohttp!=4.0.0a0,!=4.0.0a1->fsspec[http]>=2022.5.0->pytorch-lightning>=1.6.0->pytorch-lifestream) (25.1.0)\n",
      "Requirement already satisfied: frozenlist>=1.1.1 in /usr/local/lib/python3.10/dist-packages (from aiohttp!=4.0.0a0,!=4.0.0a1->fsspec[http]>=2022.5.0->pytorch-lightning>=1.6.0->pytorch-lifestream) (1.5.0)\n",
      "Requirement already satisfied: multidict<7.0,>=4.5 in /usr/local/lib/python3.10/dist-packages (from aiohttp!=4.0.0a0,!=4.0.0a1->fsspec[http]>=2022.5.0->pytorch-lightning>=1.6.0->pytorch-lifestream) (6.1.0)\n",
      "Requirement already satisfied: propcache>=0.2.0 in /usr/local/lib/python3.10/dist-packages (from aiohttp!=4.0.0a0,!=4.0.0a1->fsspec[http]>=2022.5.0->pytorch-lightning>=1.6.0->pytorch-lifestream) (0.2.1)\n",
      "Requirement already satisfied: yarl<2.0,>=1.17.0 in /usr/local/lib/python3.10/dist-packages (from aiohttp!=4.0.0a0,!=4.0.0a1->fsspec[http]>=2022.5.0->pytorch-lightning>=1.6.0->pytorch-lifestream) (1.18.3)\n",
      "Requirement already satisfied: intel-cmplr-lib-ur==2024.2.0 in /usr/local/lib/python3.10/dist-packages (from intel-openmp>=2024->mkl->numpy>=1.21.5->pytorch-lifestream) (2024.2.0)\n",
      "Downloading hydra_core-1.3.2-py3-none-any.whl (154 kB)\n",
      "\u001b[2K   \u001b[90m━━━━━━━━━━━━━━━━━━━━━━━━━━━━━━━━━━━━━━━━\u001b[0m \u001b[32m154.5/154.5 kB\u001b[0m \u001b[31m9.9 MB/s\u001b[0m eta \u001b[36m0:00:00\u001b[0m\n",
      "\u001b[?25hBuilding wheels for collected packages: pytorch-lifestream\n",
      "  Building wheel for pytorch-lifestream (pyproject.toml) ... \u001b[?25l\u001b[?25hdone\n",
      "  Created wheel for pytorch-lifestream: filename=pytorch_lifestream-0.6.0-py3-none-any.whl size=274670 sha256=3e35389a74c4e4371bd87296497fb6d1fdf87dda58636bb98ac31536d9ee9d78\n",
      "  Stored in directory: /root/.cache/pip/wheels/90/76/b4/0a944bc7c5a69201e4d757cc54886971117a2a581740e7f11d\n",
      "Successfully built pytorch-lifestream\n",
      "Installing collected packages: hydra-core, pytorch-lifestream\n",
      "Successfully installed hydra-core-1.3.2 pytorch-lifestream-0.6.0\n",
      "Collecting comet_ml\n",
      "  Downloading comet_ml-3.49.7-py3-none-any.whl.metadata (4.1 kB)\n",
      "Collecting dulwich!=0.20.33,>=0.20.6 (from comet_ml)\n",
      "  Downloading dulwich-0.22.8-cp310-cp310-manylinux_2_17_x86_64.manylinux2014_x86_64.whl.metadata (4.9 kB)\n",
      "Collecting everett<3.2.0,>=1.0.1 (from everett[ini]<3.2.0,>=1.0.1->comet_ml)\n",
      "  Downloading everett-3.1.0-py2.py3-none-any.whl.metadata (17 kB)\n",
      "Requirement already satisfied: jsonschema!=3.1.0,>=2.6.0 in /usr/local/lib/python3.10/dist-packages (from comet_ml) (4.23.0)\n",
      "Requirement already satisfied: psutil>=5.6.3 in /usr/local/lib/python3.10/dist-packages (from comet_ml) (5.9.5)\n",
      "Collecting python-box<7.0.0 (from comet_ml)\n",
      "  Downloading python_box-6.1.0-cp310-cp310-manylinux_2_17_x86_64.manylinux2014_x86_64.whl.metadata (7.8 kB)\n",
      "Requirement already satisfied: requests-toolbelt>=0.8.0 in /usr/local/lib/python3.10/dist-packages (from comet_ml) (1.0.0)\n",
      "Requirement already satisfied: requests>=2.18.4 in /usr/local/lib/python3.10/dist-packages (from comet_ml) (2.32.3)\n",
      "Requirement already satisfied: rich>=13.3.2 in /usr/local/lib/python3.10/dist-packages (from comet_ml) (13.9.4)\n",
      "Collecting semantic-version>=2.8.0 (from comet_ml)\n",
      "  Downloading semantic_version-2.10.0-py2.py3-none-any.whl.metadata (9.7 kB)\n",
      "Requirement already satisfied: sentry-sdk>=1.1.0 in /usr/local/lib/python3.10/dist-packages (from comet_ml) (2.19.2)\n",
      "Collecting simplejson (from comet_ml)\n",
      "  Downloading simplejson-3.20.1-cp310-cp310-manylinux_2_5_x86_64.manylinux1_x86_64.manylinux_2_17_x86_64.manylinux2014_x86_64.whl.metadata (3.2 kB)\n",
      "Requirement already satisfied: urllib3>=1.21.1 in /usr/local/lib/python3.10/dist-packages (from comet_ml) (2.3.0)\n",
      "Requirement already satisfied: wrapt>=1.11.2 in /usr/local/lib/python3.10/dist-packages (from comet_ml) (1.17.0)\n",
      "Requirement already satisfied: wurlitzer>=1.0.2 in /usr/local/lib/python3.10/dist-packages (from comet_ml) (3.1.1)\n",
      "Collecting configobj (from everett[ini]<3.2.0,>=1.0.1->comet_ml)\n",
      "  Downloading configobj-5.0.9-py2.py3-none-any.whl.metadata (3.2 kB)\n",
      "Requirement already satisfied: attrs>=22.2.0 in /usr/local/lib/python3.10/dist-packages (from jsonschema!=3.1.0,>=2.6.0->comet_ml) (25.1.0)\n",
      "Requirement already satisfied: jsonschema-specifications>=2023.03.6 in /usr/local/lib/python3.10/dist-packages (from jsonschema!=3.1.0,>=2.6.0->comet_ml) (2024.10.1)\n",
      "Requirement already satisfied: referencing>=0.28.4 in /usr/local/lib/python3.10/dist-packages (from jsonschema!=3.1.0,>=2.6.0->comet_ml) (0.35.1)\n",
      "Requirement already satisfied: rpds-py>=0.7.1 in /usr/local/lib/python3.10/dist-packages (from jsonschema!=3.1.0,>=2.6.0->comet_ml) (0.22.3)\n",
      "Requirement already satisfied: charset-normalizer<4,>=2 in /usr/local/lib/python3.10/dist-packages (from requests>=2.18.4->comet_ml) (3.4.1)\n",
      "Requirement already satisfied: idna<4,>=2.5 in /usr/local/lib/python3.10/dist-packages (from requests>=2.18.4->comet_ml) (3.10)\n",
      "Requirement already satisfied: certifi>=2017.4.17 in /usr/local/lib/python3.10/dist-packages (from requests>=2.18.4->comet_ml) (2025.1.31)\n",
      "Requirement already satisfied: markdown-it-py>=2.2.0 in /usr/local/lib/python3.10/dist-packages (from rich>=13.3.2->comet_ml) (3.0.0)\n",
      "Requirement already satisfied: pygments<3.0.0,>=2.13.0 in /usr/local/lib/python3.10/dist-packages (from rich>=13.3.2->comet_ml) (2.19.1)\n",
      "Requirement already satisfied: typing-extensions<5.0,>=4.0.0 in /usr/local/lib/python3.10/dist-packages (from rich>=13.3.2->comet_ml) (4.12.2)\n",
      "Requirement already satisfied: mdurl~=0.1 in /usr/local/lib/python3.10/dist-packages (from markdown-it-py>=2.2.0->rich>=13.3.2->comet_ml) (0.1.2)\n",
      "Downloading comet_ml-3.49.7-py3-none-any.whl (726 kB)\n",
      "\u001b[2K   \u001b[90m━━━━━━━━━━━━━━━━━━━━━━━━━━━━━━━━━━━━━━━━\u001b[0m \u001b[32m726.7/726.7 kB\u001b[0m \u001b[31m15.1 MB/s\u001b[0m eta \u001b[36m0:00:00\u001b[0m00:01\u001b[0m\n",
      "\u001b[?25hDownloading dulwich-0.22.8-cp310-cp310-manylinux_2_17_x86_64.manylinux2014_x86_64.whl (1.0 MB)\n",
      "\u001b[2K   \u001b[90m━━━━━━━━━━━━━━━━━━━━━━━━━━━━━━━━━━━━━━━━\u001b[0m \u001b[32m1.0/1.0 MB\u001b[0m \u001b[31m39.2 MB/s\u001b[0m eta \u001b[36m0:00:00\u001b[0m\n",
      "\u001b[?25hDownloading everett-3.1.0-py2.py3-none-any.whl (35 kB)\n",
      "Downloading python_box-6.1.0-cp310-cp310-manylinux_2_17_x86_64.manylinux2014_x86_64.whl (3.3 MB)\n",
      "\u001b[2K   \u001b[90m━━━━━━━━━━━━━━━━━━━━━━━━━━━━━━━━━━━━━━━━\u001b[0m \u001b[32m3.3/3.3 MB\u001b[0m \u001b[31m89.6 MB/s\u001b[0m eta \u001b[36m0:00:00\u001b[0m:00:01\u001b[0m\n",
      "\u001b[?25hDownloading semantic_version-2.10.0-py2.py3-none-any.whl (15 kB)\n",
      "Downloading simplejson-3.20.1-cp310-cp310-manylinux_2_5_x86_64.manylinux1_x86_64.manylinux_2_17_x86_64.manylinux2014_x86_64.whl (138 kB)\n",
      "\u001b[2K   \u001b[90m━━━━━━━━━━━━━━━━━━━━━━━━━━━━━━━━━━━━━━━━\u001b[0m \u001b[32m138.0/138.0 kB\u001b[0m \u001b[31m8.6 MB/s\u001b[0m eta \u001b[36m0:00:00\u001b[0m\n",
      "\u001b[?25hDownloading configobj-5.0.9-py2.py3-none-any.whl (35 kB)\n",
      "Installing collected packages: everett, simplejson, semantic-version, python-box, dulwich, configobj, comet_ml\n",
      "  Attempting uninstall: python-box\n",
      "    Found existing installation: python-box 7.3.0\n",
      "    Uninstalling python-box-7.3.0:\n",
      "      Successfully uninstalled python-box-7.3.0\n",
      "Successfully installed comet_ml-3.49.7 configobj-5.0.9 dulwich-0.22.8 everett-3.1.0 python-box-6.1.0 semantic-version-2.10.0 simplejson-3.20.1\n",
      "Collecting torch_scatter\n",
      "  Downloading torch_scatter-2.1.2.tar.gz (108 kB)\n",
      "\u001b[2K     \u001b[90m━━━━━━━━━━━━━━━━━━━━━━━━━━━━━━━━━━━━━━━━\u001b[0m \u001b[32m108.0/108.0 kB\u001b[0m \u001b[31m4.2 MB/s\u001b[0m eta \u001b[36m0:00:00\u001b[0m\n",
      "\u001b[?25h  Preparing metadata (setup.py) ... \u001b[?25l\u001b[?25hdone\n",
      "Building wheels for collected packages: torch_scatter\n",
      "  Building wheel for torch_scatter (setup.py) ... \u001b[?25l\u001b[?25hdone\n",
      "  Created wheel for torch_scatter: filename=torch_scatter-2.1.2-cp310-cp310-linux_x86_64.whl size=3879854 sha256=0d4590c4b6a489fc9843cacbe5c9f65803887f33314f0870362ce14b64a7fb60\n",
      "  Stored in directory: /root/.cache/pip/wheels/92/f1/2b/3b46d54b134259f58c8363568569053248040859b1a145b3ce\n",
      "Successfully built torch_scatter\n",
      "Installing collected packages: torch_scatter\n",
      "Successfully installed torch_scatter-2.1.2\n"
     ]
    }
   ],
   "source": [
    "!pip install pytorch-lifestream\n",
    "!pip install comet_ml\n",
    "!pip install torch_scatter"
   ]
  },
  {
   "cell_type": "code",
   "execution_count": 2,
   "metadata": {
    "execution": {
     "iopub.execute_input": "2025-04-17T09:55:47.481046Z",
     "iopub.status.busy": "2025-04-17T09:55:47.480732Z",
     "iopub.status.idle": "2025-04-17T09:56:10.091499Z",
     "shell.execute_reply": "2025-04-17T09:56:10.090847Z",
     "shell.execute_reply.started": "2025-04-17T09:55:47.481021Z"
    },
    "executionInfo": {
     "elapsed": 233,
     "status": "ok",
     "timestamp": 1732826830664,
     "user": {
      "displayName": "Антон Коротков",
      "userId": "12465883653538096788"
     },
     "user_tz": -180
    },
    "id": "4KxO1qd6hUTG",
    "trusted": true
   },
   "outputs": [],
   "source": [
    "# data preprocessing\n",
    "import os\n",
    "import numpy as np\n",
    "import pandas as pd\n",
    "import pickle\n",
    "\n",
    "# misc\n",
    "from tqdm import tqdm\n",
    "from functools import partial\n",
    "\n",
    "# logging\n",
    "import comet_ml\n",
    "\n",
    "# classical ML\n",
    "from sklearn.model_selection import train_test_split\n",
    "from sklearn.metrics import accuracy_score, roc_auc_score\n",
    "from catboost import CatBoostClassifier\n",
    "\n",
    "# basic deep learning libs\n",
    "import torch\n",
    "from torch.utils.data import DataLoader\n",
    "import pytorch_lightning as pl\n",
    "import torchmetrics\n",
    "\n",
    "# ptls\n",
    "from ptls.nn import TrxEncoder, RnnSeqEncoder, TransformerEncoder, GptEncoder, Head\n",
    "from ptls.frames import PtlsDataModule\n",
    "from ptls.frames.coles import CoLESModule\n",
    "from ptls.frames.coles import ColesDataset\n",
    "from ptls.frames.coles.split_strategy import SampleSlices\n",
    "from ptls.frames.cpc import CpcModule\n",
    "from ptls.frames.cpc import CpcDataset\n",
    "from ptls.frames.gpt import GptDataset\n",
    "from ptls.frames.supervised import SeqToTargetDataset, SequenceToTarget\n",
    "from ptls.data_load.datasets import MemoryMapDataset\n",
    "from ptls.data_load.datasets import inference_data_loader\n",
    "from ptls.frames.inference_module import InferenceModule\n",
    "from ptls.data_load.iterable_processing import SeqLenFilter, ToTorch, FilterNonArray, ISeqLenLimit\n",
    "from ptls.data_load import IterableChain, padded_collate_wo_target\n",
    "from ptls.data_load.filter_dataset import FilterDataset\n",
    "from ptls.preprocessing import PandasDataPreprocessor\n",
    "from ptls.data_load.utils import collate_feature_dict\n",
    "from ptls.frames.inference_module import InferenceModule\n",
    "\n",
    "# torch_scatter\n",
    "import torch_scatter"
   ]
  },
  {
   "cell_type": "code",
   "execution_count": 3,
   "metadata": {
    "execution": {
     "iopub.execute_input": "2025-04-17T09:56:22.496953Z",
     "iopub.status.busy": "2025-04-17T09:56:22.496231Z",
     "iopub.status.idle": "2025-04-17T09:56:22.501219Z",
     "shell.execute_reply": "2025-04-17T09:56:22.500295Z",
     "shell.execute_reply.started": "2025-04-17T09:56:22.496920Z"
    },
    "trusted": true
   },
   "outputs": [],
   "source": [
    "def seed_everything(seed):\n",
    "    np.random.seed(seed)\n",
    "    torch.manual_seed(seed)\n",
    "    torch.cuda.manual_seed_all(seed)\n",
    "    torch.backends.cudnn.deterministic = True\n",
    "    torch.backends.cudnn.benchmark = False"
   ]
  },
  {
   "cell_type": "code",
   "execution_count": 5,
   "metadata": {
    "execution": {
     "iopub.execute_input": "2025-04-17T09:56:42.064237Z",
     "iopub.status.busy": "2025-04-17T09:56:42.063949Z",
     "iopub.status.idle": "2025-04-17T09:56:42.351404Z",
     "shell.execute_reply": "2025-04-17T09:56:42.350780Z",
     "shell.execute_reply.started": "2025-04-17T09:56:42.064214Z"
    },
    "trusted": true
   },
   "outputs": [],
   "source": [
    "comet_ml.login()"
   ]
  },
  {
   "cell_type": "code",
   "execution_count": 6,
   "metadata": {
    "execution": {
     "iopub.execute_input": "2025-04-17T09:56:44.266775Z",
     "iopub.status.busy": "2025-04-17T09:56:44.266447Z",
     "iopub.status.idle": "2025-04-17T09:56:44.270457Z",
     "shell.execute_reply": "2025-04-17T09:56:44.269685Z",
     "shell.execute_reply.started": "2025-04-17T09:56:44.266747Z"
    },
    "trusted": true
   },
   "outputs": [],
   "source": [
    "from pytorch_lightning.loggers import CometLogger"
   ]
  },
  {
   "cell_type": "markdown",
   "metadata": {},
   "source": [
    "---"
   ]
  },
  {
   "cell_type": "markdown",
   "metadata": {},
   "source": [
    "**Time2Vec:**"
   ]
  },
  {
   "cell_type": "code",
   "execution_count": 7,
   "metadata": {
    "execution": {
     "iopub.execute_input": "2025-04-17T09:56:49.560936Z",
     "iopub.status.busy": "2025-04-17T09:56:49.560548Z",
     "iopub.status.idle": "2025-04-17T09:56:49.577520Z",
     "shell.execute_reply": "2025-04-17T09:56:49.576483Z",
     "shell.execute_reply.started": "2025-04-17T09:56:49.560911Z"
    },
    "trusted": true
   },
   "outputs": [],
   "source": [
    "import torch\n",
    "from ptls.data_load.padded_batch import PaddedBatch\n",
    "from ptls.nn.trx_encoder.batch_norm import RBatchNorm, RBatchNormWithLens\n",
    "from ptls.nn.trx_encoder.noisy_embedding import NoisyEmbedding\n",
    "from ptls.nn.trx_encoder.trx_encoder_base import TrxEncoderBase\n",
    "import torch.nn as nn\n",
    "\n",
    "\n",
    "class Time2Vec(nn.Module):\n",
    "    def __init__(self, k, interval=86400):\n",
    "        super(Time2Vec, self).__init__()\n",
    "        self.k = k\n",
    "        self.w = nn.Parameter(torch.randn(k))\n",
    "        self.b = nn.Parameter(torch.randn(k))\n",
    "        self.w0 = nn.Parameter(torch.randn(1))\n",
    "        self.b0 = nn.Parameter(torch.randn(1))\n",
    "        self.interval = interval\n",
    "        \n",
    "    def forward(self, event_time, t0):\n",
    "        t0_ = torch.zeros_like(event_time)\n",
    "        time_diff=None\n",
    "        if type(t0)!=int:\n",
    "            first_column = t0[:, 0].unsqueeze(1)\n",
    "            t0_ = first_column.expand(-1, t0.size(1))\n",
    "        time_diff = (event_time - t0_)/self.interval\n",
    "        v1 = self.w0 * time_diff.unsqueeze(-1) + self.b0\n",
    "        v2 = torch.cos(self.w * time_diff.unsqueeze(-1) + self.b)\n",
    "        \n",
    "        return torch.cat([v1, v2], -1)\n",
    "\n",
    "        \n",
    "class TrxEncoderT2V(TrxEncoderBase):\n",
    "    def __init__(self,\n",
    "                 embeddings=None,\n",
    "                 numeric_values=None,\n",
    "                 custom_embeddings=None,\n",
    "                 time_values=None,\n",
    "                 embeddings_noise: float = 0,\n",
    "                 norm_embeddings=None,\n",
    "                 use_batch_norm=True,\n",
    "                 use_batch_norm_with_lens=False,\n",
    "                 clip_replace_value=None,\n",
    "                 positions=None,\n",
    "                 emb_dropout=0,\n",
    "                 spatial_dropout=False,\n",
    "                 orthogonal_init=False,\n",
    "                 linear_projection_size=0,\n",
    "                 out_of_index: str = 'clip',\n",
    "                 k=2,\n",
    "                 time_col='event_time'\n",
    "                 ):\n",
    "        if clip_replace_value is not None:\n",
    "            warnings.warn('`clip_replace_value` attribute is deprecated. Always \"clip to max\" used. '\n",
    "                          'Use `out_of_index=\"assert\"` to avoid categorical values clip', DeprecationWarning)\n",
    "\n",
    "        if positions is not None:\n",
    "            warnings.warn('`positions` is deprecated. positions is not used', UserWarning)\n",
    "\n",
    "        if embeddings is None:\n",
    "            embeddings = {}\n",
    "        if custom_embeddings is None:\n",
    "            custom_embeddings = {}\n",
    "        if time_values is None:\n",
    "            time_values = {}\n",
    "\n",
    "        noisy_embeddings = {}\n",
    "        for emb_name, emb_props in embeddings.items():\n",
    "            if emb_props.get('disabled', False):\n",
    "                continue\n",
    "            if emb_props['in'] == 0 or emb_props['out'] == 0:\n",
    "                continue\n",
    "            noisy_embeddings[emb_name] = NoisyEmbedding(\n",
    "                num_embeddings=emb_props['in'],\n",
    "                embedding_dim=emb_props['out'],\n",
    "                padding_idx=0,\n",
    "                max_norm=1 if norm_embeddings else None,\n",
    "                noise_scale=embeddings_noise,\n",
    "                dropout=emb_dropout,\n",
    "                spatial_dropout=spatial_dropout,\n",
    "            )\n",
    "\n",
    "        super().__init__(\n",
    "            embeddings=noisy_embeddings,\n",
    "            numeric_values=numeric_values,\n",
    "            custom_embeddings=custom_embeddings,\n",
    "            out_of_index=out_of_index,\n",
    "        )\n",
    "\n",
    "        custom_embedding_size = self.custom_embedding_size\n",
    "        if use_batch_norm and custom_embedding_size > 0:\n",
    "            # :TODO: Should we use Batch norm with not-numerical custom embeddings?\n",
    "            if use_batch_norm_with_lens:\n",
    "                self.custom_embedding_batch_norm = RBatchNormWithLens(custom_embedding_size)\n",
    "            else:\n",
    "                self.custom_embedding_batch_norm = RBatchNorm(custom_embedding_size)\n",
    "        else:\n",
    "            self.custom_embedding_batch_norm = None\n",
    "        \n",
    "        self.k = k\n",
    "        self.time2vec_days = Time2Vec(k=self.k)\n",
    "        self.time_col = time_col\n",
    "        \n",
    "        if linear_projection_size > 0:\n",
    "            self.linear_projection_head = torch.nn.Linear(super().output_size+k+1, linear_projection_size)\n",
    "        else:\n",
    "            self.linear_projection_head = None\n",
    "            \n",
    "\n",
    "        if orthogonal_init:\n",
    "            for n, p in self.named_parameters():\n",
    "                if n.startswith('embeddings.') and n.endswith('.weight'):\n",
    "                    torch.nn.init.orthogonal_(p.data[1:])\n",
    "                if n == 'linear_projection_head.weight':\n",
    "                    torch.nn.init.orthogonal_(p.data)\n",
    "\n",
    "    def forward(self, x: PaddedBatch):\n",
    "        processed_embeddings = []\n",
    "        processed_custom_embeddings = []\n",
    "\n",
    "        for field_name in self.embeddings.keys():\n",
    "            processed_embeddings.append(self.get_category_embeddings(x, field_name))\n",
    "        \n",
    "        for field_name in self.custom_embeddings.keys():\n",
    "            processed_custom_embeddings.append(self.get_custom_embeddings(x, field_name))\n",
    "\n",
    "        if len(processed_custom_embeddings):\n",
    "            processed_custom_embeddings = torch.cat(processed_custom_embeddings, dim=2)\n",
    "            if self.custom_embedding_batch_norm is not None:\n",
    "                processed_custom_embeddings = PaddedBatch(processed_custom_embeddings, x.seq_lens)\n",
    "                processed_custom_embeddings = self.custom_embedding_batch_norm(processed_custom_embeddings)\n",
    "                processed_custom_embeddings = processed_custom_embeddings.payload\n",
    "            processed_embeddings.append(processed_custom_embeddings)\n",
    "\n",
    "        out = torch.cat(processed_embeddings, dim=2)\n",
    "\n",
    "        time_encoded_days = self.time2vec_days(x.payload[self.time_col], x.payload[self.time_col])\n",
    "        out = torch.cat((out, time_encoded_days), dim=2)\n",
    "\n",
    "        if self.linear_projection_head is not None:\n",
    "            out = self.linear_projection_head(out)\n",
    "        return PaddedBatch(out, x.seq_lens)\n",
    "\n",
    "    @property\n",
    "    def output_size(self):\n",
    "        \"\"\"Returns hidden size of output representation\n",
    "        \"\"\"\n",
    "        if self.linear_projection_head is not None:\n",
    "            return self.linear_projection_head.out_features\n",
    "        return super().output_size + self.k + 1"
   ]
  },
  {
   "cell_type": "markdown",
   "metadata": {},
   "source": [
    "# Эксперименты."
   ]
  },
  {
   "cell_type": "markdown",
   "metadata": {},
   "source": [
    "**Данные:**"
   ]
  },
  {
   "cell_type": "code",
   "execution_count": 133,
   "metadata": {
    "execution": {
     "iopub.execute_input": "2025-04-17T10:47:27.647476Z",
     "iopub.status.busy": "2025-04-17T10:47:27.647151Z",
     "iopub.status.idle": "2025-04-17T10:47:28.462710Z",
     "shell.execute_reply": "2025-04-17T10:47:28.461824Z",
     "shell.execute_reply.started": "2025-04-17T10:47:27.647449Z"
    },
    "trusted": true
   },
   "outputs": [
    {
     "data": {
      "text/html": [
       "<div>\n",
       "<style scoped>\n",
       "    .dataframe tbody tr th:only-of-type {\n",
       "        vertical-align: middle;\n",
       "    }\n",
       "\n",
       "    .dataframe tbody tr th {\n",
       "        vertical-align: top;\n",
       "    }\n",
       "\n",
       "    .dataframe thead th {\n",
       "        text-align: right;\n",
       "    }\n",
       "</style>\n",
       "<table border=\"1\" class=\"dataframe\">\n",
       "  <thead>\n",
       "    <tr style=\"text-align: right;\">\n",
       "      <th></th>\n",
       "      <th>PERIOD</th>\n",
       "      <th>cl_id</th>\n",
       "      <th>MCC</th>\n",
       "      <th>channel_type</th>\n",
       "      <th>currency</th>\n",
       "      <th>TRDATETIME</th>\n",
       "      <th>amount</th>\n",
       "      <th>trx_category</th>\n",
       "      <th>target_flag</th>\n",
       "      <th>target_sum</th>\n",
       "    </tr>\n",
       "  </thead>\n",
       "  <tbody>\n",
       "    <tr>\n",
       "      <th>0</th>\n",
       "      <td>01/10/2017</td>\n",
       "      <td>0</td>\n",
       "      <td>5200</td>\n",
       "      <td>NaN</td>\n",
       "      <td>810</td>\n",
       "      <td>21OCT17:00:00:00</td>\n",
       "      <td>5023.00</td>\n",
       "      <td>POS</td>\n",
       "      <td>0</td>\n",
       "      <td>0.0</td>\n",
       "    </tr>\n",
       "    <tr>\n",
       "      <th>1</th>\n",
       "      <td>01/10/2017</td>\n",
       "      <td>0</td>\n",
       "      <td>6011</td>\n",
       "      <td>NaN</td>\n",
       "      <td>810</td>\n",
       "      <td>12OCT17:12:24:07</td>\n",
       "      <td>20000.00</td>\n",
       "      <td>DEPOSIT</td>\n",
       "      <td>0</td>\n",
       "      <td>0.0</td>\n",
       "    </tr>\n",
       "    <tr>\n",
       "      <th>2</th>\n",
       "      <td>01/12/2017</td>\n",
       "      <td>0</td>\n",
       "      <td>5921</td>\n",
       "      <td>NaN</td>\n",
       "      <td>810</td>\n",
       "      <td>05DEC17:00:00:00</td>\n",
       "      <td>767.00</td>\n",
       "      <td>POS</td>\n",
       "      <td>0</td>\n",
       "      <td>0.0</td>\n",
       "    </tr>\n",
       "    <tr>\n",
       "      <th>3</th>\n",
       "      <td>01/10/2017</td>\n",
       "      <td>0</td>\n",
       "      <td>5411</td>\n",
       "      <td>NaN</td>\n",
       "      <td>810</td>\n",
       "      <td>21OCT17:00:00:00</td>\n",
       "      <td>2031.00</td>\n",
       "      <td>POS</td>\n",
       "      <td>0</td>\n",
       "      <td>0.0</td>\n",
       "    </tr>\n",
       "    <tr>\n",
       "      <th>4</th>\n",
       "      <td>01/10/2017</td>\n",
       "      <td>0</td>\n",
       "      <td>6012</td>\n",
       "      <td>NaN</td>\n",
       "      <td>810</td>\n",
       "      <td>24OCT17:13:14:24</td>\n",
       "      <td>36562.00</td>\n",
       "      <td>C2C_OUT</td>\n",
       "      <td>0</td>\n",
       "      <td>0.0</td>\n",
       "    </tr>\n",
       "    <tr>\n",
       "      <th>...</th>\n",
       "      <td>...</td>\n",
       "      <td>...</td>\n",
       "      <td>...</td>\n",
       "      <td>...</td>\n",
       "      <td>...</td>\n",
       "      <td>...</td>\n",
       "      <td>...</td>\n",
       "      <td>...</td>\n",
       "      <td>...</td>\n",
       "      <td>...</td>\n",
       "    </tr>\n",
       "    <tr>\n",
       "      <th>490508</th>\n",
       "      <td>01/04/2017</td>\n",
       "      <td>10176</td>\n",
       "      <td>6011</td>\n",
       "      <td>type1</td>\n",
       "      <td>810</td>\n",
       "      <td>24APR17:14:05:26</td>\n",
       "      <td>600.00</td>\n",
       "      <td>WD_ATM_ROS</td>\n",
       "      <td>1</td>\n",
       "      <td>405.0</td>\n",
       "    </tr>\n",
       "    <tr>\n",
       "      <th>490509</th>\n",
       "      <td>01/06/2017</td>\n",
       "      <td>10171</td>\n",
       "      <td>5411</td>\n",
       "      <td>type1</td>\n",
       "      <td>810</td>\n",
       "      <td>06JUN17:00:00:00</td>\n",
       "      <td>132.00</td>\n",
       "      <td>POS</td>\n",
       "      <td>0</td>\n",
       "      <td>0.0</td>\n",
       "    </tr>\n",
       "    <tr>\n",
       "      <th>490510</th>\n",
       "      <td>01/02/2017</td>\n",
       "      <td>10167</td>\n",
       "      <td>5541</td>\n",
       "      <td>type1</td>\n",
       "      <td>810</td>\n",
       "      <td>03FEB17:00:00:00</td>\n",
       "      <td>1000.00</td>\n",
       "      <td>POS</td>\n",
       "      <td>1</td>\n",
       "      <td>280428.2</td>\n",
       "    </tr>\n",
       "    <tr>\n",
       "      <th>490511</th>\n",
       "      <td>01/06/2017</td>\n",
       "      <td>10163</td>\n",
       "      <td>5941</td>\n",
       "      <td>type1</td>\n",
       "      <td>810</td>\n",
       "      <td>08JUN17:00:00:00</td>\n",
       "      <td>100.00</td>\n",
       "      <td>POS</td>\n",
       "      <td>0</td>\n",
       "      <td>0.0</td>\n",
       "    </tr>\n",
       "    <tr>\n",
       "      <th>490512</th>\n",
       "      <td>01/06/2017</td>\n",
       "      <td>10162</td>\n",
       "      <td>5411</td>\n",
       "      <td>type1</td>\n",
       "      <td>810</td>\n",
       "      <td>15JUN17:00:00:00</td>\n",
       "      <td>441.33</td>\n",
       "      <td>POS</td>\n",
       "      <td>1</td>\n",
       "      <td>253.0</td>\n",
       "    </tr>\n",
       "  </tbody>\n",
       "</table>\n",
       "<p>490513 rows × 10 columns</p>\n",
       "</div>"
      ],
      "text/plain": [
       "            PERIOD  cl_id   MCC channel_type  currency        TRDATETIME  \\\n",
       "0       01/10/2017      0  5200          NaN       810  21OCT17:00:00:00   \n",
       "1       01/10/2017      0  6011          NaN       810  12OCT17:12:24:07   \n",
       "2       01/12/2017      0  5921          NaN       810  05DEC17:00:00:00   \n",
       "3       01/10/2017      0  5411          NaN       810  21OCT17:00:00:00   \n",
       "4       01/10/2017      0  6012          NaN       810  24OCT17:13:14:24   \n",
       "...            ...    ...   ...          ...       ...               ...   \n",
       "490508  01/04/2017  10176  6011        type1       810  24APR17:14:05:26   \n",
       "490509  01/06/2017  10171  5411        type1       810  06JUN17:00:00:00   \n",
       "490510  01/02/2017  10167  5541        type1       810  03FEB17:00:00:00   \n",
       "490511  01/06/2017  10163  5941        type1       810  08JUN17:00:00:00   \n",
       "490512  01/06/2017  10162  5411        type1       810  15JUN17:00:00:00   \n",
       "\n",
       "          amount trx_category  target_flag  target_sum  \n",
       "0        5023.00          POS            0         0.0  \n",
       "1       20000.00      DEPOSIT            0         0.0  \n",
       "2         767.00          POS            0         0.0  \n",
       "3        2031.00          POS            0         0.0  \n",
       "4       36562.00      C2C_OUT            0         0.0  \n",
       "...          ...          ...          ...         ...  \n",
       "490508    600.00   WD_ATM_ROS            1       405.0  \n",
       "490509    132.00          POS            0         0.0  \n",
       "490510   1000.00          POS            1    280428.2  \n",
       "490511    100.00          POS            0         0.0  \n",
       "490512    441.33          POS            1       253.0  \n",
       "\n",
       "[490513 rows x 10 columns]"
      ]
     },
     "execution_count": 133,
     "metadata": {},
     "output_type": "execute_result"
    }
   ],
   "source": [
    "path_data = \"https://huggingface.co/datasets/dllllb/rosbank-churn/resolve/main/train.csv.gz?download=true\"\n",
    "data = pd.read_csv(path_data, compression=\"gzip\")\n",
    "data"
   ]
  },
  {
   "cell_type": "code",
   "execution_count": 134,
   "metadata": {
    "execution": {
     "iopub.execute_input": "2025-04-17T10:47:31.503369Z",
     "iopub.status.busy": "2025-04-17T10:47:31.503055Z",
     "iopub.status.idle": "2025-04-17T10:47:31.635778Z",
     "shell.execute_reply": "2025-04-17T10:47:31.634875Z",
     "shell.execute_reply.started": "2025-04-17T10:47:31.503341Z"
    },
    "trusted": true
   },
   "outputs": [
    {
     "data": {
      "text/html": [
       "<div>\n",
       "<style scoped>\n",
       "    .dataframe tbody tr th:only-of-type {\n",
       "        vertical-align: middle;\n",
       "    }\n",
       "\n",
       "    .dataframe tbody tr th {\n",
       "        vertical-align: top;\n",
       "    }\n",
       "\n",
       "    .dataframe thead th {\n",
       "        text-align: right;\n",
       "    }\n",
       "</style>\n",
       "<table border=\"1\" class=\"dataframe\">\n",
       "  <thead>\n",
       "    <tr style=\"text-align: right;\">\n",
       "      <th></th>\n",
       "      <th>cl_id</th>\n",
       "      <th>target_flag</th>\n",
       "    </tr>\n",
       "  </thead>\n",
       "  <tbody>\n",
       "    <tr>\n",
       "      <th>0</th>\n",
       "      <td>0</td>\n",
       "      <td>0</td>\n",
       "    </tr>\n",
       "    <tr>\n",
       "      <th>1</th>\n",
       "      <td>1</td>\n",
       "      <td>0</td>\n",
       "    </tr>\n",
       "    <tr>\n",
       "      <th>2</th>\n",
       "      <td>5</td>\n",
       "      <td>1</td>\n",
       "    </tr>\n",
       "    <tr>\n",
       "      <th>3</th>\n",
       "      <td>9</td>\n",
       "      <td>0</td>\n",
       "    </tr>\n",
       "    <tr>\n",
       "      <th>4</th>\n",
       "      <td>10</td>\n",
       "      <td>0</td>\n",
       "    </tr>\n",
       "    <tr>\n",
       "      <th>...</th>\n",
       "      <td>...</td>\n",
       "      <td>...</td>\n",
       "    </tr>\n",
       "    <tr>\n",
       "      <th>4995</th>\n",
       "      <td>10210</td>\n",
       "      <td>1</td>\n",
       "    </tr>\n",
       "    <tr>\n",
       "      <th>4996</th>\n",
       "      <td>10212</td>\n",
       "      <td>0</td>\n",
       "    </tr>\n",
       "    <tr>\n",
       "      <th>4997</th>\n",
       "      <td>10213</td>\n",
       "      <td>0</td>\n",
       "    </tr>\n",
       "    <tr>\n",
       "      <th>4998</th>\n",
       "      <td>10214</td>\n",
       "      <td>0</td>\n",
       "    </tr>\n",
       "    <tr>\n",
       "      <th>4999</th>\n",
       "      <td>10215</td>\n",
       "      <td>0</td>\n",
       "    </tr>\n",
       "  </tbody>\n",
       "</table>\n",
       "<p>5000 rows × 2 columns</p>\n",
       "</div>"
      ],
      "text/plain": [
       "      cl_id  target_flag\n",
       "0         0            0\n",
       "1         1            0\n",
       "2         5            1\n",
       "3         9            0\n",
       "4        10            0\n",
       "...     ...          ...\n",
       "4995  10210            1\n",
       "4996  10212            0\n",
       "4997  10213            0\n",
       "4998  10214            0\n",
       "4999  10215            0\n",
       "\n",
       "[5000 rows x 2 columns]"
      ]
     },
     "execution_count": 134,
     "metadata": {},
     "output_type": "execute_result"
    }
   ],
   "source": [
    "target = data.groupby(by=\"cl_id\").first().reset_index()[[\"cl_id\", \"target_flag\"]]\n",
    "target"
   ]
  },
  {
   "cell_type": "code",
   "execution_count": 135,
   "metadata": {
    "execution": {
     "iopub.execute_input": "2025-04-17T10:47:33.940160Z",
     "iopub.status.busy": "2025-04-17T10:47:33.939872Z",
     "iopub.status.idle": "2025-04-17T10:47:33.959616Z",
     "shell.execute_reply": "2025-04-17T10:47:33.958907Z",
     "shell.execute_reply.started": "2025-04-17T10:47:33.940137Z"
    },
    "trusted": true
   },
   "outputs": [],
   "source": [
    "data.drop(columns=[\"PERIOD\", \"target_flag\", \"target_sum\"], inplace=True)"
   ]
  },
  {
   "cell_type": "code",
   "execution_count": 136,
   "metadata": {
    "execution": {
     "iopub.execute_input": "2025-04-17T10:47:35.677222Z",
     "iopub.status.busy": "2025-04-17T10:47:35.676909Z",
     "iopub.status.idle": "2025-04-17T10:47:35.686417Z",
     "shell.execute_reply": "2025-04-17T10:47:35.685563Z",
     "shell.execute_reply.started": "2025-04-17T10:47:35.677198Z"
    },
    "trusted": true
   },
   "outputs": [],
   "source": [
    "target_train, target_test = train_test_split(target, test_size=0.1, stratify=target[\"target_flag\"], random_state=42)"
   ]
  },
  {
   "cell_type": "code",
   "execution_count": 137,
   "metadata": {
    "execution": {
     "iopub.execute_input": "2025-04-17T10:47:38.029159Z",
     "iopub.status.busy": "2025-04-17T10:47:38.028872Z",
     "iopub.status.idle": "2025-04-17T10:47:38.090463Z",
     "shell.execute_reply": "2025-04-17T10:47:38.089794Z",
     "shell.execute_reply.started": "2025-04-17T10:47:38.029137Z"
    },
    "trusted": true
   },
   "outputs": [],
   "source": [
    "trx_data_train = pd.merge(data, target_train[\"cl_id\"], on=\"cl_id\", how=\"inner\")\n",
    "trx_data_test = pd.merge(data, target_test[\"cl_id\"], on=\"cl_id\", how=\"inner\")"
   ]
  },
  {
   "cell_type": "code",
   "execution_count": 138,
   "metadata": {
    "execution": {
     "iopub.execute_input": "2025-04-17T10:47:40.473030Z",
     "iopub.status.busy": "2025-04-17T10:47:40.472703Z",
     "iopub.status.idle": "2025-04-17T10:47:40.507645Z",
     "shell.execute_reply": "2025-04-17T10:47:40.506934Z",
     "shell.execute_reply.started": "2025-04-17T10:47:40.473004Z"
    },
    "trusted": true
   },
   "outputs": [],
   "source": [
    "trx_data_train[\"channel_type\"] = trx_data_train[\"channel_type\"].fillna(\"none\")\n",
    "trx_data_test[\"channel_type\"] = trx_data_test[\"channel_type\"].fillna(\"none\")"
   ]
  },
  {
   "cell_type": "code",
   "execution_count": 139,
   "metadata": {
    "execution": {
     "iopub.execute_input": "2025-04-17T10:47:42.657844Z",
     "iopub.status.busy": "2025-04-17T10:47:42.657501Z",
     "iopub.status.idle": "2025-04-17T10:47:43.236842Z",
     "shell.execute_reply": "2025-04-17T10:47:43.236125Z",
     "shell.execute_reply.started": "2025-04-17T10:47:42.657807Z"
    },
    "trusted": true
   },
   "outputs": [],
   "source": [
    "month2num = {\"JAN\": \"/01/\", \"FEB\": \"/02/\", \"MAR\": \"/03/\", \"APR\": \"/04/\", \"MAY\": \"/05/\", \"JUN\": \"/06/\",\n",
    "             \"JUL\": \"/07/\", \"AUG\": \"/08/\", \"SEP\": \"/09/\", \"OCT\": \"/10/\", \"NOV\": \"/11/\", \"DEC\": \"/12/\"}\n",
    "\n",
    "trx_data_train[\"TRDATETIME\"] = trx_data_train[\"TRDATETIME\"].map(lambda x: x[0:2] + month2num[x[2:5]] + x[5:7] + \" \" + x[8:])\n",
    "trx_data_test[\"TRDATETIME\"] = trx_data_test[\"TRDATETIME\"].map(lambda x: x[0:2] + month2num[x[2:5]] + x[5:7] + \" \" + x[8:])\n",
    "\n",
    "trx_data_train[\"TRDATETIME\"] = pd.to_datetime(trx_data_train[\"TRDATETIME\"],format='%d/%m/%y %H:%M:%S')\n",
    "trx_data_test[\"TRDATETIME\"] = pd.to_datetime(trx_data_test[\"TRDATETIME\"],format='%d/%m/%y %H:%M:%S')"
   ]
  },
  {
   "cell_type": "code",
   "execution_count": 140,
   "metadata": {
    "execution": {
     "iopub.execute_input": "2025-04-17T10:47:45.484440Z",
     "iopub.status.busy": "2025-04-17T10:47:45.484037Z",
     "iopub.status.idle": "2025-04-17T10:47:45.643264Z",
     "shell.execute_reply": "2025-04-17T10:47:45.642632Z",
     "shell.execute_reply.started": "2025-04-17T10:47:45.484405Z"
    },
    "trusted": true
   },
   "outputs": [],
   "source": [
    "chtype2num = {\"none\": 0, \"type1\": 1, \"type2\": 2, \"type3\": 3, \"type4\": 4, \"type5\": 5}\n",
    "\n",
    "trx_data_train[\"channel_type\"] = trx_data_train[\"channel_type\"].map(lambda x: chtype2num[x])\n",
    "trx_data_test[\"channel_type\"] = trx_data_test[\"channel_type\"].map(lambda x: chtype2num[x])"
   ]
  },
  {
   "cell_type": "code",
   "execution_count": 141,
   "metadata": {
    "execution": {
     "iopub.execute_input": "2025-04-17T10:47:47.461220Z",
     "iopub.status.busy": "2025-04-17T10:47:47.460932Z",
     "iopub.status.idle": "2025-04-17T10:47:47.622572Z",
     "shell.execute_reply": "2025-04-17T10:47:47.621910Z",
     "shell.execute_reply.started": "2025-04-17T10:47:47.461198Z"
    },
    "trusted": true
   },
   "outputs": [],
   "source": [
    "trxcat2num = {\"POS\": 0, \"DEPOSIT\": 1, \"WD_ATM_ROS\": 2, \"WD_ATM_PARTNER\": 3, \n",
    "              \"C2C_IN\": 4, \"WD_ATM_OTHER\": 5, \"C2C_OUT\": 6, \"BACK_TRX\": 7,\n",
    "              \"CAT\": 8, \"CASH_ADV\": 9}\n",
    "\n",
    "trx_data_train[\"trx_category\"] = trx_data_train[\"trx_category\"].map(lambda x: trxcat2num[x])\n",
    "trx_data_test[\"trx_category\"] = trx_data_test[\"trx_category\"].map(lambda x: trxcat2num[x])"
   ]
  },
  {
   "cell_type": "markdown",
   "metadata": {},
   "source": [
    "---"
   ]
  },
  {
   "cell_type": "markdown",
   "metadata": {},
   "source": [
    "**Квантизация непрерывных признаков (опциональный шаг, нужен только для GPT):**"
   ]
  },
  {
   "cell_type": "code",
   "execution_count": 17,
   "metadata": {
    "execution": {
     "iopub.execute_input": "2025-03-14T09:38:45.308363Z",
     "iopub.status.busy": "2025-03-14T09:38:45.308066Z",
     "iopub.status.idle": "2025-03-14T09:38:45.314006Z",
     "shell.execute_reply": "2025-03-14T09:38:45.312929Z",
     "shell.execute_reply.started": "2025-03-14T09:38:45.308340Z"
    },
    "trusted": true
   },
   "outputs": [],
   "source": [
    "def digitize(input_array: np.array, q_count: int = 1, bins: np.array = None):\n",
    "    \"\"\"Quantile-based discretization function.\n",
    "\n",
    "    Parameters:\n",
    "    -------\n",
    "    input_array (np.array): Input array.\n",
    "    q_count (int): Amount of quantiles. Used only if input parameter `bins` is None.\n",
    "    bins (np.array):\n",
    "        If None, then calculate bins as quantiles of input array,\n",
    "        otherwise only apply bins to input_array. Default: None\n",
    "\n",
    "    Returns\n",
    "    -------\n",
    "    out_array (np.array of ints): discretized input_array\n",
    "    bins (np.array of floats):\n",
    "        Returned only if input parameter `bins` is None.\n",
    "    \"\"\"\n",
    "\n",
    "    if bins is None:\n",
    "        return_bins = True\n",
    "        bins = np.quantile(input_array, q=[i / q_count for i in range(1, q_count)], axis=0)\n",
    "    else:\n",
    "        return_bins = False\n",
    "\n",
    "    out_array = np.digitize(input_array, bins)\n",
    "\n",
    "    if return_bins:\n",
    "        return out_array, bins\n",
    "    else:\n",
    "        return out_array"
   ]
  },
  {
   "cell_type": "code",
   "execution_count": 18,
   "metadata": {
    "execution": {
     "iopub.execute_input": "2025-03-14T09:38:47.503247Z",
     "iopub.status.busy": "2025-03-14T09:38:47.502901Z",
     "iopub.status.idle": "2025-03-14T09:38:47.506987Z",
     "shell.execute_reply": "2025-03-14T09:38:47.506202Z",
     "shell.execute_reply.started": "2025-03-14T09:38:47.503218Z"
    },
    "trusted": true
   },
   "outputs": [],
   "source": [
    "BINS_NUM = 128"
   ]
  },
  {
   "cell_type": "code",
   "execution_count": 19,
   "metadata": {
    "execution": {
     "iopub.execute_input": "2025-03-14T09:38:48.972860Z",
     "iopub.status.busy": "2025-03-14T09:38:48.972450Z",
     "iopub.status.idle": "2025-03-14T09:38:49.027716Z",
     "shell.execute_reply": "2025-03-14T09:38:49.026973Z",
     "shell.execute_reply.started": "2025-03-14T09:38:48.972813Z"
    },
    "trusted": true
   },
   "outputs": [],
   "source": [
    "numeric_features = [\"amount\"]\n",
    "\n",
    "for feat in numeric_features:\n",
    "    trx_data_train[feat], bins = digitize(trx_data_train[feat], q_count=BINS_NUM)\n",
    "    trx_data_test[feat] = digitize(trx_data_test[feat], bins=bins)"
   ]
  },
  {
   "cell_type": "code",
   "execution_count": 20,
   "metadata": {
    "execution": {
     "iopub.execute_input": "2025-03-14T09:38:50.485299Z",
     "iopub.status.busy": "2025-03-14T09:38:50.485001Z",
     "iopub.status.idle": "2025-03-14T09:38:50.850403Z",
     "shell.execute_reply": "2025-03-14T09:38:50.849693Z",
     "shell.execute_reply.started": "2025-03-14T09:38:50.485276Z"
    },
    "trusted": true
   },
   "outputs": [
    {
     "data": {
      "text/plain": [
       "147"
      ]
     },
     "execution_count": 20,
     "metadata": {},
     "output_type": "execute_result"
    }
   ],
   "source": [
    "import gc\n",
    "\n",
    "gc.collect()"
   ]
  },
  {
   "cell_type": "markdown",
   "metadata": {},
   "source": [
    "---"
   ]
  },
  {
   "cell_type": "code",
   "execution_count": 142,
   "metadata": {
    "execution": {
     "iopub.execute_input": "2025-04-17T10:47:50.597779Z",
     "iopub.status.busy": "2025-04-17T10:47:50.597459Z",
     "iopub.status.idle": "2025-04-17T10:47:50.603979Z",
     "shell.execute_reply": "2025-04-17T10:47:50.603155Z",
     "shell.execute_reply.started": "2025-04-17T10:47:50.597753Z"
    },
    "trusted": true
   },
   "outputs": [],
   "source": [
    "preprocessor = PandasDataPreprocessor(\n",
    "    col_id=\"cl_id\",\n",
    "    col_event_time=\"TRDATETIME\",\n",
    "    event_time_transformation=\"dt_to_timestamp\",\n",
    "    cols_category=[\"MCC\", \"channel_type\", \"currency\", \"trx_category\"],\n",
    "    cols_numerical=[\"amount\"],\n",
    "    return_records=False,\n",
    ")"
   ]
  },
  {
   "cell_type": "code",
   "execution_count": 143,
   "metadata": {
    "execution": {
     "iopub.execute_input": "2025-04-17T10:47:52.653383Z",
     "iopub.status.busy": "2025-04-17T10:47:52.653097Z",
     "iopub.status.idle": "2025-04-17T10:47:56.517515Z",
     "shell.execute_reply": "2025-04-17T10:47:56.516855Z",
     "shell.execute_reply.started": "2025-04-17T10:47:52.653362Z"
    },
    "trusted": true
   },
   "outputs": [],
   "source": [
    "data_train = preprocessor.fit_transform(trx_data_train)\n",
    "data_test = preprocessor.transform(trx_data_test)"
   ]
  },
  {
   "cell_type": "code",
   "execution_count": 144,
   "metadata": {
    "execution": {
     "iopub.execute_input": "2025-04-17T10:47:58.545373Z",
     "iopub.status.busy": "2025-04-17T10:47:58.545083Z",
     "iopub.status.idle": "2025-04-17T10:47:58.552543Z",
     "shell.execute_reply": "2025-04-17T10:47:58.551854Z",
     "shell.execute_reply.started": "2025-04-17T10:47:58.545351Z"
    },
    "trusted": true
   },
   "outputs": [],
   "source": [
    "target_train.rename(columns={\"target_flag\": \"target\"}, inplace=True)\n",
    "target_test.rename(columns={\"target_flag\": \"target\"}, inplace=True)\n",
    "target_train.sort_values(by=\"cl_id\", inplace=True)\n",
    "target_test.sort_values(by=\"cl_id\", inplace=True)\n",
    "target_train = target_train[\"target\"]\n",
    "target_test = target_test[\"target\"]\n",
    "target_train.reset_index(drop=True, inplace=True)\n",
    "target_test.reset_index(drop=True, inplace=True)"
   ]
  },
  {
   "cell_type": "code",
   "execution_count": 145,
   "metadata": {
    "execution": {
     "iopub.execute_input": "2025-04-17T10:48:00.951222Z",
     "iopub.status.busy": "2025-04-17T10:48:00.950906Z",
     "iopub.status.idle": "2025-04-17T10:48:00.982130Z",
     "shell.execute_reply": "2025-04-17T10:48:00.981320Z",
     "shell.execute_reply.started": "2025-04-17T10:48:00.951195Z"
    },
    "trusted": true
   },
   "outputs": [],
   "source": [
    "data_train = data_train.to_dict(orient=\"records\")\n",
    "data_test = data_test.to_dict(orient=\"records\")"
   ]
  },
  {
   "cell_type": "markdown",
   "metadata": {},
   "source": [
    "---"
   ]
  },
  {
   "cell_type": "markdown",
   "metadata": {},
   "source": [
    "**AddNulls (Add 'No Trx' Tokens for missing days to make a uniform time grid)** \n",
    "\n",
    "**(Если нет ни одного timestamp'а, относящегося к данному дню, то мы его добавляем; иначе ничего не делаем):**"
   ]
  },
  {
   "cell_type": "code",
   "execution_count": 146,
   "metadata": {
    "execution": {
     "iopub.execute_input": "2025-04-17T10:48:05.154464Z",
     "iopub.status.busy": "2025-04-17T10:48:05.154172Z",
     "iopub.status.idle": "2025-04-17T10:48:05.164848Z",
     "shell.execute_reply": "2025-04-17T10:48:05.164000Z",
     "shell.execute_reply.started": "2025-04-17T10:48:05.154440Z"
    },
    "trusted": true
   },
   "outputs": [],
   "source": [
    "from ptls.data_load.iterable_processing_dataset import IterableProcessingDataset\n",
    "\n",
    "class AddNulls(IterableProcessingDataset):\n",
    "    def __init__(self, null_cat, numeric_values, col_time, col_id):\n",
    "        super().__init__()\n",
    "        self.null_cat = null_cat\n",
    "        self.numeric_values = numeric_values\n",
    "        self.col_time = col_time\n",
    "        self.col_id = col_id\n",
    "        self.seconds_in_day = 86400\n",
    "\n",
    "    def __iter__(self):\n",
    "        for rec in self._src:\n",
    "            features = rec[0] if type(rec) is tuple else rec\n",
    "            et = np.array(features[self.col_time])\n",
    "    \n",
    "            # Границы диапазона\n",
    "            start, end = et[0] // self.seconds_in_day * self.seconds_in_day, (et[-1] // self.seconds_in_day + 1) * self.seconds_in_day\n",
    "\n",
    "            # Массив полного диапазона\n",
    "            complete = np.arange(start, end + 1, self.seconds_in_day)\n",
    "            et_unique_days = np.unique(et // self.seconds_in_day * self.seconds_in_day)\n",
    "            complete = np.setdiff1d(complete, et_unique_days)\n",
    "            et_unique = np.unique(et)\n",
    "            complete = np.sort(np.concatenate([complete, et_unique]))\n",
    "            \n",
    "            # Находим уникальные значения и их количество\n",
    "            unique_vals, counts = np.unique(et, return_counts=True)\n",
    "\n",
    "            # Для повторяющихся значений (если count > 1) создаём массив дополнительных копий (кроме первой)\n",
    "            extra_list = [np.full(c - 1, val) for val, c in zip(unique_vals, counts) if c > 1]\n",
    "            if extra_list:\n",
    "                extra = np.concatenate(extra_list)\n",
    "            else:\n",
    "                extra = np.array([])  # Если повторов нет, оставляем пустым\n",
    "\n",
    "            # Объединяем полный диапазон и дополнительные копии, затем сортируем\n",
    "            new_event_time = np.sort(np.concatenate([complete, extra]))\n",
    "\n",
    "            # Определяем, какие значения отсутствовали в исходном event_time (они появятся ровно по одному)\n",
    "            missing_values = np.setdiff1d(complete, unique_vals)\n",
    "            \n",
    "            # Флаг: True – значение вставлено, False – значение присутствовало в исходном массиве\n",
    "            inserted_mask = np.in1d(new_event_time, missing_values)\n",
    "\n",
    "            # Обновляем event_time\n",
    "            features[self.col_time] = torch.tensor(new_event_time)\n",
    "\n",
    "            # Для остальных фич: создаём новый массив того же размера, где на позициях вставленных значений ставим `null_cat`,\n",
    "            # а на остальных восстанавливаем исходные значения в порядке сортировки.\n",
    "            for key, arr in features.items():\n",
    "                if (key == self.col_time) | (key == self.col_id):\n",
    "                    continue\n",
    "                if key in self.numeric_values:\n",
    "                    orig_arr = np.array(arr.to(torch.float32))\n",
    "                    new_arr = np.full(new_event_time.shape, 1e-10)\n",
    "                    # Индексы, где значения НЕ вставлены\n",
    "                    non_inserted_idx = np.where(~inserted_mask)[0]\n",
    "                    \n",
    "                    new_arr[non_inserted_idx] = orig_arr\n",
    "                    features[key] = torch.tensor(new_arr, dtype=torch.float32)\n",
    "                else:\n",
    "                    orig_arr = np.array(arr)\n",
    "                    new_arr = np.full(new_event_time.shape, self.null_cat)\n",
    "                    # Индексы, где значения НЕ вставлены\n",
    "                    non_inserted_idx = np.where(~inserted_mask)[0]\n",
    "                    \n",
    "                    new_arr[non_inserted_idx] = orig_arr\n",
    "                    features[key] = torch.tensor(new_arr, dtype=torch.int32)\n",
    "            yield features"
   ]
  },
  {
   "cell_type": "markdown",
   "metadata": {},
   "source": [
    "---"
   ]
  },
  {
   "cell_type": "markdown",
   "metadata": {},
   "source": [
    "**Time Aggregator Class:**"
   ]
  },
  {
   "cell_type": "code",
   "execution_count": 147,
   "metadata": {
    "execution": {
     "iopub.execute_input": "2025-04-17T10:48:07.654199Z",
     "iopub.status.busy": "2025-04-17T10:48:07.653909Z",
     "iopub.status.idle": "2025-04-17T10:48:07.669712Z",
     "shell.execute_reply": "2025-04-17T10:48:07.668916Z",
     "shell.execute_reply.started": "2025-04-17T10:48:07.654177Z"
    },
    "trusted": true
   },
   "outputs": [],
   "source": [
    "from ptls.data_load.padded_batch import PaddedBatch\n",
    "\n",
    "\n",
    "class TimeAggregator(TrxEncoderT2V):\n",
    "    \"\"\"The NN layer, a combination of TrxEncoder and Mean Aggregation (by `n_days` days) \n",
    "       (works like nn.Sequential([TrxEncoder, Mean Aggregation])).\n",
    "       `n_days` can be between 0 and 1 as well.\n",
    "       \n",
    "       The types of the input and output are `PaddedBatch` of shapes (B, L, T) and (B, L', T) respectively, where \n",
    "       B is batch_size,\n",
    "       L/L' is the max length of a sequence of transactions in a batch (the length is the same as #trx)\n",
    "       T is the dimensionality of a single transaction.\n",
    "\n",
    "       Parameters\n",
    "        n_days (float):\n",
    "            The number of days used for data aggregation.\n",
    "\n",
    "        use_window_attention (bool):\n",
    "            If True, the attention layer will be applied to transactions in a sliding window before pooling.\n",
    "\n",
    "        k (int):\n",
    "            Number of periodic components in T2V time embeddings\n",
    "\n",
    "        time_col (str):\n",
    "            Name of the time column in data\n",
    "            \n",
    "        embeddings:\n",
    "            You can find info about this param in TrxEncoder desc.\n",
    "        \n",
    "        numeric_values:\n",
    "            You can find info about this param in TrxEncoder desc.\n",
    "\n",
    "        embeddings_noise:\n",
    "            You can find info about this param in TrxEncoder desc.\n",
    "            \n",
    "        emb_dropout:\n",
    "            You can find info about this param in TrxEncoder desc.\n",
    "            \n",
    "        spatial_dropout:\n",
    "            You can find info about this param in TrxEncoder desc.\n",
    "\n",
    "        use_batch_norm:\n",
    "            You can find info about this param in TrxEncoder desc.\n",
    "\n",
    "        orthogonal_init:\n",
    "            You can find info about this param in TrxEncoder desc.\n",
    "            \n",
    "        linear_projection_size:\n",
    "            You can find info about this param in TrxEncoder desc.\n",
    "\n",
    "        out_of_index:\n",
    "            You can find info about this param in TrxEncoder desc.\n",
    "\n",
    "        norm_embeddings:\n",
    "            Keep default value for this parameter\n",
    "        \n",
    "        clip_replace_value:\n",
    "            Not used. Keep default value for this parameter\n",
    "        \n",
    "        positions: \n",
    "            Not used. Keep default value for this parameter\n",
    "       \"\"\"\n",
    "\n",
    "    def __init__(self,\n",
    "                 n_days=1,\n",
    "                 use_window_attention=False,\n",
    "                 embeddings=None,\n",
    "                 numeric_values=None,\n",
    "                 custom_embeddings=None,\n",
    "                 time_values=None,\n",
    "                 embeddings_noise: float = 0,\n",
    "                 norm_embeddings=None,\n",
    "                 use_batch_norm=False,\n",
    "                 use_batch_norm_with_lens=False,\n",
    "                 clip_replace_value=None,\n",
    "                 positions=None,\n",
    "                 emb_dropout=0,\n",
    "                 spatial_dropout=False,\n",
    "                 orthogonal_init=False,\n",
    "                 linear_projection_size=0,\n",
    "                 out_of_index: str = 'clip',\n",
    "                 k=2,\n",
    "                 time_col='event_time'\n",
    "                ):\n",
    "\n",
    "        \n",
    "        super().__init__(\n",
    "            embeddings=embeddings,\n",
    "            numeric_values=numeric_values,\n",
    "            custom_embeddings=custom_embeddings,\n",
    "            embeddings_noise=embeddings_noise,\n",
    "            norm_embeddings=norm_embeddings,\n",
    "            use_batch_norm=use_batch_norm,\n",
    "            use_batch_norm_with_lens=use_batch_norm_with_lens,\n",
    "            clip_replace_value=clip_replace_value,\n",
    "            positions=positions,\n",
    "            emb_dropout=emb_dropout,\n",
    "            spatial_dropout=spatial_dropout,\n",
    "            orthogonal_init=orthogonal_init,\n",
    "            linear_projection_size=linear_projection_size,\n",
    "            out_of_index=out_of_index,\n",
    "            k=k,\n",
    "            time_col=time_col\n",
    "        )\n",
    "\n",
    "        self.n_days = n_days\n",
    "        self.seconds_in_day = 86400\n",
    "        \n",
    "        self.use_window_attention = use_window_attention\n",
    "\n",
    "        self.numeric_feats = list(numeric_values.keys())\n",
    "        \n",
    "        if self.use_window_attention:\n",
    "            pass # Not Implemented\n",
    "\n",
    "    def forward(self, pb: PaddedBatch):\n",
    "        for key in pb.payload.keys():\n",
    "            if key in self.numeric_feats:\n",
    "                pb.payload[key] = pb.payload[key].to(torch.float32)\n",
    "            else:\n",
    "                pb.payload[key] = pb.payload[key].to(torch.int32)\n",
    "        embeds = super().forward(pb)\n",
    "\n",
    "        timestamps = pb.payload[\"event_time\"] // (self.seconds_in_day * self.n_days)\n",
    "    \n",
    "        mask = torch.arange(embeds.payload.shape[1], device=embeds.device)[None, :] + torch.ones((embeds.seq_lens.shape[0], embeds.payload.shape[1]), device=embeds.device)\n",
    "        mask[mask > embeds.seq_lens[:, None]] = 0.\n",
    "        mask[mask > 0.] = 1.\n",
    "        mask = mask[:, :, None]\n",
    "        \n",
    "        masked_embeds = embeds.payload * mask\n",
    "\n",
    "        agg_embeds = []\n",
    "        seq_lens = []\n",
    "        max_seq_len = 0\n",
    "        for j in range(masked_embeds.shape[0]):\n",
    "            curr_seq_embeds = masked_embeds[j, :, :]\n",
    "            curr_timestamps = timestamps[j, :]\n",
    "    \n",
    "            unique_timestamps, idx = torch.unique_consecutive(curr_timestamps, return_inverse=True) \n",
    "            \n",
    "            curr_agg_seq = torch_scatter.scatter(curr_seq_embeds, idx[:, None], dim=0, reduce=\"mean\")\n",
    "            if unique_timestamps[-1].item() == 0:\n",
    "                curr_agg_seq = curr_agg_seq[:-1, :]\n",
    "    \n",
    "            agg_embeds += [curr_agg_seq]\n",
    "            seq_lens += [curr_agg_seq.shape[0]]\n",
    "            max_seq_len = max(max_seq_len, curr_agg_seq.shape[0])\n",
    "    \n",
    "        for j in range(len(agg_embeds)):\n",
    "            if max_seq_len - agg_embeds[j].shape[0] > 0:\n",
    "                agg_embeds[j] = torch.cat([agg_embeds[j], torch.zeros((max_seq_len - agg_embeds[j].shape[0], agg_embeds[j].shape[1]), device=agg_embeds[j].device)], dim=0)[None, :, :]\n",
    "            else:\n",
    "                agg_embeds[j] = agg_embeds[j][None, :, :]\n",
    "    \n",
    "        agg_embeds = torch.cat(agg_embeds, dim=0)\n",
    "        \n",
    "        seq_lens = torch.tensor(seq_lens, device=agg_embeds.device).int()\n",
    "        \n",
    "        return PaddedBatch(agg_embeds, seq_lens)"
   ]
  },
  {
   "cell_type": "code",
   "execution_count": 107,
   "metadata": {
    "execution": {
     "iopub.execute_input": "2025-04-10T20:48:36.245918Z",
     "iopub.status.busy": "2025-04-10T20:48:36.245576Z",
     "iopub.status.idle": "2025-04-10T20:48:36.251871Z",
     "shell.execute_reply": "2025-04-10T20:48:36.250508Z",
     "shell.execute_reply.started": "2025-04-10T20:48:36.245893Z"
    },
    "trusted": true
   },
   "outputs": [],
   "source": [
    "# seed_everything(0)"
   ]
  },
  {
   "cell_type": "code",
   "execution_count": 23,
   "metadata": {
    "execution": {
     "iopub.execute_input": "2025-04-14T16:21:03.441523Z",
     "iopub.status.busy": "2025-04-14T16:21:03.441171Z",
     "iopub.status.idle": "2025-04-14T16:21:03.445187Z",
     "shell.execute_reply": "2025-04-14T16:21:03.444229Z",
     "shell.execute_reply.started": "2025-04-14T16:21:03.441494Z"
    },
    "trusted": true
   },
   "outputs": [],
   "source": [
    "# device = \"cuda:0\""
   ]
  },
  {
   "cell_type": "code",
   "execution_count": 105,
   "metadata": {
    "execution": {
     "iopub.execute_input": "2025-04-10T20:48:26.848671Z",
     "iopub.status.busy": "2025-04-10T20:48:26.848348Z",
     "iopub.status.idle": "2025-04-10T20:48:26.857248Z",
     "shell.execute_reply": "2025-04-10T20:48:26.856218Z",
     "shell.execute_reply.started": "2025-04-10T20:48:26.848644Z"
    },
    "trusted": true
   },
   "outputs": [],
   "source": [
    "# agg_encoder_params = dict(\n",
    "#     embeddings={\n",
    "#         \"MCC\": {\"in\": 342, \"out\": 8},\n",
    "#         \"channel_type\": {\"in\": 7, \"out\": 8},\n",
    "#         \"currency\": {\"in\": 60, \"out\": 8},\n",
    "#         \"trx_category\": {\"in\": 11, \"out\": 8}            \n",
    "#     },\n",
    "#     numeric_values={\"amount\": \"log\"},\n",
    "#     embeddings_noise=0.003,\n",
    "#     k=7,\n",
    "#     time_col=\"event_time\"\n",
    "# )\n",
    "\n",
    "# trx_encoder = TrxEncoderT2V(**agg_encoder_params).to(device)"
   ]
  },
  {
   "cell_type": "code",
   "execution_count": 85,
   "metadata": {
    "execution": {
     "iopub.execute_input": "2025-04-10T20:23:00.592701Z",
     "iopub.status.busy": "2025-04-10T20:23:00.592369Z",
     "iopub.status.idle": "2025-04-10T20:23:20.861778Z",
     "shell.execute_reply": "2025-04-10T20:23:20.860933Z",
     "shell.execute_reply.started": "2025-04-10T20:23:00.592675Z"
    },
    "trusted": true
   },
   "outputs": [
    {
     "name": "stderr",
     "output_type": "stream",
     "text": [
      "36it [00:20,  1.78it/s]\n"
     ]
    }
   ],
   "source": [
    "# from ptls.data_load.padded_batch import PaddedBatch\n",
    "\n",
    "\n",
    "# train_loader = inference_data_loader(data_train, num_workers=0, batch_size=128)\n",
    "# SECONDS_IN_DAY = 86400\n",
    "# DAYS = 1\n",
    "# trx_encoder.eval()\n",
    "\n",
    "# for i, batch in tqdm(enumerate(train_loader)):\n",
    "#     batch = batch.to(device)\n",
    "        \n",
    "#     embeds = trx_encoder(batch)\n",
    "\n",
    "#     timestamps = batch.payload[\"event_time\"] // (SECONDS_IN_DAY * DAYS)\n",
    "    \n",
    "#     mask = torch.arange(embeds.payload.shape[1], device=embeds.device)[None, :] + torch.ones((embeds.seq_lens.shape[0], embeds.payload.shape[1]), device=embeds.device)\n",
    "#     mask[mask > embeds.seq_lens[:, None]] = 0.\n",
    "#     mask[mask > 0.] = 1.\n",
    "#     mask = mask[:, :, None]\n",
    "    \n",
    "#     masked_embeds = embeds.payload * mask\n",
    "\n",
    "#     agg_embeds = []\n",
    "#     seq_lens = []\n",
    "#     max_seq_len = 0\n",
    "#     for j in range(masked_embeds.shape[0]):\n",
    "#         curr_seq_embeds = masked_embeds[j, :, :]\n",
    "#         curr_timestamps = timestamps[j, :]\n",
    "\n",
    "#         unique_timestamps, counts = torch.unique_consecutive(curr_timestamps, return_counts=True) \n",
    "        \n",
    "#         curr_agg_seq = []\n",
    "#         start = 0\n",
    "#         for it, count in enumerate(counts):\n",
    "#             if unique_timestamps[it] == 0:\n",
    "#                 break\n",
    "#             curr_agg_seq += [torch.mean(curr_seq_embeds[start:(start + count)], dim=0, keepdims=True)]\n",
    "#             start += count\n",
    "#         curr_agg_seq = torch.cat(curr_agg_seq, dim=0)\n",
    "\n",
    "#         agg_embeds += [curr_agg_seq]\n",
    "#         seq_lens += [curr_agg_seq.shape[0]]\n",
    "#         max_seq_len = max(max_seq_len, curr_agg_seq.shape[0])\n",
    "\n",
    "#     for j in range(len(agg_embeds)):\n",
    "#         if max_seq_len - agg_embeds[j].shape[0] > 0:\n",
    "#             agg_embeds[j] = torch.cat([agg_embeds[j], torch.zeros((max_seq_len - agg_embeds[j].shape[0], agg_embeds[j].shape[1]), device=agg_embeds[j].device)], dim=0)[None, :, :]\n",
    "#         else:\n",
    "#             agg_embeds[j] = agg_embeds[j][None, :, :]\n",
    "\n",
    "#     agg_embeds = torch.cat(agg_embeds, dim=0)\n",
    "#     seq_lens = torch.tensor(seq_lens, device=agg_embeds.device).int()\n",
    "    \n",
    "#     out1 = PaddedBatch(agg_embeds, seq_lens)"
   ]
  },
  {
   "cell_type": "code",
   "execution_count": 106,
   "metadata": {
    "execution": {
     "iopub.execute_input": "2025-04-10T20:48:29.371533Z",
     "iopub.status.busy": "2025-04-10T20:48:29.371223Z",
     "iopub.status.idle": "2025-04-10T20:48:31.769244Z",
     "shell.execute_reply": "2025-04-10T20:48:31.768281Z",
     "shell.execute_reply.started": "2025-04-10T20:48:29.371493Z"
    },
    "trusted": true
   },
   "outputs": [
    {
     "name": "stderr",
     "output_type": "stream",
     "text": [
      "36it [00:02, 15.10it/s]\n"
     ]
    }
   ],
   "source": [
    "# from ptls.data_load.padded_batch import PaddedBatch\n",
    "\n",
    "\n",
    "# train_loader = inference_data_loader(data_train, num_workers=0, batch_size=128)\n",
    "# SECONDS_IN_DAY = 86400\n",
    "# DAYS = 1\n",
    "# trx_encoder.eval()\n",
    "\n",
    "# for i, batch in tqdm(enumerate(train_loader)):\n",
    "#     batch = batch.to(device)\n",
    "        \n",
    "#     embeds = trx_encoder(batch)\n",
    "\n",
    "#     timestamps = batch.payload[\"event_time\"] // (SECONDS_IN_DAY * DAYS)\n",
    "    \n",
    "#     mask = torch.arange(embeds.payload.shape[1], device=embeds.device)[None, :] + torch.ones((embeds.seq_lens.shape[0], embeds.payload.shape[1]), device=embeds.device)\n",
    "#     mask[mask > embeds.seq_lens[:, None]] = 0.\n",
    "#     mask[mask > 0.] = 1.\n",
    "#     mask = mask[:, :, None]\n",
    "    \n",
    "#     masked_embeds = embeds.payload * mask\n",
    "\n",
    "#     agg_embeds = []\n",
    "#     seq_lens = []\n",
    "#     max_seq_len = 0\n",
    "#     for j in range(masked_embeds.shape[0]):\n",
    "#         curr_seq_embeds = masked_embeds[j, :, :]\n",
    "#         curr_timestamps = timestamps[j, :]\n",
    "\n",
    "#         unique_timestamps, idx = torch.unique_consecutive(curr_timestamps, return_inverse=True) \n",
    "\n",
    "#         curr_agg_seq = torch_scatter.scatter(curr_seq_embeds, idx[:, None], dim=0, reduce=\"mean\")\n",
    "#         if unique_timestamps[-1].item() == 0:\n",
    "#             curr_agg_seq = curr_agg_seq[:-1, :]\n",
    "\n",
    "#         agg_embeds += [curr_agg_seq]\n",
    "#         seq_lens += [curr_agg_seq.shape[0]]\n",
    "#         max_seq_len = max(max_seq_len, curr_agg_seq.shape[0])\n",
    "\n",
    "#     for j in range(len(agg_embeds)):\n",
    "#         if max_seq_len - agg_embeds[j].shape[0] > 0:\n",
    "#             agg_embeds[j] = torch.cat([agg_embeds[j], torch.zeros((max_seq_len - agg_embeds[j].shape[0], agg_embeds[j].shape[1]), device=agg_embeds[j].device)], dim=0)[None, :, :]\n",
    "#         else:\n",
    "#             agg_embeds[j] = agg_embeds[j][None, :, :]\n",
    "\n",
    "#     agg_embeds = torch.cat(agg_embeds, dim=0)\n",
    "#     seq_lens = torch.tensor(seq_lens, device=agg_embeds.device).int()\n",
    "    \n",
    "#     out = PaddedBatch(agg_embeds, seq_lens)"
   ]
  },
  {
   "cell_type": "code",
   "execution_count": 88,
   "metadata": {
    "execution": {
     "iopub.execute_input": "2025-04-10T20:26:16.903627Z",
     "iopub.status.busy": "2025-04-10T20:26:16.903313Z",
     "iopub.status.idle": "2025-04-10T20:26:17.309882Z",
     "shell.execute_reply": "2025-04-10T20:26:17.308897Z",
     "shell.execute_reply.started": "2025-04-10T20:26:16.903604Z"
    },
    "trusted": true
   },
   "outputs": [
    {
     "name": "stderr",
     "output_type": "stream",
     "text": [
      "36it [00:00, 91.07it/s]\n"
     ]
    }
   ],
   "source": [
    "# from ptls.data_load.padded_batch import PaddedBatch\n",
    "\n",
    "\n",
    "# train_loader = inference_data_loader(data_train, num_workers=0, batch_size=128)\n",
    "# SECONDS_IN_DAY = 86400\n",
    "# DAYS = 1\n",
    "# trx_encoder.eval()\n",
    "\n",
    "# for i, batch in tqdm(enumerate(train_loader)):\n",
    "#     batch = batch.to(device)\n",
    "        \n",
    "#     embeds = trx_encoder(batch)\n",
    "\n",
    "#     timestamps = batch.payload[\"event_time\"] // (SECONDS_IN_DAY * DAYS)\n",
    "    \n",
    "#     mask = torch.arange(embeds.payload.shape[1], device=embeds.device)[None, :] + torch.ones((embeds.seq_lens.shape[0], embeds.payload.shape[1]), device=embeds.device)\n",
    "#     mask[mask > embeds.seq_lens[:, None]] = 0.\n",
    "#     mask[mask > 0.] = 1.\n",
    "#     mask = mask[:, :, None]\n",
    "    \n",
    "#     masked_embeds = embeds.payload * mask\n",
    "\n",
    "#     #out_size = torch.unique_consecutive(timestamps[torch.argmax(embeds.seq_lens)]).shape[0]\n",
    "#     #out = torch.zeros((masked_embeds.shape[0], out_size, masked_embeds.shape[2]), device=masked_embeds.device)\n",
    "\n",
    "#     unique_timestamps, idx = torch.unique_consecutive(timestamps, return_inverse=True)\n",
    "    \n",
    "#     idx -= idx.min(dim=1, keepdims=True)[0]\n",
    "    \n",
    "#     # print()\n",
    "#     # print(unique_timestamps)\n",
    "#     # print(idx)\n",
    "\n",
    "#     out = torch_scatter.scatter(masked_embeds, idx[:, :, None], dim=1, reduce=\"mean\")"
   ]
  },
  {
   "cell_type": "code",
   "execution_count": 24,
   "metadata": {
    "execution": {
     "iopub.execute_input": "2025-04-14T16:21:13.044250Z",
     "iopub.status.busy": "2025-04-14T16:21:13.043950Z",
     "iopub.status.idle": "2025-04-14T16:21:13.240079Z",
     "shell.execute_reply": "2025-04-14T16:21:13.239386Z",
     "shell.execute_reply.started": "2025-04-14T16:21:13.044227Z"
    },
    "trusted": true
   },
   "outputs": [],
   "source": [
    "# agg_encoder_params = dict(\n",
    "#     embeddings={\n",
    "#         \"MCC\": {\"in\": 342, \"out\": 8},\n",
    "#         \"channel_type\": {\"in\": 7, \"out\": 8},\n",
    "#         \"currency\": {\"in\": 60, \"out\": 8},\n",
    "#         \"trx_category\": {\"in\": 11, \"out\": 8}            \n",
    "#     },\n",
    "#     numeric_values={\"amount\": \"log\"},\n",
    "#     embeddings_noise=0.003,\n",
    "#     k=7,\n",
    "#     time_col=\"event_time\",\n",
    "#     n_days=1,\n",
    "#     use_window_attention=False\n",
    "# )\n",
    "\n",
    "# trx_encoder = TimeAggregator(**agg_encoder_params).to(device)"
   ]
  },
  {
   "cell_type": "code",
   "execution_count": null,
   "metadata": {
    "collapsed": true,
    "execution": {
     "iopub.execute_input": "2025-04-14T16:21:16.140743Z",
     "iopub.status.busy": "2025-04-14T16:21:16.140441Z",
     "iopub.status.idle": "2025-04-14T16:21:19.042790Z",
     "shell.execute_reply": "2025-04-14T16:21:19.041537Z",
     "shell.execute_reply.started": "2025-04-14T16:21:16.140721Z"
    },
    "jupyter": {
     "outputs_hidden": true
    },
    "trusted": true
   },
   "outputs": [],
   "source": [
    "# trx_encoder.eval()\n",
    "\n",
    "# train_loader = inference_data_loader(data_train, num_workers=0, batch_size=128)\n",
    "\n",
    "# for i, batch in tqdm(enumerate(train_loader)):\n",
    "#     trx_encoder(batch.to(device))"
   ]
  },
  {
   "cell_type": "markdown",
   "metadata": {},
   "source": [
    "---"
   ]
  },
  {
   "cell_type": "markdown",
   "metadata": {},
   "source": [
    "**Train sequences lengths check:**"
   ]
  },
  {
   "cell_type": "code",
   "execution_count": 23,
   "metadata": {
    "execution": {
     "iopub.execute_input": "2025-04-17T06:24:11.955507Z",
     "iopub.status.busy": "2025-04-17T06:24:11.955164Z",
     "iopub.status.idle": "2025-04-17T06:24:12.204173Z",
     "shell.execute_reply": "2025-04-17T06:24:12.203456Z",
     "shell.execute_reply.started": "2025-04-17T06:24:11.955484Z"
    },
    "trusted": true
   },
   "outputs": [
    {
     "data": {
      "text/plain": [
       "TimeAggregator(\n",
       "  (embeddings): ModuleDict(\n",
       "    (MCC): NoisyEmbedding(\n",
       "      342, 8, padding_idx=0\n",
       "      (dropout): Dropout(p=0, inplace=False)\n",
       "    )\n",
       "    (channel_type): NoisyEmbedding(\n",
       "      7, 8, padding_idx=0\n",
       "      (dropout): Dropout(p=0, inplace=False)\n",
       "    )\n",
       "    (currency): NoisyEmbedding(\n",
       "      60, 8, padding_idx=0\n",
       "      (dropout): Dropout(p=0, inplace=False)\n",
       "    )\n",
       "    (trx_category): NoisyEmbedding(\n",
       "      11, 8, padding_idx=0\n",
       "      (dropout): Dropout(p=0, inplace=False)\n",
       "    )\n",
       "  )\n",
       "  (custom_embeddings): ModuleDict(\n",
       "    (amount): LogScaler()\n",
       "  )\n",
       "  (time2vec_days): Time2Vec()\n",
       ")"
      ]
     },
     "execution_count": 23,
     "metadata": {},
     "output_type": "execute_result"
    }
   ],
   "source": [
    "agg_encoder_params = dict(\n",
    "    embeddings={\n",
    "        \"MCC\": {\"in\": 342, \"out\": 8},\n",
    "        \"channel_type\": {\"in\": 7, \"out\": 8},\n",
    "        \"currency\": {\"in\": 60, \"out\": 8},\n",
    "        \"trx_category\": {\"in\": 11, \"out\": 8}            \n",
    "    },\n",
    "    numeric_values={\"amount\": \"log\"},\n",
    "    embeddings_noise=0.003,\n",
    "    k=7,\n",
    "    time_col=\"event_time\",\n",
    "    n_days=1,\n",
    "    use_window_attention=False\n",
    ")\n",
    "\n",
    "trx_encoder = TimeAggregator(**agg_encoder_params)\n",
    "trx_encoder.to(\"cuda\")"
   ]
  },
  {
   "cell_type": "code",
   "execution_count": 24,
   "metadata": {
    "execution": {
     "iopub.execute_input": "2025-04-17T06:24:15.550642Z",
     "iopub.status.busy": "2025-04-17T06:24:15.550325Z",
     "iopub.status.idle": "2025-04-17T06:24:18.116079Z",
     "shell.execute_reply": "2025-04-17T06:24:18.115260Z",
     "shell.execute_reply.started": "2025-04-17T06:24:15.550620Z"
    },
    "trusted": true
   },
   "outputs": [
    {
     "name": "stderr",
     "output_type": "stream",
     "text": [
      "36it [00:02, 14.09it/s]"
     ]
    },
    {
     "name": "stdout",
     "output_type": "stream",
     "text": [
      "Max Length: 40\n"
     ]
    },
    {
     "name": "stderr",
     "output_type": "stream",
     "text": [
      "\n"
     ]
    }
   ],
   "source": [
    "train_loader = inference_data_loader(data_train, num_workers=0, batch_size=128)\n",
    "\n",
    "trx_encoder.eval()\n",
    "\n",
    "seq_lens = []\n",
    "\n",
    "for batch in tqdm(train_loader):\n",
    "    embeds_batch = trx_encoder(batch.to(\"cuda\"))\n",
    "    seq_lens += [embeds_batch.seq_lens.detach().cpu().numpy()]\n",
    "\n",
    "seq_lens = np.concatenate(seq_lens)\n",
    "\n",
    "threshold = int(np.quantile(seq_lens, 0.75) * 0.7)\n",
    "\n",
    "print(\"Max Length:\", threshold)"
   ]
  },
  {
   "cell_type": "markdown",
   "metadata": {},
   "source": [
    "# Aggregation By Days (Mean Pooling) "
   ]
  },
  {
   "cell_type": "markdown",
   "metadata": {},
   "source": [
    "- **COLES:**"
   ]
  },
  {
   "cell_type": "code",
   "execution_count": 153,
   "metadata": {
    "execution": {
     "iopub.execute_input": "2025-04-16T13:27:45.706120Z",
     "iopub.status.busy": "2025-04-16T13:27:45.705796Z",
     "iopub.status.idle": "2025-04-16T13:27:45.711262Z",
     "shell.execute_reply": "2025-04-16T13:27:45.710556Z",
     "shell.execute_reply.started": "2025-04-16T13:27:45.706087Z"
    },
    "trusted": true
   },
   "outputs": [],
   "source": [
    "seed_everything(42)"
   ]
  },
  {
   "cell_type": "markdown",
   "metadata": {},
   "source": [
    "**DataLoaders:**"
   ]
  },
  {
   "cell_type": "code",
   "execution_count": 154,
   "metadata": {
    "execution": {
     "iopub.execute_input": "2025-04-16T13:27:49.219414Z",
     "iopub.status.busy": "2025-04-16T13:27:49.219101Z",
     "iopub.status.idle": "2025-04-16T13:27:51.734842Z",
     "shell.execute_reply": "2025-04-16T13:27:51.734213Z",
     "shell.execute_reply.started": "2025-04-16T13:27:49.219388Z"
    },
    "trusted": true
   },
   "outputs": [],
   "source": [
    "data = PtlsDataModule(\n",
    "    train_data=ColesDataset(\n",
    "        MemoryMapDataset(\n",
    "            data=data_train,\n",
    "            i_filters=[\n",
    "                       SeqLenFilter(min_seq_len=10), \n",
    "                       # AddNulls(null_cat=500, numeric_values=['amount'], col_time='event_time', col_id='cl_id')\n",
    "                      ],\n",
    "        ),\n",
    "        splitter=SampleSlices(\n",
    "            split_count=5,\n",
    "            cnt_min=5,\n",
    "            cnt_max=40,\n",
    "        ),\n",
    "    ),\n",
    "    train_num_workers=4,\n",
    "    train_batch_size=128,\n",
    "    valid_data=ColesDataset(\n",
    "        MemoryMapDataset(\n",
    "            data=data_test,\n",
    "            i_filters=[\n",
    "                       SeqLenFilter(min_seq_len=10),\n",
    "                       # AddNulls(null_cat=500, numeric_values=['amount'], col_time='event_time', col_id='cl_id')\n",
    "                      ],\n",
    "        ),\n",
    "        splitter=SampleSlices(\n",
    "            split_count=5,\n",
    "            cnt_min=5,\n",
    "            cnt_max=40,\n",
    "        ),\n",
    "    ),\n",
    "    valid_num_workers=4,\n",
    "    valid_batch_size=128\n",
    ")"
   ]
  },
  {
   "cell_type": "markdown",
   "metadata": {},
   "source": [
    "**Модель:**"
   ]
  },
  {
   "cell_type": "code",
   "execution_count": 155,
   "metadata": {
    "execution": {
     "iopub.execute_input": "2025-04-16T13:27:54.529445Z",
     "iopub.status.busy": "2025-04-16T13:27:54.529132Z",
     "iopub.status.idle": "2025-04-16T13:27:54.533144Z",
     "shell.execute_reply": "2025-04-16T13:27:54.532247Z",
     "shell.execute_reply.started": "2025-04-16T13:27:54.529420Z"
    },
    "trusted": true
   },
   "outputs": [],
   "source": [
    "N_EPOCHS = 20"
   ]
  },
  {
   "cell_type": "code",
   "execution_count": 156,
   "metadata": {
    "execution": {
     "iopub.execute_input": "2025-04-16T13:27:58.648161Z",
     "iopub.status.busy": "2025-04-16T13:27:58.647820Z",
     "iopub.status.idle": "2025-04-16T13:27:58.673638Z",
     "shell.execute_reply": "2025-04-16T13:27:58.672967Z",
     "shell.execute_reply.started": "2025-04-16T13:27:58.648131Z"
    },
    "trusted": true
   },
   "outputs": [],
   "source": [
    "agg_encoder_params = dict(\n",
    "    embeddings={\n",
    "        \"MCC\": {\"in\": 501, \"out\": 8},\n",
    "        \"channel_type\": {\"in\": 501, \"out\": 8},\n",
    "        \"currency\": {\"in\": 501, \"out\": 8},\n",
    "        \"trx_category\": {\"in\": 501, \"out\": 8}\n",
    "        #\"MCC\": {\"in\": 342, \"out\": 8},\n",
    "        #\"channel_type\": {\"in\": 7, \"out\": 8},\n",
    "        #\"currency\": {\"in\": 60, \"out\": 8},\n",
    "        #\"trx_category\": {\"in\": 11, \"out\": 8} \n",
    "    },\n",
    "    numeric_values={\"amount\": \"log\"},\n",
    "    embeddings_noise=0.003,\n",
    "    k=7,\n",
    "    time_col=\"event_time\",\n",
    "    n_days=1, #0.5, 1, 2\n",
    "    use_window_attention=False\n",
    ")\n",
    "\n",
    "trx_encoder = TimeAggregator(**agg_encoder_params)\n",
    "\n",
    "seq_encoder = RnnSeqEncoder(\n",
    "    trx_encoder=trx_encoder,\n",
    "    hidden_size=512,\n",
    "    type=\"gru\"\n",
    ")\n",
    "\n",
    "coles = CoLESModule(\n",
    "    seq_encoder=seq_encoder,\n",
    "    optimizer_partial=partial(torch.optim.Adam, lr=1e-3, weight_decay=0),\n",
    "    lr_scheduler_partial=partial(torch.optim.lr_scheduler.CosineAnnealingLR, T_max=N_EPOCHS, eta_min=5e-6)\n",
    ")"
   ]
  },
  {
   "cell_type": "markdown",
   "metadata": {},
   "source": [
    "**Обучение:**"
   ]
  },
  {
   "cell_type": "code",
   "execution_count": 157,
   "metadata": {
    "execution": {
     "iopub.execute_input": "2025-04-16T13:28:13.171828Z",
     "iopub.status.busy": "2025-04-16T13:28:13.171538Z",
     "iopub.status.idle": "2025-04-16T13:28:13.226166Z",
     "shell.execute_reply": "2025-04-16T13:28:13.225301Z",
     "shell.execute_reply.started": "2025-04-16T13:28:13.171806Z"
    },
    "trusted": true
   },
   "outputs": [],
   "source": [
    "logger = CometLogger(project_name=\"evs-ssl-rb\", experiment_name=\"CoLES_AggByDays (1 day, w/ AddNulls)\")\n",
    "\n",
    "trainer = pl.Trainer(\n",
    "    logger=logger,\n",
    "    max_epochs=N_EPOCHS,\n",
    "    accelerator=\"gpu\",\n",
    "    devices=1,\n",
    "    enable_progress_bar=True\n",
    ")"
   ]
  },
  {
   "cell_type": "code",
   "execution_count": 158,
   "metadata": {
    "execution": {
     "iopub.execute_input": "2025-04-16T13:28:14.834147Z",
     "iopub.status.busy": "2025-04-16T13:28:14.833791Z",
     "iopub.status.idle": "2025-04-16T13:34:24.126002Z",
     "shell.execute_reply": "2025-04-16T13:34:24.125278Z",
     "shell.execute_reply.started": "2025-04-16T13:28:14.834117Z"
    },
    "trusted": true
   },
   "outputs": [
    {
     "name": "stderr",
     "output_type": "stream",
     "text": [
      "\u001b[1;38;5;214mCOMET WARNING:\u001b[0m As you are running in a Jupyter environment, you will need to call `experiment.end()` when finished to ensure all metrics and code are logged before exiting.\n",
      "\u001b[1;38;5;39mCOMET INFO:\u001b[0m Experiment is live on comet.com https://www.comet.com/askoro/evs-ssl-rb/c95f05245b7d48ad8399f84e45db8d1c\n",
      "\n",
      "\u001b[1;38;5;39mCOMET INFO:\u001b[0m Couldn't find a Git repository in '/kaggle/working' nor in any parent directory. Set `COMET_GIT_DIRECTORY` if your Git Repository is elsewhere.\n"
     ]
    },
    {
     "data": {
      "application/vnd.jupyter.widget-view+json": {
       "model_id": "",
       "version_major": 2,
       "version_minor": 0
      },
      "text/plain": [
       "Sanity Checking: |          | 0/? [00:00<?, ?it/s]"
      ]
     },
     "metadata": {},
     "output_type": "display_data"
    },
    {
     "name": "stderr",
     "output_type": "stream",
     "text": [
      "/usr/local/lib/python3.10/dist-packages/pytorch_lightning/loops/fit_loop.py:310: PossibleUserWarning:\n",
      "\n",
      "The number of training batches (33) is smaller than the logging interval Trainer(log_every_n_steps=50). Set a lower value for log_every_n_steps if you want to see logs for the training epoch.\n",
      "\n"
     ]
    },
    {
     "data": {
      "application/vnd.jupyter.widget-view+json": {
       "model_id": "b06fb516d8234b6e8bdbd2a1c46afef6",
       "version_major": 2,
       "version_minor": 0
      },
      "text/plain": [
       "Training: |          | 0/? [00:00<?, ?it/s]"
      ]
     },
     "metadata": {},
     "output_type": "display_data"
    },
    {
     "data": {
      "application/vnd.jupyter.widget-view+json": {
       "model_id": "",
       "version_major": 2,
       "version_minor": 0
      },
      "text/plain": [
       "Validation: |          | 0/? [00:00<?, ?it/s]"
      ]
     },
     "metadata": {},
     "output_type": "display_data"
    },
    {
     "data": {
      "application/vnd.jupyter.widget-view+json": {
       "model_id": "",
       "version_major": 2,
       "version_minor": 0
      },
      "text/plain": [
       "Validation: |          | 0/? [00:00<?, ?it/s]"
      ]
     },
     "metadata": {},
     "output_type": "display_data"
    },
    {
     "data": {
      "application/vnd.jupyter.widget-view+json": {
       "model_id": "",
       "version_major": 2,
       "version_minor": 0
      },
      "text/plain": [
       "Validation: |          | 0/? [00:00<?, ?it/s]"
      ]
     },
     "metadata": {},
     "output_type": "display_data"
    },
    {
     "data": {
      "application/vnd.jupyter.widget-view+json": {
       "model_id": "",
       "version_major": 2,
       "version_minor": 0
      },
      "text/plain": [
       "Validation: |          | 0/? [00:00<?, ?it/s]"
      ]
     },
     "metadata": {},
     "output_type": "display_data"
    },
    {
     "data": {
      "application/vnd.jupyter.widget-view+json": {
       "model_id": "",
       "version_major": 2,
       "version_minor": 0
      },
      "text/plain": [
       "Validation: |          | 0/? [00:00<?, ?it/s]"
      ]
     },
     "metadata": {},
     "output_type": "display_data"
    },
    {
     "data": {
      "application/vnd.jupyter.widget-view+json": {
       "model_id": "",
       "version_major": 2,
       "version_minor": 0
      },
      "text/plain": [
       "Validation: |          | 0/? [00:00<?, ?it/s]"
      ]
     },
     "metadata": {},
     "output_type": "display_data"
    },
    {
     "data": {
      "application/vnd.jupyter.widget-view+json": {
       "model_id": "",
       "version_major": 2,
       "version_minor": 0
      },
      "text/plain": [
       "Validation: |          | 0/? [00:00<?, ?it/s]"
      ]
     },
     "metadata": {},
     "output_type": "display_data"
    },
    {
     "data": {
      "application/vnd.jupyter.widget-view+json": {
       "model_id": "",
       "version_major": 2,
       "version_minor": 0
      },
      "text/plain": [
       "Validation: |          | 0/? [00:00<?, ?it/s]"
      ]
     },
     "metadata": {},
     "output_type": "display_data"
    },
    {
     "data": {
      "application/vnd.jupyter.widget-view+json": {
       "model_id": "",
       "version_major": 2,
       "version_minor": 0
      },
      "text/plain": [
       "Validation: |          | 0/? [00:00<?, ?it/s]"
      ]
     },
     "metadata": {},
     "output_type": "display_data"
    },
    {
     "data": {
      "application/vnd.jupyter.widget-view+json": {
       "model_id": "",
       "version_major": 2,
       "version_minor": 0
      },
      "text/plain": [
       "Validation: |          | 0/? [00:00<?, ?it/s]"
      ]
     },
     "metadata": {},
     "output_type": "display_data"
    },
    {
     "data": {
      "application/vnd.jupyter.widget-view+json": {
       "model_id": "",
       "version_major": 2,
       "version_minor": 0
      },
      "text/plain": [
       "Validation: |          | 0/? [00:00<?, ?it/s]"
      ]
     },
     "metadata": {},
     "output_type": "display_data"
    },
    {
     "data": {
      "application/vnd.jupyter.widget-view+json": {
       "model_id": "",
       "version_major": 2,
       "version_minor": 0
      },
      "text/plain": [
       "Validation: |          | 0/? [00:00<?, ?it/s]"
      ]
     },
     "metadata": {},
     "output_type": "display_data"
    },
    {
     "data": {
      "application/vnd.jupyter.widget-view+json": {
       "model_id": "",
       "version_major": 2,
       "version_minor": 0
      },
      "text/plain": [
       "Validation: |          | 0/? [00:00<?, ?it/s]"
      ]
     },
     "metadata": {},
     "output_type": "display_data"
    },
    {
     "data": {
      "application/vnd.jupyter.widget-view+json": {
       "model_id": "",
       "version_major": 2,
       "version_minor": 0
      },
      "text/plain": [
       "Validation: |          | 0/? [00:00<?, ?it/s]"
      ]
     },
     "metadata": {},
     "output_type": "display_data"
    },
    {
     "data": {
      "application/vnd.jupyter.widget-view+json": {
       "model_id": "",
       "version_major": 2,
       "version_minor": 0
      },
      "text/plain": [
       "Validation: |          | 0/? [00:00<?, ?it/s]"
      ]
     },
     "metadata": {},
     "output_type": "display_data"
    },
    {
     "data": {
      "application/vnd.jupyter.widget-view+json": {
       "model_id": "",
       "version_major": 2,
       "version_minor": 0
      },
      "text/plain": [
       "Validation: |          | 0/? [00:00<?, ?it/s]"
      ]
     },
     "metadata": {},
     "output_type": "display_data"
    },
    {
     "data": {
      "application/vnd.jupyter.widget-view+json": {
       "model_id": "",
       "version_major": 2,
       "version_minor": 0
      },
      "text/plain": [
       "Validation: |          | 0/? [00:00<?, ?it/s]"
      ]
     },
     "metadata": {},
     "output_type": "display_data"
    },
    {
     "data": {
      "application/vnd.jupyter.widget-view+json": {
       "model_id": "",
       "version_major": 2,
       "version_minor": 0
      },
      "text/plain": [
       "Validation: |          | 0/? [00:00<?, ?it/s]"
      ]
     },
     "metadata": {},
     "output_type": "display_data"
    },
    {
     "data": {
      "application/vnd.jupyter.widget-view+json": {
       "model_id": "",
       "version_major": 2,
       "version_minor": 0
      },
      "text/plain": [
       "Validation: |          | 0/? [00:00<?, ?it/s]"
      ]
     },
     "metadata": {},
     "output_type": "display_data"
    },
    {
     "data": {
      "application/vnd.jupyter.widget-view+json": {
       "model_id": "",
       "version_major": 2,
       "version_minor": 0
      },
      "text/plain": [
       "Validation: |          | 0/? [00:00<?, ?it/s]"
      ]
     },
     "metadata": {},
     "output_type": "display_data"
    },
    {
     "name": "stderr",
     "output_type": "stream",
     "text": [
      "\u001b[1;38;5;39mCOMET INFO:\u001b[0m ---------------------------------------------------------------------------------------\n",
      "\u001b[1;38;5;39mCOMET INFO:\u001b[0m Comet.ml Experiment Summary\n",
      "\u001b[1;38;5;39mCOMET INFO:\u001b[0m ---------------------------------------------------------------------------------------\n",
      "\u001b[1;38;5;39mCOMET INFO:\u001b[0m   Data:\n",
      "\u001b[1;38;5;39mCOMET INFO:\u001b[0m     display_summary_level : 1\n",
      "\u001b[1;38;5;39mCOMET INFO:\u001b[0m     name                  : CoLES_AggByDays (1 day, w/ AddNulls)\n",
      "\u001b[1;38;5;39mCOMET INFO:\u001b[0m     url                   : https://www.comet.com/askoro/evs-ssl-rb/c95f05245b7d48ad8399f84e45db8d1c\n",
      "\u001b[1;38;5;39mCOMET INFO:\u001b[0m   Metrics [count] (min, max):\n",
      "\u001b[1;38;5;39mCOMET INFO:\u001b[0m     loss [79]               : (120.61343383789062, 1006.6783447265625)\n",
      "\u001b[1;38;5;39mCOMET INFO:\u001b[0m     seq_len [13]            : (21.676563262939453, 22.9375)\n",
      "\u001b[1;38;5;39mCOMET INFO:\u001b[0m     valid/recall_top_k [20] : (0.1075400859117508, 0.2554173469543457)\n",
      "\u001b[1;38;5;39mCOMET INFO:\u001b[0m   Others:\n",
      "\u001b[1;38;5;39mCOMET INFO:\u001b[0m     Name : CoLES_AggByDays (1 day, w/ AddNulls)\n",
      "\u001b[1;38;5;39mCOMET INFO:\u001b[0m   Parameters:\n",
      "\u001b[1;38;5;39mCOMET INFO:\u001b[0m     test_batch_size   : None\n",
      "\u001b[1;38;5;39mCOMET INFO:\u001b[0m     test_drop_last    : False\n",
      "\u001b[1;38;5;39mCOMET INFO:\u001b[0m     test_num_workers  : None\n",
      "\u001b[1;38;5;39mCOMET INFO:\u001b[0m     train_batch_size  : 128\n",
      "\u001b[1;38;5;39mCOMET INFO:\u001b[0m     train_drop_last   : False\n",
      "\u001b[1;38;5;39mCOMET INFO:\u001b[0m     train_num_workers : 4\n",
      "\u001b[1;38;5;39mCOMET INFO:\u001b[0m     valid_batch_size  : 128\n",
      "\u001b[1;38;5;39mCOMET INFO:\u001b[0m     valid_drop_last   : False\n",
      "\u001b[1;38;5;39mCOMET INFO:\u001b[0m     valid_num_workers : 4\n",
      "\u001b[1;38;5;39mCOMET INFO:\u001b[0m   Uploads:\n",
      "\u001b[1;38;5;39mCOMET INFO:\u001b[0m     environment details : 1\n",
      "\u001b[1;38;5;39mCOMET INFO:\u001b[0m     filename            : 1\n",
      "\u001b[1;38;5;39mCOMET INFO:\u001b[0m     installed packages  : 1\n",
      "\u001b[1;38;5;39mCOMET INFO:\u001b[0m     model graph         : 1\n",
      "\u001b[1;38;5;39mCOMET INFO:\u001b[0m     notebook            : 1\n",
      "\u001b[1;38;5;39mCOMET INFO:\u001b[0m     os packages         : 1\n",
      "\u001b[1;38;5;39mCOMET INFO:\u001b[0m     source_code         : 1\n",
      "\u001b[1;38;5;39mCOMET INFO:\u001b[0m \n"
     ]
    }
   ],
   "source": [
    "trainer.fit(coles, data)"
   ]
  },
  {
   "cell_type": "code",
   "execution_count": 159,
   "metadata": {
    "execution": {
     "iopub.execute_input": "2025-04-16T13:34:26.147811Z",
     "iopub.status.busy": "2025-04-16T13:34:26.147493Z",
     "iopub.status.idle": "2025-04-16T13:34:26.155000Z",
     "shell.execute_reply": "2025-04-16T13:34:26.154151Z",
     "shell.execute_reply.started": "2025-04-16T13:34:26.147787Z"
    },
    "trusted": true
   },
   "outputs": [
    {
     "data": {
      "text/plain": [
       "{'loss': tensor(123.7174),\n",
       " 'seq_len': tensor(22.4885),\n",
       " 'valid/recall_top_k': tensor(0.2552)}"
      ]
     },
     "execution_count": 159,
     "metadata": {},
     "output_type": "execute_result"
    }
   ],
   "source": [
    "trainer.logged_metrics"
   ]
  },
  {
   "cell_type": "code",
   "execution_count": 110,
   "metadata": {
    "execution": {
     "iopub.execute_input": "2025-04-16T09:02:16.676301Z",
     "iopub.status.busy": "2025-04-16T09:02:16.675839Z",
     "iopub.status.idle": "2025-04-16T09:02:16.686153Z",
     "shell.execute_reply": "2025-04-16T09:02:16.685374Z",
     "shell.execute_reply.started": "2025-04-16T09:02:16.676257Z"
    },
    "trusted": true
   },
   "outputs": [],
   "source": [
    "torch.save(seq_encoder.state_dict(), \"coles_enc_aggbydays.pt\")"
   ]
  },
  {
   "cell_type": "markdown",
   "metadata": {},
   "source": [
    "**Измерим качество на тесте (catboost поверх эмбеддингов):**"
   ]
  },
  {
   "cell_type": "code",
   "execution_count": null,
   "metadata": {
    "trusted": true
   },
   "outputs": [],
   "source": [
    "# !wget \"https://drive.google.com/uc?export=download&id=1Mn8o9IPT4Zzg3946orbw1MVZwpkrBoNb\" -O \"coles_enc_baseline.pt\""
   ]
  },
  {
   "cell_type": "code",
   "execution_count": 160,
   "metadata": {
    "execution": {
     "iopub.execute_input": "2025-04-16T13:34:30.881709Z",
     "iopub.status.busy": "2025-04-16T13:34:30.881379Z",
     "iopub.status.idle": "2025-04-16T13:34:30.890246Z",
     "shell.execute_reply": "2025-04-16T13:34:30.889489Z",
     "shell.execute_reply.started": "2025-04-16T13:34:30.881682Z"
    },
    "trusted": true
   },
   "outputs": [
    {
     "data": {
      "text/plain": [
       "RnnSeqEncoder(\n",
       "  (trx_encoder): TimeAggregator(\n",
       "    (embeddings): ModuleDict(\n",
       "      (MCC): NoisyEmbedding(\n",
       "        501, 8, padding_idx=0\n",
       "        (dropout): Dropout(p=0, inplace=False)\n",
       "      )\n",
       "      (channel_type): NoisyEmbedding(\n",
       "        501, 8, padding_idx=0\n",
       "        (dropout): Dropout(p=0, inplace=False)\n",
       "      )\n",
       "      (currency): NoisyEmbedding(\n",
       "        501, 8, padding_idx=0\n",
       "        (dropout): Dropout(p=0, inplace=False)\n",
       "      )\n",
       "      (trx_category): NoisyEmbedding(\n",
       "        501, 8, padding_idx=0\n",
       "        (dropout): Dropout(p=0, inplace=False)\n",
       "      )\n",
       "    )\n",
       "    (custom_embeddings): ModuleDict(\n",
       "      (amount): LogScaler()\n",
       "    )\n",
       "    (time2vec_days): Time2Vec()\n",
       "  )\n",
       "  (seq_encoder): RnnEncoder(\n",
       "    (rnn): GRU(41, 512, batch_first=True)\n",
       "    (reducer): LastStepEncoder()\n",
       "  )\n",
       ")"
      ]
     },
     "execution_count": 160,
     "metadata": {},
     "output_type": "execute_result"
    }
   ],
   "source": [
    "encoder = coles.seq_encoder\n",
    "\n",
    "# state_dict = torch.load(\"./coles_enc_baseline.pt\")\n",
    "# encoder.load_state_dict(state_dict)\n",
    "\n",
    "device = \"cuda:0\"\n",
    "\n",
    "encoder.to(device)"
   ]
  },
  {
   "cell_type": "code",
   "execution_count": 161,
   "metadata": {
    "execution": {
     "iopub.execute_input": "2025-04-16T13:34:33.200882Z",
     "iopub.status.busy": "2025-04-16T13:34:33.200584Z",
     "iopub.status.idle": "2025-04-16T13:34:33.206343Z",
     "shell.execute_reply": "2025-04-16T13:34:33.205564Z",
     "shell.execute_reply.started": "2025-04-16T13:34:33.200861Z"
    },
    "trusted": true
   },
   "outputs": [],
   "source": [
    "from tqdm import tqdm\n",
    "\n",
    "seed_everything(42)"
   ]
  },
  {
   "cell_type": "code",
   "execution_count": 162,
   "metadata": {
    "execution": {
     "iopub.execute_input": "2025-04-16T13:34:34.920409Z",
     "iopub.status.busy": "2025-04-16T13:34:34.920097Z",
     "iopub.status.idle": "2025-04-16T13:34:38.216793Z",
     "shell.execute_reply": "2025-04-16T13:34:38.216112Z",
     "shell.execute_reply.started": "2025-04-16T13:34:34.920387Z"
    },
    "trusted": true
   },
   "outputs": [
    {
     "name": "stderr",
     "output_type": "stream",
     "text": [
      "36it [00:03, 11.17it/s]\n"
     ]
    },
    {
     "data": {
      "text/plain": [
       "array([[ 0.93622625, -0.05178909,  0.19087344, ..., -0.96121603,\n",
       "        -0.5278019 , -0.44119808],\n",
       "       [ 0.9292055 , -0.20126076, -0.14644495, ..., -0.9664763 ,\n",
       "        -0.7405364 , -0.65024126],\n",
       "       [ 0.84990907, -0.1402293 , -0.09719023, ..., -0.9411611 ,\n",
       "        -0.6330215 , -0.6273654 ],\n",
       "       ...,\n",
       "       [ 0.77353257,  0.01652216, -0.3708247 , ..., -0.91125375,\n",
       "        -0.5722551 , -0.5379528 ],\n",
       "       [ 0.761541  , -0.04619621, -0.41280004, ..., -0.9330558 ,\n",
       "        -0.7478856 , -0.7312275 ],\n",
       "       [ 0.636961  ,  0.06830669,  0.08214493, ..., -0.8779054 ,\n",
       "         0.0106684 , -0.597877  ]], dtype=float32)"
      ]
     },
     "execution_count": 162,
     "metadata": {},
     "output_type": "execute_result"
    }
   ],
   "source": [
    "train_loader = inference_data_loader(data_train, num_workers=0, batch_size=128)\n",
    "encoder.eval()\n",
    "train_embeds = None\n",
    "\n",
    "for i, batch in tqdm(enumerate(train_loader)):\n",
    "    train_embeds_batch = encoder(batch.to(device))\n",
    "    if i == 0:\n",
    "        train_embeds = train_embeds_batch.detach().cpu().numpy()\n",
    "    else:\n",
    "        train_embeds = np.concatenate([train_embeds, train_embeds_batch.detach().cpu().numpy()], axis=0)\n",
    "    \n",
    "train_embeds"
   ]
  },
  {
   "cell_type": "code",
   "execution_count": 163,
   "metadata": {
    "execution": {
     "iopub.execute_input": "2025-04-16T13:34:41.275544Z",
     "iopub.status.busy": "2025-04-16T13:34:41.275216Z",
     "iopub.status.idle": "2025-04-16T13:34:41.683842Z",
     "shell.execute_reply": "2025-04-16T13:34:41.683158Z",
     "shell.execute_reply.started": "2025-04-16T13:34:41.275522Z"
    },
    "trusted": true
   },
   "outputs": [
    {
     "name": "stderr",
     "output_type": "stream",
     "text": [
      "4it [00:00, 10.26it/s]\n"
     ]
    },
    {
     "data": {
      "text/plain": [
       "array([[ 0.8990631 , -0.16598615, -0.06594966, ..., -0.9662215 ,\n",
       "        -0.68612313, -0.6832476 ],\n",
       "       [ 0.8141912 , -0.23818657, -0.24754775, ..., -0.9328777 ,\n",
       "        -0.69514453, -0.5208521 ],\n",
       "       [ 0.9409772 , -0.10718692, -0.2756635 , ..., -0.9543508 ,\n",
       "        -0.7285551 , -0.48252144],\n",
       "       ...,\n",
       "       [ 0.6498947 , -0.08217648, -0.22362508, ..., -0.90359235,\n",
       "        -0.5280303 , -0.67600864],\n",
       "       [ 0.74664253, -0.04872967, -0.27261952, ..., -0.8921901 ,\n",
       "        -0.6093328 , -0.5399925 ],\n",
       "       [ 0.66754556, -0.11340289, -0.01845337, ..., -0.93476105,\n",
       "        -0.65968406, -0.85052055]], dtype=float32)"
      ]
     },
     "execution_count": 163,
     "metadata": {},
     "output_type": "execute_result"
    }
   ],
   "source": [
    "test_loader = inference_data_loader(data_test, num_workers=0, batch_size=128)\n",
    "encoder.eval()\n",
    "test_embeds = None\n",
    "\n",
    "for i, batch in tqdm(enumerate(test_loader)):\n",
    "    test_embeds_batch = encoder(batch.to(device))\n",
    "    if i == 0:\n",
    "        test_embeds = test_embeds_batch.detach().cpu().numpy()\n",
    "    else:\n",
    "        test_embeds = np.concatenate([test_embeds, test_embeds_batch.detach().cpu().numpy()], axis=0)\n",
    "    \n",
    "test_embeds"
   ]
  },
  {
   "cell_type": "code",
   "execution_count": 164,
   "metadata": {
    "collapsed": true,
    "execution": {
     "iopub.execute_input": "2025-04-16T13:34:48.160952Z",
     "iopub.status.busy": "2025-04-16T13:34:48.160657Z",
     "iopub.status.idle": "2025-04-16T13:34:54.945208Z",
     "shell.execute_reply": "2025-04-16T13:34:54.944312Z",
     "shell.execute_reply.started": "2025-04-16T13:34:48.160930Z"
    },
    "jupyter": {
     "outputs_hidden": true
    },
    "trusted": true
   },
   "outputs": [
    {
     "name": "stdout",
     "output_type": "stream",
     "text": [
      "Learning rate set to 0.088214\n",
      "0:\tlearn: 0.6666784\ttotal: 9.93ms\tremaining: 9.91s\n",
      "1:\tlearn: 0.6437919\ttotal: 16.4ms\tremaining: 8.2s\n",
      "2:\tlearn: 0.6251373\ttotal: 22.9ms\tremaining: 7.6s\n",
      "3:\tlearn: 0.6082981\ttotal: 29.3ms\tremaining: 7.3s\n",
      "4:\tlearn: 0.5926914\ttotal: 35.8ms\tremaining: 7.13s\n",
      "5:\tlearn: 0.5789293\ttotal: 42.5ms\tremaining: 7.03s\n",
      "6:\tlearn: 0.5665876\ttotal: 49ms\tremaining: 6.95s\n",
      "7:\tlearn: 0.5554615\ttotal: 55.3ms\tremaining: 6.85s\n",
      "8:\tlearn: 0.5462097\ttotal: 61.2ms\tremaining: 6.74s\n",
      "9:\tlearn: 0.5368301\ttotal: 67.2ms\tremaining: 6.65s\n",
      "10:\tlearn: 0.5295009\ttotal: 72.9ms\tremaining: 6.55s\n",
      "11:\tlearn: 0.5220891\ttotal: 79ms\tremaining: 6.5s\n",
      "12:\tlearn: 0.5155396\ttotal: 84.9ms\tremaining: 6.45s\n",
      "13:\tlearn: 0.5097399\ttotal: 91.7ms\tremaining: 6.46s\n",
      "14:\tlearn: 0.5048092\ttotal: 97.5ms\tremaining: 6.4s\n",
      "15:\tlearn: 0.4993747\ttotal: 103ms\tremaining: 6.35s\n",
      "16:\tlearn: 0.4949210\ttotal: 110ms\tremaining: 6.34s\n",
      "17:\tlearn: 0.4904137\ttotal: 116ms\tremaining: 6.34s\n",
      "18:\tlearn: 0.4869137\ttotal: 122ms\tremaining: 6.32s\n",
      "19:\tlearn: 0.4829639\ttotal: 129ms\tremaining: 6.32s\n",
      "20:\tlearn: 0.4800589\ttotal: 135ms\tremaining: 6.31s\n",
      "21:\tlearn: 0.4766736\ttotal: 142ms\tremaining: 6.3s\n",
      "22:\tlearn: 0.4738834\ttotal: 148ms\tremaining: 6.28s\n",
      "23:\tlearn: 0.4709528\ttotal: 154ms\tremaining: 6.28s\n",
      "24:\tlearn: 0.4686187\ttotal: 160ms\tremaining: 6.25s\n",
      "25:\tlearn: 0.4657247\ttotal: 167ms\tremaining: 6.24s\n",
      "26:\tlearn: 0.4633250\ttotal: 173ms\tremaining: 6.23s\n",
      "27:\tlearn: 0.4611535\ttotal: 179ms\tremaining: 6.22s\n",
      "28:\tlearn: 0.4591842\ttotal: 186ms\tremaining: 6.22s\n",
      "29:\tlearn: 0.4568575\ttotal: 192ms\tremaining: 6.21s\n",
      "30:\tlearn: 0.4544058\ttotal: 199ms\tremaining: 6.21s\n",
      "31:\tlearn: 0.4528997\ttotal: 205ms\tremaining: 6.2s\n",
      "32:\tlearn: 0.4507876\ttotal: 211ms\tremaining: 6.19s\n",
      "33:\tlearn: 0.4488478\ttotal: 218ms\tremaining: 6.18s\n",
      "34:\tlearn: 0.4468371\ttotal: 224ms\tremaining: 6.18s\n",
      "35:\tlearn: 0.4450547\ttotal: 231ms\tremaining: 6.17s\n",
      "36:\tlearn: 0.4433432\ttotal: 237ms\tremaining: 6.17s\n",
      "37:\tlearn: 0.4415724\ttotal: 244ms\tremaining: 6.17s\n",
      "38:\tlearn: 0.4396793\ttotal: 250ms\tremaining: 6.16s\n",
      "39:\tlearn: 0.4384219\ttotal: 257ms\tremaining: 6.16s\n",
      "40:\tlearn: 0.4364992\ttotal: 263ms\tremaining: 6.15s\n",
      "41:\tlearn: 0.4348062\ttotal: 269ms\tremaining: 6.14s\n",
      "42:\tlearn: 0.4330644\ttotal: 276ms\tremaining: 6.13s\n",
      "43:\tlearn: 0.4316601\ttotal: 282ms\tremaining: 6.12s\n",
      "44:\tlearn: 0.4305766\ttotal: 288ms\tremaining: 6.12s\n",
      "45:\tlearn: 0.4288610\ttotal: 295ms\tremaining: 6.11s\n",
      "46:\tlearn: 0.4272584\ttotal: 301ms\tremaining: 6.11s\n",
      "47:\tlearn: 0.4257826\ttotal: 307ms\tremaining: 6.1s\n",
      "48:\tlearn: 0.4240170\ttotal: 314ms\tremaining: 6.09s\n",
      "49:\tlearn: 0.4224666\ttotal: 320ms\tremaining: 6.09s\n",
      "50:\tlearn: 0.4210675\ttotal: 327ms\tremaining: 6.08s\n",
      "51:\tlearn: 0.4201485\ttotal: 333ms\tremaining: 6.07s\n",
      "52:\tlearn: 0.4190797\ttotal: 339ms\tremaining: 6.06s\n",
      "53:\tlearn: 0.4179749\ttotal: 346ms\tremaining: 6.05s\n",
      "54:\tlearn: 0.4164700\ttotal: 352ms\tremaining: 6.05s\n",
      "55:\tlearn: 0.4155042\ttotal: 359ms\tremaining: 6.04s\n",
      "56:\tlearn: 0.4145033\ttotal: 364ms\tremaining: 6.03s\n",
      "57:\tlearn: 0.4137139\ttotal: 370ms\tremaining: 6.01s\n",
      "58:\tlearn: 0.4124957\ttotal: 377ms\tremaining: 6.01s\n",
      "59:\tlearn: 0.4114069\ttotal: 383ms\tremaining: 6s\n",
      "60:\tlearn: 0.4104468\ttotal: 389ms\tremaining: 5.99s\n",
      "61:\tlearn: 0.4093355\ttotal: 395ms\tremaining: 5.98s\n",
      "62:\tlearn: 0.4079210\ttotal: 402ms\tremaining: 5.97s\n",
      "63:\tlearn: 0.4069446\ttotal: 408ms\tremaining: 5.96s\n",
      "64:\tlearn: 0.4060441\ttotal: 414ms\tremaining: 5.96s\n",
      "65:\tlearn: 0.4050265\ttotal: 420ms\tremaining: 5.95s\n",
      "66:\tlearn: 0.4038485\ttotal: 427ms\tremaining: 5.94s\n",
      "67:\tlearn: 0.4025452\ttotal: 433ms\tremaining: 5.93s\n",
      "68:\tlearn: 0.4018785\ttotal: 439ms\tremaining: 5.92s\n",
      "69:\tlearn: 0.4008940\ttotal: 445ms\tremaining: 5.91s\n",
      "70:\tlearn: 0.3997276\ttotal: 451ms\tremaining: 5.9s\n",
      "71:\tlearn: 0.3986278\ttotal: 457ms\tremaining: 5.89s\n",
      "72:\tlearn: 0.3976529\ttotal: 463ms\tremaining: 5.88s\n",
      "73:\tlearn: 0.3964408\ttotal: 470ms\tremaining: 5.88s\n",
      "74:\tlearn: 0.3954731\ttotal: 476ms\tremaining: 5.88s\n",
      "75:\tlearn: 0.3946001\ttotal: 483ms\tremaining: 5.87s\n",
      "76:\tlearn: 0.3932733\ttotal: 489ms\tremaining: 5.86s\n",
      "77:\tlearn: 0.3917603\ttotal: 496ms\tremaining: 5.86s\n",
      "78:\tlearn: 0.3905105\ttotal: 502ms\tremaining: 5.85s\n",
      "79:\tlearn: 0.3891982\ttotal: 509ms\tremaining: 5.85s\n",
      "80:\tlearn: 0.3881314\ttotal: 515ms\tremaining: 5.84s\n",
      "81:\tlearn: 0.3873287\ttotal: 522ms\tremaining: 5.84s\n",
      "82:\tlearn: 0.3865410\ttotal: 528ms\tremaining: 5.83s\n",
      "83:\tlearn: 0.3859140\ttotal: 534ms\tremaining: 5.83s\n",
      "84:\tlearn: 0.3848497\ttotal: 541ms\tremaining: 5.82s\n",
      "85:\tlearn: 0.3837457\ttotal: 547ms\tremaining: 5.82s\n",
      "86:\tlearn: 0.3829601\ttotal: 553ms\tremaining: 5.81s\n",
      "87:\tlearn: 0.3823396\ttotal: 559ms\tremaining: 5.79s\n",
      "88:\tlearn: 0.3817555\ttotal: 565ms\tremaining: 5.78s\n",
      "89:\tlearn: 0.3805282\ttotal: 571ms\tremaining: 5.77s\n",
      "90:\tlearn: 0.3798411\ttotal: 577ms\tremaining: 5.76s\n",
      "91:\tlearn: 0.3786556\ttotal: 582ms\tremaining: 5.75s\n",
      "92:\tlearn: 0.3774293\ttotal: 588ms\tremaining: 5.74s\n",
      "93:\tlearn: 0.3766746\ttotal: 594ms\tremaining: 5.73s\n",
      "94:\tlearn: 0.3758854\ttotal: 600ms\tremaining: 5.72s\n",
      "95:\tlearn: 0.3749112\ttotal: 606ms\tremaining: 5.71s\n",
      "96:\tlearn: 0.3740967\ttotal: 612ms\tremaining: 5.7s\n",
      "97:\tlearn: 0.3729397\ttotal: 618ms\tremaining: 5.69s\n",
      "98:\tlearn: 0.3717244\ttotal: 624ms\tremaining: 5.68s\n",
      "99:\tlearn: 0.3710268\ttotal: 630ms\tremaining: 5.67s\n",
      "100:\tlearn: 0.3702543\ttotal: 636ms\tremaining: 5.67s\n",
      "101:\tlearn: 0.3691305\ttotal: 642ms\tremaining: 5.66s\n",
      "102:\tlearn: 0.3680358\ttotal: 648ms\tremaining: 5.64s\n",
      "103:\tlearn: 0.3667220\ttotal: 655ms\tremaining: 5.64s\n",
      "104:\tlearn: 0.3660784\ttotal: 662ms\tremaining: 5.64s\n",
      "105:\tlearn: 0.3653728\ttotal: 668ms\tremaining: 5.64s\n",
      "106:\tlearn: 0.3645372\ttotal: 675ms\tremaining: 5.63s\n",
      "107:\tlearn: 0.3635149\ttotal: 682ms\tremaining: 5.63s\n",
      "108:\tlearn: 0.3624012\ttotal: 689ms\tremaining: 5.63s\n",
      "109:\tlearn: 0.3615064\ttotal: 695ms\tremaining: 5.62s\n",
      "110:\tlearn: 0.3608188\ttotal: 702ms\tremaining: 5.62s\n",
      "111:\tlearn: 0.3598512\ttotal: 708ms\tremaining: 5.61s\n",
      "112:\tlearn: 0.3589038\ttotal: 715ms\tremaining: 5.61s\n",
      "113:\tlearn: 0.3581897\ttotal: 721ms\tremaining: 5.6s\n",
      "114:\tlearn: 0.3570972\ttotal: 727ms\tremaining: 5.59s\n",
      "115:\tlearn: 0.3562358\ttotal: 733ms\tremaining: 5.59s\n",
      "116:\tlearn: 0.3555685\ttotal: 739ms\tremaining: 5.58s\n",
      "117:\tlearn: 0.3551533\ttotal: 745ms\tremaining: 5.57s\n",
      "118:\tlearn: 0.3544303\ttotal: 751ms\tremaining: 5.56s\n",
      "119:\tlearn: 0.3534058\ttotal: 757ms\tremaining: 5.55s\n",
      "120:\tlearn: 0.3529616\ttotal: 763ms\tremaining: 5.54s\n",
      "121:\tlearn: 0.3524211\ttotal: 769ms\tremaining: 5.53s\n",
      "122:\tlearn: 0.3516226\ttotal: 775ms\tremaining: 5.53s\n",
      "123:\tlearn: 0.3507690\ttotal: 781ms\tremaining: 5.52s\n",
      "124:\tlearn: 0.3498306\ttotal: 788ms\tremaining: 5.51s\n",
      "125:\tlearn: 0.3492439\ttotal: 794ms\tremaining: 5.5s\n",
      "126:\tlearn: 0.3483781\ttotal: 800ms\tremaining: 5.5s\n",
      "127:\tlearn: 0.3479586\ttotal: 805ms\tremaining: 5.49s\n",
      "128:\tlearn: 0.3475088\ttotal: 811ms\tremaining: 5.48s\n",
      "129:\tlearn: 0.3466755\ttotal: 817ms\tremaining: 5.47s\n",
      "130:\tlearn: 0.3461074\ttotal: 823ms\tremaining: 5.46s\n",
      "131:\tlearn: 0.3454313\ttotal: 829ms\tremaining: 5.45s\n",
      "132:\tlearn: 0.3449298\ttotal: 835ms\tremaining: 5.44s\n",
      "133:\tlearn: 0.3440446\ttotal: 841ms\tremaining: 5.43s\n",
      "134:\tlearn: 0.3432754\ttotal: 847ms\tremaining: 5.43s\n",
      "135:\tlearn: 0.3424482\ttotal: 853ms\tremaining: 5.42s\n",
      "136:\tlearn: 0.3417699\ttotal: 859ms\tremaining: 5.41s\n",
      "137:\tlearn: 0.3410458\ttotal: 865ms\tremaining: 5.4s\n",
      "138:\tlearn: 0.3406012\ttotal: 871ms\tremaining: 5.39s\n",
      "139:\tlearn: 0.3399641\ttotal: 877ms\tremaining: 5.38s\n",
      "140:\tlearn: 0.3393711\ttotal: 882ms\tremaining: 5.37s\n",
      "141:\tlearn: 0.3386462\ttotal: 889ms\tremaining: 5.37s\n",
      "142:\tlearn: 0.3376538\ttotal: 895ms\tremaining: 5.37s\n",
      "143:\tlearn: 0.3370627\ttotal: 902ms\tremaining: 5.36s\n",
      "144:\tlearn: 0.3364976\ttotal: 908ms\tremaining: 5.36s\n",
      "145:\tlearn: 0.3356068\ttotal: 915ms\tremaining: 5.35s\n",
      "146:\tlearn: 0.3349933\ttotal: 922ms\tremaining: 5.35s\n",
      "147:\tlearn: 0.3343685\ttotal: 928ms\tremaining: 5.34s\n",
      "148:\tlearn: 0.3337592\ttotal: 934ms\tremaining: 5.33s\n",
      "149:\tlearn: 0.3332489\ttotal: 940ms\tremaining: 5.32s\n",
      "150:\tlearn: 0.3324630\ttotal: 945ms\tremaining: 5.32s\n",
      "151:\tlearn: 0.3318532\ttotal: 952ms\tremaining: 5.31s\n",
      "152:\tlearn: 0.3308757\ttotal: 959ms\tremaining: 5.31s\n",
      "153:\tlearn: 0.3302361\ttotal: 965ms\tremaining: 5.3s\n",
      "154:\tlearn: 0.3294653\ttotal: 971ms\tremaining: 5.29s\n",
      "155:\tlearn: 0.3286287\ttotal: 978ms\tremaining: 5.29s\n",
      "156:\tlearn: 0.3280467\ttotal: 984ms\tremaining: 5.29s\n",
      "157:\tlearn: 0.3270680\ttotal: 991ms\tremaining: 5.28s\n",
      "158:\tlearn: 0.3263467\ttotal: 997ms\tremaining: 5.27s\n",
      "159:\tlearn: 0.3259285\ttotal: 1s\tremaining: 5.27s\n",
      "160:\tlearn: 0.3251719\ttotal: 1.01s\tremaining: 5.26s\n",
      "161:\tlearn: 0.3245723\ttotal: 1.02s\tremaining: 5.26s\n",
      "162:\tlearn: 0.3240383\ttotal: 1.02s\tremaining: 5.25s\n",
      "163:\tlearn: 0.3232167\ttotal: 1.03s\tremaining: 5.25s\n",
      "164:\tlearn: 0.3225512\ttotal: 1.03s\tremaining: 5.24s\n",
      "165:\tlearn: 0.3219275\ttotal: 1.04s\tremaining: 5.23s\n",
      "166:\tlearn: 0.3213007\ttotal: 1.05s\tremaining: 5.22s\n",
      "167:\tlearn: 0.3206699\ttotal: 1.05s\tremaining: 5.21s\n",
      "168:\tlearn: 0.3200313\ttotal: 1.06s\tremaining: 5.21s\n",
      "169:\tlearn: 0.3192887\ttotal: 1.06s\tremaining: 5.2s\n",
      "170:\tlearn: 0.3186871\ttotal: 1.07s\tremaining: 5.19s\n",
      "171:\tlearn: 0.3180502\ttotal: 1.08s\tremaining: 5.18s\n",
      "172:\tlearn: 0.3175256\ttotal: 1.08s\tremaining: 5.18s\n",
      "173:\tlearn: 0.3166756\ttotal: 1.09s\tremaining: 5.17s\n",
      "174:\tlearn: 0.3161702\ttotal: 1.09s\tremaining: 5.16s\n",
      "175:\tlearn: 0.3156112\ttotal: 1.1s\tremaining: 5.16s\n",
      "176:\tlearn: 0.3147865\ttotal: 1.11s\tremaining: 5.15s\n",
      "177:\tlearn: 0.3139421\ttotal: 1.11s\tremaining: 5.14s\n",
      "178:\tlearn: 0.3131671\ttotal: 1.12s\tremaining: 5.13s\n",
      "179:\tlearn: 0.3124239\ttotal: 1.13s\tremaining: 5.13s\n",
      "180:\tlearn: 0.3118635\ttotal: 1.13s\tremaining: 5.12s\n",
      "181:\tlearn: 0.3111440\ttotal: 1.14s\tremaining: 5.11s\n",
      "182:\tlearn: 0.3104304\ttotal: 1.14s\tremaining: 5.11s\n",
      "183:\tlearn: 0.3099898\ttotal: 1.15s\tremaining: 5.1s\n",
      "184:\tlearn: 0.3093361\ttotal: 1.16s\tremaining: 5.09s\n",
      "185:\tlearn: 0.3088273\ttotal: 1.16s\tremaining: 5.09s\n",
      "186:\tlearn: 0.3081689\ttotal: 1.17s\tremaining: 5.08s\n",
      "187:\tlearn: 0.3077790\ttotal: 1.17s\tremaining: 5.07s\n",
      "188:\tlearn: 0.3073743\ttotal: 1.18s\tremaining: 5.07s\n",
      "189:\tlearn: 0.3069969\ttotal: 1.19s\tremaining: 5.06s\n",
      "190:\tlearn: 0.3061627\ttotal: 1.19s\tremaining: 5.06s\n",
      "191:\tlearn: 0.3053676\ttotal: 1.2s\tremaining: 5.05s\n",
      "192:\tlearn: 0.3046572\ttotal: 1.21s\tremaining: 5.04s\n",
      "193:\tlearn: 0.3041060\ttotal: 1.21s\tremaining: 5.04s\n",
      "194:\tlearn: 0.3035682\ttotal: 1.22s\tremaining: 5.03s\n",
      "195:\tlearn: 0.3029876\ttotal: 1.23s\tremaining: 5.03s\n",
      "196:\tlearn: 0.3024518\ttotal: 1.23s\tremaining: 5.02s\n",
      "197:\tlearn: 0.3019328\ttotal: 1.24s\tremaining: 5.01s\n",
      "198:\tlearn: 0.3014516\ttotal: 1.24s\tremaining: 5.01s\n",
      "199:\tlearn: 0.3009635\ttotal: 1.25s\tremaining: 5s\n",
      "200:\tlearn: 0.3005738\ttotal: 1.25s\tremaining: 4.99s\n",
      "201:\tlearn: 0.2999762\ttotal: 1.26s\tremaining: 4.98s\n",
      "202:\tlearn: 0.2992804\ttotal: 1.27s\tremaining: 4.97s\n",
      "203:\tlearn: 0.2987435\ttotal: 1.27s\tremaining: 4.97s\n",
      "204:\tlearn: 0.2983213\ttotal: 1.28s\tremaining: 4.96s\n",
      "205:\tlearn: 0.2978143\ttotal: 1.28s\tremaining: 4.95s\n",
      "206:\tlearn: 0.2972732\ttotal: 1.29s\tremaining: 4.94s\n",
      "207:\tlearn: 0.2965825\ttotal: 1.29s\tremaining: 4.93s\n",
      "208:\tlearn: 0.2958452\ttotal: 1.3s\tremaining: 4.93s\n",
      "209:\tlearn: 0.2951141\ttotal: 1.31s\tremaining: 4.92s\n",
      "210:\tlearn: 0.2944443\ttotal: 1.31s\tremaining: 4.91s\n",
      "211:\tlearn: 0.2937222\ttotal: 1.32s\tremaining: 4.91s\n",
      "212:\tlearn: 0.2931485\ttotal: 1.32s\tremaining: 4.9s\n",
      "213:\tlearn: 0.2925426\ttotal: 1.33s\tremaining: 4.89s\n",
      "214:\tlearn: 0.2918494\ttotal: 1.34s\tremaining: 4.88s\n",
      "215:\tlearn: 0.2912066\ttotal: 1.34s\tremaining: 4.88s\n",
      "216:\tlearn: 0.2906770\ttotal: 1.35s\tremaining: 4.87s\n",
      "217:\tlearn: 0.2901471\ttotal: 1.35s\tremaining: 4.86s\n",
      "218:\tlearn: 0.2896041\ttotal: 1.36s\tremaining: 4.86s\n",
      "219:\tlearn: 0.2890766\ttotal: 1.37s\tremaining: 4.85s\n",
      "220:\tlearn: 0.2884940\ttotal: 1.37s\tremaining: 4.84s\n",
      "221:\tlearn: 0.2877261\ttotal: 1.38s\tremaining: 4.84s\n",
      "222:\tlearn: 0.2872199\ttotal: 1.39s\tremaining: 4.83s\n",
      "223:\tlearn: 0.2865149\ttotal: 1.39s\tremaining: 4.82s\n",
      "224:\tlearn: 0.2857590\ttotal: 1.4s\tremaining: 4.82s\n",
      "225:\tlearn: 0.2853199\ttotal: 1.41s\tremaining: 4.81s\n",
      "226:\tlearn: 0.2847255\ttotal: 1.41s\tremaining: 4.81s\n",
      "227:\tlearn: 0.2843014\ttotal: 1.42s\tremaining: 4.8s\n",
      "228:\tlearn: 0.2837222\ttotal: 1.42s\tremaining: 4.79s\n",
      "229:\tlearn: 0.2830614\ttotal: 1.43s\tremaining: 4.79s\n",
      "230:\tlearn: 0.2823464\ttotal: 1.44s\tremaining: 4.78s\n",
      "231:\tlearn: 0.2818657\ttotal: 1.44s\tremaining: 4.78s\n",
      "232:\tlearn: 0.2810506\ttotal: 1.45s\tremaining: 4.77s\n",
      "233:\tlearn: 0.2803665\ttotal: 1.45s\tremaining: 4.76s\n",
      "234:\tlearn: 0.2799152\ttotal: 1.46s\tremaining: 4.75s\n",
      "235:\tlearn: 0.2794275\ttotal: 1.47s\tremaining: 4.75s\n",
      "236:\tlearn: 0.2788260\ttotal: 1.47s\tremaining: 4.74s\n",
      "237:\tlearn: 0.2783662\ttotal: 1.48s\tremaining: 4.73s\n",
      "238:\tlearn: 0.2778286\ttotal: 1.48s\tremaining: 4.72s\n",
      "239:\tlearn: 0.2773623\ttotal: 1.49s\tremaining: 4.72s\n",
      "240:\tlearn: 0.2766697\ttotal: 1.5s\tremaining: 4.71s\n",
      "241:\tlearn: 0.2759221\ttotal: 1.5s\tremaining: 4.7s\n",
      "242:\tlearn: 0.2754221\ttotal: 1.51s\tremaining: 4.7s\n",
      "243:\tlearn: 0.2750783\ttotal: 1.51s\tremaining: 4.69s\n",
      "244:\tlearn: 0.2746563\ttotal: 1.52s\tremaining: 4.68s\n",
      "245:\tlearn: 0.2739481\ttotal: 1.53s\tremaining: 4.68s\n",
      "246:\tlearn: 0.2735095\ttotal: 1.53s\tremaining: 4.67s\n",
      "247:\tlearn: 0.2730797\ttotal: 1.54s\tremaining: 4.67s\n",
      "248:\tlearn: 0.2725685\ttotal: 1.54s\tremaining: 4.66s\n",
      "249:\tlearn: 0.2719603\ttotal: 1.55s\tremaining: 4.65s\n",
      "250:\tlearn: 0.2713814\ttotal: 1.56s\tremaining: 4.65s\n",
      "251:\tlearn: 0.2709680\ttotal: 1.56s\tremaining: 4.64s\n",
      "252:\tlearn: 0.2704450\ttotal: 1.57s\tremaining: 4.63s\n",
      "253:\tlearn: 0.2698784\ttotal: 1.58s\tremaining: 4.63s\n",
      "254:\tlearn: 0.2693214\ttotal: 1.58s\tremaining: 4.62s\n",
      "255:\tlearn: 0.2687127\ttotal: 1.59s\tremaining: 4.62s\n",
      "256:\tlearn: 0.2679924\ttotal: 1.59s\tremaining: 4.61s\n",
      "257:\tlearn: 0.2676569\ttotal: 1.6s\tremaining: 4.61s\n",
      "258:\tlearn: 0.2672560\ttotal: 1.61s\tremaining: 4.6s\n",
      "259:\tlearn: 0.2667970\ttotal: 1.61s\tremaining: 4.59s\n",
      "260:\tlearn: 0.2663404\ttotal: 1.62s\tremaining: 4.59s\n",
      "261:\tlearn: 0.2659577\ttotal: 1.63s\tremaining: 4.58s\n",
      "262:\tlearn: 0.2653967\ttotal: 1.63s\tremaining: 4.58s\n",
      "263:\tlearn: 0.2649205\ttotal: 1.64s\tremaining: 4.57s\n",
      "264:\tlearn: 0.2643784\ttotal: 1.65s\tremaining: 4.56s\n",
      "265:\tlearn: 0.2639061\ttotal: 1.65s\tremaining: 4.56s\n",
      "266:\tlearn: 0.2632206\ttotal: 1.66s\tremaining: 4.55s\n",
      "267:\tlearn: 0.2625824\ttotal: 1.66s\tremaining: 4.54s\n",
      "268:\tlearn: 0.2618581\ttotal: 1.67s\tremaining: 4.54s\n",
      "269:\tlearn: 0.2611766\ttotal: 1.67s\tremaining: 4.53s\n",
      "270:\tlearn: 0.2607162\ttotal: 1.68s\tremaining: 4.52s\n",
      "271:\tlearn: 0.2601318\ttotal: 1.69s\tremaining: 4.51s\n",
      "272:\tlearn: 0.2598118\ttotal: 1.69s\tremaining: 4.51s\n",
      "273:\tlearn: 0.2592336\ttotal: 1.7s\tremaining: 4.5s\n",
      "274:\tlearn: 0.2587072\ttotal: 1.7s\tremaining: 4.49s\n",
      "275:\tlearn: 0.2583239\ttotal: 1.71s\tremaining: 4.49s\n",
      "276:\tlearn: 0.2577575\ttotal: 1.72s\tremaining: 4.48s\n",
      "277:\tlearn: 0.2572164\ttotal: 1.72s\tremaining: 4.47s\n",
      "278:\tlearn: 0.2568384\ttotal: 1.73s\tremaining: 4.46s\n",
      "279:\tlearn: 0.2560870\ttotal: 1.73s\tremaining: 4.46s\n",
      "280:\tlearn: 0.2555022\ttotal: 1.74s\tremaining: 4.45s\n",
      "281:\tlearn: 0.2549342\ttotal: 1.75s\tremaining: 4.44s\n",
      "282:\tlearn: 0.2544441\ttotal: 1.75s\tremaining: 4.44s\n",
      "283:\tlearn: 0.2538270\ttotal: 1.76s\tremaining: 4.43s\n",
      "284:\tlearn: 0.2531300\ttotal: 1.76s\tremaining: 4.42s\n",
      "285:\tlearn: 0.2527557\ttotal: 1.77s\tremaining: 4.42s\n",
      "286:\tlearn: 0.2524000\ttotal: 1.77s\tremaining: 4.41s\n",
      "287:\tlearn: 0.2518136\ttotal: 1.78s\tremaining: 4.4s\n",
      "288:\tlearn: 0.2513466\ttotal: 1.79s\tremaining: 4.39s\n",
      "289:\tlearn: 0.2509800\ttotal: 1.79s\tremaining: 4.39s\n",
      "290:\tlearn: 0.2505430\ttotal: 1.8s\tremaining: 4.38s\n",
      "291:\tlearn: 0.2499527\ttotal: 1.8s\tremaining: 4.38s\n",
      "292:\tlearn: 0.2495816\ttotal: 1.81s\tremaining: 4.37s\n",
      "293:\tlearn: 0.2490638\ttotal: 1.82s\tremaining: 4.37s\n",
      "294:\tlearn: 0.2486394\ttotal: 1.82s\tremaining: 4.36s\n",
      "295:\tlearn: 0.2483516\ttotal: 1.83s\tremaining: 4.35s\n",
      "296:\tlearn: 0.2478561\ttotal: 1.84s\tremaining: 4.35s\n",
      "297:\tlearn: 0.2474795\ttotal: 1.84s\tremaining: 4.34s\n",
      "298:\tlearn: 0.2468632\ttotal: 1.85s\tremaining: 4.34s\n",
      "299:\tlearn: 0.2466090\ttotal: 1.86s\tremaining: 4.33s\n",
      "300:\tlearn: 0.2461497\ttotal: 1.86s\tremaining: 4.33s\n",
      "301:\tlearn: 0.2457724\ttotal: 1.87s\tremaining: 4.32s\n",
      "302:\tlearn: 0.2452432\ttotal: 1.88s\tremaining: 4.32s\n",
      "303:\tlearn: 0.2448318\ttotal: 1.88s\tremaining: 4.31s\n",
      "304:\tlearn: 0.2444775\ttotal: 1.89s\tremaining: 4.3s\n",
      "305:\tlearn: 0.2439975\ttotal: 1.9s\tremaining: 4.3s\n",
      "306:\tlearn: 0.2434584\ttotal: 1.9s\tremaining: 4.29s\n",
      "307:\tlearn: 0.2431733\ttotal: 1.91s\tremaining: 4.29s\n",
      "308:\tlearn: 0.2426920\ttotal: 1.91s\tremaining: 4.28s\n",
      "309:\tlearn: 0.2422473\ttotal: 1.92s\tremaining: 4.28s\n",
      "310:\tlearn: 0.2417161\ttotal: 1.93s\tremaining: 4.27s\n",
      "311:\tlearn: 0.2412170\ttotal: 1.93s\tremaining: 4.26s\n",
      "312:\tlearn: 0.2407795\ttotal: 1.94s\tremaining: 4.26s\n",
      "313:\tlearn: 0.2403852\ttotal: 1.95s\tremaining: 4.25s\n",
      "314:\tlearn: 0.2397123\ttotal: 1.95s\tremaining: 4.24s\n",
      "315:\tlearn: 0.2392492\ttotal: 1.96s\tremaining: 4.24s\n",
      "316:\tlearn: 0.2386275\ttotal: 1.96s\tremaining: 4.23s\n",
      "317:\tlearn: 0.2380782\ttotal: 1.97s\tremaining: 4.22s\n",
      "318:\tlearn: 0.2377625\ttotal: 1.98s\tremaining: 4.22s\n",
      "319:\tlearn: 0.2372328\ttotal: 1.98s\tremaining: 4.21s\n",
      "320:\tlearn: 0.2365573\ttotal: 1.99s\tremaining: 4.21s\n",
      "321:\tlearn: 0.2361854\ttotal: 2s\tremaining: 4.2s\n",
      "322:\tlearn: 0.2356842\ttotal: 2s\tremaining: 4.2s\n",
      "323:\tlearn: 0.2349530\ttotal: 2.01s\tremaining: 4.19s\n",
      "324:\tlearn: 0.2344777\ttotal: 2.01s\tremaining: 4.18s\n",
      "325:\tlearn: 0.2340339\ttotal: 2.02s\tremaining: 4.17s\n",
      "326:\tlearn: 0.2338436\ttotal: 2.02s\tremaining: 4.17s\n",
      "327:\tlearn: 0.2333121\ttotal: 2.03s\tremaining: 4.16s\n",
      "328:\tlearn: 0.2328505\ttotal: 2.04s\tremaining: 4.15s\n",
      "329:\tlearn: 0.2325342\ttotal: 2.04s\tremaining: 4.15s\n",
      "330:\tlearn: 0.2321125\ttotal: 2.05s\tremaining: 4.14s\n",
      "331:\tlearn: 0.2318725\ttotal: 2.05s\tremaining: 4.13s\n",
      "332:\tlearn: 0.2313336\ttotal: 2.06s\tremaining: 4.13s\n",
      "333:\tlearn: 0.2307912\ttotal: 2.07s\tremaining: 4.12s\n",
      "334:\tlearn: 0.2304075\ttotal: 2.07s\tremaining: 4.12s\n",
      "335:\tlearn: 0.2296650\ttotal: 2.08s\tremaining: 4.11s\n",
      "336:\tlearn: 0.2292297\ttotal: 2.09s\tremaining: 4.11s\n",
      "337:\tlearn: 0.2289182\ttotal: 2.09s\tremaining: 4.1s\n",
      "338:\tlearn: 0.2284864\ttotal: 2.1s\tremaining: 4.09s\n",
      "339:\tlearn: 0.2282199\ttotal: 2.11s\tremaining: 4.09s\n",
      "340:\tlearn: 0.2278645\ttotal: 2.11s\tremaining: 4.08s\n",
      "341:\tlearn: 0.2274785\ttotal: 2.12s\tremaining: 4.08s\n",
      "342:\tlearn: 0.2271992\ttotal: 2.13s\tremaining: 4.07s\n",
      "343:\tlearn: 0.2269449\ttotal: 2.13s\tremaining: 4.06s\n",
      "344:\tlearn: 0.2265497\ttotal: 2.14s\tremaining: 4.06s\n",
      "345:\tlearn: 0.2261863\ttotal: 2.14s\tremaining: 4.05s\n",
      "346:\tlearn: 0.2258732\ttotal: 2.15s\tremaining: 4.05s\n",
      "347:\tlearn: 0.2254936\ttotal: 2.16s\tremaining: 4.04s\n",
      "348:\tlearn: 0.2252407\ttotal: 2.16s\tremaining: 4.04s\n",
      "349:\tlearn: 0.2250491\ttotal: 2.17s\tremaining: 4.03s\n",
      "350:\tlearn: 0.2246245\ttotal: 2.18s\tremaining: 4.02s\n",
      "351:\tlearn: 0.2241935\ttotal: 2.18s\tremaining: 4.02s\n",
      "352:\tlearn: 0.2237436\ttotal: 2.19s\tremaining: 4.01s\n",
      "353:\tlearn: 0.2232104\ttotal: 2.19s\tremaining: 4.01s\n",
      "354:\tlearn: 0.2229177\ttotal: 2.2s\tremaining: 4s\n",
      "355:\tlearn: 0.2225894\ttotal: 2.21s\tremaining: 3.99s\n",
      "356:\tlearn: 0.2222405\ttotal: 2.21s\tremaining: 3.99s\n",
      "357:\tlearn: 0.2218287\ttotal: 2.22s\tremaining: 3.98s\n",
      "358:\tlearn: 0.2214973\ttotal: 2.23s\tremaining: 3.98s\n",
      "359:\tlearn: 0.2210952\ttotal: 2.23s\tremaining: 3.97s\n",
      "360:\tlearn: 0.2205612\ttotal: 2.24s\tremaining: 3.96s\n",
      "361:\tlearn: 0.2201935\ttotal: 2.25s\tremaining: 3.96s\n",
      "362:\tlearn: 0.2197977\ttotal: 2.25s\tremaining: 3.95s\n",
      "363:\tlearn: 0.2193465\ttotal: 2.26s\tremaining: 3.94s\n",
      "364:\tlearn: 0.2188089\ttotal: 2.26s\tremaining: 3.94s\n",
      "365:\tlearn: 0.2183923\ttotal: 2.27s\tremaining: 3.93s\n",
      "366:\tlearn: 0.2176529\ttotal: 2.28s\tremaining: 3.93s\n",
      "367:\tlearn: 0.2173394\ttotal: 2.28s\tremaining: 3.92s\n",
      "368:\tlearn: 0.2170303\ttotal: 2.29s\tremaining: 3.91s\n",
      "369:\tlearn: 0.2166744\ttotal: 2.29s\tremaining: 3.9s\n",
      "370:\tlearn: 0.2163033\ttotal: 2.3s\tremaining: 3.9s\n",
      "371:\tlearn: 0.2159566\ttotal: 2.3s\tremaining: 3.89s\n",
      "372:\tlearn: 0.2156625\ttotal: 2.31s\tremaining: 3.88s\n",
      "373:\tlearn: 0.2153605\ttotal: 2.32s\tremaining: 3.88s\n",
      "374:\tlearn: 0.2149902\ttotal: 2.32s\tremaining: 3.87s\n",
      "375:\tlearn: 0.2145473\ttotal: 2.33s\tremaining: 3.86s\n",
      "376:\tlearn: 0.2139263\ttotal: 2.33s\tremaining: 3.86s\n",
      "377:\tlearn: 0.2135059\ttotal: 2.34s\tremaining: 3.85s\n",
      "378:\tlearn: 0.2131833\ttotal: 2.35s\tremaining: 3.84s\n",
      "379:\tlearn: 0.2128120\ttotal: 2.35s\tremaining: 3.84s\n",
      "380:\tlearn: 0.2124309\ttotal: 2.36s\tremaining: 3.83s\n",
      "381:\tlearn: 0.2120760\ttotal: 2.37s\tremaining: 3.83s\n",
      "382:\tlearn: 0.2117718\ttotal: 2.37s\tremaining: 3.82s\n",
      "383:\tlearn: 0.2116206\ttotal: 2.38s\tremaining: 3.81s\n",
      "384:\tlearn: 0.2112848\ttotal: 2.38s\tremaining: 3.81s\n",
      "385:\tlearn: 0.2110181\ttotal: 2.39s\tremaining: 3.8s\n",
      "386:\tlearn: 0.2106769\ttotal: 2.39s\tremaining: 3.79s\n",
      "387:\tlearn: 0.2101764\ttotal: 2.4s\tremaining: 3.79s\n",
      "388:\tlearn: 0.2099711\ttotal: 2.4s\tremaining: 3.78s\n",
      "389:\tlearn: 0.2095794\ttotal: 2.41s\tremaining: 3.77s\n",
      "390:\tlearn: 0.2092832\ttotal: 2.42s\tremaining: 3.76s\n",
      "391:\tlearn: 0.2090003\ttotal: 2.42s\tremaining: 3.76s\n",
      "392:\tlearn: 0.2087233\ttotal: 2.43s\tremaining: 3.75s\n",
      "393:\tlearn: 0.2083903\ttotal: 2.43s\tremaining: 3.74s\n",
      "394:\tlearn: 0.2080720\ttotal: 2.44s\tremaining: 3.74s\n",
      "395:\tlearn: 0.2076614\ttotal: 2.44s\tremaining: 3.73s\n",
      "396:\tlearn: 0.2072863\ttotal: 2.45s\tremaining: 3.72s\n",
      "397:\tlearn: 0.2070226\ttotal: 2.46s\tremaining: 3.71s\n",
      "398:\tlearn: 0.2065011\ttotal: 2.46s\tremaining: 3.71s\n",
      "399:\tlearn: 0.2058780\ttotal: 2.47s\tremaining: 3.7s\n",
      "400:\tlearn: 0.2055901\ttotal: 2.47s\tremaining: 3.69s\n",
      "401:\tlearn: 0.2052212\ttotal: 2.48s\tremaining: 3.69s\n",
      "402:\tlearn: 0.2049765\ttotal: 2.48s\tremaining: 3.68s\n",
      "403:\tlearn: 0.2045828\ttotal: 2.49s\tremaining: 3.67s\n",
      "404:\tlearn: 0.2043277\ttotal: 2.5s\tremaining: 3.67s\n",
      "405:\tlearn: 0.2039333\ttotal: 2.5s\tremaining: 3.66s\n",
      "406:\tlearn: 0.2036488\ttotal: 2.51s\tremaining: 3.66s\n",
      "407:\tlearn: 0.2034676\ttotal: 2.52s\tremaining: 3.65s\n",
      "408:\tlearn: 0.2031900\ttotal: 2.52s\tremaining: 3.64s\n",
      "409:\tlearn: 0.2028508\ttotal: 2.53s\tremaining: 3.64s\n",
      "410:\tlearn: 0.2025382\ttotal: 2.53s\tremaining: 3.63s\n",
      "411:\tlearn: 0.2021129\ttotal: 2.54s\tremaining: 3.63s\n",
      "412:\tlearn: 0.2018390\ttotal: 2.55s\tremaining: 3.62s\n",
      "413:\tlearn: 0.2014781\ttotal: 2.55s\tremaining: 3.61s\n",
      "414:\tlearn: 0.2010745\ttotal: 2.56s\tremaining: 3.61s\n",
      "415:\tlearn: 0.2007847\ttotal: 2.56s\tremaining: 3.6s\n",
      "416:\tlearn: 0.2005931\ttotal: 2.57s\tremaining: 3.59s\n",
      "417:\tlearn: 0.2003038\ttotal: 2.58s\tremaining: 3.59s\n",
      "418:\tlearn: 0.2000339\ttotal: 2.58s\tremaining: 3.58s\n",
      "419:\tlearn: 0.1998668\ttotal: 2.59s\tremaining: 3.57s\n",
      "420:\tlearn: 0.1994718\ttotal: 2.59s\tremaining: 3.57s\n",
      "421:\tlearn: 0.1992273\ttotal: 2.6s\tremaining: 3.56s\n",
      "422:\tlearn: 0.1989370\ttotal: 2.6s\tremaining: 3.55s\n",
      "423:\tlearn: 0.1986263\ttotal: 2.61s\tremaining: 3.55s\n",
      "424:\tlearn: 0.1983106\ttotal: 2.62s\tremaining: 3.54s\n",
      "425:\tlearn: 0.1981517\ttotal: 2.62s\tremaining: 3.53s\n",
      "426:\tlearn: 0.1978112\ttotal: 2.63s\tremaining: 3.53s\n",
      "427:\tlearn: 0.1975768\ttotal: 2.63s\tremaining: 3.52s\n",
      "428:\tlearn: 0.1972178\ttotal: 2.64s\tremaining: 3.51s\n",
      "429:\tlearn: 0.1969714\ttotal: 2.65s\tremaining: 3.51s\n",
      "430:\tlearn: 0.1966619\ttotal: 2.65s\tremaining: 3.5s\n",
      "431:\tlearn: 0.1963671\ttotal: 2.66s\tremaining: 3.49s\n",
      "432:\tlearn: 0.1960079\ttotal: 2.66s\tremaining: 3.49s\n",
      "433:\tlearn: 0.1955575\ttotal: 2.67s\tremaining: 3.48s\n",
      "434:\tlearn: 0.1952443\ttotal: 2.67s\tremaining: 3.47s\n",
      "435:\tlearn: 0.1948474\ttotal: 2.68s\tremaining: 3.47s\n",
      "436:\tlearn: 0.1943778\ttotal: 2.69s\tremaining: 3.46s\n",
      "437:\tlearn: 0.1940957\ttotal: 2.69s\tremaining: 3.45s\n",
      "438:\tlearn: 0.1937176\ttotal: 2.7s\tremaining: 3.45s\n",
      "439:\tlearn: 0.1934421\ttotal: 2.7s\tremaining: 3.44s\n",
      "440:\tlearn: 0.1932274\ttotal: 2.71s\tremaining: 3.44s\n",
      "441:\tlearn: 0.1930124\ttotal: 2.72s\tremaining: 3.43s\n",
      "442:\tlearn: 0.1928076\ttotal: 2.72s\tremaining: 3.42s\n",
      "443:\tlearn: 0.1925839\ttotal: 2.73s\tremaining: 3.42s\n",
      "444:\tlearn: 0.1922282\ttotal: 2.73s\tremaining: 3.41s\n",
      "445:\tlearn: 0.1916139\ttotal: 2.74s\tremaining: 3.4s\n",
      "446:\tlearn: 0.1913408\ttotal: 2.75s\tremaining: 3.4s\n",
      "447:\tlearn: 0.1910582\ttotal: 2.75s\tremaining: 3.39s\n",
      "448:\tlearn: 0.1906345\ttotal: 2.76s\tremaining: 3.39s\n",
      "449:\tlearn: 0.1902782\ttotal: 2.77s\tremaining: 3.38s\n",
      "450:\tlearn: 0.1899249\ttotal: 2.77s\tremaining: 3.38s\n",
      "451:\tlearn: 0.1894830\ttotal: 2.78s\tremaining: 3.37s\n",
      "452:\tlearn: 0.1891021\ttotal: 2.79s\tremaining: 3.37s\n",
      "453:\tlearn: 0.1888024\ttotal: 2.79s\tremaining: 3.36s\n",
      "454:\tlearn: 0.1883506\ttotal: 2.8s\tremaining: 3.35s\n",
      "455:\tlearn: 0.1881616\ttotal: 2.81s\tremaining: 3.35s\n",
      "456:\tlearn: 0.1877715\ttotal: 2.81s\tremaining: 3.34s\n",
      "457:\tlearn: 0.1874286\ttotal: 2.82s\tremaining: 3.33s\n",
      "458:\tlearn: 0.1870809\ttotal: 2.82s\tremaining: 3.33s\n",
      "459:\tlearn: 0.1865876\ttotal: 2.83s\tremaining: 3.32s\n",
      "460:\tlearn: 0.1864049\ttotal: 2.83s\tremaining: 3.31s\n",
      "461:\tlearn: 0.1859484\ttotal: 2.84s\tremaining: 3.31s\n",
      "462:\tlearn: 0.1856379\ttotal: 2.85s\tremaining: 3.3s\n",
      "463:\tlearn: 0.1854254\ttotal: 2.85s\tremaining: 3.29s\n",
      "464:\tlearn: 0.1850339\ttotal: 2.86s\tremaining: 3.29s\n",
      "465:\tlearn: 0.1846272\ttotal: 2.86s\tremaining: 3.28s\n",
      "466:\tlearn: 0.1844189\ttotal: 2.87s\tremaining: 3.27s\n",
      "467:\tlearn: 0.1841071\ttotal: 2.88s\tremaining: 3.27s\n",
      "468:\tlearn: 0.1838742\ttotal: 2.88s\tremaining: 3.27s\n",
      "469:\tlearn: 0.1835005\ttotal: 2.89s\tremaining: 3.26s\n",
      "470:\tlearn: 0.1831390\ttotal: 2.9s\tremaining: 3.25s\n",
      "471:\tlearn: 0.1828448\ttotal: 2.9s\tremaining: 3.25s\n",
      "472:\tlearn: 0.1825946\ttotal: 2.91s\tremaining: 3.24s\n",
      "473:\tlearn: 0.1822971\ttotal: 2.92s\tremaining: 3.24s\n",
      "474:\tlearn: 0.1819545\ttotal: 2.92s\tremaining: 3.23s\n",
      "475:\tlearn: 0.1816681\ttotal: 2.93s\tremaining: 3.23s\n",
      "476:\tlearn: 0.1811685\ttotal: 2.94s\tremaining: 3.22s\n",
      "477:\tlearn: 0.1807558\ttotal: 2.94s\tremaining: 3.21s\n",
      "478:\tlearn: 0.1805174\ttotal: 2.95s\tremaining: 3.21s\n",
      "479:\tlearn: 0.1799716\ttotal: 2.96s\tremaining: 3.2s\n",
      "480:\tlearn: 0.1796612\ttotal: 2.96s\tremaining: 3.2s\n",
      "481:\tlearn: 0.1795299\ttotal: 2.97s\tremaining: 3.19s\n",
      "482:\tlearn: 0.1791442\ttotal: 2.98s\tremaining: 3.19s\n",
      "483:\tlearn: 0.1788271\ttotal: 2.98s\tremaining: 3.18s\n",
      "484:\tlearn: 0.1785831\ttotal: 2.99s\tremaining: 3.17s\n",
      "485:\tlearn: 0.1782240\ttotal: 3s\tremaining: 3.17s\n",
      "486:\tlearn: 0.1780267\ttotal: 3s\tremaining: 3.16s\n",
      "487:\tlearn: 0.1778679\ttotal: 3.01s\tremaining: 3.16s\n",
      "488:\tlearn: 0.1776463\ttotal: 3.02s\tremaining: 3.15s\n",
      "489:\tlearn: 0.1771860\ttotal: 3.02s\tremaining: 3.15s\n",
      "490:\tlearn: 0.1770400\ttotal: 3.03s\tremaining: 3.14s\n",
      "491:\tlearn: 0.1766656\ttotal: 3.04s\tremaining: 3.13s\n",
      "492:\tlearn: 0.1763821\ttotal: 3.04s\tremaining: 3.13s\n",
      "493:\tlearn: 0.1759636\ttotal: 3.05s\tremaining: 3.12s\n",
      "494:\tlearn: 0.1755332\ttotal: 3.06s\tremaining: 3.12s\n",
      "495:\tlearn: 0.1752044\ttotal: 3.06s\tremaining: 3.11s\n",
      "496:\tlearn: 0.1750797\ttotal: 3.07s\tremaining: 3.11s\n",
      "497:\tlearn: 0.1747736\ttotal: 3.08s\tremaining: 3.1s\n",
      "498:\tlearn: 0.1744388\ttotal: 3.08s\tremaining: 3.09s\n",
      "499:\tlearn: 0.1740964\ttotal: 3.09s\tremaining: 3.09s\n",
      "500:\tlearn: 0.1737469\ttotal: 3.09s\tremaining: 3.08s\n",
      "501:\tlearn: 0.1732694\ttotal: 3.1s\tremaining: 3.08s\n",
      "502:\tlearn: 0.1730398\ttotal: 3.11s\tremaining: 3.07s\n",
      "503:\tlearn: 0.1726502\ttotal: 3.11s\tremaining: 3.06s\n",
      "504:\tlearn: 0.1723786\ttotal: 3.12s\tremaining: 3.06s\n",
      "505:\tlearn: 0.1721203\ttotal: 3.13s\tremaining: 3.05s\n",
      "506:\tlearn: 0.1717607\ttotal: 3.13s\tremaining: 3.04s\n",
      "507:\tlearn: 0.1715885\ttotal: 3.14s\tremaining: 3.04s\n",
      "508:\tlearn: 0.1712021\ttotal: 3.14s\tremaining: 3.03s\n",
      "509:\tlearn: 0.1709713\ttotal: 3.15s\tremaining: 3.03s\n",
      "510:\tlearn: 0.1706403\ttotal: 3.16s\tremaining: 3.02s\n",
      "511:\tlearn: 0.1704344\ttotal: 3.16s\tremaining: 3.01s\n",
      "512:\tlearn: 0.1702282\ttotal: 3.17s\tremaining: 3.01s\n",
      "513:\tlearn: 0.1698385\ttotal: 3.18s\tremaining: 3s\n",
      "514:\tlearn: 0.1695338\ttotal: 3.18s\tremaining: 3s\n",
      "515:\tlearn: 0.1691866\ttotal: 3.19s\tremaining: 2.99s\n",
      "516:\tlearn: 0.1690307\ttotal: 3.2s\tremaining: 2.99s\n",
      "517:\tlearn: 0.1688508\ttotal: 3.2s\tremaining: 2.98s\n",
      "518:\tlearn: 0.1686198\ttotal: 3.21s\tremaining: 2.97s\n",
      "519:\tlearn: 0.1683760\ttotal: 3.21s\tremaining: 2.97s\n",
      "520:\tlearn: 0.1681022\ttotal: 3.22s\tremaining: 2.96s\n",
      "521:\tlearn: 0.1677938\ttotal: 3.23s\tremaining: 2.96s\n",
      "522:\tlearn: 0.1673531\ttotal: 3.23s\tremaining: 2.95s\n",
      "523:\tlearn: 0.1670624\ttotal: 3.24s\tremaining: 2.94s\n",
      "524:\tlearn: 0.1668024\ttotal: 3.25s\tremaining: 2.94s\n",
      "525:\tlearn: 0.1665210\ttotal: 3.25s\tremaining: 2.93s\n",
      "526:\tlearn: 0.1662255\ttotal: 3.26s\tremaining: 2.93s\n",
      "527:\tlearn: 0.1659765\ttotal: 3.27s\tremaining: 2.92s\n",
      "528:\tlearn: 0.1656385\ttotal: 3.27s\tremaining: 2.91s\n",
      "529:\tlearn: 0.1654580\ttotal: 3.28s\tremaining: 2.91s\n",
      "530:\tlearn: 0.1651209\ttotal: 3.29s\tremaining: 2.9s\n",
      "531:\tlearn: 0.1647960\ttotal: 3.3s\tremaining: 2.9s\n",
      "532:\tlearn: 0.1644234\ttotal: 3.31s\tremaining: 2.9s\n",
      "533:\tlearn: 0.1641660\ttotal: 3.32s\tremaining: 2.9s\n",
      "534:\tlearn: 0.1639009\ttotal: 3.32s\tremaining: 2.89s\n",
      "535:\tlearn: 0.1636364\ttotal: 3.33s\tremaining: 2.88s\n",
      "536:\tlearn: 0.1634288\ttotal: 3.34s\tremaining: 2.88s\n",
      "537:\tlearn: 0.1631659\ttotal: 3.34s\tremaining: 2.87s\n",
      "538:\tlearn: 0.1629075\ttotal: 3.35s\tremaining: 2.86s\n",
      "539:\tlearn: 0.1627520\ttotal: 3.35s\tremaining: 2.86s\n",
      "540:\tlearn: 0.1623925\ttotal: 3.36s\tremaining: 2.85s\n",
      "541:\tlearn: 0.1622338\ttotal: 3.37s\tremaining: 2.84s\n",
      "542:\tlearn: 0.1618677\ttotal: 3.37s\tremaining: 2.84s\n",
      "543:\tlearn: 0.1616623\ttotal: 3.38s\tremaining: 2.83s\n",
      "544:\tlearn: 0.1615084\ttotal: 3.38s\tremaining: 2.83s\n",
      "545:\tlearn: 0.1613389\ttotal: 3.39s\tremaining: 2.82s\n",
      "546:\tlearn: 0.1610460\ttotal: 3.4s\tremaining: 2.81s\n",
      "547:\tlearn: 0.1606416\ttotal: 3.4s\tremaining: 2.81s\n",
      "548:\tlearn: 0.1603473\ttotal: 3.41s\tremaining: 2.8s\n",
      "549:\tlearn: 0.1600900\ttotal: 3.41s\tremaining: 2.79s\n",
      "550:\tlearn: 0.1597550\ttotal: 3.42s\tremaining: 2.79s\n",
      "551:\tlearn: 0.1594279\ttotal: 3.43s\tremaining: 2.78s\n",
      "552:\tlearn: 0.1591077\ttotal: 3.43s\tremaining: 2.77s\n",
      "553:\tlearn: 0.1587307\ttotal: 3.44s\tremaining: 2.77s\n",
      "554:\tlearn: 0.1584738\ttotal: 3.44s\tremaining: 2.76s\n",
      "555:\tlearn: 0.1581837\ttotal: 3.45s\tremaining: 2.76s\n",
      "556:\tlearn: 0.1577461\ttotal: 3.46s\tremaining: 2.75s\n",
      "557:\tlearn: 0.1573516\ttotal: 3.46s\tremaining: 2.74s\n",
      "558:\tlearn: 0.1571791\ttotal: 3.47s\tremaining: 2.74s\n",
      "559:\tlearn: 0.1569659\ttotal: 3.48s\tremaining: 2.73s\n",
      "560:\tlearn: 0.1566601\ttotal: 3.48s\tremaining: 2.73s\n",
      "561:\tlearn: 0.1563489\ttotal: 3.49s\tremaining: 2.72s\n",
      "562:\tlearn: 0.1561319\ttotal: 3.49s\tremaining: 2.71s\n",
      "563:\tlearn: 0.1557428\ttotal: 3.5s\tremaining: 2.71s\n",
      "564:\tlearn: 0.1554277\ttotal: 3.51s\tremaining: 2.7s\n",
      "565:\tlearn: 0.1552296\ttotal: 3.51s\tremaining: 2.69s\n",
      "566:\tlearn: 0.1550297\ttotal: 3.52s\tremaining: 2.69s\n",
      "567:\tlearn: 0.1548199\ttotal: 3.52s\tremaining: 2.68s\n",
      "568:\tlearn: 0.1544354\ttotal: 3.53s\tremaining: 2.67s\n",
      "569:\tlearn: 0.1541924\ttotal: 3.54s\tremaining: 2.67s\n",
      "570:\tlearn: 0.1538326\ttotal: 3.54s\tremaining: 2.66s\n",
      "571:\tlearn: 0.1536643\ttotal: 3.55s\tremaining: 2.66s\n",
      "572:\tlearn: 0.1533185\ttotal: 3.56s\tremaining: 2.65s\n",
      "573:\tlearn: 0.1530834\ttotal: 3.56s\tremaining: 2.65s\n",
      "574:\tlearn: 0.1528778\ttotal: 3.57s\tremaining: 2.64s\n",
      "575:\tlearn: 0.1526735\ttotal: 3.58s\tremaining: 2.63s\n",
      "576:\tlearn: 0.1523248\ttotal: 3.58s\tremaining: 2.63s\n",
      "577:\tlearn: 0.1520602\ttotal: 3.59s\tremaining: 2.62s\n",
      "578:\tlearn: 0.1518882\ttotal: 3.6s\tremaining: 2.62s\n",
      "579:\tlearn: 0.1517545\ttotal: 3.6s\tremaining: 2.61s\n",
      "580:\tlearn: 0.1515485\ttotal: 3.61s\tremaining: 2.6s\n",
      "581:\tlearn: 0.1512617\ttotal: 3.61s\tremaining: 2.6s\n",
      "582:\tlearn: 0.1508433\ttotal: 3.62s\tremaining: 2.59s\n",
      "583:\tlearn: 0.1505640\ttotal: 3.63s\tremaining: 2.58s\n",
      "584:\tlearn: 0.1504187\ttotal: 3.63s\tremaining: 2.58s\n",
      "585:\tlearn: 0.1501942\ttotal: 3.64s\tremaining: 2.57s\n",
      "586:\tlearn: 0.1500365\ttotal: 3.65s\tremaining: 2.57s\n",
      "587:\tlearn: 0.1498752\ttotal: 3.65s\tremaining: 2.56s\n",
      "588:\tlearn: 0.1495921\ttotal: 3.66s\tremaining: 2.56s\n",
      "589:\tlearn: 0.1493749\ttotal: 3.67s\tremaining: 2.55s\n",
      "590:\tlearn: 0.1491438\ttotal: 3.68s\tremaining: 2.54s\n",
      "591:\tlearn: 0.1488333\ttotal: 3.68s\tremaining: 2.54s\n",
      "592:\tlearn: 0.1485065\ttotal: 3.69s\tremaining: 2.53s\n",
      "593:\tlearn: 0.1481826\ttotal: 3.7s\tremaining: 2.53s\n",
      "594:\tlearn: 0.1479703\ttotal: 3.7s\tremaining: 2.52s\n",
      "595:\tlearn: 0.1477846\ttotal: 3.71s\tremaining: 2.52s\n",
      "596:\tlearn: 0.1475791\ttotal: 3.72s\tremaining: 2.51s\n",
      "597:\tlearn: 0.1474068\ttotal: 3.73s\tremaining: 2.5s\n",
      "598:\tlearn: 0.1471245\ttotal: 3.73s\tremaining: 2.5s\n",
      "599:\tlearn: 0.1469936\ttotal: 3.74s\tremaining: 2.49s\n",
      "600:\tlearn: 0.1466999\ttotal: 3.75s\tremaining: 2.49s\n",
      "601:\tlearn: 0.1464814\ttotal: 3.75s\tremaining: 2.48s\n",
      "602:\tlearn: 0.1462507\ttotal: 3.76s\tremaining: 2.48s\n",
      "603:\tlearn: 0.1461417\ttotal: 3.77s\tremaining: 2.47s\n",
      "604:\tlearn: 0.1459548\ttotal: 3.77s\tremaining: 2.46s\n",
      "605:\tlearn: 0.1456968\ttotal: 3.78s\tremaining: 2.46s\n",
      "606:\tlearn: 0.1454942\ttotal: 3.79s\tremaining: 2.45s\n",
      "607:\tlearn: 0.1453195\ttotal: 3.79s\tremaining: 2.45s\n",
      "608:\tlearn: 0.1451262\ttotal: 3.8s\tremaining: 2.44s\n",
      "609:\tlearn: 0.1448469\ttotal: 3.81s\tremaining: 2.44s\n",
      "610:\tlearn: 0.1446113\ttotal: 3.82s\tremaining: 2.43s\n",
      "611:\tlearn: 0.1442770\ttotal: 3.82s\tremaining: 2.42s\n",
      "612:\tlearn: 0.1439204\ttotal: 3.83s\tremaining: 2.42s\n",
      "613:\tlearn: 0.1436664\ttotal: 3.84s\tremaining: 2.41s\n",
      "614:\tlearn: 0.1433062\ttotal: 3.85s\tremaining: 2.41s\n",
      "615:\tlearn: 0.1431747\ttotal: 3.85s\tremaining: 2.4s\n",
      "616:\tlearn: 0.1428883\ttotal: 3.86s\tremaining: 2.4s\n",
      "617:\tlearn: 0.1427400\ttotal: 3.87s\tremaining: 2.39s\n",
      "618:\tlearn: 0.1425694\ttotal: 3.87s\tremaining: 2.38s\n",
      "619:\tlearn: 0.1422955\ttotal: 3.88s\tremaining: 2.38s\n",
      "620:\tlearn: 0.1422019\ttotal: 3.89s\tremaining: 2.37s\n",
      "621:\tlearn: 0.1419902\ttotal: 3.89s\tremaining: 2.37s\n",
      "622:\tlearn: 0.1418047\ttotal: 3.9s\tremaining: 2.36s\n",
      "623:\tlearn: 0.1415677\ttotal: 3.91s\tremaining: 2.35s\n",
      "624:\tlearn: 0.1414133\ttotal: 3.91s\tremaining: 2.35s\n",
      "625:\tlearn: 0.1412283\ttotal: 3.92s\tremaining: 2.34s\n",
      "626:\tlearn: 0.1409387\ttotal: 3.93s\tremaining: 2.34s\n",
      "627:\tlearn: 0.1408099\ttotal: 3.94s\tremaining: 2.33s\n",
      "628:\tlearn: 0.1405757\ttotal: 3.94s\tremaining: 2.33s\n",
      "629:\tlearn: 0.1404739\ttotal: 3.95s\tremaining: 2.32s\n",
      "630:\tlearn: 0.1402649\ttotal: 3.96s\tremaining: 2.31s\n",
      "631:\tlearn: 0.1399879\ttotal: 3.96s\tremaining: 2.31s\n",
      "632:\tlearn: 0.1398712\ttotal: 3.97s\tremaining: 2.3s\n",
      "633:\tlearn: 0.1396738\ttotal: 3.98s\tremaining: 2.29s\n",
      "634:\tlearn: 0.1394801\ttotal: 3.98s\tremaining: 2.29s\n",
      "635:\tlearn: 0.1393563\ttotal: 3.99s\tremaining: 2.28s\n",
      "636:\tlearn: 0.1391100\ttotal: 4s\tremaining: 2.28s\n",
      "637:\tlearn: 0.1389273\ttotal: 4s\tremaining: 2.27s\n",
      "638:\tlearn: 0.1388476\ttotal: 4.01s\tremaining: 2.27s\n",
      "639:\tlearn: 0.1386445\ttotal: 4.02s\tremaining: 2.26s\n",
      "640:\tlearn: 0.1383963\ttotal: 4.03s\tremaining: 2.25s\n",
      "641:\tlearn: 0.1381512\ttotal: 4.03s\tremaining: 2.25s\n",
      "642:\tlearn: 0.1380017\ttotal: 4.04s\tremaining: 2.24s\n",
      "643:\tlearn: 0.1377030\ttotal: 4.05s\tremaining: 2.24s\n",
      "644:\tlearn: 0.1374592\ttotal: 4.05s\tremaining: 2.23s\n",
      "645:\tlearn: 0.1372243\ttotal: 4.06s\tremaining: 2.23s\n",
      "646:\tlearn: 0.1368788\ttotal: 4.07s\tremaining: 2.22s\n",
      "647:\tlearn: 0.1367881\ttotal: 4.07s\tremaining: 2.21s\n",
      "648:\tlearn: 0.1365837\ttotal: 4.08s\tremaining: 2.21s\n",
      "649:\tlearn: 0.1363158\ttotal: 4.09s\tremaining: 2.2s\n",
      "650:\tlearn: 0.1360832\ttotal: 4.1s\tremaining: 2.19s\n",
      "651:\tlearn: 0.1359054\ttotal: 4.1s\tremaining: 2.19s\n",
      "652:\tlearn: 0.1357260\ttotal: 4.11s\tremaining: 2.18s\n",
      "653:\tlearn: 0.1356715\ttotal: 4.12s\tremaining: 2.18s\n",
      "654:\tlearn: 0.1355416\ttotal: 4.12s\tremaining: 2.17s\n",
      "655:\tlearn: 0.1353107\ttotal: 4.13s\tremaining: 2.17s\n",
      "656:\tlearn: 0.1350624\ttotal: 4.14s\tremaining: 2.16s\n",
      "657:\tlearn: 0.1348972\ttotal: 4.14s\tremaining: 2.15s\n",
      "658:\tlearn: 0.1345829\ttotal: 4.15s\tremaining: 2.15s\n",
      "659:\tlearn: 0.1343455\ttotal: 4.16s\tremaining: 2.14s\n",
      "660:\tlearn: 0.1339854\ttotal: 4.17s\tremaining: 2.14s\n",
      "661:\tlearn: 0.1338577\ttotal: 4.17s\tremaining: 2.13s\n",
      "662:\tlearn: 0.1336395\ttotal: 4.18s\tremaining: 2.13s\n",
      "663:\tlearn: 0.1333991\ttotal: 4.19s\tremaining: 2.12s\n",
      "664:\tlearn: 0.1331327\ttotal: 4.2s\tremaining: 2.11s\n",
      "665:\tlearn: 0.1327869\ttotal: 4.2s\tremaining: 2.11s\n",
      "666:\tlearn: 0.1326572\ttotal: 4.21s\tremaining: 2.1s\n",
      "667:\tlearn: 0.1323881\ttotal: 4.22s\tremaining: 2.1s\n",
      "668:\tlearn: 0.1322026\ttotal: 4.22s\tremaining: 2.09s\n",
      "669:\tlearn: 0.1319498\ttotal: 4.23s\tremaining: 2.08s\n",
      "670:\tlearn: 0.1317646\ttotal: 4.24s\tremaining: 2.08s\n",
      "671:\tlearn: 0.1314686\ttotal: 4.24s\tremaining: 2.07s\n",
      "672:\tlearn: 0.1312755\ttotal: 4.25s\tremaining: 2.06s\n",
      "673:\tlearn: 0.1308855\ttotal: 4.26s\tremaining: 2.06s\n",
      "674:\tlearn: 0.1306073\ttotal: 4.27s\tremaining: 2.05s\n",
      "675:\tlearn: 0.1304341\ttotal: 4.27s\tremaining: 2.05s\n",
      "676:\tlearn: 0.1302844\ttotal: 4.28s\tremaining: 2.04s\n",
      "677:\tlearn: 0.1300028\ttotal: 4.29s\tremaining: 2.04s\n",
      "678:\tlearn: 0.1298343\ttotal: 4.29s\tremaining: 2.03s\n",
      "679:\tlearn: 0.1295870\ttotal: 4.3s\tremaining: 2.02s\n",
      "680:\tlearn: 0.1292781\ttotal: 4.31s\tremaining: 2.02s\n",
      "681:\tlearn: 0.1290480\ttotal: 4.32s\tremaining: 2.01s\n",
      "682:\tlearn: 0.1289172\ttotal: 4.32s\tremaining: 2.01s\n",
      "683:\tlearn: 0.1287856\ttotal: 4.33s\tremaining: 2s\n",
      "684:\tlearn: 0.1285250\ttotal: 4.34s\tremaining: 1.99s\n",
      "685:\tlearn: 0.1283671\ttotal: 4.34s\tremaining: 1.99s\n",
      "686:\tlearn: 0.1281347\ttotal: 4.35s\tremaining: 1.98s\n",
      "687:\tlearn: 0.1279430\ttotal: 4.36s\tremaining: 1.98s\n",
      "688:\tlearn: 0.1277512\ttotal: 4.37s\tremaining: 1.97s\n",
      "689:\tlearn: 0.1275678\ttotal: 4.37s\tremaining: 1.96s\n",
      "690:\tlearn: 0.1273689\ttotal: 4.38s\tremaining: 1.96s\n",
      "691:\tlearn: 0.1271689\ttotal: 4.39s\tremaining: 1.95s\n",
      "692:\tlearn: 0.1270390\ttotal: 4.39s\tremaining: 1.95s\n",
      "693:\tlearn: 0.1268584\ttotal: 4.4s\tremaining: 1.94s\n",
      "694:\tlearn: 0.1266810\ttotal: 4.41s\tremaining: 1.93s\n",
      "695:\tlearn: 0.1264871\ttotal: 4.42s\tremaining: 1.93s\n",
      "696:\tlearn: 0.1262825\ttotal: 4.42s\tremaining: 1.92s\n",
      "697:\tlearn: 0.1261367\ttotal: 4.43s\tremaining: 1.92s\n",
      "698:\tlearn: 0.1259299\ttotal: 4.44s\tremaining: 1.91s\n",
      "699:\tlearn: 0.1257184\ttotal: 4.44s\tremaining: 1.9s\n",
      "700:\tlearn: 0.1255952\ttotal: 4.45s\tremaining: 1.9s\n",
      "701:\tlearn: 0.1253637\ttotal: 4.46s\tremaining: 1.89s\n",
      "702:\tlearn: 0.1250896\ttotal: 4.46s\tremaining: 1.89s\n",
      "703:\tlearn: 0.1249387\ttotal: 4.47s\tremaining: 1.88s\n",
      "704:\tlearn: 0.1247872\ttotal: 4.48s\tremaining: 1.87s\n",
      "705:\tlearn: 0.1245400\ttotal: 4.49s\tremaining: 1.87s\n",
      "706:\tlearn: 0.1243634\ttotal: 4.49s\tremaining: 1.86s\n",
      "707:\tlearn: 0.1242547\ttotal: 4.5s\tremaining: 1.85s\n",
      "708:\tlearn: 0.1239615\ttotal: 4.51s\tremaining: 1.85s\n",
      "709:\tlearn: 0.1238625\ttotal: 4.51s\tremaining: 1.84s\n",
      "710:\tlearn: 0.1237209\ttotal: 4.52s\tremaining: 1.84s\n",
      "711:\tlearn: 0.1236079\ttotal: 4.53s\tremaining: 1.83s\n",
      "712:\tlearn: 0.1234932\ttotal: 4.53s\tremaining: 1.82s\n",
      "713:\tlearn: 0.1233247\ttotal: 4.54s\tremaining: 1.82s\n",
      "714:\tlearn: 0.1230300\ttotal: 4.55s\tremaining: 1.81s\n",
      "715:\tlearn: 0.1228425\ttotal: 4.55s\tremaining: 1.81s\n",
      "716:\tlearn: 0.1226662\ttotal: 4.56s\tremaining: 1.8s\n",
      "717:\tlearn: 0.1224798\ttotal: 4.57s\tremaining: 1.79s\n",
      "718:\tlearn: 0.1223318\ttotal: 4.58s\tremaining: 1.79s\n",
      "719:\tlearn: 0.1220746\ttotal: 4.58s\tremaining: 1.78s\n",
      "720:\tlearn: 0.1218594\ttotal: 4.59s\tremaining: 1.77s\n",
      "721:\tlearn: 0.1216251\ttotal: 4.59s\tremaining: 1.77s\n",
      "722:\tlearn: 0.1215032\ttotal: 4.6s\tremaining: 1.76s\n",
      "723:\tlearn: 0.1213323\ttotal: 4.61s\tremaining: 1.76s\n",
      "724:\tlearn: 0.1211130\ttotal: 4.61s\tremaining: 1.75s\n",
      "725:\tlearn: 0.1208545\ttotal: 4.62s\tremaining: 1.74s\n",
      "726:\tlearn: 0.1206383\ttotal: 4.63s\tremaining: 1.74s\n",
      "727:\tlearn: 0.1205522\ttotal: 4.63s\tremaining: 1.73s\n",
      "728:\tlearn: 0.1203750\ttotal: 4.64s\tremaining: 1.72s\n",
      "729:\tlearn: 0.1202418\ttotal: 4.64s\tremaining: 1.72s\n",
      "730:\tlearn: 0.1200243\ttotal: 4.65s\tremaining: 1.71s\n",
      "731:\tlearn: 0.1199027\ttotal: 4.66s\tremaining: 1.7s\n",
      "732:\tlearn: 0.1197223\ttotal: 4.66s\tremaining: 1.7s\n",
      "733:\tlearn: 0.1195244\ttotal: 4.67s\tremaining: 1.69s\n",
      "734:\tlearn: 0.1193230\ttotal: 4.67s\tremaining: 1.68s\n",
      "735:\tlearn: 0.1192415\ttotal: 4.68s\tremaining: 1.68s\n",
      "736:\tlearn: 0.1190497\ttotal: 4.68s\tremaining: 1.67s\n",
      "737:\tlearn: 0.1188738\ttotal: 4.69s\tremaining: 1.67s\n",
      "738:\tlearn: 0.1186836\ttotal: 4.7s\tremaining: 1.66s\n",
      "739:\tlearn: 0.1184574\ttotal: 4.7s\tremaining: 1.65s\n",
      "740:\tlearn: 0.1182395\ttotal: 4.71s\tremaining: 1.65s\n",
      "741:\tlearn: 0.1179948\ttotal: 4.71s\tremaining: 1.64s\n",
      "742:\tlearn: 0.1178310\ttotal: 4.72s\tremaining: 1.63s\n",
      "743:\tlearn: 0.1176217\ttotal: 4.73s\tremaining: 1.63s\n",
      "744:\tlearn: 0.1174213\ttotal: 4.73s\tremaining: 1.62s\n",
      "745:\tlearn: 0.1172294\ttotal: 4.74s\tremaining: 1.61s\n",
      "746:\tlearn: 0.1170239\ttotal: 4.74s\tremaining: 1.61s\n",
      "747:\tlearn: 0.1168732\ttotal: 4.75s\tremaining: 1.6s\n",
      "748:\tlearn: 0.1167631\ttotal: 4.75s\tremaining: 1.59s\n",
      "749:\tlearn: 0.1165916\ttotal: 4.76s\tremaining: 1.59s\n",
      "750:\tlearn: 0.1163845\ttotal: 4.77s\tremaining: 1.58s\n",
      "751:\tlearn: 0.1162222\ttotal: 4.77s\tremaining: 1.57s\n",
      "752:\tlearn: 0.1160134\ttotal: 4.78s\tremaining: 1.57s\n",
      "753:\tlearn: 0.1159052\ttotal: 4.79s\tremaining: 1.56s\n",
      "754:\tlearn: 0.1157218\ttotal: 4.79s\tremaining: 1.55s\n",
      "755:\tlearn: 0.1155251\ttotal: 4.8s\tremaining: 1.55s\n",
      "756:\tlearn: 0.1153321\ttotal: 4.8s\tremaining: 1.54s\n",
      "757:\tlearn: 0.1151740\ttotal: 4.81s\tremaining: 1.53s\n",
      "758:\tlearn: 0.1149482\ttotal: 4.81s\tremaining: 1.53s\n",
      "759:\tlearn: 0.1148873\ttotal: 4.82s\tremaining: 1.52s\n",
      "760:\tlearn: 0.1147323\ttotal: 4.83s\tremaining: 1.51s\n",
      "761:\tlearn: 0.1145668\ttotal: 4.83s\tremaining: 1.51s\n",
      "762:\tlearn: 0.1144580\ttotal: 4.84s\tremaining: 1.5s\n",
      "763:\tlearn: 0.1142740\ttotal: 4.84s\tremaining: 1.5s\n",
      "764:\tlearn: 0.1140242\ttotal: 4.85s\tremaining: 1.49s\n",
      "765:\tlearn: 0.1138461\ttotal: 4.85s\tremaining: 1.48s\n",
      "766:\tlearn: 0.1136435\ttotal: 4.86s\tremaining: 1.48s\n",
      "767:\tlearn: 0.1134772\ttotal: 4.87s\tremaining: 1.47s\n",
      "768:\tlearn: 0.1132760\ttotal: 4.87s\tremaining: 1.46s\n",
      "769:\tlearn: 0.1130145\ttotal: 4.88s\tremaining: 1.46s\n",
      "770:\tlearn: 0.1128487\ttotal: 4.88s\tremaining: 1.45s\n",
      "771:\tlearn: 0.1126272\ttotal: 4.89s\tremaining: 1.44s\n",
      "772:\tlearn: 0.1123551\ttotal: 4.9s\tremaining: 1.44s\n",
      "773:\tlearn: 0.1121889\ttotal: 4.9s\tremaining: 1.43s\n",
      "774:\tlearn: 0.1120090\ttotal: 4.91s\tremaining: 1.42s\n",
      "775:\tlearn: 0.1118027\ttotal: 4.91s\tremaining: 1.42s\n",
      "776:\tlearn: 0.1116976\ttotal: 4.92s\tremaining: 1.41s\n",
      "777:\tlearn: 0.1116157\ttotal: 4.93s\tremaining: 1.41s\n",
      "778:\tlearn: 0.1114805\ttotal: 4.93s\tremaining: 1.4s\n",
      "779:\tlearn: 0.1112374\ttotal: 4.94s\tremaining: 1.39s\n",
      "780:\tlearn: 0.1111124\ttotal: 4.95s\tremaining: 1.39s\n",
      "781:\tlearn: 0.1109869\ttotal: 4.95s\tremaining: 1.38s\n",
      "782:\tlearn: 0.1108553\ttotal: 4.96s\tremaining: 1.37s\n",
      "783:\tlearn: 0.1106496\ttotal: 4.96s\tremaining: 1.37s\n",
      "784:\tlearn: 0.1105136\ttotal: 4.97s\tremaining: 1.36s\n",
      "785:\tlearn: 0.1103521\ttotal: 4.98s\tremaining: 1.35s\n",
      "786:\tlearn: 0.1102144\ttotal: 4.98s\tremaining: 1.35s\n",
      "787:\tlearn: 0.1100240\ttotal: 4.99s\tremaining: 1.34s\n",
      "788:\tlearn: 0.1098984\ttotal: 5s\tremaining: 1.34s\n",
      "789:\tlearn: 0.1096727\ttotal: 5s\tremaining: 1.33s\n",
      "790:\tlearn: 0.1094646\ttotal: 5.01s\tremaining: 1.32s\n",
      "791:\tlearn: 0.1092388\ttotal: 5.02s\tremaining: 1.32s\n",
      "792:\tlearn: 0.1090919\ttotal: 5.02s\tremaining: 1.31s\n",
      "793:\tlearn: 0.1088682\ttotal: 5.03s\tremaining: 1.3s\n",
      "794:\tlearn: 0.1086958\ttotal: 5.04s\tremaining: 1.3s\n",
      "795:\tlearn: 0.1085413\ttotal: 5.04s\tremaining: 1.29s\n",
      "796:\tlearn: 0.1083437\ttotal: 5.05s\tremaining: 1.29s\n",
      "797:\tlearn: 0.1081263\ttotal: 5.05s\tremaining: 1.28s\n",
      "798:\tlearn: 0.1080552\ttotal: 5.06s\tremaining: 1.27s\n",
      "799:\tlearn: 0.1079488\ttotal: 5.07s\tremaining: 1.27s\n",
      "800:\tlearn: 0.1078122\ttotal: 5.08s\tremaining: 1.26s\n",
      "801:\tlearn: 0.1076876\ttotal: 5.08s\tremaining: 1.25s\n",
      "802:\tlearn: 0.1076137\ttotal: 5.09s\tremaining: 1.25s\n",
      "803:\tlearn: 0.1074838\ttotal: 5.09s\tremaining: 1.24s\n",
      "804:\tlearn: 0.1073729\ttotal: 5.1s\tremaining: 1.24s\n",
      "805:\tlearn: 0.1072339\ttotal: 5.11s\tremaining: 1.23s\n",
      "806:\tlearn: 0.1071312\ttotal: 5.11s\tremaining: 1.22s\n",
      "807:\tlearn: 0.1069800\ttotal: 5.12s\tremaining: 1.22s\n",
      "808:\tlearn: 0.1068159\ttotal: 5.13s\tremaining: 1.21s\n",
      "809:\tlearn: 0.1065891\ttotal: 5.13s\tremaining: 1.2s\n",
      "810:\tlearn: 0.1063967\ttotal: 5.14s\tremaining: 1.2s\n",
      "811:\tlearn: 0.1062136\ttotal: 5.15s\tremaining: 1.19s\n",
      "812:\tlearn: 0.1060884\ttotal: 5.15s\tremaining: 1.19s\n",
      "813:\tlearn: 0.1059367\ttotal: 5.16s\tremaining: 1.18s\n",
      "814:\tlearn: 0.1057567\ttotal: 5.16s\tremaining: 1.17s\n",
      "815:\tlearn: 0.1056940\ttotal: 5.17s\tremaining: 1.17s\n",
      "816:\tlearn: 0.1055838\ttotal: 5.17s\tremaining: 1.16s\n",
      "817:\tlearn: 0.1053077\ttotal: 5.18s\tremaining: 1.15s\n",
      "818:\tlearn: 0.1051152\ttotal: 5.19s\tremaining: 1.15s\n",
      "819:\tlearn: 0.1050366\ttotal: 5.19s\tremaining: 1.14s\n",
      "820:\tlearn: 0.1048792\ttotal: 5.2s\tremaining: 1.13s\n",
      "821:\tlearn: 0.1047465\ttotal: 5.2s\tremaining: 1.13s\n",
      "822:\tlearn: 0.1045934\ttotal: 5.21s\tremaining: 1.12s\n",
      "823:\tlearn: 0.1044454\ttotal: 5.21s\tremaining: 1.11s\n",
      "824:\tlearn: 0.1042605\ttotal: 5.22s\tremaining: 1.11s\n",
      "825:\tlearn: 0.1041252\ttotal: 5.23s\tremaining: 1.1s\n",
      "826:\tlearn: 0.1039242\ttotal: 5.23s\tremaining: 1.09s\n",
      "827:\tlearn: 0.1037428\ttotal: 5.24s\tremaining: 1.09s\n",
      "828:\tlearn: 0.1035084\ttotal: 5.24s\tremaining: 1.08s\n",
      "829:\tlearn: 0.1033206\ttotal: 5.25s\tremaining: 1.07s\n",
      "830:\tlearn: 0.1031614\ttotal: 5.26s\tremaining: 1.07s\n",
      "831:\tlearn: 0.1029549\ttotal: 5.26s\tremaining: 1.06s\n",
      "832:\tlearn: 0.1028555\ttotal: 5.27s\tremaining: 1.06s\n",
      "833:\tlearn: 0.1027193\ttotal: 5.27s\tremaining: 1.05s\n",
      "834:\tlearn: 0.1025148\ttotal: 5.28s\tremaining: 1.04s\n",
      "835:\tlearn: 0.1023984\ttotal: 5.29s\tremaining: 1.04s\n",
      "836:\tlearn: 0.1022123\ttotal: 5.29s\tremaining: 1.03s\n",
      "837:\tlearn: 0.1020312\ttotal: 5.3s\tremaining: 1.02s\n",
      "838:\tlearn: 0.1018404\ttotal: 5.3s\tremaining: 1.02s\n",
      "839:\tlearn: 0.1016863\ttotal: 5.31s\tremaining: 1.01s\n",
      "840:\tlearn: 0.1016092\ttotal: 5.31s\tremaining: 1s\n",
      "841:\tlearn: 0.1014283\ttotal: 5.32s\tremaining: 998ms\n",
      "842:\tlearn: 0.1012938\ttotal: 5.33s\tremaining: 992ms\n",
      "843:\tlearn: 0.1011624\ttotal: 5.33s\tremaining: 986ms\n",
      "844:\tlearn: 0.1010133\ttotal: 5.34s\tremaining: 979ms\n",
      "845:\tlearn: 0.1008679\ttotal: 5.34s\tremaining: 973ms\n",
      "846:\tlearn: 0.1007972\ttotal: 5.35s\tremaining: 966ms\n",
      "847:\tlearn: 0.1006521\ttotal: 5.36s\tremaining: 960ms\n",
      "848:\tlearn: 0.1004936\ttotal: 5.36s\tremaining: 954ms\n",
      "849:\tlearn: 0.1003377\ttotal: 5.37s\tremaining: 947ms\n",
      "850:\tlearn: 0.1002047\ttotal: 5.37s\tremaining: 941ms\n",
      "851:\tlearn: 0.1000487\ttotal: 5.38s\tremaining: 934ms\n",
      "852:\tlearn: 0.0998919\ttotal: 5.38s\tremaining: 928ms\n",
      "853:\tlearn: 0.0997231\ttotal: 5.39s\tremaining: 922ms\n",
      "854:\tlearn: 0.0995971\ttotal: 5.4s\tremaining: 915ms\n",
      "855:\tlearn: 0.0994185\ttotal: 5.4s\tremaining: 909ms\n",
      "856:\tlearn: 0.0992168\ttotal: 5.41s\tremaining: 902ms\n",
      "857:\tlearn: 0.0991022\ttotal: 5.41s\tremaining: 896ms\n",
      "858:\tlearn: 0.0989682\ttotal: 5.42s\tremaining: 890ms\n",
      "859:\tlearn: 0.0988721\ttotal: 5.43s\tremaining: 883ms\n",
      "860:\tlearn: 0.0987129\ttotal: 5.43s\tremaining: 877ms\n",
      "861:\tlearn: 0.0986536\ttotal: 5.44s\tremaining: 871ms\n",
      "862:\tlearn: 0.0985036\ttotal: 5.44s\tremaining: 864ms\n",
      "863:\tlearn: 0.0983008\ttotal: 5.45s\tremaining: 858ms\n",
      "864:\tlearn: 0.0982006\ttotal: 5.46s\tremaining: 851ms\n",
      "865:\tlearn: 0.0980144\ttotal: 5.46s\tremaining: 845ms\n",
      "866:\tlearn: 0.0978341\ttotal: 5.47s\tremaining: 839ms\n",
      "867:\tlearn: 0.0976789\ttotal: 5.47s\tremaining: 832ms\n",
      "868:\tlearn: 0.0974721\ttotal: 5.48s\tremaining: 826ms\n",
      "869:\tlearn: 0.0973340\ttotal: 5.48s\tremaining: 820ms\n",
      "870:\tlearn: 0.0972355\ttotal: 5.49s\tremaining: 813ms\n",
      "871:\tlearn: 0.0970999\ttotal: 5.5s\tremaining: 807ms\n",
      "872:\tlearn: 0.0970003\ttotal: 5.5s\tremaining: 800ms\n",
      "873:\tlearn: 0.0969000\ttotal: 5.51s\tremaining: 794ms\n",
      "874:\tlearn: 0.0967172\ttotal: 5.51s\tremaining: 788ms\n",
      "875:\tlearn: 0.0965765\ttotal: 5.52s\tremaining: 781ms\n",
      "876:\tlearn: 0.0963575\ttotal: 5.53s\tremaining: 775ms\n",
      "877:\tlearn: 0.0962370\ttotal: 5.53s\tremaining: 769ms\n",
      "878:\tlearn: 0.0960702\ttotal: 5.54s\tremaining: 762ms\n",
      "879:\tlearn: 0.0959904\ttotal: 5.54s\tremaining: 756ms\n",
      "880:\tlearn: 0.0959305\ttotal: 5.55s\tremaining: 750ms\n",
      "881:\tlearn: 0.0958241\ttotal: 5.55s\tremaining: 743ms\n",
      "882:\tlearn: 0.0956383\ttotal: 5.56s\tremaining: 737ms\n",
      "883:\tlearn: 0.0954339\ttotal: 5.57s\tremaining: 731ms\n",
      "884:\tlearn: 0.0951902\ttotal: 5.57s\tremaining: 724ms\n",
      "885:\tlearn: 0.0950732\ttotal: 5.58s\tremaining: 718ms\n",
      "886:\tlearn: 0.0949556\ttotal: 5.58s\tremaining: 712ms\n",
      "887:\tlearn: 0.0948928\ttotal: 5.59s\tremaining: 705ms\n",
      "888:\tlearn: 0.0948067\ttotal: 5.6s\tremaining: 699ms\n",
      "889:\tlearn: 0.0947347\ttotal: 5.6s\tremaining: 693ms\n",
      "890:\tlearn: 0.0945467\ttotal: 5.61s\tremaining: 686ms\n",
      "891:\tlearn: 0.0943586\ttotal: 5.62s\tremaining: 680ms\n",
      "892:\tlearn: 0.0942964\ttotal: 5.62s\tremaining: 674ms\n",
      "893:\tlearn: 0.0941783\ttotal: 5.63s\tremaining: 668ms\n",
      "894:\tlearn: 0.0939537\ttotal: 5.64s\tremaining: 661ms\n",
      "895:\tlearn: 0.0937786\ttotal: 5.64s\tremaining: 655ms\n",
      "896:\tlearn: 0.0937487\ttotal: 5.65s\tremaining: 649ms\n",
      "897:\tlearn: 0.0936135\ttotal: 5.65s\tremaining: 642ms\n",
      "898:\tlearn: 0.0935128\ttotal: 5.66s\tremaining: 636ms\n",
      "899:\tlearn: 0.0934150\ttotal: 5.67s\tremaining: 630ms\n",
      "900:\tlearn: 0.0932319\ttotal: 5.67s\tremaining: 624ms\n",
      "901:\tlearn: 0.0930279\ttotal: 5.68s\tremaining: 617ms\n",
      "902:\tlearn: 0.0929605\ttotal: 5.69s\tremaining: 611ms\n",
      "903:\tlearn: 0.0928518\ttotal: 5.69s\tremaining: 605ms\n",
      "904:\tlearn: 0.0926864\ttotal: 5.7s\tremaining: 599ms\n",
      "905:\tlearn: 0.0925683\ttotal: 5.71s\tremaining: 592ms\n",
      "906:\tlearn: 0.0925327\ttotal: 5.71s\tremaining: 586ms\n",
      "907:\tlearn: 0.0924554\ttotal: 5.72s\tremaining: 580ms\n",
      "908:\tlearn: 0.0923169\ttotal: 5.73s\tremaining: 573ms\n",
      "909:\tlearn: 0.0920991\ttotal: 5.73s\tremaining: 567ms\n",
      "910:\tlearn: 0.0919339\ttotal: 5.74s\tremaining: 561ms\n",
      "911:\tlearn: 0.0917922\ttotal: 5.75s\tremaining: 554ms\n",
      "912:\tlearn: 0.0917119\ttotal: 5.75s\tremaining: 548ms\n",
      "913:\tlearn: 0.0914856\ttotal: 5.76s\tremaining: 542ms\n",
      "914:\tlearn: 0.0913607\ttotal: 5.76s\tremaining: 536ms\n",
      "915:\tlearn: 0.0912856\ttotal: 5.77s\tremaining: 529ms\n",
      "916:\tlearn: 0.0911641\ttotal: 5.78s\tremaining: 523ms\n",
      "917:\tlearn: 0.0910850\ttotal: 5.78s\tremaining: 517ms\n",
      "918:\tlearn: 0.0909337\ttotal: 5.79s\tremaining: 510ms\n",
      "919:\tlearn: 0.0907912\ttotal: 5.8s\tremaining: 504ms\n",
      "920:\tlearn: 0.0906919\ttotal: 5.8s\tremaining: 498ms\n",
      "921:\tlearn: 0.0905432\ttotal: 5.81s\tremaining: 491ms\n",
      "922:\tlearn: 0.0904721\ttotal: 5.81s\tremaining: 485ms\n",
      "923:\tlearn: 0.0902811\ttotal: 5.82s\tremaining: 479ms\n",
      "924:\tlearn: 0.0901844\ttotal: 5.83s\tremaining: 472ms\n",
      "925:\tlearn: 0.0900992\ttotal: 5.83s\tremaining: 466ms\n",
      "926:\tlearn: 0.0899315\ttotal: 5.84s\tremaining: 460ms\n",
      "927:\tlearn: 0.0898343\ttotal: 5.84s\tremaining: 453ms\n",
      "928:\tlearn: 0.0897007\ttotal: 5.85s\tremaining: 447ms\n",
      "929:\tlearn: 0.0896135\ttotal: 5.85s\tremaining: 441ms\n",
      "930:\tlearn: 0.0894431\ttotal: 5.86s\tremaining: 434ms\n",
      "931:\tlearn: 0.0893749\ttotal: 5.87s\tremaining: 428ms\n",
      "932:\tlearn: 0.0892613\ttotal: 5.87s\tremaining: 422ms\n",
      "933:\tlearn: 0.0891775\ttotal: 5.88s\tremaining: 415ms\n",
      "934:\tlearn: 0.0890229\ttotal: 5.88s\tremaining: 409ms\n",
      "935:\tlearn: 0.0888775\ttotal: 5.89s\tremaining: 403ms\n",
      "936:\tlearn: 0.0887932\ttotal: 5.89s\tremaining: 396ms\n",
      "937:\tlearn: 0.0886341\ttotal: 5.9s\tremaining: 390ms\n",
      "938:\tlearn: 0.0885264\ttotal: 5.91s\tremaining: 384ms\n",
      "939:\tlearn: 0.0884077\ttotal: 5.91s\tremaining: 377ms\n",
      "940:\tlearn: 0.0882915\ttotal: 5.92s\tremaining: 371ms\n",
      "941:\tlearn: 0.0881350\ttotal: 5.92s\tremaining: 365ms\n",
      "942:\tlearn: 0.0880132\ttotal: 5.93s\tremaining: 358ms\n",
      "943:\tlearn: 0.0879048\ttotal: 5.93s\tremaining: 352ms\n",
      "944:\tlearn: 0.0877116\ttotal: 5.94s\tremaining: 346ms\n",
      "945:\tlearn: 0.0875660\ttotal: 5.95s\tremaining: 339ms\n",
      "946:\tlearn: 0.0874879\ttotal: 5.95s\tremaining: 333ms\n",
      "947:\tlearn: 0.0873773\ttotal: 5.96s\tremaining: 327ms\n",
      "948:\tlearn: 0.0872138\ttotal: 5.96s\tremaining: 321ms\n",
      "949:\tlearn: 0.0871196\ttotal: 5.97s\tremaining: 314ms\n",
      "950:\tlearn: 0.0869971\ttotal: 5.98s\tremaining: 308ms\n",
      "951:\tlearn: 0.0868545\ttotal: 5.98s\tremaining: 302ms\n",
      "952:\tlearn: 0.0867077\ttotal: 5.99s\tremaining: 295ms\n",
      "953:\tlearn: 0.0865165\ttotal: 5.99s\tremaining: 289ms\n",
      "954:\tlearn: 0.0864174\ttotal: 6s\tremaining: 283ms\n",
      "955:\tlearn: 0.0863179\ttotal: 6s\tremaining: 276ms\n",
      "956:\tlearn: 0.0861642\ttotal: 6.01s\tremaining: 270ms\n",
      "957:\tlearn: 0.0859825\ttotal: 6.02s\tremaining: 264ms\n",
      "958:\tlearn: 0.0859068\ttotal: 6.02s\tremaining: 258ms\n",
      "959:\tlearn: 0.0858042\ttotal: 6.03s\tremaining: 251ms\n",
      "960:\tlearn: 0.0856415\ttotal: 6.04s\tremaining: 245ms\n",
      "961:\tlearn: 0.0855379\ttotal: 6.04s\tremaining: 239ms\n",
      "962:\tlearn: 0.0853916\ttotal: 6.05s\tremaining: 232ms\n",
      "963:\tlearn: 0.0853042\ttotal: 6.06s\tremaining: 226ms\n",
      "964:\tlearn: 0.0851590\ttotal: 6.06s\tremaining: 220ms\n",
      "965:\tlearn: 0.0849280\ttotal: 6.07s\tremaining: 214ms\n",
      "966:\tlearn: 0.0848358\ttotal: 6.08s\tremaining: 207ms\n",
      "967:\tlearn: 0.0846876\ttotal: 6.09s\tremaining: 201ms\n",
      "968:\tlearn: 0.0845587\ttotal: 6.09s\tremaining: 195ms\n",
      "969:\tlearn: 0.0843793\ttotal: 6.1s\tremaining: 189ms\n",
      "970:\tlearn: 0.0842911\ttotal: 6.1s\tremaining: 182ms\n",
      "971:\tlearn: 0.0841957\ttotal: 6.11s\tremaining: 176ms\n",
      "972:\tlearn: 0.0840959\ttotal: 6.12s\tremaining: 170ms\n",
      "973:\tlearn: 0.0839278\ttotal: 6.12s\tremaining: 163ms\n",
      "974:\tlearn: 0.0838218\ttotal: 6.13s\tremaining: 157ms\n",
      "975:\tlearn: 0.0837400\ttotal: 6.13s\tremaining: 151ms\n",
      "976:\tlearn: 0.0835956\ttotal: 6.14s\tremaining: 145ms\n",
      "977:\tlearn: 0.0834174\ttotal: 6.15s\tremaining: 138ms\n",
      "978:\tlearn: 0.0833456\ttotal: 6.15s\tremaining: 132ms\n",
      "979:\tlearn: 0.0832758\ttotal: 6.16s\tremaining: 126ms\n",
      "980:\tlearn: 0.0831188\ttotal: 6.16s\tremaining: 119ms\n",
      "981:\tlearn: 0.0830562\ttotal: 6.17s\tremaining: 113ms\n",
      "982:\tlearn: 0.0829482\ttotal: 6.17s\tremaining: 107ms\n",
      "983:\tlearn: 0.0827651\ttotal: 6.18s\tremaining: 101ms\n",
      "984:\tlearn: 0.0826374\ttotal: 6.19s\tremaining: 94.2ms\n",
      "985:\tlearn: 0.0825388\ttotal: 6.2s\tremaining: 88ms\n",
      "986:\tlearn: 0.0823878\ttotal: 6.2s\tremaining: 81.7ms\n",
      "987:\tlearn: 0.0822567\ttotal: 6.21s\tremaining: 75.4ms\n",
      "988:\tlearn: 0.0821244\ttotal: 6.21s\tremaining: 69.1ms\n",
      "989:\tlearn: 0.0820483\ttotal: 6.22s\tremaining: 62.9ms\n",
      "990:\tlearn: 0.0819608\ttotal: 6.23s\tremaining: 56.6ms\n",
      "991:\tlearn: 0.0818309\ttotal: 6.24s\tremaining: 50.3ms\n",
      "992:\tlearn: 0.0817189\ttotal: 6.24s\tremaining: 44ms\n",
      "993:\tlearn: 0.0814865\ttotal: 6.25s\tremaining: 37.7ms\n",
      "994:\tlearn: 0.0814227\ttotal: 6.26s\tremaining: 31.4ms\n",
      "995:\tlearn: 0.0813244\ttotal: 6.26s\tremaining: 25.2ms\n",
      "996:\tlearn: 0.0812190\ttotal: 6.27s\tremaining: 18.9ms\n",
      "997:\tlearn: 0.0811400\ttotal: 6.28s\tremaining: 12.6ms\n",
      "998:\tlearn: 0.0810079\ttotal: 6.28s\tremaining: 6.29ms\n",
      "999:\tlearn: 0.0809420\ttotal: 6.29s\tremaining: 0us\n"
     ]
    },
    {
     "data": {
      "text/plain": [
       "<catboost.core.CatBoostClassifier at 0x7ce61325dc60>"
      ]
     },
     "execution_count": 164,
     "metadata": {},
     "output_type": "execute_result"
    }
   ],
   "source": [
    "clf = CatBoostClassifier(loss_function='MultiClass', task_type=\"GPU\", devices='0', random_state=42)\n",
    "\n",
    "clf.fit(train_embeds, target_train, plot_file=\"catboost_log.html\")"
   ]
  },
  {
   "cell_type": "code",
   "execution_count": 165,
   "metadata": {
    "execution": {
     "iopub.execute_input": "2025-04-16T13:34:57.498863Z",
     "iopub.status.busy": "2025-04-16T13:34:57.498568Z",
     "iopub.status.idle": "2025-04-16T13:34:57.516018Z",
     "shell.execute_reply": "2025-04-16T13:34:57.515183Z",
     "shell.execute_reply.started": "2025-04-16T13:34:57.498840Z"
    },
    "trusted": true
   },
   "outputs": [],
   "source": [
    "test_pred = clf.predict(test_embeds)\n",
    "test_proba = clf.predict_proba(test_embeds)[:, 1]"
   ]
  },
  {
   "cell_type": "code",
   "execution_count": 166,
   "metadata": {
    "execution": {
     "iopub.execute_input": "2025-04-16T13:34:59.020268Z",
     "iopub.status.busy": "2025-04-16T13:34:59.019925Z",
     "iopub.status.idle": "2025-04-16T13:34:59.029859Z",
     "shell.execute_reply": "2025-04-16T13:34:59.029128Z",
     "shell.execute_reply.started": "2025-04-16T13:34:59.020240Z"
    },
    "trusted": true
   },
   "outputs": [
    {
     "name": "stdout",
     "output_type": "stream",
     "text": [
      "Accuracy: 0.736\n",
      "ROC-AUC: 0.8149455245989218\n"
     ]
    }
   ],
   "source": [
    "print(\"Accuracy:\", accuracy_score(target_test, test_pred))\n",
    "print(\"ROC-AUC:\", roc_auc_score(target_test, test_proba))"
   ]
  },
  {
   "cell_type": "code",
   "execution_count": 168,
   "metadata": {
    "execution": {
     "iopub.execute_input": "2025-04-16T13:36:18.298285Z",
     "iopub.status.busy": "2025-04-16T13:36:18.297910Z",
     "iopub.status.idle": "2025-04-16T13:36:18.303829Z",
     "shell.execute_reply": "2025-04-16T13:36:18.303169Z",
     "shell.execute_reply.started": "2025-04-16T13:36:18.298254Z"
    },
    "trusted": true
   },
   "outputs": [
    {
     "data": {
      "text/plain": [
       "(0.8109630732868175, 0.009899578798229952)"
      ]
     },
     "execution_count": 168,
     "metadata": {},
     "output_type": "execute_result"
    }
   ],
   "source": [
    "a = np.array([0.8205954250376389, 0.7973482702238915, 0.8149455245989218])\n",
    "\n",
    "a.mean(), a.std()"
   ]
  },
  {
   "cell_type": "markdown",
   "metadata": {},
   "source": [
    "- COLES embeds + Catboost:\n",
    "  - `Accuracy: 0.736`, `0.72`, `0.722`, avg: `0.726 +- 0.0071` \n",
    "  -  `ROC-AUC: 0.8099107995661394`, `0.8041475773421184`, `0.8088423370189894`, avg: `0.8076 +- 0.0025`\n",
    "\n",
    "---\n",
    "\n",
    "- COLES embeds (w/ Aggregation by Days, 1 day) + Catboost:\n",
    "  - `Accuracy: 0.732`, `0.764`, `0.73`, avg: `0.742 +- 0.0156`\n",
    "  - `ROC-AUC: 0.8078386297777274`, `0.8116915704780561`, `0.8152207346489453`, avg: `0.8116 +- 0.003`\n",
    "\n",
    "---\n",
    "\n",
    "- COLES embeds (w/ Aggregation by Days, 0.5 days) + Catboost:\n",
    "  - `Accuracy: 0.744`, `0.73`, `0.726`, avg: `0.7333 +- 0.0077`\n",
    "  - `ROC-AUC: 0.8204011591199754`, `0.8003593919476777`, `0.8147836363342023`, avg: `0.8118 +- 0.0084`\n",
    "\n",
    "---\n",
    "\n",
    "- COLES embeds (w/ Aggregation by Days, 2 days) + Catboost:\n",
    "  - `Accuracy: 0.73`, `0.736`, `0.742`, avg: `0.736 +- 0.0049`\n",
    "  - `ROC-AUC: 0.8121610464457432`, `0.8020106522478185`, `0.8208544462611904`, avg: `0.8117 +- 0.0077`\n",
    "\n",
    "---\n",
    "\n",
    "- COLES embeds (w/ Aggregation by Days, 1 day; w/ 'No Trx' Indicators) + Catboost:\n",
    "  - `Accuracy: 0.732`, `0.72`, `0.736`, avg: `0.7293 +- 0.0068`\n",
    "  - `ROC-AUC: 0.8205954250376389`, `0.7973482702238915`, `0.8149455245989218`, avg: `0.811 +- 0.0099`\n",
    "\n",
    "---\n",
    "\n",
    "**Логика + Вывод:** для CoLES агрегация по времени приводит к повышению качества - все результаты с агрегацией по времени лучше, чем бейзлайн. Наилучший результат по accuracy достигается при агрегации по 1 дню. У этого результата относительно большая дисперсия, тем не менее возьмём именно его как лучший, так как (mean - std) здесь сравним с таким же показателем для других конфигураций. По ROC-AUC наилучший результат - при агрегации по полдня дням, но он незначительно лучше результата для агрегации по 1 дню (и по 2 дням); при этом accuracy для агрегации по полдня всё же ощутимо хуже, чем при агрегации по 1 дню. Результаты для агрегации по 2 дням в целом немного лучше, чем для агрегации по полдня, но всё ещё хуже, чем агрегация по 1 дню.\n",
    "\n",
    "Лучшие результаты - при агрегации по 1 дню => будем далее экспериментировать с этой конфигурацией. В частности, попробуем добавить в дни, в которые не было ни одной транзакции специальные транзакции-индикаторы, означающие отсутствие в этот день транзакций. \n",
    "\n",
    "Как оказалось, для конфигурации c транзакциями-индикаторами результаты - хотя они и лучше бейзлайна - оказались значительно хуже, чем для обычной агрегации по 1 дню.\n",
    "\n",
    "**Лучший по метрикам результат:**\n",
    "\n",
    "- COLES embeds (w/ Aggregation by Days, 1 day) + Catboost:\n",
    "  - `Accuracy: 0.732`, `0.764`, `0.73`, avg: `0.742 +- 0.0156`\n",
    "  - `ROC-AUC: 0.8078386297777274`, `0.8116915704780561`, `0.8152207346489453`, avg: `0.8116 +- 0.003`"
   ]
  },
  {
   "cell_type": "markdown",
   "metadata": {},
   "source": [
    "---"
   ]
  },
  {
   "cell_type": "markdown",
   "metadata": {},
   "source": [
    "**Train sequences lengths check:**"
   ]
  },
  {
   "cell_type": "code",
   "execution_count": 23,
   "metadata": {
    "execution": {
     "iopub.execute_input": "2025-04-17T10:04:21.040194Z",
     "iopub.status.busy": "2025-04-17T10:04:21.039700Z",
     "iopub.status.idle": "2025-04-17T10:04:21.320090Z",
     "shell.execute_reply": "2025-04-17T10:04:21.319366Z",
     "shell.execute_reply.started": "2025-04-17T10:04:21.040167Z"
    },
    "trusted": true
   },
   "outputs": [
    {
     "data": {
      "text/plain": [
       "TimeAggregator(\n",
       "  (embeddings): ModuleDict(\n",
       "    (MCC): NoisyEmbedding(\n",
       "      342, 8, padding_idx=0\n",
       "      (dropout): Dropout(p=0, inplace=False)\n",
       "    )\n",
       "    (channel_type): NoisyEmbedding(\n",
       "      7, 8, padding_idx=0\n",
       "      (dropout): Dropout(p=0, inplace=False)\n",
       "    )\n",
       "    (currency): NoisyEmbedding(\n",
       "      60, 8, padding_idx=0\n",
       "      (dropout): Dropout(p=0, inplace=False)\n",
       "    )\n",
       "    (trx_category): NoisyEmbedding(\n",
       "      11, 8, padding_idx=0\n",
       "      (dropout): Dropout(p=0, inplace=False)\n",
       "    )\n",
       "  )\n",
       "  (custom_embeddings): ModuleDict(\n",
       "    (amount): LogScaler()\n",
       "  )\n",
       "  (time2vec_days): Time2Vec()\n",
       ")"
      ]
     },
     "execution_count": 23,
     "metadata": {},
     "output_type": "execute_result"
    }
   ],
   "source": [
    "agg_encoder_params = dict(\n",
    "    embeddings={\n",
    "        \"MCC\": {\"in\": 342, \"out\": 8},\n",
    "        \"channel_type\": {\"in\": 7, \"out\": 8},\n",
    "        \"currency\": {\"in\": 60, \"out\": 8},\n",
    "        \"trx_category\": {\"in\": 11, \"out\": 8}            \n",
    "    },\n",
    "    numeric_values={\"amount\": \"log\"},\n",
    "    embeddings_noise=0.003,\n",
    "    k=7,\n",
    "    time_col=\"event_time\",\n",
    "    n_days=2,\n",
    "    use_window_attention=False\n",
    ")\n",
    "\n",
    "trx_encoder = TimeAggregator(**agg_encoder_params)\n",
    "trx_encoder.to(\"cuda\")"
   ]
  },
  {
   "cell_type": "code",
   "execution_count": 25,
   "metadata": {
    "execution": {
     "iopub.execute_input": "2025-04-17T10:04:50.542080Z",
     "iopub.status.busy": "2025-04-17T10:04:50.541759Z",
     "iopub.status.idle": "2025-04-17T10:04:52.712062Z",
     "shell.execute_reply": "2025-04-17T10:04:52.711145Z",
     "shell.execute_reply.started": "2025-04-17T10:04:50.542055Z"
    },
    "trusted": true
   },
   "outputs": [
    {
     "name": "stderr",
     "output_type": "stream",
     "text": [
      "36it [00:02, 16.66it/s]"
     ]
    },
    {
     "name": "stdout",
     "output_type": "stream",
     "text": [
      "Max Length: 32\n"
     ]
    },
    {
     "name": "stderr",
     "output_type": "stream",
     "text": [
      "\n"
     ]
    }
   ],
   "source": [
    "train_loader = inference_data_loader(data_train, num_workers=0, batch_size=128)\n",
    "\n",
    "trx_encoder.eval()\n",
    "\n",
    "seq_lens = []\n",
    "\n",
    "for batch in tqdm(train_loader):\n",
    "    embeds_batch = trx_encoder(batch.to(\"cuda\"))\n",
    "    seq_lens += [embeds_batch.seq_lens.detach().cpu().numpy()]\n",
    "\n",
    "seq_lens = np.concatenate(seq_lens)\n",
    "\n",
    "threshold = int(np.quantile(seq_lens, 0.6))\n",
    "\n",
    "print(\"Max Length:\", threshold)"
   ]
  },
  {
   "cell_type": "markdown",
   "metadata": {},
   "source": [
    "---"
   ]
  },
  {
   "cell_type": "markdown",
   "metadata": {},
   "source": [
    "- **CPC modeling:**"
   ]
  },
  {
   "cell_type": "code",
   "execution_count": 148,
   "metadata": {
    "execution": {
     "iopub.execute_input": "2025-04-17T10:48:24.934346Z",
     "iopub.status.busy": "2025-04-17T10:48:24.934028Z",
     "iopub.status.idle": "2025-04-17T10:48:24.939470Z",
     "shell.execute_reply": "2025-04-17T10:48:24.938778Z",
     "shell.execute_reply.started": "2025-04-17T10:48:24.934320Z"
    },
    "trusted": true
   },
   "outputs": [],
   "source": [
    "seed_everything(42)"
   ]
  },
  {
   "cell_type": "markdown",
   "metadata": {},
   "source": [
    "**DataLoaders:**"
   ]
  },
  {
   "cell_type": "code",
   "execution_count": 149,
   "metadata": {
    "execution": {
     "iopub.execute_input": "2025-04-17T10:48:26.712402Z",
     "iopub.status.busy": "2025-04-17T10:48:26.712085Z",
     "iopub.status.idle": "2025-04-17T10:48:29.396842Z",
     "shell.execute_reply": "2025-04-17T10:48:29.396128Z",
     "shell.execute_reply.started": "2025-04-17T10:48:26.712373Z"
    },
    "trusted": true
   },
   "outputs": [],
   "source": [
    "data = PtlsDataModule(\n",
    "    train_data=CpcDataset(\n",
    "        MemoryMapDataset(\n",
    "            data=data_train,\n",
    "            i_filters=[AddNulls(null_cat=500, numeric_values=['amount'], col_time='event_time', col_id='cl_id')]\n",
    "        ),\n",
    "        min_len=27,             \n",
    "        max_len=32\n",
    "    ),\n",
    "    train_num_workers=4,\n",
    "    train_batch_size=128,\n",
    "    valid_data=CpcDataset(\n",
    "        MemoryMapDataset(\n",
    "            data=data_test,\n",
    "            i_filters=[AddNulls(null_cat=500, numeric_values=['amount'], col_time='event_time', col_id='cl_id')]\n",
    "        ),\n",
    "        min_len=27,\n",
    "        max_len=32\n",
    "    ),\n",
    "    valid_num_workers=4,\n",
    "    valid_batch_size=128\n",
    ")"
   ]
  },
  {
   "cell_type": "markdown",
   "metadata": {},
   "source": [
    "**Модель:**"
   ]
  },
  {
   "cell_type": "code",
   "execution_count": 150,
   "metadata": {
    "execution": {
     "iopub.execute_input": "2025-04-17T10:48:33.383858Z",
     "iopub.status.busy": "2025-04-17T10:48:33.383497Z",
     "iopub.status.idle": "2025-04-17T10:48:33.387231Z",
     "shell.execute_reply": "2025-04-17T10:48:33.386600Z",
     "shell.execute_reply.started": "2025-04-17T10:48:33.383830Z"
    },
    "trusted": true
   },
   "outputs": [],
   "source": [
    "N_EPOCHS = 20"
   ]
  },
  {
   "cell_type": "code",
   "execution_count": 151,
   "metadata": {
    "execution": {
     "iopub.execute_input": "2025-04-17T10:48:35.509328Z",
     "iopub.status.busy": "2025-04-17T10:48:35.509042Z",
     "iopub.status.idle": "2025-04-17T10:48:35.539416Z",
     "shell.execute_reply": "2025-04-17T10:48:35.538740Z",
     "shell.execute_reply.started": "2025-04-17T10:48:35.509307Z"
    },
    "trusted": true
   },
   "outputs": [],
   "source": [
    "agg_encoder_params = dict(\n",
    "    embeddings={\n",
    "        \"MCC\": {\"in\": 501, \"out\": 8},\n",
    "        \"channel_type\": {\"in\": 501, \"out\": 8},\n",
    "        \"currency\": {\"in\": 501, \"out\": 8},\n",
    "        \"trx_category\": {\"in\": 501, \"out\": 8}\n",
    "        # \"MCC\": {\"in\": 342, \"out\": 32}, # 8 / 16\n",
    "        # \"channel_type\": {\"in\": 7, \"out\": 32},\n",
    "        # \"currency\": {\"in\": 60, \"out\": 32},\n",
    "        # \"trx_category\": {\"in\": 11, \"out\": 32}            \n",
    "    },\n",
    "    numeric_values={\"amount\": \"log\"},\n",
    "    embeddings_noise=0.003,\n",
    "    k=7, # 31\n",
    "    time_col=\"event_time\",\n",
    "    n_days=2, #0.5, 1, 2\n",
    "    use_window_attention=False\n",
    ")\n",
    "\n",
    "trx_encoder = TimeAggregator(**agg_encoder_params)\n",
    "\n",
    "seq_encoder = RnnSeqEncoder(\n",
    "    trx_encoder=trx_encoder,\n",
    "    hidden_size=512,\n",
    "    type=\"gru\"\n",
    ")\n",
    "\n",
    "cpc = CpcModule(\n",
    "    seq_encoder=seq_encoder,\n",
    "    n_forward_steps=6,\n",
    "    n_negatives=40,\n",
    "    optimizer_partial=partial(torch.optim.Adam, lr=5e-4),\n",
    "    lr_scheduler_partial=partial(torch.optim.lr_scheduler.StepLR, step_size=5, gamma=0.5)\n",
    ")"
   ]
  },
  {
   "cell_type": "markdown",
   "metadata": {},
   "source": [
    "**Обучение:**"
   ]
  },
  {
   "cell_type": "code",
   "execution_count": 152,
   "metadata": {
    "execution": {
     "iopub.execute_input": "2025-04-17T10:48:52.490823Z",
     "iopub.status.busy": "2025-04-17T10:48:52.490486Z",
     "iopub.status.idle": "2025-04-17T10:48:52.534012Z",
     "shell.execute_reply": "2025-04-17T10:48:52.533137Z",
     "shell.execute_reply.started": "2025-04-17T10:48:52.490797Z"
    },
    "trusted": true
   },
   "outputs": [],
   "source": [
    "logger = CometLogger(project_name=\"evs-ssl-rb\", experiment_name=\"CPC_modeling_AggByDays (2 days, w/ AddNulls, emb_dim=8)\")\n",
    "\n",
    "trainer = pl.Trainer(\n",
    "    logger=logger,\n",
    "    max_epochs=N_EPOCHS,\n",
    "    accelerator=\"gpu\",\n",
    "    devices=1,\n",
    "    enable_progress_bar=True\n",
    ")"
   ]
  },
  {
   "cell_type": "code",
   "execution_count": 153,
   "metadata": {
    "execution": {
     "iopub.execute_input": "2025-04-17T10:48:54.974244Z",
     "iopub.status.busy": "2025-04-17T10:48:54.973925Z",
     "iopub.status.idle": "2025-04-17T10:50:47.853809Z",
     "shell.execute_reply": "2025-04-17T10:50:47.853045Z",
     "shell.execute_reply.started": "2025-04-17T10:48:54.974216Z"
    },
    "trusted": true
   },
   "outputs": [
    {
     "name": "stderr",
     "output_type": "stream",
     "text": [
      "\u001b[1;38;5;214mCOMET WARNING:\u001b[0m As you are running in a Jupyter environment, you will need to call `experiment.end()` when finished to ensure all metrics and code are logged before exiting.\n",
      "\u001b[1;38;5;39mCOMET INFO:\u001b[0m Experiment is live on comet.com https://www.comet.com/askoro/evs-ssl-rb/339996686db4414ebdefc3536505075e\n",
      "\n",
      "\u001b[1;38;5;39mCOMET INFO:\u001b[0m Couldn't find a Git repository in '/kaggle/working' nor in any parent directory. Set `COMET_GIT_DIRECTORY` if your Git Repository is elsewhere.\n"
     ]
    },
    {
     "data": {
      "application/vnd.jupyter.widget-view+json": {
       "model_id": "",
       "version_major": 2,
       "version_minor": 0
      },
      "text/plain": [
       "Sanity Checking: |          | 0/? [00:00<?, ?it/s]"
      ]
     },
     "metadata": {},
     "output_type": "display_data"
    },
    {
     "name": "stderr",
     "output_type": "stream",
     "text": [
      "/usr/local/lib/python3.10/dist-packages/pytorch_lightning/loops/fit_loop.py:310: PossibleUserWarning:\n",
      "\n",
      "The number of training batches (36) is smaller than the logging interval Trainer(log_every_n_steps=50). Set a lower value for log_every_n_steps if you want to see logs for the training epoch.\n",
      "\n"
     ]
    },
    {
     "data": {
      "application/vnd.jupyter.widget-view+json": {
       "model_id": "23cd8d19140c41de98f4f01a63ad9ccd",
       "version_major": 2,
       "version_minor": 0
      },
      "text/plain": [
       "Training: |          | 0/? [00:00<?, ?it/s]"
      ]
     },
     "metadata": {},
     "output_type": "display_data"
    },
    {
     "data": {
      "application/vnd.jupyter.widget-view+json": {
       "model_id": "",
       "version_major": 2,
       "version_minor": 0
      },
      "text/plain": [
       "Validation: |          | 0/? [00:00<?, ?it/s]"
      ]
     },
     "metadata": {},
     "output_type": "display_data"
    },
    {
     "data": {
      "application/vnd.jupyter.widget-view+json": {
       "model_id": "",
       "version_major": 2,
       "version_minor": 0
      },
      "text/plain": [
       "Validation: |          | 0/? [00:00<?, ?it/s]"
      ]
     },
     "metadata": {},
     "output_type": "display_data"
    },
    {
     "data": {
      "application/vnd.jupyter.widget-view+json": {
       "model_id": "",
       "version_major": 2,
       "version_minor": 0
      },
      "text/plain": [
       "Validation: |          | 0/? [00:00<?, ?it/s]"
      ]
     },
     "metadata": {},
     "output_type": "display_data"
    },
    {
     "data": {
      "application/vnd.jupyter.widget-view+json": {
       "model_id": "",
       "version_major": 2,
       "version_minor": 0
      },
      "text/plain": [
       "Validation: |          | 0/? [00:00<?, ?it/s]"
      ]
     },
     "metadata": {},
     "output_type": "display_data"
    },
    {
     "data": {
      "application/vnd.jupyter.widget-view+json": {
       "model_id": "",
       "version_major": 2,
       "version_minor": 0
      },
      "text/plain": [
       "Validation: |          | 0/? [00:00<?, ?it/s]"
      ]
     },
     "metadata": {},
     "output_type": "display_data"
    },
    {
     "data": {
      "application/vnd.jupyter.widget-view+json": {
       "model_id": "",
       "version_major": 2,
       "version_minor": 0
      },
      "text/plain": [
       "Validation: |          | 0/? [00:00<?, ?it/s]"
      ]
     },
     "metadata": {},
     "output_type": "display_data"
    },
    {
     "data": {
      "application/vnd.jupyter.widget-view+json": {
       "model_id": "",
       "version_major": 2,
       "version_minor": 0
      },
      "text/plain": [
       "Validation: |          | 0/? [00:00<?, ?it/s]"
      ]
     },
     "metadata": {},
     "output_type": "display_data"
    },
    {
     "data": {
      "application/vnd.jupyter.widget-view+json": {
       "model_id": "",
       "version_major": 2,
       "version_minor": 0
      },
      "text/plain": [
       "Validation: |          | 0/? [00:00<?, ?it/s]"
      ]
     },
     "metadata": {},
     "output_type": "display_data"
    },
    {
     "data": {
      "application/vnd.jupyter.widget-view+json": {
       "model_id": "",
       "version_major": 2,
       "version_minor": 0
      },
      "text/plain": [
       "Validation: |          | 0/? [00:00<?, ?it/s]"
      ]
     },
     "metadata": {},
     "output_type": "display_data"
    },
    {
     "data": {
      "application/vnd.jupyter.widget-view+json": {
       "model_id": "",
       "version_major": 2,
       "version_minor": 0
      },
      "text/plain": [
       "Validation: |          | 0/? [00:00<?, ?it/s]"
      ]
     },
     "metadata": {},
     "output_type": "display_data"
    },
    {
     "data": {
      "application/vnd.jupyter.widget-view+json": {
       "model_id": "",
       "version_major": 2,
       "version_minor": 0
      },
      "text/plain": [
       "Validation: |          | 0/? [00:00<?, ?it/s]"
      ]
     },
     "metadata": {},
     "output_type": "display_data"
    },
    {
     "data": {
      "application/vnd.jupyter.widget-view+json": {
       "model_id": "",
       "version_major": 2,
       "version_minor": 0
      },
      "text/plain": [
       "Validation: |          | 0/? [00:00<?, ?it/s]"
      ]
     },
     "metadata": {},
     "output_type": "display_data"
    },
    {
     "data": {
      "application/vnd.jupyter.widget-view+json": {
       "model_id": "",
       "version_major": 2,
       "version_minor": 0
      },
      "text/plain": [
       "Validation: |          | 0/? [00:00<?, ?it/s]"
      ]
     },
     "metadata": {},
     "output_type": "display_data"
    },
    {
     "data": {
      "application/vnd.jupyter.widget-view+json": {
       "model_id": "",
       "version_major": 2,
       "version_minor": 0
      },
      "text/plain": [
       "Validation: |          | 0/? [00:00<?, ?it/s]"
      ]
     },
     "metadata": {},
     "output_type": "display_data"
    },
    {
     "data": {
      "application/vnd.jupyter.widget-view+json": {
       "model_id": "",
       "version_major": 2,
       "version_minor": 0
      },
      "text/plain": [
       "Validation: |          | 0/? [00:00<?, ?it/s]"
      ]
     },
     "metadata": {},
     "output_type": "display_data"
    },
    {
     "data": {
      "application/vnd.jupyter.widget-view+json": {
       "model_id": "",
       "version_major": 2,
       "version_minor": 0
      },
      "text/plain": [
       "Validation: |          | 0/? [00:00<?, ?it/s]"
      ]
     },
     "metadata": {},
     "output_type": "display_data"
    },
    {
     "data": {
      "application/vnd.jupyter.widget-view+json": {
       "model_id": "",
       "version_major": 2,
       "version_minor": 0
      },
      "text/plain": [
       "Validation: |          | 0/? [00:00<?, ?it/s]"
      ]
     },
     "metadata": {},
     "output_type": "display_data"
    },
    {
     "data": {
      "application/vnd.jupyter.widget-view+json": {
       "model_id": "",
       "version_major": 2,
       "version_minor": 0
      },
      "text/plain": [
       "Validation: |          | 0/? [00:00<?, ?it/s]"
      ]
     },
     "metadata": {},
     "output_type": "display_data"
    },
    {
     "data": {
      "application/vnd.jupyter.widget-view+json": {
       "model_id": "",
       "version_major": 2,
       "version_minor": 0
      },
      "text/plain": [
       "Validation: |          | 0/? [00:00<?, ?it/s]"
      ]
     },
     "metadata": {},
     "output_type": "display_data"
    },
    {
     "data": {
      "application/vnd.jupyter.widget-view+json": {
       "model_id": "",
       "version_major": 2,
       "version_minor": 0
      },
      "text/plain": [
       "Validation: |          | 0/? [00:00<?, ?it/s]"
      ]
     },
     "metadata": {},
     "output_type": "display_data"
    },
    {
     "name": "stderr",
     "output_type": "stream",
     "text": [
      "\u001b[1;38;5;39mCOMET INFO:\u001b[0m ---------------------------------------------------------------------------------------\n",
      "\u001b[1;38;5;39mCOMET INFO:\u001b[0m Comet.ml Experiment Summary\n",
      "\u001b[1;38;5;39mCOMET INFO:\u001b[0m ---------------------------------------------------------------------------------------\n",
      "\u001b[1;38;5;39mCOMET INFO:\u001b[0m   Data:\n",
      "\u001b[1;38;5;39mCOMET INFO:\u001b[0m     display_summary_level : 1\n",
      "\u001b[1;38;5;39mCOMET INFO:\u001b[0m     name                  : CPC_modeling_AggByDays (2 days, w/ AddNulls, emb_dim=8)\n",
      "\u001b[1;38;5;39mCOMET INFO:\u001b[0m     url                   : https://www.comet.com/askoro/evs-ssl-rb/339996686db4414ebdefc3536505075e\n",
      "\u001b[1;38;5;39mCOMET INFO:\u001b[0m   Metrics [count] (min, max):\n",
      "\u001b[1;38;5;39mCOMET INFO:\u001b[0m     loss [86]               : (1.1672450304031372, 4.324618816375732)\n",
      "\u001b[1;38;5;39mCOMET INFO:\u001b[0m     seq_len [14]            : (28.0859375, 28.921875)\n",
      "\u001b[1;38;5;39mCOMET INFO:\u001b[0m     valid/cpc_accuracy [20] : (0.216631218791008, 0.6367470026016235)\n",
      "\u001b[1;38;5;39mCOMET INFO:\u001b[0m   Others:\n",
      "\u001b[1;38;5;39mCOMET INFO:\u001b[0m     Name : CPC_modeling_AggByDays (2 days, w/ AddNulls, emb_dim=8)\n",
      "\u001b[1;38;5;39mCOMET INFO:\u001b[0m   Parameters:\n",
      "\u001b[1;38;5;39mCOMET INFO:\u001b[0m     test_batch_size   : None\n",
      "\u001b[1;38;5;39mCOMET INFO:\u001b[0m     test_drop_last    : False\n",
      "\u001b[1;38;5;39mCOMET INFO:\u001b[0m     test_num_workers  : None\n",
      "\u001b[1;38;5;39mCOMET INFO:\u001b[0m     train_batch_size  : 128\n",
      "\u001b[1;38;5;39mCOMET INFO:\u001b[0m     train_drop_last   : False\n",
      "\u001b[1;38;5;39mCOMET INFO:\u001b[0m     train_num_workers : 4\n",
      "\u001b[1;38;5;39mCOMET INFO:\u001b[0m     valid_batch_size  : 128\n",
      "\u001b[1;38;5;39mCOMET INFO:\u001b[0m     valid_drop_last   : False\n",
      "\u001b[1;38;5;39mCOMET INFO:\u001b[0m     valid_num_workers : 4\n",
      "\u001b[1;38;5;39mCOMET INFO:\u001b[0m   Uploads:\n",
      "\u001b[1;38;5;39mCOMET INFO:\u001b[0m     environment details : 1\n",
      "\u001b[1;38;5;39mCOMET INFO:\u001b[0m     filename            : 1\n",
      "\u001b[1;38;5;39mCOMET INFO:\u001b[0m     installed packages  : 1\n",
      "\u001b[1;38;5;39mCOMET INFO:\u001b[0m     model graph         : 1\n",
      "\u001b[1;38;5;39mCOMET INFO:\u001b[0m     notebook            : 1\n",
      "\u001b[1;38;5;39mCOMET INFO:\u001b[0m     os packages         : 1\n",
      "\u001b[1;38;5;39mCOMET INFO:\u001b[0m     source_code         : 1\n",
      "\u001b[1;38;5;39mCOMET INFO:\u001b[0m \n"
     ]
    }
   ],
   "source": [
    "trainer.fit(cpc, data)"
   ]
  },
  {
   "cell_type": "code",
   "execution_count": 154,
   "metadata": {
    "execution": {
     "iopub.execute_input": "2025-04-17T10:51:13.518751Z",
     "iopub.status.busy": "2025-04-17T10:51:13.518387Z",
     "iopub.status.idle": "2025-04-17T10:51:13.526120Z",
     "shell.execute_reply": "2025-04-17T10:51:13.525398Z",
     "shell.execute_reply.started": "2025-04-17T10:51:13.518720Z"
    },
    "trusted": true
   },
   "outputs": [
    {
     "data": {
      "text/plain": [
       "{'loss': tensor(1.0395),\n",
       " 'seq_len': tensor(29.2000),\n",
       " 'valid/cpc_accuracy': tensor(0.6132)}"
      ]
     },
     "execution_count": 154,
     "metadata": {},
     "output_type": "execute_result"
    }
   ],
   "source": [
    "trainer.logged_metrics"
   ]
  },
  {
   "cell_type": "code",
   "execution_count": 82,
   "metadata": {
    "execution": {
     "iopub.execute_input": "2025-02-26T01:55:55.069371Z",
     "iopub.status.busy": "2025-02-26T01:55:55.069008Z",
     "iopub.status.idle": "2025-02-26T01:55:55.082795Z",
     "shell.execute_reply": "2025-02-26T01:55:55.081884Z",
     "shell.execute_reply.started": "2025-02-26T01:55:55.069345Z"
    },
    "trusted": true
   },
   "outputs": [],
   "source": [
    "torch.save(seq_encoder.state_dict(), \"cpc_enc_baseline_rosbank.pt\")"
   ]
  },
  {
   "cell_type": "markdown",
   "metadata": {},
   "source": [
    "**Измерим качество на тесте (catboost поверх эмбеддингов):**"
   ]
  },
  {
   "cell_type": "code",
   "execution_count": null,
   "metadata": {
    "trusted": true
   },
   "outputs": [],
   "source": [
    "# !wget \"https://drive.google.com/uc?export=download&id=11j6QgNsdOSTK-GRaAJLKObDW7ehS_aqK\" -O \"cpc_enc_baseline_higher_trx_dim.pt\""
   ]
  },
  {
   "cell_type": "code",
   "execution_count": 155,
   "metadata": {
    "execution": {
     "iopub.execute_input": "2025-04-17T10:51:19.304407Z",
     "iopub.status.busy": "2025-04-17T10:51:19.304105Z",
     "iopub.status.idle": "2025-04-17T10:51:19.312678Z",
     "shell.execute_reply": "2025-04-17T10:51:19.311939Z",
     "shell.execute_reply.started": "2025-04-17T10:51:19.304383Z"
    },
    "trusted": true
   },
   "outputs": [
    {
     "data": {
      "text/plain": [
       "RnnSeqEncoder(\n",
       "  (trx_encoder): TimeAggregator(\n",
       "    (embeddings): ModuleDict(\n",
       "      (MCC): NoisyEmbedding(\n",
       "        501, 8, padding_idx=0\n",
       "        (dropout): Dropout(p=0, inplace=False)\n",
       "      )\n",
       "      (channel_type): NoisyEmbedding(\n",
       "        501, 8, padding_idx=0\n",
       "        (dropout): Dropout(p=0, inplace=False)\n",
       "      )\n",
       "      (currency): NoisyEmbedding(\n",
       "        501, 8, padding_idx=0\n",
       "        (dropout): Dropout(p=0, inplace=False)\n",
       "      )\n",
       "      (trx_category): NoisyEmbedding(\n",
       "        501, 8, padding_idx=0\n",
       "        (dropout): Dropout(p=0, inplace=False)\n",
       "      )\n",
       "    )\n",
       "    (custom_embeddings): ModuleDict(\n",
       "      (amount): LogScaler()\n",
       "    )\n",
       "    (time2vec_days): Time2Vec()\n",
       "  )\n",
       "  (seq_encoder): RnnEncoder(\n",
       "    (rnn): GRU(41, 512, batch_first=True)\n",
       "    (reducer): LastStepEncoder()\n",
       "  )\n",
       ")"
      ]
     },
     "execution_count": 155,
     "metadata": {},
     "output_type": "execute_result"
    }
   ],
   "source": [
    "encoder = cpc.seq_encoder\n",
    "\n",
    "# state_dict = torch.load(\"./cpc_enc_baseline_higher_trx_dim.pt\")\n",
    "# encoder.load_state_dict(state_dict)\n",
    "\n",
    "device = \"cuda:0\"\n",
    "\n",
    "encoder.to(device)"
   ]
  },
  {
   "cell_type": "code",
   "execution_count": 156,
   "metadata": {
    "execution": {
     "iopub.execute_input": "2025-04-17T10:51:22.969021Z",
     "iopub.status.busy": "2025-04-17T10:51:22.968718Z",
     "iopub.status.idle": "2025-04-17T10:51:22.972846Z",
     "shell.execute_reply": "2025-04-17T10:51:22.971910Z",
     "shell.execute_reply.started": "2025-04-17T10:51:22.969000Z"
    },
    "trusted": true
   },
   "outputs": [],
   "source": [
    "encoder.seq_encoder.is_reduce_sequence = True"
   ]
  },
  {
   "cell_type": "code",
   "execution_count": 157,
   "metadata": {
    "execution": {
     "iopub.execute_input": "2025-04-17T10:51:25.015483Z",
     "iopub.status.busy": "2025-04-17T10:51:25.015193Z",
     "iopub.status.idle": "2025-04-17T10:51:25.020967Z",
     "shell.execute_reply": "2025-04-17T10:51:25.020150Z",
     "shell.execute_reply.started": "2025-04-17T10:51:25.015462Z"
    },
    "trusted": true
   },
   "outputs": [],
   "source": [
    "from tqdm import tqdm\n",
    "\n",
    "seed_everything(42)"
   ]
  },
  {
   "cell_type": "code",
   "execution_count": 158,
   "metadata": {
    "execution": {
     "iopub.execute_input": "2025-04-17T10:51:26.932451Z",
     "iopub.status.busy": "2025-04-17T10:51:26.932165Z",
     "iopub.status.idle": "2025-04-17T10:51:29.950667Z",
     "shell.execute_reply": "2025-04-17T10:51:29.949684Z",
     "shell.execute_reply.started": "2025-04-17T10:51:26.932429Z"
    },
    "trusted": true
   },
   "outputs": [
    {
     "name": "stderr",
     "output_type": "stream",
     "text": [
      "36it [00:02, 12.24it/s]\n"
     ]
    },
    {
     "data": {
      "text/plain": [
       "array([[ 0.9541381 ,  0.99403846,  0.10655117, ..., -0.916811  ,\n",
       "        -0.8311571 , -0.38786554],\n",
       "       [ 0.99218386,  0.99758536,  0.03814796, ..., -0.9777452 ,\n",
       "        -0.97589546, -0.49847263],\n",
       "       [ 0.9881791 ,  0.997941  ,  0.3342201 , ..., -0.9748289 ,\n",
       "        -0.9562503 , -0.52611   ],\n",
       "       ...,\n",
       "       [ 0.98834205,  0.99861336,  0.29198986, ..., -0.9694647 ,\n",
       "        -0.9505587 , -0.50703603],\n",
       "       [ 0.9918332 ,  0.99803543,  0.11386814, ..., -0.97684854,\n",
       "        -0.97800344, -0.54774195],\n",
       "       [-0.96684486, -0.8031287 ,  0.9564984 , ..., -0.48132893,\n",
       "         0.9631571 ,  0.3243851 ]], dtype=float32)"
      ]
     },
     "execution_count": 158,
     "metadata": {},
     "output_type": "execute_result"
    }
   ],
   "source": [
    "train_loader = inference_data_loader(data_train, num_workers=0, batch_size=128)\n",
    "encoder.eval()\n",
    "train_embeds = None\n",
    "\n",
    "for i, batch in tqdm(enumerate(train_loader)):\n",
    "    train_embeds_batch = encoder(batch.to(device))\n",
    "    if i == 0:\n",
    "        train_embeds = train_embeds_batch.detach().cpu().numpy()\n",
    "    else:\n",
    "        train_embeds = np.concatenate([train_embeds, train_embeds_batch.detach().cpu().numpy()], axis=0)\n",
    "    \n",
    "train_embeds"
   ]
  },
  {
   "cell_type": "code",
   "execution_count": 159,
   "metadata": {
    "execution": {
     "iopub.execute_input": "2025-04-17T10:51:33.495336Z",
     "iopub.status.busy": "2025-04-17T10:51:33.495044Z",
     "iopub.status.idle": "2025-04-17T10:51:33.848963Z",
     "shell.execute_reply": "2025-04-17T10:51:33.848069Z",
     "shell.execute_reply.started": "2025-04-17T10:51:33.495315Z"
    },
    "trusted": true
   },
   "outputs": [
    {
     "name": "stderr",
     "output_type": "stream",
     "text": [
      "4it [00:00, 11.90it/s]\n"
     ]
    },
    {
     "data": {
      "text/plain": [
       "array([[ 0.991809  ,  0.9979612 ,  0.06920517, ..., -0.97705305,\n",
       "        -0.97472566, -0.5017541 ],\n",
       "       [ 0.98711056,  0.99756336,  0.32260552, ..., -0.97143745,\n",
       "        -0.96632314, -0.51865774],\n",
       "       [ 0.99033576,  0.9980214 ,  0.17980914, ..., -0.97829676,\n",
       "        -0.96514994, -0.47930518],\n",
       "       ...,\n",
       "       [ 0.9888353 ,  0.99810064,  0.27188414, ..., -0.97468996,\n",
       "        -0.956347  , -0.5483373 ],\n",
       "       [ 0.9876623 ,  0.9987104 ,  0.28125852, ..., -0.96727455,\n",
       "        -0.946679  , -0.47381157],\n",
       "       [ 0.9904298 ,  0.99856895,  0.11408179, ..., -0.9774277 ,\n",
       "        -0.9760469 , -0.5442818 ]], dtype=float32)"
      ]
     },
     "execution_count": 159,
     "metadata": {},
     "output_type": "execute_result"
    }
   ],
   "source": [
    "test_loader = inference_data_loader(data_test, num_workers=0, batch_size=128)\n",
    "encoder.eval()\n",
    "test_embeds = None\n",
    "\n",
    "for i, batch in tqdm(enumerate(test_loader)):\n",
    "    test_embeds_batch = encoder(batch.to(device))\n",
    "    if i == 0:\n",
    "        test_embeds = test_embeds_batch.detach().cpu().numpy()\n",
    "    else:\n",
    "        test_embeds = np.concatenate([test_embeds, test_embeds_batch.detach().cpu().numpy()], axis=0)\n",
    "    \n",
    "test_embeds"
   ]
  },
  {
   "cell_type": "code",
   "execution_count": 160,
   "metadata": {
    "collapsed": true,
    "execution": {
     "iopub.execute_input": "2025-04-17T10:51:36.862774Z",
     "iopub.status.busy": "2025-04-17T10:51:36.862409Z",
     "iopub.status.idle": "2025-04-17T10:51:43.350318Z",
     "shell.execute_reply": "2025-04-17T10:51:43.349417Z",
     "shell.execute_reply.started": "2025-04-17T10:51:36.862745Z"
    },
    "jupyter": {
     "outputs_hidden": true
    },
    "trusted": true
   },
   "outputs": [
    {
     "name": "stdout",
     "output_type": "stream",
     "text": [
      "Learning rate set to 0.088214\n",
      "0:\tlearn: 0.6656268\ttotal: 10.1ms\tremaining: 10.1s\n",
      "1:\tlearn: 0.6421251\ttotal: 17ms\tremaining: 8.51s\n",
      "2:\tlearn: 0.6220905\ttotal: 23.9ms\tremaining: 7.95s\n",
      "3:\tlearn: 0.6050007\ttotal: 30ms\tremaining: 7.46s\n",
      "4:\tlearn: 0.5901621\ttotal: 36.2ms\tremaining: 7.2s\n",
      "5:\tlearn: 0.5766946\ttotal: 42.5ms\tremaining: 7.04s\n",
      "6:\tlearn: 0.5657447\ttotal: 48.8ms\tremaining: 6.92s\n",
      "7:\tlearn: 0.5552907\ttotal: 55ms\tremaining: 6.82s\n",
      "8:\tlearn: 0.5468687\ttotal: 61.1ms\tremaining: 6.73s\n",
      "9:\tlearn: 0.5387932\ttotal: 67.3ms\tremaining: 6.67s\n",
      "10:\tlearn: 0.5316554\ttotal: 73.4ms\tremaining: 6.6s\n",
      "11:\tlearn: 0.5256854\ttotal: 79.4ms\tremaining: 6.54s\n",
      "12:\tlearn: 0.5197792\ttotal: 85.8ms\tremaining: 6.51s\n",
      "13:\tlearn: 0.5150962\ttotal: 92.1ms\tremaining: 6.49s\n",
      "14:\tlearn: 0.5104508\ttotal: 98.1ms\tremaining: 6.44s\n",
      "15:\tlearn: 0.5061779\ttotal: 104ms\tremaining: 6.41s\n",
      "16:\tlearn: 0.5026820\ttotal: 110ms\tremaining: 6.37s\n",
      "17:\tlearn: 0.4998763\ttotal: 116ms\tremaining: 6.34s\n",
      "18:\tlearn: 0.4967796\ttotal: 123ms\tremaining: 6.33s\n",
      "19:\tlearn: 0.4938076\ttotal: 130ms\tremaining: 6.35s\n",
      "20:\tlearn: 0.4915347\ttotal: 137ms\tremaining: 6.38s\n",
      "21:\tlearn: 0.4891286\ttotal: 144ms\tremaining: 6.39s\n",
      "22:\tlearn: 0.4869658\ttotal: 151ms\tremaining: 6.39s\n",
      "23:\tlearn: 0.4846395\ttotal: 157ms\tremaining: 6.39s\n",
      "24:\tlearn: 0.4823949\ttotal: 164ms\tremaining: 6.41s\n",
      "25:\tlearn: 0.4804508\ttotal: 170ms\tremaining: 6.38s\n",
      "26:\tlearn: 0.4783752\ttotal: 176ms\tremaining: 6.36s\n",
      "27:\tlearn: 0.4768862\ttotal: 182ms\tremaining: 6.32s\n",
      "28:\tlearn: 0.4753963\ttotal: 188ms\tremaining: 6.29s\n",
      "29:\tlearn: 0.4738271\ttotal: 194ms\tremaining: 6.26s\n",
      "30:\tlearn: 0.4721982\ttotal: 200ms\tremaining: 6.24s\n",
      "31:\tlearn: 0.4706651\ttotal: 206ms\tremaining: 6.24s\n",
      "32:\tlearn: 0.4694379\ttotal: 213ms\tremaining: 6.23s\n",
      "33:\tlearn: 0.4683117\ttotal: 219ms\tremaining: 6.23s\n",
      "34:\tlearn: 0.4670520\ttotal: 225ms\tremaining: 6.22s\n",
      "35:\tlearn: 0.4658383\ttotal: 232ms\tremaining: 6.2s\n",
      "36:\tlearn: 0.4649160\ttotal: 237ms\tremaining: 6.18s\n",
      "37:\tlearn: 0.4635078\ttotal: 243ms\tremaining: 6.16s\n",
      "38:\tlearn: 0.4627000\ttotal: 249ms\tremaining: 6.14s\n",
      "39:\tlearn: 0.4615615\ttotal: 255ms\tremaining: 6.13s\n",
      "40:\tlearn: 0.4604499\ttotal: 261ms\tremaining: 6.11s\n",
      "41:\tlearn: 0.4590686\ttotal: 267ms\tremaining: 6.09s\n",
      "42:\tlearn: 0.4578657\ttotal: 273ms\tremaining: 6.08s\n",
      "43:\tlearn: 0.4569780\ttotal: 279ms\tremaining: 6.06s\n",
      "44:\tlearn: 0.4563408\ttotal: 285ms\tremaining: 6.04s\n",
      "45:\tlearn: 0.4550407\ttotal: 291ms\tremaining: 6.03s\n",
      "46:\tlearn: 0.4542732\ttotal: 296ms\tremaining: 6s\n",
      "47:\tlearn: 0.4531529\ttotal: 302ms\tremaining: 5.99s\n",
      "48:\tlearn: 0.4520897\ttotal: 308ms\tremaining: 5.97s\n",
      "49:\tlearn: 0.4509124\ttotal: 314ms\tremaining: 5.96s\n",
      "50:\tlearn: 0.4503044\ttotal: 319ms\tremaining: 5.94s\n",
      "51:\tlearn: 0.4492702\ttotal: 325ms\tremaining: 5.93s\n",
      "52:\tlearn: 0.4485848\ttotal: 332ms\tremaining: 5.93s\n",
      "53:\tlearn: 0.4477898\ttotal: 339ms\tremaining: 5.93s\n",
      "54:\tlearn: 0.4466681\ttotal: 345ms\tremaining: 5.93s\n",
      "55:\tlearn: 0.4456656\ttotal: 351ms\tremaining: 5.92s\n",
      "56:\tlearn: 0.4446835\ttotal: 357ms\tremaining: 5.91s\n",
      "57:\tlearn: 0.4441821\ttotal: 364ms\tremaining: 5.91s\n",
      "58:\tlearn: 0.4432622\ttotal: 370ms\tremaining: 5.89s\n",
      "59:\tlearn: 0.4424773\ttotal: 376ms\tremaining: 5.89s\n",
      "60:\tlearn: 0.4420053\ttotal: 382ms\tremaining: 5.88s\n",
      "61:\tlearn: 0.4414205\ttotal: 388ms\tremaining: 5.87s\n",
      "62:\tlearn: 0.4405100\ttotal: 394ms\tremaining: 5.86s\n",
      "63:\tlearn: 0.4396536\ttotal: 400ms\tremaining: 5.84s\n",
      "64:\tlearn: 0.4388197\ttotal: 406ms\tremaining: 5.84s\n",
      "65:\tlearn: 0.4380267\ttotal: 412ms\tremaining: 5.83s\n",
      "66:\tlearn: 0.4374577\ttotal: 418ms\tremaining: 5.82s\n",
      "67:\tlearn: 0.4369607\ttotal: 424ms\tremaining: 5.8s\n",
      "68:\tlearn: 0.4364145\ttotal: 429ms\tremaining: 5.79s\n",
      "69:\tlearn: 0.4356143\ttotal: 435ms\tremaining: 5.78s\n",
      "70:\tlearn: 0.4347762\ttotal: 441ms\tremaining: 5.77s\n",
      "71:\tlearn: 0.4339037\ttotal: 447ms\tremaining: 5.76s\n",
      "72:\tlearn: 0.4329605\ttotal: 453ms\tremaining: 5.75s\n",
      "73:\tlearn: 0.4324260\ttotal: 458ms\tremaining: 5.73s\n",
      "74:\tlearn: 0.4316739\ttotal: 464ms\tremaining: 5.72s\n",
      "75:\tlearn: 0.4309922\ttotal: 470ms\tremaining: 5.71s\n",
      "76:\tlearn: 0.4297334\ttotal: 475ms\tremaining: 5.7s\n",
      "77:\tlearn: 0.4288538\ttotal: 481ms\tremaining: 5.69s\n",
      "78:\tlearn: 0.4279776\ttotal: 487ms\tremaining: 5.68s\n",
      "79:\tlearn: 0.4271738\ttotal: 493ms\tremaining: 5.67s\n",
      "80:\tlearn: 0.4262269\ttotal: 499ms\tremaining: 5.67s\n",
      "81:\tlearn: 0.4255298\ttotal: 505ms\tremaining: 5.66s\n",
      "82:\tlearn: 0.4246047\ttotal: 511ms\tremaining: 5.65s\n",
      "83:\tlearn: 0.4242176\ttotal: 517ms\tremaining: 5.64s\n",
      "84:\tlearn: 0.4235309\ttotal: 522ms\tremaining: 5.62s\n",
      "85:\tlearn: 0.4226099\ttotal: 528ms\tremaining: 5.61s\n",
      "86:\tlearn: 0.4221497\ttotal: 534ms\tremaining: 5.6s\n",
      "87:\tlearn: 0.4213676\ttotal: 540ms\tremaining: 5.59s\n",
      "88:\tlearn: 0.4209687\ttotal: 546ms\tremaining: 5.59s\n",
      "89:\tlearn: 0.4202505\ttotal: 552ms\tremaining: 5.59s\n",
      "90:\tlearn: 0.4198725\ttotal: 558ms\tremaining: 5.57s\n",
      "91:\tlearn: 0.4192096\ttotal: 564ms\tremaining: 5.57s\n",
      "92:\tlearn: 0.4188340\ttotal: 569ms\tremaining: 5.55s\n",
      "93:\tlearn: 0.4179237\ttotal: 575ms\tremaining: 5.54s\n",
      "94:\tlearn: 0.4170274\ttotal: 581ms\tremaining: 5.54s\n",
      "95:\tlearn: 0.4164840\ttotal: 587ms\tremaining: 5.52s\n",
      "96:\tlearn: 0.4158684\ttotal: 592ms\tremaining: 5.51s\n",
      "97:\tlearn: 0.4153506\ttotal: 598ms\tremaining: 5.51s\n",
      "98:\tlearn: 0.4146768\ttotal: 604ms\tremaining: 5.5s\n",
      "99:\tlearn: 0.4139968\ttotal: 611ms\tremaining: 5.5s\n",
      "100:\tlearn: 0.4129771\ttotal: 617ms\tremaining: 5.49s\n",
      "101:\tlearn: 0.4125158\ttotal: 623ms\tremaining: 5.49s\n",
      "102:\tlearn: 0.4117722\ttotal: 630ms\tremaining: 5.49s\n",
      "103:\tlearn: 0.4115408\ttotal: 636ms\tremaining: 5.48s\n",
      "104:\tlearn: 0.4108370\ttotal: 642ms\tremaining: 5.47s\n",
      "105:\tlearn: 0.4105098\ttotal: 648ms\tremaining: 5.46s\n",
      "106:\tlearn: 0.4100181\ttotal: 653ms\tremaining: 5.45s\n",
      "107:\tlearn: 0.4094254\ttotal: 659ms\tremaining: 5.44s\n",
      "108:\tlearn: 0.4089414\ttotal: 665ms\tremaining: 5.43s\n",
      "109:\tlearn: 0.4084662\ttotal: 670ms\tremaining: 5.42s\n",
      "110:\tlearn: 0.4080885\ttotal: 676ms\tremaining: 5.41s\n",
      "111:\tlearn: 0.4075790\ttotal: 682ms\tremaining: 5.41s\n",
      "112:\tlearn: 0.4069625\ttotal: 687ms\tremaining: 5.39s\n",
      "113:\tlearn: 0.4065852\ttotal: 693ms\tremaining: 5.38s\n",
      "114:\tlearn: 0.4058549\ttotal: 699ms\tremaining: 5.38s\n",
      "115:\tlearn: 0.4052836\ttotal: 705ms\tremaining: 5.37s\n",
      "116:\tlearn: 0.4048318\ttotal: 710ms\tremaining: 5.36s\n",
      "117:\tlearn: 0.4043461\ttotal: 716ms\tremaining: 5.35s\n",
      "118:\tlearn: 0.4035694\ttotal: 722ms\tremaining: 5.34s\n",
      "119:\tlearn: 0.4027934\ttotal: 728ms\tremaining: 5.34s\n",
      "120:\tlearn: 0.4019640\ttotal: 734ms\tremaining: 5.33s\n",
      "121:\tlearn: 0.4014986\ttotal: 740ms\tremaining: 5.32s\n",
      "122:\tlearn: 0.4008654\ttotal: 746ms\tremaining: 5.32s\n",
      "123:\tlearn: 0.4004678\ttotal: 751ms\tremaining: 5.31s\n",
      "124:\tlearn: 0.3993825\ttotal: 757ms\tremaining: 5.3s\n",
      "125:\tlearn: 0.3990856\ttotal: 763ms\tremaining: 5.29s\n",
      "126:\tlearn: 0.3988125\ttotal: 768ms\tremaining: 5.28s\n",
      "127:\tlearn: 0.3983309\ttotal: 774ms\tremaining: 5.27s\n",
      "128:\tlearn: 0.3977467\ttotal: 780ms\tremaining: 5.26s\n",
      "129:\tlearn: 0.3974982\ttotal: 785ms\tremaining: 5.26s\n",
      "130:\tlearn: 0.3966450\ttotal: 792ms\tremaining: 5.25s\n",
      "131:\tlearn: 0.3957425\ttotal: 798ms\tremaining: 5.25s\n",
      "132:\tlearn: 0.3954131\ttotal: 803ms\tremaining: 5.24s\n",
      "133:\tlearn: 0.3948663\ttotal: 809ms\tremaining: 5.23s\n",
      "134:\tlearn: 0.3945227\ttotal: 815ms\tremaining: 5.22s\n",
      "135:\tlearn: 0.3938858\ttotal: 821ms\tremaining: 5.21s\n",
      "136:\tlearn: 0.3932214\ttotal: 827ms\tremaining: 5.21s\n",
      "137:\tlearn: 0.3929036\ttotal: 832ms\tremaining: 5.2s\n",
      "138:\tlearn: 0.3923877\ttotal: 838ms\tremaining: 5.19s\n",
      "139:\tlearn: 0.3916641\ttotal: 844ms\tremaining: 5.18s\n",
      "140:\tlearn: 0.3911797\ttotal: 850ms\tremaining: 5.17s\n",
      "141:\tlearn: 0.3907865\ttotal: 855ms\tremaining: 5.17s\n",
      "142:\tlearn: 0.3904461\ttotal: 861ms\tremaining: 5.16s\n",
      "143:\tlearn: 0.3895055\ttotal: 867ms\tremaining: 5.15s\n",
      "144:\tlearn: 0.3886721\ttotal: 873ms\tremaining: 5.15s\n",
      "145:\tlearn: 0.3879813\ttotal: 879ms\tremaining: 5.14s\n",
      "146:\tlearn: 0.3872330\ttotal: 885ms\tremaining: 5.13s\n",
      "147:\tlearn: 0.3869948\ttotal: 890ms\tremaining: 5.13s\n",
      "148:\tlearn: 0.3866061\ttotal: 896ms\tremaining: 5.12s\n",
      "149:\tlearn: 0.3859500\ttotal: 902ms\tremaining: 5.11s\n",
      "150:\tlearn: 0.3854256\ttotal: 908ms\tremaining: 5.11s\n",
      "151:\tlearn: 0.3849023\ttotal: 914ms\tremaining: 5.1s\n",
      "152:\tlearn: 0.3844584\ttotal: 919ms\tremaining: 5.09s\n",
      "153:\tlearn: 0.3837957\ttotal: 925ms\tremaining: 5.08s\n",
      "154:\tlearn: 0.3831090\ttotal: 931ms\tremaining: 5.08s\n",
      "155:\tlearn: 0.3823334\ttotal: 937ms\tremaining: 5.07s\n",
      "156:\tlearn: 0.3817890\ttotal: 943ms\tremaining: 5.07s\n",
      "157:\tlearn: 0.3812528\ttotal: 950ms\tremaining: 5.06s\n",
      "158:\tlearn: 0.3807250\ttotal: 956ms\tremaining: 5.06s\n",
      "159:\tlearn: 0.3801179\ttotal: 963ms\tremaining: 5.05s\n",
      "160:\tlearn: 0.3795476\ttotal: 969ms\tremaining: 5.05s\n",
      "161:\tlearn: 0.3790930\ttotal: 975ms\tremaining: 5.05s\n",
      "162:\tlearn: 0.3786956\ttotal: 982ms\tremaining: 5.04s\n",
      "163:\tlearn: 0.3780297\ttotal: 988ms\tremaining: 5.04s\n",
      "164:\tlearn: 0.3776369\ttotal: 994ms\tremaining: 5.03s\n",
      "165:\tlearn: 0.3772354\ttotal: 1s\tremaining: 5.03s\n",
      "166:\tlearn: 0.3769983\ttotal: 1s\tremaining: 5.02s\n",
      "167:\tlearn: 0.3762400\ttotal: 1.01s\tremaining: 5.01s\n",
      "168:\tlearn: 0.3756236\ttotal: 1.02s\tremaining: 5s\n",
      "169:\tlearn: 0.3753424\ttotal: 1.02s\tremaining: 5s\n",
      "170:\tlearn: 0.3751499\ttotal: 1.03s\tremaining: 4.99s\n",
      "171:\tlearn: 0.3745382\ttotal: 1.03s\tremaining: 4.99s\n",
      "172:\tlearn: 0.3741200\ttotal: 1.04s\tremaining: 4.98s\n",
      "173:\tlearn: 0.3735462\ttotal: 1.05s\tremaining: 4.98s\n",
      "174:\tlearn: 0.3730639\ttotal: 1.05s\tremaining: 4.97s\n",
      "175:\tlearn: 0.3724366\ttotal: 1.06s\tremaining: 4.97s\n",
      "176:\tlearn: 0.3718388\ttotal: 1.07s\tremaining: 4.96s\n",
      "177:\tlearn: 0.3714024\ttotal: 1.07s\tremaining: 4.96s\n",
      "178:\tlearn: 0.3709589\ttotal: 1.08s\tremaining: 4.96s\n",
      "179:\tlearn: 0.3706358\ttotal: 1.09s\tremaining: 4.95s\n",
      "180:\tlearn: 0.3700888\ttotal: 1.09s\tremaining: 4.94s\n",
      "181:\tlearn: 0.3695527\ttotal: 1.1s\tremaining: 4.93s\n",
      "182:\tlearn: 0.3689265\ttotal: 1.1s\tremaining: 4.93s\n",
      "183:\tlearn: 0.3683186\ttotal: 1.11s\tremaining: 4.92s\n",
      "184:\tlearn: 0.3680338\ttotal: 1.11s\tremaining: 4.91s\n",
      "185:\tlearn: 0.3677029\ttotal: 1.12s\tremaining: 4.91s\n",
      "186:\tlearn: 0.3674216\ttotal: 1.13s\tremaining: 4.9s\n",
      "187:\tlearn: 0.3670917\ttotal: 1.13s\tremaining: 4.89s\n",
      "188:\tlearn: 0.3663816\ttotal: 1.14s\tremaining: 4.89s\n",
      "189:\tlearn: 0.3660009\ttotal: 1.15s\tremaining: 4.88s\n",
      "190:\tlearn: 0.3656063\ttotal: 1.15s\tremaining: 4.88s\n",
      "191:\tlearn: 0.3650203\ttotal: 1.16s\tremaining: 4.87s\n",
      "192:\tlearn: 0.3644274\ttotal: 1.16s\tremaining: 4.87s\n",
      "193:\tlearn: 0.3641208\ttotal: 1.17s\tremaining: 4.86s\n",
      "194:\tlearn: 0.3636908\ttotal: 1.18s\tremaining: 4.85s\n",
      "195:\tlearn: 0.3632760\ttotal: 1.18s\tremaining: 4.84s\n",
      "196:\tlearn: 0.3629956\ttotal: 1.19s\tremaining: 4.84s\n",
      "197:\tlearn: 0.3624538\ttotal: 1.19s\tremaining: 4.83s\n",
      "198:\tlearn: 0.3621827\ttotal: 1.2s\tremaining: 4.82s\n",
      "199:\tlearn: 0.3617164\ttotal: 1.2s\tremaining: 4.82s\n",
      "200:\tlearn: 0.3611229\ttotal: 1.21s\tremaining: 4.81s\n",
      "201:\tlearn: 0.3606799\ttotal: 1.22s\tremaining: 4.8s\n",
      "202:\tlearn: 0.3601697\ttotal: 1.22s\tremaining: 4.8s\n",
      "203:\tlearn: 0.3598829\ttotal: 1.23s\tremaining: 4.79s\n",
      "204:\tlearn: 0.3593472\ttotal: 1.23s\tremaining: 4.78s\n",
      "205:\tlearn: 0.3588219\ttotal: 1.24s\tremaining: 4.77s\n",
      "206:\tlearn: 0.3582430\ttotal: 1.24s\tremaining: 4.77s\n",
      "207:\tlearn: 0.3580239\ttotal: 1.25s\tremaining: 4.76s\n",
      "208:\tlearn: 0.3576317\ttotal: 1.25s\tremaining: 4.75s\n",
      "209:\tlearn: 0.3571838\ttotal: 1.26s\tremaining: 4.75s\n",
      "210:\tlearn: 0.3565952\ttotal: 1.27s\tremaining: 4.74s\n",
      "211:\tlearn: 0.3558723\ttotal: 1.27s\tremaining: 4.74s\n",
      "212:\tlearn: 0.3553853\ttotal: 1.28s\tremaining: 4.73s\n",
      "213:\tlearn: 0.3547810\ttotal: 1.28s\tremaining: 4.72s\n",
      "214:\tlearn: 0.3544827\ttotal: 1.29s\tremaining: 4.71s\n",
      "215:\tlearn: 0.3538543\ttotal: 1.3s\tremaining: 4.71s\n",
      "216:\tlearn: 0.3534313\ttotal: 1.3s\tremaining: 4.7s\n",
      "217:\tlearn: 0.3530135\ttotal: 1.31s\tremaining: 4.7s\n",
      "218:\tlearn: 0.3524623\ttotal: 1.31s\tremaining: 4.69s\n",
      "219:\tlearn: 0.3521710\ttotal: 1.32s\tremaining: 4.68s\n",
      "220:\tlearn: 0.3519060\ttotal: 1.33s\tremaining: 4.68s\n",
      "221:\tlearn: 0.3516781\ttotal: 1.33s\tremaining: 4.67s\n",
      "222:\tlearn: 0.3514404\ttotal: 1.34s\tremaining: 4.66s\n",
      "223:\tlearn: 0.3509949\ttotal: 1.34s\tremaining: 4.66s\n",
      "224:\tlearn: 0.3503921\ttotal: 1.35s\tremaining: 4.65s\n",
      "225:\tlearn: 0.3497689\ttotal: 1.35s\tremaining: 4.64s\n",
      "226:\tlearn: 0.3492244\ttotal: 1.36s\tremaining: 4.63s\n",
      "227:\tlearn: 0.3487313\ttotal: 1.37s\tremaining: 4.63s\n",
      "228:\tlearn: 0.3483330\ttotal: 1.37s\tremaining: 4.62s\n",
      "229:\tlearn: 0.3480144\ttotal: 1.38s\tremaining: 4.61s\n",
      "230:\tlearn: 0.3474985\ttotal: 1.38s\tremaining: 4.61s\n",
      "231:\tlearn: 0.3472740\ttotal: 1.39s\tremaining: 4.6s\n",
      "232:\tlearn: 0.3467393\ttotal: 1.4s\tremaining: 4.59s\n",
      "233:\tlearn: 0.3461844\ttotal: 1.4s\tremaining: 4.59s\n",
      "234:\tlearn: 0.3453451\ttotal: 1.41s\tremaining: 4.58s\n",
      "235:\tlearn: 0.3446124\ttotal: 1.41s\tremaining: 4.58s\n",
      "236:\tlearn: 0.3443785\ttotal: 1.42s\tremaining: 4.57s\n",
      "237:\tlearn: 0.3440867\ttotal: 1.43s\tremaining: 4.57s\n",
      "238:\tlearn: 0.3436866\ttotal: 1.43s\tremaining: 4.56s\n",
      "239:\tlearn: 0.3432054\ttotal: 1.44s\tremaining: 4.55s\n",
      "240:\tlearn: 0.3426707\ttotal: 1.44s\tremaining: 4.55s\n",
      "241:\tlearn: 0.3422623\ttotal: 1.45s\tremaining: 4.54s\n",
      "242:\tlearn: 0.3419902\ttotal: 1.46s\tremaining: 4.54s\n",
      "243:\tlearn: 0.3414278\ttotal: 1.46s\tremaining: 4.53s\n",
      "244:\tlearn: 0.3411413\ttotal: 1.47s\tremaining: 4.52s\n",
      "245:\tlearn: 0.3408935\ttotal: 1.47s\tremaining: 4.52s\n",
      "246:\tlearn: 0.3405184\ttotal: 1.48s\tremaining: 4.51s\n",
      "247:\tlearn: 0.3400891\ttotal: 1.49s\tremaining: 4.51s\n",
      "248:\tlearn: 0.3397415\ttotal: 1.49s\tremaining: 4.5s\n",
      "249:\tlearn: 0.3394431\ttotal: 1.5s\tremaining: 4.5s\n",
      "250:\tlearn: 0.3387702\ttotal: 1.5s\tremaining: 4.49s\n",
      "251:\tlearn: 0.3381471\ttotal: 1.51s\tremaining: 4.48s\n",
      "252:\tlearn: 0.3377192\ttotal: 1.52s\tremaining: 4.48s\n",
      "253:\tlearn: 0.3375070\ttotal: 1.52s\tremaining: 4.47s\n",
      "254:\tlearn: 0.3371673\ttotal: 1.53s\tremaining: 4.46s\n",
      "255:\tlearn: 0.3367146\ttotal: 1.53s\tremaining: 4.46s\n",
      "256:\tlearn: 0.3364332\ttotal: 1.54s\tremaining: 4.45s\n",
      "257:\tlearn: 0.3357486\ttotal: 1.55s\tremaining: 4.45s\n",
      "258:\tlearn: 0.3355094\ttotal: 1.55s\tremaining: 4.45s\n",
      "259:\tlearn: 0.3351846\ttotal: 1.56s\tremaining: 4.44s\n",
      "260:\tlearn: 0.3349935\ttotal: 1.57s\tremaining: 4.43s\n",
      "261:\tlearn: 0.3347780\ttotal: 1.57s\tremaining: 4.43s\n",
      "262:\tlearn: 0.3343494\ttotal: 1.58s\tremaining: 4.43s\n",
      "263:\tlearn: 0.3338614\ttotal: 1.59s\tremaining: 4.42s\n",
      "264:\tlearn: 0.3332337\ttotal: 1.59s\tremaining: 4.42s\n",
      "265:\tlearn: 0.3324523\ttotal: 1.6s\tremaining: 4.42s\n",
      "266:\tlearn: 0.3320357\ttotal: 1.61s\tremaining: 4.41s\n",
      "267:\tlearn: 0.3316169\ttotal: 1.61s\tremaining: 4.41s\n",
      "268:\tlearn: 0.3311151\ttotal: 1.62s\tremaining: 4.4s\n",
      "269:\tlearn: 0.3308840\ttotal: 1.63s\tremaining: 4.4s\n",
      "270:\tlearn: 0.3304226\ttotal: 1.63s\tremaining: 4.39s\n",
      "271:\tlearn: 0.3299699\ttotal: 1.64s\tremaining: 4.39s\n",
      "272:\tlearn: 0.3296022\ttotal: 1.65s\tremaining: 4.39s\n",
      "273:\tlearn: 0.3292294\ttotal: 1.65s\tremaining: 4.38s\n",
      "274:\tlearn: 0.3290127\ttotal: 1.66s\tremaining: 4.38s\n",
      "275:\tlearn: 0.3286082\ttotal: 1.67s\tremaining: 4.37s\n",
      "276:\tlearn: 0.3280557\ttotal: 1.67s\tremaining: 4.37s\n",
      "277:\tlearn: 0.3276785\ttotal: 1.68s\tremaining: 4.36s\n",
      "278:\tlearn: 0.3272310\ttotal: 1.69s\tremaining: 4.36s\n",
      "279:\tlearn: 0.3268559\ttotal: 1.69s\tremaining: 4.36s\n",
      "280:\tlearn: 0.3264392\ttotal: 1.7s\tremaining: 4.35s\n",
      "281:\tlearn: 0.3260099\ttotal: 1.71s\tremaining: 4.35s\n",
      "282:\tlearn: 0.3257310\ttotal: 1.71s\tremaining: 4.34s\n",
      "283:\tlearn: 0.3253008\ttotal: 1.72s\tremaining: 4.34s\n",
      "284:\tlearn: 0.3246519\ttotal: 1.73s\tremaining: 4.33s\n",
      "285:\tlearn: 0.3243692\ttotal: 1.73s\tremaining: 4.33s\n",
      "286:\tlearn: 0.3241261\ttotal: 1.74s\tremaining: 4.32s\n",
      "287:\tlearn: 0.3238257\ttotal: 1.75s\tremaining: 4.32s\n",
      "288:\tlearn: 0.3234406\ttotal: 1.75s\tremaining: 4.31s\n",
      "289:\tlearn: 0.3231003\ttotal: 1.76s\tremaining: 4.3s\n",
      "290:\tlearn: 0.3226324\ttotal: 1.76s\tremaining: 4.3s\n",
      "291:\tlearn: 0.3221817\ttotal: 1.77s\tremaining: 4.29s\n",
      "292:\tlearn: 0.3219986\ttotal: 1.78s\tremaining: 4.29s\n",
      "293:\tlearn: 0.3216135\ttotal: 1.78s\tremaining: 4.29s\n",
      "294:\tlearn: 0.3210193\ttotal: 1.79s\tremaining: 4.28s\n",
      "295:\tlearn: 0.3206090\ttotal: 1.8s\tremaining: 4.28s\n",
      "296:\tlearn: 0.3201647\ttotal: 1.8s\tremaining: 4.27s\n",
      "297:\tlearn: 0.3196690\ttotal: 1.81s\tremaining: 4.27s\n",
      "298:\tlearn: 0.3191624\ttotal: 1.82s\tremaining: 4.26s\n",
      "299:\tlearn: 0.3188648\ttotal: 1.82s\tremaining: 4.26s\n",
      "300:\tlearn: 0.3184396\ttotal: 1.83s\tremaining: 4.26s\n",
      "301:\tlearn: 0.3178490\ttotal: 1.84s\tremaining: 4.25s\n",
      "302:\tlearn: 0.3176731\ttotal: 1.84s\tremaining: 4.25s\n",
      "303:\tlearn: 0.3171236\ttotal: 1.85s\tremaining: 4.24s\n",
      "304:\tlearn: 0.3165736\ttotal: 1.86s\tremaining: 4.24s\n",
      "305:\tlearn: 0.3163623\ttotal: 1.86s\tremaining: 4.23s\n",
      "306:\tlearn: 0.3162206\ttotal: 1.87s\tremaining: 4.22s\n",
      "307:\tlearn: 0.3157717\ttotal: 1.88s\tremaining: 4.22s\n",
      "308:\tlearn: 0.3152810\ttotal: 1.88s\tremaining: 4.21s\n",
      "309:\tlearn: 0.3149816\ttotal: 1.89s\tremaining: 4.21s\n",
      "310:\tlearn: 0.3144341\ttotal: 1.9s\tremaining: 4.2s\n",
      "311:\tlearn: 0.3140560\ttotal: 1.9s\tremaining: 4.19s\n",
      "312:\tlearn: 0.3137651\ttotal: 1.91s\tremaining: 4.19s\n",
      "313:\tlearn: 0.3134859\ttotal: 1.91s\tremaining: 4.18s\n",
      "314:\tlearn: 0.3131184\ttotal: 1.92s\tremaining: 4.17s\n",
      "315:\tlearn: 0.3128124\ttotal: 1.92s\tremaining: 4.17s\n",
      "316:\tlearn: 0.3123937\ttotal: 1.93s\tremaining: 4.16s\n",
      "317:\tlearn: 0.3120570\ttotal: 1.94s\tremaining: 4.15s\n",
      "318:\tlearn: 0.3115262\ttotal: 1.94s\tremaining: 4.14s\n",
      "319:\tlearn: 0.3113308\ttotal: 1.95s\tremaining: 4.14s\n",
      "320:\tlearn: 0.3110315\ttotal: 1.95s\tremaining: 4.13s\n",
      "321:\tlearn: 0.3107476\ttotal: 1.96s\tremaining: 4.13s\n",
      "322:\tlearn: 0.3105342\ttotal: 1.97s\tremaining: 4.12s\n",
      "323:\tlearn: 0.3102293\ttotal: 1.97s\tremaining: 4.11s\n",
      "324:\tlearn: 0.3097986\ttotal: 1.98s\tremaining: 4.11s\n",
      "325:\tlearn: 0.3095271\ttotal: 1.98s\tremaining: 4.1s\n",
      "326:\tlearn: 0.3093523\ttotal: 1.99s\tremaining: 4.09s\n",
      "327:\tlearn: 0.3088133\ttotal: 1.99s\tremaining: 4.09s\n",
      "328:\tlearn: 0.3085448\ttotal: 2s\tremaining: 4.08s\n",
      "329:\tlearn: 0.3082028\ttotal: 2.01s\tremaining: 4.07s\n",
      "330:\tlearn: 0.3076535\ttotal: 2.01s\tremaining: 4.07s\n",
      "331:\tlearn: 0.3074134\ttotal: 2.02s\tremaining: 4.06s\n",
      "332:\tlearn: 0.3070203\ttotal: 2.02s\tremaining: 4.05s\n",
      "333:\tlearn: 0.3066668\ttotal: 2.03s\tremaining: 4.05s\n",
      "334:\tlearn: 0.3062437\ttotal: 2.04s\tremaining: 4.04s\n",
      "335:\tlearn: 0.3058892\ttotal: 2.04s\tremaining: 4.03s\n",
      "336:\tlearn: 0.3054688\ttotal: 2.05s\tremaining: 4.03s\n",
      "337:\tlearn: 0.3050661\ttotal: 2.05s\tremaining: 4.02s\n",
      "338:\tlearn: 0.3045510\ttotal: 2.06s\tremaining: 4.02s\n",
      "339:\tlearn: 0.3041194\ttotal: 2.07s\tremaining: 4.01s\n",
      "340:\tlearn: 0.3036834\ttotal: 2.07s\tremaining: 4s\n",
      "341:\tlearn: 0.3033938\ttotal: 2.08s\tremaining: 4s\n",
      "342:\tlearn: 0.3029353\ttotal: 2.08s\tremaining: 3.99s\n",
      "343:\tlearn: 0.3025973\ttotal: 2.09s\tremaining: 3.99s\n",
      "344:\tlearn: 0.3023440\ttotal: 2.1s\tremaining: 3.98s\n",
      "345:\tlearn: 0.3020697\ttotal: 2.1s\tremaining: 3.97s\n",
      "346:\tlearn: 0.3017195\ttotal: 2.11s\tremaining: 3.97s\n",
      "347:\tlearn: 0.3011771\ttotal: 2.12s\tremaining: 3.96s\n",
      "348:\tlearn: 0.3007260\ttotal: 2.12s\tremaining: 3.96s\n",
      "349:\tlearn: 0.3002459\ttotal: 2.13s\tremaining: 3.95s\n",
      "350:\tlearn: 0.2998835\ttotal: 2.13s\tremaining: 3.94s\n",
      "351:\tlearn: 0.2996183\ttotal: 2.14s\tremaining: 3.94s\n",
      "352:\tlearn: 0.2992282\ttotal: 2.15s\tremaining: 3.93s\n",
      "353:\tlearn: 0.2988144\ttotal: 2.15s\tremaining: 3.93s\n",
      "354:\tlearn: 0.2985554\ttotal: 2.16s\tremaining: 3.92s\n",
      "355:\tlearn: 0.2981034\ttotal: 2.17s\tremaining: 3.92s\n",
      "356:\tlearn: 0.2977684\ttotal: 2.17s\tremaining: 3.91s\n",
      "357:\tlearn: 0.2975444\ttotal: 2.18s\tremaining: 3.91s\n",
      "358:\tlearn: 0.2972307\ttotal: 2.18s\tremaining: 3.9s\n",
      "359:\tlearn: 0.2969644\ttotal: 2.19s\tremaining: 3.89s\n",
      "360:\tlearn: 0.2967585\ttotal: 2.2s\tremaining: 3.89s\n",
      "361:\tlearn: 0.2963575\ttotal: 2.2s\tremaining: 3.88s\n",
      "362:\tlearn: 0.2961941\ttotal: 2.21s\tremaining: 3.88s\n",
      "363:\tlearn: 0.2958640\ttotal: 2.21s\tremaining: 3.87s\n",
      "364:\tlearn: 0.2956157\ttotal: 2.22s\tremaining: 3.86s\n",
      "365:\tlearn: 0.2951058\ttotal: 2.23s\tremaining: 3.86s\n",
      "366:\tlearn: 0.2948331\ttotal: 2.23s\tremaining: 3.85s\n",
      "367:\tlearn: 0.2945178\ttotal: 2.24s\tremaining: 3.85s\n",
      "368:\tlearn: 0.2942847\ttotal: 2.25s\tremaining: 3.84s\n",
      "369:\tlearn: 0.2938805\ttotal: 2.25s\tremaining: 3.83s\n",
      "370:\tlearn: 0.2936110\ttotal: 2.26s\tremaining: 3.83s\n",
      "371:\tlearn: 0.2932795\ttotal: 2.26s\tremaining: 3.82s\n",
      "372:\tlearn: 0.2928746\ttotal: 2.27s\tremaining: 3.81s\n",
      "373:\tlearn: 0.2926268\ttotal: 2.27s\tremaining: 3.81s\n",
      "374:\tlearn: 0.2920988\ttotal: 2.28s\tremaining: 3.8s\n",
      "375:\tlearn: 0.2917795\ttotal: 2.29s\tremaining: 3.79s\n",
      "376:\tlearn: 0.2913541\ttotal: 2.29s\tremaining: 3.79s\n",
      "377:\tlearn: 0.2910628\ttotal: 2.3s\tremaining: 3.78s\n",
      "378:\tlearn: 0.2907698\ttotal: 2.31s\tremaining: 3.78s\n",
      "379:\tlearn: 0.2905577\ttotal: 2.31s\tremaining: 3.77s\n",
      "380:\tlearn: 0.2901542\ttotal: 2.32s\tremaining: 3.77s\n",
      "381:\tlearn: 0.2899890\ttotal: 2.32s\tremaining: 3.76s\n",
      "382:\tlearn: 0.2896482\ttotal: 2.33s\tremaining: 3.75s\n",
      "383:\tlearn: 0.2893886\ttotal: 2.34s\tremaining: 3.75s\n",
      "384:\tlearn: 0.2890374\ttotal: 2.34s\tremaining: 3.74s\n",
      "385:\tlearn: 0.2886848\ttotal: 2.35s\tremaining: 3.74s\n",
      "386:\tlearn: 0.2885441\ttotal: 2.35s\tremaining: 3.73s\n",
      "387:\tlearn: 0.2881930\ttotal: 2.36s\tremaining: 3.72s\n",
      "388:\tlearn: 0.2879633\ttotal: 2.37s\tremaining: 3.72s\n",
      "389:\tlearn: 0.2877605\ttotal: 2.37s\tremaining: 3.71s\n",
      "390:\tlearn: 0.2873164\ttotal: 2.38s\tremaining: 3.7s\n",
      "391:\tlearn: 0.2871045\ttotal: 2.38s\tremaining: 3.7s\n",
      "392:\tlearn: 0.2867508\ttotal: 2.39s\tremaining: 3.69s\n",
      "393:\tlearn: 0.2864312\ttotal: 2.4s\tremaining: 3.69s\n",
      "394:\tlearn: 0.2861188\ttotal: 2.4s\tremaining: 3.68s\n",
      "395:\tlearn: 0.2857310\ttotal: 2.41s\tremaining: 3.67s\n",
      "396:\tlearn: 0.2852163\ttotal: 2.41s\tremaining: 3.67s\n",
      "397:\tlearn: 0.2848411\ttotal: 2.42s\tremaining: 3.66s\n",
      "398:\tlearn: 0.2845482\ttotal: 2.42s\tremaining: 3.65s\n",
      "399:\tlearn: 0.2841308\ttotal: 2.43s\tremaining: 3.65s\n",
      "400:\tlearn: 0.2837380\ttotal: 2.44s\tremaining: 3.64s\n",
      "401:\tlearn: 0.2834014\ttotal: 2.44s\tremaining: 3.63s\n",
      "402:\tlearn: 0.2831597\ttotal: 2.45s\tremaining: 3.63s\n",
      "403:\tlearn: 0.2829768\ttotal: 2.45s\tremaining: 3.62s\n",
      "404:\tlearn: 0.2824789\ttotal: 2.46s\tremaining: 3.61s\n",
      "405:\tlearn: 0.2820795\ttotal: 2.46s\tremaining: 3.61s\n",
      "406:\tlearn: 0.2819228\ttotal: 2.47s\tremaining: 3.6s\n",
      "407:\tlearn: 0.2817017\ttotal: 2.48s\tremaining: 3.59s\n",
      "408:\tlearn: 0.2813356\ttotal: 2.48s\tremaining: 3.59s\n",
      "409:\tlearn: 0.2811586\ttotal: 2.49s\tremaining: 3.58s\n",
      "410:\tlearn: 0.2809614\ttotal: 2.49s\tremaining: 3.57s\n",
      "411:\tlearn: 0.2808498\ttotal: 2.5s\tremaining: 3.57s\n",
      "412:\tlearn: 0.2805438\ttotal: 2.5s\tremaining: 3.56s\n",
      "413:\tlearn: 0.2803265\ttotal: 2.51s\tremaining: 3.55s\n",
      "414:\tlearn: 0.2800490\ttotal: 2.52s\tremaining: 3.55s\n",
      "415:\tlearn: 0.2797883\ttotal: 2.52s\tremaining: 3.54s\n",
      "416:\tlearn: 0.2795055\ttotal: 2.53s\tremaining: 3.54s\n",
      "417:\tlearn: 0.2792184\ttotal: 2.53s\tremaining: 3.53s\n",
      "418:\tlearn: 0.2788714\ttotal: 2.54s\tremaining: 3.52s\n",
      "419:\tlearn: 0.2785960\ttotal: 2.55s\tremaining: 3.52s\n",
      "420:\tlearn: 0.2782732\ttotal: 2.55s\tremaining: 3.51s\n",
      "421:\tlearn: 0.2780909\ttotal: 2.56s\tremaining: 3.5s\n",
      "422:\tlearn: 0.2778981\ttotal: 2.56s\tremaining: 3.5s\n",
      "423:\tlearn: 0.2776091\ttotal: 2.57s\tremaining: 3.49s\n",
      "424:\tlearn: 0.2773859\ttotal: 2.58s\tremaining: 3.48s\n",
      "425:\tlearn: 0.2770345\ttotal: 2.58s\tremaining: 3.48s\n",
      "426:\tlearn: 0.2767788\ttotal: 2.59s\tremaining: 3.47s\n",
      "427:\tlearn: 0.2764085\ttotal: 2.59s\tremaining: 3.47s\n",
      "428:\tlearn: 0.2761566\ttotal: 2.6s\tremaining: 3.46s\n",
      "429:\tlearn: 0.2759781\ttotal: 2.6s\tremaining: 3.45s\n",
      "430:\tlearn: 0.2757499\ttotal: 2.61s\tremaining: 3.45s\n",
      "431:\tlearn: 0.2752495\ttotal: 2.62s\tremaining: 3.44s\n",
      "432:\tlearn: 0.2749718\ttotal: 2.62s\tremaining: 3.44s\n",
      "433:\tlearn: 0.2746702\ttotal: 2.63s\tremaining: 3.43s\n",
      "434:\tlearn: 0.2743305\ttotal: 2.63s\tremaining: 3.42s\n",
      "435:\tlearn: 0.2740583\ttotal: 2.64s\tremaining: 3.42s\n",
      "436:\tlearn: 0.2738543\ttotal: 2.65s\tremaining: 3.41s\n",
      "437:\tlearn: 0.2735508\ttotal: 2.65s\tremaining: 3.4s\n",
      "438:\tlearn: 0.2732703\ttotal: 2.66s\tremaining: 3.4s\n",
      "439:\tlearn: 0.2730599\ttotal: 2.66s\tremaining: 3.39s\n",
      "440:\tlearn: 0.2728009\ttotal: 2.67s\tremaining: 3.38s\n",
      "441:\tlearn: 0.2725279\ttotal: 2.68s\tremaining: 3.38s\n",
      "442:\tlearn: 0.2722453\ttotal: 2.68s\tremaining: 3.37s\n",
      "443:\tlearn: 0.2720132\ttotal: 2.69s\tremaining: 3.37s\n",
      "444:\tlearn: 0.2716724\ttotal: 2.69s\tremaining: 3.36s\n",
      "445:\tlearn: 0.2714605\ttotal: 2.7s\tremaining: 3.35s\n",
      "446:\tlearn: 0.2712590\ttotal: 2.71s\tremaining: 3.35s\n",
      "447:\tlearn: 0.2710886\ttotal: 2.71s\tremaining: 3.34s\n",
      "448:\tlearn: 0.2707746\ttotal: 2.72s\tremaining: 3.33s\n",
      "449:\tlearn: 0.2706116\ttotal: 2.72s\tremaining: 3.33s\n",
      "450:\tlearn: 0.2704613\ttotal: 2.73s\tremaining: 3.32s\n",
      "451:\tlearn: 0.2701708\ttotal: 2.73s\tremaining: 3.31s\n",
      "452:\tlearn: 0.2699365\ttotal: 2.74s\tremaining: 3.31s\n",
      "453:\tlearn: 0.2696366\ttotal: 2.74s\tremaining: 3.3s\n",
      "454:\tlearn: 0.2694351\ttotal: 2.75s\tremaining: 3.29s\n",
      "455:\tlearn: 0.2690114\ttotal: 2.76s\tremaining: 3.29s\n",
      "456:\tlearn: 0.2686690\ttotal: 2.76s\tremaining: 3.28s\n",
      "457:\tlearn: 0.2685769\ttotal: 2.77s\tremaining: 3.28s\n",
      "458:\tlearn: 0.2684578\ttotal: 2.77s\tremaining: 3.27s\n",
      "459:\tlearn: 0.2682460\ttotal: 2.78s\tremaining: 3.27s\n",
      "460:\tlearn: 0.2681013\ttotal: 2.79s\tremaining: 3.26s\n",
      "461:\tlearn: 0.2677470\ttotal: 2.79s\tremaining: 3.25s\n",
      "462:\tlearn: 0.2674142\ttotal: 2.8s\tremaining: 3.25s\n",
      "463:\tlearn: 0.2671776\ttotal: 2.81s\tremaining: 3.24s\n",
      "464:\tlearn: 0.2670058\ttotal: 2.81s\tremaining: 3.24s\n",
      "465:\tlearn: 0.2666694\ttotal: 2.82s\tremaining: 3.23s\n",
      "466:\tlearn: 0.2663675\ttotal: 2.83s\tremaining: 3.23s\n",
      "467:\tlearn: 0.2662201\ttotal: 2.83s\tremaining: 3.22s\n",
      "468:\tlearn: 0.2659120\ttotal: 2.84s\tremaining: 3.21s\n",
      "469:\tlearn: 0.2655828\ttotal: 2.85s\tremaining: 3.21s\n",
      "470:\tlearn: 0.2654168\ttotal: 2.85s\tremaining: 3.2s\n",
      "471:\tlearn: 0.2651249\ttotal: 2.86s\tremaining: 3.19s\n",
      "472:\tlearn: 0.2647919\ttotal: 2.86s\tremaining: 3.19s\n",
      "473:\tlearn: 0.2643766\ttotal: 2.87s\tremaining: 3.18s\n",
      "474:\tlearn: 0.2639475\ttotal: 2.87s\tremaining: 3.18s\n",
      "475:\tlearn: 0.2638253\ttotal: 2.88s\tremaining: 3.17s\n",
      "476:\tlearn: 0.2634983\ttotal: 2.89s\tremaining: 3.16s\n",
      "477:\tlearn: 0.2631419\ttotal: 2.89s\tremaining: 3.16s\n",
      "478:\tlearn: 0.2629449\ttotal: 2.9s\tremaining: 3.15s\n",
      "479:\tlearn: 0.2628363\ttotal: 2.9s\tremaining: 3.15s\n",
      "480:\tlearn: 0.2625546\ttotal: 2.91s\tremaining: 3.14s\n",
      "481:\tlearn: 0.2623400\ttotal: 2.92s\tremaining: 3.13s\n",
      "482:\tlearn: 0.2621507\ttotal: 2.92s\tremaining: 3.13s\n",
      "483:\tlearn: 0.2619180\ttotal: 2.93s\tremaining: 3.12s\n",
      "484:\tlearn: 0.2617978\ttotal: 2.93s\tremaining: 3.12s\n",
      "485:\tlearn: 0.2613248\ttotal: 2.94s\tremaining: 3.11s\n",
      "486:\tlearn: 0.2609482\ttotal: 2.95s\tremaining: 3.1s\n",
      "487:\tlearn: 0.2607658\ttotal: 2.95s\tremaining: 3.1s\n",
      "488:\tlearn: 0.2605246\ttotal: 2.96s\tremaining: 3.09s\n",
      "489:\tlearn: 0.2601690\ttotal: 2.96s\tremaining: 3.08s\n",
      "490:\tlearn: 0.2597835\ttotal: 2.97s\tremaining: 3.08s\n",
      "491:\tlearn: 0.2594976\ttotal: 2.98s\tremaining: 3.07s\n",
      "492:\tlearn: 0.2592725\ttotal: 2.98s\tremaining: 3.06s\n",
      "493:\tlearn: 0.2590242\ttotal: 2.99s\tremaining: 3.06s\n",
      "494:\tlearn: 0.2589063\ttotal: 2.99s\tremaining: 3.05s\n",
      "495:\tlearn: 0.2586931\ttotal: 3s\tremaining: 3.05s\n",
      "496:\tlearn: 0.2584942\ttotal: 3s\tremaining: 3.04s\n",
      "497:\tlearn: 0.2582238\ttotal: 3.01s\tremaining: 3.04s\n",
      "498:\tlearn: 0.2579592\ttotal: 3.02s\tremaining: 3.03s\n",
      "499:\tlearn: 0.2576819\ttotal: 3.02s\tremaining: 3.02s\n",
      "500:\tlearn: 0.2573336\ttotal: 3.03s\tremaining: 3.02s\n",
      "501:\tlearn: 0.2570984\ttotal: 3.04s\tremaining: 3.01s\n",
      "502:\tlearn: 0.2567807\ttotal: 3.04s\tremaining: 3s\n",
      "503:\tlearn: 0.2564489\ttotal: 3.05s\tremaining: 3s\n",
      "504:\tlearn: 0.2560784\ttotal: 3.06s\tremaining: 2.99s\n",
      "505:\tlearn: 0.2559646\ttotal: 3.06s\tremaining: 2.99s\n",
      "506:\tlearn: 0.2556760\ttotal: 3.07s\tremaining: 2.98s\n",
      "507:\tlearn: 0.2553388\ttotal: 3.07s\tremaining: 2.98s\n",
      "508:\tlearn: 0.2551878\ttotal: 3.08s\tremaining: 2.97s\n",
      "509:\tlearn: 0.2549269\ttotal: 3.09s\tremaining: 2.96s\n",
      "510:\tlearn: 0.2546371\ttotal: 3.09s\tremaining: 2.96s\n",
      "511:\tlearn: 0.2543264\ttotal: 3.1s\tremaining: 2.95s\n",
      "512:\tlearn: 0.2541104\ttotal: 3.11s\tremaining: 2.95s\n",
      "513:\tlearn: 0.2538444\ttotal: 3.11s\tremaining: 2.94s\n",
      "514:\tlearn: 0.2534788\ttotal: 3.12s\tremaining: 2.94s\n",
      "515:\tlearn: 0.2533084\ttotal: 3.13s\tremaining: 2.93s\n",
      "516:\tlearn: 0.2532243\ttotal: 3.13s\tremaining: 2.93s\n",
      "517:\tlearn: 0.2528962\ttotal: 3.14s\tremaining: 2.92s\n",
      "518:\tlearn: 0.2525380\ttotal: 3.15s\tremaining: 2.91s\n",
      "519:\tlearn: 0.2523575\ttotal: 3.15s\tremaining: 2.91s\n",
      "520:\tlearn: 0.2521548\ttotal: 3.16s\tremaining: 2.9s\n",
      "521:\tlearn: 0.2521054\ttotal: 3.16s\tremaining: 2.9s\n",
      "522:\tlearn: 0.2519132\ttotal: 3.17s\tremaining: 2.89s\n",
      "523:\tlearn: 0.2516148\ttotal: 3.17s\tremaining: 2.88s\n",
      "524:\tlearn: 0.2514214\ttotal: 3.18s\tremaining: 2.88s\n",
      "525:\tlearn: 0.2511695\ttotal: 3.19s\tremaining: 2.87s\n",
      "526:\tlearn: 0.2510196\ttotal: 3.19s\tremaining: 2.86s\n",
      "527:\tlearn: 0.2508416\ttotal: 3.2s\tremaining: 2.86s\n",
      "528:\tlearn: 0.2504972\ttotal: 3.2s\tremaining: 2.85s\n",
      "529:\tlearn: 0.2501830\ttotal: 3.21s\tremaining: 2.85s\n",
      "530:\tlearn: 0.2498456\ttotal: 3.21s\tremaining: 2.84s\n",
      "531:\tlearn: 0.2495673\ttotal: 3.22s\tremaining: 2.83s\n",
      "532:\tlearn: 0.2491750\ttotal: 3.23s\tremaining: 2.83s\n",
      "533:\tlearn: 0.2489277\ttotal: 3.23s\tremaining: 2.82s\n",
      "534:\tlearn: 0.2486828\ttotal: 3.24s\tremaining: 2.81s\n",
      "535:\tlearn: 0.2484175\ttotal: 3.24s\tremaining: 2.81s\n",
      "536:\tlearn: 0.2482091\ttotal: 3.25s\tremaining: 2.8s\n",
      "537:\tlearn: 0.2479296\ttotal: 3.25s\tremaining: 2.79s\n",
      "538:\tlearn: 0.2477362\ttotal: 3.26s\tremaining: 2.79s\n",
      "539:\tlearn: 0.2473051\ttotal: 3.27s\tremaining: 2.78s\n",
      "540:\tlearn: 0.2470811\ttotal: 3.27s\tremaining: 2.78s\n",
      "541:\tlearn: 0.2468755\ttotal: 3.28s\tremaining: 2.77s\n",
      "542:\tlearn: 0.2466450\ttotal: 3.28s\tremaining: 2.76s\n",
      "543:\tlearn: 0.2464209\ttotal: 3.29s\tremaining: 2.76s\n",
      "544:\tlearn: 0.2461140\ttotal: 3.29s\tremaining: 2.75s\n",
      "545:\tlearn: 0.2459880\ttotal: 3.3s\tremaining: 2.74s\n",
      "546:\tlearn: 0.2457040\ttotal: 3.31s\tremaining: 2.74s\n",
      "547:\tlearn: 0.2454438\ttotal: 3.31s\tremaining: 2.73s\n",
      "548:\tlearn: 0.2450989\ttotal: 3.32s\tremaining: 2.73s\n",
      "549:\tlearn: 0.2448705\ttotal: 3.32s\tremaining: 2.72s\n",
      "550:\tlearn: 0.2446373\ttotal: 3.33s\tremaining: 2.71s\n",
      "551:\tlearn: 0.2443646\ttotal: 3.33s\tremaining: 2.71s\n",
      "552:\tlearn: 0.2440955\ttotal: 3.34s\tremaining: 2.7s\n",
      "553:\tlearn: 0.2437507\ttotal: 3.35s\tremaining: 2.69s\n",
      "554:\tlearn: 0.2434432\ttotal: 3.35s\tremaining: 2.69s\n",
      "555:\tlearn: 0.2432984\ttotal: 3.36s\tremaining: 2.68s\n",
      "556:\tlearn: 0.2429423\ttotal: 3.37s\tremaining: 2.68s\n",
      "557:\tlearn: 0.2427004\ttotal: 3.37s\tremaining: 2.67s\n",
      "558:\tlearn: 0.2425830\ttotal: 3.38s\tremaining: 2.66s\n",
      "559:\tlearn: 0.2424358\ttotal: 3.38s\tremaining: 2.66s\n",
      "560:\tlearn: 0.2422570\ttotal: 3.39s\tremaining: 2.65s\n",
      "561:\tlearn: 0.2419261\ttotal: 3.4s\tremaining: 2.65s\n",
      "562:\tlearn: 0.2417169\ttotal: 3.4s\tremaining: 2.64s\n",
      "563:\tlearn: 0.2414276\ttotal: 3.41s\tremaining: 2.63s\n",
      "564:\tlearn: 0.2412459\ttotal: 3.41s\tremaining: 2.63s\n",
      "565:\tlearn: 0.2409360\ttotal: 3.42s\tremaining: 2.62s\n",
      "566:\tlearn: 0.2406548\ttotal: 3.42s\tremaining: 2.62s\n",
      "567:\tlearn: 0.2404361\ttotal: 3.43s\tremaining: 2.61s\n",
      "568:\tlearn: 0.2403502\ttotal: 3.44s\tremaining: 2.6s\n",
      "569:\tlearn: 0.2401661\ttotal: 3.44s\tremaining: 2.6s\n",
      "570:\tlearn: 0.2400569\ttotal: 3.45s\tremaining: 2.59s\n",
      "571:\tlearn: 0.2397636\ttotal: 3.45s\tremaining: 2.58s\n",
      "572:\tlearn: 0.2394900\ttotal: 3.46s\tremaining: 2.58s\n",
      "573:\tlearn: 0.2391070\ttotal: 3.47s\tremaining: 2.57s\n",
      "574:\tlearn: 0.2388525\ttotal: 3.47s\tremaining: 2.57s\n",
      "575:\tlearn: 0.2387154\ttotal: 3.48s\tremaining: 2.56s\n",
      "576:\tlearn: 0.2384682\ttotal: 3.48s\tremaining: 2.55s\n",
      "577:\tlearn: 0.2382344\ttotal: 3.49s\tremaining: 2.55s\n",
      "578:\tlearn: 0.2380807\ttotal: 3.5s\tremaining: 2.54s\n",
      "579:\tlearn: 0.2378212\ttotal: 3.5s\tremaining: 2.54s\n",
      "580:\tlearn: 0.2375007\ttotal: 3.51s\tremaining: 2.53s\n",
      "581:\tlearn: 0.2373758\ttotal: 3.51s\tremaining: 2.52s\n",
      "582:\tlearn: 0.2371683\ttotal: 3.52s\tremaining: 2.52s\n",
      "583:\tlearn: 0.2369478\ttotal: 3.53s\tremaining: 2.51s\n",
      "584:\tlearn: 0.2368254\ttotal: 3.53s\tremaining: 2.5s\n",
      "585:\tlearn: 0.2366760\ttotal: 3.54s\tremaining: 2.5s\n",
      "586:\tlearn: 0.2363331\ttotal: 3.54s\tremaining: 2.49s\n",
      "587:\tlearn: 0.2361412\ttotal: 3.55s\tremaining: 2.49s\n",
      "588:\tlearn: 0.2359743\ttotal: 3.56s\tremaining: 2.48s\n",
      "589:\tlearn: 0.2357340\ttotal: 3.56s\tremaining: 2.47s\n",
      "590:\tlearn: 0.2353895\ttotal: 3.57s\tremaining: 2.47s\n",
      "591:\tlearn: 0.2352185\ttotal: 3.57s\tremaining: 2.46s\n",
      "592:\tlearn: 0.2349328\ttotal: 3.58s\tremaining: 2.46s\n",
      "593:\tlearn: 0.2346973\ttotal: 3.58s\tremaining: 2.45s\n",
      "594:\tlearn: 0.2345067\ttotal: 3.59s\tremaining: 2.44s\n",
      "595:\tlearn: 0.2342332\ttotal: 3.6s\tremaining: 2.44s\n",
      "596:\tlearn: 0.2340780\ttotal: 3.6s\tremaining: 2.43s\n",
      "597:\tlearn: 0.2337988\ttotal: 3.61s\tremaining: 2.42s\n",
      "598:\tlearn: 0.2333919\ttotal: 3.61s\tremaining: 2.42s\n",
      "599:\tlearn: 0.2331803\ttotal: 3.62s\tremaining: 2.41s\n",
      "600:\tlearn: 0.2330834\ttotal: 3.62s\tremaining: 2.41s\n",
      "601:\tlearn: 0.2329811\ttotal: 3.63s\tremaining: 2.4s\n",
      "602:\tlearn: 0.2328125\ttotal: 3.63s\tremaining: 2.39s\n",
      "603:\tlearn: 0.2326388\ttotal: 3.64s\tremaining: 2.39s\n",
      "604:\tlearn: 0.2325028\ttotal: 3.65s\tremaining: 2.38s\n",
      "605:\tlearn: 0.2323971\ttotal: 3.65s\tremaining: 2.37s\n",
      "606:\tlearn: 0.2321478\ttotal: 3.66s\tremaining: 2.37s\n",
      "607:\tlearn: 0.2319744\ttotal: 3.66s\tremaining: 2.36s\n",
      "608:\tlearn: 0.2316058\ttotal: 3.67s\tremaining: 2.35s\n",
      "609:\tlearn: 0.2313745\ttotal: 3.67s\tremaining: 2.35s\n",
      "610:\tlearn: 0.2312000\ttotal: 3.68s\tremaining: 2.34s\n",
      "611:\tlearn: 0.2308778\ttotal: 3.69s\tremaining: 2.34s\n",
      "612:\tlearn: 0.2307825\ttotal: 3.69s\tremaining: 2.33s\n",
      "613:\tlearn: 0.2304157\ttotal: 3.7s\tremaining: 2.32s\n",
      "614:\tlearn: 0.2302437\ttotal: 3.7s\tremaining: 2.32s\n",
      "615:\tlearn: 0.2300727\ttotal: 3.71s\tremaining: 2.31s\n",
      "616:\tlearn: 0.2298347\ttotal: 3.71s\tremaining: 2.31s\n",
      "617:\tlearn: 0.2295748\ttotal: 3.72s\tremaining: 2.3s\n",
      "618:\tlearn: 0.2293381\ttotal: 3.73s\tremaining: 2.29s\n",
      "619:\tlearn: 0.2290899\ttotal: 3.73s\tremaining: 2.29s\n",
      "620:\tlearn: 0.2289485\ttotal: 3.74s\tremaining: 2.28s\n",
      "621:\tlearn: 0.2287304\ttotal: 3.74s\tremaining: 2.27s\n",
      "622:\tlearn: 0.2283947\ttotal: 3.75s\tremaining: 2.27s\n",
      "623:\tlearn: 0.2280877\ttotal: 3.75s\tremaining: 2.26s\n",
      "624:\tlearn: 0.2278840\ttotal: 3.76s\tremaining: 2.26s\n",
      "625:\tlearn: 0.2276820\ttotal: 3.77s\tremaining: 2.25s\n",
      "626:\tlearn: 0.2274668\ttotal: 3.77s\tremaining: 2.25s\n",
      "627:\tlearn: 0.2273083\ttotal: 3.78s\tremaining: 2.24s\n",
      "628:\tlearn: 0.2270925\ttotal: 3.79s\tremaining: 2.23s\n",
      "629:\tlearn: 0.2268904\ttotal: 3.79s\tremaining: 2.23s\n",
      "630:\tlearn: 0.2265398\ttotal: 3.8s\tremaining: 2.22s\n",
      "631:\tlearn: 0.2263793\ttotal: 3.81s\tremaining: 2.22s\n",
      "632:\tlearn: 0.2263322\ttotal: 3.81s\tremaining: 2.21s\n",
      "633:\tlearn: 0.2261718\ttotal: 3.82s\tremaining: 2.2s\n",
      "634:\tlearn: 0.2259132\ttotal: 3.82s\tremaining: 2.2s\n",
      "635:\tlearn: 0.2256797\ttotal: 3.83s\tremaining: 2.19s\n",
      "636:\tlearn: 0.2254700\ttotal: 3.84s\tremaining: 2.19s\n",
      "637:\tlearn: 0.2251069\ttotal: 3.84s\tremaining: 2.18s\n",
      "638:\tlearn: 0.2249769\ttotal: 3.85s\tremaining: 2.17s\n",
      "639:\tlearn: 0.2248422\ttotal: 3.85s\tremaining: 2.17s\n",
      "640:\tlearn: 0.2246511\ttotal: 3.86s\tremaining: 2.16s\n",
      "641:\tlearn: 0.2243089\ttotal: 3.87s\tremaining: 2.16s\n",
      "642:\tlearn: 0.2241521\ttotal: 3.87s\tremaining: 2.15s\n",
      "643:\tlearn: 0.2240042\ttotal: 3.88s\tremaining: 2.14s\n",
      "644:\tlearn: 0.2236878\ttotal: 3.88s\tremaining: 2.14s\n",
      "645:\tlearn: 0.2235556\ttotal: 3.89s\tremaining: 2.13s\n",
      "646:\tlearn: 0.2232154\ttotal: 3.9s\tremaining: 2.13s\n",
      "647:\tlearn: 0.2229649\ttotal: 3.9s\tremaining: 2.12s\n",
      "648:\tlearn: 0.2227409\ttotal: 3.91s\tremaining: 2.11s\n",
      "649:\tlearn: 0.2223874\ttotal: 3.91s\tremaining: 2.11s\n",
      "650:\tlearn: 0.2221386\ttotal: 3.92s\tremaining: 2.1s\n",
      "651:\tlearn: 0.2219511\ttotal: 3.93s\tremaining: 2.1s\n",
      "652:\tlearn: 0.2217640\ttotal: 3.93s\tremaining: 2.09s\n",
      "653:\tlearn: 0.2215172\ttotal: 3.94s\tremaining: 2.08s\n",
      "654:\tlearn: 0.2214077\ttotal: 3.94s\tremaining: 2.08s\n",
      "655:\tlearn: 0.2212775\ttotal: 3.95s\tremaining: 2.07s\n",
      "656:\tlearn: 0.2210026\ttotal: 3.96s\tremaining: 2.06s\n",
      "657:\tlearn: 0.2208784\ttotal: 3.96s\tremaining: 2.06s\n",
      "658:\tlearn: 0.2205517\ttotal: 3.97s\tremaining: 2.05s\n",
      "659:\tlearn: 0.2203322\ttotal: 3.97s\tremaining: 2.05s\n",
      "660:\tlearn: 0.2200842\ttotal: 3.98s\tremaining: 2.04s\n",
      "661:\tlearn: 0.2198754\ttotal: 3.99s\tremaining: 2.04s\n",
      "662:\tlearn: 0.2196778\ttotal: 3.99s\tremaining: 2.03s\n",
      "663:\tlearn: 0.2195197\ttotal: 4s\tremaining: 2.02s\n",
      "664:\tlearn: 0.2193066\ttotal: 4s\tremaining: 2.02s\n",
      "665:\tlearn: 0.2191692\ttotal: 4.01s\tremaining: 2.01s\n",
      "666:\tlearn: 0.2190706\ttotal: 4.01s\tremaining: 2s\n",
      "667:\tlearn: 0.2188497\ttotal: 4.02s\tremaining: 2s\n",
      "668:\tlearn: 0.2186494\ttotal: 4.03s\tremaining: 1.99s\n",
      "669:\tlearn: 0.2185605\ttotal: 4.03s\tremaining: 1.99s\n",
      "670:\tlearn: 0.2183329\ttotal: 4.04s\tremaining: 1.98s\n",
      "671:\tlearn: 0.2181139\ttotal: 4.04s\tremaining: 1.97s\n",
      "672:\tlearn: 0.2178100\ttotal: 4.05s\tremaining: 1.97s\n",
      "673:\tlearn: 0.2176662\ttotal: 4.05s\tremaining: 1.96s\n",
      "674:\tlearn: 0.2175458\ttotal: 4.06s\tremaining: 1.96s\n",
      "675:\tlearn: 0.2172668\ttotal: 4.07s\tremaining: 1.95s\n",
      "676:\tlearn: 0.2169897\ttotal: 4.07s\tremaining: 1.94s\n",
      "677:\tlearn: 0.2167833\ttotal: 4.08s\tremaining: 1.94s\n",
      "678:\tlearn: 0.2165110\ttotal: 4.08s\tremaining: 1.93s\n",
      "679:\tlearn: 0.2163209\ttotal: 4.09s\tremaining: 1.93s\n",
      "680:\tlearn: 0.2161941\ttotal: 4.1s\tremaining: 1.92s\n",
      "681:\tlearn: 0.2160960\ttotal: 4.1s\tremaining: 1.91s\n",
      "682:\tlearn: 0.2159112\ttotal: 4.11s\tremaining: 1.91s\n",
      "683:\tlearn: 0.2157303\ttotal: 4.11s\tremaining: 1.9s\n",
      "684:\tlearn: 0.2155499\ttotal: 4.12s\tremaining: 1.89s\n",
      "685:\tlearn: 0.2154178\ttotal: 4.13s\tremaining: 1.89s\n",
      "686:\tlearn: 0.2151356\ttotal: 4.13s\tremaining: 1.88s\n",
      "687:\tlearn: 0.2150106\ttotal: 4.14s\tremaining: 1.88s\n",
      "688:\tlearn: 0.2146628\ttotal: 4.14s\tremaining: 1.87s\n",
      "689:\tlearn: 0.2145010\ttotal: 4.15s\tremaining: 1.86s\n",
      "690:\tlearn: 0.2144043\ttotal: 4.15s\tremaining: 1.86s\n",
      "691:\tlearn: 0.2143027\ttotal: 4.16s\tremaining: 1.85s\n",
      "692:\tlearn: 0.2140364\ttotal: 4.17s\tremaining: 1.84s\n",
      "693:\tlearn: 0.2138229\ttotal: 4.17s\tremaining: 1.84s\n",
      "694:\tlearn: 0.2135667\ttotal: 4.18s\tremaining: 1.83s\n",
      "695:\tlearn: 0.2133286\ttotal: 4.18s\tremaining: 1.83s\n",
      "696:\tlearn: 0.2131508\ttotal: 4.19s\tremaining: 1.82s\n",
      "697:\tlearn: 0.2129661\ttotal: 4.2s\tremaining: 1.81s\n",
      "698:\tlearn: 0.2127614\ttotal: 4.2s\tremaining: 1.81s\n",
      "699:\tlearn: 0.2126688\ttotal: 4.21s\tremaining: 1.8s\n",
      "700:\tlearn: 0.2124546\ttotal: 4.21s\tremaining: 1.8s\n",
      "701:\tlearn: 0.2123210\ttotal: 4.22s\tremaining: 1.79s\n",
      "702:\tlearn: 0.2121385\ttotal: 4.22s\tremaining: 1.78s\n",
      "703:\tlearn: 0.2119632\ttotal: 4.23s\tremaining: 1.78s\n",
      "704:\tlearn: 0.2117051\ttotal: 4.24s\tremaining: 1.77s\n",
      "705:\tlearn: 0.2114986\ttotal: 4.24s\tremaining: 1.77s\n",
      "706:\tlearn: 0.2112544\ttotal: 4.25s\tremaining: 1.76s\n",
      "707:\tlearn: 0.2109872\ttotal: 4.25s\tremaining: 1.75s\n",
      "708:\tlearn: 0.2106946\ttotal: 4.26s\tremaining: 1.75s\n",
      "709:\tlearn: 0.2104124\ttotal: 4.27s\tremaining: 1.74s\n",
      "710:\tlearn: 0.2101541\ttotal: 4.27s\tremaining: 1.74s\n",
      "711:\tlearn: 0.2098872\ttotal: 4.28s\tremaining: 1.73s\n",
      "712:\tlearn: 0.2097482\ttotal: 4.28s\tremaining: 1.72s\n",
      "713:\tlearn: 0.2095721\ttotal: 4.29s\tremaining: 1.72s\n",
      "714:\tlearn: 0.2093574\ttotal: 4.3s\tremaining: 1.71s\n",
      "715:\tlearn: 0.2091857\ttotal: 4.3s\tremaining: 1.71s\n",
      "716:\tlearn: 0.2089948\ttotal: 4.31s\tremaining: 1.7s\n",
      "717:\tlearn: 0.2087157\ttotal: 4.31s\tremaining: 1.69s\n",
      "718:\tlearn: 0.2084063\ttotal: 4.32s\tremaining: 1.69s\n",
      "719:\tlearn: 0.2082051\ttotal: 4.32s\tremaining: 1.68s\n",
      "720:\tlearn: 0.2079633\ttotal: 4.33s\tremaining: 1.68s\n",
      "721:\tlearn: 0.2079016\ttotal: 4.34s\tremaining: 1.67s\n",
      "722:\tlearn: 0.2075930\ttotal: 4.34s\tremaining: 1.66s\n",
      "723:\tlearn: 0.2073674\ttotal: 4.35s\tremaining: 1.66s\n",
      "724:\tlearn: 0.2071599\ttotal: 4.35s\tremaining: 1.65s\n",
      "725:\tlearn: 0.2069668\ttotal: 4.36s\tremaining: 1.65s\n",
      "726:\tlearn: 0.2066656\ttotal: 4.37s\tremaining: 1.64s\n",
      "727:\tlearn: 0.2064604\ttotal: 4.37s\tremaining: 1.63s\n",
      "728:\tlearn: 0.2061815\ttotal: 4.38s\tremaining: 1.63s\n",
      "729:\tlearn: 0.2060321\ttotal: 4.38s\tremaining: 1.62s\n",
      "730:\tlearn: 0.2058396\ttotal: 4.39s\tremaining: 1.61s\n",
      "731:\tlearn: 0.2056881\ttotal: 4.39s\tremaining: 1.61s\n",
      "732:\tlearn: 0.2054946\ttotal: 4.4s\tremaining: 1.6s\n",
      "733:\tlearn: 0.2054143\ttotal: 4.41s\tremaining: 1.6s\n",
      "734:\tlearn: 0.2052139\ttotal: 4.41s\tremaining: 1.59s\n",
      "735:\tlearn: 0.2050848\ttotal: 4.42s\tremaining: 1.58s\n",
      "736:\tlearn: 0.2048574\ttotal: 4.42s\tremaining: 1.58s\n",
      "737:\tlearn: 0.2045188\ttotal: 4.43s\tremaining: 1.57s\n",
      "738:\tlearn: 0.2042978\ttotal: 4.43s\tremaining: 1.57s\n",
      "739:\tlearn: 0.2040163\ttotal: 4.44s\tremaining: 1.56s\n",
      "740:\tlearn: 0.2037904\ttotal: 4.45s\tremaining: 1.55s\n",
      "741:\tlearn: 0.2034424\ttotal: 4.45s\tremaining: 1.55s\n",
      "742:\tlearn: 0.2032566\ttotal: 4.46s\tremaining: 1.54s\n",
      "743:\tlearn: 0.2030680\ttotal: 4.46s\tremaining: 1.54s\n",
      "744:\tlearn: 0.2029225\ttotal: 4.47s\tremaining: 1.53s\n",
      "745:\tlearn: 0.2026954\ttotal: 4.48s\tremaining: 1.52s\n",
      "746:\tlearn: 0.2025769\ttotal: 4.48s\tremaining: 1.52s\n",
      "747:\tlearn: 0.2024176\ttotal: 4.49s\tremaining: 1.51s\n",
      "748:\tlearn: 0.2023151\ttotal: 4.49s\tremaining: 1.51s\n",
      "749:\tlearn: 0.2021787\ttotal: 4.5s\tremaining: 1.5s\n",
      "750:\tlearn: 0.2018054\ttotal: 4.51s\tremaining: 1.49s\n",
      "751:\tlearn: 0.2015289\ttotal: 4.51s\tremaining: 1.49s\n",
      "752:\tlearn: 0.2014073\ttotal: 4.52s\tremaining: 1.48s\n",
      "753:\tlearn: 0.2012187\ttotal: 4.52s\tremaining: 1.48s\n",
      "754:\tlearn: 0.2010436\ttotal: 4.53s\tremaining: 1.47s\n",
      "755:\tlearn: 0.2008612\ttotal: 4.53s\tremaining: 1.46s\n",
      "756:\tlearn: 0.2007703\ttotal: 4.54s\tremaining: 1.46s\n",
      "757:\tlearn: 0.2006636\ttotal: 4.54s\tremaining: 1.45s\n",
      "758:\tlearn: 0.2004320\ttotal: 4.55s\tremaining: 1.45s\n",
      "759:\tlearn: 0.2002052\ttotal: 4.56s\tremaining: 1.44s\n",
      "760:\tlearn: 0.1998758\ttotal: 4.56s\tremaining: 1.43s\n",
      "761:\tlearn: 0.1997180\ttotal: 4.57s\tremaining: 1.43s\n",
      "762:\tlearn: 0.1995539\ttotal: 4.58s\tremaining: 1.42s\n",
      "763:\tlearn: 0.1993335\ttotal: 4.58s\tremaining: 1.42s\n",
      "764:\tlearn: 0.1991515\ttotal: 4.59s\tremaining: 1.41s\n",
      "765:\tlearn: 0.1989644\ttotal: 4.59s\tremaining: 1.4s\n",
      "766:\tlearn: 0.1987072\ttotal: 4.6s\tremaining: 1.4s\n",
      "767:\tlearn: 0.1985484\ttotal: 4.61s\tremaining: 1.39s\n",
      "768:\tlearn: 0.1984227\ttotal: 4.61s\tremaining: 1.39s\n",
      "769:\tlearn: 0.1982860\ttotal: 4.62s\tremaining: 1.38s\n",
      "770:\tlearn: 0.1981417\ttotal: 4.62s\tremaining: 1.37s\n",
      "771:\tlearn: 0.1979867\ttotal: 4.63s\tremaining: 1.37s\n",
      "772:\tlearn: 0.1978004\ttotal: 4.63s\tremaining: 1.36s\n",
      "773:\tlearn: 0.1976728\ttotal: 4.64s\tremaining: 1.35s\n",
      "774:\tlearn: 0.1975161\ttotal: 4.65s\tremaining: 1.35s\n",
      "775:\tlearn: 0.1973493\ttotal: 4.65s\tremaining: 1.34s\n",
      "776:\tlearn: 0.1972342\ttotal: 4.66s\tremaining: 1.34s\n",
      "777:\tlearn: 0.1970510\ttotal: 4.66s\tremaining: 1.33s\n",
      "778:\tlearn: 0.1968257\ttotal: 4.67s\tremaining: 1.32s\n",
      "779:\tlearn: 0.1965716\ttotal: 4.67s\tremaining: 1.32s\n",
      "780:\tlearn: 0.1964548\ttotal: 4.68s\tremaining: 1.31s\n",
      "781:\tlearn: 0.1964043\ttotal: 4.69s\tremaining: 1.31s\n",
      "782:\tlearn: 0.1962031\ttotal: 4.69s\tremaining: 1.3s\n",
      "783:\tlearn: 0.1960699\ttotal: 4.7s\tremaining: 1.29s\n",
      "784:\tlearn: 0.1959273\ttotal: 4.7s\tremaining: 1.29s\n",
      "785:\tlearn: 0.1958113\ttotal: 4.71s\tremaining: 1.28s\n",
      "786:\tlearn: 0.1956058\ttotal: 4.71s\tremaining: 1.28s\n",
      "787:\tlearn: 0.1953907\ttotal: 4.72s\tremaining: 1.27s\n",
      "788:\tlearn: 0.1952541\ttotal: 4.73s\tremaining: 1.26s\n",
      "789:\tlearn: 0.1951630\ttotal: 4.73s\tremaining: 1.26s\n",
      "790:\tlearn: 0.1950211\ttotal: 4.74s\tremaining: 1.25s\n",
      "791:\tlearn: 0.1948054\ttotal: 4.74s\tremaining: 1.25s\n",
      "792:\tlearn: 0.1945796\ttotal: 4.75s\tremaining: 1.24s\n",
      "793:\tlearn: 0.1944008\ttotal: 4.75s\tremaining: 1.23s\n",
      "794:\tlearn: 0.1942502\ttotal: 4.76s\tremaining: 1.23s\n",
      "795:\tlearn: 0.1940614\ttotal: 4.77s\tremaining: 1.22s\n",
      "796:\tlearn: 0.1939249\ttotal: 4.77s\tremaining: 1.22s\n",
      "797:\tlearn: 0.1936702\ttotal: 4.78s\tremaining: 1.21s\n",
      "798:\tlearn: 0.1934989\ttotal: 4.78s\tremaining: 1.2s\n",
      "799:\tlearn: 0.1932604\ttotal: 4.79s\tremaining: 1.2s\n",
      "800:\tlearn: 0.1931642\ttotal: 4.79s\tremaining: 1.19s\n",
      "801:\tlearn: 0.1929362\ttotal: 4.8s\tremaining: 1.19s\n",
      "802:\tlearn: 0.1927502\ttotal: 4.81s\tremaining: 1.18s\n",
      "803:\tlearn: 0.1926125\ttotal: 4.81s\tremaining: 1.17s\n",
      "804:\tlearn: 0.1922648\ttotal: 4.82s\tremaining: 1.17s\n",
      "805:\tlearn: 0.1920710\ttotal: 4.82s\tremaining: 1.16s\n",
      "806:\tlearn: 0.1919807\ttotal: 4.83s\tremaining: 1.16s\n",
      "807:\tlearn: 0.1917572\ttotal: 4.84s\tremaining: 1.15s\n",
      "808:\tlearn: 0.1915711\ttotal: 4.84s\tremaining: 1.14s\n",
      "809:\tlearn: 0.1914550\ttotal: 4.85s\tremaining: 1.14s\n",
      "810:\tlearn: 0.1913135\ttotal: 4.85s\tremaining: 1.13s\n",
      "811:\tlearn: 0.1910486\ttotal: 4.86s\tremaining: 1.13s\n",
      "812:\tlearn: 0.1909376\ttotal: 4.87s\tremaining: 1.12s\n",
      "813:\tlearn: 0.1908003\ttotal: 4.87s\tremaining: 1.11s\n",
      "814:\tlearn: 0.1906091\ttotal: 4.88s\tremaining: 1.11s\n",
      "815:\tlearn: 0.1904283\ttotal: 4.88s\tremaining: 1.1s\n",
      "816:\tlearn: 0.1903085\ttotal: 4.89s\tremaining: 1.09s\n",
      "817:\tlearn: 0.1901457\ttotal: 4.89s\tremaining: 1.09s\n",
      "818:\tlearn: 0.1899607\ttotal: 4.9s\tremaining: 1.08s\n",
      "819:\tlearn: 0.1898723\ttotal: 4.91s\tremaining: 1.08s\n",
      "820:\tlearn: 0.1897236\ttotal: 4.91s\tremaining: 1.07s\n",
      "821:\tlearn: 0.1896286\ttotal: 4.92s\tremaining: 1.06s\n",
      "822:\tlearn: 0.1895124\ttotal: 4.92s\tremaining: 1.06s\n",
      "823:\tlearn: 0.1893077\ttotal: 4.93s\tremaining: 1.05s\n",
      "824:\tlearn: 0.1890591\ttotal: 4.94s\tremaining: 1.05s\n",
      "825:\tlearn: 0.1888939\ttotal: 4.94s\tremaining: 1.04s\n",
      "826:\tlearn: 0.1887996\ttotal: 4.95s\tremaining: 1.03s\n",
      "827:\tlearn: 0.1886099\ttotal: 4.96s\tremaining: 1.03s\n",
      "828:\tlearn: 0.1883340\ttotal: 4.96s\tremaining: 1.02s\n",
      "829:\tlearn: 0.1880766\ttotal: 4.97s\tremaining: 1.02s\n",
      "830:\tlearn: 0.1879521\ttotal: 4.98s\tremaining: 1.01s\n",
      "831:\tlearn: 0.1877484\ttotal: 4.98s\tremaining: 1.01s\n",
      "832:\tlearn: 0.1876382\ttotal: 4.99s\tremaining: 1s\n",
      "833:\tlearn: 0.1874912\ttotal: 5s\tremaining: 994ms\n",
      "834:\tlearn: 0.1874276\ttotal: 5s\tremaining: 989ms\n",
      "835:\tlearn: 0.1873198\ttotal: 5.01s\tremaining: 983ms\n",
      "836:\tlearn: 0.1872178\ttotal: 5.01s\tremaining: 977ms\n",
      "837:\tlearn: 0.1870089\ttotal: 5.02s\tremaining: 971ms\n",
      "838:\tlearn: 0.1869210\ttotal: 5.03s\tremaining: 965ms\n",
      "839:\tlearn: 0.1868226\ttotal: 5.03s\tremaining: 959ms\n",
      "840:\tlearn: 0.1866787\ttotal: 5.04s\tremaining: 953ms\n",
      "841:\tlearn: 0.1865537\ttotal: 5.04s\tremaining: 947ms\n",
      "842:\tlearn: 0.1863930\ttotal: 5.05s\tremaining: 941ms\n",
      "843:\tlearn: 0.1862222\ttotal: 5.06s\tremaining: 935ms\n",
      "844:\tlearn: 0.1859771\ttotal: 5.06s\tremaining: 929ms\n",
      "845:\tlearn: 0.1857925\ttotal: 5.07s\tremaining: 923ms\n",
      "846:\tlearn: 0.1857184\ttotal: 5.08s\tremaining: 917ms\n",
      "847:\tlearn: 0.1855036\ttotal: 5.08s\tremaining: 911ms\n",
      "848:\tlearn: 0.1853137\ttotal: 5.09s\tremaining: 905ms\n",
      "849:\tlearn: 0.1850869\ttotal: 5.09s\tremaining: 899ms\n",
      "850:\tlearn: 0.1849963\ttotal: 5.1s\tremaining: 893ms\n",
      "851:\tlearn: 0.1848551\ttotal: 5.11s\tremaining: 887ms\n",
      "852:\tlearn: 0.1846654\ttotal: 5.11s\tremaining: 881ms\n",
      "853:\tlearn: 0.1843542\ttotal: 5.12s\tremaining: 875ms\n",
      "854:\tlearn: 0.1842286\ttotal: 5.12s\tremaining: 869ms\n",
      "855:\tlearn: 0.1840784\ttotal: 5.13s\tremaining: 863ms\n",
      "856:\tlearn: 0.1838983\ttotal: 5.13s\tremaining: 857ms\n",
      "857:\tlearn: 0.1836823\ttotal: 5.14s\tremaining: 851ms\n",
      "858:\tlearn: 0.1835106\ttotal: 5.15s\tremaining: 845ms\n",
      "859:\tlearn: 0.1834113\ttotal: 5.16s\tremaining: 839ms\n",
      "860:\tlearn: 0.1831992\ttotal: 5.16s\tremaining: 833ms\n",
      "861:\tlearn: 0.1831093\ttotal: 5.17s\tremaining: 827ms\n",
      "862:\tlearn: 0.1828767\ttotal: 5.17s\tremaining: 822ms\n",
      "863:\tlearn: 0.1826187\ttotal: 5.18s\tremaining: 816ms\n",
      "864:\tlearn: 0.1823522\ttotal: 5.19s\tremaining: 810ms\n",
      "865:\tlearn: 0.1821032\ttotal: 5.19s\tremaining: 804ms\n",
      "866:\tlearn: 0.1819018\ttotal: 5.2s\tremaining: 798ms\n",
      "867:\tlearn: 0.1817203\ttotal: 5.21s\tremaining: 792ms\n",
      "868:\tlearn: 0.1815391\ttotal: 5.21s\tremaining: 786ms\n",
      "869:\tlearn: 0.1814109\ttotal: 5.22s\tremaining: 780ms\n",
      "870:\tlearn: 0.1813474\ttotal: 5.22s\tremaining: 774ms\n",
      "871:\tlearn: 0.1812086\ttotal: 5.23s\tremaining: 768ms\n",
      "872:\tlearn: 0.1810266\ttotal: 5.24s\tremaining: 762ms\n",
      "873:\tlearn: 0.1807155\ttotal: 5.24s\tremaining: 756ms\n",
      "874:\tlearn: 0.1806079\ttotal: 5.25s\tremaining: 750ms\n",
      "875:\tlearn: 0.1804364\ttotal: 5.25s\tremaining: 744ms\n",
      "876:\tlearn: 0.1802760\ttotal: 5.26s\tremaining: 738ms\n",
      "877:\tlearn: 0.1800376\ttotal: 5.27s\tremaining: 732ms\n",
      "878:\tlearn: 0.1798950\ttotal: 5.27s\tremaining: 726ms\n",
      "879:\tlearn: 0.1797349\ttotal: 5.28s\tremaining: 720ms\n",
      "880:\tlearn: 0.1796804\ttotal: 5.28s\tremaining: 714ms\n",
      "881:\tlearn: 0.1794207\ttotal: 5.29s\tremaining: 708ms\n",
      "882:\tlearn: 0.1792635\ttotal: 5.29s\tremaining: 702ms\n",
      "883:\tlearn: 0.1791731\ttotal: 5.3s\tremaining: 696ms\n",
      "884:\tlearn: 0.1790355\ttotal: 5.31s\tremaining: 690ms\n",
      "885:\tlearn: 0.1788182\ttotal: 5.31s\tremaining: 684ms\n",
      "886:\tlearn: 0.1787252\ttotal: 5.32s\tremaining: 678ms\n",
      "887:\tlearn: 0.1785985\ttotal: 5.32s\tremaining: 672ms\n",
      "888:\tlearn: 0.1785034\ttotal: 5.33s\tremaining: 666ms\n",
      "889:\tlearn: 0.1783867\ttotal: 5.34s\tremaining: 660ms\n",
      "890:\tlearn: 0.1782200\ttotal: 5.34s\tremaining: 654ms\n",
      "891:\tlearn: 0.1780937\ttotal: 5.35s\tremaining: 648ms\n",
      "892:\tlearn: 0.1779397\ttotal: 5.36s\tremaining: 642ms\n",
      "893:\tlearn: 0.1777571\ttotal: 5.36s\tremaining: 636ms\n",
      "894:\tlearn: 0.1775799\ttotal: 5.37s\tremaining: 630ms\n",
      "895:\tlearn: 0.1773989\ttotal: 5.38s\tremaining: 624ms\n",
      "896:\tlearn: 0.1772766\ttotal: 5.38s\tremaining: 618ms\n",
      "897:\tlearn: 0.1771175\ttotal: 5.39s\tremaining: 612ms\n",
      "898:\tlearn: 0.1768690\ttotal: 5.39s\tremaining: 606ms\n",
      "899:\tlearn: 0.1767975\ttotal: 5.4s\tremaining: 600ms\n",
      "900:\tlearn: 0.1767037\ttotal: 5.41s\tremaining: 594ms\n",
      "901:\tlearn: 0.1765526\ttotal: 5.41s\tremaining: 588ms\n",
      "902:\tlearn: 0.1763897\ttotal: 5.42s\tremaining: 582ms\n",
      "903:\tlearn: 0.1762075\ttotal: 5.43s\tremaining: 576ms\n",
      "904:\tlearn: 0.1759496\ttotal: 5.43s\tremaining: 570ms\n",
      "905:\tlearn: 0.1758942\ttotal: 5.44s\tremaining: 564ms\n",
      "906:\tlearn: 0.1756920\ttotal: 5.45s\tremaining: 559ms\n",
      "907:\tlearn: 0.1755262\ttotal: 5.45s\tremaining: 553ms\n",
      "908:\tlearn: 0.1753729\ttotal: 5.46s\tremaining: 547ms\n",
      "909:\tlearn: 0.1751069\ttotal: 5.47s\tremaining: 541ms\n",
      "910:\tlearn: 0.1750481\ttotal: 5.47s\tremaining: 535ms\n",
      "911:\tlearn: 0.1747533\ttotal: 5.48s\tremaining: 529ms\n",
      "912:\tlearn: 0.1746059\ttotal: 5.48s\tremaining: 523ms\n",
      "913:\tlearn: 0.1744309\ttotal: 5.49s\tremaining: 517ms\n",
      "914:\tlearn: 0.1742454\ttotal: 5.5s\tremaining: 511ms\n",
      "915:\tlearn: 0.1740113\ttotal: 5.5s\tremaining: 505ms\n",
      "916:\tlearn: 0.1738843\ttotal: 5.51s\tremaining: 499ms\n",
      "917:\tlearn: 0.1736821\ttotal: 5.51s\tremaining: 493ms\n",
      "918:\tlearn: 0.1736078\ttotal: 5.52s\tremaining: 487ms\n",
      "919:\tlearn: 0.1735595\ttotal: 5.53s\tremaining: 481ms\n",
      "920:\tlearn: 0.1733845\ttotal: 5.53s\tremaining: 475ms\n",
      "921:\tlearn: 0.1732837\ttotal: 5.54s\tremaining: 469ms\n",
      "922:\tlearn: 0.1732121\ttotal: 5.54s\tremaining: 463ms\n",
      "923:\tlearn: 0.1730373\ttotal: 5.55s\tremaining: 457ms\n",
      "924:\tlearn: 0.1728899\ttotal: 5.56s\tremaining: 451ms\n",
      "925:\tlearn: 0.1726926\ttotal: 5.56s\tremaining: 445ms\n",
      "926:\tlearn: 0.1726051\ttotal: 5.57s\tremaining: 439ms\n",
      "927:\tlearn: 0.1724073\ttotal: 5.58s\tremaining: 433ms\n",
      "928:\tlearn: 0.1722090\ttotal: 5.58s\tremaining: 427ms\n",
      "929:\tlearn: 0.1720989\ttotal: 5.59s\tremaining: 421ms\n",
      "930:\tlearn: 0.1719491\ttotal: 5.59s\tremaining: 415ms\n",
      "931:\tlearn: 0.1717632\ttotal: 5.6s\tremaining: 409ms\n",
      "932:\tlearn: 0.1716404\ttotal: 5.6s\tremaining: 402ms\n",
      "933:\tlearn: 0.1714676\ttotal: 5.61s\tremaining: 396ms\n",
      "934:\tlearn: 0.1713960\ttotal: 5.62s\tremaining: 390ms\n",
      "935:\tlearn: 0.1713129\ttotal: 5.62s\tremaining: 384ms\n",
      "936:\tlearn: 0.1710712\ttotal: 5.63s\tremaining: 378ms\n",
      "937:\tlearn: 0.1709663\ttotal: 5.63s\tremaining: 372ms\n",
      "938:\tlearn: 0.1708657\ttotal: 5.64s\tremaining: 366ms\n",
      "939:\tlearn: 0.1707202\ttotal: 5.64s\tremaining: 360ms\n",
      "940:\tlearn: 0.1705467\ttotal: 5.65s\tremaining: 354ms\n",
      "941:\tlearn: 0.1704521\ttotal: 5.65s\tremaining: 348ms\n",
      "942:\tlearn: 0.1702265\ttotal: 5.66s\tremaining: 342ms\n",
      "943:\tlearn: 0.1700887\ttotal: 5.67s\tremaining: 336ms\n",
      "944:\tlearn: 0.1699577\ttotal: 5.67s\tremaining: 330ms\n",
      "945:\tlearn: 0.1699105\ttotal: 5.68s\tremaining: 324ms\n",
      "946:\tlearn: 0.1697012\ttotal: 5.68s\tremaining: 318ms\n",
      "947:\tlearn: 0.1696011\ttotal: 5.69s\tremaining: 312ms\n",
      "948:\tlearn: 0.1694427\ttotal: 5.7s\tremaining: 306ms\n",
      "949:\tlearn: 0.1692574\ttotal: 5.7s\tremaining: 300ms\n",
      "950:\tlearn: 0.1690492\ttotal: 5.71s\tremaining: 294ms\n",
      "951:\tlearn: 0.1688491\ttotal: 5.71s\tremaining: 288ms\n",
      "952:\tlearn: 0.1687545\ttotal: 5.72s\tremaining: 282ms\n",
      "953:\tlearn: 0.1686273\ttotal: 5.73s\tremaining: 276ms\n",
      "954:\tlearn: 0.1684680\ttotal: 5.73s\tremaining: 270ms\n",
      "955:\tlearn: 0.1684060\ttotal: 5.74s\tremaining: 264ms\n",
      "956:\tlearn: 0.1682632\ttotal: 5.74s\tremaining: 258ms\n",
      "957:\tlearn: 0.1681109\ttotal: 5.75s\tremaining: 252ms\n",
      "958:\tlearn: 0.1679821\ttotal: 5.75s\tremaining: 246ms\n",
      "959:\tlearn: 0.1678120\ttotal: 5.76s\tremaining: 240ms\n",
      "960:\tlearn: 0.1677432\ttotal: 5.77s\tremaining: 234ms\n",
      "961:\tlearn: 0.1676104\ttotal: 5.77s\tremaining: 228ms\n",
      "962:\tlearn: 0.1673658\ttotal: 5.78s\tremaining: 222ms\n",
      "963:\tlearn: 0.1672579\ttotal: 5.79s\tremaining: 216ms\n",
      "964:\tlearn: 0.1671507\ttotal: 5.79s\tremaining: 210ms\n",
      "965:\tlearn: 0.1669659\ttotal: 5.8s\tremaining: 204ms\n",
      "966:\tlearn: 0.1667704\ttotal: 5.8s\tremaining: 198ms\n",
      "967:\tlearn: 0.1666284\ttotal: 5.81s\tremaining: 192ms\n",
      "968:\tlearn: 0.1665565\ttotal: 5.82s\tremaining: 186ms\n",
      "969:\tlearn: 0.1664319\ttotal: 5.82s\tremaining: 180ms\n",
      "970:\tlearn: 0.1663564\ttotal: 5.83s\tremaining: 174ms\n",
      "971:\tlearn: 0.1662309\ttotal: 5.83s\tremaining: 168ms\n",
      "972:\tlearn: 0.1660718\ttotal: 5.84s\tremaining: 162ms\n",
      "973:\tlearn: 0.1659232\ttotal: 5.84s\tremaining: 156ms\n",
      "974:\tlearn: 0.1658216\ttotal: 5.85s\tremaining: 150ms\n",
      "975:\tlearn: 0.1656845\ttotal: 5.86s\tremaining: 144ms\n",
      "976:\tlearn: 0.1655505\ttotal: 5.86s\tremaining: 138ms\n",
      "977:\tlearn: 0.1654648\ttotal: 5.87s\tremaining: 132ms\n",
      "978:\tlearn: 0.1653650\ttotal: 5.87s\tremaining: 126ms\n",
      "979:\tlearn: 0.1653178\ttotal: 5.88s\tremaining: 120ms\n",
      "980:\tlearn: 0.1651689\ttotal: 5.88s\tremaining: 114ms\n",
      "981:\tlearn: 0.1650142\ttotal: 5.89s\tremaining: 108ms\n",
      "982:\tlearn: 0.1649098\ttotal: 5.9s\tremaining: 102ms\n",
      "983:\tlearn: 0.1648165\ttotal: 5.9s\tremaining: 96ms\n",
      "984:\tlearn: 0.1646672\ttotal: 5.91s\tremaining: 90ms\n",
      "985:\tlearn: 0.1645591\ttotal: 5.91s\tremaining: 84ms\n",
      "986:\tlearn: 0.1643426\ttotal: 5.92s\tremaining: 78ms\n",
      "987:\tlearn: 0.1640512\ttotal: 5.93s\tremaining: 72ms\n",
      "988:\tlearn: 0.1639975\ttotal: 5.93s\tremaining: 66ms\n",
      "989:\tlearn: 0.1639239\ttotal: 5.94s\tremaining: 60ms\n",
      "990:\tlearn: 0.1636864\ttotal: 5.95s\tremaining: 54ms\n",
      "991:\tlearn: 0.1635008\ttotal: 5.95s\tremaining: 48ms\n",
      "992:\tlearn: 0.1633324\ttotal: 5.96s\tremaining: 42ms\n",
      "993:\tlearn: 0.1632505\ttotal: 5.96s\tremaining: 36ms\n",
      "994:\tlearn: 0.1631890\ttotal: 5.97s\tremaining: 30ms\n",
      "995:\tlearn: 0.1630975\ttotal: 5.98s\tremaining: 24ms\n",
      "996:\tlearn: 0.1629225\ttotal: 5.98s\tremaining: 18ms\n",
      "997:\tlearn: 0.1627019\ttotal: 5.99s\tremaining: 12ms\n",
      "998:\tlearn: 0.1625664\ttotal: 6s\tremaining: 6ms\n",
      "999:\tlearn: 0.1623330\ttotal: 6s\tremaining: 0us\n"
     ]
    },
    {
     "data": {
      "text/plain": [
       "<catboost.core.CatBoostClassifier at 0x7fb52ac184c0>"
      ]
     },
     "execution_count": 160,
     "metadata": {},
     "output_type": "execute_result"
    }
   ],
   "source": [
    "clf = CatBoostClassifier(loss_function='MultiClass', task_type=\"GPU\", devices='0', random_state=42)\n",
    "\n",
    "clf.fit(train_embeds, target_train, plot_file=\"catboost_log.html\")"
   ]
  },
  {
   "cell_type": "code",
   "execution_count": 161,
   "metadata": {
    "execution": {
     "iopub.execute_input": "2025-04-17T10:51:48.038265Z",
     "iopub.status.busy": "2025-04-17T10:51:48.037906Z",
     "iopub.status.idle": "2025-04-17T10:51:48.056693Z",
     "shell.execute_reply": "2025-04-17T10:51:48.055922Z",
     "shell.execute_reply.started": "2025-04-17T10:51:48.038233Z"
    },
    "trusted": true
   },
   "outputs": [],
   "source": [
    "test_pred = clf.predict(test_embeds)\n",
    "test_proba = clf.predict_proba(test_embeds)[:, 1]"
   ]
  },
  {
   "cell_type": "code",
   "execution_count": 162,
   "metadata": {
    "execution": {
     "iopub.execute_input": "2025-04-17T10:51:49.688022Z",
     "iopub.status.busy": "2025-04-17T10:51:49.687707Z",
     "iopub.status.idle": "2025-04-17T10:51:49.697834Z",
     "shell.execute_reply": "2025-04-17T10:51:49.696991Z",
     "shell.execute_reply.started": "2025-04-17T10:51:49.687999Z"
    },
    "trusted": true
   },
   "outputs": [
    {
     "name": "stdout",
     "output_type": "stream",
     "text": [
      "Accuracy: 0.712\n",
      "ROC-AUC: 0.7912450826439592\n"
     ]
    }
   ],
   "source": [
    "print(\"Accuracy:\", accuracy_score(target_test, test_pred))\n",
    "print(\"ROC-AUC:\", roc_auc_score(target_test, test_proba))"
   ]
  },
  {
   "cell_type": "code",
   "execution_count": 164,
   "metadata": {
    "execution": {
     "iopub.execute_input": "2025-04-17T10:53:50.010379Z",
     "iopub.status.busy": "2025-04-17T10:53:50.010055Z",
     "iopub.status.idle": "2025-04-17T10:53:50.016175Z",
     "shell.execute_reply": "2025-04-17T10:53:50.015454Z",
     "shell.execute_reply.started": "2025-04-17T10:53:50.010356Z"
    },
    "trusted": true
   },
   "outputs": [
    {
     "data": {
      "text/plain": [
       "(0.7976558579268588, 0.006327712309240838)"
      ]
     },
     "execution_count": 164,
     "metadata": {},
     "output_type": "execute_result"
    }
   ],
   "source": [
    "arr = np.array([0.8062683136099463, 0.795454177526671, 0.7912450826439592])\n",
    "\n",
    "arr.mean(), arr.std()"
   ]
  },
  {
   "cell_type": "markdown",
   "metadata": {},
   "source": [
    "- CPC context embeds w/ Aug + Catboost (dim of trx embeds: 32):\n",
    "  - `Accuracy: 0.752`, `0.748`, `0.742`, avg: `0.7473 +- 0.0041`\n",
    "  - `ROC-AUC: 0.8051836622363244`, `0.8137313626135242`, `0.810639296757378`, avg: `0.8099 +- 0.0035`\n",
    "\n",
    "---\n",
    "\n",
    "- CPC context embeds (w/ Aggregation by Days, 1 day) + Catboost:\n",
    "  - `Accuracy: 0.728`, `0.752`, `0.756`, avg: `0.7453 +- 0.0124`\n",
    "  - `ROC-AUC: 0.806559712486442`, `0.8169529390814461`, `0.8197050395816806`, avg: `0.8144 +- 0.0057`\n",
    "\n",
    "---\n",
    "\n",
    "- CPC context embeds (w/ Aggregation by Days, half a day) + Catboost:\n",
    "  - `Accuracy: 0.748`, `0.74`, `0.728`, avg: `0.7387 +- 0.0082`\n",
    "  - `ROC-AUC: 0.8183128005050914`, `0.8161920642372634`, `0.8074177202894561`, avg: `0.814 +- 0.0047`\n",
    "\n",
    "---\n",
    "\n",
    "- CPC context embeds (w/ Aggregation by Days, 2 days) + Catboost:\n",
    "  - `Accuracy: 0.736`, `0.752`, `0.744`, avg: `0.744 +- 0.0065`\n",
    "  - `ROC-AUC: 0.8183775558109794`, `0.8223761959495557`, `0.8203525926405595`, avg: `0.8204 +- 0.0016`\n",
    "\n",
    "---\n",
    "\n",
    "- CPC context embeds (w/ Aggregation by Days, 2 days; w/ 'No Trx' Indicators) + Catboost:\n",
    "  - `Accuracy: 0.73`, `0.722`, `0.736`, avg: `0.7293 +- 0.0057`\n",
    "  - `ROC-AUC: 0.809117547069013`, `0.7998413495005747`, `0.8104774084926584`, avg: `0.8065 +- 0.0047`\n",
    "\n",
    "**Логика + Вывод:** для CPC агрегация по времени приводит к ухудшению accuracy, но значимо улучшает ROC-AUC. Чем больше дней учтено в окне для агрегации, тем лучше выходит ROC-AUC (предполагается, что всё же с определённого количества дней результат будет становиться лишь хуже).\n",
    "\n",
    "Лучшие результаты - при агрегации по 2 дням - наилучший ROC-AUC и не очень большие просадки по accuracy => будем далее экспериментировать с этой конфигурацией. Попробуем добавить в дни, в которые не было ни одной транзакции специальные транзакции-индикаторы, означающие отсутствие в этот день транзакций. \n",
    "\n",
    "Как оказалось, для конфигурации c транзакциями-индикаторами результаты оказались значительно хуже по метрикам, чем для обычной агрегации по 2 дням, и даже хуже, чем бейзлайн (особенно сильно просел accuracy).\n",
    "\n",
    "**Лучший по метрикам результат:**\n",
    "\n",
    "- CPC context embeds (w/ Aggregation by Days, 2 days) + Catboost:\n",
    "  - `Accuracy: 0.736`, `0.752`, `0.744`, avg: `0.744 +- 0.0065`\n",
    "  - `ROC-AUC: 0.8183775558109794`, `0.8223761959495557`, `0.8203525926405595`, avg: `0.8204 +- 0.0016`\n",
    "\n",
    "---\n",
    "\n",
    "**Результаты для CPC с меньшей размерностью embed_dim (8):**\n",
    "\n",
    "- CPC context embeds w/ Aug + Catboost (dim of trx embeds: 8):\n",
    "  - `Accuracy: 0.754`, `0.742`, `0.744`, avg: `0.7467 +- 0.0052`\n",
    "  - `ROC-AUC: 0.8175195480079649`, `0.8197697948875686`, `0.8122096129251591`, avg: `0.8165 +- 0.0032`\n",
    "\n",
    "---\n",
    "\n",
    "- CPC context embeds (w/ Aggregation by Days, 1 day) + Catboost (dim of trx embeds: 8):\n",
    "  - `Accuracy: 0.74`, `0.73`, `0.73`, avg: `0.7333 +- 0.0047`\n",
    "  - `ROC-AUC: 0.8071748878923767`, `0.8047141862686373`, `0.80226967347137`, avg: `0.8047 +- 0.002`\n",
    "\n",
    "---\n",
    "\n",
    "- CPC context embeds (w/ Aggregation by Days, half a day) + Catboost (dim of trx embeds: 8):\n",
    "  - `Accuracy: 0.748`, `0.728`, `0.722`, avg: `0.7327 +- 0.0111`\n",
    "  - `ROC-AUC: 0.8096517783425878`, `0.8050865292774927`, `0.8056531382040117`, avg: `0.8068 +- 0.002`\n",
    "\n",
    "---\n",
    "\n",
    "- CPC context embeds (w/ Aggregation by Days, 2 days) + Catboost (dim of trx embeds: 8):\n",
    "  - `Accuracy: 0.74`, `0.734`, `0.736`, avg: `0.7367 +- 0.0025`\n",
    "  - `ROC-AUC: 0.8262129478234124`, `0.8055721940716517`, `0.8071586990659048`, avg: `0.813 +- 0.0094`\n",
    "\n",
    "---\n",
    "\n",
    "- CPC context embeds (w/ Aggregation by Days, 2 days; w/ 'No Trx' Indicators) + Catboost (dim of trx embeds: 8):\n",
    "  - `Accuracy: 0.736`, `0.72`, `0.712`, avg: `0.7227 +- 0.01`\n",
    "  - `ROC-AUC: 0.8062683136099463`, `0.795454177526671`, `0.7912450826439592`, avg: `0.7977 +- 0.0063`\n",
    "\n",
    "**Логика + Вывод:** для CPC с эмбеддингами транзакций меньшей размерности агрегация по времени приводит к ухудшению как accuracy, так и ROC-AUC.\n",
    "\n",
    "Лучшие результаты - при агрегации по 2 дням - наилучшие здесь ROC-AUC и accuracy для агрегации по времени => будем далее экспериментировать с этой конфигурацией. Попробуем добавить в дни, в которые не было ни одной транзакции специальные транзакции-индикаторы, означающие отсутствие в этот день транзакций. \n",
    "\n",
    "Как оказалось, для конфигурации c транзакциями-индикаторами результаты оказались значительно хуже по метрикам, чем для обычной агрегации по 2 дням, и хуже, чем бейзлайн.\n",
    "\n",
    "**Лучший по метрикам результат:**\n",
    "\n",
    "- CPC context embeds (w/ Aggregation by Days, 2 days) + Catboost (dim of trx embeds: 8):\n",
    "  - `Accuracy: 0.74`, `0.734`, `0.736`, avg: `0.7367 +- 0.0025`\n",
    "  - `ROC-AUC: 0.8262129478234124`, `0.8055721940716517`, `0.8071586990659048`, avg: `0.813 +- 0.0094`"
   ]
  },
  {
   "cell_type": "markdown",
   "metadata": {},
   "source": [
    "---"
   ]
  },
  {
   "cell_type": "markdown",
   "metadata": {},
   "source": [
    "# Итоги"
   ]
  },
  {
   "cell_type": "markdown",
   "metadata": {},
   "source": [
    "| Method|Accuracy|ROC-AUC|\n",
    "| --- |:---:|:---:|\n",
    "| **Flattened Sequences**               | 0.67 ± 0.0046         | 0.7536 ± 0.003  |\n",
    "| **GRU (+ MLP)**                       | 0.746 ± 0.0076        | 0.8148 ± 0.0037 |\n",
    "| **CoLES**                             | 0.726 ± 0.0071        | 0.8076 ± 0.0025 |\n",
    "| **COLES embeds + AggByDays (1 day)**  | 0.742 ± 0.0156        | 0.8116 ± 0.003  |\n",
    "| **CPC Modeling (emb_dim=32)**         | 0.747 ± 0.0041        | 0.8099 ± 0.0035 |\n",
    "| **CPC Modeling (emb_dim=32) + AggByDays (2 days)** | 0.744 ± 0.0065        | 0.8204 ± 0.0016 |\n",
    "| **CPC Modeling (emb_dim=8)**          | 0.747 ± 0.0052        | 0.8165 ± 0.0032 |\n",
    "| **CPC Modeling (emb_dim=8) + AggByDays (2 days)**  | 0.7367 ± 0.0025        | 0.813 ± 0.0094 |\n",
    "| **TD-GPT**                            | 0.73 ± 0.0049         | 0.7949 ± 0.0065 |\n",
    "| **TD-GPT + AggByDays** |   -      | - |\n",
    "\n",
    "\n",
    "---\n",
    "\n",
    "`'-'` means that method is not applicable here."
   ]
  }
 ],
 "metadata": {
  "colab": {
   "authorship_tag": "ABX9TyNf/d19uVxFxPMfFmtk3j7z",
   "provenance": []
  },
  "kaggle": {
   "accelerator": "none",
   "dataSources": [],
   "dockerImageVersionId": 30919,
   "isGpuEnabled": false,
   "isInternetEnabled": true,
   "language": "python",
   "sourceType": "notebook"
  },
  "kernelspec": {
   "display_name": "Python 3",
   "language": "python",
   "name": "python3"
  },
  "language_info": {
   "codemirror_mode": {
    "name": "ipython",
    "version": 3
   },
   "file_extension": ".py",
   "mimetype": "text/x-python",
   "name": "python",
   "nbconvert_exporter": "python",
   "pygments_lexer": "ipython3",
   "version": "3.10.12"
  }
 },
 "nbformat": 4,
 "nbformat_minor": 4
}
